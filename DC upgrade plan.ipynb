{
 "cells": [
  {
   "cell_type": "markdown",
   "metadata": {},
   "source": [
    "## Fridge upgrades"
   ]
  },
  {
   "cell_type": "markdown",
   "metadata": {},
   "source": [
    "### Instrumentation"
   ]
  },
  {
   "cell_type": "markdown",
   "metadata": {},
   "source": [
    "- Check noise spectrum on DC end (<100kHz), specifically for positive/negative biasing."
   ]
  },
  {
   "cell_type": "markdown",
   "metadata": {},
   "source": [
    "### Make new cables"
   ]
  },
  {
   "cell_type": "markdown",
   "metadata": {},
   "source": [
    "- Remake the I, V splitting Fisher probing line.\n",
    "- Remake ISO, COM x2 Fisher-BNC cables."
   ]
  },
  {
   "cell_type": "markdown",
   "metadata": {},
   "source": [
    "### Maintain old sample holder"
   ]
  },
  {
   "cell_type": "markdown",
   "metadata": {},
   "source": [
    "- Fix pin 5b\n",
    "- Replace R_ser=100kohm w/ 1Mohm metal film resistor.\n",
    "- Add Cg for filtering.\n",
    "- Considering adding on-chip RC filtering."
   ]
  },
  {
   "cell_type": "markdown",
   "metadata": {},
   "source": [
    "### Make new sample holder"
   ]
  },
  {
   "cell_type": "markdown",
   "metadata": {},
   "source": [
    "## Room-T characterization protocal"
   ]
  },
  {
   "cell_type": "markdown",
   "metadata": {},
   "source": [
    "### General protocol at wirebonder"
   ]
  },
  {
   "cell_type": "markdown",
   "metadata": {},
   "source": [
    "- Eliminate the substrate shunting concerns by:\n",
    "    1. Cooling substrate in LN2 bath. The drawbacks are \n",
    "        1. heavy condensation on chip surface after warm up which leaves water marks on the devices and \n",
    "        2. if the bonds weren't strong enough it might create some weak links in contacts which is difficult to noticed in 4-probe measurement.\n",
    "        3. it doesn't allow 2-probe measurement for quick debug on which contact(s) when it failed. \n",
    "    2. Cover the substrate in order to lower light intensity. The only concern is we do not know if light is dimmed enough. Maybe adding blocks until R saturates? Also for more resistive samples there's still $1M\\Omega$ shunt in the heavy-blocking environments.\n",
    "    3. Make the device on SiOx substrate. The problem is we do not know if the crystalline is the same as deposited on intrinsic Si. (For example Plamen noticed somehow the resistance on Si is higher for gr-Al meanders compared to the meanders grown on SiO2)\n",
    "- Secure reliable reading by using 2-probes to make sure all readings make sense, including:\n",
    "    1. Probing on same total length of metal strips should have similar readings\n",
    "    2. No open points (common), no short points (rare). Be advised that even with strong physical bonding under microscope the bond could still be electrically open-circuited!\n",
    "    (<span class=\"mark\">Indicating that the surface of the gold pad on chip carrier should be thoroughly cleaned at some point in the near future</span>) "
   ]
  },
  {
   "cell_type": "markdown",
   "metadata": {},
   "source": [
    "### Junction chain"
   ]
  },
  {
   "cell_type": "markdown",
   "metadata": {
    "heading_collapsed": true
   },
   "source": [
    "## LaTex test"
   ]
  },
  {
   "cell_type": "markdown",
   "metadata": {
    "hidden": true
   },
   "source": [
    "https://jupyter-notebook.readthedocs.io/en/stable/examples/Notebook/Typesetting%20Equations.html#Equation-Numbering-and-References"
   ]
  },
  {
   "cell_type": "markdown",
   "metadata": {
    "hidden": true
   },
   "source": [
    "\\begin{equation}\\label{eq:2}\n",
    "\\left( \\sum_{k=1}^n a_k b_k \\right)^2 \\leq \\left( \\sum_{k=1}^n a_k^2 \\right) \\left( \\sum_{k=1}^n b_k^2 \\right)\n",
    "\\end{equation}\n",
    "\n",
    "\\begin{equation}\\label{eq:1}\n",
    "A = B \\mu\n",
    "\\end{equation}"
   ]
  },
  {
   "cell_type": "markdown",
   "metadata": {
    "hidden": true
   },
   "source": [
    "By citing equation \\ref{eq:1} we understood..."
   ]
  },
  {
   "cell_type": "markdown",
   "metadata": {
    "hidden": true
   },
   "source": [
    "Now let's take a look on \\ref{eq:2} we understood..."
   ]
  }
 ],
 "metadata": {
  "anaconda-cloud": {},
  "kernelspec": {
   "display_name": "Python 3",
   "language": "python",
   "name": "python3"
  },
  "language_info": {
   "codemirror_mode": {
    "name": "ipython",
    "version": 3
   },
   "file_extension": ".py",
   "mimetype": "text/x-python",
   "name": "python",
   "nbconvert_exporter": "python",
   "pygments_lexer": "ipython3",
   "version": "3.7.1"
  },
  "latex_envs": {
   "LaTeX_envs_menu_present": true,
   "autoclose": false,
   "autocomplete": true,
   "bibliofile": "biblio.bib",
   "cite_by": "number",
   "current_citInitial": 1,
   "eqLabelWithNumbers": true,
   "eqNumInitial": 1,
   "hotkeys": {
    "equation": "Ctrl-E",
    "itemize": "Ctrl-I"
   },
   "labels_anchors": false,
   "latex_user_defs": false,
   "report_style_numbering": false,
   "user_envs_cfg": false
  },
  "nbpresent": {
   "slides": {
    "15d0acb2-e02a-414a-af9f-95592a5c6fdd": {
     "id": "15d0acb2-e02a-414a-af9f-95592a5c6fdd",
     "prev": null,
     "regions": {
      "17e8c7af-d5f0-433e-bf9a-c9786acfb1be": {
       "attrs": {
        "height": 0.8,
        "width": 0.8,
        "x": 0.1,
        "y": 0.1
       },
       "content": {
        "cell": "06f612c4-ad7e-4bd5-8f0b-3decd73e8d8a",
        "part": "whole"
       },
       "id": "17e8c7af-d5f0-433e-bf9a-c9786acfb1be"
      }
     }
    },
    "4f4fa0de-ca1a-44c2-9098-b72d71e2ad1f": {
     "id": "4f4fa0de-ca1a-44c2-9098-b72d71e2ad1f",
     "prev": "50a40ad8-5cb1-42ea-96df-4356394bd002",
     "regions": {
      "973f7095-bbbc-400a-979e-c8fdb0ceb3b9": {
       "attrs": {
        "height": 0.8,
        "width": 0.8,
        "x": 0.1,
        "y": 0.1
       },
       "content": {
        "cell": "28382496-bb67-4ad6-b4c7-24294d96d14f",
        "part": "whole"
       },
       "id": "973f7095-bbbc-400a-979e-c8fdb0ceb3b9"
      }
     }
    },
    "50a40ad8-5cb1-42ea-96df-4356394bd002": {
     "id": "50a40ad8-5cb1-42ea-96df-4356394bd002",
     "prev": "8c1aef96-823b-4abf-86db-3e57f73a099f",
     "regions": {
      "d9702f53-a770-4007-b165-1d3f2f676eb5": {
       "attrs": {
        "height": 0.8,
        "width": 0.8,
        "x": 0.1,
        "y": 0.1
       },
       "content": {
        "cell": "2273abfd-94d1-48b3-81be-e9692a577627",
        "part": "whole"
       },
       "id": "d9702f53-a770-4007-b165-1d3f2f676eb5"
      }
     }
    },
    "8c1aef96-823b-4abf-86db-3e57f73a099f": {
     "id": "8c1aef96-823b-4abf-86db-3e57f73a099f",
     "prev": "15d0acb2-e02a-414a-af9f-95592a5c6fdd",
     "regions": {
      "9c3b8c99-6a2e-4726-9ec6-29163f2affec": {
       "attrs": {
        "height": 0.8,
        "width": 0.8,
        "x": 0.1,
        "y": 0.1
       },
       "content": {
        "cell": "b7b0691e-4105-4a24-b066-f5ff7e73f358",
        "part": "whole"
       },
       "id": "9c3b8c99-6a2e-4726-9ec6-29163f2affec"
      }
     }
    }
   },
   "themes": {}
  },
  "toc": {
   "base_numbering": 1,
   "nav_menu": {},
   "number_sections": true,
   "sideBar": true,
   "skip_h1_title": false,
   "title_cell": "Table of Contents",
   "title_sidebar": "Contents",
   "toc_cell": false,
   "toc_position": {
    "height": "calc(100% - 180px)",
    "left": "10px",
    "top": "150px",
    "width": "295px"
   },
   "toc_section_display": true,
   "toc_window_display": true
  },
  "varInspector": {
   "cols": {
    "lenName": 16,
    "lenType": 16,
    "lenVar": 40
   },
   "kernels_config": {
    "python": {
     "delete_cmd_postfix": "",
     "delete_cmd_prefix": "del ",
     "library": "var_list.py",
     "varRefreshCmd": "print(var_dic_list())"
    },
    "r": {
     "delete_cmd_postfix": ") ",
     "delete_cmd_prefix": "rm(",
     "library": "var_list.r",
     "varRefreshCmd": "cat(var_dic_list()) "
    }
   },
   "types_to_exclude": [
    "module",
    "function",
    "builtin_function_or_method",
    "instance",
    "_Feature"
   ],
   "window_display": false
  }
 },
 "nbformat": 4,
 "nbformat_minor": 1
}
