{
 "cells": [
  {
   "cell_type": "markdown",
   "metadata": {},
   "source": [
    "## Environment setup"
   ]
  },
  {
   "cell_type": "markdown",
   "metadata": {},
   "source": [
    "### Library preparation"
   ]
  },
  {
   "cell_type": "code",
   "execution_count": 2,
   "metadata": {},
   "outputs": [
    {
     "name": "stdout",
     "output_type": "stream",
     "text": [
      "The autoreload extension is already loaded. To reload it, use:\n",
      "  %reload_ext autoreload\n"
     ]
    }
   ],
   "source": [
    "%matplotlib notebook\n",
    "%load_ext autoreload\n",
    "%autoreload 2"
   ]
  },
  {
   "cell_type": "code",
   "execution_count": 2,
   "metadata": {},
   "outputs": [],
   "source": [
    "from si_prefix import si_format\n",
    "from tqdm import tqdm, tqdm_notebook\n",
    "\n",
    "import pandas as pd\n",
    "import numpy as np\n",
    "import matplotlib.pyplot as plt\n",
    "\n",
    "import qcodes as qc\n",
    "# from qcodes import Station, load_by_run_spec, load_by_guid\n",
    "# from qcodes.instrument.base import Instrument\n",
    "# from qcodes.dataset.experiment_container import (Experiment,\n",
    "#                                                  load_last_experiment,\n",
    "#                                                  new_experiment)\n",
    "# from qcodes.dataset.database import initialise_database\n",
    "# from qcodes.dataset.measurements import Measurement\n",
    "# from qcodes.dataset.plotting import plot_by_id, get_data_by_id, plot_dataset\n",
    "# from qcodes.dataset.data_set import load_by_id\n",
    "# # from qcodes.dataset.data_export import get_shaped_data_by_runidb"
   ]
  },
  {
   "cell_type": "code",
   "execution_count": 3,
   "metadata": {
    "scrolled": false
   },
   "outputs": [],
   "source": [
    "from qcodes.instrument_drivers.Lakeshore.Model_372 import Model_372\n",
    "from qcodes.instrument_drivers.tektronix.AWG3252_Isrc import AWG3252_Isrc\n",
    "from qcodes.instrument_drivers.HP.HP34401 import HP34401\n",
    "from qcodes.instrument_drivers.HP.HP34401_DL1201 import HP34401_DL1201\n",
    "from qcodes.instrument_drivers.Keithley.Keithley_2600_channels import *\n",
    "from qcodes.instrument_drivers.tektronix.AWG5204_Isrc import AWG5204_Isrc\n",
    "\n",
    "from qcodes.instrument_drivers.Keysight.Keysight_B2962A_Isrc import B2962A_Isrc\n",
    "\n",
    "\n",
    "from qcodes.instrument_drivers.Keithley.Keithley_6220 import Keithley_6220\n",
    "from qcodes.instrument_drivers.Keithley.Keithley_6220_Isrc import Keithley_6220_Isrc"
   ]
  },
  {
   "cell_type": "code",
   "execution_count": 4,
   "metadata": {},
   "outputs": [
    {
     "name": "stderr",
     "output_type": "stream",
     "text": [
      "C:\\Users\\KelvinOX25\\Anaconda3\\lib\\site-packages\\qcodes\\dataset\\database.py:13: UserWarning: The module `qcodes.dataset.database` is deprecated.\n",
      "Public features are available at the import of `qcodes`.\n",
      "Private features are available in `qcodes.dataset.sqlite.*` modules.\n",
      "  warnings.warn('The module `qcodes.dataset.database` is deprecated.\\n'\n",
      "C:\\Users\\KelvinOX25\\Anaconda3\\lib\\site-packages\\tqdm\\autonotebook.py:17: TqdmExperimentalWarning: Using `tqdm.autonotebook.tqdm` in notebook mode. Use `tqdm.tqdm` instead to force console mode (e.g. in jupyter console)\n",
      "  \" (e.g. in jupyter console)\", TqdmExperimentalWarning)\n"
     ]
    }
   ],
   "source": [
    "import sys \n",
    "sys.path.append('..\\..\\_jjtools')\n",
    "\n",
    "# from Exps import *\n",
    "\n",
    "from JJ_data_processing import read_opj_data, pbi, bpbi, show_df, update_df\n",
    "\n",
    "from JJformulas import *\n",
    "# from meas_util import *\n",
    "\n",
    "from JJmeasurement import *"
   ]
  },
  {
   "cell_type": "markdown",
   "metadata": {},
   "source": [
    "### Instrument nicknames and QC database initialization"
   ]
  },
  {
   "cell_type": "code",
   "execution_count": 7,
   "metadata": {},
   "outputs": [
    {
     "name": "stdout",
     "output_type": "stream",
     "text": [
      "Connected to: Keithley Instruments Inc. 2602A (serial:1272049, firmware:2.1.5) in 0.10s\n"
     ]
    },
    {
     "name": "stderr",
     "output_type": "stream",
     "text": [
      "[K6220(Keithley_6220_Isrc)] Snapshot: Could not update parameter: I\n",
      "[K6220(Keithley_6220_Isrc)] Snapshot: Could not update parameter: Irange\n"
     ]
    },
    {
     "name": "stdout",
     "output_type": "stream",
     "text": [
      "Instrument initialization completed.\n"
     ]
    }
   ],
   "source": [
    "try:\n",
    "   Instrument.close_all()\n",
    "except KeyError:\n",
    "   pass    \n",
    "except NameError:\n",
    "   pass \n",
    "\n",
    "K2602 =  Keithley_2600(name = 'K2602', address = \"GPIB::26::INSTR\" )\n",
    "Flux_chA = K2602.smua.curr\n",
    "Flux_chB = K2602.smub.curr\n",
    "\n",
    "Bfield =  Flux_chA\n",
    "Bfield.step = 10e-6\n",
    "Bfield.inter_delay = .1\n",
    "\n",
    "\n",
    "\n",
    "# Isrc = AWG5204_Isrc('gen', 'TCPIP0::AWG52000-XXXX::inst0::INSTR', ch = 1, R_bias = 1e9, Attn = 1, timeout = 20)\n",
    "\n",
    "\n",
    "# Isrc = Keithley_6220(name = 'K6220', address = \"GPIB::13::INSTR\" )\n",
    "# Isrc.set_R_Attn ( R_bias = 1, Attn = 1 )\n",
    "\n",
    "\n",
    "\n",
    "\n",
    "# Isrc = AWG3252_Isrc('gen', 'TCPIP0::192.168.13.32::inst0::INSTR', \n",
    "#                     R_bias = 1e9, Attn = 10)\n",
    "# Isrc.init()\n",
    "\n",
    "Vmeter = HP34401_DL1201('meter', 'GPIB0::8::INSTR', Gain = 1e2)\n",
    "Vmeter.init('fast 6')\n",
    "\n",
    "\n",
    "# Isrc = Keithley_6220_Isrc(name = 'K6220', address = \"GPIB::13::INSTR\",\n",
    "#                           Rsh = 10e6, Rb = 1e9, Vmeter = Vmeter)\n",
    "\n",
    "\n",
    "Isrc = Keithley_6220_Isrc(name = 'K6220', address = \"GPIB::13::INSTR\",\n",
    "                          Rsh = 10.041e3, Rb = 2.2e6, Vmeter = Vmeter)\n",
    "\n",
    "\n",
    "station = qc.Station(Isrc, Vmeter)\n",
    "\n",
    "print ('Instrument initialization completed.')"
   ]
  },
  {
   "cell_type": "code",
   "execution_count": 8,
   "metadata": {},
   "outputs": [
    {
     "name": "stdout",
     "output_type": "stream",
     "text": [
      "Connected to: LSCI 370 (serial:370665, firmware:04102008) in 0.12s\n"
     ]
    }
   ],
   "source": [
    "\n",
    "LS370 = Model_372(name = 'LS370 input Ch', address = 'GPIB::12::INSTR', terminator='\\n')\n",
    "T8 = LS370.ch08.temperature\n",
    "\n",
    "htr = LS370.sample_heater\n",
    "htr_setpt = htr.setpoint\n",
    "\n",
    "htr_setpt.set(0.020)\n",
    "htr.P.set(30)\n",
    "htr.I.set(5)\n",
    "htr.D.set(1)\n",
    "# PIDset(30,5,1)\n",
    "htr.output_range('3.16mA')"
   ]
  },
  {
   "cell_type": "markdown",
   "metadata": {},
   "source": [
    "### Class JJmeas"
   ]
  },
  {
   "cell_type": "code",
   "execution_count": 9,
   "metadata": {},
   "outputs": [],
   "source": [
    "tools = {'I' : Isrc.I,\n",
    "         'V' : Vmeter.V,\n",
    "         'B' : Flux_chA,\n",
    "         'T': T8,\n",
    "         'htr' : htr_setpt}"
   ]
  },
  {
   "cell_type": "code",
   "execution_count": 11,
   "metadata": {},
   "outputs": [],
   "source": [
    "def setup():\n",
    "    Isrc.I.set(0)\n",
    "#     pass\n",
    "\n",
    "def cleanup():\n",
    "    Isrc.I.set(0) \n",
    "#     Bfield.set(0)\n",
    "\n"
   ]
  },
  {
   "cell_type": "code",
   "execution_count": 109,
   "metadata": {},
   "outputs": [],
   "source": [
    "jj = JJmeas(sample = 'D085N5', tools = tools)\n",
    "jj.setup = setup\n",
    "jj.cleanup = cleanup\n",
    "\n",
    "jj.ZF   = -10e-6\n",
    "jj.FF   = 215e-6"
   ]
  },
  {
   "cell_type": "code",
   "execution_count": 541,
   "metadata": {},
   "outputs": [
    {
     "data": {
      "text/plain": [
       "{'B': '-93.0 µA', 'I': '-338.3 fA'}"
      ]
     },
     "execution_count": 541,
     "metadata": {},
     "output_type": "execute_result"
    }
   ],
   "source": [
    "jj.tool_status(['B', 'I'])"
   ]
  },
  {
   "cell_type": "markdown",
   "metadata": {},
   "source": [
    "## Measurement"
   ]
  },
  {
   "cell_type": "markdown",
   "metadata": {},
   "source": [
    "#### Iscr choise"
   ]
  },
  {
   "cell_type": "code",
   "execution_count": 25,
   "metadata": {},
   "outputs": [
    {
     "data": {
      "text/plain": [
       "'2.000000E-04\\n'"
      ]
     },
     "execution_count": 25,
     "metadata": {},
     "output_type": "execute_result"
    }
   ],
   "source": [
    "Isrc.ask_raw('SOUR:CURR:RANG?')"
   ]
  },
  {
   "cell_type": "code",
   "execution_count": 171,
   "metadata": {},
   "outputs": [],
   "source": [
    "Isrc.write_raw('SOUR:CURR:RANG 1e-4')\n",
    "Isrc.I.set(0.0e-9)"
   ]
  },
  {
   "cell_type": "markdown",
   "metadata": {},
   "source": [
    "#### Vmeter regime"
   ]
  },
  {
   "cell_type": "code",
   "execution_count": 18,
   "metadata": {},
   "outputs": [],
   "source": [
    "Vmeter.init('fast 6')"
   ]
  },
  {
   "cell_type": "code",
   "execution_count": 152,
   "metadata": {},
   "outputs": [
    {
     "data": {
      "text/plain": [
       "5.9592217e-05"
      ]
     },
     "execution_count": 152,
     "metadata": {},
     "output_type": "execute_result"
    }
   ],
   "source": [
    "jj.meas_Voffset(0)"
   ]
  },
  {
   "cell_type": "markdown",
   "metadata": {},
   "source": [
    "### IVCs"
   ]
  },
  {
   "cell_type": "code",
   "execution_count": 193,
   "metadata": {},
   "outputs": [],
   "source": [
    "jj.stabilize_I( amp = 1e-9)"
   ]
  },
  {
   "cell_type": "markdown",
   "metadata": {},
   "source": [
    "#### wide scan"
   ]
  },
  {
   "cell_type": "code",
   "execution_count": 89,
   "metadata": {},
   "outputs": [
    {
     "data": {
      "text/plain": [
       "'2.000000E-03\\n'"
      ]
     },
     "execution_count": 89,
     "metadata": {},
     "output_type": "execute_result"
    }
   ],
   "source": [
    "Isrc.ask_raw('SOUR:CURR:RANG?')"
   ]
  },
  {
   "cell_type": "code",
   "execution_count": 31,
   "metadata": {},
   "outputs": [
    {
     "data": {
      "text/plain": [
       "'1\\n'"
      ]
     },
     "execution_count": 31,
     "metadata": {},
     "output_type": "execute_result"
    }
   ],
   "source": [
    "Isrc.ask_raw('OUTP?')"
   ]
  },
  {
   "cell_type": "code",
   "execution_count": 98,
   "metadata": {},
   "outputs": [],
   "source": [
    "ZF = -10e-6\n",
    "FF = 215e-6\n",
    "# drop 6220 range down to 200uA, which allows\n",
    "# I_step to be 200nA*1e-3 = 0.2nA"
   ]
  },
  {
   "cell_type": "code",
   "execution_count": 190,
   "metadata": {},
   "outputs": [
    {
     "name": "stdout",
     "output_type": "stream",
     "text": [
      "0.0\n"
     ]
    },
    {
     "data": {
      "application/vnd.jupyter.widget-view+json": {
       "model_id": "",
       "version_major": 2,
       "version_minor": 0
      },
      "text/plain": [
       "HBox(children=(IntProgress(value=0, max=403), HTML(value='')))"
      ]
     },
     "metadata": {},
     "output_type": "display_data"
    },
    {
     "name": "stdout",
     "output_type": "stream",
     "text": [
      "Starting experimental run with id: 763\n"
     ]
    },
    {
     "data": {
      "text/plain": [
       "763"
      ]
     },
     "execution_count": 190,
     "metadata": {},
     "output_type": "execute_result"
    }
   ],
   "source": [
    "#B = jj.cos_to_B(0)\n",
    "\n",
    "B = 0\n",
    "\n",
    "print(B*1e3)\n",
    "\n",
    "Bfield.set(B)\n",
    "\n",
    "\n",
    "jj.IVC_udu (amp = 500e-9, stp = 5e-9, dt = .1,  N_avg = 1, \n",
    "            label = 'kei full ivc 5b-5f')\n",
    "\n"
   ]
  },
  {
   "cell_type": "code",
   "execution_count": null,
   "metadata": {
    "scrolled": true
   },
   "outputs": [],
   "source": [
    "tlst = []\n",
    "segName = '5b'\n",
    "\n",
    "t0 = time.time()\n",
    "Bfield.set(0)\n",
    "Blst = [ZF,FF]\n",
    "for B in Blst:\n",
    "    Bfield.set(B)\n",
    "    print('setting B:{}A'.format(si_format(B)))\n",
    "    jj.IVC_udu (amp = 0.2e-6, stp = 5e-9, dt = .1,  N_avg = 1, \n",
    "                label = 'kei IVf B:{}A, {}'.format(si_format(B),segName))\n",
    "tlst += [(time.time()-t0)/60]\n",
    "    \n",
    "t0 = time.time()\n",
    "Bfield.set(0)\n",
    "Blst = np.arange(100e-6,350e-6,5e-6)-190e-6\n",
    "for B in Blst:\n",
    "    Bfield.set(B)\n",
    "    print('setting B:{}A'.format(si_format(B)))\n",
    "    jj.IVC_udu (amp = 0.2e-6, stp = 5e-9, dt = .1,  N_avg = 1, \n",
    "                label = 'kei Bscan fine_ZF B:{}A, {}'.format(si_format(B),segName))\n",
    "tlst += [(time.time()-t0)/60]\n",
    "\n",
    "t0 = time.time()\n",
    "Bfield.set(0)\n",
    "Blst = np.arange(100e-6,350e-6,5e-6)\n",
    "for B in Blst:\n",
    "    Bfield.set(B)\n",
    "    print('setting B:{}A'.format(si_format(B)))\n",
    "    jj.IVC_udu (amp = 0.1e-6, stp = 2e-9, dt = .1,  N_avg = 1, \n",
    "                label = 'kei Bscan fine_FF B:{}A, {}'.format(si_format(B),segName))\n",
    "tlst += [(time.time()-t0)/60]\n",
    "\n",
    "print(tlst)"
   ]
  },
  {
   "cell_type": "code",
   "execution_count": null,
   "metadata": {
    "scrolled": true
   },
   "outputs": [],
   "source": [
    "segName = '5b'\n",
    "\n",
    "Blst = [0]*40\n",
    "for B in Blst:\n",
    "    Bfield.set(B)\n",
    "    print('setting B:{}A'.format(si_format(B)))\n",
    "    jj.IVC_udu (amp =0.3e-6, stp = 2e-9, dt = .1,  N_avg = 1, \n",
    "                label = 'kei peri. stoch B:{}A, {}'.format(si_format(B),segName))"
   ]
  },
  {
   "cell_type": "code",
   "execution_count": null,
   "metadata": {},
   "outputs": [],
   "source": [
    "segName = '5b'\n",
    "\n",
    "Bfield.set(0)\n",
    "Blst = np.linspace(1.7,2.1,9)*1e-4\n",
    "for B in Blst:\n",
    "    Bfield.set(B)\n",
    "    print('setting B:{}A'.format(si_format(B)))\n",
    "    jj.IVC_udu (amp = 0.020e-6, stp = 0.5e-9, dt = .1,  N_avg = 1, \n",
    "                label = 'kei B:{}A, {}'.format(si_format(B),segName))"
   ]
  },
  {
   "cell_type": "code",
   "execution_count": null,
   "metadata": {},
   "outputs": [],
   "source": [
    "jj.B_to_cos(140e-6)"
   ]
  },
  {
   "cell_type": "markdown",
   "metadata": {},
   "source": [
    "#### fine scan"
   ]
  },
  {
   "cell_type": "code",
   "execution_count": 126,
   "metadata": {},
   "outputs": [
    {
     "data": {
      "text/plain": [
       "'2.000000E-06\\n'"
      ]
     },
     "execution_count": 126,
     "metadata": {},
     "output_type": "execute_result"
    }
   ],
   "source": [
    "Isrc.ask_raw('CURR:RANG?')"
   ]
  },
  {
   "cell_type": "code",
   "execution_count": null,
   "metadata": {},
   "outputs": [],
   "source": [
    "segName = '5b'\n",
    "\n",
    "Bfield.set(0)\n",
    "T0 = time.time()\n",
    "# Blst = [150e-6,160e-6,170e-6,180e-6] #runid 544,545,546,547\n",
    "# Blst = np.linspace(180,230,11)*1e-6 #runid range(550, 560+1)\n",
    "# Blst = np.linspace(195,230,9)*1e-6 #runid range(561,569+1)\n",
    "Blst = np.linspace(195,200,11)*1e-6\n",
    "for B in Blst:\n",
    "    Bfield.set(B)\n",
    "    print('setting B:{}A'.format(si_format(B)))\n",
    "#     jj.IVC_udu (amp = 20e-9, stp = 0.2e-9, dt = .1,  N_avg = 1, \n",
    "#     jj.IVC_udu (amp = 2e-9, stp = 0.02e-9, dt = .1,  N_avg = 1, \n",
    "    jj.IVC_udu (amp = 0.4e-9, stp = 0.004e-9, dt = .1,  N_avg = 1, \n",
    "                label = 'kei B:{}A, {}'.format(si_format(B),segName))\n",
    "print(f'time cost:{(time.time()-T0)//60}')"
   ]
  },
  {
   "cell_type": "code",
   "execution_count": 196,
   "metadata": {
    "scrolled": true
   },
   "outputs": [
    {
     "name": "stdout",
     "output_type": "stream",
     "text": [
      "0.0\n"
     ]
    },
    {
     "data": {
      "application/vnd.jupyter.widget-view+json": {
       "model_id": "",
       "version_major": 2,
       "version_minor": 0
      },
      "text/plain": [
       "HBox(children=(IntProgress(value=0, max=403), HTML(value='')))"
      ]
     },
     "metadata": {},
     "output_type": "display_data"
    },
    {
     "name": "stdout",
     "output_type": "stream",
     "text": [
      "Starting experimental run with id: 768\n"
     ]
    },
    {
     "data": {
      "text/plain": [
       "768"
      ]
     },
     "execution_count": 196,
     "metadata": {},
     "output_type": "execute_result"
    }
   ],
   "source": [
    "# B = jj.cos_to_B(0.44)\n",
    "B = 0e-6\n",
    "\n",
    "print(B*1e3)\n",
    "\n",
    "Bfield.set(B)\n",
    "jj.IVC_udu (amp = 200e-9, stp = 2e-9, dt = .1,  N_avg = 1, \n",
    "            label = '5b-5f fine scan')"
   ]
  },
  {
   "cell_type": "code",
   "execution_count": null,
   "metadata": {
    "scrolled": true
   },
   "outputs": [],
   "source": [
    "imin = .5e-12\n",
    "\n",
    "i_list =   np.concatenate ([np.linspace(0    , 35e-12, 21), \n",
    "                            np.linspace(12e-12, imin, 21),\n",
    "                            np.linspace(imin, 12e-12, 251),\n",
    "                            np.linspace(12e-12,  0e-12, 21)]) \n",
    "\n",
    "jj.IVC_cust ( i_list, Ioff = 0, dt = 0.1, N_avg = 1, label = 'B=0m intermid steps')"
   ]
  },
  {
   "cell_type": "markdown",
   "metadata": {},
   "source": [
    "### Ic meas"
   ]
  },
  {
   "cell_type": "code",
   "execution_count": 572,
   "metadata": {},
   "outputs": [
    {
     "data": {
      "application/vnd.jupyter.widget-view+json": {
       "model_id": "",
       "version_major": 2,
       "version_minor": 0
      },
      "text/plain": [
       "HBox(children=(IntProgress(value=0, max=101), HTML(value='')))"
      ]
     },
     "metadata": {},
     "output_type": "display_data"
    },
    {
     "name": "stdout",
     "output_type": "stream",
     "text": [
      "Starting experimental run with id: 1185\n"
     ]
    },
    {
     "data": {
      "text/plain": [
       "1185"
      ]
     },
     "execution_count": 572,
     "metadata": {},
     "output_type": "execute_result"
    }
   ],
   "source": [
    "B = 0e-6\n",
    "Bfield.set(B)\n",
    "\n",
    "i_list = np.linspace(0, 200e-12, 101)\n",
    "\n",
    "jj.IVC_cust (i_list, Vthr = 30e-6, dt = 0.1,\n",
    "             N_avg = 1, label = 'Kei Ic highRb RT cos = 1')"
   ]
  },
  {
   "cell_type": "markdown",
   "metadata": {},
   "source": [
    "### Time scan"
   ]
  },
  {
   "cell_type": "code",
   "execution_count": 513,
   "metadata": {},
   "outputs": [
    {
     "data": {
      "application/vnd.jupyter.widget-view+json": {
       "model_id": "fbe83d9f1589443081ea8466a47c78fd",
       "version_major": 2,
       "version_minor": 0
      },
      "text/plain": [
       "HBox(children=(IntProgress(value=0, max=300), HTML(value='')))"
      ]
     },
     "metadata": {},
     "output_type": "display_data"
    },
    {
     "name": "stdout",
     "output_type": "stream",
     "text": [
      "Starting experimental run with id: 1093\n",
      "\n"
     ]
    },
    {
     "data": {
      "text/plain": [
       "1093"
      ]
     },
     "execution_count": 513,
     "metadata": {},
     "output_type": "execute_result"
    }
   ],
   "source": [
    "# Bfield.set(0e-3)\n",
    "jj.time_scan ( tools['I'], dur = 30, dt= 0.1)"
   ]
  },
  {
   "cell_type": "code",
   "execution_count": null,
   "metadata": {
    "scrolled": true
   },
   "outputs": [],
   "source": [
    "B_list = np.linspace(0e-3, .3e-3, 51)\n",
    "\n",
    "[            jj.time_scan ( tools['V'], dur = 1, dt= 0.01)\n",
    "for jj in    jj.Bscan( B_list = B_list )]"
   ]
  },
  {
   "cell_type": "markdown",
   "metadata": {},
   "source": [
    "### IVC B"
   ]
  },
  {
   "cell_type": "markdown",
   "metadata": {},
   "source": [
    "#### New syntaxis to try"
   ]
  },
  {
   "cell_type": "code",
   "execution_count": 144,
   "metadata": {
    "scrolled": true
   },
   "outputs": [
    {
     "data": {
      "application/vnd.jupyter.widget-view+json": {
       "model_id": "f7f129283c68443a96a5d5b9f213827f",
       "version_major": 2,
       "version_minor": 0
      },
      "text/plain": [
       "HBox(children=(IntProgress(value=0, max=11), HTML(value='')))"
      ]
     },
     "metadata": {},
     "output_type": "display_data"
    },
    {
     "data": {
      "application/vnd.jupyter.widget-view+json": {
       "model_id": "2e9d81b6357e4719bbd4045635fad56c",
       "version_major": 2,
       "version_minor": 0
      },
      "text/plain": [
       "HBox(children=(IntProgress(value=0, max=803), HTML(value='')))"
      ]
     },
     "metadata": {},
     "output_type": "display_data"
    },
    {
     "name": "stdout",
     "output_type": "stream",
     "text": [
      "Starting experimental run with id: 591\n"
     ]
    },
    {
     "name": "stderr",
     "output_type": "stream",
     "text": [
      "An exception occured in measurement with guid: aaaaaaaa-0000-0000-0000-01744cfcfe01;\n",
      "Traceback:\n",
      "Traceback (most recent call last):\n",
      "  File \"..\\..\\_jjtools\\JJmeasurement.py\", line 84, in IVC_cust\n",
      "    is_vs = [[I.get(),V.get()] for _ in range( N_avg)]\n",
      "  File \"..\\..\\_jjtools\\JJmeasurement.py\", line 84, in <listcomp>\n",
      "    is_vs = [[I.get(),V.get()] for _ in range( N_avg)]\n",
      "  File \"C:\\Users\\KelvinOX25\\Anaconda3\\lib\\site-packages\\qcodes\\instrument\\parameter.py\", line 452, in get_wrapper\n",
      "    value = self.get_parser(value)\n",
      "  File \"C:\\Users\\KelvinOX25\\Anaconda3\\lib\\site-packages\\qcodes\\instrument_drivers\\Keithley\\Keithley_6220_Isrc.py\", line 91, in get_I\n",
      "    v = self.Vmeter.V.get() - Voff\n",
      "  File \"C:\\Users\\KelvinOX25\\Anaconda3\\lib\\site-packages\\qcodes\\instrument\\parameter.py\", line 448, in get_wrapper\n",
      "    value = get_function(*args, **kwargs)\n",
      "  File \"C:\\Users\\KelvinOX25\\Anaconda3\\lib\\site-packages\\qcodes\\utils\\command.py\", line 178, in __call__\n",
      "    return self.exec_function(*args)\n",
      "  File \"C:\\Users\\KelvinOX25\\Anaconda3\\lib\\site-packages\\qcodes\\utils\\command.py\", line 127, in call_by_str\n",
      "    return self.exec_str(self.cmd_str.format(*args))\n",
      "  File \"C:\\Users\\KelvinOX25\\Anaconda3\\lib\\site-packages\\qcodes\\instrument\\base.py\", line 759, in ask\n",
      "    answer = self.ask_raw(cmd)\n",
      "  File \"C:\\Users\\KelvinOX25\\Anaconda3\\lib\\site-packages\\qcodes\\instrument\\visa.py\", line 229, in ask_raw\n",
      "    response = self.visa_handle.query(cmd)\n",
      "  File \"C:\\Users\\KelvinOX25\\Anaconda3\\lib\\site-packages\\pyvisa\\resources\\messagebased.py\", line 613, in query\n",
      "    return self.read()\n",
      "  File \"C:\\Users\\KelvinOX25\\Anaconda3\\lib\\site-packages\\pyvisa\\resources\\messagebased.py\", line 427, in read\n",
      "    message = self._read_raw().decode(enco)\n",
      "  File \"C:\\Users\\KelvinOX25\\Anaconda3\\lib\\site-packages\\pyvisa\\resources\\messagebased.py\", line 400, in _read_raw\n",
      "    chunk, status = self.visalib.read(self.session, size)\n",
      "  File \"C:\\Users\\KelvinOX25\\Anaconda3\\lib\\site-packages\\pyvisa\\ctwrapper\\functions.py\", line 1584, in read\n",
      "    ret = library.viRead(session, buffer, count, byref(return_count))\n",
      "  File \"C:\\Users\\KelvinOX25\\Anaconda3\\lib\\site-packages\\pyvisa\\ctwrapper\\highlevel.py\", line 154, in _return_handler\n",
      "    def _return_handler(self, ret_value, func, arguments):\n",
      "KeyboardInterrupt\n",
      "\n"
     ]
    },
    {
     "ename": "KeyboardInterrupt",
     "evalue": "",
     "output_type": "error",
     "traceback": [
      "\u001b[1;31m---------------------------------------------------------------------------\u001b[0m",
      "\u001b[1;31mKeyboardInterrupt\u001b[0m                         Traceback (most recent call last)",
      "\u001b[1;32m<ipython-input-144-57e7bbf922bd>\u001b[0m in \u001b[0;36m<module>\u001b[1;34m\u001b[0m\n\u001b[0;32m      6\u001b[0m [            jj.IVC_udu (amp = 1e-9, stp = 5e-12, dt = .1,\n\u001b[0;32m      7\u001b[0m                          N_avg = 1, label = 'near FF scan ')\n\u001b[1;32m----> 8\u001b[1;33m for jj in    jj.Bscan( cos_list = cos_list )]\n\u001b[0m\u001b[0;32m      9\u001b[0m \u001b[1;33m\u001b[0m\u001b[0m\n\u001b[0;32m     10\u001b[0m \u001b[1;33m\u001b[0m\u001b[0m\n",
      "\u001b[1;32m<ipython-input-144-57e7bbf922bd>\u001b[0m in \u001b[0;36m<listcomp>\u001b[1;34m(.0)\u001b[0m\n\u001b[0;32m      6\u001b[0m [            jj.IVC_udu (amp = 1e-9, stp = 5e-12, dt = .1,\n\u001b[0;32m      7\u001b[0m                          N_avg = 1, label = 'near FF scan ')\n\u001b[1;32m----> 8\u001b[1;33m for jj in    jj.Bscan( cos_list = cos_list )]\n\u001b[0m\u001b[0;32m      9\u001b[0m \u001b[1;33m\u001b[0m\u001b[0m\n\u001b[0;32m     10\u001b[0m \u001b[1;33m\u001b[0m\u001b[0m\n",
      "\u001b[1;32m~\\Documents\\GitHub\\measDC\\_jjtools\\JJmeasurement.py\u001b[0m in \u001b[0;36mIVC_udu\u001b[1;34m(self, amp, stp, **kwargs)\u001b[0m\n\u001b[0;32m    115\u001b[0m \u001b[1;33m\u001b[0m\u001b[0m\n\u001b[0;32m    116\u001b[0m         \u001b[0mi_list\u001b[0m \u001b[1;33m=\u001b[0m \u001b[0mudu_list\u001b[0m\u001b[1;33m(\u001b[0m\u001b[0mamp\u001b[0m\u001b[1;33m,\u001b[0m \u001b[0mstp\u001b[0m\u001b[1;33m)\u001b[0m\u001b[1;33m\u001b[0m\u001b[1;33m\u001b[0m\u001b[0m\n\u001b[1;32m--> 117\u001b[1;33m         \u001b[0mrun_id\u001b[0m \u001b[1;33m=\u001b[0m \u001b[0mself\u001b[0m\u001b[1;33m.\u001b[0m\u001b[0mIVC_cust\u001b[0m \u001b[1;33m(\u001b[0m \u001b[0mi_list\u001b[0m\u001b[1;33m,\u001b[0m \u001b[1;33m**\u001b[0m\u001b[0mkwargs\u001b[0m\u001b[1;33m)\u001b[0m\u001b[1;33m\u001b[0m\u001b[1;33m\u001b[0m\u001b[0m\n\u001b[0m\u001b[0;32m    118\u001b[0m \u001b[1;33m\u001b[0m\u001b[0m\n\u001b[0;32m    119\u001b[0m \u001b[1;33m\u001b[0m\u001b[0m\n",
      "\u001b[1;32m~\\Documents\\GitHub\\measDC\\_jjtools\\JJmeasurement.py\u001b[0m in \u001b[0;36mIVC_cust\u001b[1;34m(self, i_list, Ioff, Vthr, dt, N_avg, label)\u001b[0m\n\u001b[0;32m     82\u001b[0m                 \u001b[0mtime\u001b[0m\u001b[1;33m.\u001b[0m\u001b[0msleep\u001b[0m\u001b[1;33m(\u001b[0m\u001b[0mdt\u001b[0m\u001b[1;33m)\u001b[0m\u001b[1;33m\u001b[0m\u001b[1;33m\u001b[0m\u001b[0m\n\u001b[0;32m     83\u001b[0m \u001b[1;33m\u001b[0m\u001b[0m\n\u001b[1;32m---> 84\u001b[1;33m                 \u001b[0mis_vs\u001b[0m \u001b[1;33m=\u001b[0m \u001b[1;33m[\u001b[0m\u001b[1;33m[\u001b[0m\u001b[0mI\u001b[0m\u001b[1;33m.\u001b[0m\u001b[0mget\u001b[0m\u001b[1;33m(\u001b[0m\u001b[1;33m)\u001b[0m\u001b[1;33m,\u001b[0m\u001b[0mV\u001b[0m\u001b[1;33m.\u001b[0m\u001b[0mget\u001b[0m\u001b[1;33m(\u001b[0m\u001b[1;33m)\u001b[0m\u001b[1;33m]\u001b[0m \u001b[1;32mfor\u001b[0m \u001b[0m_\u001b[0m \u001b[1;32min\u001b[0m \u001b[0mrange\u001b[0m\u001b[1;33m(\u001b[0m \u001b[0mN_avg\u001b[0m\u001b[1;33m)\u001b[0m\u001b[1;33m]\u001b[0m\u001b[1;33m\u001b[0m\u001b[1;33m\u001b[0m\u001b[0m\n\u001b[0m\u001b[0;32m     85\u001b[0m \u001b[1;33m\u001b[0m\u001b[0m\n\u001b[0;32m     86\u001b[0m                 \u001b[0mir\u001b[0m\u001b[1;33m,\u001b[0m \u001b[0mv\u001b[0m \u001b[1;33m=\u001b[0m \u001b[0mnp\u001b[0m\u001b[1;33m.\u001b[0m\u001b[0mmean\u001b[0m\u001b[1;33m(\u001b[0m\u001b[0mis_vs\u001b[0m\u001b[1;33m,\u001b[0m \u001b[0maxis\u001b[0m \u001b[1;33m=\u001b[0m \u001b[1;36m0\u001b[0m\u001b[1;33m)\u001b[0m\u001b[1;33m\u001b[0m\u001b[1;33m\u001b[0m\u001b[0m\n",
      "\u001b[1;32m~\\Documents\\GitHub\\measDC\\_jjtools\\JJmeasurement.py\u001b[0m in \u001b[0;36m<listcomp>\u001b[1;34m(.0)\u001b[0m\n\u001b[0;32m     82\u001b[0m                 \u001b[0mtime\u001b[0m\u001b[1;33m.\u001b[0m\u001b[0msleep\u001b[0m\u001b[1;33m(\u001b[0m\u001b[0mdt\u001b[0m\u001b[1;33m)\u001b[0m\u001b[1;33m\u001b[0m\u001b[1;33m\u001b[0m\u001b[0m\n\u001b[0;32m     83\u001b[0m \u001b[1;33m\u001b[0m\u001b[0m\n\u001b[1;32m---> 84\u001b[1;33m                 \u001b[0mis_vs\u001b[0m \u001b[1;33m=\u001b[0m \u001b[1;33m[\u001b[0m\u001b[1;33m[\u001b[0m\u001b[0mI\u001b[0m\u001b[1;33m.\u001b[0m\u001b[0mget\u001b[0m\u001b[1;33m(\u001b[0m\u001b[1;33m)\u001b[0m\u001b[1;33m,\u001b[0m\u001b[0mV\u001b[0m\u001b[1;33m.\u001b[0m\u001b[0mget\u001b[0m\u001b[1;33m(\u001b[0m\u001b[1;33m)\u001b[0m\u001b[1;33m]\u001b[0m \u001b[1;32mfor\u001b[0m \u001b[0m_\u001b[0m \u001b[1;32min\u001b[0m \u001b[0mrange\u001b[0m\u001b[1;33m(\u001b[0m \u001b[0mN_avg\u001b[0m\u001b[1;33m)\u001b[0m\u001b[1;33m]\u001b[0m\u001b[1;33m\u001b[0m\u001b[1;33m\u001b[0m\u001b[0m\n\u001b[0m\u001b[0;32m     85\u001b[0m \u001b[1;33m\u001b[0m\u001b[0m\n\u001b[0;32m     86\u001b[0m                 \u001b[0mir\u001b[0m\u001b[1;33m,\u001b[0m \u001b[0mv\u001b[0m \u001b[1;33m=\u001b[0m \u001b[0mnp\u001b[0m\u001b[1;33m.\u001b[0m\u001b[0mmean\u001b[0m\u001b[1;33m(\u001b[0m\u001b[0mis_vs\u001b[0m\u001b[1;33m,\u001b[0m \u001b[0maxis\u001b[0m \u001b[1;33m=\u001b[0m \u001b[1;36m0\u001b[0m\u001b[1;33m)\u001b[0m\u001b[1;33m\u001b[0m\u001b[1;33m\u001b[0m\u001b[0m\n",
      "\u001b[1;32m~\\Anaconda3\\lib\\site-packages\\qcodes\\instrument\\parameter.py\u001b[0m in \u001b[0;36mget_wrapper\u001b[1;34m(*args, **kwargs)\u001b[0m\n\u001b[0;32m    450\u001b[0m \u001b[1;33m\u001b[0m\u001b[0m\n\u001b[0;32m    451\u001b[0m                 \u001b[1;32mif\u001b[0m \u001b[0mself\u001b[0m\u001b[1;33m.\u001b[0m\u001b[0mget_parser\u001b[0m \u001b[1;32mis\u001b[0m \u001b[1;32mnot\u001b[0m \u001b[1;32mNone\u001b[0m\u001b[1;33m:\u001b[0m\u001b[1;33m\u001b[0m\u001b[1;33m\u001b[0m\u001b[0m\n\u001b[1;32m--> 452\u001b[1;33m                     \u001b[0mvalue\u001b[0m \u001b[1;33m=\u001b[0m \u001b[0mself\u001b[0m\u001b[1;33m.\u001b[0m\u001b[0mget_parser\u001b[0m\u001b[1;33m(\u001b[0m\u001b[0mvalue\u001b[0m\u001b[1;33m)\u001b[0m\u001b[1;33m\u001b[0m\u001b[1;33m\u001b[0m\u001b[0m\n\u001b[0m\u001b[0;32m    453\u001b[0m \u001b[1;33m\u001b[0m\u001b[0m\n\u001b[0;32m    454\u001b[0m                 \u001b[1;31m# apply offset first (native scale)\u001b[0m\u001b[1;33m\u001b[0m\u001b[1;33m\u001b[0m\u001b[1;33m\u001b[0m\u001b[0m\n",
      "\u001b[1;32m~\\Anaconda3\\lib\\site-packages\\qcodes\\instrument_drivers\\Keithley\\Keithley_6220_Isrc.py\u001b[0m in \u001b[0;36mget_I\u001b[1;34m(self, I)\u001b[0m\n\u001b[0;32m     89\u001b[0m \u001b[1;33m\u001b[0m\u001b[0m\n\u001b[0;32m     90\u001b[0m         \u001b[0mVoff\u001b[0m \u001b[1;33m=\u001b[0m \u001b[0mself\u001b[0m\u001b[1;33m.\u001b[0m\u001b[0mVmeter\u001b[0m\u001b[1;33m.\u001b[0m\u001b[0mVoff\u001b[0m\u001b[1;33m\u001b[0m\u001b[1;33m\u001b[0m\u001b[0m\n\u001b[1;32m---> 91\u001b[1;33m         \u001b[0mv\u001b[0m \u001b[1;33m=\u001b[0m \u001b[0mself\u001b[0m\u001b[1;33m.\u001b[0m\u001b[0mVmeter\u001b[0m\u001b[1;33m.\u001b[0m\u001b[0mV\u001b[0m\u001b[1;33m.\u001b[0m\u001b[0mget\u001b[0m\u001b[1;33m(\u001b[0m\u001b[1;33m)\u001b[0m \u001b[1;33m-\u001b[0m \u001b[0mVoff\u001b[0m\u001b[1;33m\u001b[0m\u001b[1;33m\u001b[0m\u001b[0m\n\u001b[0m\u001b[0;32m     92\u001b[0m \u001b[1;33m\u001b[0m\u001b[0m\n\u001b[0;32m     93\u001b[0m \u001b[1;33m\u001b[0m\u001b[0m\n",
      "\u001b[1;32m~\\Anaconda3\\lib\\site-packages\\qcodes\\instrument\\parameter.py\u001b[0m in \u001b[0;36mget_wrapper\u001b[1;34m(*args, **kwargs)\u001b[0m\n\u001b[0;32m    446\u001b[0m             \u001b[1;32mtry\u001b[0m\u001b[1;33m:\u001b[0m\u001b[1;33m\u001b[0m\u001b[1;33m\u001b[0m\u001b[0m\n\u001b[0;32m    447\u001b[0m                 \u001b[1;31m# There might be cases where a .get also has args/kwargs\u001b[0m\u001b[1;33m\u001b[0m\u001b[1;33m\u001b[0m\u001b[1;33m\u001b[0m\u001b[0m\n\u001b[1;32m--> 448\u001b[1;33m                 \u001b[0mvalue\u001b[0m \u001b[1;33m=\u001b[0m \u001b[0mget_function\u001b[0m\u001b[1;33m(\u001b[0m\u001b[1;33m*\u001b[0m\u001b[0margs\u001b[0m\u001b[1;33m,\u001b[0m \u001b[1;33m**\u001b[0m\u001b[0mkwargs\u001b[0m\u001b[1;33m)\u001b[0m\u001b[1;33m\u001b[0m\u001b[1;33m\u001b[0m\u001b[0m\n\u001b[0m\u001b[0;32m    449\u001b[0m                 \u001b[0mself\u001b[0m\u001b[1;33m.\u001b[0m\u001b[0mraw_value\u001b[0m \u001b[1;33m=\u001b[0m \u001b[0mvalue\u001b[0m\u001b[1;33m\u001b[0m\u001b[1;33m\u001b[0m\u001b[0m\n\u001b[0;32m    450\u001b[0m \u001b[1;33m\u001b[0m\u001b[0m\n",
      "\u001b[1;32m~\\Anaconda3\\lib\\site-packages\\qcodes\\utils\\command.py\u001b[0m in \u001b[0;36m__call__\u001b[1;34m(self, *args)\u001b[0m\n\u001b[0;32m    176\u001b[0m             raise TypeError(\n\u001b[0;32m    177\u001b[0m                 'command takes exactly {} args'.format(self.arg_count))\n\u001b[1;32m--> 178\u001b[1;33m         \u001b[1;32mreturn\u001b[0m \u001b[0mself\u001b[0m\u001b[1;33m.\u001b[0m\u001b[0mexec_function\u001b[0m\u001b[1;33m(\u001b[0m\u001b[1;33m*\u001b[0m\u001b[0margs\u001b[0m\u001b[1;33m)\u001b[0m\u001b[1;33m\u001b[0m\u001b[1;33m\u001b[0m\u001b[0m\n\u001b[0m",
      "\u001b[1;32m~\\Anaconda3\\lib\\site-packages\\qcodes\\utils\\command.py\u001b[0m in \u001b[0;36mcall_by_str\u001b[1;34m(self, *args)\u001b[0m\n\u001b[0;32m    125\u001b[0m     \u001b[1;32mdef\u001b[0m \u001b[0mcall_by_str\u001b[0m\u001b[1;33m(\u001b[0m\u001b[0mself\u001b[0m\u001b[1;33m,\u001b[0m \u001b[1;33m*\u001b[0m\u001b[0margs\u001b[0m\u001b[1;33m)\u001b[0m\u001b[1;33m:\u001b[0m\u001b[1;33m\u001b[0m\u001b[1;33m\u001b[0m\u001b[0m\n\u001b[0;32m    126\u001b[0m         \u001b[1;34m\"\"\"Execute a formatted string.\"\"\"\u001b[0m\u001b[1;33m\u001b[0m\u001b[1;33m\u001b[0m\u001b[0m\n\u001b[1;32m--> 127\u001b[1;33m         \u001b[1;32mreturn\u001b[0m \u001b[0mself\u001b[0m\u001b[1;33m.\u001b[0m\u001b[0mexec_str\u001b[0m\u001b[1;33m(\u001b[0m\u001b[0mself\u001b[0m\u001b[1;33m.\u001b[0m\u001b[0mcmd_str\u001b[0m\u001b[1;33m.\u001b[0m\u001b[0mformat\u001b[0m\u001b[1;33m(\u001b[0m\u001b[1;33m*\u001b[0m\u001b[0margs\u001b[0m\u001b[1;33m)\u001b[0m\u001b[1;33m)\u001b[0m\u001b[1;33m\u001b[0m\u001b[1;33m\u001b[0m\u001b[0m\n\u001b[0m\u001b[0;32m    128\u001b[0m \u001b[1;33m\u001b[0m\u001b[0m\n\u001b[0;32m    129\u001b[0m     \u001b[1;32mdef\u001b[0m \u001b[0mcall_by_str_parsed_out\u001b[0m\u001b[1;33m(\u001b[0m\u001b[0mself\u001b[0m\u001b[1;33m,\u001b[0m \u001b[1;33m*\u001b[0m\u001b[0margs\u001b[0m\u001b[1;33m)\u001b[0m\u001b[1;33m:\u001b[0m\u001b[1;33m\u001b[0m\u001b[1;33m\u001b[0m\u001b[0m\n",
      "\u001b[1;32m~\\Anaconda3\\lib\\site-packages\\qcodes\\instrument\\base.py\u001b[0m in \u001b[0;36mask\u001b[1;34m(self, cmd)\u001b[0m\n\u001b[0;32m    757\u001b[0m         \"\"\"\n\u001b[0;32m    758\u001b[0m         \u001b[1;32mtry\u001b[0m\u001b[1;33m:\u001b[0m\u001b[1;33m\u001b[0m\u001b[1;33m\u001b[0m\u001b[0m\n\u001b[1;32m--> 759\u001b[1;33m             \u001b[0manswer\u001b[0m \u001b[1;33m=\u001b[0m \u001b[0mself\u001b[0m\u001b[1;33m.\u001b[0m\u001b[0mask_raw\u001b[0m\u001b[1;33m(\u001b[0m\u001b[0mcmd\u001b[0m\u001b[1;33m)\u001b[0m\u001b[1;33m\u001b[0m\u001b[1;33m\u001b[0m\u001b[0m\n\u001b[0m\u001b[0;32m    760\u001b[0m \u001b[1;33m\u001b[0m\u001b[0m\n\u001b[0;32m    761\u001b[0m             \u001b[1;32mreturn\u001b[0m \u001b[0manswer\u001b[0m\u001b[1;33m\u001b[0m\u001b[1;33m\u001b[0m\u001b[0m\n",
      "\u001b[1;32m~\\Anaconda3\\lib\\site-packages\\qcodes\\instrument\\visa.py\u001b[0m in \u001b[0;36mask_raw\u001b[1;34m(self, cmd)\u001b[0m\n\u001b[0;32m    227\u001b[0m         \"\"\"\n\u001b[0;32m    228\u001b[0m         \u001b[0mself\u001b[0m\u001b[1;33m.\u001b[0m\u001b[0mvisa_log\u001b[0m\u001b[1;33m.\u001b[0m\u001b[0mdebug\u001b[0m\u001b[1;33m(\u001b[0m\u001b[1;34mf\"Querying: {cmd}\"\u001b[0m\u001b[1;33m)\u001b[0m\u001b[1;33m\u001b[0m\u001b[1;33m\u001b[0m\u001b[0m\n\u001b[1;32m--> 229\u001b[1;33m         \u001b[0mresponse\u001b[0m \u001b[1;33m=\u001b[0m \u001b[0mself\u001b[0m\u001b[1;33m.\u001b[0m\u001b[0mvisa_handle\u001b[0m\u001b[1;33m.\u001b[0m\u001b[0mquery\u001b[0m\u001b[1;33m(\u001b[0m\u001b[0mcmd\u001b[0m\u001b[1;33m)\u001b[0m\u001b[1;33m\u001b[0m\u001b[1;33m\u001b[0m\u001b[0m\n\u001b[0m\u001b[0;32m    230\u001b[0m         \u001b[0mself\u001b[0m\u001b[1;33m.\u001b[0m\u001b[0mvisa_log\u001b[0m\u001b[1;33m.\u001b[0m\u001b[0mdebug\u001b[0m\u001b[1;33m(\u001b[0m\u001b[1;34mf\"Response: {response}\"\u001b[0m\u001b[1;33m)\u001b[0m\u001b[1;33m\u001b[0m\u001b[1;33m\u001b[0m\u001b[0m\n\u001b[0;32m    231\u001b[0m \u001b[1;33m\u001b[0m\u001b[0m\n",
      "\u001b[1;32m~\\Anaconda3\\lib\\site-packages\\pyvisa\\resources\\messagebased.py\u001b[0m in \u001b[0;36mquery\u001b[1;34m(self, message, delay)\u001b[0m\n\u001b[0;32m    611\u001b[0m         \u001b[1;32mif\u001b[0m \u001b[0mdelay\u001b[0m \u001b[1;33m>\u001b[0m \u001b[1;36m0.0\u001b[0m\u001b[1;33m:\u001b[0m\u001b[1;33m\u001b[0m\u001b[1;33m\u001b[0m\u001b[0m\n\u001b[0;32m    612\u001b[0m             \u001b[0mtime\u001b[0m\u001b[1;33m.\u001b[0m\u001b[0msleep\u001b[0m\u001b[1;33m(\u001b[0m\u001b[0mdelay\u001b[0m\u001b[1;33m)\u001b[0m\u001b[1;33m\u001b[0m\u001b[1;33m\u001b[0m\u001b[0m\n\u001b[1;32m--> 613\u001b[1;33m         \u001b[1;32mreturn\u001b[0m \u001b[0mself\u001b[0m\u001b[1;33m.\u001b[0m\u001b[0mread\u001b[0m\u001b[1;33m(\u001b[0m\u001b[1;33m)\u001b[0m\u001b[1;33m\u001b[0m\u001b[1;33m\u001b[0m\u001b[0m\n\u001b[0m\u001b[0;32m    614\u001b[0m \u001b[1;33m\u001b[0m\u001b[0m\n\u001b[0;32m    615\u001b[0m     \u001b[1;32mdef\u001b[0m \u001b[0mask\u001b[0m\u001b[1;33m(\u001b[0m\u001b[0mself\u001b[0m\u001b[1;33m,\u001b[0m \u001b[0mmessage\u001b[0m\u001b[1;33m,\u001b[0m \u001b[0mdelay\u001b[0m\u001b[1;33m=\u001b[0m\u001b[1;32mNone\u001b[0m\u001b[1;33m)\u001b[0m\u001b[1;33m:\u001b[0m\u001b[1;33m\u001b[0m\u001b[1;33m\u001b[0m\u001b[0m\n",
      "\u001b[1;32m~\\Anaconda3\\lib\\site-packages\\pyvisa\\resources\\messagebased.py\u001b[0m in \u001b[0;36mread\u001b[1;34m(self, termination, encoding)\u001b[0m\n\u001b[0;32m    425\u001b[0m         \u001b[1;32mif\u001b[0m \u001b[0mtermination\u001b[0m \u001b[1;32mis\u001b[0m \u001b[1;32mNone\u001b[0m\u001b[1;33m:\u001b[0m\u001b[1;33m\u001b[0m\u001b[1;33m\u001b[0m\u001b[0m\n\u001b[0;32m    426\u001b[0m             \u001b[0mtermination\u001b[0m \u001b[1;33m=\u001b[0m \u001b[0mself\u001b[0m\u001b[1;33m.\u001b[0m\u001b[0m_read_termination\u001b[0m\u001b[1;33m\u001b[0m\u001b[1;33m\u001b[0m\u001b[0m\n\u001b[1;32m--> 427\u001b[1;33m             \u001b[0mmessage\u001b[0m \u001b[1;33m=\u001b[0m \u001b[0mself\u001b[0m\u001b[1;33m.\u001b[0m\u001b[0m_read_raw\u001b[0m\u001b[1;33m(\u001b[0m\u001b[1;33m)\u001b[0m\u001b[1;33m.\u001b[0m\u001b[0mdecode\u001b[0m\u001b[1;33m(\u001b[0m\u001b[0menco\u001b[0m\u001b[1;33m)\u001b[0m\u001b[1;33m\u001b[0m\u001b[1;33m\u001b[0m\u001b[0m\n\u001b[0m\u001b[0;32m    428\u001b[0m         \u001b[1;32melse\u001b[0m\u001b[1;33m:\u001b[0m\u001b[1;33m\u001b[0m\u001b[1;33m\u001b[0m\u001b[0m\n\u001b[0;32m    429\u001b[0m             \u001b[1;32mwith\u001b[0m \u001b[0mself\u001b[0m\u001b[1;33m.\u001b[0m\u001b[0mread_termination_context\u001b[0m\u001b[1;33m(\u001b[0m\u001b[0mtermination\u001b[0m\u001b[1;33m)\u001b[0m\u001b[1;33m:\u001b[0m\u001b[1;33m\u001b[0m\u001b[1;33m\u001b[0m\u001b[0m\n",
      "\u001b[1;32m~\\Anaconda3\\lib\\site-packages\\pyvisa\\resources\\messagebased.py\u001b[0m in \u001b[0;36m_read_raw\u001b[1;34m(self, size)\u001b[0m\n\u001b[0;32m    398\u001b[0m                     logger.debug('%s - reading %d bytes (last status %r)',\n\u001b[0;32m    399\u001b[0m                                  self._resource_name, size, status)\n\u001b[1;32m--> 400\u001b[1;33m                     \u001b[0mchunk\u001b[0m\u001b[1;33m,\u001b[0m \u001b[0mstatus\u001b[0m \u001b[1;33m=\u001b[0m \u001b[0mself\u001b[0m\u001b[1;33m.\u001b[0m\u001b[0mvisalib\u001b[0m\u001b[1;33m.\u001b[0m\u001b[0mread\u001b[0m\u001b[1;33m(\u001b[0m\u001b[0mself\u001b[0m\u001b[1;33m.\u001b[0m\u001b[0msession\u001b[0m\u001b[1;33m,\u001b[0m \u001b[0msize\u001b[0m\u001b[1;33m)\u001b[0m\u001b[1;33m\u001b[0m\u001b[1;33m\u001b[0m\u001b[0m\n\u001b[0m\u001b[0;32m    401\u001b[0m                     \u001b[0mret\u001b[0m\u001b[1;33m.\u001b[0m\u001b[0mextend\u001b[0m\u001b[1;33m(\u001b[0m\u001b[0mchunk\u001b[0m\u001b[1;33m)\u001b[0m\u001b[1;33m\u001b[0m\u001b[1;33m\u001b[0m\u001b[0m\n\u001b[0;32m    402\u001b[0m             \u001b[1;32mexcept\u001b[0m \u001b[0merrors\u001b[0m\u001b[1;33m.\u001b[0m\u001b[0mVisaIOError\u001b[0m \u001b[1;32mas\u001b[0m \u001b[0me\u001b[0m\u001b[1;33m:\u001b[0m\u001b[1;33m\u001b[0m\u001b[1;33m\u001b[0m\u001b[0m\n",
      "\u001b[1;32m~\\Anaconda3\\lib\\site-packages\\pyvisa\\ctwrapper\\functions.py\u001b[0m in \u001b[0;36mread\u001b[1;34m(library, session, count)\u001b[0m\n\u001b[0;32m   1582\u001b[0m     \u001b[0mbuffer\u001b[0m \u001b[1;33m=\u001b[0m \u001b[0mcreate_string_buffer\u001b[0m\u001b[1;33m(\u001b[0m\u001b[0mcount\u001b[0m\u001b[1;33m)\u001b[0m\u001b[1;33m\u001b[0m\u001b[1;33m\u001b[0m\u001b[0m\n\u001b[0;32m   1583\u001b[0m     \u001b[0mreturn_count\u001b[0m \u001b[1;33m=\u001b[0m \u001b[0mViUInt32\u001b[0m\u001b[1;33m(\u001b[0m\u001b[1;33m)\u001b[0m\u001b[1;33m\u001b[0m\u001b[1;33m\u001b[0m\u001b[0m\n\u001b[1;32m-> 1584\u001b[1;33m     \u001b[0mret\u001b[0m \u001b[1;33m=\u001b[0m \u001b[0mlibrary\u001b[0m\u001b[1;33m.\u001b[0m\u001b[0mviRead\u001b[0m\u001b[1;33m(\u001b[0m\u001b[0msession\u001b[0m\u001b[1;33m,\u001b[0m \u001b[0mbuffer\u001b[0m\u001b[1;33m,\u001b[0m \u001b[0mcount\u001b[0m\u001b[1;33m,\u001b[0m \u001b[0mbyref\u001b[0m\u001b[1;33m(\u001b[0m\u001b[0mreturn_count\u001b[0m\u001b[1;33m)\u001b[0m\u001b[1;33m)\u001b[0m\u001b[1;33m\u001b[0m\u001b[1;33m\u001b[0m\u001b[0m\n\u001b[0m\u001b[0;32m   1585\u001b[0m     \u001b[1;32mreturn\u001b[0m \u001b[0mbuffer\u001b[0m\u001b[1;33m.\u001b[0m\u001b[0mraw\u001b[0m\u001b[1;33m[\u001b[0m\u001b[1;33m:\u001b[0m\u001b[0mreturn_count\u001b[0m\u001b[1;33m.\u001b[0m\u001b[0mvalue\u001b[0m\u001b[1;33m]\u001b[0m\u001b[1;33m,\u001b[0m \u001b[0mret\u001b[0m\u001b[1;33m\u001b[0m\u001b[1;33m\u001b[0m\u001b[0m\n\u001b[0;32m   1586\u001b[0m \u001b[1;33m\u001b[0m\u001b[0m\n",
      "\u001b[1;32m~\\Anaconda3\\lib\\site-packages\\pyvisa\\ctwrapper\\highlevel.py\u001b[0m in \u001b[0;36m_return_handler\u001b[1;34m(self, ret_value, func, arguments)\u001b[0m\n\u001b[0;32m    152\u001b[0m             \u001b[0msetattr\u001b[0m\u001b[1;33m(\u001b[0m\u001b[0mself\u001b[0m\u001b[1;33m,\u001b[0m \u001b[0mmethod_name\u001b[0m\u001b[1;33m,\u001b[0m \u001b[0mgetattr\u001b[0m\u001b[1;33m(\u001b[0m\u001b[0mself\u001b[0m\u001b[1;33m.\u001b[0m\u001b[0mlib\u001b[0m\u001b[1;33m,\u001b[0m \u001b[0mmethod_name\u001b[0m\u001b[1;33m)\u001b[0m\u001b[1;33m)\u001b[0m\u001b[1;33m\u001b[0m\u001b[1;33m\u001b[0m\u001b[0m\n\u001b[0;32m    153\u001b[0m \u001b[1;33m\u001b[0m\u001b[0m\n\u001b[1;32m--> 154\u001b[1;33m     \u001b[1;32mdef\u001b[0m \u001b[0m_return_handler\u001b[0m\u001b[1;33m(\u001b[0m\u001b[0mself\u001b[0m\u001b[1;33m,\u001b[0m \u001b[0mret_value\u001b[0m\u001b[1;33m,\u001b[0m \u001b[0mfunc\u001b[0m\u001b[1;33m,\u001b[0m \u001b[0marguments\u001b[0m\u001b[1;33m)\u001b[0m\u001b[1;33m:\u001b[0m\u001b[1;33m\u001b[0m\u001b[1;33m\u001b[0m\u001b[0m\n\u001b[0m\u001b[0;32m    155\u001b[0m         \"\"\"Check return values for errors and warnings.\n\u001b[0;32m    156\u001b[0m         \"\"\"\n",
      "\u001b[1;31mKeyboardInterrupt\u001b[0m: "
     ]
    }
   ],
   "source": [
    "\n",
    "cos_list = np.linspace(0.12, 0.22, 11)\n",
    "\n",
    "# Isrc.write_raw('SOUR:CURR:RANG 1e-7')\n",
    "\n",
    "\n",
    "[            jj.IVC_udu (amp = 1e-9, stp = 5e-12, dt = .1,\n",
    "                         N_avg = 1, label = 'near FF scan ')\n",
    "for jj in    jj.Bscan( cos_list = cos_list )]\n",
    "\n",
    "\n",
    "# Bfield.set(0)\n"
   ]
  },
  {
   "cell_type": "code",
   "execution_count": null,
   "metadata": {
    "scrolled": true
   },
   "outputs": [
    {
     "data": {
      "application/vnd.jupyter.widget-view+json": {
       "model_id": "c3a9ac3e47864913a09a10f16451e014",
       "version_major": 2,
       "version_minor": 0
      },
      "text/plain": [
       "HBox(children=(IntProgress(value=0), HTML(value='')))"
      ]
     },
     "metadata": {},
     "output_type": "display_data"
    },
    {
     "data": {
      "application/vnd.jupyter.widget-view+json": {
       "model_id": "",
       "version_major": 2,
       "version_minor": 0
      },
      "text/plain": [
       "HBox(children=(IntProgress(value=0, max=403), HTML(value='')))"
      ]
     },
     "metadata": {},
     "output_type": "display_data"
    },
    {
     "name": "stdout",
     "output_type": "stream",
     "text": [
      "Starting experimental run with id: 771\n"
     ]
    },
    {
     "data": {
      "application/vnd.jupyter.widget-view+json": {
       "model_id": "",
       "version_major": 2,
       "version_minor": 0
      },
      "text/plain": [
       "HBox(children=(IntProgress(value=0, max=403), HTML(value='')))"
      ]
     },
     "metadata": {},
     "output_type": "display_data"
    },
    {
     "name": "stdout",
     "output_type": "stream",
     "text": [
      "Starting experimental run with id: 772\n"
     ]
    },
    {
     "data": {
      "application/vnd.jupyter.widget-view+json": {
       "model_id": "",
       "version_major": 2,
       "version_minor": 0
      },
      "text/plain": [
       "HBox(children=(IntProgress(value=0, max=403), HTML(value='')))"
      ]
     },
     "metadata": {},
     "output_type": "display_data"
    },
    {
     "name": "stdout",
     "output_type": "stream",
     "text": [
      "Starting experimental run with id: 773\n"
     ]
    },
    {
     "data": {
      "application/vnd.jupyter.widget-view+json": {
       "model_id": "",
       "version_major": 2,
       "version_minor": 0
      },
      "text/plain": [
       "HBox(children=(IntProgress(value=0, max=403), HTML(value='')))"
      ]
     },
     "metadata": {},
     "output_type": "display_data"
    },
    {
     "name": "stdout",
     "output_type": "stream",
     "text": [
      "Starting experimental run with id: 774\n"
     ]
    },
    {
     "data": {
      "application/vnd.jupyter.widget-view+json": {
       "model_id": "",
       "version_major": 2,
       "version_minor": 0
      },
      "text/plain": [
       "HBox(children=(IntProgress(value=0, max=403), HTML(value='')))"
      ]
     },
     "metadata": {},
     "output_type": "display_data"
    },
    {
     "name": "stdout",
     "output_type": "stream",
     "text": [
      "Starting experimental run with id: 775\n"
     ]
    },
    {
     "data": {
      "application/vnd.jupyter.widget-view+json": {
       "model_id": "",
       "version_major": 2,
       "version_minor": 0
      },
      "text/plain": [
       "HBox(children=(IntProgress(value=0, max=403), HTML(value='')))"
      ]
     },
     "metadata": {},
     "output_type": "display_data"
    },
    {
     "name": "stdout",
     "output_type": "stream",
     "text": [
      "Starting experimental run with id: 776\n"
     ]
    },
    {
     "data": {
      "application/vnd.jupyter.widget-view+json": {
       "model_id": "",
       "version_major": 2,
       "version_minor": 0
      },
      "text/plain": [
       "HBox(children=(IntProgress(value=0, max=403), HTML(value='')))"
      ]
     },
     "metadata": {},
     "output_type": "display_data"
    },
    {
     "name": "stdout",
     "output_type": "stream",
     "text": [
      "Starting experimental run with id: 777\n"
     ]
    },
    {
     "data": {
      "application/vnd.jupyter.widget-view+json": {
       "model_id": "",
       "version_major": 2,
       "version_minor": 0
      },
      "text/plain": [
       "HBox(children=(IntProgress(value=0, max=403), HTML(value='')))"
      ]
     },
     "metadata": {},
     "output_type": "display_data"
    },
    {
     "name": "stdout",
     "output_type": "stream",
     "text": [
      "Starting experimental run with id: 778\n"
     ]
    },
    {
     "data": {
      "application/vnd.jupyter.widget-view+json": {
       "model_id": "",
       "version_major": 2,
       "version_minor": 0
      },
      "text/plain": [
       "HBox(children=(IntProgress(value=0, max=403), HTML(value='')))"
      ]
     },
     "metadata": {},
     "output_type": "display_data"
    },
    {
     "name": "stdout",
     "output_type": "stream",
     "text": [
      "Starting experimental run with id: 779\n"
     ]
    },
    {
     "data": {
      "application/vnd.jupyter.widget-view+json": {
       "model_id": "",
       "version_major": 2,
       "version_minor": 0
      },
      "text/plain": [
       "HBox(children=(IntProgress(value=0, max=403), HTML(value='')))"
      ]
     },
     "metadata": {},
     "output_type": "display_data"
    },
    {
     "name": "stdout",
     "output_type": "stream",
     "text": [
      "Starting experimental run with id: 780\n"
     ]
    },
    {
     "data": {
      "application/vnd.jupyter.widget-view+json": {
       "model_id": "",
       "version_major": 2,
       "version_minor": 0
      },
      "text/plain": [
       "HBox(children=(IntProgress(value=0, max=403), HTML(value='')))"
      ]
     },
     "metadata": {},
     "output_type": "display_data"
    },
    {
     "name": "stdout",
     "output_type": "stream",
     "text": [
      "Starting experimental run with id: 781\n"
     ]
    },
    {
     "data": {
      "application/vnd.jupyter.widget-view+json": {
       "model_id": "",
       "version_major": 2,
       "version_minor": 0
      },
      "text/plain": [
       "HBox(children=(IntProgress(value=0, max=403), HTML(value='')))"
      ]
     },
     "metadata": {},
     "output_type": "display_data"
    },
    {
     "name": "stdout",
     "output_type": "stream",
     "text": [
      "Starting experimental run with id: 782\n"
     ]
    },
    {
     "data": {
      "application/vnd.jupyter.widget-view+json": {
       "model_id": "",
       "version_major": 2,
       "version_minor": 0
      },
      "text/plain": [
       "HBox(children=(IntProgress(value=0, max=403), HTML(value='')))"
      ]
     },
     "metadata": {},
     "output_type": "display_data"
    },
    {
     "name": "stdout",
     "output_type": "stream",
     "text": [
      "Starting experimental run with id: 783\n"
     ]
    },
    {
     "data": {
      "application/vnd.jupyter.widget-view+json": {
       "model_id": "",
       "version_major": 2,
       "version_minor": 0
      },
      "text/plain": [
       "HBox(children=(IntProgress(value=0, max=403), HTML(value='')))"
      ]
     },
     "metadata": {},
     "output_type": "display_data"
    },
    {
     "name": "stdout",
     "output_type": "stream",
     "text": [
      "Starting experimental run with id: 784\n"
     ]
    },
    {
     "data": {
      "application/vnd.jupyter.widget-view+json": {
       "model_id": "",
       "version_major": 2,
       "version_minor": 0
      },
      "text/plain": [
       "HBox(children=(IntProgress(value=0, max=403), HTML(value='')))"
      ]
     },
     "metadata": {},
     "output_type": "display_data"
    },
    {
     "name": "stdout",
     "output_type": "stream",
     "text": [
      "Starting experimental run with id: 785\n"
     ]
    },
    {
     "data": {
      "application/vnd.jupyter.widget-view+json": {
       "model_id": "",
       "version_major": 2,
       "version_minor": 0
      },
      "text/plain": [
       "HBox(children=(IntProgress(value=0, max=403), HTML(value='')))"
      ]
     },
     "metadata": {},
     "output_type": "display_data"
    },
    {
     "name": "stdout",
     "output_type": "stream",
     "text": [
      "Starting experimental run with id: 786\n"
     ]
    },
    {
     "data": {
      "application/vnd.jupyter.widget-view+json": {
       "model_id": "",
       "version_major": 2,
       "version_minor": 0
      },
      "text/plain": [
       "HBox(children=(IntProgress(value=0, max=403), HTML(value='')))"
      ]
     },
     "metadata": {},
     "output_type": "display_data"
    },
    {
     "name": "stdout",
     "output_type": "stream",
     "text": [
      "Starting experimental run with id: 787\n"
     ]
    },
    {
     "data": {
      "application/vnd.jupyter.widget-view+json": {
       "model_id": "",
       "version_major": 2,
       "version_minor": 0
      },
      "text/plain": [
       "HBox(children=(IntProgress(value=0, max=403), HTML(value='')))"
      ]
     },
     "metadata": {},
     "output_type": "display_data"
    },
    {
     "name": "stdout",
     "output_type": "stream",
     "text": [
      "Starting experimental run with id: 788\n"
     ]
    },
    {
     "data": {
      "application/vnd.jupyter.widget-view+json": {
       "model_id": "",
       "version_major": 2,
       "version_minor": 0
      },
      "text/plain": [
       "HBox(children=(IntProgress(value=0, max=403), HTML(value='')))"
      ]
     },
     "metadata": {},
     "output_type": "display_data"
    },
    {
     "name": "stdout",
     "output_type": "stream",
     "text": [
      "Starting experimental run with id: 789\n"
     ]
    },
    {
     "data": {
      "application/vnd.jupyter.widget-view+json": {
       "model_id": "",
       "version_major": 2,
       "version_minor": 0
      },
      "text/plain": [
       "HBox(children=(IntProgress(value=0, max=403), HTML(value='')))"
      ]
     },
     "metadata": {},
     "output_type": "display_data"
    },
    {
     "name": "stdout",
     "output_type": "stream",
     "text": [
      "Starting experimental run with id: 790\n"
     ]
    },
    {
     "data": {
      "application/vnd.jupyter.widget-view+json": {
       "model_id": "",
       "version_major": 2,
       "version_minor": 0
      },
      "text/plain": [
       "HBox(children=(IntProgress(value=0, max=403), HTML(value='')))"
      ]
     },
     "metadata": {},
     "output_type": "display_data"
    },
    {
     "name": "stdout",
     "output_type": "stream",
     "text": [
      "Starting experimental run with id: 791\n"
     ]
    },
    {
     "data": {
      "application/vnd.jupyter.widget-view+json": {
       "model_id": "",
       "version_major": 2,
       "version_minor": 0
      },
      "text/plain": [
       "HBox(children=(IntProgress(value=0, max=403), HTML(value='')))"
      ]
     },
     "metadata": {},
     "output_type": "display_data"
    },
    {
     "name": "stdout",
     "output_type": "stream",
     "text": [
      "Starting experimental run with id: 792\n"
     ]
    },
    {
     "data": {
      "application/vnd.jupyter.widget-view+json": {
       "model_id": "",
       "version_major": 2,
       "version_minor": 0
      },
      "text/plain": [
       "HBox(children=(IntProgress(value=0, max=403), HTML(value='')))"
      ]
     },
     "metadata": {},
     "output_type": "display_data"
    },
    {
     "name": "stdout",
     "output_type": "stream",
     "text": [
      "Starting experimental run with id: 793\n"
     ]
    },
    {
     "data": {
      "application/vnd.jupyter.widget-view+json": {
       "model_id": "",
       "version_major": 2,
       "version_minor": 0
      },
      "text/plain": [
       "HBox(children=(IntProgress(value=0, max=403), HTML(value='')))"
      ]
     },
     "metadata": {},
     "output_type": "display_data"
    },
    {
     "name": "stdout",
     "output_type": "stream",
     "text": [
      "Starting experimental run with id: 794\n"
     ]
    },
    {
     "data": {
      "application/vnd.jupyter.widget-view+json": {
       "model_id": "",
       "version_major": 2,
       "version_minor": 0
      },
      "text/plain": [
       "HBox(children=(IntProgress(value=0, max=403), HTML(value='')))"
      ]
     },
     "metadata": {},
     "output_type": "display_data"
    },
    {
     "name": "stdout",
     "output_type": "stream",
     "text": [
      "Starting experimental run with id: 795\n"
     ]
    },
    {
     "data": {
      "application/vnd.jupyter.widget-view+json": {
       "model_id": "",
       "version_major": 2,
       "version_minor": 0
      },
      "text/plain": [
       "HBox(children=(IntProgress(value=0, max=403), HTML(value='')))"
      ]
     },
     "metadata": {},
     "output_type": "display_data"
    },
    {
     "name": "stdout",
     "output_type": "stream",
     "text": [
      "Starting experimental run with id: 796\n"
     ]
    },
    {
     "data": {
      "application/vnd.jupyter.widget-view+json": {
       "model_id": "",
       "version_major": 2,
       "version_minor": 0
      },
      "text/plain": [
       "HBox(children=(IntProgress(value=0, max=403), HTML(value='')))"
      ]
     },
     "metadata": {},
     "output_type": "display_data"
    },
    {
     "name": "stdout",
     "output_type": "stream",
     "text": [
      "Starting experimental run with id: 797\n"
     ]
    },
    {
     "data": {
      "application/vnd.jupyter.widget-view+json": {
       "model_id": "",
       "version_major": 2,
       "version_minor": 0
      },
      "text/plain": [
       "HBox(children=(IntProgress(value=0, max=403), HTML(value='')))"
      ]
     },
     "metadata": {},
     "output_type": "display_data"
    },
    {
     "name": "stdout",
     "output_type": "stream",
     "text": [
      "Starting experimental run with id: 798\n"
     ]
    },
    {
     "data": {
      "application/vnd.jupyter.widget-view+json": {
       "model_id": "",
       "version_major": 2,
       "version_minor": 0
      },
      "text/plain": [
       "HBox(children=(IntProgress(value=0, max=403), HTML(value='')))"
      ]
     },
     "metadata": {},
     "output_type": "display_data"
    },
    {
     "name": "stdout",
     "output_type": "stream",
     "text": [
      "Starting experimental run with id: 799\n"
     ]
    },
    {
     "data": {
      "application/vnd.jupyter.widget-view+json": {
       "model_id": "",
       "version_major": 2,
       "version_minor": 0
      },
      "text/plain": [
       "HBox(children=(IntProgress(value=0, max=403), HTML(value='')))"
      ]
     },
     "metadata": {},
     "output_type": "display_data"
    },
    {
     "name": "stdout",
     "output_type": "stream",
     "text": [
      "Starting experimental run with id: 800\n"
     ]
    },
    {
     "data": {
      "application/vnd.jupyter.widget-view+json": {
       "model_id": "",
       "version_major": 2,
       "version_minor": 0
      },
      "text/plain": [
       "HBox(children=(IntProgress(value=0, max=403), HTML(value='')))"
      ]
     },
     "metadata": {},
     "output_type": "display_data"
    },
    {
     "name": "stdout",
     "output_type": "stream",
     "text": [
      "Starting experimental run with id: 801\n"
     ]
    },
    {
     "data": {
      "application/vnd.jupyter.widget-view+json": {
       "model_id": "",
       "version_major": 2,
       "version_minor": 0
      },
      "text/plain": [
       "HBox(children=(IntProgress(value=0, max=403), HTML(value='')))"
      ]
     },
     "metadata": {},
     "output_type": "display_data"
    },
    {
     "name": "stdout",
     "output_type": "stream",
     "text": [
      "Starting experimental run with id: 802\n"
     ]
    },
    {
     "data": {
      "application/vnd.jupyter.widget-view+json": {
       "model_id": "",
       "version_major": 2,
       "version_minor": 0
      },
      "text/plain": [
       "HBox(children=(IntProgress(value=0, max=403), HTML(value='')))"
      ]
     },
     "metadata": {},
     "output_type": "display_data"
    },
    {
     "name": "stdout",
     "output_type": "stream",
     "text": [
      "Starting experimental run with id: 803\n"
     ]
    },
    {
     "data": {
      "application/vnd.jupyter.widget-view+json": {
       "model_id": "",
       "version_major": 2,
       "version_minor": 0
      },
      "text/plain": [
       "HBox(children=(IntProgress(value=0, max=403), HTML(value='')))"
      ]
     },
     "metadata": {},
     "output_type": "display_data"
    },
    {
     "name": "stdout",
     "output_type": "stream",
     "text": [
      "Starting experimental run with id: 804\n"
     ]
    },
    {
     "data": {
      "application/vnd.jupyter.widget-view+json": {
       "model_id": "",
       "version_major": 2,
       "version_minor": 0
      },
      "text/plain": [
       "HBox(children=(IntProgress(value=0, max=403), HTML(value='')))"
      ]
     },
     "metadata": {},
     "output_type": "display_data"
    },
    {
     "name": "stdout",
     "output_type": "stream",
     "text": [
      "Starting experimental run with id: 805\n"
     ]
    },
    {
     "data": {
      "application/vnd.jupyter.widget-view+json": {
       "model_id": "",
       "version_major": 2,
       "version_minor": 0
      },
      "text/plain": [
       "HBox(children=(IntProgress(value=0, max=403), HTML(value='')))"
      ]
     },
     "metadata": {},
     "output_type": "display_data"
    },
    {
     "name": "stdout",
     "output_type": "stream",
     "text": [
      "Starting experimental run with id: 806\n"
     ]
    },
    {
     "data": {
      "application/vnd.jupyter.widget-view+json": {
       "model_id": "",
       "version_major": 2,
       "version_minor": 0
      },
      "text/plain": [
       "HBox(children=(IntProgress(value=0, max=403), HTML(value='')))"
      ]
     },
     "metadata": {},
     "output_type": "display_data"
    },
    {
     "name": "stdout",
     "output_type": "stream",
     "text": [
      "Starting experimental run with id: 807\n"
     ]
    },
    {
     "data": {
      "application/vnd.jupyter.widget-view+json": {
       "model_id": "",
       "version_major": 2,
       "version_minor": 0
      },
      "text/plain": [
       "HBox(children=(IntProgress(value=0, max=403), HTML(value='')))"
      ]
     },
     "metadata": {},
     "output_type": "display_data"
    },
    {
     "name": "stdout",
     "output_type": "stream",
     "text": [
      "Starting experimental run with id: 808\n"
     ]
    },
    {
     "data": {
      "application/vnd.jupyter.widget-view+json": {
       "model_id": "",
       "version_major": 2,
       "version_minor": 0
      },
      "text/plain": [
       "HBox(children=(IntProgress(value=0, max=403), HTML(value='')))"
      ]
     },
     "metadata": {},
     "output_type": "display_data"
    },
    {
     "name": "stdout",
     "output_type": "stream",
     "text": [
      "Starting experimental run with id: 809\n"
     ]
    },
    {
     "data": {
      "application/vnd.jupyter.widget-view+json": {
       "model_id": "",
       "version_major": 2,
       "version_minor": 0
      },
      "text/plain": [
       "HBox(children=(IntProgress(value=0, max=403), HTML(value='')))"
      ]
     },
     "metadata": {},
     "output_type": "display_data"
    },
    {
     "name": "stdout",
     "output_type": "stream",
     "text": [
      "Starting experimental run with id: 810\n"
     ]
    },
    {
     "data": {
      "application/vnd.jupyter.widget-view+json": {
       "model_id": "",
       "version_major": 2,
       "version_minor": 0
      },
      "text/plain": [
       "HBox(children=(IntProgress(value=0, max=403), HTML(value='')))"
      ]
     },
     "metadata": {},
     "output_type": "display_data"
    },
    {
     "name": "stdout",
     "output_type": "stream",
     "text": [
      "Starting experimental run with id: 811\n"
     ]
    },
    {
     "data": {
      "application/vnd.jupyter.widget-view+json": {
       "model_id": "",
       "version_major": 2,
       "version_minor": 0
      },
      "text/plain": [
       "HBox(children=(IntProgress(value=0, max=403), HTML(value='')))"
      ]
     },
     "metadata": {},
     "output_type": "display_data"
    },
    {
     "name": "stdout",
     "output_type": "stream",
     "text": [
      "Starting experimental run with id: 812\n"
     ]
    },
    {
     "data": {
      "application/vnd.jupyter.widget-view+json": {
       "model_id": "",
       "version_major": 2,
       "version_minor": 0
      },
      "text/plain": [
       "HBox(children=(IntProgress(value=0, max=403), HTML(value='')))"
      ]
     },
     "metadata": {},
     "output_type": "display_data"
    },
    {
     "name": "stdout",
     "output_type": "stream",
     "text": [
      "Starting experimental run with id: 813\n"
     ]
    },
    {
     "data": {
      "application/vnd.jupyter.widget-view+json": {
       "model_id": "",
       "version_major": 2,
       "version_minor": 0
      },
      "text/plain": [
       "HBox(children=(IntProgress(value=0, max=403), HTML(value='')))"
      ]
     },
     "metadata": {},
     "output_type": "display_data"
    },
    {
     "name": "stdout",
     "output_type": "stream",
     "text": [
      "Starting experimental run with id: 814\n"
     ]
    },
    {
     "data": {
      "application/vnd.jupyter.widget-view+json": {
       "model_id": "",
       "version_major": 2,
       "version_minor": 0
      },
      "text/plain": [
       "HBox(children=(IntProgress(value=0, max=403), HTML(value='')))"
      ]
     },
     "metadata": {},
     "output_type": "display_data"
    },
    {
     "name": "stdout",
     "output_type": "stream",
     "text": [
      "Starting experimental run with id: 815\n"
     ]
    },
    {
     "data": {
      "application/vnd.jupyter.widget-view+json": {
       "model_id": "",
       "version_major": 2,
       "version_minor": 0
      },
      "text/plain": [
       "HBox(children=(IntProgress(value=0, max=403), HTML(value='')))"
      ]
     },
     "metadata": {},
     "output_type": "display_data"
    },
    {
     "name": "stdout",
     "output_type": "stream",
     "text": [
      "Starting experimental run with id: 816\n"
     ]
    },
    {
     "data": {
      "application/vnd.jupyter.widget-view+json": {
       "model_id": "",
       "version_major": 2,
       "version_minor": 0
      },
      "text/plain": [
       "HBox(children=(IntProgress(value=0, max=403), HTML(value='')))"
      ]
     },
     "metadata": {},
     "output_type": "display_data"
    },
    {
     "name": "stdout",
     "output_type": "stream",
     "text": [
      "Starting experimental run with id: 817\n"
     ]
    },
    {
     "data": {
      "application/vnd.jupyter.widget-view+json": {
       "model_id": "",
       "version_major": 2,
       "version_minor": 0
      },
      "text/plain": [
       "HBox(children=(IntProgress(value=0, max=403), HTML(value='')))"
      ]
     },
     "metadata": {},
     "output_type": "display_data"
    },
    {
     "name": "stdout",
     "output_type": "stream",
     "text": [
      "Starting experimental run with id: 818\n"
     ]
    },
    {
     "data": {
      "application/vnd.jupyter.widget-view+json": {
       "model_id": "",
       "version_major": 2,
       "version_minor": 0
      },
      "text/plain": [
       "HBox(children=(IntProgress(value=0, max=403), HTML(value='')))"
      ]
     },
     "metadata": {},
     "output_type": "display_data"
    },
    {
     "name": "stdout",
     "output_type": "stream",
     "text": [
      "Starting experimental run with id: 819\n"
     ]
    },
    {
     "data": {
      "application/vnd.jupyter.widget-view+json": {
       "model_id": "",
       "version_major": 2,
       "version_minor": 0
      },
      "text/plain": [
       "HBox(children=(IntProgress(value=0, max=403), HTML(value='')))"
      ]
     },
     "metadata": {},
     "output_type": "display_data"
    },
    {
     "name": "stdout",
     "output_type": "stream",
     "text": [
      "Starting experimental run with id: 820\n"
     ]
    },
    {
     "data": {
      "application/vnd.jupyter.widget-view+json": {
       "model_id": "",
       "version_major": 2,
       "version_minor": 0
      },
      "text/plain": [
       "HBox(children=(IntProgress(value=0, max=403), HTML(value='')))"
      ]
     },
     "metadata": {},
     "output_type": "display_data"
    },
    {
     "name": "stdout",
     "output_type": "stream",
     "text": [
      "Starting experimental run with id: 821\n"
     ]
    },
    {
     "data": {
      "application/vnd.jupyter.widget-view+json": {
       "model_id": "",
       "version_major": 2,
       "version_minor": 0
      },
      "text/plain": [
       "HBox(children=(IntProgress(value=0, max=403), HTML(value='')))"
      ]
     },
     "metadata": {},
     "output_type": "display_data"
    },
    {
     "name": "stdout",
     "output_type": "stream",
     "text": [
      "Starting experimental run with id: 822\n"
     ]
    },
    {
     "data": {
      "application/vnd.jupyter.widget-view+json": {
       "model_id": "",
       "version_major": 2,
       "version_minor": 0
      },
      "text/plain": [
       "HBox(children=(IntProgress(value=0, max=403), HTML(value='')))"
      ]
     },
     "metadata": {},
     "output_type": "display_data"
    },
    {
     "name": "stdout",
     "output_type": "stream",
     "text": [
      "Starting experimental run with id: 823\n"
     ]
    },
    {
     "data": {
      "application/vnd.jupyter.widget-view+json": {
       "model_id": "",
       "version_major": 2,
       "version_minor": 0
      },
      "text/plain": [
       "HBox(children=(IntProgress(value=0, max=403), HTML(value='')))"
      ]
     },
     "metadata": {},
     "output_type": "display_data"
    },
    {
     "name": "stdout",
     "output_type": "stream",
     "text": [
      "Starting experimental run with id: 824\n"
     ]
    },
    {
     "data": {
      "application/vnd.jupyter.widget-view+json": {
       "model_id": "",
       "version_major": 2,
       "version_minor": 0
      },
      "text/plain": [
       "HBox(children=(IntProgress(value=0, max=403), HTML(value='')))"
      ]
     },
     "metadata": {},
     "output_type": "display_data"
    },
    {
     "name": "stdout",
     "output_type": "stream",
     "text": [
      "Starting experimental run with id: 825\n"
     ]
    },
    {
     "data": {
      "application/vnd.jupyter.widget-view+json": {
       "model_id": "",
       "version_major": 2,
       "version_minor": 0
      },
      "text/plain": [
       "HBox(children=(IntProgress(value=0, max=403), HTML(value='')))"
      ]
     },
     "metadata": {},
     "output_type": "display_data"
    },
    {
     "name": "stdout",
     "output_type": "stream",
     "text": [
      "Starting experimental run with id: 826\n"
     ]
    },
    {
     "data": {
      "application/vnd.jupyter.widget-view+json": {
       "model_id": "",
       "version_major": 2,
       "version_minor": 0
      },
      "text/plain": [
       "HBox(children=(IntProgress(value=0, max=403), HTML(value='')))"
      ]
     },
     "metadata": {},
     "output_type": "display_data"
    },
    {
     "name": "stdout",
     "output_type": "stream",
     "text": [
      "Starting experimental run with id: 827\n"
     ]
    },
    {
     "data": {
      "application/vnd.jupyter.widget-view+json": {
       "model_id": "",
       "version_major": 2,
       "version_minor": 0
      },
      "text/plain": [
       "HBox(children=(IntProgress(value=0, max=403), HTML(value='')))"
      ]
     },
     "metadata": {},
     "output_type": "display_data"
    },
    {
     "name": "stdout",
     "output_type": "stream",
     "text": [
      "Starting experimental run with id: 828\n"
     ]
    },
    {
     "data": {
      "application/vnd.jupyter.widget-view+json": {
       "model_id": "",
       "version_major": 2,
       "version_minor": 0
      },
      "text/plain": [
       "HBox(children=(IntProgress(value=0, max=403), HTML(value='')))"
      ]
     },
     "metadata": {},
     "output_type": "display_data"
    },
    {
     "name": "stdout",
     "output_type": "stream",
     "text": [
      "Starting experimental run with id: 829\n"
     ]
    },
    {
     "data": {
      "application/vnd.jupyter.widget-view+json": {
       "model_id": "",
       "version_major": 2,
       "version_minor": 0
      },
      "text/plain": [
       "HBox(children=(IntProgress(value=0, max=403), HTML(value='')))"
      ]
     },
     "metadata": {},
     "output_type": "display_data"
    },
    {
     "name": "stdout",
     "output_type": "stream",
     "text": [
      "Starting experimental run with id: 830\n"
     ]
    },
    {
     "data": {
      "application/vnd.jupyter.widget-view+json": {
       "model_id": "",
       "version_major": 2,
       "version_minor": 0
      },
      "text/plain": [
       "HBox(children=(IntProgress(value=0, max=403), HTML(value='')))"
      ]
     },
     "metadata": {},
     "output_type": "display_data"
    },
    {
     "name": "stdout",
     "output_type": "stream",
     "text": [
      "Starting experimental run with id: 831\n"
     ]
    },
    {
     "data": {
      "application/vnd.jupyter.widget-view+json": {
       "model_id": "",
       "version_major": 2,
       "version_minor": 0
      },
      "text/plain": [
       "HBox(children=(IntProgress(value=0, max=403), HTML(value='')))"
      ]
     },
     "metadata": {},
     "output_type": "display_data"
    },
    {
     "name": "stdout",
     "output_type": "stream",
     "text": [
      "Starting experimental run with id: 832\n"
     ]
    },
    {
     "data": {
      "application/vnd.jupyter.widget-view+json": {
       "model_id": "",
       "version_major": 2,
       "version_minor": 0
      },
      "text/plain": [
       "HBox(children=(IntProgress(value=0, max=403), HTML(value='')))"
      ]
     },
     "metadata": {},
     "output_type": "display_data"
    },
    {
     "name": "stdout",
     "output_type": "stream",
     "text": [
      "Starting experimental run with id: 833\n"
     ]
    },
    {
     "data": {
      "application/vnd.jupyter.widget-view+json": {
       "model_id": "",
       "version_major": 2,
       "version_minor": 0
      },
      "text/plain": [
       "HBox(children=(IntProgress(value=0, max=403), HTML(value='')))"
      ]
     },
     "metadata": {},
     "output_type": "display_data"
    },
    {
     "name": "stdout",
     "output_type": "stream",
     "text": [
      "Starting experimental run with id: 834\n"
     ]
    },
    {
     "data": {
      "application/vnd.jupyter.widget-view+json": {
       "model_id": "",
       "version_major": 2,
       "version_minor": 0
      },
      "text/plain": [
       "HBox(children=(IntProgress(value=0, max=403), HTML(value='')))"
      ]
     },
     "metadata": {},
     "output_type": "display_data"
    },
    {
     "name": "stdout",
     "output_type": "stream",
     "text": [
      "Starting experimental run with id: 835\n"
     ]
    },
    {
     "data": {
      "application/vnd.jupyter.widget-view+json": {
       "model_id": "",
       "version_major": 2,
       "version_minor": 0
      },
      "text/plain": [
       "HBox(children=(IntProgress(value=0, max=403), HTML(value='')))"
      ]
     },
     "metadata": {},
     "output_type": "display_data"
    },
    {
     "name": "stdout",
     "output_type": "stream",
     "text": [
      "Starting experimental run with id: 836\n"
     ]
    },
    {
     "data": {
      "application/vnd.jupyter.widget-view+json": {
       "model_id": "",
       "version_major": 2,
       "version_minor": 0
      },
      "text/plain": [
       "HBox(children=(IntProgress(value=0, max=403), HTML(value='')))"
      ]
     },
     "metadata": {},
     "output_type": "display_data"
    },
    {
     "name": "stdout",
     "output_type": "stream",
     "text": [
      "Starting experimental run with id: 837\n"
     ]
    },
    {
     "data": {
      "application/vnd.jupyter.widget-view+json": {
       "model_id": "d3f8197391e2415b8ac3ebf3585e0642",
       "version_major": 2,
       "version_minor": 0
      },
      "text/plain": [
       "HBox(children=(IntProgress(value=0, max=403), HTML(value='')))"
      ]
     },
     "metadata": {},
     "output_type": "display_data"
    },
    {
     "name": "stdout",
     "output_type": "stream",
     "text": [
      "Starting experimental run with id: 838\n"
     ]
    }
   ],
   "source": [
    "\n",
    "B_list = [0]*100\n",
    "\n",
    "Isrc.write_raw('SOUR:CURR:RANG 1e-4')\n",
    "\n",
    "\n",
    "[            jj.IVC_udu (amp = 200e-9, stp = 2e-9, dt = .1,  N_avg = 1, \n",
    "            label = '5b-5f repeatative scan')\n",
    "for jj in    jj.Bscan( B_list = B_list )]\n",
    "\n",
    "\n",
    "# Bfield.set(0)\n"
   ]
  },
  {
   "cell_type": "markdown",
   "metadata": {},
   "source": [
    "#### Ic(B)"
   ]
  },
  {
   "cell_type": "code",
   "execution_count": 145,
   "metadata": {
    "scrolled": true
   },
   "outputs": [
    {
     "data": {
      "application/vnd.jupyter.widget-view+json": {
       "model_id": "",
       "version_major": 2,
       "version_minor": 0
      },
      "text/plain": [
       "HBox(children=(IntProgress(value=0, max=11), HTML(value='')))"
      ]
     },
     "metadata": {},
     "output_type": "display_data"
    },
    {
     "data": {
      "application/vnd.jupyter.widget-view+json": {
       "model_id": "",
       "version_major": 2,
       "version_minor": 0
      },
      "text/plain": [
       "HBox(children=(IntProgress(value=0, max=501), HTML(value='')))"
      ]
     },
     "metadata": {},
     "output_type": "display_data"
    },
    {
     "name": "stdout",
     "output_type": "stream",
     "text": [
      "Starting experimental run with id: 592\n"
     ]
    },
    {
     "data": {
      "application/vnd.jupyter.widget-view+json": {
       "model_id": "5e5b560dfa3e45fc9dd4cb41b4d7cc86",
       "version_major": 2,
       "version_minor": 0
      },
      "text/plain": [
       "HBox(children=(IntProgress(value=0, max=501), HTML(value='')))"
      ]
     },
     "metadata": {},
     "output_type": "display_data"
    },
    {
     "name": "stdout",
     "output_type": "stream",
     "text": [
      "Starting experimental run with id: 593\n"
     ]
    },
    {
     "data": {
      "application/vnd.jupyter.widget-view+json": {
       "model_id": "d38daa053951486cbc0818b43607e054",
       "version_major": 2,
       "version_minor": 0
      },
      "text/plain": [
       "HBox(children=(IntProgress(value=0, max=501), HTML(value='')))"
      ]
     },
     "metadata": {},
     "output_type": "display_data"
    },
    {
     "name": "stdout",
     "output_type": "stream",
     "text": [
      "Starting experimental run with id: 594\n"
     ]
    },
    {
     "data": {
      "application/vnd.jupyter.widget-view+json": {
       "model_id": "60e13580c4ae4942b51f68072c4b65ad",
       "version_major": 2,
       "version_minor": 0
      },
      "text/plain": [
       "HBox(children=(IntProgress(value=0, max=501), HTML(value='')))"
      ]
     },
     "metadata": {},
     "output_type": "display_data"
    },
    {
     "name": "stdout",
     "output_type": "stream",
     "text": [
      "Starting experimental run with id: 595\n"
     ]
    },
    {
     "data": {
      "application/vnd.jupyter.widget-view+json": {
       "model_id": "090ad583fbc7484ea41d40daee0a3631",
       "version_major": 2,
       "version_minor": 0
      },
      "text/plain": [
       "HBox(children=(IntProgress(value=0, max=501), HTML(value='')))"
      ]
     },
     "metadata": {},
     "output_type": "display_data"
    },
    {
     "name": "stdout",
     "output_type": "stream",
     "text": [
      "Starting experimental run with id: 596\n"
     ]
    },
    {
     "data": {
      "application/vnd.jupyter.widget-view+json": {
       "model_id": "c561305a42d34b95b57d033e6c8ced27",
       "version_major": 2,
       "version_minor": 0
      },
      "text/plain": [
       "HBox(children=(IntProgress(value=0, max=501), HTML(value='')))"
      ]
     },
     "metadata": {},
     "output_type": "display_data"
    },
    {
     "name": "stdout",
     "output_type": "stream",
     "text": [
      "Starting experimental run with id: 597\n"
     ]
    },
    {
     "data": {
      "application/vnd.jupyter.widget-view+json": {
       "model_id": "a2727db6cce54e58b724e0c0784fa4ff",
       "version_major": 2,
       "version_minor": 0
      },
      "text/plain": [
       "HBox(children=(IntProgress(value=0, max=501), HTML(value='')))"
      ]
     },
     "metadata": {},
     "output_type": "display_data"
    },
    {
     "name": "stdout",
     "output_type": "stream",
     "text": [
      "Starting experimental run with id: 598\n"
     ]
    },
    {
     "data": {
      "application/vnd.jupyter.widget-view+json": {
       "model_id": "f6f84fd17a6545f9adee14ddbad86925",
       "version_major": 2,
       "version_minor": 0
      },
      "text/plain": [
       "HBox(children=(IntProgress(value=0, max=501), HTML(value='')))"
      ]
     },
     "metadata": {},
     "output_type": "display_data"
    },
    {
     "name": "stdout",
     "output_type": "stream",
     "text": [
      "Starting experimental run with id: 599\n"
     ]
    },
    {
     "data": {
      "application/vnd.jupyter.widget-view+json": {
       "model_id": "f5072d96c6fa4a4fb0c227641c512257",
       "version_major": 2,
       "version_minor": 0
      },
      "text/plain": [
       "HBox(children=(IntProgress(value=0, max=501), HTML(value='')))"
      ]
     },
     "metadata": {},
     "output_type": "display_data"
    },
    {
     "name": "stdout",
     "output_type": "stream",
     "text": [
      "Starting experimental run with id: 600\n"
     ]
    },
    {
     "data": {
      "application/vnd.jupyter.widget-view+json": {
       "model_id": "a4ba299d8ab94f1da26fbe42467dfadf",
       "version_major": 2,
       "version_minor": 0
      },
      "text/plain": [
       "HBox(children=(IntProgress(value=0, max=501), HTML(value='')))"
      ]
     },
     "metadata": {},
     "output_type": "display_data"
    },
    {
     "name": "stdout",
     "output_type": "stream",
     "text": [
      "Starting experimental run with id: 601\n"
     ]
    },
    {
     "data": {
      "application/vnd.jupyter.widget-view+json": {
       "model_id": "20e4823d174746f7a07b626b399cc621",
       "version_major": 2,
       "version_minor": 0
      },
      "text/plain": [
       "HBox(children=(IntProgress(value=0, max=501), HTML(value='')))"
      ]
     },
     "metadata": {},
     "output_type": "display_data"
    },
    {
     "name": "stdout",
     "output_type": "stream",
     "text": [
      "Starting experimental run with id: 602\n",
      "\n"
     ]
    },
    {
     "data": {
      "text/plain": [
       "[592, 593, 594, 595, 596, 597, 598, 599, 600, 601, 602]"
      ]
     },
     "execution_count": 145,
     "metadata": {},
     "output_type": "execute_result"
    }
   ],
   "source": [
    "i_list = np.linspace(0, 1e-9, 501)\n",
    "\n",
    "cos_list = np.linspace(0.12, 0.22, 11)\n",
    "\n",
    "Isrc.write_raw('SOUR:CURR:RANG 1e-7')\n",
    "\n",
    "\n",
    "\n",
    "[            jj.IVC_cust ( i_list, Vthr = 10e-6, dt = 0.1, N_avg = 1, label = 'fine Ic(B)')\n",
    "for jj in    jj.Bscan( cos_list = cos_list )]\n",
    "\n"
   ]
  },
  {
   "cell_type": "code",
   "execution_count": 146,
   "metadata": {
    "scrolled": true
   },
   "outputs": [
    {
     "data": {
      "application/vnd.jupyter.widget-view+json": {
       "model_id": "7c5b3dcf061c4f79b336e87fe3416202",
       "version_major": 2,
       "version_minor": 0
      },
      "text/plain": [
       "HBox(children=(IntProgress(value=0, max=21), HTML(value='')))"
      ]
     },
     "metadata": {},
     "output_type": "display_data"
    },
    {
     "data": {
      "application/vnd.jupyter.widget-view+json": {
       "model_id": "40a1f697870c45cc91c4fd4163a08542",
       "version_major": 2,
       "version_minor": 0
      },
      "text/plain": [
       "HBox(children=(IntProgress(value=0, max=501), HTML(value='')))"
      ]
     },
     "metadata": {},
     "output_type": "display_data"
    },
    {
     "name": "stdout",
     "output_type": "stream",
     "text": [
      "Starting experimental run with id: 603\n"
     ]
    },
    {
     "data": {
      "application/vnd.jupyter.widget-view+json": {
       "model_id": "6b59c14104eb4560a994b463cd75afdd",
       "version_major": 2,
       "version_minor": 0
      },
      "text/plain": [
       "HBox(children=(IntProgress(value=0, max=501), HTML(value='')))"
      ]
     },
     "metadata": {},
     "output_type": "display_data"
    },
    {
     "name": "stdout",
     "output_type": "stream",
     "text": [
      "Starting experimental run with id: 604\n"
     ]
    },
    {
     "data": {
      "application/vnd.jupyter.widget-view+json": {
       "model_id": "6c60987ad6174bf2a8b7e5b1b5f9b249",
       "version_major": 2,
       "version_minor": 0
      },
      "text/plain": [
       "HBox(children=(IntProgress(value=0, max=501), HTML(value='')))"
      ]
     },
     "metadata": {},
     "output_type": "display_data"
    },
    {
     "name": "stdout",
     "output_type": "stream",
     "text": [
      "Starting experimental run with id: 605\n"
     ]
    },
    {
     "data": {
      "application/vnd.jupyter.widget-view+json": {
       "model_id": "d5785e0b7bee48a3a8c300d9656fac5f",
       "version_major": 2,
       "version_minor": 0
      },
      "text/plain": [
       "HBox(children=(IntProgress(value=0, max=501), HTML(value='')))"
      ]
     },
     "metadata": {},
     "output_type": "display_data"
    },
    {
     "name": "stdout",
     "output_type": "stream",
     "text": [
      "Starting experimental run with id: 606\n"
     ]
    },
    {
     "data": {
      "application/vnd.jupyter.widget-view+json": {
       "model_id": "001fabb080d14fc4902ebdcd6464c83c",
       "version_major": 2,
       "version_minor": 0
      },
      "text/plain": [
       "HBox(children=(IntProgress(value=0, max=501), HTML(value='')))"
      ]
     },
     "metadata": {},
     "output_type": "display_data"
    },
    {
     "name": "stdout",
     "output_type": "stream",
     "text": [
      "Starting experimental run with id: 607\n"
     ]
    },
    {
     "data": {
      "application/vnd.jupyter.widget-view+json": {
       "model_id": "fe2bb0869c8746bd8f8fd37fa763cea7",
       "version_major": 2,
       "version_minor": 0
      },
      "text/plain": [
       "HBox(children=(IntProgress(value=0, max=501), HTML(value='')))"
      ]
     },
     "metadata": {},
     "output_type": "display_data"
    },
    {
     "name": "stdout",
     "output_type": "stream",
     "text": [
      "Starting experimental run with id: 608\n"
     ]
    },
    {
     "data": {
      "application/vnd.jupyter.widget-view+json": {
       "model_id": "0564b07251b943a7ada78f09b770ae32",
       "version_major": 2,
       "version_minor": 0
      },
      "text/plain": [
       "HBox(children=(IntProgress(value=0, max=501), HTML(value='')))"
      ]
     },
     "metadata": {},
     "output_type": "display_data"
    },
    {
     "name": "stdout",
     "output_type": "stream",
     "text": [
      "Starting experimental run with id: 609\n"
     ]
    },
    {
     "data": {
      "application/vnd.jupyter.widget-view+json": {
       "model_id": "2c35e30213a34525b66d474ea6614af5",
       "version_major": 2,
       "version_minor": 0
      },
      "text/plain": [
       "HBox(children=(IntProgress(value=0, max=501), HTML(value='')))"
      ]
     },
     "metadata": {},
     "output_type": "display_data"
    },
    {
     "name": "stdout",
     "output_type": "stream",
     "text": [
      "Starting experimental run with id: 610\n"
     ]
    },
    {
     "data": {
      "application/vnd.jupyter.widget-view+json": {
       "model_id": "5afac80933cc4d21bc49c616f2d60867",
       "version_major": 2,
       "version_minor": 0
      },
      "text/plain": [
       "HBox(children=(IntProgress(value=0, max=501), HTML(value='')))"
      ]
     },
     "metadata": {},
     "output_type": "display_data"
    },
    {
     "name": "stdout",
     "output_type": "stream",
     "text": [
      "Starting experimental run with id: 611\n"
     ]
    },
    {
     "data": {
      "application/vnd.jupyter.widget-view+json": {
       "model_id": "7d99386dd0c54f328d2b269a56828d57",
       "version_major": 2,
       "version_minor": 0
      },
      "text/plain": [
       "HBox(children=(IntProgress(value=0, max=501), HTML(value='')))"
      ]
     },
     "metadata": {},
     "output_type": "display_data"
    },
    {
     "name": "stdout",
     "output_type": "stream",
     "text": [
      "Starting experimental run with id: 612\n"
     ]
    },
    {
     "data": {
      "application/vnd.jupyter.widget-view+json": {
       "model_id": "7f5036e9ae4c41aeab3ae03e55f40d91",
       "version_major": 2,
       "version_minor": 0
      },
      "text/plain": [
       "HBox(children=(IntProgress(value=0, max=501), HTML(value='')))"
      ]
     },
     "metadata": {},
     "output_type": "display_data"
    },
    {
     "name": "stdout",
     "output_type": "stream",
     "text": [
      "Starting experimental run with id: 613\n"
     ]
    },
    {
     "data": {
      "application/vnd.jupyter.widget-view+json": {
       "model_id": "6c6941be1a5b44918b1495f34255d4f2",
       "version_major": 2,
       "version_minor": 0
      },
      "text/plain": [
       "HBox(children=(IntProgress(value=0, max=501), HTML(value='')))"
      ]
     },
     "metadata": {},
     "output_type": "display_data"
    },
    {
     "name": "stdout",
     "output_type": "stream",
     "text": [
      "Starting experimental run with id: 614\n"
     ]
    },
    {
     "data": {
      "application/vnd.jupyter.widget-view+json": {
       "model_id": "0e29244e76bb4ad4b51c575a93fb532b",
       "version_major": 2,
       "version_minor": 0
      },
      "text/plain": [
       "HBox(children=(IntProgress(value=0, max=501), HTML(value='')))"
      ]
     },
     "metadata": {},
     "output_type": "display_data"
    },
    {
     "name": "stdout",
     "output_type": "stream",
     "text": [
      "Starting experimental run with id: 615\n"
     ]
    },
    {
     "data": {
      "application/vnd.jupyter.widget-view+json": {
       "model_id": "4aab09fce48849698900331d5796b189",
       "version_major": 2,
       "version_minor": 0
      },
      "text/plain": [
       "HBox(children=(IntProgress(value=0, max=501), HTML(value='')))"
      ]
     },
     "metadata": {},
     "output_type": "display_data"
    },
    {
     "name": "stdout",
     "output_type": "stream",
     "text": [
      "Starting experimental run with id: 616\n"
     ]
    },
    {
     "data": {
      "application/vnd.jupyter.widget-view+json": {
       "model_id": "5dd21c09448547bab73c789d0247042b",
       "version_major": 2,
       "version_minor": 0
      },
      "text/plain": [
       "HBox(children=(IntProgress(value=0, max=501), HTML(value='')))"
      ]
     },
     "metadata": {},
     "output_type": "display_data"
    },
    {
     "name": "stdout",
     "output_type": "stream",
     "text": [
      "Starting experimental run with id: 617\n"
     ]
    },
    {
     "data": {
      "application/vnd.jupyter.widget-view+json": {
       "model_id": "818459c3e0a0404a9873bc0b37b82432",
       "version_major": 2,
       "version_minor": 0
      },
      "text/plain": [
       "HBox(children=(IntProgress(value=0, max=501), HTML(value='')))"
      ]
     },
     "metadata": {},
     "output_type": "display_data"
    },
    {
     "name": "stdout",
     "output_type": "stream",
     "text": [
      "Starting experimental run with id: 618\n"
     ]
    },
    {
     "data": {
      "application/vnd.jupyter.widget-view+json": {
       "model_id": "adbd83e852da4f2983a0b9614e3f7c5d",
       "version_major": 2,
       "version_minor": 0
      },
      "text/plain": [
       "HBox(children=(IntProgress(value=0, max=501), HTML(value='')))"
      ]
     },
     "metadata": {},
     "output_type": "display_data"
    },
    {
     "name": "stdout",
     "output_type": "stream",
     "text": [
      "Starting experimental run with id: 619\n"
     ]
    },
    {
     "data": {
      "application/vnd.jupyter.widget-view+json": {
       "model_id": "de035bf5c793448bb913d63a2d66d9ad",
       "version_major": 2,
       "version_minor": 0
      },
      "text/plain": [
       "HBox(children=(IntProgress(value=0, max=501), HTML(value='')))"
      ]
     },
     "metadata": {},
     "output_type": "display_data"
    },
    {
     "name": "stdout",
     "output_type": "stream",
     "text": [
      "Starting experimental run with id: 620\n"
     ]
    },
    {
     "data": {
      "application/vnd.jupyter.widget-view+json": {
       "model_id": "f537bef285d74affa23d52ef739b914b",
       "version_major": 2,
       "version_minor": 0
      },
      "text/plain": [
       "HBox(children=(IntProgress(value=0, max=501), HTML(value='')))"
      ]
     },
     "metadata": {},
     "output_type": "display_data"
    },
    {
     "name": "stdout",
     "output_type": "stream",
     "text": [
      "Starting experimental run with id: 621\n"
     ]
    },
    {
     "data": {
      "application/vnd.jupyter.widget-view+json": {
       "model_id": "b0921857f17145518eca3f2d3707696f",
       "version_major": 2,
       "version_minor": 0
      },
      "text/plain": [
       "HBox(children=(IntProgress(value=0, max=501), HTML(value='')))"
      ]
     },
     "metadata": {},
     "output_type": "display_data"
    },
    {
     "name": "stdout",
     "output_type": "stream",
     "text": [
      "Starting experimental run with id: 622\n"
     ]
    },
    {
     "data": {
      "application/vnd.jupyter.widget-view+json": {
       "model_id": "efddc1b71f0747768bdbc17faabf4039",
       "version_major": 2,
       "version_minor": 0
      },
      "text/plain": [
       "HBox(children=(IntProgress(value=0, max=501), HTML(value='')))"
      ]
     },
     "metadata": {},
     "output_type": "display_data"
    },
    {
     "name": "stdout",
     "output_type": "stream",
     "text": [
      "Starting experimental run with id: 623\n",
      "\n"
     ]
    },
    {
     "data": {
      "text/plain": [
       "[603,\n",
       " 604,\n",
       " 605,\n",
       " 606,\n",
       " 607,\n",
       " 608,\n",
       " 609,\n",
       " 610,\n",
       " 611,\n",
       " 612,\n",
       " 613,\n",
       " 614,\n",
       " 615,\n",
       " 616,\n",
       " 617,\n",
       " 618,\n",
       " 619,\n",
       " 620,\n",
       " 621,\n",
       " 622,\n",
       " 623]"
      ]
     },
     "execution_count": 146,
     "metadata": {},
     "output_type": "execute_result"
    }
   ],
   "source": [
    "i_list = np.linspace(0, 10e-9, 501)\n",
    "\n",
    "cos_list = np.linspace(0.23, 0.43, 21)\n",
    "\n",
    "Isrc.write_raw('SOUR:CURR:RANG 1e-6')\n",
    "\n",
    "\n",
    "\n",
    "[            jj.IVC_cust ( i_list, Vthr = 10e-6, dt = 0.1, N_avg = 1, label = 'fine Ic(B)')\n",
    "for jj in    jj.Bscan( cos_list = cos_list )]\n",
    "\n"
   ]
  },
  {
   "cell_type": "code",
   "execution_count": 148,
   "metadata": {
    "scrolled": true
   },
   "outputs": [
    {
     "data": {
      "application/vnd.jupyter.widget-view+json": {
       "model_id": "830277bc9adf44bca00125ad58eee524",
       "version_major": 2,
       "version_minor": 0
      },
      "text/plain": [
       "HBox(children=(IntProgress(value=0, max=57), HTML(value='')))"
      ]
     },
     "metadata": {},
     "output_type": "display_data"
    },
    {
     "data": {
      "application/vnd.jupyter.widget-view+json": {
       "model_id": "3e4872a2234349bd982ddd73d9be26b8",
       "version_major": 2,
       "version_minor": 0
      },
      "text/plain": [
       "HBox(children=(IntProgress(value=0, max=501), HTML(value='')))"
      ]
     },
     "metadata": {},
     "output_type": "display_data"
    },
    {
     "name": "stdout",
     "output_type": "stream",
     "text": [
      "Starting experimental run with id: 681\n"
     ]
    },
    {
     "data": {
      "application/vnd.jupyter.widget-view+json": {
       "model_id": "0d48b19ca6bc4bb48a6d96035b4b63ff",
       "version_major": 2,
       "version_minor": 0
      },
      "text/plain": [
       "HBox(children=(IntProgress(value=0, max=501), HTML(value='')))"
      ]
     },
     "metadata": {},
     "output_type": "display_data"
    },
    {
     "name": "stdout",
     "output_type": "stream",
     "text": [
      "Starting experimental run with id: 682\n"
     ]
    },
    {
     "data": {
      "application/vnd.jupyter.widget-view+json": {
       "model_id": "9a51bf11190d4dfa81197fcde1b997df",
       "version_major": 2,
       "version_minor": 0
      },
      "text/plain": [
       "HBox(children=(IntProgress(value=0, max=501), HTML(value='')))"
      ]
     },
     "metadata": {},
     "output_type": "display_data"
    },
    {
     "name": "stdout",
     "output_type": "stream",
     "text": [
      "Starting experimental run with id: 683\n"
     ]
    },
    {
     "data": {
      "application/vnd.jupyter.widget-view+json": {
       "model_id": "f052d78eaf424c0c91905e4551986fe9",
       "version_major": 2,
       "version_minor": 0
      },
      "text/plain": [
       "HBox(children=(IntProgress(value=0, max=501), HTML(value='')))"
      ]
     },
     "metadata": {},
     "output_type": "display_data"
    },
    {
     "name": "stdout",
     "output_type": "stream",
     "text": [
      "Starting experimental run with id: 684\n"
     ]
    },
    {
     "data": {
      "application/vnd.jupyter.widget-view+json": {
       "model_id": "7756857ee4ee46a08c341236a4319121",
       "version_major": 2,
       "version_minor": 0
      },
      "text/plain": [
       "HBox(children=(IntProgress(value=0, max=501), HTML(value='')))"
      ]
     },
     "metadata": {},
     "output_type": "display_data"
    },
    {
     "name": "stdout",
     "output_type": "stream",
     "text": [
      "Starting experimental run with id: 685\n"
     ]
    },
    {
     "data": {
      "application/vnd.jupyter.widget-view+json": {
       "model_id": "6cdeb3581ad44fc0bcc4a3a0bf7adf6e",
       "version_major": 2,
       "version_minor": 0
      },
      "text/plain": [
       "HBox(children=(IntProgress(value=0, max=501), HTML(value='')))"
      ]
     },
     "metadata": {},
     "output_type": "display_data"
    },
    {
     "name": "stdout",
     "output_type": "stream",
     "text": [
      "Starting experimental run with id: 686\n"
     ]
    },
    {
     "data": {
      "application/vnd.jupyter.widget-view+json": {
       "model_id": "49ea70116086469887d9fd12a66d4656",
       "version_major": 2,
       "version_minor": 0
      },
      "text/plain": [
       "HBox(children=(IntProgress(value=0, max=501), HTML(value='')))"
      ]
     },
     "metadata": {},
     "output_type": "display_data"
    },
    {
     "name": "stdout",
     "output_type": "stream",
     "text": [
      "Starting experimental run with id: 687\n"
     ]
    },
    {
     "data": {
      "application/vnd.jupyter.widget-view+json": {
       "model_id": "92664a3b724b4ee49a7bb97470aa971d",
       "version_major": 2,
       "version_minor": 0
      },
      "text/plain": [
       "HBox(children=(IntProgress(value=0, max=501), HTML(value='')))"
      ]
     },
     "metadata": {},
     "output_type": "display_data"
    },
    {
     "name": "stdout",
     "output_type": "stream",
     "text": [
      "Starting experimental run with id: 688\n"
     ]
    },
    {
     "data": {
      "application/vnd.jupyter.widget-view+json": {
       "model_id": "cd9b6ed9b58e4fadb1e9572a8c633f7d",
       "version_major": 2,
       "version_minor": 0
      },
      "text/plain": [
       "HBox(children=(IntProgress(value=0, max=501), HTML(value='')))"
      ]
     },
     "metadata": {},
     "output_type": "display_data"
    },
    {
     "name": "stdout",
     "output_type": "stream",
     "text": [
      "Starting experimental run with id: 689\n"
     ]
    },
    {
     "data": {
      "application/vnd.jupyter.widget-view+json": {
       "model_id": "a4bd40d285534183b5cb4967d1de741d",
       "version_major": 2,
       "version_minor": 0
      },
      "text/plain": [
       "HBox(children=(IntProgress(value=0, max=501), HTML(value='')))"
      ]
     },
     "metadata": {},
     "output_type": "display_data"
    },
    {
     "name": "stdout",
     "output_type": "stream",
     "text": [
      "Starting experimental run with id: 690\n"
     ]
    },
    {
     "data": {
      "application/vnd.jupyter.widget-view+json": {
       "model_id": "7aa39fbafe414aceaeda4d8ecd10f517",
       "version_major": 2,
       "version_minor": 0
      },
      "text/plain": [
       "HBox(children=(IntProgress(value=0, max=501), HTML(value='')))"
      ]
     },
     "metadata": {},
     "output_type": "display_data"
    },
    {
     "name": "stdout",
     "output_type": "stream",
     "text": [
      "Starting experimental run with id: 691\n"
     ]
    },
    {
     "data": {
      "application/vnd.jupyter.widget-view+json": {
       "model_id": "068d7a21d7c14e76994cfa11c9abc204",
       "version_major": 2,
       "version_minor": 0
      },
      "text/plain": [
       "HBox(children=(IntProgress(value=0, max=501), HTML(value='')))"
      ]
     },
     "metadata": {},
     "output_type": "display_data"
    },
    {
     "name": "stdout",
     "output_type": "stream",
     "text": [
      "Starting experimental run with id: 692\n"
     ]
    },
    {
     "data": {
      "application/vnd.jupyter.widget-view+json": {
       "model_id": "f070c0c2ddb9472ca24f5e368cc184b6",
       "version_major": 2,
       "version_minor": 0
      },
      "text/plain": [
       "HBox(children=(IntProgress(value=0, max=501), HTML(value='')))"
      ]
     },
     "metadata": {},
     "output_type": "display_data"
    },
    {
     "name": "stdout",
     "output_type": "stream",
     "text": [
      "Starting experimental run with id: 693\n"
     ]
    },
    {
     "data": {
      "application/vnd.jupyter.widget-view+json": {
       "model_id": "5d5ba39dc1ff4a3fa254bd72e11a07f0",
       "version_major": 2,
       "version_minor": 0
      },
      "text/plain": [
       "HBox(children=(IntProgress(value=0, max=501), HTML(value='')))"
      ]
     },
     "metadata": {},
     "output_type": "display_data"
    },
    {
     "name": "stdout",
     "output_type": "stream",
     "text": [
      "Starting experimental run with id: 694\n"
     ]
    },
    {
     "data": {
      "application/vnd.jupyter.widget-view+json": {
       "model_id": "9b4f25e7b3f846239f037aa7ae57387e",
       "version_major": 2,
       "version_minor": 0
      },
      "text/plain": [
       "HBox(children=(IntProgress(value=0, max=501), HTML(value='')))"
      ]
     },
     "metadata": {},
     "output_type": "display_data"
    },
    {
     "name": "stdout",
     "output_type": "stream",
     "text": [
      "Starting experimental run with id: 695\n"
     ]
    },
    {
     "data": {
      "application/vnd.jupyter.widget-view+json": {
       "model_id": "3b39cfa7ccab497585f2c2d919282520",
       "version_major": 2,
       "version_minor": 0
      },
      "text/plain": [
       "HBox(children=(IntProgress(value=0, max=501), HTML(value='')))"
      ]
     },
     "metadata": {},
     "output_type": "display_data"
    },
    {
     "name": "stdout",
     "output_type": "stream",
     "text": [
      "Starting experimental run with id: 696\n"
     ]
    },
    {
     "data": {
      "application/vnd.jupyter.widget-view+json": {
       "model_id": "061c45ce93554a298735492054285c36",
       "version_major": 2,
       "version_minor": 0
      },
      "text/plain": [
       "HBox(children=(IntProgress(value=0, max=501), HTML(value='')))"
      ]
     },
     "metadata": {},
     "output_type": "display_data"
    },
    {
     "name": "stdout",
     "output_type": "stream",
     "text": [
      "Starting experimental run with id: 697\n"
     ]
    },
    {
     "data": {
      "application/vnd.jupyter.widget-view+json": {
       "model_id": "d7723d571cf34c359ccbb290b0203fdb",
       "version_major": 2,
       "version_minor": 0
      },
      "text/plain": [
       "HBox(children=(IntProgress(value=0, max=501), HTML(value='')))"
      ]
     },
     "metadata": {},
     "output_type": "display_data"
    },
    {
     "name": "stdout",
     "output_type": "stream",
     "text": [
      "Starting experimental run with id: 698\n"
     ]
    },
    {
     "data": {
      "application/vnd.jupyter.widget-view+json": {
       "model_id": "56be1e6f52e74957bc7f20f1579ce19b",
       "version_major": 2,
       "version_minor": 0
      },
      "text/plain": [
       "HBox(children=(IntProgress(value=0, max=501), HTML(value='')))"
      ]
     },
     "metadata": {},
     "output_type": "display_data"
    },
    {
     "name": "stdout",
     "output_type": "stream",
     "text": [
      "Starting experimental run with id: 699\n"
     ]
    },
    {
     "data": {
      "application/vnd.jupyter.widget-view+json": {
       "model_id": "a49f51fa02f04fc58353287c0b8cd46c",
       "version_major": 2,
       "version_minor": 0
      },
      "text/plain": [
       "HBox(children=(IntProgress(value=0, max=501), HTML(value='')))"
      ]
     },
     "metadata": {},
     "output_type": "display_data"
    },
    {
     "name": "stdout",
     "output_type": "stream",
     "text": [
      "Starting experimental run with id: 700\n"
     ]
    },
    {
     "data": {
      "application/vnd.jupyter.widget-view+json": {
       "model_id": "d66d6a74d7e84f05998bf2f5cc890422",
       "version_major": 2,
       "version_minor": 0
      },
      "text/plain": [
       "HBox(children=(IntProgress(value=0, max=501), HTML(value='')))"
      ]
     },
     "metadata": {},
     "output_type": "display_data"
    },
    {
     "name": "stdout",
     "output_type": "stream",
     "text": [
      "Starting experimental run with id: 701\n"
     ]
    },
    {
     "data": {
      "application/vnd.jupyter.widget-view+json": {
       "model_id": "cb92c5bf769d432e8630994fe23782ed",
       "version_major": 2,
       "version_minor": 0
      },
      "text/plain": [
       "HBox(children=(IntProgress(value=0, max=501), HTML(value='')))"
      ]
     },
     "metadata": {},
     "output_type": "display_data"
    },
    {
     "name": "stdout",
     "output_type": "stream",
     "text": [
      "Starting experimental run with id: 702\n"
     ]
    },
    {
     "data": {
      "application/vnd.jupyter.widget-view+json": {
       "model_id": "3bce4e8376f14af8aa354ace0a2ec72f",
       "version_major": 2,
       "version_minor": 0
      },
      "text/plain": [
       "HBox(children=(IntProgress(value=0, max=501), HTML(value='')))"
      ]
     },
     "metadata": {},
     "output_type": "display_data"
    },
    {
     "name": "stdout",
     "output_type": "stream",
     "text": [
      "Starting experimental run with id: 703\n"
     ]
    },
    {
     "data": {
      "application/vnd.jupyter.widget-view+json": {
       "model_id": "0b97a5f1d81747b6bf8295bd2583163e",
       "version_major": 2,
       "version_minor": 0
      },
      "text/plain": [
       "HBox(children=(IntProgress(value=0, max=501), HTML(value='')))"
      ]
     },
     "metadata": {},
     "output_type": "display_data"
    },
    {
     "name": "stdout",
     "output_type": "stream",
     "text": [
      "Starting experimental run with id: 704\n"
     ]
    },
    {
     "data": {
      "application/vnd.jupyter.widget-view+json": {
       "model_id": "34dd6df2f86b468ca94d6ad6f06f61f3",
       "version_major": 2,
       "version_minor": 0
      },
      "text/plain": [
       "HBox(children=(IntProgress(value=0, max=501), HTML(value='')))"
      ]
     },
     "metadata": {},
     "output_type": "display_data"
    },
    {
     "name": "stdout",
     "output_type": "stream",
     "text": [
      "Starting experimental run with id: 705\n"
     ]
    },
    {
     "data": {
      "application/vnd.jupyter.widget-view+json": {
       "model_id": "b19f87820f964afdadc2b12fa82978f6",
       "version_major": 2,
       "version_minor": 0
      },
      "text/plain": [
       "HBox(children=(IntProgress(value=0, max=501), HTML(value='')))"
      ]
     },
     "metadata": {},
     "output_type": "display_data"
    },
    {
     "name": "stdout",
     "output_type": "stream",
     "text": [
      "Starting experimental run with id: 706\n"
     ]
    },
    {
     "data": {
      "application/vnd.jupyter.widget-view+json": {
       "model_id": "1cdf3f9d536c4a2c98ee48ab3c0a2336",
       "version_major": 2,
       "version_minor": 0
      },
      "text/plain": [
       "HBox(children=(IntProgress(value=0, max=501), HTML(value='')))"
      ]
     },
     "metadata": {},
     "output_type": "display_data"
    },
    {
     "name": "stdout",
     "output_type": "stream",
     "text": [
      "Starting experimental run with id: 707\n"
     ]
    },
    {
     "data": {
      "application/vnd.jupyter.widget-view+json": {
       "model_id": "4a72c649ecba4071a227938d992b5124",
       "version_major": 2,
       "version_minor": 0
      },
      "text/plain": [
       "HBox(children=(IntProgress(value=0, max=501), HTML(value='')))"
      ]
     },
     "metadata": {},
     "output_type": "display_data"
    },
    {
     "name": "stdout",
     "output_type": "stream",
     "text": [
      "Starting experimental run with id: 708\n"
     ]
    },
    {
     "data": {
      "application/vnd.jupyter.widget-view+json": {
       "model_id": "d7ce3d1d06814038817a8fbbea002377",
       "version_major": 2,
       "version_minor": 0
      },
      "text/plain": [
       "HBox(children=(IntProgress(value=0, max=501), HTML(value='')))"
      ]
     },
     "metadata": {},
     "output_type": "display_data"
    },
    {
     "name": "stdout",
     "output_type": "stream",
     "text": [
      "Starting experimental run with id: 709\n"
     ]
    },
    {
     "data": {
      "application/vnd.jupyter.widget-view+json": {
       "model_id": "c891b33094eb45a7a8df6878a0cf7924",
       "version_major": 2,
       "version_minor": 0
      },
      "text/plain": [
       "HBox(children=(IntProgress(value=0, max=501), HTML(value='')))"
      ]
     },
     "metadata": {},
     "output_type": "display_data"
    },
    {
     "name": "stdout",
     "output_type": "stream",
     "text": [
      "Starting experimental run with id: 710\n"
     ]
    },
    {
     "data": {
      "application/vnd.jupyter.widget-view+json": {
       "model_id": "312a857f287d49feb94eb6d9e10542cb",
       "version_major": 2,
       "version_minor": 0
      },
      "text/plain": [
       "HBox(children=(IntProgress(value=0, max=501), HTML(value='')))"
      ]
     },
     "metadata": {},
     "output_type": "display_data"
    },
    {
     "name": "stdout",
     "output_type": "stream",
     "text": [
      "Starting experimental run with id: 711\n"
     ]
    },
    {
     "data": {
      "application/vnd.jupyter.widget-view+json": {
       "model_id": "f625bcd0066a4e2e8eb57360b6d9dddc",
       "version_major": 2,
       "version_minor": 0
      },
      "text/plain": [
       "HBox(children=(IntProgress(value=0, max=501), HTML(value='')))"
      ]
     },
     "metadata": {},
     "output_type": "display_data"
    },
    {
     "name": "stdout",
     "output_type": "stream",
     "text": [
      "Starting experimental run with id: 712\n"
     ]
    },
    {
     "data": {
      "application/vnd.jupyter.widget-view+json": {
       "model_id": "81b65df96ee54affb5846adf9b36b149",
       "version_major": 2,
       "version_minor": 0
      },
      "text/plain": [
       "HBox(children=(IntProgress(value=0, max=501), HTML(value='')))"
      ]
     },
     "metadata": {},
     "output_type": "display_data"
    },
    {
     "name": "stdout",
     "output_type": "stream",
     "text": [
      "Starting experimental run with id: 713\n"
     ]
    },
    {
     "data": {
      "application/vnd.jupyter.widget-view+json": {
       "model_id": "cbfcfbd534654d9f846d07af36a2daad",
       "version_major": 2,
       "version_minor": 0
      },
      "text/plain": [
       "HBox(children=(IntProgress(value=0, max=501), HTML(value='')))"
      ]
     },
     "metadata": {},
     "output_type": "display_data"
    },
    {
     "name": "stdout",
     "output_type": "stream",
     "text": [
      "Starting experimental run with id: 714\n"
     ]
    },
    {
     "data": {
      "application/vnd.jupyter.widget-view+json": {
       "model_id": "06a2f2ecbf624f58956966dc6a8a2447",
       "version_major": 2,
       "version_minor": 0
      },
      "text/plain": [
       "HBox(children=(IntProgress(value=0, max=501), HTML(value='')))"
      ]
     },
     "metadata": {},
     "output_type": "display_data"
    },
    {
     "name": "stdout",
     "output_type": "stream",
     "text": [
      "Starting experimental run with id: 715\n"
     ]
    },
    {
     "data": {
      "application/vnd.jupyter.widget-view+json": {
       "model_id": "01709da66fcf45a59c2d5b98458e0a46",
       "version_major": 2,
       "version_minor": 0
      },
      "text/plain": [
       "HBox(children=(IntProgress(value=0, max=501), HTML(value='')))"
      ]
     },
     "metadata": {},
     "output_type": "display_data"
    },
    {
     "name": "stdout",
     "output_type": "stream",
     "text": [
      "Starting experimental run with id: 716\n"
     ]
    },
    {
     "data": {
      "application/vnd.jupyter.widget-view+json": {
       "model_id": "172f5d56c0a442489f29b7694f0fc352",
       "version_major": 2,
       "version_minor": 0
      },
      "text/plain": [
       "HBox(children=(IntProgress(value=0, max=501), HTML(value='')))"
      ]
     },
     "metadata": {},
     "output_type": "display_data"
    },
    {
     "name": "stdout",
     "output_type": "stream",
     "text": [
      "Starting experimental run with id: 717\n"
     ]
    },
    {
     "data": {
      "application/vnd.jupyter.widget-view+json": {
       "model_id": "942d8019d1ef40898371e1c6bce49831",
       "version_major": 2,
       "version_minor": 0
      },
      "text/plain": [
       "HBox(children=(IntProgress(value=0, max=501), HTML(value='')))"
      ]
     },
     "metadata": {},
     "output_type": "display_data"
    },
    {
     "name": "stdout",
     "output_type": "stream",
     "text": [
      "Starting experimental run with id: 718\n"
     ]
    },
    {
     "data": {
      "application/vnd.jupyter.widget-view+json": {
       "model_id": "2e49a758f6814319bd9de51d183b8fe8",
       "version_major": 2,
       "version_minor": 0
      },
      "text/plain": [
       "HBox(children=(IntProgress(value=0, max=501), HTML(value='')))"
      ]
     },
     "metadata": {},
     "output_type": "display_data"
    },
    {
     "name": "stdout",
     "output_type": "stream",
     "text": [
      "Starting experimental run with id: 719\n"
     ]
    },
    {
     "data": {
      "application/vnd.jupyter.widget-view+json": {
       "model_id": "fc8cd6e79eca44519ca9faf496077daf",
       "version_major": 2,
       "version_minor": 0
      },
      "text/plain": [
       "HBox(children=(IntProgress(value=0, max=501), HTML(value='')))"
      ]
     },
     "metadata": {},
     "output_type": "display_data"
    },
    {
     "name": "stdout",
     "output_type": "stream",
     "text": [
      "Starting experimental run with id: 720\n"
     ]
    },
    {
     "data": {
      "application/vnd.jupyter.widget-view+json": {
       "model_id": "3ceb85bb9e5d400988d53661e6072216",
       "version_major": 2,
       "version_minor": 0
      },
      "text/plain": [
       "HBox(children=(IntProgress(value=0, max=501), HTML(value='')))"
      ]
     },
     "metadata": {},
     "output_type": "display_data"
    },
    {
     "name": "stdout",
     "output_type": "stream",
     "text": [
      "Starting experimental run with id: 721\n"
     ]
    },
    {
     "data": {
      "application/vnd.jupyter.widget-view+json": {
       "model_id": "0a60ee9cdd0b4f0ba82cc8e998414d90",
       "version_major": 2,
       "version_minor": 0
      },
      "text/plain": [
       "HBox(children=(IntProgress(value=0, max=501), HTML(value='')))"
      ]
     },
     "metadata": {},
     "output_type": "display_data"
    },
    {
     "name": "stdout",
     "output_type": "stream",
     "text": [
      "Starting experimental run with id: 722\n"
     ]
    },
    {
     "data": {
      "application/vnd.jupyter.widget-view+json": {
       "model_id": "db74c6ce90b2410290565e87369f8df7",
       "version_major": 2,
       "version_minor": 0
      },
      "text/plain": [
       "HBox(children=(IntProgress(value=0, max=501), HTML(value='')))"
      ]
     },
     "metadata": {},
     "output_type": "display_data"
    },
    {
     "name": "stdout",
     "output_type": "stream",
     "text": [
      "Starting experimental run with id: 723\n"
     ]
    },
    {
     "data": {
      "application/vnd.jupyter.widget-view+json": {
       "model_id": "38ede96badb14e96b097b70744eaa1cb",
       "version_major": 2,
       "version_minor": 0
      },
      "text/plain": [
       "HBox(children=(IntProgress(value=0, max=501), HTML(value='')))"
      ]
     },
     "metadata": {},
     "output_type": "display_data"
    },
    {
     "name": "stdout",
     "output_type": "stream",
     "text": [
      "Starting experimental run with id: 724\n"
     ]
    },
    {
     "data": {
      "application/vnd.jupyter.widget-view+json": {
       "model_id": "65390b5f172141819971f02b8ba8c557",
       "version_major": 2,
       "version_minor": 0
      },
      "text/plain": [
       "HBox(children=(IntProgress(value=0, max=501), HTML(value='')))"
      ]
     },
     "metadata": {},
     "output_type": "display_data"
    },
    {
     "name": "stdout",
     "output_type": "stream",
     "text": [
      "Starting experimental run with id: 725\n"
     ]
    },
    {
     "data": {
      "application/vnd.jupyter.widget-view+json": {
       "model_id": "a50bd363b41644a98d76fa5a6a7917d0",
       "version_major": 2,
       "version_minor": 0
      },
      "text/plain": [
       "HBox(children=(IntProgress(value=0, max=501), HTML(value='')))"
      ]
     },
     "metadata": {},
     "output_type": "display_data"
    },
    {
     "name": "stdout",
     "output_type": "stream",
     "text": [
      "Starting experimental run with id: 726\n"
     ]
    },
    {
     "data": {
      "application/vnd.jupyter.widget-view+json": {
       "model_id": "54024c2b94834508826dcb652685d179",
       "version_major": 2,
       "version_minor": 0
      },
      "text/plain": [
       "HBox(children=(IntProgress(value=0, max=501), HTML(value='')))"
      ]
     },
     "metadata": {},
     "output_type": "display_data"
    },
    {
     "name": "stdout",
     "output_type": "stream",
     "text": [
      "Starting experimental run with id: 727\n"
     ]
    },
    {
     "data": {
      "application/vnd.jupyter.widget-view+json": {
       "model_id": "0a8bf0748e9b44f591990ed48e55fe6b",
       "version_major": 2,
       "version_minor": 0
      },
      "text/plain": [
       "HBox(children=(IntProgress(value=0, max=501), HTML(value='')))"
      ]
     },
     "metadata": {},
     "output_type": "display_data"
    },
    {
     "name": "stdout",
     "output_type": "stream",
     "text": [
      "Starting experimental run with id: 728\n"
     ]
    },
    {
     "data": {
      "application/vnd.jupyter.widget-view+json": {
       "model_id": "237d458a85104c1599f14d4788a5adc2",
       "version_major": 2,
       "version_minor": 0
      },
      "text/plain": [
       "HBox(children=(IntProgress(value=0, max=501), HTML(value='')))"
      ]
     },
     "metadata": {},
     "output_type": "display_data"
    },
    {
     "name": "stdout",
     "output_type": "stream",
     "text": [
      "Starting experimental run with id: 729\n"
     ]
    },
    {
     "data": {
      "application/vnd.jupyter.widget-view+json": {
       "model_id": "6e4bcead94f14799b30f3ec6e6ba7668",
       "version_major": 2,
       "version_minor": 0
      },
      "text/plain": [
       "HBox(children=(IntProgress(value=0, max=501), HTML(value='')))"
      ]
     },
     "metadata": {},
     "output_type": "display_data"
    },
    {
     "name": "stdout",
     "output_type": "stream",
     "text": [
      "Starting experimental run with id: 730\n"
     ]
    },
    {
     "data": {
      "application/vnd.jupyter.widget-view+json": {
       "model_id": "8c4e6444422844bc91f4f6c992eb10c1",
       "version_major": 2,
       "version_minor": 0
      },
      "text/plain": [
       "HBox(children=(IntProgress(value=0, max=501), HTML(value='')))"
      ]
     },
     "metadata": {},
     "output_type": "display_data"
    },
    {
     "name": "stdout",
     "output_type": "stream",
     "text": [
      "Starting experimental run with id: 731\n"
     ]
    },
    {
     "data": {
      "application/vnd.jupyter.widget-view+json": {
       "model_id": "69fa011681794c69b5135abe83544663",
       "version_major": 2,
       "version_minor": 0
      },
      "text/plain": [
       "HBox(children=(IntProgress(value=0, max=501), HTML(value='')))"
      ]
     },
     "metadata": {},
     "output_type": "display_data"
    },
    {
     "name": "stdout",
     "output_type": "stream",
     "text": [
      "Starting experimental run with id: 732\n"
     ]
    },
    {
     "data": {
      "application/vnd.jupyter.widget-view+json": {
       "model_id": "43ddfc9a67fa4b33b075e6e1c494bbd4",
       "version_major": 2,
       "version_minor": 0
      },
      "text/plain": [
       "HBox(children=(IntProgress(value=0, max=501), HTML(value='')))"
      ]
     },
     "metadata": {},
     "output_type": "display_data"
    },
    {
     "name": "stdout",
     "output_type": "stream",
     "text": [
      "Starting experimental run with id: 733\n"
     ]
    },
    {
     "data": {
      "application/vnd.jupyter.widget-view+json": {
       "model_id": "97712339b18e4569b0213c46e258f4d7",
       "version_major": 2,
       "version_minor": 0
      },
      "text/plain": [
       "HBox(children=(IntProgress(value=0, max=501), HTML(value='')))"
      ]
     },
     "metadata": {},
     "output_type": "display_data"
    },
    {
     "name": "stdout",
     "output_type": "stream",
     "text": [
      "Starting experimental run with id: 734\n"
     ]
    },
    {
     "data": {
      "application/vnd.jupyter.widget-view+json": {
       "model_id": "bb2c565aec45400289171212edcc1cb7",
       "version_major": 2,
       "version_minor": 0
      },
      "text/plain": [
       "HBox(children=(IntProgress(value=0, max=501), HTML(value='')))"
      ]
     },
     "metadata": {},
     "output_type": "display_data"
    },
    {
     "name": "stdout",
     "output_type": "stream",
     "text": [
      "Starting experimental run with id: 735\n"
     ]
    },
    {
     "data": {
      "application/vnd.jupyter.widget-view+json": {
       "model_id": "e4669d0ddf4243c8a2cd20951bc321e4",
       "version_major": 2,
       "version_minor": 0
      },
      "text/plain": [
       "HBox(children=(IntProgress(value=0, max=501), HTML(value='')))"
      ]
     },
     "metadata": {},
     "output_type": "display_data"
    },
    {
     "name": "stdout",
     "output_type": "stream",
     "text": [
      "Starting experimental run with id: 736\n"
     ]
    },
    {
     "data": {
      "application/vnd.jupyter.widget-view+json": {
       "model_id": "fe45461c84df4828849b10cd8909c995",
       "version_major": 2,
       "version_minor": 0
      },
      "text/plain": [
       "HBox(children=(IntProgress(value=0, max=501), HTML(value='')))"
      ]
     },
     "metadata": {},
     "output_type": "display_data"
    },
    {
     "name": "stdout",
     "output_type": "stream",
     "text": [
      "Starting experimental run with id: 737\n",
      "\n"
     ]
    },
    {
     "data": {
      "text/plain": [
       "[681,\n",
       " 682,\n",
       " 683,\n",
       " 684,\n",
       " 685,\n",
       " 686,\n",
       " 687,\n",
       " 688,\n",
       " 689,\n",
       " 690,\n",
       " 691,\n",
       " 692,\n",
       " 693,\n",
       " 694,\n",
       " 695,\n",
       " 696,\n",
       " 697,\n",
       " 698,\n",
       " 699,\n",
       " 700,\n",
       " 701,\n",
       " 702,\n",
       " 703,\n",
       " 704,\n",
       " 705,\n",
       " 706,\n",
       " 707,\n",
       " 708,\n",
       " 709,\n",
       " 710,\n",
       " 711,\n",
       " 712,\n",
       " 713,\n",
       " 714,\n",
       " 715,\n",
       " 716,\n",
       " 717,\n",
       " 718,\n",
       " 719,\n",
       " 720,\n",
       " 721,\n",
       " 722,\n",
       " 723,\n",
       " 724,\n",
       " 725,\n",
       " 726,\n",
       " 727,\n",
       " 728,\n",
       " 729,\n",
       " 730,\n",
       " 731,\n",
       " 732,\n",
       " 733,\n",
       " 734,\n",
       " 735,\n",
       " 736,\n",
       " 737]"
      ]
     },
     "execution_count": 148,
     "metadata": {},
     "output_type": "execute_result"
    }
   ],
   "source": [
    "i_list = np.linspace(0, 200e-9, 501)\n",
    "\n",
    "cos_list = np.linspace(0.44, 1, 57)\n",
    "\n",
    "Isrc.write_raw('SOUR:CURR:RANG 1e-4')\n",
    "\n",
    "\n",
    "\n",
    "[            jj.IVC_cust ( i_list, Vthr = 10e-6, dt = 0.1, N_avg = 1, label = 'fine Ic(B)')\n",
    "for jj in    jj.Bscan( cos_list = cos_list )]\n",
    "\n"
   ]
  },
  {
   "cell_type": "code",
   "execution_count": null,
   "metadata": {},
   "outputs": [],
   "source": [
    "i_list = np.concatenate([np.linspace(0, 30e-12, 251),\n",
    "                         np.linspace(30e-12, 0,  251)]) \n",
    "B_list = np.linspace(-1e-3, 1e-3, 51)\n",
    "\n",
    "[            jj.IVC_cust ( i_list, dt = 0.1, N_avg = 1, label = 'test Ic(B)')\n",
    "for jj in    jj.Bscan( B_list = B_list )]\n",
    "\n",
    "\n",
    "Bfield.set(0)"
   ]
  },
  {
   "cell_type": "code",
   "execution_count": null,
   "metadata": {
    "scrolled": true
   },
   "outputs": [],
   "source": [
    "# B_list = udu_list ( 4e-3, 0.2e-3)\n",
    "B_list = np.linspace(0, 1.85e-3, 11)\n",
    "\n",
    "i_list = udu_list(1e-12, 0.01e-12) -.25e-12\n",
    "\n",
    "\n",
    "\n",
    "[            jj.IVC_cust (i_list, dt = .5, N_avg = 4)\n",
    "for jj in    jj.Bscan( B_list = B_list )]\n",
    "\n",
    "Bfield.set(0)\n"
   ]
  },
  {
   "cell_type": "code",
   "execution_count": null,
   "metadata": {},
   "outputs": [],
   "source": [
    "jj.ZF = 0\n",
    "jj.FF = 1.85e-3\n",
    "cos_list = [1,0]\n",
    "\n",
    "[            jj.IVC_fwd (amp = 1e-12, stp = 0.1e-12, dt = .5, Ioff = -.35e-12)\n",
    "for jj in    jj.Bscan( cos_list = cos_list )]"
   ]
  },
  {
   "cell_type": "markdown",
   "metadata": {},
   "source": [
    "#### saving Isw(B)"
   ]
  },
  {
   "cell_type": "code",
   "execution_count": 151,
   "metadata": {},
   "outputs": [],
   "source": [
    "Isw_param = Parameter(name = 'Isw', label = 'Switching current',\n",
    "                      unit = 'A') \n",
    "\n",
    "cos_param = Parameter(name = 'cos', label = 'cos',\n",
    "                      unit = '')\n",
    "\n",
    "Ej_param = Parameter(name = 'Ej', label = 'Ej',\n",
    "                      unit = 'K')"
   ]
  },
  {
   "cell_type": "code",
   "execution_count": 153,
   "metadata": {},
   "outputs": [
    {
     "name": "stderr",
     "output_type": "stream",
     "text": [
      "..\\..\\_jjtools\\JJ_data_processing.py:276: RuntimeWarning: invalid value encountered in less\n",
      "  ind1 = np.where(np.abs(vA0) < dx )\n",
      "C:\\Users\\KelvinOX25\\Anaconda3\\lib\\site-packages\\numpy\\core\\fromnumeric.py:3118: RuntimeWarning: Mean of empty slice.\n",
      "  out=out, **kwargs)\n",
      "C:\\Users\\KelvinOX25\\Anaconda3\\lib\\site-packages\\numpy\\core\\_methods.py:85: RuntimeWarning: invalid value encountered in double_scalars\n",
      "  ret = ret.dtype.type(ret / rcount)\n"
     ]
    },
    {
     "data": {
      "application/javascript": [
       "/* Put everything inside the global mpl namespace */\n",
       "window.mpl = {};\n",
       "\n",
       "\n",
       "mpl.get_websocket_type = function() {\n",
       "    if (typeof(WebSocket) !== 'undefined') {\n",
       "        return WebSocket;\n",
       "    } else if (typeof(MozWebSocket) !== 'undefined') {\n",
       "        return MozWebSocket;\n",
       "    } else {\n",
       "        alert('Your browser does not have WebSocket support. ' +\n",
       "              'Please try Chrome, Safari or Firefox ≥ 6. ' +\n",
       "              'Firefox 4 and 5 are also supported but you ' +\n",
       "              'have to enable WebSockets in about:config.');\n",
       "    };\n",
       "}\n",
       "\n",
       "mpl.figure = function(figure_id, websocket, ondownload, parent_element) {\n",
       "    this.id = figure_id;\n",
       "\n",
       "    this.ws = websocket;\n",
       "\n",
       "    this.supports_binary = (this.ws.binaryType != undefined);\n",
       "\n",
       "    if (!this.supports_binary) {\n",
       "        var warnings = document.getElementById(\"mpl-warnings\");\n",
       "        if (warnings) {\n",
       "            warnings.style.display = 'block';\n",
       "            warnings.textContent = (\n",
       "                \"This browser does not support binary websocket messages. \" +\n",
       "                    \"Performance may be slow.\");\n",
       "        }\n",
       "    }\n",
       "\n",
       "    this.imageObj = new Image();\n",
       "\n",
       "    this.context = undefined;\n",
       "    this.message = undefined;\n",
       "    this.canvas = undefined;\n",
       "    this.rubberband_canvas = undefined;\n",
       "    this.rubberband_context = undefined;\n",
       "    this.format_dropdown = undefined;\n",
       "\n",
       "    this.image_mode = 'full';\n",
       "\n",
       "    this.root = $('<div/>');\n",
       "    this._root_extra_style(this.root)\n",
       "    this.root.attr('style', 'display: inline-block');\n",
       "\n",
       "    $(parent_element).append(this.root);\n",
       "\n",
       "    this._init_header(this);\n",
       "    this._init_canvas(this);\n",
       "    this._init_toolbar(this);\n",
       "\n",
       "    var fig = this;\n",
       "\n",
       "    this.waiting = false;\n",
       "\n",
       "    this.ws.onopen =  function () {\n",
       "            fig.send_message(\"supports_binary\", {value: fig.supports_binary});\n",
       "            fig.send_message(\"send_image_mode\", {});\n",
       "            if (mpl.ratio != 1) {\n",
       "                fig.send_message(\"set_dpi_ratio\", {'dpi_ratio': mpl.ratio});\n",
       "            }\n",
       "            fig.send_message(\"refresh\", {});\n",
       "        }\n",
       "\n",
       "    this.imageObj.onload = function() {\n",
       "            if (fig.image_mode == 'full') {\n",
       "                // Full images could contain transparency (where diff images\n",
       "                // almost always do), so we need to clear the canvas so that\n",
       "                // there is no ghosting.\n",
       "                fig.context.clearRect(0, 0, fig.canvas.width, fig.canvas.height);\n",
       "            }\n",
       "            fig.context.drawImage(fig.imageObj, 0, 0);\n",
       "        };\n",
       "\n",
       "    this.imageObj.onunload = function() {\n",
       "        fig.ws.close();\n",
       "    }\n",
       "\n",
       "    this.ws.onmessage = this._make_on_message_function(this);\n",
       "\n",
       "    this.ondownload = ondownload;\n",
       "}\n",
       "\n",
       "mpl.figure.prototype._init_header = function() {\n",
       "    var titlebar = $(\n",
       "        '<div class=\"ui-dialog-titlebar ui-widget-header ui-corner-all ' +\n",
       "        'ui-helper-clearfix\"/>');\n",
       "    var titletext = $(\n",
       "        '<div class=\"ui-dialog-title\" style=\"width: 100%; ' +\n",
       "        'text-align: center; padding: 3px;\"/>');\n",
       "    titlebar.append(titletext)\n",
       "    this.root.append(titlebar);\n",
       "    this.header = titletext[0];\n",
       "}\n",
       "\n",
       "\n",
       "\n",
       "mpl.figure.prototype._canvas_extra_style = function(canvas_div) {\n",
       "\n",
       "}\n",
       "\n",
       "\n",
       "mpl.figure.prototype._root_extra_style = function(canvas_div) {\n",
       "\n",
       "}\n",
       "\n",
       "mpl.figure.prototype._init_canvas = function() {\n",
       "    var fig = this;\n",
       "\n",
       "    var canvas_div = $('<div/>');\n",
       "\n",
       "    canvas_div.attr('style', 'position: relative; clear: both; outline: 0');\n",
       "\n",
       "    function canvas_keyboard_event(event) {\n",
       "        return fig.key_event(event, event['data']);\n",
       "    }\n",
       "\n",
       "    canvas_div.keydown('key_press', canvas_keyboard_event);\n",
       "    canvas_div.keyup('key_release', canvas_keyboard_event);\n",
       "    this.canvas_div = canvas_div\n",
       "    this._canvas_extra_style(canvas_div)\n",
       "    this.root.append(canvas_div);\n",
       "\n",
       "    var canvas = $('<canvas/>');\n",
       "    canvas.addClass('mpl-canvas');\n",
       "    canvas.attr('style', \"left: 0; top: 0; z-index: 0; outline: 0\")\n",
       "\n",
       "    this.canvas = canvas[0];\n",
       "    this.context = canvas[0].getContext(\"2d\");\n",
       "\n",
       "    var backingStore = this.context.backingStorePixelRatio ||\n",
       "\tthis.context.webkitBackingStorePixelRatio ||\n",
       "\tthis.context.mozBackingStorePixelRatio ||\n",
       "\tthis.context.msBackingStorePixelRatio ||\n",
       "\tthis.context.oBackingStorePixelRatio ||\n",
       "\tthis.context.backingStorePixelRatio || 1;\n",
       "\n",
       "    mpl.ratio = (window.devicePixelRatio || 1) / backingStore;\n",
       "\n",
       "    var rubberband = $('<canvas/>');\n",
       "    rubberband.attr('style', \"position: absolute; left: 0; top: 0; z-index: 1;\")\n",
       "\n",
       "    var pass_mouse_events = true;\n",
       "\n",
       "    canvas_div.resizable({\n",
       "        start: function(event, ui) {\n",
       "            pass_mouse_events = false;\n",
       "        },\n",
       "        resize: function(event, ui) {\n",
       "            fig.request_resize(ui.size.width, ui.size.height);\n",
       "        },\n",
       "        stop: function(event, ui) {\n",
       "            pass_mouse_events = true;\n",
       "            fig.request_resize(ui.size.width, ui.size.height);\n",
       "        },\n",
       "    });\n",
       "\n",
       "    function mouse_event_fn(event) {\n",
       "        if (pass_mouse_events)\n",
       "            return fig.mouse_event(event, event['data']);\n",
       "    }\n",
       "\n",
       "    rubberband.mousedown('button_press', mouse_event_fn);\n",
       "    rubberband.mouseup('button_release', mouse_event_fn);\n",
       "    // Throttle sequential mouse events to 1 every 20ms.\n",
       "    rubberband.mousemove('motion_notify', mouse_event_fn);\n",
       "\n",
       "    rubberband.mouseenter('figure_enter', mouse_event_fn);\n",
       "    rubberband.mouseleave('figure_leave', mouse_event_fn);\n",
       "\n",
       "    canvas_div.on(\"wheel\", function (event) {\n",
       "        event = event.originalEvent;\n",
       "        event['data'] = 'scroll'\n",
       "        if (event.deltaY < 0) {\n",
       "            event.step = 1;\n",
       "        } else {\n",
       "            event.step = -1;\n",
       "        }\n",
       "        mouse_event_fn(event);\n",
       "    });\n",
       "\n",
       "    canvas_div.append(canvas);\n",
       "    canvas_div.append(rubberband);\n",
       "\n",
       "    this.rubberband = rubberband;\n",
       "    this.rubberband_canvas = rubberband[0];\n",
       "    this.rubberband_context = rubberband[0].getContext(\"2d\");\n",
       "    this.rubberband_context.strokeStyle = \"#000000\";\n",
       "\n",
       "    this._resize_canvas = function(width, height) {\n",
       "        // Keep the size of the canvas, canvas container, and rubber band\n",
       "        // canvas in synch.\n",
       "        canvas_div.css('width', width)\n",
       "        canvas_div.css('height', height)\n",
       "\n",
       "        canvas.attr('width', width * mpl.ratio);\n",
       "        canvas.attr('height', height * mpl.ratio);\n",
       "        canvas.attr('style', 'width: ' + width + 'px; height: ' + height + 'px;');\n",
       "\n",
       "        rubberband.attr('width', width);\n",
       "        rubberband.attr('height', height);\n",
       "    }\n",
       "\n",
       "    // Set the figure to an initial 600x600px, this will subsequently be updated\n",
       "    // upon first draw.\n",
       "    this._resize_canvas(600, 600);\n",
       "\n",
       "    // Disable right mouse context menu.\n",
       "    $(this.rubberband_canvas).bind(\"contextmenu\",function(e){\n",
       "        return false;\n",
       "    });\n",
       "\n",
       "    function set_focus () {\n",
       "        canvas.focus();\n",
       "        canvas_div.focus();\n",
       "    }\n",
       "\n",
       "    window.setTimeout(set_focus, 100);\n",
       "}\n",
       "\n",
       "mpl.figure.prototype._init_toolbar = function() {\n",
       "    var fig = this;\n",
       "\n",
       "    var nav_element = $('<div/>');\n",
       "    nav_element.attr('style', 'width: 100%');\n",
       "    this.root.append(nav_element);\n",
       "\n",
       "    // Define a callback function for later on.\n",
       "    function toolbar_event(event) {\n",
       "        return fig.toolbar_button_onclick(event['data']);\n",
       "    }\n",
       "    function toolbar_mouse_event(event) {\n",
       "        return fig.toolbar_button_onmouseover(event['data']);\n",
       "    }\n",
       "\n",
       "    for(var toolbar_ind in mpl.toolbar_items) {\n",
       "        var name = mpl.toolbar_items[toolbar_ind][0];\n",
       "        var tooltip = mpl.toolbar_items[toolbar_ind][1];\n",
       "        var image = mpl.toolbar_items[toolbar_ind][2];\n",
       "        var method_name = mpl.toolbar_items[toolbar_ind][3];\n",
       "\n",
       "        if (!name) {\n",
       "            // put a spacer in here.\n",
       "            continue;\n",
       "        }\n",
       "        var button = $('<button/>');\n",
       "        button.addClass('ui-button ui-widget ui-state-default ui-corner-all ' +\n",
       "                        'ui-button-icon-only');\n",
       "        button.attr('role', 'button');\n",
       "        button.attr('aria-disabled', 'false');\n",
       "        button.click(method_name, toolbar_event);\n",
       "        button.mouseover(tooltip, toolbar_mouse_event);\n",
       "\n",
       "        var icon_img = $('<span/>');\n",
       "        icon_img.addClass('ui-button-icon-primary ui-icon');\n",
       "        icon_img.addClass(image);\n",
       "        icon_img.addClass('ui-corner-all');\n",
       "\n",
       "        var tooltip_span = $('<span/>');\n",
       "        tooltip_span.addClass('ui-button-text');\n",
       "        tooltip_span.html(tooltip);\n",
       "\n",
       "        button.append(icon_img);\n",
       "        button.append(tooltip_span);\n",
       "\n",
       "        nav_element.append(button);\n",
       "    }\n",
       "\n",
       "    var fmt_picker_span = $('<span/>');\n",
       "\n",
       "    var fmt_picker = $('<select/>');\n",
       "    fmt_picker.addClass('mpl-toolbar-option ui-widget ui-widget-content');\n",
       "    fmt_picker_span.append(fmt_picker);\n",
       "    nav_element.append(fmt_picker_span);\n",
       "    this.format_dropdown = fmt_picker[0];\n",
       "\n",
       "    for (var ind in mpl.extensions) {\n",
       "        var fmt = mpl.extensions[ind];\n",
       "        var option = $(\n",
       "            '<option/>', {selected: fmt === mpl.default_extension}).html(fmt);\n",
       "        fmt_picker.append(option);\n",
       "    }\n",
       "\n",
       "    // Add hover states to the ui-buttons\n",
       "    $( \".ui-button\" ).hover(\n",
       "        function() { $(this).addClass(\"ui-state-hover\");},\n",
       "        function() { $(this).removeClass(\"ui-state-hover\");}\n",
       "    );\n",
       "\n",
       "    var status_bar = $('<span class=\"mpl-message\"/>');\n",
       "    nav_element.append(status_bar);\n",
       "    this.message = status_bar[0];\n",
       "}\n",
       "\n",
       "mpl.figure.prototype.request_resize = function(x_pixels, y_pixels) {\n",
       "    // Request matplotlib to resize the figure. Matplotlib will then trigger a resize in the client,\n",
       "    // which will in turn request a refresh of the image.\n",
       "    this.send_message('resize', {'width': x_pixels, 'height': y_pixels});\n",
       "}\n",
       "\n",
       "mpl.figure.prototype.send_message = function(type, properties) {\n",
       "    properties['type'] = type;\n",
       "    properties['figure_id'] = this.id;\n",
       "    this.ws.send(JSON.stringify(properties));\n",
       "}\n",
       "\n",
       "mpl.figure.prototype.send_draw_message = function() {\n",
       "    if (!this.waiting) {\n",
       "        this.waiting = true;\n",
       "        this.ws.send(JSON.stringify({type: \"draw\", figure_id: this.id}));\n",
       "    }\n",
       "}\n",
       "\n",
       "\n",
       "mpl.figure.prototype.handle_save = function(fig, msg) {\n",
       "    var format_dropdown = fig.format_dropdown;\n",
       "    var format = format_dropdown.options[format_dropdown.selectedIndex].value;\n",
       "    fig.ondownload(fig, format);\n",
       "}\n",
       "\n",
       "\n",
       "mpl.figure.prototype.handle_resize = function(fig, msg) {\n",
       "    var size = msg['size'];\n",
       "    if (size[0] != fig.canvas.width || size[1] != fig.canvas.height) {\n",
       "        fig._resize_canvas(size[0], size[1]);\n",
       "        fig.send_message(\"refresh\", {});\n",
       "    };\n",
       "}\n",
       "\n",
       "mpl.figure.prototype.handle_rubberband = function(fig, msg) {\n",
       "    var x0 = msg['x0'] / mpl.ratio;\n",
       "    var y0 = (fig.canvas.height - msg['y0']) / mpl.ratio;\n",
       "    var x1 = msg['x1'] / mpl.ratio;\n",
       "    var y1 = (fig.canvas.height - msg['y1']) / mpl.ratio;\n",
       "    x0 = Math.floor(x0) + 0.5;\n",
       "    y0 = Math.floor(y0) + 0.5;\n",
       "    x1 = Math.floor(x1) + 0.5;\n",
       "    y1 = Math.floor(y1) + 0.5;\n",
       "    var min_x = Math.min(x0, x1);\n",
       "    var min_y = Math.min(y0, y1);\n",
       "    var width = Math.abs(x1 - x0);\n",
       "    var height = Math.abs(y1 - y0);\n",
       "\n",
       "    fig.rubberband_context.clearRect(\n",
       "        0, 0, fig.canvas.width / mpl.ratio, fig.canvas.height / mpl.ratio);\n",
       "\n",
       "    fig.rubberband_context.strokeRect(min_x, min_y, width, height);\n",
       "}\n",
       "\n",
       "mpl.figure.prototype.handle_figure_label = function(fig, msg) {\n",
       "    // Updates the figure title.\n",
       "    fig.header.textContent = msg['label'];\n",
       "}\n",
       "\n",
       "mpl.figure.prototype.handle_cursor = function(fig, msg) {\n",
       "    var cursor = msg['cursor'];\n",
       "    switch(cursor)\n",
       "    {\n",
       "    case 0:\n",
       "        cursor = 'pointer';\n",
       "        break;\n",
       "    case 1:\n",
       "        cursor = 'default';\n",
       "        break;\n",
       "    case 2:\n",
       "        cursor = 'crosshair';\n",
       "        break;\n",
       "    case 3:\n",
       "        cursor = 'move';\n",
       "        break;\n",
       "    }\n",
       "    fig.rubberband_canvas.style.cursor = cursor;\n",
       "}\n",
       "\n",
       "mpl.figure.prototype.handle_message = function(fig, msg) {\n",
       "    fig.message.textContent = msg['message'];\n",
       "}\n",
       "\n",
       "mpl.figure.prototype.handle_draw = function(fig, msg) {\n",
       "    // Request the server to send over a new figure.\n",
       "    fig.send_draw_message();\n",
       "}\n",
       "\n",
       "mpl.figure.prototype.handle_image_mode = function(fig, msg) {\n",
       "    fig.image_mode = msg['mode'];\n",
       "}\n",
       "\n",
       "mpl.figure.prototype.updated_canvas_event = function() {\n",
       "    // Called whenever the canvas gets updated.\n",
       "    this.send_message(\"ack\", {});\n",
       "}\n",
       "\n",
       "// A function to construct a web socket function for onmessage handling.\n",
       "// Called in the figure constructor.\n",
       "mpl.figure.prototype._make_on_message_function = function(fig) {\n",
       "    return function socket_on_message(evt) {\n",
       "        if (evt.data instanceof Blob) {\n",
       "            /* FIXME: We get \"Resource interpreted as Image but\n",
       "             * transferred with MIME type text/plain:\" errors on\n",
       "             * Chrome.  But how to set the MIME type?  It doesn't seem\n",
       "             * to be part of the websocket stream */\n",
       "            evt.data.type = \"image/png\";\n",
       "\n",
       "            /* Free the memory for the previous frames */\n",
       "            if (fig.imageObj.src) {\n",
       "                (window.URL || window.webkitURL).revokeObjectURL(\n",
       "                    fig.imageObj.src);\n",
       "            }\n",
       "\n",
       "            fig.imageObj.src = (window.URL || window.webkitURL).createObjectURL(\n",
       "                evt.data);\n",
       "            fig.updated_canvas_event();\n",
       "            fig.waiting = false;\n",
       "            return;\n",
       "        }\n",
       "        else if (typeof evt.data === 'string' && evt.data.slice(0, 21) == \"data:image/png;base64\") {\n",
       "            fig.imageObj.src = evt.data;\n",
       "            fig.updated_canvas_event();\n",
       "            fig.waiting = false;\n",
       "            return;\n",
       "        }\n",
       "\n",
       "        var msg = JSON.parse(evt.data);\n",
       "        var msg_type = msg['type'];\n",
       "\n",
       "        // Call the  \"handle_{type}\" callback, which takes\n",
       "        // the figure and JSON message as its only arguments.\n",
       "        try {\n",
       "            var callback = fig[\"handle_\" + msg_type];\n",
       "        } catch (e) {\n",
       "            console.log(\"No handler for the '\" + msg_type + \"' message type: \", msg);\n",
       "            return;\n",
       "        }\n",
       "\n",
       "        if (callback) {\n",
       "            try {\n",
       "                // console.log(\"Handling '\" + msg_type + \"' message: \", msg);\n",
       "                callback(fig, msg);\n",
       "            } catch (e) {\n",
       "                console.log(\"Exception inside the 'handler_\" + msg_type + \"' callback:\", e, e.stack, msg);\n",
       "            }\n",
       "        }\n",
       "    };\n",
       "}\n",
       "\n",
       "// from http://stackoverflow.com/questions/1114465/getting-mouse-location-in-canvas\n",
       "mpl.findpos = function(e) {\n",
       "    //this section is from http://www.quirksmode.org/js/events_properties.html\n",
       "    var targ;\n",
       "    if (!e)\n",
       "        e = window.event;\n",
       "    if (e.target)\n",
       "        targ = e.target;\n",
       "    else if (e.srcElement)\n",
       "        targ = e.srcElement;\n",
       "    if (targ.nodeType == 3) // defeat Safari bug\n",
       "        targ = targ.parentNode;\n",
       "\n",
       "    // jQuery normalizes the pageX and pageY\n",
       "    // pageX,Y are the mouse positions relative to the document\n",
       "    // offset() returns the position of the element relative to the document\n",
       "    var x = e.pageX - $(targ).offset().left;\n",
       "    var y = e.pageY - $(targ).offset().top;\n",
       "\n",
       "    return {\"x\": x, \"y\": y};\n",
       "};\n",
       "\n",
       "/*\n",
       " * return a copy of an object with only non-object keys\n",
       " * we need this to avoid circular references\n",
       " * http://stackoverflow.com/a/24161582/3208463\n",
       " */\n",
       "function simpleKeys (original) {\n",
       "  return Object.keys(original).reduce(function (obj, key) {\n",
       "    if (typeof original[key] !== 'object')\n",
       "        obj[key] = original[key]\n",
       "    return obj;\n",
       "  }, {});\n",
       "}\n",
       "\n",
       "mpl.figure.prototype.mouse_event = function(event, name) {\n",
       "    var canvas_pos = mpl.findpos(event)\n",
       "\n",
       "    if (name === 'button_press')\n",
       "    {\n",
       "        this.canvas.focus();\n",
       "        this.canvas_div.focus();\n",
       "    }\n",
       "\n",
       "    var x = canvas_pos.x * mpl.ratio;\n",
       "    var y = canvas_pos.y * mpl.ratio;\n",
       "\n",
       "    this.send_message(name, {x: x, y: y, button: event.button,\n",
       "                             step: event.step,\n",
       "                             guiEvent: simpleKeys(event)});\n",
       "\n",
       "    /* This prevents the web browser from automatically changing to\n",
       "     * the text insertion cursor when the button is pressed.  We want\n",
       "     * to control all of the cursor setting manually through the\n",
       "     * 'cursor' event from matplotlib */\n",
       "    event.preventDefault();\n",
       "    return false;\n",
       "}\n",
       "\n",
       "mpl.figure.prototype._key_event_extra = function(event, name) {\n",
       "    // Handle any extra behaviour associated with a key event\n",
       "}\n",
       "\n",
       "mpl.figure.prototype.key_event = function(event, name) {\n",
       "\n",
       "    // Prevent repeat events\n",
       "    if (name == 'key_press')\n",
       "    {\n",
       "        if (event.which === this._key)\n",
       "            return;\n",
       "        else\n",
       "            this._key = event.which;\n",
       "    }\n",
       "    if (name == 'key_release')\n",
       "        this._key = null;\n",
       "\n",
       "    var value = '';\n",
       "    if (event.ctrlKey && event.which != 17)\n",
       "        value += \"ctrl+\";\n",
       "    if (event.altKey && event.which != 18)\n",
       "        value += \"alt+\";\n",
       "    if (event.shiftKey && event.which != 16)\n",
       "        value += \"shift+\";\n",
       "\n",
       "    value += 'k';\n",
       "    value += event.which.toString();\n",
       "\n",
       "    this._key_event_extra(event, name);\n",
       "\n",
       "    this.send_message(name, {key: value,\n",
       "                             guiEvent: simpleKeys(event)});\n",
       "    return false;\n",
       "}\n",
       "\n",
       "mpl.figure.prototype.toolbar_button_onclick = function(name) {\n",
       "    if (name == 'download') {\n",
       "        this.handle_save(this, null);\n",
       "    } else {\n",
       "        this.send_message(\"toolbar_button\", {name: name});\n",
       "    }\n",
       "};\n",
       "\n",
       "mpl.figure.prototype.toolbar_button_onmouseover = function(tooltip) {\n",
       "    this.message.textContent = tooltip;\n",
       "};\n",
       "mpl.toolbar_items = [[\"Home\", \"Reset original view\", \"fa fa-home icon-home\", \"home\"], [\"Back\", \"Back to previous view\", \"fa fa-arrow-left icon-arrow-left\", \"back\"], [\"Forward\", \"Forward to next view\", \"fa fa-arrow-right icon-arrow-right\", \"forward\"], [\"\", \"\", \"\", \"\"], [\"Pan\", \"Pan axes with left mouse, zoom with right\", \"fa fa-arrows icon-move\", \"pan\"], [\"Zoom\", \"Zoom to rectangle\", \"fa fa-square-o icon-check-empty\", \"zoom\"], [\"\", \"\", \"\", \"\"], [\"Download\", \"Download plot\", \"fa fa-floppy-o icon-save\", \"download\"]];\n",
       "\n",
       "mpl.extensions = [\"eps\", \"jpeg\", \"pdf\", \"png\", \"ps\", \"raw\", \"svg\", \"tif\"];\n",
       "\n",
       "mpl.default_extension = \"png\";var comm_websocket_adapter = function(comm) {\n",
       "    // Create a \"websocket\"-like object which calls the given IPython comm\n",
       "    // object with the appropriate methods. Currently this is a non binary\n",
       "    // socket, so there is still some room for performance tuning.\n",
       "    var ws = {};\n",
       "\n",
       "    ws.close = function() {\n",
       "        comm.close()\n",
       "    };\n",
       "    ws.send = function(m) {\n",
       "        //console.log('sending', m);\n",
       "        comm.send(m);\n",
       "    };\n",
       "    // Register the callback with on_msg.\n",
       "    comm.on_msg(function(msg) {\n",
       "        //console.log('receiving', msg['content']['data'], msg);\n",
       "        // Pass the mpl event to the overridden (by mpl) onmessage function.\n",
       "        ws.onmessage(msg['content']['data'])\n",
       "    });\n",
       "    return ws;\n",
       "}\n",
       "\n",
       "mpl.mpl_figure_comm = function(comm, msg) {\n",
       "    // This is the function which gets called when the mpl process\n",
       "    // starts-up an IPython Comm through the \"matplotlib\" channel.\n",
       "\n",
       "    var id = msg.content.data.id;\n",
       "    // Get hold of the div created by the display call when the Comm\n",
       "    // socket was opened in Python.\n",
       "    var element = $(\"#\" + id);\n",
       "    var ws_proxy = comm_websocket_adapter(comm)\n",
       "\n",
       "    function ondownload(figure, format) {\n",
       "        window.open(figure.imageObj.src);\n",
       "    }\n",
       "\n",
       "    var fig = new mpl.figure(id, ws_proxy,\n",
       "                           ondownload,\n",
       "                           element.get(0));\n",
       "\n",
       "    // Call onopen now - mpl needs it, as it is assuming we've passed it a real\n",
       "    // web socket which is closed, not our websocket->open comm proxy.\n",
       "    ws_proxy.onopen();\n",
       "\n",
       "    fig.parent_element = element.get(0);\n",
       "    fig.cell_info = mpl.find_output_cell(\"<div id='\" + id + \"'></div>\");\n",
       "    if (!fig.cell_info) {\n",
       "        console.error(\"Failed to find cell for figure\", id, fig);\n",
       "        return;\n",
       "    }\n",
       "\n",
       "    var output_index = fig.cell_info[2]\n",
       "    var cell = fig.cell_info[0];\n",
       "\n",
       "};\n",
       "\n",
       "mpl.figure.prototype.handle_close = function(fig, msg) {\n",
       "    var width = fig.canvas.width/mpl.ratio\n",
       "    fig.root.unbind('remove')\n",
       "\n",
       "    // Update the output cell to use the data from the current canvas.\n",
       "    fig.push_to_output();\n",
       "    var dataURL = fig.canvas.toDataURL();\n",
       "    // Re-enable the keyboard manager in IPython - without this line, in FF,\n",
       "    // the notebook keyboard shortcuts fail.\n",
       "    IPython.keyboard_manager.enable()\n",
       "    $(fig.parent_element).html('<img src=\"' + dataURL + '\" width=\"' + width + '\">');\n",
       "    fig.close_ws(fig, msg);\n",
       "}\n",
       "\n",
       "mpl.figure.prototype.close_ws = function(fig, msg){\n",
       "    fig.send_message('closing', msg);\n",
       "    // fig.ws.close()\n",
       "}\n",
       "\n",
       "mpl.figure.prototype.push_to_output = function(remove_interactive) {\n",
       "    // Turn the data on the canvas into data in the output cell.\n",
       "    var width = this.canvas.width/mpl.ratio\n",
       "    var dataURL = this.canvas.toDataURL();\n",
       "    this.cell_info[1]['text/html'] = '<img src=\"' + dataURL + '\" width=\"' + width + '\">';\n",
       "}\n",
       "\n",
       "mpl.figure.prototype.updated_canvas_event = function() {\n",
       "    // Tell IPython that the notebook contents must change.\n",
       "    IPython.notebook.set_dirty(true);\n",
       "    this.send_message(\"ack\", {});\n",
       "    var fig = this;\n",
       "    // Wait a second, then push the new image to the DOM so\n",
       "    // that it is saved nicely (might be nice to debounce this).\n",
       "    setTimeout(function () { fig.push_to_output() }, 1000);\n",
       "}\n",
       "\n",
       "mpl.figure.prototype._init_toolbar = function() {\n",
       "    var fig = this;\n",
       "\n",
       "    var nav_element = $('<div/>');\n",
       "    nav_element.attr('style', 'width: 100%');\n",
       "    this.root.append(nav_element);\n",
       "\n",
       "    // Define a callback function for later on.\n",
       "    function toolbar_event(event) {\n",
       "        return fig.toolbar_button_onclick(event['data']);\n",
       "    }\n",
       "    function toolbar_mouse_event(event) {\n",
       "        return fig.toolbar_button_onmouseover(event['data']);\n",
       "    }\n",
       "\n",
       "    for(var toolbar_ind in mpl.toolbar_items){\n",
       "        var name = mpl.toolbar_items[toolbar_ind][0];\n",
       "        var tooltip = mpl.toolbar_items[toolbar_ind][1];\n",
       "        var image = mpl.toolbar_items[toolbar_ind][2];\n",
       "        var method_name = mpl.toolbar_items[toolbar_ind][3];\n",
       "\n",
       "        if (!name) { continue; };\n",
       "\n",
       "        var button = $('<button class=\"btn btn-default\" href=\"#\" title=\"' + name + '\"><i class=\"fa ' + image + ' fa-lg\"></i></button>');\n",
       "        button.click(method_name, toolbar_event);\n",
       "        button.mouseover(tooltip, toolbar_mouse_event);\n",
       "        nav_element.append(button);\n",
       "    }\n",
       "\n",
       "    // Add the status bar.\n",
       "    var status_bar = $('<span class=\"mpl-message\" style=\"text-align:right; float: right;\"/>');\n",
       "    nav_element.append(status_bar);\n",
       "    this.message = status_bar[0];\n",
       "\n",
       "    // Add the close button to the window.\n",
       "    var buttongrp = $('<div class=\"btn-group inline pull-right\"></div>');\n",
       "    var button = $('<button class=\"btn btn-mini btn-primary\" href=\"#\" title=\"Stop Interaction\"><i class=\"fa fa-power-off icon-remove icon-large\"></i></button>');\n",
       "    button.click(function (evt) { fig.handle_close(fig, {}); } );\n",
       "    button.mouseover('Stop Interaction', toolbar_mouse_event);\n",
       "    buttongrp.append(button);\n",
       "    var titlebar = this.root.find($('.ui-dialog-titlebar'));\n",
       "    titlebar.prepend(buttongrp);\n",
       "}\n",
       "\n",
       "mpl.figure.prototype._root_extra_style = function(el){\n",
       "    var fig = this\n",
       "    el.on(\"remove\", function(){\n",
       "\tfig.close_ws(fig, {});\n",
       "    });\n",
       "}\n",
       "\n",
       "mpl.figure.prototype._canvas_extra_style = function(el){\n",
       "    // this is important to make the div 'focusable\n",
       "    el.attr('tabindex', 0)\n",
       "    // reach out to IPython and tell the keyboard manager to turn it's self\n",
       "    // off when our div gets focus\n",
       "\n",
       "    // location in version 3\n",
       "    if (IPython.notebook.keyboard_manager) {\n",
       "        IPython.notebook.keyboard_manager.register_events(el);\n",
       "    }\n",
       "    else {\n",
       "        // location in version 2\n",
       "        IPython.keyboard_manager.register_events(el);\n",
       "    }\n",
       "\n",
       "}\n",
       "\n",
       "mpl.figure.prototype._key_event_extra = function(event, name) {\n",
       "    var manager = IPython.notebook.keyboard_manager;\n",
       "    if (!manager)\n",
       "        manager = IPython.keyboard_manager;\n",
       "\n",
       "    // Check for shift+enter\n",
       "    if (event.shiftKey && event.which == 13) {\n",
       "        this.canvas_div.blur();\n",
       "        // select the cell after this one\n",
       "        var index = IPython.notebook.find_cell_index(this.cell_info[0]);\n",
       "        IPython.notebook.select(index + 1);\n",
       "    }\n",
       "}\n",
       "\n",
       "mpl.figure.prototype.handle_save = function(fig, msg) {\n",
       "    fig.ondownload(fig, null);\n",
       "}\n",
       "\n",
       "\n",
       "mpl.find_output_cell = function(html_output) {\n",
       "    // Return the cell and output element which can be found *uniquely* in the notebook.\n",
       "    // Note - this is a bit hacky, but it is done because the \"notebook_saving.Notebook\"\n",
       "    // IPython event is triggered only after the cells have been serialised, which for\n",
       "    // our purposes (turning an active figure into a static one), is too late.\n",
       "    var cells = IPython.notebook.get_cells();\n",
       "    var ncells = cells.length;\n",
       "    for (var i=0; i<ncells; i++) {\n",
       "        var cell = cells[i];\n",
       "        if (cell.cell_type === 'code'){\n",
       "            for (var j=0; j<cell.output_area.outputs.length; j++) {\n",
       "                var data = cell.output_area.outputs[j];\n",
       "                if (data.data) {\n",
       "                    // IPython >= 3 moved mimebundle to data attribute of output\n",
       "                    data = data.data;\n",
       "                }\n",
       "                if (data['text/html'] == html_output) {\n",
       "                    return [cell, data, j];\n",
       "                }\n",
       "            }\n",
       "        }\n",
       "    }\n",
       "}\n",
       "\n",
       "// Register the function which deals with the matplotlib target/channel.\n",
       "// The kernel may be null if the page has been refreshed.\n",
       "if (IPython.notebook.kernel != null) {\n",
       "    IPython.notebook.kernel.comm_manager.register_target('matplotlib', mpl.mpl_figure_comm);\n",
       "}\n"
      ],
      "text/plain": [
       "<IPython.core.display.Javascript object>"
      ]
     },
     "metadata": {},
     "output_type": "display_data"
    },
    {
     "data": {
      "text/html": [
       "<img src=\"data:image/png;base64,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\" width=\"640\">"
      ],
      "text/plain": [
       "<IPython.core.display.HTML object>"
      ]
     },
     "metadata": {},
     "output_type": "display_data"
    },
    {
     "name": "stdout",
     "output_type": "stream",
     "text": [
      "Starting experimental run with id: 739\n"
     ]
    },
    {
     "data": {
      "text/plain": [
       "739"
      ]
     },
     "execution_count": 153,
     "metadata": {},
     "output_type": "execute_result"
    }
   ],
   "source": [
    "ids = [*range(592, 623+1), *range(681, 737+1)]\n",
    "cos_list = np.arange(0.12, 1.01, 0.01)\n",
    "\n",
    "\n",
    "Ics = jj.Isw_by_id(ids, fullIVC = False, dy = 50e-6)\n",
    "\n",
    "Ej0 = 5.4\n",
    "\n",
    "fig, ax = plt.subplots()\n",
    "ax.plot(cos_list, Ics, 'o-')\n",
    "# ax.plot(B_list, Ics, 'o-')\n",
    "\n",
    "\n",
    "jj.mock_meas((Isw_param , Ics), (Ej_param, Ej0*cos_list),\n",
    "             label = 'Isw vs Ej')"
   ]
  },
  {
   "cell_type": "code",
   "execution_count": 160,
   "metadata": {
    "scrolled": false
   },
   "outputs": [
    {
     "name": "stderr",
     "output_type": "stream",
     "text": [
      "C:\\Users\\KelvinOX25\\Anaconda3\\lib\\site-packages\\numpy\\core\\fromnumeric.py:3118: RuntimeWarning: Mean of empty slice.\n",
      "  out=out, **kwargs)\n",
      "C:\\Users\\KelvinOX25\\Anaconda3\\lib\\site-packages\\numpy\\core\\_methods.py:85: RuntimeWarning: invalid value encountered in double_scalars\n",
      "  ret = ret.dtype.type(ret / rcount)\n"
     ]
    },
    {
     "name": "stdout",
     "output_type": "stream",
     "text": [
      "no points in cut range\n",
      "no points in cut range\n",
      "no points in cut range\n",
      "no points in cut range\n"
     ]
    },
    {
     "data": {
      "application/javascript": [
       "/* Put everything inside the global mpl namespace */\n",
       "window.mpl = {};\n",
       "\n",
       "\n",
       "mpl.get_websocket_type = function() {\n",
       "    if (typeof(WebSocket) !== 'undefined') {\n",
       "        return WebSocket;\n",
       "    } else if (typeof(MozWebSocket) !== 'undefined') {\n",
       "        return MozWebSocket;\n",
       "    } else {\n",
       "        alert('Your browser does not have WebSocket support. ' +\n",
       "              'Please try Chrome, Safari or Firefox ≥ 6. ' +\n",
       "              'Firefox 4 and 5 are also supported but you ' +\n",
       "              'have to enable WebSockets in about:config.');\n",
       "    };\n",
       "}\n",
       "\n",
       "mpl.figure = function(figure_id, websocket, ondownload, parent_element) {\n",
       "    this.id = figure_id;\n",
       "\n",
       "    this.ws = websocket;\n",
       "\n",
       "    this.supports_binary = (this.ws.binaryType != undefined);\n",
       "\n",
       "    if (!this.supports_binary) {\n",
       "        var warnings = document.getElementById(\"mpl-warnings\");\n",
       "        if (warnings) {\n",
       "            warnings.style.display = 'block';\n",
       "            warnings.textContent = (\n",
       "                \"This browser does not support binary websocket messages. \" +\n",
       "                    \"Performance may be slow.\");\n",
       "        }\n",
       "    }\n",
       "\n",
       "    this.imageObj = new Image();\n",
       "\n",
       "    this.context = undefined;\n",
       "    this.message = undefined;\n",
       "    this.canvas = undefined;\n",
       "    this.rubberband_canvas = undefined;\n",
       "    this.rubberband_context = undefined;\n",
       "    this.format_dropdown = undefined;\n",
       "\n",
       "    this.image_mode = 'full';\n",
       "\n",
       "    this.root = $('<div/>');\n",
       "    this._root_extra_style(this.root)\n",
       "    this.root.attr('style', 'display: inline-block');\n",
       "\n",
       "    $(parent_element).append(this.root);\n",
       "\n",
       "    this._init_header(this);\n",
       "    this._init_canvas(this);\n",
       "    this._init_toolbar(this);\n",
       "\n",
       "    var fig = this;\n",
       "\n",
       "    this.waiting = false;\n",
       "\n",
       "    this.ws.onopen =  function () {\n",
       "            fig.send_message(\"supports_binary\", {value: fig.supports_binary});\n",
       "            fig.send_message(\"send_image_mode\", {});\n",
       "            if (mpl.ratio != 1) {\n",
       "                fig.send_message(\"set_dpi_ratio\", {'dpi_ratio': mpl.ratio});\n",
       "            }\n",
       "            fig.send_message(\"refresh\", {});\n",
       "        }\n",
       "\n",
       "    this.imageObj.onload = function() {\n",
       "            if (fig.image_mode == 'full') {\n",
       "                // Full images could contain transparency (where diff images\n",
       "                // almost always do), so we need to clear the canvas so that\n",
       "                // there is no ghosting.\n",
       "                fig.context.clearRect(0, 0, fig.canvas.width, fig.canvas.height);\n",
       "            }\n",
       "            fig.context.drawImage(fig.imageObj, 0, 0);\n",
       "        };\n",
       "\n",
       "    this.imageObj.onunload = function() {\n",
       "        fig.ws.close();\n",
       "    }\n",
       "\n",
       "    this.ws.onmessage = this._make_on_message_function(this);\n",
       "\n",
       "    this.ondownload = ondownload;\n",
       "}\n",
       "\n",
       "mpl.figure.prototype._init_header = function() {\n",
       "    var titlebar = $(\n",
       "        '<div class=\"ui-dialog-titlebar ui-widget-header ui-corner-all ' +\n",
       "        'ui-helper-clearfix\"/>');\n",
       "    var titletext = $(\n",
       "        '<div class=\"ui-dialog-title\" style=\"width: 100%; ' +\n",
       "        'text-align: center; padding: 3px;\"/>');\n",
       "    titlebar.append(titletext)\n",
       "    this.root.append(titlebar);\n",
       "    this.header = titletext[0];\n",
       "}\n",
       "\n",
       "\n",
       "\n",
       "mpl.figure.prototype._canvas_extra_style = function(canvas_div) {\n",
       "\n",
       "}\n",
       "\n",
       "\n",
       "mpl.figure.prototype._root_extra_style = function(canvas_div) {\n",
       "\n",
       "}\n",
       "\n",
       "mpl.figure.prototype._init_canvas = function() {\n",
       "    var fig = this;\n",
       "\n",
       "    var canvas_div = $('<div/>');\n",
       "\n",
       "    canvas_div.attr('style', 'position: relative; clear: both; outline: 0');\n",
       "\n",
       "    function canvas_keyboard_event(event) {\n",
       "        return fig.key_event(event, event['data']);\n",
       "    }\n",
       "\n",
       "    canvas_div.keydown('key_press', canvas_keyboard_event);\n",
       "    canvas_div.keyup('key_release', canvas_keyboard_event);\n",
       "    this.canvas_div = canvas_div\n",
       "    this._canvas_extra_style(canvas_div)\n",
       "    this.root.append(canvas_div);\n",
       "\n",
       "    var canvas = $('<canvas/>');\n",
       "    canvas.addClass('mpl-canvas');\n",
       "    canvas.attr('style', \"left: 0; top: 0; z-index: 0; outline: 0\")\n",
       "\n",
       "    this.canvas = canvas[0];\n",
       "    this.context = canvas[0].getContext(\"2d\");\n",
       "\n",
       "    var backingStore = this.context.backingStorePixelRatio ||\n",
       "\tthis.context.webkitBackingStorePixelRatio ||\n",
       "\tthis.context.mozBackingStorePixelRatio ||\n",
       "\tthis.context.msBackingStorePixelRatio ||\n",
       "\tthis.context.oBackingStorePixelRatio ||\n",
       "\tthis.context.backingStorePixelRatio || 1;\n",
       "\n",
       "    mpl.ratio = (window.devicePixelRatio || 1) / backingStore;\n",
       "\n",
       "    var rubberband = $('<canvas/>');\n",
       "    rubberband.attr('style', \"position: absolute; left: 0; top: 0; z-index: 1;\")\n",
       "\n",
       "    var pass_mouse_events = true;\n",
       "\n",
       "    canvas_div.resizable({\n",
       "        start: function(event, ui) {\n",
       "            pass_mouse_events = false;\n",
       "        },\n",
       "        resize: function(event, ui) {\n",
       "            fig.request_resize(ui.size.width, ui.size.height);\n",
       "        },\n",
       "        stop: function(event, ui) {\n",
       "            pass_mouse_events = true;\n",
       "            fig.request_resize(ui.size.width, ui.size.height);\n",
       "        },\n",
       "    });\n",
       "\n",
       "    function mouse_event_fn(event) {\n",
       "        if (pass_mouse_events)\n",
       "            return fig.mouse_event(event, event['data']);\n",
       "    }\n",
       "\n",
       "    rubberband.mousedown('button_press', mouse_event_fn);\n",
       "    rubberband.mouseup('button_release', mouse_event_fn);\n",
       "    // Throttle sequential mouse events to 1 every 20ms.\n",
       "    rubberband.mousemove('motion_notify', mouse_event_fn);\n",
       "\n",
       "    rubberband.mouseenter('figure_enter', mouse_event_fn);\n",
       "    rubberband.mouseleave('figure_leave', mouse_event_fn);\n",
       "\n",
       "    canvas_div.on(\"wheel\", function (event) {\n",
       "        event = event.originalEvent;\n",
       "        event['data'] = 'scroll'\n",
       "        if (event.deltaY < 0) {\n",
       "            event.step = 1;\n",
       "        } else {\n",
       "            event.step = -1;\n",
       "        }\n",
       "        mouse_event_fn(event);\n",
       "    });\n",
       "\n",
       "    canvas_div.append(canvas);\n",
       "    canvas_div.append(rubberband);\n",
       "\n",
       "    this.rubberband = rubberband;\n",
       "    this.rubberband_canvas = rubberband[0];\n",
       "    this.rubberband_context = rubberband[0].getContext(\"2d\");\n",
       "    this.rubberband_context.strokeStyle = \"#000000\";\n",
       "\n",
       "    this._resize_canvas = function(width, height) {\n",
       "        // Keep the size of the canvas, canvas container, and rubber band\n",
       "        // canvas in synch.\n",
       "        canvas_div.css('width', width)\n",
       "        canvas_div.css('height', height)\n",
       "\n",
       "        canvas.attr('width', width * mpl.ratio);\n",
       "        canvas.attr('height', height * mpl.ratio);\n",
       "        canvas.attr('style', 'width: ' + width + 'px; height: ' + height + 'px;');\n",
       "\n",
       "        rubberband.attr('width', width);\n",
       "        rubberband.attr('height', height);\n",
       "    }\n",
       "\n",
       "    // Set the figure to an initial 600x600px, this will subsequently be updated\n",
       "    // upon first draw.\n",
       "    this._resize_canvas(600, 600);\n",
       "\n",
       "    // Disable right mouse context menu.\n",
       "    $(this.rubberband_canvas).bind(\"contextmenu\",function(e){\n",
       "        return false;\n",
       "    });\n",
       "\n",
       "    function set_focus () {\n",
       "        canvas.focus();\n",
       "        canvas_div.focus();\n",
       "    }\n",
       "\n",
       "    window.setTimeout(set_focus, 100);\n",
       "}\n",
       "\n",
       "mpl.figure.prototype._init_toolbar = function() {\n",
       "    var fig = this;\n",
       "\n",
       "    var nav_element = $('<div/>');\n",
       "    nav_element.attr('style', 'width: 100%');\n",
       "    this.root.append(nav_element);\n",
       "\n",
       "    // Define a callback function for later on.\n",
       "    function toolbar_event(event) {\n",
       "        return fig.toolbar_button_onclick(event['data']);\n",
       "    }\n",
       "    function toolbar_mouse_event(event) {\n",
       "        return fig.toolbar_button_onmouseover(event['data']);\n",
       "    }\n",
       "\n",
       "    for(var toolbar_ind in mpl.toolbar_items) {\n",
       "        var name = mpl.toolbar_items[toolbar_ind][0];\n",
       "        var tooltip = mpl.toolbar_items[toolbar_ind][1];\n",
       "        var image = mpl.toolbar_items[toolbar_ind][2];\n",
       "        var method_name = mpl.toolbar_items[toolbar_ind][3];\n",
       "\n",
       "        if (!name) {\n",
       "            // put a spacer in here.\n",
       "            continue;\n",
       "        }\n",
       "        var button = $('<button/>');\n",
       "        button.addClass('ui-button ui-widget ui-state-default ui-corner-all ' +\n",
       "                        'ui-button-icon-only');\n",
       "        button.attr('role', 'button');\n",
       "        button.attr('aria-disabled', 'false');\n",
       "        button.click(method_name, toolbar_event);\n",
       "        button.mouseover(tooltip, toolbar_mouse_event);\n",
       "\n",
       "        var icon_img = $('<span/>');\n",
       "        icon_img.addClass('ui-button-icon-primary ui-icon');\n",
       "        icon_img.addClass(image);\n",
       "        icon_img.addClass('ui-corner-all');\n",
       "\n",
       "        var tooltip_span = $('<span/>');\n",
       "        tooltip_span.addClass('ui-button-text');\n",
       "        tooltip_span.html(tooltip);\n",
       "\n",
       "        button.append(icon_img);\n",
       "        button.append(tooltip_span);\n",
       "\n",
       "        nav_element.append(button);\n",
       "    }\n",
       "\n",
       "    var fmt_picker_span = $('<span/>');\n",
       "\n",
       "    var fmt_picker = $('<select/>');\n",
       "    fmt_picker.addClass('mpl-toolbar-option ui-widget ui-widget-content');\n",
       "    fmt_picker_span.append(fmt_picker);\n",
       "    nav_element.append(fmt_picker_span);\n",
       "    this.format_dropdown = fmt_picker[0];\n",
       "\n",
       "    for (var ind in mpl.extensions) {\n",
       "        var fmt = mpl.extensions[ind];\n",
       "        var option = $(\n",
       "            '<option/>', {selected: fmt === mpl.default_extension}).html(fmt);\n",
       "        fmt_picker.append(option);\n",
       "    }\n",
       "\n",
       "    // Add hover states to the ui-buttons\n",
       "    $( \".ui-button\" ).hover(\n",
       "        function() { $(this).addClass(\"ui-state-hover\");},\n",
       "        function() { $(this).removeClass(\"ui-state-hover\");}\n",
       "    );\n",
       "\n",
       "    var status_bar = $('<span class=\"mpl-message\"/>');\n",
       "    nav_element.append(status_bar);\n",
       "    this.message = status_bar[0];\n",
       "}\n",
       "\n",
       "mpl.figure.prototype.request_resize = function(x_pixels, y_pixels) {\n",
       "    // Request matplotlib to resize the figure. Matplotlib will then trigger a resize in the client,\n",
       "    // which will in turn request a refresh of the image.\n",
       "    this.send_message('resize', {'width': x_pixels, 'height': y_pixels});\n",
       "}\n",
       "\n",
       "mpl.figure.prototype.send_message = function(type, properties) {\n",
       "    properties['type'] = type;\n",
       "    properties['figure_id'] = this.id;\n",
       "    this.ws.send(JSON.stringify(properties));\n",
       "}\n",
       "\n",
       "mpl.figure.prototype.send_draw_message = function() {\n",
       "    if (!this.waiting) {\n",
       "        this.waiting = true;\n",
       "        this.ws.send(JSON.stringify({type: \"draw\", figure_id: this.id}));\n",
       "    }\n",
       "}\n",
       "\n",
       "\n",
       "mpl.figure.prototype.handle_save = function(fig, msg) {\n",
       "    var format_dropdown = fig.format_dropdown;\n",
       "    var format = format_dropdown.options[format_dropdown.selectedIndex].value;\n",
       "    fig.ondownload(fig, format);\n",
       "}\n",
       "\n",
       "\n",
       "mpl.figure.prototype.handle_resize = function(fig, msg) {\n",
       "    var size = msg['size'];\n",
       "    if (size[0] != fig.canvas.width || size[1] != fig.canvas.height) {\n",
       "        fig._resize_canvas(size[0], size[1]);\n",
       "        fig.send_message(\"refresh\", {});\n",
       "    };\n",
       "}\n",
       "\n",
       "mpl.figure.prototype.handle_rubberband = function(fig, msg) {\n",
       "    var x0 = msg['x0'] / mpl.ratio;\n",
       "    var y0 = (fig.canvas.height - msg['y0']) / mpl.ratio;\n",
       "    var x1 = msg['x1'] / mpl.ratio;\n",
       "    var y1 = (fig.canvas.height - msg['y1']) / mpl.ratio;\n",
       "    x0 = Math.floor(x0) + 0.5;\n",
       "    y0 = Math.floor(y0) + 0.5;\n",
       "    x1 = Math.floor(x1) + 0.5;\n",
       "    y1 = Math.floor(y1) + 0.5;\n",
       "    var min_x = Math.min(x0, x1);\n",
       "    var min_y = Math.min(y0, y1);\n",
       "    var width = Math.abs(x1 - x0);\n",
       "    var height = Math.abs(y1 - y0);\n",
       "\n",
       "    fig.rubberband_context.clearRect(\n",
       "        0, 0, fig.canvas.width / mpl.ratio, fig.canvas.height / mpl.ratio);\n",
       "\n",
       "    fig.rubberband_context.strokeRect(min_x, min_y, width, height);\n",
       "}\n",
       "\n",
       "mpl.figure.prototype.handle_figure_label = function(fig, msg) {\n",
       "    // Updates the figure title.\n",
       "    fig.header.textContent = msg['label'];\n",
       "}\n",
       "\n",
       "mpl.figure.prototype.handle_cursor = function(fig, msg) {\n",
       "    var cursor = msg['cursor'];\n",
       "    switch(cursor)\n",
       "    {\n",
       "    case 0:\n",
       "        cursor = 'pointer';\n",
       "        break;\n",
       "    case 1:\n",
       "        cursor = 'default';\n",
       "        break;\n",
       "    case 2:\n",
       "        cursor = 'crosshair';\n",
       "        break;\n",
       "    case 3:\n",
       "        cursor = 'move';\n",
       "        break;\n",
       "    }\n",
       "    fig.rubberband_canvas.style.cursor = cursor;\n",
       "}\n",
       "\n",
       "mpl.figure.prototype.handle_message = function(fig, msg) {\n",
       "    fig.message.textContent = msg['message'];\n",
       "}\n",
       "\n",
       "mpl.figure.prototype.handle_draw = function(fig, msg) {\n",
       "    // Request the server to send over a new figure.\n",
       "    fig.send_draw_message();\n",
       "}\n",
       "\n",
       "mpl.figure.prototype.handle_image_mode = function(fig, msg) {\n",
       "    fig.image_mode = msg['mode'];\n",
       "}\n",
       "\n",
       "mpl.figure.prototype.updated_canvas_event = function() {\n",
       "    // Called whenever the canvas gets updated.\n",
       "    this.send_message(\"ack\", {});\n",
       "}\n",
       "\n",
       "// A function to construct a web socket function for onmessage handling.\n",
       "// Called in the figure constructor.\n",
       "mpl.figure.prototype._make_on_message_function = function(fig) {\n",
       "    return function socket_on_message(evt) {\n",
       "        if (evt.data instanceof Blob) {\n",
       "            /* FIXME: We get \"Resource interpreted as Image but\n",
       "             * transferred with MIME type text/plain:\" errors on\n",
       "             * Chrome.  But how to set the MIME type?  It doesn't seem\n",
       "             * to be part of the websocket stream */\n",
       "            evt.data.type = \"image/png\";\n",
       "\n",
       "            /* Free the memory for the previous frames */\n",
       "            if (fig.imageObj.src) {\n",
       "                (window.URL || window.webkitURL).revokeObjectURL(\n",
       "                    fig.imageObj.src);\n",
       "            }\n",
       "\n",
       "            fig.imageObj.src = (window.URL || window.webkitURL).createObjectURL(\n",
       "                evt.data);\n",
       "            fig.updated_canvas_event();\n",
       "            fig.waiting = false;\n",
       "            return;\n",
       "        }\n",
       "        else if (typeof evt.data === 'string' && evt.data.slice(0, 21) == \"data:image/png;base64\") {\n",
       "            fig.imageObj.src = evt.data;\n",
       "            fig.updated_canvas_event();\n",
       "            fig.waiting = false;\n",
       "            return;\n",
       "        }\n",
       "\n",
       "        var msg = JSON.parse(evt.data);\n",
       "        var msg_type = msg['type'];\n",
       "\n",
       "        // Call the  \"handle_{type}\" callback, which takes\n",
       "        // the figure and JSON message as its only arguments.\n",
       "        try {\n",
       "            var callback = fig[\"handle_\" + msg_type];\n",
       "        } catch (e) {\n",
       "            console.log(\"No handler for the '\" + msg_type + \"' message type: \", msg);\n",
       "            return;\n",
       "        }\n",
       "\n",
       "        if (callback) {\n",
       "            try {\n",
       "                // console.log(\"Handling '\" + msg_type + \"' message: \", msg);\n",
       "                callback(fig, msg);\n",
       "            } catch (e) {\n",
       "                console.log(\"Exception inside the 'handler_\" + msg_type + \"' callback:\", e, e.stack, msg);\n",
       "            }\n",
       "        }\n",
       "    };\n",
       "}\n",
       "\n",
       "// from http://stackoverflow.com/questions/1114465/getting-mouse-location-in-canvas\n",
       "mpl.findpos = function(e) {\n",
       "    //this section is from http://www.quirksmode.org/js/events_properties.html\n",
       "    var targ;\n",
       "    if (!e)\n",
       "        e = window.event;\n",
       "    if (e.target)\n",
       "        targ = e.target;\n",
       "    else if (e.srcElement)\n",
       "        targ = e.srcElement;\n",
       "    if (targ.nodeType == 3) // defeat Safari bug\n",
       "        targ = targ.parentNode;\n",
       "\n",
       "    // jQuery normalizes the pageX and pageY\n",
       "    // pageX,Y are the mouse positions relative to the document\n",
       "    // offset() returns the position of the element relative to the document\n",
       "    var x = e.pageX - $(targ).offset().left;\n",
       "    var y = e.pageY - $(targ).offset().top;\n",
       "\n",
       "    return {\"x\": x, \"y\": y};\n",
       "};\n",
       "\n",
       "/*\n",
       " * return a copy of an object with only non-object keys\n",
       " * we need this to avoid circular references\n",
       " * http://stackoverflow.com/a/24161582/3208463\n",
       " */\n",
       "function simpleKeys (original) {\n",
       "  return Object.keys(original).reduce(function (obj, key) {\n",
       "    if (typeof original[key] !== 'object')\n",
       "        obj[key] = original[key]\n",
       "    return obj;\n",
       "  }, {});\n",
       "}\n",
       "\n",
       "mpl.figure.prototype.mouse_event = function(event, name) {\n",
       "    var canvas_pos = mpl.findpos(event)\n",
       "\n",
       "    if (name === 'button_press')\n",
       "    {\n",
       "        this.canvas.focus();\n",
       "        this.canvas_div.focus();\n",
       "    }\n",
       "\n",
       "    var x = canvas_pos.x * mpl.ratio;\n",
       "    var y = canvas_pos.y * mpl.ratio;\n",
       "\n",
       "    this.send_message(name, {x: x, y: y, button: event.button,\n",
       "                             step: event.step,\n",
       "                             guiEvent: simpleKeys(event)});\n",
       "\n",
       "    /* This prevents the web browser from automatically changing to\n",
       "     * the text insertion cursor when the button is pressed.  We want\n",
       "     * to control all of the cursor setting manually through the\n",
       "     * 'cursor' event from matplotlib */\n",
       "    event.preventDefault();\n",
       "    return false;\n",
       "}\n",
       "\n",
       "mpl.figure.prototype._key_event_extra = function(event, name) {\n",
       "    // Handle any extra behaviour associated with a key event\n",
       "}\n",
       "\n",
       "mpl.figure.prototype.key_event = function(event, name) {\n",
       "\n",
       "    // Prevent repeat events\n",
       "    if (name == 'key_press')\n",
       "    {\n",
       "        if (event.which === this._key)\n",
       "            return;\n",
       "        else\n",
       "            this._key = event.which;\n",
       "    }\n",
       "    if (name == 'key_release')\n",
       "        this._key = null;\n",
       "\n",
       "    var value = '';\n",
       "    if (event.ctrlKey && event.which != 17)\n",
       "        value += \"ctrl+\";\n",
       "    if (event.altKey && event.which != 18)\n",
       "        value += \"alt+\";\n",
       "    if (event.shiftKey && event.which != 16)\n",
       "        value += \"shift+\";\n",
       "\n",
       "    value += 'k';\n",
       "    value += event.which.toString();\n",
       "\n",
       "    this._key_event_extra(event, name);\n",
       "\n",
       "    this.send_message(name, {key: value,\n",
       "                             guiEvent: simpleKeys(event)});\n",
       "    return false;\n",
       "}\n",
       "\n",
       "mpl.figure.prototype.toolbar_button_onclick = function(name) {\n",
       "    if (name == 'download') {\n",
       "        this.handle_save(this, null);\n",
       "    } else {\n",
       "        this.send_message(\"toolbar_button\", {name: name});\n",
       "    }\n",
       "};\n",
       "\n",
       "mpl.figure.prototype.toolbar_button_onmouseover = function(tooltip) {\n",
       "    this.message.textContent = tooltip;\n",
       "};\n",
       "mpl.toolbar_items = [[\"Home\", \"Reset original view\", \"fa fa-home icon-home\", \"home\"], [\"Back\", \"Back to previous view\", \"fa fa-arrow-left icon-arrow-left\", \"back\"], [\"Forward\", \"Forward to next view\", \"fa fa-arrow-right icon-arrow-right\", \"forward\"], [\"\", \"\", \"\", \"\"], [\"Pan\", \"Pan axes with left mouse, zoom with right\", \"fa fa-arrows icon-move\", \"pan\"], [\"Zoom\", \"Zoom to rectangle\", \"fa fa-square-o icon-check-empty\", \"zoom\"], [\"\", \"\", \"\", \"\"], [\"Download\", \"Download plot\", \"fa fa-floppy-o icon-save\", \"download\"]];\n",
       "\n",
       "mpl.extensions = [\"eps\", \"jpeg\", \"pdf\", \"png\", \"ps\", \"raw\", \"svg\", \"tif\"];\n",
       "\n",
       "mpl.default_extension = \"png\";var comm_websocket_adapter = function(comm) {\n",
       "    // Create a \"websocket\"-like object which calls the given IPython comm\n",
       "    // object with the appropriate methods. Currently this is a non binary\n",
       "    // socket, so there is still some room for performance tuning.\n",
       "    var ws = {};\n",
       "\n",
       "    ws.close = function() {\n",
       "        comm.close()\n",
       "    };\n",
       "    ws.send = function(m) {\n",
       "        //console.log('sending', m);\n",
       "        comm.send(m);\n",
       "    };\n",
       "    // Register the callback with on_msg.\n",
       "    comm.on_msg(function(msg) {\n",
       "        //console.log('receiving', msg['content']['data'], msg);\n",
       "        // Pass the mpl event to the overridden (by mpl) onmessage function.\n",
       "        ws.onmessage(msg['content']['data'])\n",
       "    });\n",
       "    return ws;\n",
       "}\n",
       "\n",
       "mpl.mpl_figure_comm = function(comm, msg) {\n",
       "    // This is the function which gets called when the mpl process\n",
       "    // starts-up an IPython Comm through the \"matplotlib\" channel.\n",
       "\n",
       "    var id = msg.content.data.id;\n",
       "    // Get hold of the div created by the display call when the Comm\n",
       "    // socket was opened in Python.\n",
       "    var element = $(\"#\" + id);\n",
       "    var ws_proxy = comm_websocket_adapter(comm)\n",
       "\n",
       "    function ondownload(figure, format) {\n",
       "        window.open(figure.imageObj.src);\n",
       "    }\n",
       "\n",
       "    var fig = new mpl.figure(id, ws_proxy,\n",
       "                           ondownload,\n",
       "                           element.get(0));\n",
       "\n",
       "    // Call onopen now - mpl needs it, as it is assuming we've passed it a real\n",
       "    // web socket which is closed, not our websocket->open comm proxy.\n",
       "    ws_proxy.onopen();\n",
       "\n",
       "    fig.parent_element = element.get(0);\n",
       "    fig.cell_info = mpl.find_output_cell(\"<div id='\" + id + \"'></div>\");\n",
       "    if (!fig.cell_info) {\n",
       "        console.error(\"Failed to find cell for figure\", id, fig);\n",
       "        return;\n",
       "    }\n",
       "\n",
       "    var output_index = fig.cell_info[2]\n",
       "    var cell = fig.cell_info[0];\n",
       "\n",
       "};\n",
       "\n",
       "mpl.figure.prototype.handle_close = function(fig, msg) {\n",
       "    var width = fig.canvas.width/mpl.ratio\n",
       "    fig.root.unbind('remove')\n",
       "\n",
       "    // Update the output cell to use the data from the current canvas.\n",
       "    fig.push_to_output();\n",
       "    var dataURL = fig.canvas.toDataURL();\n",
       "    // Re-enable the keyboard manager in IPython - without this line, in FF,\n",
       "    // the notebook keyboard shortcuts fail.\n",
       "    IPython.keyboard_manager.enable()\n",
       "    $(fig.parent_element).html('<img src=\"' + dataURL + '\" width=\"' + width + '\">');\n",
       "    fig.close_ws(fig, msg);\n",
       "}\n",
       "\n",
       "mpl.figure.prototype.close_ws = function(fig, msg){\n",
       "    fig.send_message('closing', msg);\n",
       "    // fig.ws.close()\n",
       "}\n",
       "\n",
       "mpl.figure.prototype.push_to_output = function(remove_interactive) {\n",
       "    // Turn the data on the canvas into data in the output cell.\n",
       "    var width = this.canvas.width/mpl.ratio\n",
       "    var dataURL = this.canvas.toDataURL();\n",
       "    this.cell_info[1]['text/html'] = '<img src=\"' + dataURL + '\" width=\"' + width + '\">';\n",
       "}\n",
       "\n",
       "mpl.figure.prototype.updated_canvas_event = function() {\n",
       "    // Tell IPython that the notebook contents must change.\n",
       "    IPython.notebook.set_dirty(true);\n",
       "    this.send_message(\"ack\", {});\n",
       "    var fig = this;\n",
       "    // Wait a second, then push the new image to the DOM so\n",
       "    // that it is saved nicely (might be nice to debounce this).\n",
       "    setTimeout(function () { fig.push_to_output() }, 1000);\n",
       "}\n",
       "\n",
       "mpl.figure.prototype._init_toolbar = function() {\n",
       "    var fig = this;\n",
       "\n",
       "    var nav_element = $('<div/>');\n",
       "    nav_element.attr('style', 'width: 100%');\n",
       "    this.root.append(nav_element);\n",
       "\n",
       "    // Define a callback function for later on.\n",
       "    function toolbar_event(event) {\n",
       "        return fig.toolbar_button_onclick(event['data']);\n",
       "    }\n",
       "    function toolbar_mouse_event(event) {\n",
       "        return fig.toolbar_button_onmouseover(event['data']);\n",
       "    }\n",
       "\n",
       "    for(var toolbar_ind in mpl.toolbar_items){\n",
       "        var name = mpl.toolbar_items[toolbar_ind][0];\n",
       "        var tooltip = mpl.toolbar_items[toolbar_ind][1];\n",
       "        var image = mpl.toolbar_items[toolbar_ind][2];\n",
       "        var method_name = mpl.toolbar_items[toolbar_ind][3];\n",
       "\n",
       "        if (!name) { continue; };\n",
       "\n",
       "        var button = $('<button class=\"btn btn-default\" href=\"#\" title=\"' + name + '\"><i class=\"fa ' + image + ' fa-lg\"></i></button>');\n",
       "        button.click(method_name, toolbar_event);\n",
       "        button.mouseover(tooltip, toolbar_mouse_event);\n",
       "        nav_element.append(button);\n",
       "    }\n",
       "\n",
       "    // Add the status bar.\n",
       "    var status_bar = $('<span class=\"mpl-message\" style=\"text-align:right; float: right;\"/>');\n",
       "    nav_element.append(status_bar);\n",
       "    this.message = status_bar[0];\n",
       "\n",
       "    // Add the close button to the window.\n",
       "    var buttongrp = $('<div class=\"btn-group inline pull-right\"></div>');\n",
       "    var button = $('<button class=\"btn btn-mini btn-primary\" href=\"#\" title=\"Stop Interaction\"><i class=\"fa fa-power-off icon-remove icon-large\"></i></button>');\n",
       "    button.click(function (evt) { fig.handle_close(fig, {}); } );\n",
       "    button.mouseover('Stop Interaction', toolbar_mouse_event);\n",
       "    buttongrp.append(button);\n",
       "    var titlebar = this.root.find($('.ui-dialog-titlebar'));\n",
       "    titlebar.prepend(buttongrp);\n",
       "}\n",
       "\n",
       "mpl.figure.prototype._root_extra_style = function(el){\n",
       "    var fig = this\n",
       "    el.on(\"remove\", function(){\n",
       "\tfig.close_ws(fig, {});\n",
       "    });\n",
       "}\n",
       "\n",
       "mpl.figure.prototype._canvas_extra_style = function(el){\n",
       "    // this is important to make the div 'focusable\n",
       "    el.attr('tabindex', 0)\n",
       "    // reach out to IPython and tell the keyboard manager to turn it's self\n",
       "    // off when our div gets focus\n",
       "\n",
       "    // location in version 3\n",
       "    if (IPython.notebook.keyboard_manager) {\n",
       "        IPython.notebook.keyboard_manager.register_events(el);\n",
       "    }\n",
       "    else {\n",
       "        // location in version 2\n",
       "        IPython.keyboard_manager.register_events(el);\n",
       "    }\n",
       "\n",
       "}\n",
       "\n",
       "mpl.figure.prototype._key_event_extra = function(event, name) {\n",
       "    var manager = IPython.notebook.keyboard_manager;\n",
       "    if (!manager)\n",
       "        manager = IPython.keyboard_manager;\n",
       "\n",
       "    // Check for shift+enter\n",
       "    if (event.shiftKey && event.which == 13) {\n",
       "        this.canvas_div.blur();\n",
       "        // select the cell after this one\n",
       "        var index = IPython.notebook.find_cell_index(this.cell_info[0]);\n",
       "        IPython.notebook.select(index + 1);\n",
       "    }\n",
       "}\n",
       "\n",
       "mpl.figure.prototype.handle_save = function(fig, msg) {\n",
       "    fig.ondownload(fig, null);\n",
       "}\n",
       "\n",
       "\n",
       "mpl.find_output_cell = function(html_output) {\n",
       "    // Return the cell and output element which can be found *uniquely* in the notebook.\n",
       "    // Note - this is a bit hacky, but it is done because the \"notebook_saving.Notebook\"\n",
       "    // IPython event is triggered only after the cells have been serialised, which for\n",
       "    // our purposes (turning an active figure into a static one), is too late.\n",
       "    var cells = IPython.notebook.get_cells();\n",
       "    var ncells = cells.length;\n",
       "    for (var i=0; i<ncells; i++) {\n",
       "        var cell = cells[i];\n",
       "        if (cell.cell_type === 'code'){\n",
       "            for (var j=0; j<cell.output_area.outputs.length; j++) {\n",
       "                var data = cell.output_area.outputs[j];\n",
       "                if (data.data) {\n",
       "                    // IPython >= 3 moved mimebundle to data attribute of output\n",
       "                    data = data.data;\n",
       "                }\n",
       "                if (data['text/html'] == html_output) {\n",
       "                    return [cell, data, j];\n",
       "                }\n",
       "            }\n",
       "        }\n",
       "    }\n",
       "}\n",
       "\n",
       "// Register the function which deals with the matplotlib target/channel.\n",
       "// The kernel may be null if the page has been refreshed.\n",
       "if (IPython.notebook.kernel != null) {\n",
       "    IPython.notebook.kernel.comm_manager.register_target('matplotlib', mpl.mpl_figure_comm);\n",
       "}\n"
      ],
      "text/plain": [
       "<IPython.core.display.Javascript object>"
      ]
     },
     "metadata": {},
     "output_type": "display_data"
    },
    {
     "data": {
      "text/html": [
       "<img src=\"data:image/png;base64,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\" width=\"640\">"
      ],
      "text/plain": [
       "<IPython.core.display.HTML object>"
      ]
     },
     "metadata": {},
     "output_type": "display_data"
    },
    {
     "name": "stdout",
     "output_type": "stream",
     "text": [
      "Starting experimental run with id: 1725\n"
     ]
    },
    {
     "data": {
      "text/plain": [
       "1725"
      ]
     },
     "execution_count": 160,
     "metadata": {},
     "output_type": "execute_result"
    }
   ],
   "source": [
    "jj79N6 = JJmeas(sample = 'D079N6')\n",
    "jj79N6.db_connect()\n",
    "jj79N6.ZF = 4e-6\n",
    "jj79N6.FF = 232e-6\n",
    "\n",
    "\n",
    "\n",
    "ids = range(763,813+1)\n",
    "# jj79N6.bpbi(ids)\n",
    "\n",
    "\n",
    "B_list =   np.linspace(4e-6, 232e-6, 51)\n",
    "cos_list = jj79N6.B_to_cos(B_list)\n",
    "\n",
    "Ics = jj79N6.Isw_by_id(ids, fullIVC = True, yoff = -.715e-3, dy = 10e-6)\n",
    "\n",
    "Ej0 = 4.49\n",
    "\n",
    "fig, ax = plt.subplots()\n",
    "ax.plot(cos_list, Ics, 'o-')\n",
    "# ax.plot(B_list, Ics, 'o-')\n",
    "\n",
    "\n",
    "jj79N6.mock_meas((Isw_param , Ics), (Ej_param, Ej0*cos_list),\n",
    "             label = 'Isw vs Ej')"
   ]
  },
  {
   "cell_type": "markdown",
   "metadata": {},
   "source": [
    "### T scan"
   ]
  },
  {
   "cell_type": "code",
   "execution_count": 135,
   "metadata": {},
   "outputs": [
    {
     "data": {
      "text/plain": [
       "'Heater changed = 3.16mA'"
      ]
     },
     "execution_count": 135,
     "metadata": {},
     "output_type": "execute_result"
    }
   ],
   "source": [
    "htr.HTRset('3.16mA')"
   ]
  },
  {
   "cell_type": "code",
   "execution_count": 35,
   "metadata": {},
   "outputs": [],
   "source": [
    "htr.output_range('3.16mA')"
   ]
  },
  {
   "cell_type": "code",
   "execution_count": 33,
   "metadata": {},
   "outputs": [
    {
     "data": {
      "text/plain": [
       "0.0344948"
      ]
     },
     "execution_count": 33,
     "metadata": {},
     "output_type": "execute_result"
    }
   ],
   "source": [
    "T8.get()"
   ]
  },
  {
   "cell_type": "code",
   "execution_count": 51,
   "metadata": {},
   "outputs": [
    {
     "name": "stdout",
     "output_type": "stream",
     "text": [
      "0.19154216771905513\n"
     ]
    },
    {
     "data": {
      "application/vnd.jupyter.widget-view+json": {
       "model_id": "769faafa726f41cab9fbc7b62cf1df43",
       "version_major": 2,
       "version_minor": 0
      },
      "text/plain": [
       "HBox(children=(IntProgress(value=0, max=17), HTML(value='')))"
      ]
     },
     "metadata": {},
     "output_type": "display_data"
    },
    {
     "name": "stdout",
     "output_type": "stream",
     "text": [
      "ramping T8 to 40.0 mK...\n",
      "40.7 m\n",
      "40.6 m\n",
      "40.7 m\n",
      "40.7 m\n",
      "40.5 m\n",
      "40.6 m\n",
      "40.5 m\n",
      "40.2 m\n",
      "40.5 m\n",
      "40.1 m\n",
      "40.3 m\n",
      "40.2 m\n",
      "40.2 m\n",
      "40.1 m\n",
      "40.0 m\n",
      "39.9 m\n",
      "39.8 m\n",
      "39.8 m\n",
      "39.9 m\n",
      "39.9 m\n",
      "T is set\n"
     ]
    },
    {
     "data": {
      "application/vnd.jupyter.widget-view+json": {
       "model_id": "",
       "version_major": 2,
       "version_minor": 0
      },
      "text/plain": [
       "HBox(children=(IntProgress(value=0, max=403), HTML(value='')))"
      ]
     },
     "metadata": {},
     "output_type": "display_data"
    },
    {
     "name": "stdout",
     "output_type": "stream",
     "text": [
      "Starting experimental run with id: 1473\n",
      "ramping T8 to 50.0 mK...\n",
      "51.0 m\n",
      "51.0 m\n",
      "50.8 m\n",
      "50.6 m\n",
      "50.8 m\n",
      "50.8 m\n",
      "50.8 m\n",
      "50.6 m\n",
      "50.5 m\n",
      "50.7 m\n",
      "50.6 m\n",
      "50.6 m\n",
      "50.4 m\n",
      "50.4 m\n",
      "50.1 m\n",
      "50.2 m\n",
      "50.0 m\n",
      "50.1 m\n",
      "50.0 m\n",
      "49.9 m\n",
      "50.1 m\n",
      "49.9 m\n",
      "T is set\n"
     ]
    },
    {
     "data": {
      "application/vnd.jupyter.widget-view+json": {
       "model_id": "",
       "version_major": 2,
       "version_minor": 0
      },
      "text/plain": [
       "HBox(children=(IntProgress(value=0, max=403), HTML(value='')))"
      ]
     },
     "metadata": {},
     "output_type": "display_data"
    },
    {
     "name": "stdout",
     "output_type": "stream",
     "text": [
      "Starting experimental run with id: 1474\n",
      "ramping T8 to 60.0 mK...\n",
      "60.4 m\n",
      "61.1 m\n",
      "60.0 m\n",
      "58.9 m\n",
      "59.1 m\n",
      "60.1 m\n",
      "61.1 m\n",
      "60.6 m\n",
      "60.4 m\n",
      "59.7 m\n",
      "59.1 m\n",
      "59.3 m\n",
      "60.6 m\n",
      "61.0 m\n",
      "60.3 m\n",
      "59.5 m\n",
      "59.3 m\n",
      "59.3 m\n",
      "58.8 m\n",
      "59.7 m\n",
      "60.4 m\n",
      "61.0 m\n",
      "60.7 m\n",
      "59.8 m\n",
      "59.1 m\n",
      "59.0 m\n",
      "59.4 m\n",
      "59.6 m\n",
      "60.2 m\n",
      "60.3 m\n",
      "60.4 m\n",
      "60.2 m\n",
      "59.8 m\n",
      "59.5 m\n",
      "59.2 m\n",
      "60.0 m\n",
      "60.0 m\n",
      "61.2 m\n",
      "60.9 m\n",
      "60.6 m\n",
      "59.5 m\n",
      "59.6 m\n",
      "T is set\n"
     ]
    },
    {
     "data": {
      "application/vnd.jupyter.widget-view+json": {
       "model_id": "",
       "version_major": 2,
       "version_minor": 0
      },
      "text/plain": [
       "HBox(children=(IntProgress(value=0, max=403), HTML(value='')))"
      ]
     },
     "metadata": {},
     "output_type": "display_data"
    },
    {
     "name": "stdout",
     "output_type": "stream",
     "text": [
      "Starting experimental run with id: 1475\n",
      "ramping T8 to 70.0 mK...\n",
      "69.4 m\n",
      "68.8 m\n",
      "69.0 m\n",
      "70.7 m\n",
      "71.3 m\n",
      "71.1 m\n",
      "70.3 m\n",
      "69.3 m\n",
      "68.9 m\n",
      "69.7 m\n",
      "70.2 m\n",
      "71.2 m\n",
      "70.8 m\n",
      "70.2 m\n",
      "69.6 m\n",
      "69.1 m\n",
      "69.2 m\n",
      "70.5 m\n",
      "70.8 m\n",
      "70.6 m\n",
      "70.4 m\n",
      "69.5 m\n",
      "69.4 m\n",
      "69.7 m\n",
      "T is set\n"
     ]
    },
    {
     "data": {
      "application/vnd.jupyter.widget-view+json": {
       "model_id": "",
       "version_major": 2,
       "version_minor": 0
      },
      "text/plain": [
       "HBox(children=(IntProgress(value=0, max=403), HTML(value='')))"
      ]
     },
     "metadata": {},
     "output_type": "display_data"
    },
    {
     "name": "stdout",
     "output_type": "stream",
     "text": [
      "Starting experimental run with id: 1476\n",
      "ramping T8 to 80.0 mK...\n",
      "81.4 m\n",
      "81.6 m\n",
      "80.4 m\n",
      "79.0 m\n",
      "78.5 m\n",
      "79.6 m\n",
      "81.0 m\n",
      "81.3 m\n",
      "80.2 m\n",
      "79.1 m\n",
      "78.8 m\n",
      "80.1 m\n",
      "81.1 m\n",
      "80.8 m\n",
      "80.8 m\n",
      "79.6 m\n",
      "79.9 m\n",
      "80.2 m\n",
      "80.7 m\n",
      "80.2 m\n",
      "79.9 m\n",
      "80.1 m\n",
      "T is set\n"
     ]
    },
    {
     "data": {
      "application/vnd.jupyter.widget-view+json": {
       "model_id": "",
       "version_major": 2,
       "version_minor": 0
      },
      "text/plain": [
       "HBox(children=(IntProgress(value=0, max=403), HTML(value='')))"
      ]
     },
     "metadata": {},
     "output_type": "display_data"
    },
    {
     "name": "stdout",
     "output_type": "stream",
     "text": [
      "Starting experimental run with id: 1477\n",
      "ramping T8 to 90.0 mK...\n",
      "90.9 m\n",
      "89.6 m\n",
      "89.6 m\n",
      "90.2 m\n",
      "89.7 m\n",
      "90.1 m\n",
      "90.0 m\n",
      "89.6 m\n",
      "90.5 m\n",
      "90.2 m\n",
      "89.7 m\n",
      "90.2 m\n",
      "90.8 m\n",
      "90.4 m\n",
      "89.5 m\n",
      "89.6 m\n",
      "90.6 m\n",
      "89.9 m\n",
      "90.1 m\n",
      "89.9 m\n",
      "T is set\n"
     ]
    },
    {
     "data": {
      "application/vnd.jupyter.widget-view+json": {
       "model_id": "",
       "version_major": 2,
       "version_minor": 0
      },
      "text/plain": [
       "HBox(children=(IntProgress(value=0, max=403), HTML(value='')))"
      ]
     },
     "metadata": {},
     "output_type": "display_data"
    },
    {
     "name": "stdout",
     "output_type": "stream",
     "text": [
      "Starting experimental run with id: 1478\n",
      "ramping T8 to 100.0 mK...\n",
      "101.2 m\n",
      "100.9 m\n",
      "99.2 m\n",
      "100.2 m\n",
      "100.4 m\n",
      "101.4 m\n",
      "100.8 m\n",
      "100.0 m\n",
      "99.7 m\n",
      "99.8 m\n",
      "99.8 m\n",
      "100.7 m\n",
      "101.0 m\n",
      "99.8 m\n",
      "100.8 m\n",
      "99.3 m\n",
      "100.1 m\n",
      "99.2 m\n",
      "99.4 m\n",
      "100.7 m\n",
      "T is set\n"
     ]
    },
    {
     "data": {
      "application/vnd.jupyter.widget-view+json": {
       "model_id": "",
       "version_major": 2,
       "version_minor": 0
      },
      "text/plain": [
       "HBox(children=(IntProgress(value=0, max=403), HTML(value='')))"
      ]
     },
     "metadata": {},
     "output_type": "display_data"
    },
    {
     "name": "stdout",
     "output_type": "stream",
     "text": [
      "Starting experimental run with id: 1479\n",
      "ramping T8 to 110.0 mK...\n",
      "110.6 m\n",
      "109.8 m\n",
      "110.7 m\n",
      "110.0 m\n",
      "109.4 m\n",
      "111.4 m\n",
      "110.8 m\n",
      "111.5 m\n",
      "109.7 m\n",
      "109.5 m\n",
      "111.4 m\n",
      "110.1 m\n",
      "109.5 m\n",
      "110.1 m\n",
      "109.8 m\n",
      "110.5 m\n",
      "111.0 m\n",
      "109.7 m\n",
      "110.2 m\n",
      "110.1 m\n",
      "T is set\n"
     ]
    },
    {
     "data": {
      "application/vnd.jupyter.widget-view+json": {
       "model_id": "",
       "version_major": 2,
       "version_minor": 0
      },
      "text/plain": [
       "HBox(children=(IntProgress(value=0, max=403), HTML(value='')))"
      ]
     },
     "metadata": {},
     "output_type": "display_data"
    },
    {
     "name": "stdout",
     "output_type": "stream",
     "text": [
      "Starting experimental run with id: 1480\n",
      "ramping T8 to 120.0 mK...\n",
      "120.6 m\n",
      "120.2 m\n",
      "120.8 m\n",
      "119.3 m\n",
      "120.5 m\n",
      "121.2 m\n",
      "121.4 m\n",
      "120.3 m\n",
      "121.3 m\n",
      "119.7 m\n",
      "119.2 m\n",
      "119.2 m\n",
      "119.7 m\n",
      "120.0 m\n",
      "119.5 m\n",
      "120.3 m\n",
      "120.8 m\n",
      "121.1 m\n",
      "119.6 m\n",
      "119.3 m\n",
      "T is set\n"
     ]
    },
    {
     "data": {
      "application/vnd.jupyter.widget-view+json": {
       "model_id": "",
       "version_major": 2,
       "version_minor": 0
      },
      "text/plain": [
       "HBox(children=(IntProgress(value=0, max=403), HTML(value='')))"
      ]
     },
     "metadata": {},
     "output_type": "display_data"
    },
    {
     "name": "stdout",
     "output_type": "stream",
     "text": [
      "Starting experimental run with id: 1481\n",
      "ramping T8 to 130.0 mK...\n",
      "128.6 m\n",
      "130.4 m\n",
      "129.7 m\n",
      "131.5 m\n",
      "130.0 m\n",
      "131.2 m\n",
      "129.1 m\n",
      "130.2 m\n",
      "130.6 m\n",
      "130.8 m\n",
      "131.1 m\n",
      "129.9 m\n",
      "129.4 m\n",
      "130.7 m\n",
      "131.6 m\n",
      "128.6 m\n",
      "131.8 m\n",
      "129.5 m\n",
      "130.2 m\n",
      "128.9 m\n",
      "T is set\n"
     ]
    },
    {
     "data": {
      "application/vnd.jupyter.widget-view+json": {
       "model_id": "",
       "version_major": 2,
       "version_minor": 0
      },
      "text/plain": [
       "HBox(children=(IntProgress(value=0, max=403), HTML(value='')))"
      ]
     },
     "metadata": {},
     "output_type": "display_data"
    },
    {
     "name": "stdout",
     "output_type": "stream",
     "text": [
      "Starting experimental run with id: 1482\n",
      "ramping T8 to 140.0 mK...\n",
      "141.6 m\n",
      "140.2 m\n",
      "141.4 m\n",
      "139.7 m\n",
      "141.1 m\n",
      "139.9 m\n",
      "140.8 m\n",
      "140.3 m\n",
      "141.4 m\n",
      "140.3 m\n",
      "141.6 m\n",
      "140.3 m\n",
      "139.7 m\n",
      "140.2 m\n",
      "139.4 m\n",
      "139.8 m\n",
      "140.8 m\n",
      "138.7 m\n",
      "139.8 m\n",
      "141.1 m\n",
      "T is set\n"
     ]
    },
    {
     "data": {
      "application/vnd.jupyter.widget-view+json": {
       "model_id": "",
       "version_major": 2,
       "version_minor": 0
      },
      "text/plain": [
       "HBox(children=(IntProgress(value=0, max=403), HTML(value='')))"
      ]
     },
     "metadata": {},
     "output_type": "display_data"
    },
    {
     "name": "stdout",
     "output_type": "stream",
     "text": [
      "Starting experimental run with id: 1483\n",
      "ramping T8 to 150.0 mK...\n",
      "151.2 m\n",
      "151.3 m\n",
      "150.9 m\n",
      "150.8 m\n",
      "151.0 m\n",
      "149.5 m\n",
      "150.0 m\n",
      "152.1 m\n",
      "149.1 m\n",
      "150.5 m\n",
      "151.3 m\n",
      "150.3 m\n",
      "149.7 m\n",
      "150.5 m\n",
      "150.6 m\n",
      "149.0 m\n",
      "150.4 m\n",
      "148.6 m\n",
      "152.8 m\n",
      "150.5 m\n",
      "T is set\n"
     ]
    },
    {
     "data": {
      "application/vnd.jupyter.widget-view+json": {
       "model_id": "",
       "version_major": 2,
       "version_minor": 0
      },
      "text/plain": [
       "HBox(children=(IntProgress(value=0, max=403), HTML(value='')))"
      ]
     },
     "metadata": {},
     "output_type": "display_data"
    },
    {
     "name": "stdout",
     "output_type": "stream",
     "text": [
      "Starting experimental run with id: 1484\n",
      "ramping T8 to 160.0 mK...\n",
      "162.1 m\n",
      "160.8 m\n",
      "161.4 m\n",
      "162.2 m\n",
      "163.0 m\n",
      "161.6 m\n",
      "160.2 m\n",
      "158.9 m\n",
      "160.8 m\n",
      "161.0 m\n",
      "160.0 m\n",
      "161.4 m\n",
      "161.5 m\n",
      "159.5 m\n",
      "161.1 m\n",
      "158.9 m\n",
      "159.4 m\n",
      "160.4 m\n",
      "159.7 m\n",
      "159.4 m\n",
      "T is set\n"
     ]
    },
    {
     "data": {
      "application/vnd.jupyter.widget-view+json": {
       "model_id": "",
       "version_major": 2,
       "version_minor": 0
      },
      "text/plain": [
       "HBox(children=(IntProgress(value=0, max=403), HTML(value='')))"
      ]
     },
     "metadata": {},
     "output_type": "display_data"
    },
    {
     "name": "stdout",
     "output_type": "stream",
     "text": [
      "Starting experimental run with id: 1485\n",
      "ramping T8 to 170.0 mK...\n",
      "170.5 m\n",
      "171.8 m\n",
      "171.8 m\n",
      "171.4 m\n",
      "172.8 m\n",
      "171.4 m\n",
      "171.5 m\n",
      "170.8 m\n",
      "170.1 m\n",
      "172.5 m\n",
      "169.8 m\n",
      "171.1 m\n",
      "168.9 m\n",
      "170.3 m\n",
      "171.0 m\n",
      "169.0 m\n",
      "170.6 m\n",
      "170.2 m\n",
      "169.5 m\n",
      "170.6 m\n",
      "169.3 m\n",
      "T is set\n"
     ]
    },
    {
     "data": {
      "application/vnd.jupyter.widget-view+json": {
       "model_id": "",
       "version_major": 2,
       "version_minor": 0
      },
      "text/plain": [
       "HBox(children=(IntProgress(value=0, max=403), HTML(value='')))"
      ]
     },
     "metadata": {},
     "output_type": "display_data"
    },
    {
     "name": "stdout",
     "output_type": "stream",
     "text": [
      "Starting experimental run with id: 1486\n",
      "ramping T8 to 180.0 mK...\n",
      "182.8 m\n",
      "183.2 m\n",
      "182.0 m\n",
      "181.1 m\n",
      "181.1 m\n",
      "181.5 m\n",
      "181.8 m\n",
      "180.0 m\n",
      "180.8 m\n",
      "181.0 m\n",
      "178.9 m\n",
      "183.4 m\n",
      "180.8 m\n",
      "180.9 m\n",
      "179.2 m\n",
      "180.8 m\n",
      "182.7 m\n",
      "180.7 m\n",
      "179.2 m\n",
      "178.8 m\n",
      "T is set\n"
     ]
    },
    {
     "data": {
      "application/vnd.jupyter.widget-view+json": {
       "model_id": "",
       "version_major": 2,
       "version_minor": 0
      },
      "text/plain": [
       "HBox(children=(IntProgress(value=0, max=403), HTML(value='')))"
      ]
     },
     "metadata": {},
     "output_type": "display_data"
    },
    {
     "name": "stdout",
     "output_type": "stream",
     "text": [
      "Starting experimental run with id: 1487\n",
      "ramping T8 to 190.0 mK...\n",
      "191.8 m\n",
      "190.1 m\n",
      "191.7 m\n",
      "192.6 m\n",
      "191.4 m\n",
      "188.2 m\n",
      "191.0 m\n",
      "192.0 m\n",
      "191.9 m\n",
      "192.5 m\n",
      "191.3 m\n",
      "190.7 m\n",
      "189.8 m\n",
      "190.1 m\n",
      "191.2 m\n",
      "189.2 m\n",
      "188.5 m\n",
      "190.6 m\n",
      "191.1 m\n",
      "190.3 m\n",
      "T is set\n"
     ]
    },
    {
     "data": {
      "application/vnd.jupyter.widget-view+json": {
       "model_id": "",
       "version_major": 2,
       "version_minor": 0
      },
      "text/plain": [
       "HBox(children=(IntProgress(value=0, max=403), HTML(value='')))"
      ]
     },
     "metadata": {},
     "output_type": "display_data"
    },
    {
     "name": "stdout",
     "output_type": "stream",
     "text": [
      "Starting experimental run with id: 1488\n",
      "ramping T8 to 200.0 mK...\n",
      "203.3 m\n",
      "202.1 m\n",
      "202.3 m\n",
      "202.8 m\n",
      "202.0 m\n",
      "202.7 m\n",
      "201.5 m\n",
      "201.3 m\n",
      "201.2 m\n",
      "200.4 m\n",
      "200.7 m\n",
      "200.2 m\n",
      "200.4 m\n",
      "199.6 m\n",
      "198.4 m\n",
      "201.6 m\n",
      "201.6 m\n",
      "200.7 m\n",
      "203.2 m\n",
      "198.8 m\n",
      "T is set\n"
     ]
    },
    {
     "data": {
      "application/vnd.jupyter.widget-view+json": {
       "model_id": "",
       "version_major": 2,
       "version_minor": 0
      },
      "text/plain": [
       "HBox(children=(IntProgress(value=0, max=403), HTML(value='')))"
      ]
     },
     "metadata": {},
     "output_type": "display_data"
    },
    {
     "name": "stdout",
     "output_type": "stream",
     "text": [
      "Starting experimental run with id: 1489\n",
      "\n"
     ]
    }
   ],
   "source": [
    "B = jj5.cos_to_B(0.2)\n",
    "# B = 0e-6\n",
    "\n",
    "print(B*1e3)\n",
    "\n",
    "Bfield.set(B)\n",
    "\n",
    "T_list = np.array( [40 + 10*i for i in range (17) ] )*1e-3\n",
    "\n",
    "[            jj.IVC_udu (amp = 20e-12, stp = 0.2e-12, dt = .1,  N_avg = 1)\n",
    " \n",
    " for jj in   jj5.Tscan( T_list )]\n",
    "\n",
    "htr_setpt.set(0.030)"
   ]
  },
  {
   "cell_type": "code",
   "execution_count": 52,
   "metadata": {},
   "outputs": [
    {
     "name": "stdout",
     "output_type": "stream",
     "text": [
      "0.17693791229481884\n"
     ]
    },
    {
     "data": {
      "application/vnd.jupyter.widget-view+json": {
       "model_id": "824c77c8c0f74af6a4c82e08cf7c2561",
       "version_major": 2,
       "version_minor": 0
      },
      "text/plain": [
       "HBox(children=(IntProgress(value=0, max=17), HTML(value='')))"
      ]
     },
     "metadata": {},
     "output_type": "display_data"
    },
    {
     "name": "stdout",
     "output_type": "stream",
     "text": [
      "ramping T8 to 40.0 mK...\n",
      "40.7 m\n",
      "40.8 m\n",
      "40.8 m\n",
      "40.8 m\n",
      "40.7 m\n",
      "40.6 m\n",
      "40.6 m\n",
      "40.6 m\n",
      "40.6 m\n",
      "40.6 m\n",
      "40.4 m\n",
      "40.3 m\n",
      "40.5 m\n",
      "40.4 m\n",
      "40.4 m\n",
      "40.3 m\n",
      "40.2 m\n",
      "40.1 m\n",
      "40.0 m\n",
      "40.1 m\n",
      "40.1 m\n",
      "40.1 m\n",
      "39.9 m\n",
      "40.0 m\n",
      "T is set\n"
     ]
    },
    {
     "data": {
      "application/vnd.jupyter.widget-view+json": {
       "model_id": "",
       "version_major": 2,
       "version_minor": 0
      },
      "text/plain": [
       "HBox(children=(IntProgress(value=0, max=403), HTML(value='')))"
      ]
     },
     "metadata": {},
     "output_type": "display_data"
    },
    {
     "name": "stdout",
     "output_type": "stream",
     "text": [
      "Starting experimental run with id: 1490\n",
      "ramping T8 to 50.0 mK...\n",
      "50.9 m\n",
      "50.8 m\n",
      "50.8 m\n",
      "50.3 m\n",
      "50.7 m\n",
      "51.0 m\n",
      "50.6 m\n",
      "50.4 m\n",
      "50.2 m\n",
      "50.1 m\n",
      "50.1 m\n",
      "50.1 m\n",
      "49.9 m\n",
      "50.3 m\n",
      "50.2 m\n",
      "49.8 m\n",
      "49.9 m\n",
      "49.7 m\n",
      "49.7 m\n",
      "49.8 m\n",
      "T is set\n"
     ]
    },
    {
     "data": {
      "application/vnd.jupyter.widget-view+json": {
       "model_id": "",
       "version_major": 2,
       "version_minor": 0
      },
      "text/plain": [
       "HBox(children=(IntProgress(value=0, max=403), HTML(value='')))"
      ]
     },
     "metadata": {},
     "output_type": "display_data"
    },
    {
     "name": "stdout",
     "output_type": "stream",
     "text": [
      "Starting experimental run with id: 1491\n",
      "ramping T8 to 60.0 mK...\n",
      "60.6 m\n",
      "61.2 m\n",
      "60.1 m\n",
      "59.4 m\n",
      "59.1 m\n",
      "58.8 m\n",
      "59.6 m\n",
      "61.1 m\n",
      "60.4 m\n",
      "59.9 m\n",
      "59.2 m\n",
      "59.2 m\n",
      "59.0 m\n",
      "60.1 m\n",
      "60.8 m\n",
      "60.8 m\n",
      "61.1 m\n",
      "60.3 m\n",
      "59.5 m\n",
      "59.4 m\n",
      "58.9 m\n",
      "59.3 m\n",
      "60.0 m\n",
      "60.7 m\n",
      "61.0 m\n",
      "60.4 m\n",
      "60.5 m\n",
      "59.9 m\n",
      "58.9 m\n",
      "58.9 m\n",
      "59.6 m\n",
      "T is set\n"
     ]
    },
    {
     "data": {
      "application/vnd.jupyter.widget-view+json": {
       "model_id": "",
       "version_major": 2,
       "version_minor": 0
      },
      "text/plain": [
       "HBox(children=(IntProgress(value=0, max=403), HTML(value='')))"
      ]
     },
     "metadata": {},
     "output_type": "display_data"
    },
    {
     "name": "stdout",
     "output_type": "stream",
     "text": [
      "Starting experimental run with id: 1492\n",
      "ramping T8 to 70.0 mK...\n",
      "69.6 m\n",
      "68.8 m\n",
      "68.6 m\n",
      "70.6 m\n",
      "71.3 m\n",
      "70.7 m\n",
      "69.9 m\n",
      "69.0 m\n",
      "68.8 m\n",
      "70.1 m\n",
      "71.2 m\n",
      "70.9 m\n",
      "70.4 m\n",
      "69.7 m\n",
      "68.9 m\n",
      "69.3 m\n",
      "70.1 m\n",
      "70.6 m\n",
      "69.6 m\n",
      "70.1 m\n",
      "70.0 m\n",
      "69.5 m\n",
      "70.2 m\n",
      "69.9 m\n",
      "70.1 m\n",
      "69.9 m\n",
      "T is set\n"
     ]
    },
    {
     "data": {
      "application/vnd.jupyter.widget-view+json": {
       "model_id": "",
       "version_major": 2,
       "version_minor": 0
      },
      "text/plain": [
       "HBox(children=(IntProgress(value=0, max=403), HTML(value='')))"
      ]
     },
     "metadata": {},
     "output_type": "display_data"
    },
    {
     "name": "stdout",
     "output_type": "stream",
     "text": [
      "Starting experimental run with id: 1493\n",
      "ramping T8 to 80.0 mK...\n",
      "78.6 m\n",
      "81.2 m\n",
      "81.4 m\n",
      "80.1 m\n",
      "78.7 m\n",
      "78.7 m\n",
      "80.1 m\n",
      "80.2 m\n",
      "80.4 m\n",
      "80.3 m\n",
      "79.6 m\n",
      "79.6 m\n",
      "79.9 m\n",
      "80.2 m\n",
      "80.3 m\n",
      "80.1 m\n",
      "79.9 m\n",
      "79.9 m\n",
      "78.9 m\n",
      "80.3 m\n",
      "80.5 m\n",
      "80.4 m\n",
      "T is set\n"
     ]
    },
    {
     "data": {
      "application/vnd.jupyter.widget-view+json": {
       "model_id": "",
       "version_major": 2,
       "version_minor": 0
      },
      "text/plain": [
       "HBox(children=(IntProgress(value=0, max=403), HTML(value='')))"
      ]
     },
     "metadata": {},
     "output_type": "display_data"
    },
    {
     "name": "stdout",
     "output_type": "stream",
     "text": [
      "Starting experimental run with id: 1494\n",
      "ramping T8 to 90.0 mK...\n",
      "90.7 m\n",
      "90.2 m\n",
      "90.2 m\n",
      "90.0 m\n",
      "89.7 m\n",
      "91.0 m\n",
      "90.3 m\n",
      "89.4 m\n",
      "89.8 m\n",
      "89.7 m\n",
      "89.8 m\n",
      "89.9 m\n",
      "90.4 m\n",
      "89.8 m\n",
      "90.3 m\n",
      "90.2 m\n",
      "89.6 m\n",
      "90.7 m\n",
      "89.6 m\n",
      "90.3 m\n",
      "T is set\n"
     ]
    },
    {
     "data": {
      "application/vnd.jupyter.widget-view+json": {
       "model_id": "",
       "version_major": 2,
       "version_minor": 0
      },
      "text/plain": [
       "HBox(children=(IntProgress(value=0, max=403), HTML(value='')))"
      ]
     },
     "metadata": {},
     "output_type": "display_data"
    },
    {
     "name": "stdout",
     "output_type": "stream",
     "text": [
      "Starting experimental run with id: 1495\n",
      "ramping T8 to 100.0 mK...\n",
      "100.7 m\n",
      "100.5 m\n",
      "100.3 m\n",
      "100.4 m\n",
      "100.0 m\n",
      "100.4 m\n",
      "100.5 m\n",
      "101.1 m\n",
      "100.7 m\n",
      "99.5 m\n",
      "100.3 m\n",
      "100.1 m\n",
      "99.4 m\n",
      "99.9 m\n",
      "100.2 m\n",
      "99.9 m\n",
      "100.6 m\n",
      "100.2 m\n",
      "100.0 m\n",
      "99.7 m\n",
      "T is set\n"
     ]
    },
    {
     "data": {
      "application/vnd.jupyter.widget-view+json": {
       "model_id": "",
       "version_major": 2,
       "version_minor": 0
      },
      "text/plain": [
       "HBox(children=(IntProgress(value=0, max=403), HTML(value='')))"
      ]
     },
     "metadata": {},
     "output_type": "display_data"
    },
    {
     "name": "stdout",
     "output_type": "stream",
     "text": [
      "Starting experimental run with id: 1496\n",
      "ramping T8 to 110.0 mK...\n",
      "110.9 m\n",
      "110.2 m\n",
      "109.7 m\n",
      "110.1 m\n",
      "110.8 m\n",
      "109.7 m\n",
      "109.9 m\n",
      "110.1 m\n",
      "110.0 m\n",
      "110.2 m\n",
      "110.1 m\n",
      "109.3 m\n",
      "110.5 m\n",
      "109.2 m\n",
      "110.4 m\n",
      "109.9 m\n",
      "110.2 m\n",
      "110.1 m\n",
      "110.1 m\n",
      "111.5 m\n",
      "T is set\n"
     ]
    },
    {
     "data": {
      "application/vnd.jupyter.widget-view+json": {
       "model_id": "",
       "version_major": 2,
       "version_minor": 0
      },
      "text/plain": [
       "HBox(children=(IntProgress(value=0, max=403), HTML(value='')))"
      ]
     },
     "metadata": {},
     "output_type": "display_data"
    },
    {
     "name": "stdout",
     "output_type": "stream",
     "text": [
      "Starting experimental run with id: 1497\n",
      "ramping T8 to 120.0 mK...\n",
      "120.5 m\n",
      "119.1 m\n",
      "121.6 m\n",
      "121.8 m\n",
      "120.8 m\n",
      "121.1 m\n",
      "120.6 m\n",
      "120.3 m\n",
      "120.8 m\n",
      "120.6 m\n",
      "120.6 m\n",
      "121.4 m\n",
      "119.9 m\n",
      "120.8 m\n",
      "119.1 m\n",
      "120.0 m\n",
      "120.8 m\n",
      "119.6 m\n",
      "120.2 m\n",
      "120.8 m\n",
      "T is set\n"
     ]
    },
    {
     "data": {
      "application/vnd.jupyter.widget-view+json": {
       "model_id": "",
       "version_major": 2,
       "version_minor": 0
      },
      "text/plain": [
       "HBox(children=(IntProgress(value=0, max=403), HTML(value='')))"
      ]
     },
     "metadata": {},
     "output_type": "display_data"
    },
    {
     "name": "stdout",
     "output_type": "stream",
     "text": [
      "Starting experimental run with id: 1498\n",
      "ramping T8 to 130.0 mK...\n",
      "131.3 m\n",
      "130.3 m\n",
      "131.2 m\n",
      "131.2 m\n",
      "129.5 m\n",
      "131.0 m\n",
      "129.4 m\n",
      "130.6 m\n",
      "128.9 m\n",
      "129.7 m\n",
      "131.0 m\n",
      "129.8 m\n",
      "130.2 m\n",
      "130.6 m\n",
      "130.3 m\n",
      "129.7 m\n",
      "129.8 m\n",
      "129.5 m\n",
      "129.5 m\n",
      "131.1 m\n",
      "T is set\n"
     ]
    },
    {
     "data": {
      "application/vnd.jupyter.widget-view+json": {
       "model_id": "",
       "version_major": 2,
       "version_minor": 0
      },
      "text/plain": [
       "HBox(children=(IntProgress(value=0, max=403), HTML(value='')))"
      ]
     },
     "metadata": {},
     "output_type": "display_data"
    },
    {
     "name": "stdout",
     "output_type": "stream",
     "text": [
      "Starting experimental run with id: 1499\n",
      "ramping T8 to 140.0 mK...\n",
      "140.7 m\n",
      "141.0 m\n",
      "141.2 m\n",
      "140.2 m\n",
      "141.9 m\n",
      "140.0 m\n",
      "140.7 m\n",
      "138.9 m\n",
      "140.4 m\n",
      "139.9 m\n",
      "141.4 m\n",
      "140.4 m\n",
      "142.7 m\n",
      "140.0 m\n",
      "139.7 m\n",
      "140.7 m\n",
      "139.5 m\n",
      "139.6 m\n",
      "139.7 m\n",
      "139.1 m\n",
      "T is set\n"
     ]
    },
    {
     "data": {
      "application/vnd.jupyter.widget-view+json": {
       "model_id": "",
       "version_major": 2,
       "version_minor": 0
      },
      "text/plain": [
       "HBox(children=(IntProgress(value=0, max=403), HTML(value='')))"
      ]
     },
     "metadata": {},
     "output_type": "display_data"
    },
    {
     "name": "stdout",
     "output_type": "stream",
     "text": [
      "Starting experimental run with id: 1500\n",
      "ramping T8 to 150.0 mK...\n",
      "151.4 m\n",
      "150.7 m\n",
      "150.8 m\n",
      "149.8 m\n",
      "150.4 m\n",
      "148.3 m\n",
      "150.6 m\n",
      "149.0 m\n",
      "150.7 m\n",
      "150.5 m\n",
      "152.7 m\n",
      "149.9 m\n",
      "151.5 m\n",
      "151.9 m\n",
      "147.8 m\n",
      "149.1 m\n",
      "148.8 m\n",
      "149.7 m\n",
      "150.8 m\n",
      "151.0 m\n",
      "T is set\n"
     ]
    },
    {
     "data": {
      "application/vnd.jupyter.widget-view+json": {
       "model_id": "",
       "version_major": 2,
       "version_minor": 0
      },
      "text/plain": [
       "HBox(children=(IntProgress(value=0, max=403), HTML(value='')))"
      ]
     },
     "metadata": {},
     "output_type": "display_data"
    },
    {
     "name": "stdout",
     "output_type": "stream",
     "text": [
      "Starting experimental run with id: 1501\n",
      "ramping T8 to 160.0 mK...\n",
      "161.7 m\n",
      "161.6 m\n",
      "161.4 m\n",
      "159.2 m\n",
      "159.9 m\n",
      "160.8 m\n",
      "161.8 m\n",
      "161.2 m\n",
      "160.8 m\n",
      "160.5 m\n",
      "160.7 m\n",
      "159.6 m\n",
      "160.1 m\n",
      "160.4 m\n",
      "159.3 m\n",
      "159.0 m\n",
      "159.0 m\n",
      "161.3 m\n",
      "160.2 m\n",
      "159.2 m\n",
      "T is set\n"
     ]
    },
    {
     "data": {
      "application/vnd.jupyter.widget-view+json": {
       "model_id": "",
       "version_major": 2,
       "version_minor": 0
      },
      "text/plain": [
       "HBox(children=(IntProgress(value=0, max=403), HTML(value='')))"
      ]
     },
     "metadata": {},
     "output_type": "display_data"
    },
    {
     "name": "stdout",
     "output_type": "stream",
     "text": [
      "Starting experimental run with id: 1502\n",
      "ramping T8 to 170.0 mK...\n",
      "173.2 m\n",
      "170.4 m\n",
      "170.5 m\n",
      "170.3 m\n",
      "170.3 m\n",
      "171.6 m\n",
      "168.9 m\n",
      "169.4 m\n",
      "171.0 m\n",
      "169.7 m\n",
      "170.4 m\n",
      "171.9 m\n",
      "170.1 m\n",
      "169.7 m\n",
      "171.0 m\n",
      "169.5 m\n",
      "168.9 m\n",
      "170.8 m\n",
      "170.0 m\n",
      "169.0 m\n",
      "T is set\n"
     ]
    },
    {
     "data": {
      "application/vnd.jupyter.widget-view+json": {
       "model_id": "",
       "version_major": 2,
       "version_minor": 0
      },
      "text/plain": [
       "HBox(children=(IntProgress(value=0, max=403), HTML(value='')))"
      ]
     },
     "metadata": {},
     "output_type": "display_data"
    },
    {
     "name": "stdout",
     "output_type": "stream",
     "text": [
      "Starting experimental run with id: 1503\n",
      "ramping T8 to 180.0 mK...\n",
      "181.5 m\n",
      "181.1 m\n",
      "183.3 m\n",
      "182.7 m\n",
      "179.4 m\n",
      "181.7 m\n",
      "179.7 m\n",
      "182.8 m\n",
      "181.1 m\n",
      "179.8 m\n",
      "180.9 m\n",
      "181.0 m\n",
      "180.9 m\n",
      "181.0 m\n",
      "180.4 m\n",
      "177.8 m\n",
      "178.5 m\n",
      "180.2 m\n",
      "181.3 m\n",
      "180.8 m\n",
      "178.4 m\n",
      "180.5 m\n",
      "180.5 m\n",
      "T is set\n"
     ]
    },
    {
     "data": {
      "application/vnd.jupyter.widget-view+json": {
       "model_id": "",
       "version_major": 2,
       "version_minor": 0
      },
      "text/plain": [
       "HBox(children=(IntProgress(value=0, max=403), HTML(value='')))"
      ]
     },
     "metadata": {},
     "output_type": "display_data"
    },
    {
     "name": "stdout",
     "output_type": "stream",
     "text": [
      "Starting experimental run with id: 1504\n",
      "ramping T8 to 190.0 mK...\n",
      "191.6 m\n",
      "192.9 m\n",
      "191.5 m\n",
      "192.3 m\n",
      "190.0 m\n",
      "191.3 m\n",
      "192.6 m\n",
      "193.0 m\n",
      "191.6 m\n",
      "191.5 m\n",
      "190.5 m\n",
      "191.7 m\n",
      "191.5 m\n",
      "191.8 m\n",
      "190.6 m\n",
      "191.1 m\n",
      "189.4 m\n",
      "190.8 m\n",
      "191.5 m\n",
      "186.6 m\n",
      "191.3 m\n",
      "190.5 m\n",
      "T is set\n"
     ]
    },
    {
     "data": {
      "application/vnd.jupyter.widget-view+json": {
       "model_id": "",
       "version_major": 2,
       "version_minor": 0
      },
      "text/plain": [
       "HBox(children=(IntProgress(value=0, max=403), HTML(value='')))"
      ]
     },
     "metadata": {},
     "output_type": "display_data"
    },
    {
     "name": "stdout",
     "output_type": "stream",
     "text": [
      "Starting experimental run with id: 1505\n",
      "ramping T8 to 200.0 mK...\n",
      "201.3 m\n",
      "203.3 m\n",
      "201.3 m\n",
      "203.6 m\n",
      "198.8 m\n",
      "201.0 m\n",
      "202.2 m\n",
      "200.2 m\n",
      "201.6 m\n",
      "200.7 m\n",
      "198.9 m\n",
      "201.6 m\n",
      "199.0 m\n",
      "200.0 m\n",
      "201.4 m\n",
      "200.9 m\n",
      "199.4 m\n",
      "200.1 m\n",
      "199.4 m\n",
      "200.6 m\n",
      "198.4 m\n",
      "201.9 m\n",
      "T is set\n"
     ]
    },
    {
     "data": {
      "application/vnd.jupyter.widget-view+json": {
       "model_id": "",
       "version_major": 2,
       "version_minor": 0
      },
      "text/plain": [
       "HBox(children=(IntProgress(value=0, max=403), HTML(value='')))"
      ]
     },
     "metadata": {},
     "output_type": "display_data"
    },
    {
     "name": "stdout",
     "output_type": "stream",
     "text": [
      "Starting experimental run with id: 1506\n",
      "\n"
     ]
    }
   ],
   "source": [
    "B = jj5.cos_to_B(0.3)\n",
    "# B = 0e-6\n",
    "\n",
    "print(B*1e3)\n",
    "\n",
    "Bfield.set(B)\n",
    "\n",
    "T_list = np.array( [40 + 10*i for i in range (17) ] )*1e-3\n",
    "\n",
    "[            jj.IVC_udu (amp = 20e-12, stp = 0.2e-12, dt = .1,  N_avg = 1)\n",
    " \n",
    " for jj in   jj5.Tscan( T_list )]\n",
    "\n",
    "htr_setpt.set(0.030)"
   ]
  },
  {
   "cell_type": "code",
   "execution_count": null,
   "metadata": {},
   "outputs": [],
   "source": [
    "[            jj.IVC_fwd (amp = 1e-12, stp = 0.025e-12, dt = .5, N_avg = 100)\n",
    "for jj in    jj.Tscan( [200e-3] )]\n",
    "\n",
    "htr.set(0.030)"
   ]
  },
  {
   "cell_type": "code",
   "execution_count": 36,
   "metadata": {},
   "outputs": [
    {
     "data": {
      "text/plain": [
       "array([0.04, 0.05, 0.06, 0.07, 0.08, 0.09, 0.1 , 0.11, 0.12, 0.13, 0.14,\n",
       "       0.15, 0.16, 0.17, 0.18, 0.19, 0.2 ])"
      ]
     },
     "execution_count": 36,
     "metadata": {},
     "output_type": "execute_result"
    }
   ],
   "source": [
    "np.array( [40 + 10*i for i in range (17) ] )*1e-3"
   ]
  },
  {
   "cell_type": "code",
   "execution_count": 44,
   "metadata": {},
   "outputs": [],
   "source": [
    "htr_setpt.set(30e-3)"
   ]
  },
  {
   "cell_type": "code",
   "execution_count": 13,
   "metadata": {},
   "outputs": [],
   "source": [
    "htr.output_range('3.16mA')"
   ]
  },
  {
   "cell_type": "code",
   "execution_count": 28,
   "metadata": {
    "scrolled": true
   },
   "outputs": [
    {
     "data": {
      "application/vnd.jupyter.widget-view+json": {
       "model_id": "8ba9d387d8af45a59fcce92212aef784",
       "version_major": 2,
       "version_minor": 0
      },
      "text/plain": [
       "HBox(children=(IntProgress(value=0, max=11), HTML(value='')))"
      ]
     },
     "metadata": {},
     "output_type": "display_data"
    },
    {
     "name": "stdout",
     "output_type": "stream",
     "text": [
      "ramping T8 to 50.0 mK...\n",
      "50.9 m\n",
      "50.7 m\n",
      "50.7 m\n",
      "50.9 m\n",
      "51.0 m\n",
      "50.5 m\n",
      "50.5 m\n",
      "50.3 m\n",
      "50.6 m\n",
      "50.2 m\n",
      "50.2 m\n",
      "50.2 m\n",
      "49.9 m\n",
      "49.6 m\n",
      "49.8 m\n",
      "50.1 m\n",
      "50.0 m\n",
      "49.6 m\n",
      "49.7 m\n",
      "49.5 m\n",
      "49.7 m\n",
      "49.6 m\n",
      "T is set\n"
     ]
    },
    {
     "data": {
      "application/vnd.jupyter.widget-view+json": {
       "model_id": "4786a95edf0e4c3d89c38939ac25accd",
       "version_major": 2,
       "version_minor": 0
      },
      "text/plain": [
       "HBox(children=(IntProgress(value=0, max=11), HTML(value='')))"
      ]
     },
     "metadata": {},
     "output_type": "display_data"
    },
    {
     "data": {
      "application/vnd.jupyter.widget-view+json": {
       "model_id": "",
       "version_major": 2,
       "version_minor": 0
      },
      "text/plain": [
       "HBox(children=(IntProgress(value=0, max=403), HTML(value='')))"
      ]
     },
     "metadata": {},
     "output_type": "display_data"
    },
    {
     "name": "stdout",
     "output_type": "stream",
     "text": [
      "Starting experimental run with id: 912\n"
     ]
    },
    {
     "data": {
      "application/vnd.jupyter.widget-view+json": {
       "model_id": "",
       "version_major": 2,
       "version_minor": 0
      },
      "text/plain": [
       "HBox(children=(IntProgress(value=0, max=403), HTML(value='')))"
      ]
     },
     "metadata": {},
     "output_type": "display_data"
    },
    {
     "name": "stdout",
     "output_type": "stream",
     "text": [
      "Starting experimental run with id: 913\n"
     ]
    },
    {
     "data": {
      "application/vnd.jupyter.widget-view+json": {
       "model_id": "",
       "version_major": 2,
       "version_minor": 0
      },
      "text/plain": [
       "HBox(children=(IntProgress(value=0, max=403), HTML(value='')))"
      ]
     },
     "metadata": {},
     "output_type": "display_data"
    },
    {
     "name": "stdout",
     "output_type": "stream",
     "text": [
      "Starting experimental run with id: 914\n"
     ]
    },
    {
     "data": {
      "application/vnd.jupyter.widget-view+json": {
       "model_id": "",
       "version_major": 2,
       "version_minor": 0
      },
      "text/plain": [
       "HBox(children=(IntProgress(value=0, max=403), HTML(value='')))"
      ]
     },
     "metadata": {},
     "output_type": "display_data"
    },
    {
     "name": "stdout",
     "output_type": "stream",
     "text": [
      "Starting experimental run with id: 915\n"
     ]
    },
    {
     "data": {
      "application/vnd.jupyter.widget-view+json": {
       "model_id": "",
       "version_major": 2,
       "version_minor": 0
      },
      "text/plain": [
       "HBox(children=(IntProgress(value=0, max=403), HTML(value='')))"
      ]
     },
     "metadata": {},
     "output_type": "display_data"
    },
    {
     "name": "stdout",
     "output_type": "stream",
     "text": [
      "Starting experimental run with id: 916\n"
     ]
    },
    {
     "data": {
      "application/vnd.jupyter.widget-view+json": {
       "model_id": "",
       "version_major": 2,
       "version_minor": 0
      },
      "text/plain": [
       "HBox(children=(IntProgress(value=0, max=403), HTML(value='')))"
      ]
     },
     "metadata": {},
     "output_type": "display_data"
    },
    {
     "name": "stdout",
     "output_type": "stream",
     "text": [
      "Starting experimental run with id: 917\n"
     ]
    },
    {
     "data": {
      "application/vnd.jupyter.widget-view+json": {
       "model_id": "",
       "version_major": 2,
       "version_minor": 0
      },
      "text/plain": [
       "HBox(children=(IntProgress(value=0, max=403), HTML(value='')))"
      ]
     },
     "metadata": {},
     "output_type": "display_data"
    },
    {
     "name": "stdout",
     "output_type": "stream",
     "text": [
      "Starting experimental run with id: 918\n"
     ]
    },
    {
     "data": {
      "application/vnd.jupyter.widget-view+json": {
       "model_id": "",
       "version_major": 2,
       "version_minor": 0
      },
      "text/plain": [
       "HBox(children=(IntProgress(value=0, max=403), HTML(value='')))"
      ]
     },
     "metadata": {},
     "output_type": "display_data"
    },
    {
     "name": "stdout",
     "output_type": "stream",
     "text": [
      "Starting experimental run with id: 919\n"
     ]
    },
    {
     "data": {
      "application/vnd.jupyter.widget-view+json": {
       "model_id": "",
       "version_major": 2,
       "version_minor": 0
      },
      "text/plain": [
       "HBox(children=(IntProgress(value=0, max=403), HTML(value='')))"
      ]
     },
     "metadata": {},
     "output_type": "display_data"
    },
    {
     "name": "stdout",
     "output_type": "stream",
     "text": [
      "Starting experimental run with id: 920\n"
     ]
    },
    {
     "data": {
      "application/vnd.jupyter.widget-view+json": {
       "model_id": "",
       "version_major": 2,
       "version_minor": 0
      },
      "text/plain": [
       "HBox(children=(IntProgress(value=0, max=403), HTML(value='')))"
      ]
     },
     "metadata": {},
     "output_type": "display_data"
    },
    {
     "name": "stdout",
     "output_type": "stream",
     "text": [
      "Starting experimental run with id: 921\n"
     ]
    },
    {
     "data": {
      "application/vnd.jupyter.widget-view+json": {
       "model_id": "",
       "version_major": 2,
       "version_minor": 0
      },
      "text/plain": [
       "HBox(children=(IntProgress(value=0, max=403), HTML(value='')))"
      ]
     },
     "metadata": {},
     "output_type": "display_data"
    },
    {
     "name": "stdout",
     "output_type": "stream",
     "text": [
      "Starting experimental run with id: 922\n",
      "\n",
      "{ 'ids' : range(912,922+1), 'B' : np.linspace(0.00e+00,1.85e-03, 11), 'T' : 0.050, 'comm : '' }\n",
      "ramping T8 to 75.0 mK...\n"
     ]
    },
    {
     "ename": "VisaIOError",
     "evalue": "('VI_ERROR_TMO (-1073807339): Timeout expired before operation completed.', \"asking 'RDGK? 8\\\\n\\\\r' to <Model_372: LS370 input Ch>\", 'getting LS370 input Ch_ch08_temperature')",
     "output_type": "error",
     "traceback": [
      "\u001b[1;31m---------------------------------------------------------------------------\u001b[0m",
      "\u001b[1;31mVisaIOError\u001b[0m                               Traceback (most recent call last)",
      "\u001b[1;32m<ipython-input-28-0cf3c42789d4>\u001b[0m in \u001b[0;36m<module>\u001b[1;34m\u001b[0m\n\u001b[0;32m      2\u001b[0m \u001b[0mB_list\u001b[0m \u001b[1;33m=\u001b[0m \u001b[0mnp\u001b[0m\u001b[1;33m.\u001b[0m\u001b[0mlinspace\u001b[0m\u001b[1;33m(\u001b[0m\u001b[1;36m0\u001b[0m\u001b[1;33m,\u001b[0m \u001b[1;36m1.85e-3\u001b[0m\u001b[1;33m,\u001b[0m \u001b[1;36m11\u001b[0m\u001b[1;33m)\u001b[0m\u001b[1;33m\u001b[0m\u001b[1;33m\u001b[0m\u001b[0m\n\u001b[0;32m      3\u001b[0m \u001b[1;33m\u001b[0m\u001b[0m\n\u001b[1;32m----> 4\u001b[1;33m \u001b[1;32mfor\u001b[0m \u001b[0mjj\u001b[0m \u001b[1;32min\u001b[0m  \u001b[0mjj\u001b[0m\u001b[1;33m.\u001b[0m\u001b[0mTscan\u001b[0m\u001b[1;33m(\u001b[0m \u001b[0mT_list\u001b[0m \u001b[1;33m)\u001b[0m\u001b[1;33m:\u001b[0m\u001b[1;33m\u001b[0m\u001b[1;33m\u001b[0m\u001b[0m\n\u001b[0m\u001b[0;32m      5\u001b[0m \u001b[1;33m\u001b[0m\u001b[0m\n\u001b[0;32m      6\u001b[0m     \u001b[1;32mfor\u001b[0m \u001b[0mjj\u001b[0m \u001b[1;32min\u001b[0m \u001b[0mjj\u001b[0m\u001b[1;33m.\u001b[0m\u001b[0mBscan\u001b[0m\u001b[1;33m(\u001b[0m\u001b[0mB_list\u001b[0m\u001b[1;33m)\u001b[0m\u001b[1;33m:\u001b[0m\u001b[1;33m\u001b[0m\u001b[1;33m\u001b[0m\u001b[0m\n",
      "\u001b[1;32m~\\Documents\\GitHub\\JJmeasurement.py\u001b[0m in \u001b[0;36mTscan\u001b[1;34m(self, T_list)\u001b[0m\n\u001b[0;32m    218\u001b[0m             \u001b[0mcount_T\u001b[0m \u001b[1;33m=\u001b[0m \u001b[1;36m0\u001b[0m\u001b[1;33m\u001b[0m\u001b[1;33m\u001b[0m\u001b[0m\n\u001b[0;32m    219\u001b[0m             \u001b[1;32mwhile\u001b[0m \u001b[0mcount_T\u001b[0m \u001b[1;33m<\u001b[0m \u001b[0mchkrepeat\u001b[0m\u001b[1;33m:\u001b[0m\u001b[1;33m\u001b[0m\u001b[1;33m\u001b[0m\u001b[0m\n\u001b[1;32m--> 220\u001b[1;33m                 \u001b[0mT_now\u001b[0m \u001b[1;33m=\u001b[0m \u001b[0mT8\u001b[0m\u001b[1;33m.\u001b[0m\u001b[0mget\u001b[0m\u001b[1;33m(\u001b[0m\u001b[1;33m)\u001b[0m\u001b[1;33m\u001b[0m\u001b[1;33m\u001b[0m\u001b[0m\n\u001b[0m\u001b[0;32m    221\u001b[0m                 \u001b[1;32mif\u001b[0m \u001b[1;33m(\u001b[0m\u001b[1;36m1\u001b[0m\u001b[1;33m-\u001b[0m\u001b[0mtolerT8\u001b[0m\u001b[1;33m)\u001b[0m\u001b[1;33m*\u001b[0m \u001b[0mt\u001b[0m \u001b[1;33m<=\u001b[0m \u001b[0mT_now\u001b[0m \u001b[1;33m<=\u001b[0m \u001b[1;33m(\u001b[0m\u001b[1;36m1\u001b[0m\u001b[1;33m+\u001b[0m\u001b[0mtolerT8\u001b[0m\u001b[1;33m)\u001b[0m \u001b[1;33m*\u001b[0m \u001b[0mt\u001b[0m \u001b[1;33m:\u001b[0m\u001b[1;33m\u001b[0m\u001b[1;33m\u001b[0m\u001b[0m\n\u001b[0;32m    222\u001b[0m                     \u001b[0mcount_T\u001b[0m \u001b[1;33m+=\u001b[0m\u001b[1;36m1\u001b[0m\u001b[1;33m\u001b[0m\u001b[1;33m\u001b[0m\u001b[0m\n",
      "\u001b[1;32m~\\Anaconda3\\lib\\site-packages\\qcodes\\instrument\\parameter.py\u001b[0m in \u001b[0;36mget_wrapper\u001b[1;34m(*args, **kwargs)\u001b[0m\n\u001b[0;32m    490\u001b[0m             \u001b[1;32mexcept\u001b[0m \u001b[0mException\u001b[0m \u001b[1;32mas\u001b[0m \u001b[0me\u001b[0m\u001b[1;33m:\u001b[0m\u001b[1;33m\u001b[0m\u001b[1;33m\u001b[0m\u001b[0m\n\u001b[0;32m    491\u001b[0m                 \u001b[0me\u001b[0m\u001b[1;33m.\u001b[0m\u001b[0margs\u001b[0m \u001b[1;33m=\u001b[0m \u001b[0me\u001b[0m\u001b[1;33m.\u001b[0m\u001b[0margs\u001b[0m \u001b[1;33m+\u001b[0m \u001b[1;33m(\u001b[0m\u001b[1;34m'getting {}'\u001b[0m\u001b[1;33m.\u001b[0m\u001b[0mformat\u001b[0m\u001b[1;33m(\u001b[0m\u001b[0mself\u001b[0m\u001b[1;33m)\u001b[0m\u001b[1;33m,\u001b[0m\u001b[1;33m)\u001b[0m\u001b[1;33m\u001b[0m\u001b[1;33m\u001b[0m\u001b[0m\n\u001b[1;32m--> 492\u001b[1;33m                 \u001b[1;32mraise\u001b[0m \u001b[0me\u001b[0m\u001b[1;33m\u001b[0m\u001b[1;33m\u001b[0m\u001b[0m\n\u001b[0m\u001b[0;32m    493\u001b[0m \u001b[1;33m\u001b[0m\u001b[0m\n\u001b[0;32m    494\u001b[0m         \u001b[1;32mreturn\u001b[0m \u001b[0mget_wrapper\u001b[0m\u001b[1;33m\u001b[0m\u001b[1;33m\u001b[0m\u001b[0m\n",
      "\u001b[1;32m~\\Anaconda3\\lib\\site-packages\\qcodes\\instrument\\parameter.py\u001b[0m in \u001b[0;36mget_wrapper\u001b[1;34m(*args, **kwargs)\u001b[0m\n\u001b[0;32m    446\u001b[0m             \u001b[1;32mtry\u001b[0m\u001b[1;33m:\u001b[0m\u001b[1;33m\u001b[0m\u001b[1;33m\u001b[0m\u001b[0m\n\u001b[0;32m    447\u001b[0m                 \u001b[1;31m# There might be cases where a .get also has args/kwargs\u001b[0m\u001b[1;33m\u001b[0m\u001b[1;33m\u001b[0m\u001b[1;33m\u001b[0m\u001b[0m\n\u001b[1;32m--> 448\u001b[1;33m                 \u001b[0mvalue\u001b[0m \u001b[1;33m=\u001b[0m \u001b[0mget_function\u001b[0m\u001b[1;33m(\u001b[0m\u001b[1;33m*\u001b[0m\u001b[0margs\u001b[0m\u001b[1;33m,\u001b[0m \u001b[1;33m**\u001b[0m\u001b[0mkwargs\u001b[0m\u001b[1;33m)\u001b[0m\u001b[1;33m\u001b[0m\u001b[1;33m\u001b[0m\u001b[0m\n\u001b[0m\u001b[0;32m    449\u001b[0m                 \u001b[0mself\u001b[0m\u001b[1;33m.\u001b[0m\u001b[0mraw_value\u001b[0m \u001b[1;33m=\u001b[0m \u001b[0mvalue\u001b[0m\u001b[1;33m\u001b[0m\u001b[1;33m\u001b[0m\u001b[0m\n\u001b[0;32m    450\u001b[0m \u001b[1;33m\u001b[0m\u001b[0m\n",
      "\u001b[1;32m~\\Anaconda3\\lib\\site-packages\\qcodes\\utils\\command.py\u001b[0m in \u001b[0;36m__call__\u001b[1;34m(self, *args)\u001b[0m\n\u001b[0;32m    176\u001b[0m             raise TypeError(\n\u001b[0;32m    177\u001b[0m                 'command takes exactly {} args'.format(self.arg_count))\n\u001b[1;32m--> 178\u001b[1;33m         \u001b[1;32mreturn\u001b[0m \u001b[0mself\u001b[0m\u001b[1;33m.\u001b[0m\u001b[0mexec_function\u001b[0m\u001b[1;33m(\u001b[0m\u001b[1;33m*\u001b[0m\u001b[0margs\u001b[0m\u001b[1;33m)\u001b[0m\u001b[1;33m\u001b[0m\u001b[1;33m\u001b[0m\u001b[0m\n\u001b[0m",
      "\u001b[1;32m~\\Anaconda3\\lib\\site-packages\\qcodes\\utils\\command.py\u001b[0m in \u001b[0;36mcall_by_str\u001b[1;34m(self, *args)\u001b[0m\n\u001b[0;32m    125\u001b[0m     \u001b[1;32mdef\u001b[0m \u001b[0mcall_by_str\u001b[0m\u001b[1;33m(\u001b[0m\u001b[0mself\u001b[0m\u001b[1;33m,\u001b[0m \u001b[1;33m*\u001b[0m\u001b[0margs\u001b[0m\u001b[1;33m)\u001b[0m\u001b[1;33m:\u001b[0m\u001b[1;33m\u001b[0m\u001b[1;33m\u001b[0m\u001b[0m\n\u001b[0;32m    126\u001b[0m         \u001b[1;34m\"\"\"Execute a formatted string.\"\"\"\u001b[0m\u001b[1;33m\u001b[0m\u001b[1;33m\u001b[0m\u001b[0m\n\u001b[1;32m--> 127\u001b[1;33m         \u001b[1;32mreturn\u001b[0m \u001b[0mself\u001b[0m\u001b[1;33m.\u001b[0m\u001b[0mexec_str\u001b[0m\u001b[1;33m(\u001b[0m\u001b[0mself\u001b[0m\u001b[1;33m.\u001b[0m\u001b[0mcmd_str\u001b[0m\u001b[1;33m.\u001b[0m\u001b[0mformat\u001b[0m\u001b[1;33m(\u001b[0m\u001b[1;33m*\u001b[0m\u001b[0margs\u001b[0m\u001b[1;33m)\u001b[0m\u001b[1;33m)\u001b[0m\u001b[1;33m\u001b[0m\u001b[1;33m\u001b[0m\u001b[0m\n\u001b[0m\u001b[0;32m    128\u001b[0m \u001b[1;33m\u001b[0m\u001b[0m\n\u001b[0;32m    129\u001b[0m     \u001b[1;32mdef\u001b[0m \u001b[0mcall_by_str_parsed_out\u001b[0m\u001b[1;33m(\u001b[0m\u001b[0mself\u001b[0m\u001b[1;33m,\u001b[0m \u001b[1;33m*\u001b[0m\u001b[0margs\u001b[0m\u001b[1;33m)\u001b[0m\u001b[1;33m:\u001b[0m\u001b[1;33m\u001b[0m\u001b[1;33m\u001b[0m\u001b[0m\n",
      "\u001b[1;32m~\\Anaconda3\\lib\\site-packages\\qcodes\\instrument\\channel.py\u001b[0m in \u001b[0;36mask\u001b[1;34m(self, cmd)\u001b[0m\n\u001b[0;32m     64\u001b[0m \u001b[1;33m\u001b[0m\u001b[0m\n\u001b[0;32m     65\u001b[0m     \u001b[1;32mdef\u001b[0m \u001b[0mask\u001b[0m\u001b[1;33m(\u001b[0m\u001b[0mself\u001b[0m\u001b[1;33m,\u001b[0m \u001b[0mcmd\u001b[0m\u001b[1;33m:\u001b[0m \u001b[0mstr\u001b[0m\u001b[1;33m)\u001b[0m \u001b[1;33m->\u001b[0m \u001b[0mstr\u001b[0m\u001b[1;33m:\u001b[0m\u001b[1;33m\u001b[0m\u001b[1;33m\u001b[0m\u001b[0m\n\u001b[1;32m---> 66\u001b[1;33m         \u001b[1;32mreturn\u001b[0m \u001b[0mself\u001b[0m\u001b[1;33m.\u001b[0m\u001b[0m_parent\u001b[0m\u001b[1;33m.\u001b[0m\u001b[0mask\u001b[0m\u001b[1;33m(\u001b[0m\u001b[0mcmd\u001b[0m\u001b[1;33m)\u001b[0m\u001b[1;33m\u001b[0m\u001b[1;33m\u001b[0m\u001b[0m\n\u001b[0m\u001b[0;32m     67\u001b[0m \u001b[1;33m\u001b[0m\u001b[0m\n\u001b[0;32m     68\u001b[0m     \u001b[1;32mdef\u001b[0m \u001b[0mask_raw\u001b[0m\u001b[1;33m(\u001b[0m\u001b[0mself\u001b[0m\u001b[1;33m,\u001b[0m \u001b[0mcmd\u001b[0m\u001b[1;33m:\u001b[0m \u001b[0mstr\u001b[0m\u001b[1;33m)\u001b[0m \u001b[1;33m->\u001b[0m \u001b[0mstr\u001b[0m\u001b[1;33m:\u001b[0m\u001b[1;33m\u001b[0m\u001b[1;33m\u001b[0m\u001b[0m\n",
      "\u001b[1;32m~\\Anaconda3\\lib\\site-packages\\qcodes\\instrument\\base.py\u001b[0m in \u001b[0;36mask\u001b[1;34m(self, cmd)\u001b[0m\n\u001b[0;32m    764\u001b[0m             \u001b[0minst\u001b[0m \u001b[1;33m=\u001b[0m \u001b[0mrepr\u001b[0m\u001b[1;33m(\u001b[0m\u001b[0mself\u001b[0m\u001b[1;33m)\u001b[0m\u001b[1;33m\u001b[0m\u001b[1;33m\u001b[0m\u001b[0m\n\u001b[0;32m    765\u001b[0m             \u001b[0me\u001b[0m\u001b[1;33m.\u001b[0m\u001b[0margs\u001b[0m \u001b[1;33m=\u001b[0m \u001b[0me\u001b[0m\u001b[1;33m.\u001b[0m\u001b[0margs\u001b[0m \u001b[1;33m+\u001b[0m \u001b[1;33m(\u001b[0m\u001b[1;34m'asking '\u001b[0m \u001b[1;33m+\u001b[0m \u001b[0mrepr\u001b[0m\u001b[1;33m(\u001b[0m\u001b[0mcmd\u001b[0m\u001b[1;33m)\u001b[0m \u001b[1;33m+\u001b[0m \u001b[1;34m' to '\u001b[0m \u001b[1;33m+\u001b[0m \u001b[0minst\u001b[0m\u001b[1;33m,\u001b[0m\u001b[1;33m)\u001b[0m\u001b[1;33m\u001b[0m\u001b[1;33m\u001b[0m\u001b[0m\n\u001b[1;32m--> 766\u001b[1;33m             \u001b[1;32mraise\u001b[0m \u001b[0me\u001b[0m\u001b[1;33m\u001b[0m\u001b[1;33m\u001b[0m\u001b[0m\n\u001b[0m\u001b[0;32m    767\u001b[0m \u001b[1;33m\u001b[0m\u001b[0m\n\u001b[0;32m    768\u001b[0m     \u001b[1;32mdef\u001b[0m \u001b[0mask_raw\u001b[0m\u001b[1;33m(\u001b[0m\u001b[0mself\u001b[0m\u001b[1;33m,\u001b[0m \u001b[0mcmd\u001b[0m\u001b[1;33m:\u001b[0m \u001b[0mstr\u001b[0m\u001b[1;33m)\u001b[0m \u001b[1;33m->\u001b[0m \u001b[0mstr\u001b[0m\u001b[1;33m:\u001b[0m\u001b[1;33m\u001b[0m\u001b[1;33m\u001b[0m\u001b[0m\n",
      "\u001b[1;32m~\\Anaconda3\\lib\\site-packages\\qcodes\\instrument\\base.py\u001b[0m in \u001b[0;36mask\u001b[1;34m(self, cmd)\u001b[0m\n\u001b[0;32m    757\u001b[0m         \"\"\"\n\u001b[0;32m    758\u001b[0m         \u001b[1;32mtry\u001b[0m\u001b[1;33m:\u001b[0m\u001b[1;33m\u001b[0m\u001b[1;33m\u001b[0m\u001b[0m\n\u001b[1;32m--> 759\u001b[1;33m             \u001b[0manswer\u001b[0m \u001b[1;33m=\u001b[0m \u001b[0mself\u001b[0m\u001b[1;33m.\u001b[0m\u001b[0mask_raw\u001b[0m\u001b[1;33m(\u001b[0m\u001b[0mcmd\u001b[0m\u001b[1;33m)\u001b[0m\u001b[1;33m\u001b[0m\u001b[1;33m\u001b[0m\u001b[0m\n\u001b[0m\u001b[0;32m    760\u001b[0m \u001b[1;33m\u001b[0m\u001b[0m\n\u001b[0;32m    761\u001b[0m             \u001b[1;32mreturn\u001b[0m \u001b[0manswer\u001b[0m\u001b[1;33m\u001b[0m\u001b[1;33m\u001b[0m\u001b[0m\n",
      "\u001b[1;32m~\\Anaconda3\\lib\\site-packages\\qcodes\\instrument\\visa.py\u001b[0m in \u001b[0;36mask_raw\u001b[1;34m(self, cmd)\u001b[0m\n\u001b[0;32m    227\u001b[0m         \"\"\"\n\u001b[0;32m    228\u001b[0m         \u001b[0mself\u001b[0m\u001b[1;33m.\u001b[0m\u001b[0mvisa_log\u001b[0m\u001b[1;33m.\u001b[0m\u001b[0mdebug\u001b[0m\u001b[1;33m(\u001b[0m\u001b[1;34mf\"Querying: {cmd}\"\u001b[0m\u001b[1;33m)\u001b[0m\u001b[1;33m\u001b[0m\u001b[1;33m\u001b[0m\u001b[0m\n\u001b[1;32m--> 229\u001b[1;33m         \u001b[0mresponse\u001b[0m \u001b[1;33m=\u001b[0m \u001b[0mself\u001b[0m\u001b[1;33m.\u001b[0m\u001b[0mvisa_handle\u001b[0m\u001b[1;33m.\u001b[0m\u001b[0mquery\u001b[0m\u001b[1;33m(\u001b[0m\u001b[0mcmd\u001b[0m\u001b[1;33m)\u001b[0m\u001b[1;33m\u001b[0m\u001b[1;33m\u001b[0m\u001b[0m\n\u001b[0m\u001b[0;32m    230\u001b[0m         \u001b[0mself\u001b[0m\u001b[1;33m.\u001b[0m\u001b[0mvisa_log\u001b[0m\u001b[1;33m.\u001b[0m\u001b[0mdebug\u001b[0m\u001b[1;33m(\u001b[0m\u001b[1;34mf\"Response: {response}\"\u001b[0m\u001b[1;33m)\u001b[0m\u001b[1;33m\u001b[0m\u001b[1;33m\u001b[0m\u001b[0m\n\u001b[0;32m    231\u001b[0m \u001b[1;33m\u001b[0m\u001b[0m\n",
      "\u001b[1;32m~\\Anaconda3\\lib\\site-packages\\pyvisa\\resources\\messagebased.py\u001b[0m in \u001b[0;36mquery\u001b[1;34m(self, message, delay)\u001b[0m\n\u001b[0;32m    611\u001b[0m         \u001b[1;32mif\u001b[0m \u001b[0mdelay\u001b[0m \u001b[1;33m>\u001b[0m \u001b[1;36m0.0\u001b[0m\u001b[1;33m:\u001b[0m\u001b[1;33m\u001b[0m\u001b[1;33m\u001b[0m\u001b[0m\n\u001b[0;32m    612\u001b[0m             \u001b[0mtime\u001b[0m\u001b[1;33m.\u001b[0m\u001b[0msleep\u001b[0m\u001b[1;33m(\u001b[0m\u001b[0mdelay\u001b[0m\u001b[1;33m)\u001b[0m\u001b[1;33m\u001b[0m\u001b[1;33m\u001b[0m\u001b[0m\n\u001b[1;32m--> 613\u001b[1;33m         \u001b[1;32mreturn\u001b[0m \u001b[0mself\u001b[0m\u001b[1;33m.\u001b[0m\u001b[0mread\u001b[0m\u001b[1;33m(\u001b[0m\u001b[1;33m)\u001b[0m\u001b[1;33m\u001b[0m\u001b[1;33m\u001b[0m\u001b[0m\n\u001b[0m\u001b[0;32m    614\u001b[0m \u001b[1;33m\u001b[0m\u001b[0m\n\u001b[0;32m    615\u001b[0m     \u001b[1;32mdef\u001b[0m \u001b[0mask\u001b[0m\u001b[1;33m(\u001b[0m\u001b[0mself\u001b[0m\u001b[1;33m,\u001b[0m \u001b[0mmessage\u001b[0m\u001b[1;33m,\u001b[0m \u001b[0mdelay\u001b[0m\u001b[1;33m=\u001b[0m\u001b[1;32mNone\u001b[0m\u001b[1;33m)\u001b[0m\u001b[1;33m:\u001b[0m\u001b[1;33m\u001b[0m\u001b[1;33m\u001b[0m\u001b[0m\n",
      "\u001b[1;32m~\\Anaconda3\\lib\\site-packages\\pyvisa\\resources\\messagebased.py\u001b[0m in \u001b[0;36mread\u001b[1;34m(self, termination, encoding)\u001b[0m\n\u001b[0;32m    425\u001b[0m         \u001b[1;32mif\u001b[0m \u001b[0mtermination\u001b[0m \u001b[1;32mis\u001b[0m \u001b[1;32mNone\u001b[0m\u001b[1;33m:\u001b[0m\u001b[1;33m\u001b[0m\u001b[1;33m\u001b[0m\u001b[0m\n\u001b[0;32m    426\u001b[0m             \u001b[0mtermination\u001b[0m \u001b[1;33m=\u001b[0m \u001b[0mself\u001b[0m\u001b[1;33m.\u001b[0m\u001b[0m_read_termination\u001b[0m\u001b[1;33m\u001b[0m\u001b[1;33m\u001b[0m\u001b[0m\n\u001b[1;32m--> 427\u001b[1;33m             \u001b[0mmessage\u001b[0m \u001b[1;33m=\u001b[0m \u001b[0mself\u001b[0m\u001b[1;33m.\u001b[0m\u001b[0m_read_raw\u001b[0m\u001b[1;33m(\u001b[0m\u001b[1;33m)\u001b[0m\u001b[1;33m.\u001b[0m\u001b[0mdecode\u001b[0m\u001b[1;33m(\u001b[0m\u001b[0menco\u001b[0m\u001b[1;33m)\u001b[0m\u001b[1;33m\u001b[0m\u001b[1;33m\u001b[0m\u001b[0m\n\u001b[0m\u001b[0;32m    428\u001b[0m         \u001b[1;32melse\u001b[0m\u001b[1;33m:\u001b[0m\u001b[1;33m\u001b[0m\u001b[1;33m\u001b[0m\u001b[0m\n\u001b[0;32m    429\u001b[0m             \u001b[1;32mwith\u001b[0m \u001b[0mself\u001b[0m\u001b[1;33m.\u001b[0m\u001b[0mread_termination_context\u001b[0m\u001b[1;33m(\u001b[0m\u001b[0mtermination\u001b[0m\u001b[1;33m)\u001b[0m\u001b[1;33m:\u001b[0m\u001b[1;33m\u001b[0m\u001b[1;33m\u001b[0m\u001b[0m\n",
      "\u001b[1;32m~\\Anaconda3\\lib\\site-packages\\pyvisa\\resources\\messagebased.py\u001b[0m in \u001b[0;36m_read_raw\u001b[1;34m(self, size)\u001b[0m\n\u001b[0;32m    398\u001b[0m                     logger.debug('%s - reading %d bytes (last status %r)',\n\u001b[0;32m    399\u001b[0m                                  self._resource_name, size, status)\n\u001b[1;32m--> 400\u001b[1;33m                     \u001b[0mchunk\u001b[0m\u001b[1;33m,\u001b[0m \u001b[0mstatus\u001b[0m \u001b[1;33m=\u001b[0m \u001b[0mself\u001b[0m\u001b[1;33m.\u001b[0m\u001b[0mvisalib\u001b[0m\u001b[1;33m.\u001b[0m\u001b[0mread\u001b[0m\u001b[1;33m(\u001b[0m\u001b[0mself\u001b[0m\u001b[1;33m.\u001b[0m\u001b[0msession\u001b[0m\u001b[1;33m,\u001b[0m \u001b[0msize\u001b[0m\u001b[1;33m)\u001b[0m\u001b[1;33m\u001b[0m\u001b[1;33m\u001b[0m\u001b[0m\n\u001b[0m\u001b[0;32m    401\u001b[0m                     \u001b[0mret\u001b[0m\u001b[1;33m.\u001b[0m\u001b[0mextend\u001b[0m\u001b[1;33m(\u001b[0m\u001b[0mchunk\u001b[0m\u001b[1;33m)\u001b[0m\u001b[1;33m\u001b[0m\u001b[1;33m\u001b[0m\u001b[0m\n\u001b[0;32m    402\u001b[0m             \u001b[1;32mexcept\u001b[0m \u001b[0merrors\u001b[0m\u001b[1;33m.\u001b[0m\u001b[0mVisaIOError\u001b[0m \u001b[1;32mas\u001b[0m \u001b[0me\u001b[0m\u001b[1;33m:\u001b[0m\u001b[1;33m\u001b[0m\u001b[1;33m\u001b[0m\u001b[0m\n",
      "\u001b[1;32m~\\Anaconda3\\lib\\site-packages\\pyvisa\\ctwrapper\\functions.py\u001b[0m in \u001b[0;36mread\u001b[1;34m(library, session, count)\u001b[0m\n\u001b[0;32m   1582\u001b[0m     \u001b[0mbuffer\u001b[0m \u001b[1;33m=\u001b[0m \u001b[0mcreate_string_buffer\u001b[0m\u001b[1;33m(\u001b[0m\u001b[0mcount\u001b[0m\u001b[1;33m)\u001b[0m\u001b[1;33m\u001b[0m\u001b[1;33m\u001b[0m\u001b[0m\n\u001b[0;32m   1583\u001b[0m     \u001b[0mreturn_count\u001b[0m \u001b[1;33m=\u001b[0m \u001b[0mViUInt32\u001b[0m\u001b[1;33m(\u001b[0m\u001b[1;33m)\u001b[0m\u001b[1;33m\u001b[0m\u001b[1;33m\u001b[0m\u001b[0m\n\u001b[1;32m-> 1584\u001b[1;33m     \u001b[0mret\u001b[0m \u001b[1;33m=\u001b[0m \u001b[0mlibrary\u001b[0m\u001b[1;33m.\u001b[0m\u001b[0mviRead\u001b[0m\u001b[1;33m(\u001b[0m\u001b[0msession\u001b[0m\u001b[1;33m,\u001b[0m \u001b[0mbuffer\u001b[0m\u001b[1;33m,\u001b[0m \u001b[0mcount\u001b[0m\u001b[1;33m,\u001b[0m \u001b[0mbyref\u001b[0m\u001b[1;33m(\u001b[0m\u001b[0mreturn_count\u001b[0m\u001b[1;33m)\u001b[0m\u001b[1;33m)\u001b[0m\u001b[1;33m\u001b[0m\u001b[1;33m\u001b[0m\u001b[0m\n\u001b[0m\u001b[0;32m   1585\u001b[0m     \u001b[1;32mreturn\u001b[0m \u001b[0mbuffer\u001b[0m\u001b[1;33m.\u001b[0m\u001b[0mraw\u001b[0m\u001b[1;33m[\u001b[0m\u001b[1;33m:\u001b[0m\u001b[0mreturn_count\u001b[0m\u001b[1;33m.\u001b[0m\u001b[0mvalue\u001b[0m\u001b[1;33m]\u001b[0m\u001b[1;33m,\u001b[0m \u001b[0mret\u001b[0m\u001b[1;33m\u001b[0m\u001b[1;33m\u001b[0m\u001b[0m\n\u001b[0;32m   1586\u001b[0m \u001b[1;33m\u001b[0m\u001b[0m\n",
      "\u001b[1;32m~\\Anaconda3\\lib\\site-packages\\pyvisa\\ctwrapper\\highlevel.py\u001b[0m in \u001b[0;36m_return_handler\u001b[1;34m(self, ret_value, func, arguments)\u001b[0m\n\u001b[0;32m    191\u001b[0m \u001b[1;33m\u001b[0m\u001b[0m\n\u001b[0;32m    192\u001b[0m         \u001b[1;32mif\u001b[0m \u001b[0mret_value\u001b[0m \u001b[1;33m<\u001b[0m \u001b[1;36m0\u001b[0m\u001b[1;33m:\u001b[0m\u001b[1;33m\u001b[0m\u001b[1;33m\u001b[0m\u001b[0m\n\u001b[1;32m--> 193\u001b[1;33m             \u001b[1;32mraise\u001b[0m \u001b[0merrors\u001b[0m\u001b[1;33m.\u001b[0m\u001b[0mVisaIOError\u001b[0m\u001b[1;33m(\u001b[0m\u001b[0mret_value\u001b[0m\u001b[1;33m)\u001b[0m\u001b[1;33m\u001b[0m\u001b[1;33m\u001b[0m\u001b[0m\n\u001b[0m\u001b[0;32m    194\u001b[0m \u001b[1;33m\u001b[0m\u001b[0m\n\u001b[0;32m    195\u001b[0m         \u001b[1;32mif\u001b[0m \u001b[0mret_value\u001b[0m \u001b[1;32min\u001b[0m \u001b[0mself\u001b[0m\u001b[1;33m.\u001b[0m\u001b[0missue_warning_on\u001b[0m\u001b[1;33m:\u001b[0m\u001b[1;33m\u001b[0m\u001b[1;33m\u001b[0m\u001b[0m\n",
      "\u001b[1;31mVisaIOError\u001b[0m: ('VI_ERROR_TMO (-1073807339): Timeout expired before operation completed.', \"asking 'RDGK? 8\\\\n\\\\r' to <Model_372: LS370 input Ch>\", 'getting LS370 input Ch_ch08_temperature')"
     ]
    }
   ],
   "source": [
    "T_list = np.array( [50 + 25*i for i in range (11) ] )*1e-3\n",
    "B_list = np.linspace(0, 1.85e-3, 11)\n",
    "\n",
    "for jj in  jj.Tscan( T_list ):\n",
    "    \n",
    "    for jj in jj.Bscan(B_list):\n",
    "    \n",
    "        jj.IVC_udu (amp = 1e-12, stp = 0.01e-12, dt = .5, Ioff = -.5e-12)\n",
    "    \n",
    "    \n",
    "Bfield.set(0e-3)\n",
    "htr_setpt.set(30e-3)"
   ]
  },
  {
   "cell_type": "code",
   "execution_count": null,
   "metadata": {},
   "outputs": [],
   "source": [
    "T_list = np.array( [200 + 25*i for i in range (5) ] )*1e-3\n",
    "B_list = np.linspace(0, 1.85e-3, 11)\n",
    "\n",
    "for jj in  jj.Tscan( T_list ):\n",
    "    \n",
    "    for jj in jj.Bscan(B_list):\n",
    "    \n",
    "        jj.IVC_fwd (amp = 2e-12, stp = 0.04e-12, dt = .5, Ioff = -.35e-12)\n",
    "    \n",
    "    \n",
    "Bfield.set(0e-3)\n",
    "htr_setpt.set(30e-3)"
   ]
  },
  {
   "cell_type": "markdown",
   "metadata": {},
   "source": [
    "## Snapshot"
   ]
  },
  {
   "cell_type": "code",
   "execution_count": 778,
   "metadata": {},
   "outputs": [
    {
     "data": {
      "text/plain": [
       "{'instruments': {'K6220': {'functions': {},\n",
       "   'submodules': {},\n",
       "   '__class__': 'qcodes.instrument_drivers.Keithley.Keithley_6220_Isrc.Keithley_6220_Isrc',\n",
       "   'parameters': {'IDN': {'value': {'vendor': 'KEITHLEY INSTRUMENTS INC.',\n",
       "      'model': '6220',\n",
       "      'serial': '1249187',\n",
       "      'firmware': 'A05  /700x'},\n",
       "     'ts': '2020-07-22 15:02:02',\n",
       "     'raw_value': {'vendor': 'KEITHLEY INSTRUMENTS INC.',\n",
       "      'model': '6220',\n",
       "      'serial': '1249187',\n",
       "      'firmware': 'A05  /700x'},\n",
       "     '__class__': 'qcodes.instrument.parameter.Parameter',\n",
       "     'full_name': 'K6220_IDN',\n",
       "     'label': 'IDN',\n",
       "     'name': 'IDN',\n",
       "     'instrument': 'qcodes.instrument_drivers.Keithley.Keithley_6220_Isrc.Keithley_6220_Isrc',\n",
       "     'instrument_name': 'K6220',\n",
       "     'inter_delay': 0,\n",
       "     'post_delay': 0,\n",
       "     'unit': '',\n",
       "     'vals': '<Anything>'},\n",
       "    'timeout': {'value': 10.0,\n",
       "     'ts': '2020-07-27 13:33:51',\n",
       "     'raw_value': 10.0,\n",
       "     '__class__': 'qcodes.instrument.parameter.Parameter',\n",
       "     'full_name': 'K6220_timeout',\n",
       "     'label': 'timeout',\n",
       "     'name': 'timeout',\n",
       "     'instrument': 'qcodes.instrument_drivers.Keithley.Keithley_6220_Isrc.Keithley_6220_Isrc',\n",
       "     'instrument_name': 'K6220',\n",
       "     'inter_delay': 0,\n",
       "     'post_delay': 0,\n",
       "     'unit': 's',\n",
       "     'vals': '<MultiType: Numbers v>=0, Enum: {None}>'},\n",
       "    'I': {'value': -0.0,\n",
       "     'ts': '2020-07-27 13:39:33',\n",
       "     'raw_value': -0.0,\n",
       "     '__class__': 'qcodes.instrument.parameter.Parameter',\n",
       "     'full_name': 'K6220_I',\n",
       "     'label': 'Current',\n",
       "     'name': 'I',\n",
       "     'instrument': 'qcodes.instrument_drivers.Keithley.Keithley_6220_Isrc.Keithley_6220_Isrc',\n",
       "     'instrument_name': 'K6220',\n",
       "     'inter_delay': 0,\n",
       "     'post_delay': 0,\n",
       "     'unit': 'A',\n",
       "     'vals': '<Numbers -1e-05<=v<=1e-05>'},\n",
       "    'Irange': {'value': None,\n",
       "     'ts': None,\n",
       "     'raw_value': None,\n",
       "     '__class__': 'qcodes.instrument.parameter.Parameter',\n",
       "     'full_name': 'K6220_Irange',\n",
       "     'label': 'Current',\n",
       "     'name': 'Irange',\n",
       "     'instrument': 'qcodes.instrument_drivers.Keithley.Keithley_6220_Isrc.Keithley_6220_Isrc',\n",
       "     'instrument_name': 'K6220',\n",
       "     'inter_delay': 0,\n",
       "     'post_delay': 0,\n",
       "     'unit': 'A',\n",
       "     'vals': '<Numbers 1e-09<=v<=1e-05>'}},\n",
       "   'name': 'K6220',\n",
       "   'address': 'GPIB::13::INSTR',\n",
       "   'terminator': '',\n",
       "   'timeout': 10.0},\n",
       "  'meter': {'functions': {},\n",
       "   'submodules': {},\n",
       "   '__class__': 'qcodes.instrument_drivers.HP.HP34401_DL1201.HP34401_DL1201',\n",
       "   'parameters': {'IDN': {'value': {'vendor': 'HEWLETT-PACKARD',\n",
       "      'model': '34401A',\n",
       "      'serial': '0',\n",
       "      'firmware': '5-1-1'},\n",
       "     'ts': '2020-07-22 15:02:19',\n",
       "     'raw_value': {'vendor': 'HEWLETT-PACKARD',\n",
       "      'model': '34401A',\n",
       "      'serial': '0',\n",
       "      'firmware': '5-1-1'},\n",
       "     '__class__': 'qcodes.instrument.parameter.Parameter',\n",
       "     'full_name': 'meter_IDN',\n",
       "     'label': 'IDN',\n",
       "     'name': 'IDN',\n",
       "     'instrument': 'qcodes.instrument_drivers.HP.HP34401_DL1201.HP34401_DL1201',\n",
       "     'instrument_name': 'meter',\n",
       "     'inter_delay': 0,\n",
       "     'post_delay': 0,\n",
       "     'unit': '',\n",
       "     'vals': '<Anything>'},\n",
       "    'timeout': {'value': 10.0,\n",
       "     'ts': '2020-07-27 13:33:51',\n",
       "     'raw_value': 10.0,\n",
       "     '__class__': 'qcodes.instrument.parameter.Parameter',\n",
       "     'full_name': 'meter_timeout',\n",
       "     'label': 'timeout',\n",
       "     'name': 'timeout',\n",
       "     'instrument': 'qcodes.instrument_drivers.HP.HP34401_DL1201.HP34401_DL1201',\n",
       "     'instrument_name': 'meter',\n",
       "     'inter_delay': 0,\n",
       "     'post_delay': 0,\n",
       "     'unit': 's',\n",
       "     'vals': '<MultiType: Numbers v>=0, Enum: {None}>'},\n",
       "    'Vraw': {'value': 0.011052371,\n",
       "     'ts': '2020-07-22 15:02:20',\n",
       "     'raw_value': '+1.10523710E-02\\n',\n",
       "     '__class__': 'qcodes.instrument.parameter.Parameter',\n",
       "     'full_name': 'meter_Vraw',\n",
       "     'label': 'Voltage',\n",
       "     'name': 'Vraw',\n",
       "     'instrument': 'qcodes.instrument_drivers.HP.HP34401_DL1201.HP34401_DL1201',\n",
       "     'instrument_name': 'meter',\n",
       "     'inter_delay': 0,\n",
       "     'post_delay': 0,\n",
       "     'unit': 'V'},\n",
       "    'V': {'value': 0.00010600191,\n",
       "     'ts': '2020-07-27 13:39:23',\n",
       "     'raw_value': '+1.06001910E-02\\n',\n",
       "     '__class__': 'qcodes.instrument.parameter.Parameter',\n",
       "     'full_name': 'meter_V',\n",
       "     'label': 'Voltage',\n",
       "     'name': 'V',\n",
       "     'instrument': 'qcodes.instrument_drivers.HP.HP34401_DL1201.HP34401_DL1201',\n",
       "     'instrument_name': 'meter',\n",
       "     'inter_delay': 0,\n",
       "     'post_delay': 0,\n",
       "     'unit': 'V'}},\n",
       "   'name': 'meter',\n",
       "   'address': 'GPIB0::8::INSTR',\n",
       "   'terminator': '',\n",
       "   'timeout': 10.0}},\n",
       " 'parameters': {},\n",
       " 'components': {},\n",
       " 'default_measurement': []}"
      ]
     },
     "execution_count": 778,
     "metadata": {},
     "output_type": "execute_result"
    }
   ],
   "source": [
    "station.snapshot()"
   ]
  },
  {
   "cell_type": "code",
   "execution_count": 784,
   "metadata": {},
   "outputs": [],
   "source": [
    "snap=station.snapshot()"
   ]
  },
  {
   "cell_type": "code",
   "execution_count": 904,
   "metadata": {
    "scrolled": true
   },
   "outputs": [
    {
     "data": {
      "text/plain": [
       "'qcodes.instrument.parameter.Parameter'"
      ]
     },
     "execution_count": 904,
     "metadata": {},
     "output_type": "execute_result"
    }
   ],
   "source": [
    "snap['instruments']['K6220']['parameters']['IDN']['__class__']"
   ]
  },
  {
   "cell_type": "code",
   "execution_count": 890,
   "metadata": {},
   "outputs": [],
   "source": [
    "from JJmeasurement_Plamen import *\n",
    "import QCmeasurement_Plamen"
   ]
  },
  {
   "cell_type": "code",
   "execution_count": 891,
   "metadata": {},
   "outputs": [],
   "source": [
    "jjmock=JJmeas_Pl(sample='mock',tools=tools)"
   ]
  },
  {
   "cell_type": "code",
   "execution_count": 906,
   "metadata": {},
   "outputs": [
    {
     "name": "stdout",
     "output_type": "stream",
     "text": [
      "Starting experimental run with id: 17\n"
     ]
    }
   ],
   "source": [
    "x=np.linspace(-np.pi,np.pi)\n",
    "y=np.sin(x)\n",
    "V=Parameter('V')\n",
    "I=Parameter('I')\n",
    "dataset=jjmock.mock_meas_P((V,y),(I,x))"
   ]
  },
  {
   "cell_type": "code",
   "execution_count": 907,
   "metadata": {},
   "outputs": [
    {
     "data": {
      "application/javascript": [
       "/* Put everything inside the global mpl namespace */\n",
       "window.mpl = {};\n",
       "\n",
       "\n",
       "mpl.get_websocket_type = function() {\n",
       "    if (typeof(WebSocket) !== 'undefined') {\n",
       "        return WebSocket;\n",
       "    } else if (typeof(MozWebSocket) !== 'undefined') {\n",
       "        return MozWebSocket;\n",
       "    } else {\n",
       "        alert('Your browser does not have WebSocket support. ' +\n",
       "              'Please try Chrome, Safari or Firefox ≥ 6. ' +\n",
       "              'Firefox 4 and 5 are also supported but you ' +\n",
       "              'have to enable WebSockets in about:config.');\n",
       "    };\n",
       "}\n",
       "\n",
       "mpl.figure = function(figure_id, websocket, ondownload, parent_element) {\n",
       "    this.id = figure_id;\n",
       "\n",
       "    this.ws = websocket;\n",
       "\n",
       "    this.supports_binary = (this.ws.binaryType != undefined);\n",
       "\n",
       "    if (!this.supports_binary) {\n",
       "        var warnings = document.getElementById(\"mpl-warnings\");\n",
       "        if (warnings) {\n",
       "            warnings.style.display = 'block';\n",
       "            warnings.textContent = (\n",
       "                \"This browser does not support binary websocket messages. \" +\n",
       "                    \"Performance may be slow.\");\n",
       "        }\n",
       "    }\n",
       "\n",
       "    this.imageObj = new Image();\n",
       "\n",
       "    this.context = undefined;\n",
       "    this.message = undefined;\n",
       "    this.canvas = undefined;\n",
       "    this.rubberband_canvas = undefined;\n",
       "    this.rubberband_context = undefined;\n",
       "    this.format_dropdown = undefined;\n",
       "\n",
       "    this.image_mode = 'full';\n",
       "\n",
       "    this.root = $('<div/>');\n",
       "    this._root_extra_style(this.root)\n",
       "    this.root.attr('style', 'display: inline-block');\n",
       "\n",
       "    $(parent_element).append(this.root);\n",
       "\n",
       "    this._init_header(this);\n",
       "    this._init_canvas(this);\n",
       "    this._init_toolbar(this);\n",
       "\n",
       "    var fig = this;\n",
       "\n",
       "    this.waiting = false;\n",
       "\n",
       "    this.ws.onopen =  function () {\n",
       "            fig.send_message(\"supports_binary\", {value: fig.supports_binary});\n",
       "            fig.send_message(\"send_image_mode\", {});\n",
       "            if (mpl.ratio != 1) {\n",
       "                fig.send_message(\"set_dpi_ratio\", {'dpi_ratio': mpl.ratio});\n",
       "            }\n",
       "            fig.send_message(\"refresh\", {});\n",
       "        }\n",
       "\n",
       "    this.imageObj.onload = function() {\n",
       "            if (fig.image_mode == 'full') {\n",
       "                // Full images could contain transparency (where diff images\n",
       "                // almost always do), so we need to clear the canvas so that\n",
       "                // there is no ghosting.\n",
       "                fig.context.clearRect(0, 0, fig.canvas.width, fig.canvas.height);\n",
       "            }\n",
       "            fig.context.drawImage(fig.imageObj, 0, 0);\n",
       "        };\n",
       "\n",
       "    this.imageObj.onunload = function() {\n",
       "        fig.ws.close();\n",
       "    }\n",
       "\n",
       "    this.ws.onmessage = this._make_on_message_function(this);\n",
       "\n",
       "    this.ondownload = ondownload;\n",
       "}\n",
       "\n",
       "mpl.figure.prototype._init_header = function() {\n",
       "    var titlebar = $(\n",
       "        '<div class=\"ui-dialog-titlebar ui-widget-header ui-corner-all ' +\n",
       "        'ui-helper-clearfix\"/>');\n",
       "    var titletext = $(\n",
       "        '<div class=\"ui-dialog-title\" style=\"width: 100%; ' +\n",
       "        'text-align: center; padding: 3px;\"/>');\n",
       "    titlebar.append(titletext)\n",
       "    this.root.append(titlebar);\n",
       "    this.header = titletext[0];\n",
       "}\n",
       "\n",
       "\n",
       "\n",
       "mpl.figure.prototype._canvas_extra_style = function(canvas_div) {\n",
       "\n",
       "}\n",
       "\n",
       "\n",
       "mpl.figure.prototype._root_extra_style = function(canvas_div) {\n",
       "\n",
       "}\n",
       "\n",
       "mpl.figure.prototype._init_canvas = function() {\n",
       "    var fig = this;\n",
       "\n",
       "    var canvas_div = $('<div/>');\n",
       "\n",
       "    canvas_div.attr('style', 'position: relative; clear: both; outline: 0');\n",
       "\n",
       "    function canvas_keyboard_event(event) {\n",
       "        return fig.key_event(event, event['data']);\n",
       "    }\n",
       "\n",
       "    canvas_div.keydown('key_press', canvas_keyboard_event);\n",
       "    canvas_div.keyup('key_release', canvas_keyboard_event);\n",
       "    this.canvas_div = canvas_div\n",
       "    this._canvas_extra_style(canvas_div)\n",
       "    this.root.append(canvas_div);\n",
       "\n",
       "    var canvas = $('<canvas/>');\n",
       "    canvas.addClass('mpl-canvas');\n",
       "    canvas.attr('style', \"left: 0; top: 0; z-index: 0; outline: 0\")\n",
       "\n",
       "    this.canvas = canvas[0];\n",
       "    this.context = canvas[0].getContext(\"2d\");\n",
       "\n",
       "    var backingStore = this.context.backingStorePixelRatio ||\n",
       "\tthis.context.webkitBackingStorePixelRatio ||\n",
       "\tthis.context.mozBackingStorePixelRatio ||\n",
       "\tthis.context.msBackingStorePixelRatio ||\n",
       "\tthis.context.oBackingStorePixelRatio ||\n",
       "\tthis.context.backingStorePixelRatio || 1;\n",
       "\n",
       "    mpl.ratio = (window.devicePixelRatio || 1) / backingStore;\n",
       "\n",
       "    var rubberband = $('<canvas/>');\n",
       "    rubberband.attr('style', \"position: absolute; left: 0; top: 0; z-index: 1;\")\n",
       "\n",
       "    var pass_mouse_events = true;\n",
       "\n",
       "    canvas_div.resizable({\n",
       "        start: function(event, ui) {\n",
       "            pass_mouse_events = false;\n",
       "        },\n",
       "        resize: function(event, ui) {\n",
       "            fig.request_resize(ui.size.width, ui.size.height);\n",
       "        },\n",
       "        stop: function(event, ui) {\n",
       "            pass_mouse_events = true;\n",
       "            fig.request_resize(ui.size.width, ui.size.height);\n",
       "        },\n",
       "    });\n",
       "\n",
       "    function mouse_event_fn(event) {\n",
       "        if (pass_mouse_events)\n",
       "            return fig.mouse_event(event, event['data']);\n",
       "    }\n",
       "\n",
       "    rubberband.mousedown('button_press', mouse_event_fn);\n",
       "    rubberband.mouseup('button_release', mouse_event_fn);\n",
       "    // Throttle sequential mouse events to 1 every 20ms.\n",
       "    rubberband.mousemove('motion_notify', mouse_event_fn);\n",
       "\n",
       "    rubberband.mouseenter('figure_enter', mouse_event_fn);\n",
       "    rubberband.mouseleave('figure_leave', mouse_event_fn);\n",
       "\n",
       "    canvas_div.on(\"wheel\", function (event) {\n",
       "        event = event.originalEvent;\n",
       "        event['data'] = 'scroll'\n",
       "        if (event.deltaY < 0) {\n",
       "            event.step = 1;\n",
       "        } else {\n",
       "            event.step = -1;\n",
       "        }\n",
       "        mouse_event_fn(event);\n",
       "    });\n",
       "\n",
       "    canvas_div.append(canvas);\n",
       "    canvas_div.append(rubberband);\n",
       "\n",
       "    this.rubberband = rubberband;\n",
       "    this.rubberband_canvas = rubberband[0];\n",
       "    this.rubberband_context = rubberband[0].getContext(\"2d\");\n",
       "    this.rubberband_context.strokeStyle = \"#000000\";\n",
       "\n",
       "    this._resize_canvas = function(width, height) {\n",
       "        // Keep the size of the canvas, canvas container, and rubber band\n",
       "        // canvas in synch.\n",
       "        canvas_div.css('width', width)\n",
       "        canvas_div.css('height', height)\n",
       "\n",
       "        canvas.attr('width', width * mpl.ratio);\n",
       "        canvas.attr('height', height * mpl.ratio);\n",
       "        canvas.attr('style', 'width: ' + width + 'px; height: ' + height + 'px;');\n",
       "\n",
       "        rubberband.attr('width', width);\n",
       "        rubberband.attr('height', height);\n",
       "    }\n",
       "\n",
       "    // Set the figure to an initial 600x600px, this will subsequently be updated\n",
       "    // upon first draw.\n",
       "    this._resize_canvas(600, 600);\n",
       "\n",
       "    // Disable right mouse context menu.\n",
       "    $(this.rubberband_canvas).bind(\"contextmenu\",function(e){\n",
       "        return false;\n",
       "    });\n",
       "\n",
       "    function set_focus () {\n",
       "        canvas.focus();\n",
       "        canvas_div.focus();\n",
       "    }\n",
       "\n",
       "    window.setTimeout(set_focus, 100);\n",
       "}\n",
       "\n",
       "mpl.figure.prototype._init_toolbar = function() {\n",
       "    var fig = this;\n",
       "\n",
       "    var nav_element = $('<div/>');\n",
       "    nav_element.attr('style', 'width: 100%');\n",
       "    this.root.append(nav_element);\n",
       "\n",
       "    // Define a callback function for later on.\n",
       "    function toolbar_event(event) {\n",
       "        return fig.toolbar_button_onclick(event['data']);\n",
       "    }\n",
       "    function toolbar_mouse_event(event) {\n",
       "        return fig.toolbar_button_onmouseover(event['data']);\n",
       "    }\n",
       "\n",
       "    for(var toolbar_ind in mpl.toolbar_items) {\n",
       "        var name = mpl.toolbar_items[toolbar_ind][0];\n",
       "        var tooltip = mpl.toolbar_items[toolbar_ind][1];\n",
       "        var image = mpl.toolbar_items[toolbar_ind][2];\n",
       "        var method_name = mpl.toolbar_items[toolbar_ind][3];\n",
       "\n",
       "        if (!name) {\n",
       "            // put a spacer in here.\n",
       "            continue;\n",
       "        }\n",
       "        var button = $('<button/>');\n",
       "        button.addClass('ui-button ui-widget ui-state-default ui-corner-all ' +\n",
       "                        'ui-button-icon-only');\n",
       "        button.attr('role', 'button');\n",
       "        button.attr('aria-disabled', 'false');\n",
       "        button.click(method_name, toolbar_event);\n",
       "        button.mouseover(tooltip, toolbar_mouse_event);\n",
       "\n",
       "        var icon_img = $('<span/>');\n",
       "        icon_img.addClass('ui-button-icon-primary ui-icon');\n",
       "        icon_img.addClass(image);\n",
       "        icon_img.addClass('ui-corner-all');\n",
       "\n",
       "        var tooltip_span = $('<span/>');\n",
       "        tooltip_span.addClass('ui-button-text');\n",
       "        tooltip_span.html(tooltip);\n",
       "\n",
       "        button.append(icon_img);\n",
       "        button.append(tooltip_span);\n",
       "\n",
       "        nav_element.append(button);\n",
       "    }\n",
       "\n",
       "    var fmt_picker_span = $('<span/>');\n",
       "\n",
       "    var fmt_picker = $('<select/>');\n",
       "    fmt_picker.addClass('mpl-toolbar-option ui-widget ui-widget-content');\n",
       "    fmt_picker_span.append(fmt_picker);\n",
       "    nav_element.append(fmt_picker_span);\n",
       "    this.format_dropdown = fmt_picker[0];\n",
       "\n",
       "    for (var ind in mpl.extensions) {\n",
       "        var fmt = mpl.extensions[ind];\n",
       "        var option = $(\n",
       "            '<option/>', {selected: fmt === mpl.default_extension}).html(fmt);\n",
       "        fmt_picker.append(option);\n",
       "    }\n",
       "\n",
       "    // Add hover states to the ui-buttons\n",
       "    $( \".ui-button\" ).hover(\n",
       "        function() { $(this).addClass(\"ui-state-hover\");},\n",
       "        function() { $(this).removeClass(\"ui-state-hover\");}\n",
       "    );\n",
       "\n",
       "    var status_bar = $('<span class=\"mpl-message\"/>');\n",
       "    nav_element.append(status_bar);\n",
       "    this.message = status_bar[0];\n",
       "}\n",
       "\n",
       "mpl.figure.prototype.request_resize = function(x_pixels, y_pixels) {\n",
       "    // Request matplotlib to resize the figure. Matplotlib will then trigger a resize in the client,\n",
       "    // which will in turn request a refresh of the image.\n",
       "    this.send_message('resize', {'width': x_pixels, 'height': y_pixels});\n",
       "}\n",
       "\n",
       "mpl.figure.prototype.send_message = function(type, properties) {\n",
       "    properties['type'] = type;\n",
       "    properties['figure_id'] = this.id;\n",
       "    this.ws.send(JSON.stringify(properties));\n",
       "}\n",
       "\n",
       "mpl.figure.prototype.send_draw_message = function() {\n",
       "    if (!this.waiting) {\n",
       "        this.waiting = true;\n",
       "        this.ws.send(JSON.stringify({type: \"draw\", figure_id: this.id}));\n",
       "    }\n",
       "}\n",
       "\n",
       "\n",
       "mpl.figure.prototype.handle_save = function(fig, msg) {\n",
       "    var format_dropdown = fig.format_dropdown;\n",
       "    var format = format_dropdown.options[format_dropdown.selectedIndex].value;\n",
       "    fig.ondownload(fig, format);\n",
       "}\n",
       "\n",
       "\n",
       "mpl.figure.prototype.handle_resize = function(fig, msg) {\n",
       "    var size = msg['size'];\n",
       "    if (size[0] != fig.canvas.width || size[1] != fig.canvas.height) {\n",
       "        fig._resize_canvas(size[0], size[1]);\n",
       "        fig.send_message(\"refresh\", {});\n",
       "    };\n",
       "}\n",
       "\n",
       "mpl.figure.prototype.handle_rubberband = function(fig, msg) {\n",
       "    var x0 = msg['x0'] / mpl.ratio;\n",
       "    var y0 = (fig.canvas.height - msg['y0']) / mpl.ratio;\n",
       "    var x1 = msg['x1'] / mpl.ratio;\n",
       "    var y1 = (fig.canvas.height - msg['y1']) / mpl.ratio;\n",
       "    x0 = Math.floor(x0) + 0.5;\n",
       "    y0 = Math.floor(y0) + 0.5;\n",
       "    x1 = Math.floor(x1) + 0.5;\n",
       "    y1 = Math.floor(y1) + 0.5;\n",
       "    var min_x = Math.min(x0, x1);\n",
       "    var min_y = Math.min(y0, y1);\n",
       "    var width = Math.abs(x1 - x0);\n",
       "    var height = Math.abs(y1 - y0);\n",
       "\n",
       "    fig.rubberband_context.clearRect(\n",
       "        0, 0, fig.canvas.width / mpl.ratio, fig.canvas.height / mpl.ratio);\n",
       "\n",
       "    fig.rubberband_context.strokeRect(min_x, min_y, width, height);\n",
       "}\n",
       "\n",
       "mpl.figure.prototype.handle_figure_label = function(fig, msg) {\n",
       "    // Updates the figure title.\n",
       "    fig.header.textContent = msg['label'];\n",
       "}\n",
       "\n",
       "mpl.figure.prototype.handle_cursor = function(fig, msg) {\n",
       "    var cursor = msg['cursor'];\n",
       "    switch(cursor)\n",
       "    {\n",
       "    case 0:\n",
       "        cursor = 'pointer';\n",
       "        break;\n",
       "    case 1:\n",
       "        cursor = 'default';\n",
       "        break;\n",
       "    case 2:\n",
       "        cursor = 'crosshair';\n",
       "        break;\n",
       "    case 3:\n",
       "        cursor = 'move';\n",
       "        break;\n",
       "    }\n",
       "    fig.rubberband_canvas.style.cursor = cursor;\n",
       "}\n",
       "\n",
       "mpl.figure.prototype.handle_message = function(fig, msg) {\n",
       "    fig.message.textContent = msg['message'];\n",
       "}\n",
       "\n",
       "mpl.figure.prototype.handle_draw = function(fig, msg) {\n",
       "    // Request the server to send over a new figure.\n",
       "    fig.send_draw_message();\n",
       "}\n",
       "\n",
       "mpl.figure.prototype.handle_image_mode = function(fig, msg) {\n",
       "    fig.image_mode = msg['mode'];\n",
       "}\n",
       "\n",
       "mpl.figure.prototype.updated_canvas_event = function() {\n",
       "    // Called whenever the canvas gets updated.\n",
       "    this.send_message(\"ack\", {});\n",
       "}\n",
       "\n",
       "// A function to construct a web socket function for onmessage handling.\n",
       "// Called in the figure constructor.\n",
       "mpl.figure.prototype._make_on_message_function = function(fig) {\n",
       "    return function socket_on_message(evt) {\n",
       "        if (evt.data instanceof Blob) {\n",
       "            /* FIXME: We get \"Resource interpreted as Image but\n",
       "             * transferred with MIME type text/plain:\" errors on\n",
       "             * Chrome.  But how to set the MIME type?  It doesn't seem\n",
       "             * to be part of the websocket stream */\n",
       "            evt.data.type = \"image/png\";\n",
       "\n",
       "            /* Free the memory for the previous frames */\n",
       "            if (fig.imageObj.src) {\n",
       "                (window.URL || window.webkitURL).revokeObjectURL(\n",
       "                    fig.imageObj.src);\n",
       "            }\n",
       "\n",
       "            fig.imageObj.src = (window.URL || window.webkitURL).createObjectURL(\n",
       "                evt.data);\n",
       "            fig.updated_canvas_event();\n",
       "            fig.waiting = false;\n",
       "            return;\n",
       "        }\n",
       "        else if (typeof evt.data === 'string' && evt.data.slice(0, 21) == \"data:image/png;base64\") {\n",
       "            fig.imageObj.src = evt.data;\n",
       "            fig.updated_canvas_event();\n",
       "            fig.waiting = false;\n",
       "            return;\n",
       "        }\n",
       "\n",
       "        var msg = JSON.parse(evt.data);\n",
       "        var msg_type = msg['type'];\n",
       "\n",
       "        // Call the  \"handle_{type}\" callback, which takes\n",
       "        // the figure and JSON message as its only arguments.\n",
       "        try {\n",
       "            var callback = fig[\"handle_\" + msg_type];\n",
       "        } catch (e) {\n",
       "            console.log(\"No handler for the '\" + msg_type + \"' message type: \", msg);\n",
       "            return;\n",
       "        }\n",
       "\n",
       "        if (callback) {\n",
       "            try {\n",
       "                // console.log(\"Handling '\" + msg_type + \"' message: \", msg);\n",
       "                callback(fig, msg);\n",
       "            } catch (e) {\n",
       "                console.log(\"Exception inside the 'handler_\" + msg_type + \"' callback:\", e, e.stack, msg);\n",
       "            }\n",
       "        }\n",
       "    };\n",
       "}\n",
       "\n",
       "// from http://stackoverflow.com/questions/1114465/getting-mouse-location-in-canvas\n",
       "mpl.findpos = function(e) {\n",
       "    //this section is from http://www.quirksmode.org/js/events_properties.html\n",
       "    var targ;\n",
       "    if (!e)\n",
       "        e = window.event;\n",
       "    if (e.target)\n",
       "        targ = e.target;\n",
       "    else if (e.srcElement)\n",
       "        targ = e.srcElement;\n",
       "    if (targ.nodeType == 3) // defeat Safari bug\n",
       "        targ = targ.parentNode;\n",
       "\n",
       "    // jQuery normalizes the pageX and pageY\n",
       "    // pageX,Y are the mouse positions relative to the document\n",
       "    // offset() returns the position of the element relative to the document\n",
       "    var x = e.pageX - $(targ).offset().left;\n",
       "    var y = e.pageY - $(targ).offset().top;\n",
       "\n",
       "    return {\"x\": x, \"y\": y};\n",
       "};\n",
       "\n",
       "/*\n",
       " * return a copy of an object with only non-object keys\n",
       " * we need this to avoid circular references\n",
       " * http://stackoverflow.com/a/24161582/3208463\n",
       " */\n",
       "function simpleKeys (original) {\n",
       "  return Object.keys(original).reduce(function (obj, key) {\n",
       "    if (typeof original[key] !== 'object')\n",
       "        obj[key] = original[key]\n",
       "    return obj;\n",
       "  }, {});\n",
       "}\n",
       "\n",
       "mpl.figure.prototype.mouse_event = function(event, name) {\n",
       "    var canvas_pos = mpl.findpos(event)\n",
       "\n",
       "    if (name === 'button_press')\n",
       "    {\n",
       "        this.canvas.focus();\n",
       "        this.canvas_div.focus();\n",
       "    }\n",
       "\n",
       "    var x = canvas_pos.x * mpl.ratio;\n",
       "    var y = canvas_pos.y * mpl.ratio;\n",
       "\n",
       "    this.send_message(name, {x: x, y: y, button: event.button,\n",
       "                             step: event.step,\n",
       "                             guiEvent: simpleKeys(event)});\n",
       "\n",
       "    /* This prevents the web browser from automatically changing to\n",
       "     * the text insertion cursor when the button is pressed.  We want\n",
       "     * to control all of the cursor setting manually through the\n",
       "     * 'cursor' event from matplotlib */\n",
       "    event.preventDefault();\n",
       "    return false;\n",
       "}\n",
       "\n",
       "mpl.figure.prototype._key_event_extra = function(event, name) {\n",
       "    // Handle any extra behaviour associated with a key event\n",
       "}\n",
       "\n",
       "mpl.figure.prototype.key_event = function(event, name) {\n",
       "\n",
       "    // Prevent repeat events\n",
       "    if (name == 'key_press')\n",
       "    {\n",
       "        if (event.which === this._key)\n",
       "            return;\n",
       "        else\n",
       "            this._key = event.which;\n",
       "    }\n",
       "    if (name == 'key_release')\n",
       "        this._key = null;\n",
       "\n",
       "    var value = '';\n",
       "    if (event.ctrlKey && event.which != 17)\n",
       "        value += \"ctrl+\";\n",
       "    if (event.altKey && event.which != 18)\n",
       "        value += \"alt+\";\n",
       "    if (event.shiftKey && event.which != 16)\n",
       "        value += \"shift+\";\n",
       "\n",
       "    value += 'k';\n",
       "    value += event.which.toString();\n",
       "\n",
       "    this._key_event_extra(event, name);\n",
       "\n",
       "    this.send_message(name, {key: value,\n",
       "                             guiEvent: simpleKeys(event)});\n",
       "    return false;\n",
       "}\n",
       "\n",
       "mpl.figure.prototype.toolbar_button_onclick = function(name) {\n",
       "    if (name == 'download') {\n",
       "        this.handle_save(this, null);\n",
       "    } else {\n",
       "        this.send_message(\"toolbar_button\", {name: name});\n",
       "    }\n",
       "};\n",
       "\n",
       "mpl.figure.prototype.toolbar_button_onmouseover = function(tooltip) {\n",
       "    this.message.textContent = tooltip;\n",
       "};\n",
       "mpl.toolbar_items = [[\"Home\", \"Reset original view\", \"fa fa-home icon-home\", \"home\"], [\"Back\", \"Back to previous view\", \"fa fa-arrow-left icon-arrow-left\", \"back\"], [\"Forward\", \"Forward to next view\", \"fa fa-arrow-right icon-arrow-right\", \"forward\"], [\"\", \"\", \"\", \"\"], [\"Pan\", \"Pan axes with left mouse, zoom with right\", \"fa fa-arrows icon-move\", \"pan\"], [\"Zoom\", \"Zoom to rectangle\", \"fa fa-square-o icon-check-empty\", \"zoom\"], [\"\", \"\", \"\", \"\"], [\"Download\", \"Download plot\", \"fa fa-floppy-o icon-save\", \"download\"]];\n",
       "\n",
       "mpl.extensions = [\"eps\", \"jpeg\", \"pdf\", \"png\", \"ps\", \"raw\", \"svg\", \"tif\"];\n",
       "\n",
       "mpl.default_extension = \"png\";var comm_websocket_adapter = function(comm) {\n",
       "    // Create a \"websocket\"-like object which calls the given IPython comm\n",
       "    // object with the appropriate methods. Currently this is a non binary\n",
       "    // socket, so there is still some room for performance tuning.\n",
       "    var ws = {};\n",
       "\n",
       "    ws.close = function() {\n",
       "        comm.close()\n",
       "    };\n",
       "    ws.send = function(m) {\n",
       "        //console.log('sending', m);\n",
       "        comm.send(m);\n",
       "    };\n",
       "    // Register the callback with on_msg.\n",
       "    comm.on_msg(function(msg) {\n",
       "        //console.log('receiving', msg['content']['data'], msg);\n",
       "        // Pass the mpl event to the overridden (by mpl) onmessage function.\n",
       "        ws.onmessage(msg['content']['data'])\n",
       "    });\n",
       "    return ws;\n",
       "}\n",
       "\n",
       "mpl.mpl_figure_comm = function(comm, msg) {\n",
       "    // This is the function which gets called when the mpl process\n",
       "    // starts-up an IPython Comm through the \"matplotlib\" channel.\n",
       "\n",
       "    var id = msg.content.data.id;\n",
       "    // Get hold of the div created by the display call when the Comm\n",
       "    // socket was opened in Python.\n",
       "    var element = $(\"#\" + id);\n",
       "    var ws_proxy = comm_websocket_adapter(comm)\n",
       "\n",
       "    function ondownload(figure, format) {\n",
       "        window.open(figure.imageObj.src);\n",
       "    }\n",
       "\n",
       "    var fig = new mpl.figure(id, ws_proxy,\n",
       "                           ondownload,\n",
       "                           element.get(0));\n",
       "\n",
       "    // Call onopen now - mpl needs it, as it is assuming we've passed it a real\n",
       "    // web socket which is closed, not our websocket->open comm proxy.\n",
       "    ws_proxy.onopen();\n",
       "\n",
       "    fig.parent_element = element.get(0);\n",
       "    fig.cell_info = mpl.find_output_cell(\"<div id='\" + id + \"'></div>\");\n",
       "    if (!fig.cell_info) {\n",
       "        console.error(\"Failed to find cell for figure\", id, fig);\n",
       "        return;\n",
       "    }\n",
       "\n",
       "    var output_index = fig.cell_info[2]\n",
       "    var cell = fig.cell_info[0];\n",
       "\n",
       "};\n",
       "\n",
       "mpl.figure.prototype.handle_close = function(fig, msg) {\n",
       "    var width = fig.canvas.width/mpl.ratio\n",
       "    fig.root.unbind('remove')\n",
       "\n",
       "    // Update the output cell to use the data from the current canvas.\n",
       "    fig.push_to_output();\n",
       "    var dataURL = fig.canvas.toDataURL();\n",
       "    // Re-enable the keyboard manager in IPython - without this line, in FF,\n",
       "    // the notebook keyboard shortcuts fail.\n",
       "    IPython.keyboard_manager.enable()\n",
       "    $(fig.parent_element).html('<img src=\"' + dataURL + '\" width=\"' + width + '\">');\n",
       "    fig.close_ws(fig, msg);\n",
       "}\n",
       "\n",
       "mpl.figure.prototype.close_ws = function(fig, msg){\n",
       "    fig.send_message('closing', msg);\n",
       "    // fig.ws.close()\n",
       "}\n",
       "\n",
       "mpl.figure.prototype.push_to_output = function(remove_interactive) {\n",
       "    // Turn the data on the canvas into data in the output cell.\n",
       "    var width = this.canvas.width/mpl.ratio\n",
       "    var dataURL = this.canvas.toDataURL();\n",
       "    this.cell_info[1]['text/html'] = '<img src=\"' + dataURL + '\" width=\"' + width + '\">';\n",
       "}\n",
       "\n",
       "mpl.figure.prototype.updated_canvas_event = function() {\n",
       "    // Tell IPython that the notebook contents must change.\n",
       "    IPython.notebook.set_dirty(true);\n",
       "    this.send_message(\"ack\", {});\n",
       "    var fig = this;\n",
       "    // Wait a second, then push the new image to the DOM so\n",
       "    // that it is saved nicely (might be nice to debounce this).\n",
       "    setTimeout(function () { fig.push_to_output() }, 1000);\n",
       "}\n",
       "\n",
       "mpl.figure.prototype._init_toolbar = function() {\n",
       "    var fig = this;\n",
       "\n",
       "    var nav_element = $('<div/>');\n",
       "    nav_element.attr('style', 'width: 100%');\n",
       "    this.root.append(nav_element);\n",
       "\n",
       "    // Define a callback function for later on.\n",
       "    function toolbar_event(event) {\n",
       "        return fig.toolbar_button_onclick(event['data']);\n",
       "    }\n",
       "    function toolbar_mouse_event(event) {\n",
       "        return fig.toolbar_button_onmouseover(event['data']);\n",
       "    }\n",
       "\n",
       "    for(var toolbar_ind in mpl.toolbar_items){\n",
       "        var name = mpl.toolbar_items[toolbar_ind][0];\n",
       "        var tooltip = mpl.toolbar_items[toolbar_ind][1];\n",
       "        var image = mpl.toolbar_items[toolbar_ind][2];\n",
       "        var method_name = mpl.toolbar_items[toolbar_ind][3];\n",
       "\n",
       "        if (!name) { continue; };\n",
       "\n",
       "        var button = $('<button class=\"btn btn-default\" href=\"#\" title=\"' + name + '\"><i class=\"fa ' + image + ' fa-lg\"></i></button>');\n",
       "        button.click(method_name, toolbar_event);\n",
       "        button.mouseover(tooltip, toolbar_mouse_event);\n",
       "        nav_element.append(button);\n",
       "    }\n",
       "\n",
       "    // Add the status bar.\n",
       "    var status_bar = $('<span class=\"mpl-message\" style=\"text-align:right; float: right;\"/>');\n",
       "    nav_element.append(status_bar);\n",
       "    this.message = status_bar[0];\n",
       "\n",
       "    // Add the close button to the window.\n",
       "    var buttongrp = $('<div class=\"btn-group inline pull-right\"></div>');\n",
       "    var button = $('<button class=\"btn btn-mini btn-primary\" href=\"#\" title=\"Stop Interaction\"><i class=\"fa fa-power-off icon-remove icon-large\"></i></button>');\n",
       "    button.click(function (evt) { fig.handle_close(fig, {}); } );\n",
       "    button.mouseover('Stop Interaction', toolbar_mouse_event);\n",
       "    buttongrp.append(button);\n",
       "    var titlebar = this.root.find($('.ui-dialog-titlebar'));\n",
       "    titlebar.prepend(buttongrp);\n",
       "}\n",
       "\n",
       "mpl.figure.prototype._root_extra_style = function(el){\n",
       "    var fig = this\n",
       "    el.on(\"remove\", function(){\n",
       "\tfig.close_ws(fig, {});\n",
       "    });\n",
       "}\n",
       "\n",
       "mpl.figure.prototype._canvas_extra_style = function(el){\n",
       "    // this is important to make the div 'focusable\n",
       "    el.attr('tabindex', 0)\n",
       "    // reach out to IPython and tell the keyboard manager to turn it's self\n",
       "    // off when our div gets focus\n",
       "\n",
       "    // location in version 3\n",
       "    if (IPython.notebook.keyboard_manager) {\n",
       "        IPython.notebook.keyboard_manager.register_events(el);\n",
       "    }\n",
       "    else {\n",
       "        // location in version 2\n",
       "        IPython.keyboard_manager.register_events(el);\n",
       "    }\n",
       "\n",
       "}\n",
       "\n",
       "mpl.figure.prototype._key_event_extra = function(event, name) {\n",
       "    var manager = IPython.notebook.keyboard_manager;\n",
       "    if (!manager)\n",
       "        manager = IPython.keyboard_manager;\n",
       "\n",
       "    // Check for shift+enter\n",
       "    if (event.shiftKey && event.which == 13) {\n",
       "        this.canvas_div.blur();\n",
       "        // select the cell after this one\n",
       "        var index = IPython.notebook.find_cell_index(this.cell_info[0]);\n",
       "        IPython.notebook.select(index + 1);\n",
       "    }\n",
       "}\n",
       "\n",
       "mpl.figure.prototype.handle_save = function(fig, msg) {\n",
       "    fig.ondownload(fig, null);\n",
       "}\n",
       "\n",
       "\n",
       "mpl.find_output_cell = function(html_output) {\n",
       "    // Return the cell and output element which can be found *uniquely* in the notebook.\n",
       "    // Note - this is a bit hacky, but it is done because the \"notebook_saving.Notebook\"\n",
       "    // IPython event is triggered only after the cells have been serialised, which for\n",
       "    // our purposes (turning an active figure into a static one), is too late.\n",
       "    var cells = IPython.notebook.get_cells();\n",
       "    var ncells = cells.length;\n",
       "    for (var i=0; i<ncells; i++) {\n",
       "        var cell = cells[i];\n",
       "        if (cell.cell_type === 'code'){\n",
       "            for (var j=0; j<cell.output_area.outputs.length; j++) {\n",
       "                var data = cell.output_area.outputs[j];\n",
       "                if (data.data) {\n",
       "                    // IPython >= 3 moved mimebundle to data attribute of output\n",
       "                    data = data.data;\n",
       "                }\n",
       "                if (data['text/html'] == html_output) {\n",
       "                    return [cell, data, j];\n",
       "                }\n",
       "            }\n",
       "        }\n",
       "    }\n",
       "}\n",
       "\n",
       "// Register the function which deals with the matplotlib target/channel.\n",
       "// The kernel may be null if the page has been refreshed.\n",
       "if (IPython.notebook.kernel != null) {\n",
       "    IPython.notebook.kernel.comm_manager.register_target('matplotlib', mpl.mpl_figure_comm);\n",
       "}\n"
      ],
      "text/plain": [
       "<IPython.core.display.Javascript object>"
      ]
     },
     "metadata": {},
     "output_type": "display_data"
    },
    {
     "data": {
      "text/html": [
       "<img src=\"data:image/png;base64,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\" width=\"640\">"
      ],
      "text/plain": [
       "<IPython.core.display.HTML object>"
      ]
     },
     "metadata": {},
     "output_type": "display_data"
    },
    {
     "data": {
      "text/plain": [
       "<matplotlib.axes._subplots.AxesSubplot at 0x158390f0>"
      ]
     },
     "execution_count": 907,
     "metadata": {},
     "output_type": "execute_result"
    }
   ],
   "source": [
    "jjmock.pbi(17)"
   ]
  },
  {
   "cell_type": "code",
   "execution_count": 905,
   "metadata": {},
   "outputs": [],
   "source": [
    "dataset1=dataset.snapshot"
   ]
  },
  {
   "cell_type": "code",
   "execution_count": 908,
   "metadata": {},
   "outputs": [],
   "source": [
    "dataset2=dataset.snapshot"
   ]
  },
  {
   "cell_type": "code",
   "execution_count": 909,
   "metadata": {},
   "outputs": [],
   "source": [
    "from qcodes.utils.metadata import diff_param_values\n",
    "\n"
   ]
  },
  {
   "cell_type": "code",
   "execution_count": 910,
   "metadata": {},
   "outputs": [
    {
     "data": {
      "text/plain": [
       "{}"
      ]
     },
     "execution_count": 910,
     "metadata": {},
     "output_type": "execute_result"
    }
   ],
   "source": [
    "diff_param_values(dataset1, dataset2).changed\n"
   ]
  },
  {
   "cell_type": "code",
   "execution_count": null,
   "metadata": {},
   "outputs": [],
   "source": []
  },
  {
   "cell_type": "code",
   "execution_count": null,
   "metadata": {},
   "outputs": [],
   "source": []
  }
 ],
 "metadata": {
  "anaconda-cloud": {},
  "kernelspec": {
   "display_name": "Python 3",
   "language": "python",
   "name": "python3"
  },
  "language_info": {
   "codemirror_mode": {
    "name": "ipython",
    "version": 3
   },
   "file_extension": ".py",
   "mimetype": "text/x-python",
   "name": "python",
   "nbconvert_exporter": "python",
   "pygments_lexer": "ipython3",
   "version": "3.7.1"
  },
  "latex_envs": {
   "LaTeX_envs_menu_present": true,
   "autoclose": false,
   "autocomplete": true,
   "bibliofile": "biblio.bib",
   "cite_by": "apalike",
   "current_citInitial": 1,
   "eqLabelWithNumbers": true,
   "eqNumInitial": 1,
   "hotkeys": {
    "equation": "Ctrl-E",
    "itemize": "Ctrl-I"
   },
   "labels_anchors": false,
   "latex_user_defs": false,
   "report_style_numbering": false,
   "user_envs_cfg": false
  },
  "toc": {
   "base_numbering": 1,
   "nav_menu": {},
   "number_sections": true,
   "sideBar": true,
   "skip_h1_title": false,
   "title_cell": "Table of Contents",
   "title_sidebar": "Contents",
   "toc_cell": false,
   "toc_position": {
    "height": "477px",
    "left": "120px",
    "top": "141px",
    "width": "165px"
   },
   "toc_section_display": true,
   "toc_window_display": true
  },
  "varInspector": {
   "cols": {
    "lenName": 16,
    "lenType": 16,
    "lenVar": 40
   },
   "kernels_config": {
    "python": {
     "delete_cmd_postfix": "",
     "delete_cmd_prefix": "del ",
     "library": "var_list.py",
     "varRefreshCmd": "print(var_dic_list())"
    },
    "r": {
     "delete_cmd_postfix": ") ",
     "delete_cmd_prefix": "rm(",
     "library": "var_list.r",
     "varRefreshCmd": "cat(var_dic_list()) "
    }
   },
   "types_to_exclude": [
    "module",
    "function",
    "builtin_function_or_method",
    "instance",
    "_Feature"
   ],
   "window_display": false
  }
 },
 "nbformat": 4,
 "nbformat_minor": 1
}
