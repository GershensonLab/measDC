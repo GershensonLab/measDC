{
 "cells": [
  {
   "cell_type": "markdown",
   "metadata": {},
   "source": [
    "## Environment setup"
   ]
  },
  {
   "cell_type": "markdown",
   "metadata": {},
   "source": [
    "### Library preparation"
   ]
  },
  {
   "cell_type": "code",
   "execution_count": 3,
   "metadata": {},
   "outputs": [
    {
     "name": "stdout",
     "output_type": "stream",
     "text": [
      "The autoreload extension is already loaded. To reload it, use:\n",
      "  %reload_ext autoreload\n"
     ]
    }
   ],
   "source": [
    "%matplotlib notebook\n",
    "%load_ext autoreload\n",
    "%autoreload 2"
   ]
  },
  {
   "cell_type": "code",
   "execution_count": 4,
   "metadata": {},
   "outputs": [],
   "source": [
    "from si_prefix import si_format\n",
    "from tqdm import tqdm, tqdm_notebook\n",
    "\n",
    "import pandas as pd\n",
    "import numpy as np\n",
    "import matplotlib.pyplot as plt\n",
    "\n",
    "import qcodes as qc\n",
    "# from qcodes import Station, load_by_run_spec, load_by_guid\n",
    "# from qcodes.instrument.base import Instrument\n",
    "# from qcodes.dataset.experiment_container import (Experiment,\n",
    "#                                                  load_last_experiment,\n",
    "#                                                  new_experiment)\n",
    "# from qcodes.dataset.database import initialise_database\n",
    "# from qcodes.dataset.measurements import Measurement\n",
    "# from qcodes.dataset.plotting import plot_by_id, get_data_by_id, plot_dataset\n",
    "# from qcodes.dataset.data_set import load_by_id\n",
    "# # from qcodes.dataset.data_export import get_shaped_data_by_runidb"
   ]
  },
  {
   "cell_type": "code",
   "execution_count": 5,
   "metadata": {
    "scrolled": false
   },
   "outputs": [],
   "source": [
    "from qcodes.instrument_drivers.Lakeshore.Model_372 import Model_372\n",
    "from qcodes.instrument_drivers.tektronix.AWG3252_Isrc import AWG3252_Isrc\n",
    "from qcodes.instrument_drivers.HP.HP34401 import HP34401\n",
    "from qcodes.instrument_drivers.HP.HP34401_DL1201 import HP34401_DL1201\n",
    "from qcodes.instrument_drivers.Keithley.Keithley_2600_channels import *\n",
    "from qcodes.instrument_drivers.tektronix.AWG5204_Isrc import AWG5204_Isrc\n",
    "\n",
    "from qcodes.instrument_drivers.Keysight.Keysight_B2962A_Isrc import B2962A_Isrc\n",
    "\n",
    "\n",
    "from qcodes.instrument_drivers.Keithley.Keithley_6220 import Keithley_6220\n",
    "from qcodes.instrument_drivers.Keithley.Keithley_6220_Isrc import Keithley_6220_Isrc"
   ]
  },
  {
   "cell_type": "code",
   "execution_count": 6,
   "metadata": {},
   "outputs": [
    {
     "name": "stderr",
     "output_type": "stream",
     "text": [
      "C:\\Users\\KelvinOX25\\Anaconda3\\lib\\site-packages\\qcodes\\dataset\\database.py:13: UserWarning: The module `qcodes.dataset.database` is deprecated.\n",
      "Public features are available at the import of `qcodes`.\n",
      "Private features are available in `qcodes.dataset.sqlite.*` modules.\n",
      "  warnings.warn('The module `qcodes.dataset.database` is deprecated.\\n'\n",
      "C:\\Users\\KelvinOX25\\Anaconda3\\lib\\site-packages\\tqdm\\autonotebook.py:17: TqdmExperimentalWarning: Using `tqdm.autonotebook.tqdm` in notebook mode. Use `tqdm.tqdm` instead to force console mode (e.g. in jupyter console)\n",
      "  \" (e.g. in jupyter console)\", TqdmExperimentalWarning)\n"
     ]
    }
   ],
   "source": [
    "import sys \n",
    "sys.path.append('..\\..\\_jjtools')\n",
    "\n",
    "# from Exps import *\n",
    "\n",
    "from JJ_data_processing import read_opj_data, pbi, bpbi, show_df, update_df\n",
    "\n",
    "from JJformulas import *\n",
    "# from meas_util import *\n",
    "\n",
    "from JJmeasurement import *"
   ]
  },
  {
   "cell_type": "markdown",
   "metadata": {},
   "source": [
    "### Instrument nicknames and QC database initialization"
   ]
  },
  {
   "cell_type": "code",
   "execution_count": 7,
   "metadata": {},
   "outputs": [
    {
     "name": "stdout",
     "output_type": "stream",
     "text": [
      "Connected to: Keithley Instruments Inc. 2602A (serial:1272049, firmware:2.1.5) in 0.70s\n"
     ]
    },
    {
     "name": "stderr",
     "output_type": "stream",
     "text": [
      "[K6220(Keithley_6220_Isrc)] Snapshot: Could not update parameter: Irange\n"
     ]
    },
    {
     "name": "stdout",
     "output_type": "stream",
     "text": [
      "Instrument initialization completed.\n"
     ]
    }
   ],
   "source": [
    "try:\n",
    "   Instrument.close_all()\n",
    "except KeyError:\n",
    "   pass    \n",
    "except NameError:\n",
    "   pass \n",
    "\n",
    "K2602 =  Keithley_2600(name = 'K2602', address = \"GPIB::26::INSTR\" )\n",
    "Flux_chA = K2602.smua.curr\n",
    "Flux_chB = K2602.smub.curr\n",
    "\n",
    "Bfield =  Flux_chA\n",
    "Bfield.step = 10e-6\n",
    "Bfield.inter_delay = .1\n",
    "\n",
    "\n",
    "\n",
    "# Isrc = AWG5204_Isrc('gen', 'TCPIP0::AWG52000-XXXX::inst0::INSTR', ch = 1, R_bias = 1e9, Attn = 1, timeout = 20)\n",
    "\n",
    "\n",
    "# Isrc = Keithley_6220(name = 'K6220', address = \"GPIB::13::INSTR\" )\n",
    "# Isrc.set_R_Attn ( R_bias = 1, Attn = 1 )\n",
    "\n",
    "\n",
    "\n",
    "\n",
    "# Isrc = AWG3252_Isrc('gen', 'TCPIP0::192.168.13.32::inst0::INSTR', \n",
    "#                     R_bias = 1e9, Attn = 10)\n",
    "# Isrc.init()\n",
    "\n",
    "Vmeter = HP34401_DL1201('meter', 'GPIB0::8::INSTR', Gain = 1e2)\n",
    "Vmeter.init('fast 6')\n",
    "\n",
    "\n",
    "# Isrc = Keithley_6220_Isrc(name = 'K6220', address = \"GPIB::13::INSTR\",\n",
    "#                           Rsh = 10e6, Rb = 1e9, Vmeter = Vmeter)\n",
    "\n",
    "\n",
    "Isrc = Keithley_6220_Isrc(name = 'K6220', address = \"GPIB::13::INSTR\",\n",
    "                          Rsh = 10.041e3, Rb = 2.2e6, Vmeter = Vmeter)\n",
    "\n",
    "\n",
    "station = qc.Station(Isrc, Vmeter)\n",
    "\n",
    "print ('Instrument initialization completed.')"
   ]
  },
  {
   "cell_type": "code",
   "execution_count": 8,
   "metadata": {},
   "outputs": [
    {
     "name": "stdout",
     "output_type": "stream",
     "text": [
      "Connected to: LSCI 370 (serial:370665, firmware:04102008) in 0.12s\n"
     ]
    }
   ],
   "source": [
    "\n",
    "LS370 = Model_372(name = 'LS370 input Ch', address = 'GPIB::12::INSTR', terminator='\\n')\n",
    "T8 = LS370.ch08.temperature\n",
    "\n",
    "htr = LS370.sample_heater\n",
    "htr_setpt = htr.setpoint\n",
    "\n",
    "htr_setpt.set(0.020)\n",
    "htr.P.set(30)\n",
    "htr.I.set(5)\n",
    "htr.D.set(1)\n",
    "# PIDset(30,5,1)\n",
    "htr.output_range('3.16mA')"
   ]
  },
  {
   "cell_type": "markdown",
   "metadata": {},
   "source": [
    "### Class JJmeas"
   ]
  },
  {
   "cell_type": "code",
   "execution_count": 9,
   "metadata": {},
   "outputs": [],
   "source": [
    "tools = {'I' : Isrc.I,\n",
    "         'V' : Vmeter.V,\n",
    "         'B' : Flux_chA,\n",
    "         'T': T8,\n",
    "         'htr' : htr_setpt}"
   ]
  },
  {
   "cell_type": "code",
   "execution_count": 10,
   "metadata": {},
   "outputs": [],
   "source": [
    "def setup():\n",
    "    Isrc.I.set(0)\n",
    "#     pass\n",
    "\n",
    "def cleanup():\n",
    "    Isrc.I.set(0) \n",
    "#     Bfield.set(0)\n",
    "\n"
   ]
  },
  {
   "cell_type": "code",
   "execution_count": 30,
   "metadata": {},
   "outputs": [],
   "source": [
    "jj = JJmeas(sample = 'D085N1', tools = tools)\n",
    "jj.setup = setup\n",
    "jj.cleanup = cleanup\n",
    "\n",
    "jj.ZF   = -10e-6\n",
    "jj.FF   = 215e-6"
   ]
  },
  {
   "cell_type": "code",
   "execution_count": 12,
   "metadata": {},
   "outputs": [
    {
     "data": {
      "text/plain": [
       "{'B': '179.9 µA', 'T': '66.2 mK'}"
      ]
     },
     "execution_count": 12,
     "metadata": {},
     "output_type": "execute_result"
    }
   ],
   "source": [
    "jj.tool_status(['B', 'T'])"
   ]
  },
  {
   "cell_type": "markdown",
   "metadata": {},
   "source": [
    "## Measurement"
   ]
  },
  {
   "cell_type": "code",
   "execution_count": 31,
   "metadata": {},
   "outputs": [],
   "source": [
    "Bfield.set(0)"
   ]
  },
  {
   "cell_type": "markdown",
   "metadata": {},
   "source": [
    "#### Iscr choise"
   ]
  },
  {
   "cell_type": "code",
   "execution_count": 25,
   "metadata": {},
   "outputs": [
    {
     "data": {
      "text/plain": [
       "'2.000000E-04\\n'"
      ]
     },
     "execution_count": 25,
     "metadata": {},
     "output_type": "execute_result"
    }
   ],
   "source": [
    "Isrc.ask_raw('SOUR:CURR:RANG?')"
   ]
  },
  {
   "cell_type": "code",
   "execution_count": 24,
   "metadata": {},
   "outputs": [],
   "source": [
    "Isrc.write_raw('SOUR:CURR:RANG 1e-6')\n",
    "Isrc.I.set(0.0e-9)"
   ]
  },
  {
   "cell_type": "markdown",
   "metadata": {},
   "source": [
    "#### Vmeter regime"
   ]
  },
  {
   "cell_type": "code",
   "execution_count": 18,
   "metadata": {},
   "outputs": [],
   "source": [
    "Vmeter.init('fast 6')"
   ]
  },
  {
   "cell_type": "code",
   "execution_count": 152,
   "metadata": {},
   "outputs": [
    {
     "data": {
      "text/plain": [
       "5.9592217e-05"
      ]
     },
     "execution_count": 152,
     "metadata": {},
     "output_type": "execute_result"
    }
   ],
   "source": [
    "jj.meas_Voffset(0)"
   ]
  },
  {
   "cell_type": "markdown",
   "metadata": {},
   "source": [
    "### IVCs"
   ]
  },
  {
   "cell_type": "code",
   "execution_count": 330,
   "metadata": {},
   "outputs": [],
   "source": [
    "jj.stabilize_I( amp = 100e-9)"
   ]
  },
  {
   "cell_type": "markdown",
   "metadata": {},
   "source": [
    "#### wide scan"
   ]
  },
  {
   "cell_type": "code",
   "execution_count": 13,
   "metadata": {},
   "outputs": [
    {
     "data": {
      "text/plain": [
       "'2.000000E-04\\n'"
      ]
     },
     "execution_count": 13,
     "metadata": {},
     "output_type": "execute_result"
    }
   ],
   "source": [
    "Isrc.ask_raw('SOUR:CURR:RANG?')"
   ]
  },
  {
   "cell_type": "code",
   "execution_count": 40,
   "metadata": {},
   "outputs": [],
   "source": [
    "Isrc.write_raw('SOUR:CURR:RANG 1e-8')"
   ]
  },
  {
   "cell_type": "code",
   "execution_count": 47,
   "metadata": {},
   "outputs": [
    {
     "name": "stdout",
     "output_type": "stream",
     "text": [
      "0.0\n"
     ]
    },
    {
     "data": {
      "application/vnd.jupyter.widget-view+json": {
       "model_id": "afef2c9d10e44635b7ae02c81cfe3a71",
       "version_major": 2,
       "version_minor": 0
      },
      "text/plain": [
       "HBox(children=(IntProgress(value=0, max=403), HTML(value='')))"
      ]
     },
     "metadata": {},
     "output_type": "display_data"
    },
    {
     "name": "stdout",
     "output_type": "stream",
     "text": [
      "Starting experimental run with id: 12\n"
     ]
    },
    {
     "name": "stderr",
     "output_type": "stream",
     "text": [
      "An exception occured in measurement with guid: aaaaaaaa-0000-0000-0000-01747efbd14e;\n",
      "Traceback:\n",
      "Traceback (most recent call last):\n",
      "  File \"..\\..\\_jjtools\\JJmeasurement.py\", line 81, in IVC_cust\n",
      "    I.set(i+Ioff)\n",
      "  File \"C:\\Users\\KelvinOX25\\Anaconda3\\lib\\site-packages\\qcodes\\instrument\\parameter.py\", line 554, in set_wrapper\n",
      "    set_function(raw_value, **kwargs)\n",
      "  File \"C:\\Users\\KelvinOX25\\Anaconda3\\lib\\site-packages\\qcodes\\utils\\command.py\", line 178, in __call__\n",
      "    return self.exec_function(*args)\n",
      "  File \"C:\\Users\\KelvinOX25\\Anaconda3\\lib\\site-packages\\qcodes\\utils\\command.py\", line 127, in call_by_str\n",
      "    return self.exec_str(self.cmd_str.format(*args))\n",
      "  File \"C:\\Users\\KelvinOX25\\Anaconda3\\lib\\site-packages\\qcodes\\instrument\\base.py\", line 719, in write\n",
      "    self.write_raw(cmd)\n",
      "  File \"C:\\Users\\KelvinOX25\\Anaconda3\\lib\\site-packages\\qcodes\\instrument\\visa.py\", line 212, in write_raw\n",
      "    nr_bytes_written, ret_code = self.visa_handle.write(cmd)\n",
      "  File \"C:\\Users\\KelvinOX25\\Anaconda3\\lib\\site-packages\\pyvisa\\resources\\messagebased.py\", line 228, in write\n",
      "    count = self.write_raw(message.encode(enco))\n",
      "  File \"C:\\Users\\KelvinOX25\\Anaconda3\\lib\\site-packages\\pyvisa\\resources\\messagebased.py\", line 202, in write_raw\n",
      "    return self.visalib.write(self.session, message)\n",
      "  File \"C:\\Users\\KelvinOX25\\Anaconda3\\lib\\site-packages\\pyvisa\\ctwrapper\\functions.py\", line 1866, in write\n",
      "    ret = library.viWrite(session, data, len(data), byref(return_count))\n",
      "  File \"C:\\Users\\KelvinOX25\\Anaconda3\\lib\\site-packages\\pyvisa\\ctwrapper\\highlevel.py\", line 154, in _return_handler\n",
      "    def _return_handler(self, ret_value, func, arguments):\n",
      "KeyboardInterrupt\n",
      "\n"
     ]
    },
    {
     "ename": "KeyboardInterrupt",
     "evalue": "",
     "output_type": "error",
     "traceback": [
      "\u001b[1;31m---------------------------------------------------------------------------\u001b[0m",
      "\u001b[1;31mKeyboardInterrupt\u001b[0m                         Traceback (most recent call last)",
      "\u001b[1;32m<ipython-input-47-9482f20aabaf>\u001b[0m in \u001b[0;36m<module>\u001b[1;34m\u001b[0m\n\u001b[0;32m     13\u001b[0m \u001b[1;33m\u001b[0m\u001b[0m\n\u001b[0;32m     14\u001b[0m jj.IVC_udu (amp = 5e-9, stp = .05e-9, dt = .1,  N_avg = 1, \n\u001b[1;32m---> 15\u001b[1;33m             label = 'kei full ivc 1e  B = {}A'.format(si_format(B)))\n\u001b[0m",
      "\u001b[1;32m~\\Documents\\GitHub\\measDC\\_jjtools\\JJmeasurement.py\u001b[0m in \u001b[0;36mIVC_udu\u001b[1;34m(self, amp, stp, **kwargs)\u001b[0m\n\u001b[0;32m    117\u001b[0m \u001b[1;33m\u001b[0m\u001b[0m\n\u001b[0;32m    118\u001b[0m         \u001b[0mi_list\u001b[0m \u001b[1;33m=\u001b[0m \u001b[0mudu_list\u001b[0m\u001b[1;33m(\u001b[0m\u001b[0mamp\u001b[0m\u001b[1;33m,\u001b[0m \u001b[0mstp\u001b[0m\u001b[1;33m)\u001b[0m\u001b[1;33m\u001b[0m\u001b[1;33m\u001b[0m\u001b[0m\n\u001b[1;32m--> 119\u001b[1;33m         \u001b[0mrun_id\u001b[0m \u001b[1;33m=\u001b[0m \u001b[0mself\u001b[0m\u001b[1;33m.\u001b[0m\u001b[0mIVC_cust\u001b[0m \u001b[1;33m(\u001b[0m \u001b[0mi_list\u001b[0m\u001b[1;33m,\u001b[0m \u001b[1;33m**\u001b[0m\u001b[0mkwargs\u001b[0m\u001b[1;33m)\u001b[0m\u001b[1;33m\u001b[0m\u001b[1;33m\u001b[0m\u001b[0m\n\u001b[0m\u001b[0;32m    120\u001b[0m \u001b[1;33m\u001b[0m\u001b[0m\n\u001b[0;32m    121\u001b[0m \u001b[1;33m\u001b[0m\u001b[0m\n",
      "\u001b[1;32m~\\Documents\\GitHub\\measDC\\_jjtools\\JJmeasurement.py\u001b[0m in \u001b[0;36mIVC_cust\u001b[1;34m(self, i_list, Ioff, Vthr, dt, N_avg, label)\u001b[0m\n\u001b[0;32m     79\u001b[0m             \u001b[1;32mfor\u001b[0m \u001b[0mi\u001b[0m \u001b[1;32min\u001b[0m \u001b[0mti_list\u001b[0m\u001b[1;33m:\u001b[0m\u001b[1;33m\u001b[0m\u001b[1;33m\u001b[0m\u001b[0m\n\u001b[0;32m     80\u001b[0m \u001b[1;33m\u001b[0m\u001b[0m\n\u001b[1;32m---> 81\u001b[1;33m                 \u001b[0mI\u001b[0m\u001b[1;33m.\u001b[0m\u001b[0mset\u001b[0m\u001b[1;33m(\u001b[0m\u001b[0mi\u001b[0m\u001b[1;33m+\u001b[0m\u001b[0mIoff\u001b[0m\u001b[1;33m)\u001b[0m\u001b[1;33m\u001b[0m\u001b[1;33m\u001b[0m\u001b[0m\n\u001b[0m\u001b[0;32m     82\u001b[0m \u001b[1;33m\u001b[0m\u001b[0m\n\u001b[0;32m     83\u001b[0m \u001b[1;33m\u001b[0m\u001b[0m\n",
      "\u001b[1;32m~\\Anaconda3\\lib\\site-packages\\qcodes\\instrument\\parameter.py\u001b[0m in \u001b[0;36mset_wrapper\u001b[1;34m(value, **kwargs)\u001b[0m\n\u001b[0;32m    552\u001b[0m                     \u001b[0mt0\u001b[0m \u001b[1;33m=\u001b[0m \u001b[0mtime\u001b[0m\u001b[1;33m.\u001b[0m\u001b[0mperf_counter\u001b[0m\u001b[1;33m(\u001b[0m\u001b[1;33m)\u001b[0m\u001b[1;33m\u001b[0m\u001b[1;33m\u001b[0m\u001b[0m\n\u001b[0;32m    553\u001b[0m \u001b[1;33m\u001b[0m\u001b[0m\n\u001b[1;32m--> 554\u001b[1;33m                     \u001b[0mset_function\u001b[0m\u001b[1;33m(\u001b[0m\u001b[0mraw_value\u001b[0m\u001b[1;33m,\u001b[0m \u001b[1;33m**\u001b[0m\u001b[0mkwargs\u001b[0m\u001b[1;33m)\u001b[0m\u001b[1;33m\u001b[0m\u001b[1;33m\u001b[0m\u001b[0m\n\u001b[0m\u001b[0;32m    555\u001b[0m                     \u001b[0mself\u001b[0m\u001b[1;33m.\u001b[0m\u001b[0mraw_value\u001b[0m \u001b[1;33m=\u001b[0m \u001b[0mraw_value\u001b[0m\u001b[1;33m\u001b[0m\u001b[1;33m\u001b[0m\u001b[0m\n\u001b[0;32m    556\u001b[0m                     self._save_val(val_step,\n",
      "\u001b[1;32m~\\Anaconda3\\lib\\site-packages\\qcodes\\utils\\command.py\u001b[0m in \u001b[0;36m__call__\u001b[1;34m(self, *args)\u001b[0m\n\u001b[0;32m    176\u001b[0m             raise TypeError(\n\u001b[0;32m    177\u001b[0m                 'command takes exactly {} args'.format(self.arg_count))\n\u001b[1;32m--> 178\u001b[1;33m         \u001b[1;32mreturn\u001b[0m \u001b[0mself\u001b[0m\u001b[1;33m.\u001b[0m\u001b[0mexec_function\u001b[0m\u001b[1;33m(\u001b[0m\u001b[1;33m*\u001b[0m\u001b[0margs\u001b[0m\u001b[1;33m)\u001b[0m\u001b[1;33m\u001b[0m\u001b[1;33m\u001b[0m\u001b[0m\n\u001b[0m",
      "\u001b[1;32m~\\Anaconda3\\lib\\site-packages\\qcodes\\utils\\command.py\u001b[0m in \u001b[0;36mcall_by_str\u001b[1;34m(self, *args)\u001b[0m\n\u001b[0;32m    125\u001b[0m     \u001b[1;32mdef\u001b[0m \u001b[0mcall_by_str\u001b[0m\u001b[1;33m(\u001b[0m\u001b[0mself\u001b[0m\u001b[1;33m,\u001b[0m \u001b[1;33m*\u001b[0m\u001b[0margs\u001b[0m\u001b[1;33m)\u001b[0m\u001b[1;33m:\u001b[0m\u001b[1;33m\u001b[0m\u001b[1;33m\u001b[0m\u001b[0m\n\u001b[0;32m    126\u001b[0m         \u001b[1;34m\"\"\"Execute a formatted string.\"\"\"\u001b[0m\u001b[1;33m\u001b[0m\u001b[1;33m\u001b[0m\u001b[0m\n\u001b[1;32m--> 127\u001b[1;33m         \u001b[1;32mreturn\u001b[0m \u001b[0mself\u001b[0m\u001b[1;33m.\u001b[0m\u001b[0mexec_str\u001b[0m\u001b[1;33m(\u001b[0m\u001b[0mself\u001b[0m\u001b[1;33m.\u001b[0m\u001b[0mcmd_str\u001b[0m\u001b[1;33m.\u001b[0m\u001b[0mformat\u001b[0m\u001b[1;33m(\u001b[0m\u001b[1;33m*\u001b[0m\u001b[0margs\u001b[0m\u001b[1;33m)\u001b[0m\u001b[1;33m)\u001b[0m\u001b[1;33m\u001b[0m\u001b[1;33m\u001b[0m\u001b[0m\n\u001b[0m\u001b[0;32m    128\u001b[0m \u001b[1;33m\u001b[0m\u001b[0m\n\u001b[0;32m    129\u001b[0m     \u001b[1;32mdef\u001b[0m \u001b[0mcall_by_str_parsed_out\u001b[0m\u001b[1;33m(\u001b[0m\u001b[0mself\u001b[0m\u001b[1;33m,\u001b[0m \u001b[1;33m*\u001b[0m\u001b[0margs\u001b[0m\u001b[1;33m)\u001b[0m\u001b[1;33m:\u001b[0m\u001b[1;33m\u001b[0m\u001b[1;33m\u001b[0m\u001b[0m\n",
      "\u001b[1;32m~\\Anaconda3\\lib\\site-packages\\qcodes\\instrument\\base.py\u001b[0m in \u001b[0;36mwrite\u001b[1;34m(self, cmd)\u001b[0m\n\u001b[0;32m    717\u001b[0m         \"\"\"\n\u001b[0;32m    718\u001b[0m         \u001b[1;32mtry\u001b[0m\u001b[1;33m:\u001b[0m\u001b[1;33m\u001b[0m\u001b[1;33m\u001b[0m\u001b[0m\n\u001b[1;32m--> 719\u001b[1;33m             \u001b[0mself\u001b[0m\u001b[1;33m.\u001b[0m\u001b[0mwrite_raw\u001b[0m\u001b[1;33m(\u001b[0m\u001b[0mcmd\u001b[0m\u001b[1;33m)\u001b[0m\u001b[1;33m\u001b[0m\u001b[1;33m\u001b[0m\u001b[0m\n\u001b[0m\u001b[0;32m    720\u001b[0m         \u001b[1;32mexcept\u001b[0m \u001b[0mException\u001b[0m \u001b[1;32mas\u001b[0m \u001b[0me\u001b[0m\u001b[1;33m:\u001b[0m\u001b[1;33m\u001b[0m\u001b[1;33m\u001b[0m\u001b[0m\n\u001b[0;32m    721\u001b[0m             \u001b[0minst\u001b[0m \u001b[1;33m=\u001b[0m \u001b[0mrepr\u001b[0m\u001b[1;33m(\u001b[0m\u001b[0mself\u001b[0m\u001b[1;33m)\u001b[0m\u001b[1;33m\u001b[0m\u001b[1;33m\u001b[0m\u001b[0m\n",
      "\u001b[1;32m~\\Anaconda3\\lib\\site-packages\\qcodes\\instrument\\visa.py\u001b[0m in \u001b[0;36mwrite_raw\u001b[1;34m(self, cmd)\u001b[0m\n\u001b[0;32m    210\u001b[0m         \u001b[0mself\u001b[0m\u001b[1;33m.\u001b[0m\u001b[0mvisa_log\u001b[0m\u001b[1;33m.\u001b[0m\u001b[0mdebug\u001b[0m\u001b[1;33m(\u001b[0m\u001b[1;34mf\"Writing: {cmd}\"\u001b[0m\u001b[1;33m)\u001b[0m\u001b[1;33m\u001b[0m\u001b[1;33m\u001b[0m\u001b[0m\n\u001b[0;32m    211\u001b[0m \u001b[1;33m\u001b[0m\u001b[0m\n\u001b[1;32m--> 212\u001b[1;33m         \u001b[0mnr_bytes_written\u001b[0m\u001b[1;33m,\u001b[0m \u001b[0mret_code\u001b[0m \u001b[1;33m=\u001b[0m \u001b[0mself\u001b[0m\u001b[1;33m.\u001b[0m\u001b[0mvisa_handle\u001b[0m\u001b[1;33m.\u001b[0m\u001b[0mwrite\u001b[0m\u001b[1;33m(\u001b[0m\u001b[0mcmd\u001b[0m\u001b[1;33m)\u001b[0m\u001b[1;33m\u001b[0m\u001b[1;33m\u001b[0m\u001b[0m\n\u001b[0m\u001b[0;32m    213\u001b[0m \u001b[1;33m\u001b[0m\u001b[0m\n\u001b[0;32m    214\u001b[0m \u001b[1;31m#        print(cmd)\u001b[0m\u001b[1;33m\u001b[0m\u001b[1;33m\u001b[0m\u001b[1;33m\u001b[0m\u001b[0m\n",
      "\u001b[1;32m~\\Anaconda3\\lib\\site-packages\\pyvisa\\resources\\messagebased.py\u001b[0m in \u001b[0;36mwrite\u001b[1;34m(self, message, termination, encoding)\u001b[0m\n\u001b[0;32m    226\u001b[0m             \u001b[0mmessage\u001b[0m \u001b[1;33m+=\u001b[0m \u001b[0mterm\u001b[0m\u001b[1;33m\u001b[0m\u001b[1;33m\u001b[0m\u001b[0m\n\u001b[0;32m    227\u001b[0m \u001b[1;33m\u001b[0m\u001b[0m\n\u001b[1;32m--> 228\u001b[1;33m         \u001b[0mcount\u001b[0m \u001b[1;33m=\u001b[0m \u001b[0mself\u001b[0m\u001b[1;33m.\u001b[0m\u001b[0mwrite_raw\u001b[0m\u001b[1;33m(\u001b[0m\u001b[0mmessage\u001b[0m\u001b[1;33m.\u001b[0m\u001b[0mencode\u001b[0m\u001b[1;33m(\u001b[0m\u001b[0menco\u001b[0m\u001b[1;33m)\u001b[0m\u001b[1;33m)\u001b[0m\u001b[1;33m\u001b[0m\u001b[1;33m\u001b[0m\u001b[0m\n\u001b[0m\u001b[0;32m    229\u001b[0m \u001b[1;33m\u001b[0m\u001b[0m\n\u001b[0;32m    230\u001b[0m         \u001b[1;32mreturn\u001b[0m \u001b[0mcount\u001b[0m\u001b[1;33m\u001b[0m\u001b[1;33m\u001b[0m\u001b[0m\n",
      "\u001b[1;32m~\\Anaconda3\\lib\\site-packages\\pyvisa\\resources\\messagebased.py\u001b[0m in \u001b[0;36mwrite_raw\u001b[1;34m(self, message)\u001b[0m\n\u001b[0;32m    200\u001b[0m         \u001b[1;33m:\u001b[0m\u001b[0mrtype\u001b[0m\u001b[1;33m:\u001b[0m \u001b[0mint\u001b[0m\u001b[1;33m\u001b[0m\u001b[1;33m\u001b[0m\u001b[0m\n\u001b[0;32m    201\u001b[0m         \"\"\"\n\u001b[1;32m--> 202\u001b[1;33m         \u001b[1;32mreturn\u001b[0m \u001b[0mself\u001b[0m\u001b[1;33m.\u001b[0m\u001b[0mvisalib\u001b[0m\u001b[1;33m.\u001b[0m\u001b[0mwrite\u001b[0m\u001b[1;33m(\u001b[0m\u001b[0mself\u001b[0m\u001b[1;33m.\u001b[0m\u001b[0msession\u001b[0m\u001b[1;33m,\u001b[0m \u001b[0mmessage\u001b[0m\u001b[1;33m)\u001b[0m\u001b[1;33m\u001b[0m\u001b[1;33m\u001b[0m\u001b[0m\n\u001b[0m\u001b[0;32m    203\u001b[0m \u001b[1;33m\u001b[0m\u001b[0m\n\u001b[0;32m    204\u001b[0m     \u001b[1;32mdef\u001b[0m \u001b[0mwrite\u001b[0m\u001b[1;33m(\u001b[0m\u001b[0mself\u001b[0m\u001b[1;33m,\u001b[0m \u001b[0mmessage\u001b[0m\u001b[1;33m,\u001b[0m \u001b[0mtermination\u001b[0m\u001b[1;33m=\u001b[0m\u001b[1;32mNone\u001b[0m\u001b[1;33m,\u001b[0m \u001b[0mencoding\u001b[0m\u001b[1;33m=\u001b[0m\u001b[1;32mNone\u001b[0m\u001b[1;33m)\u001b[0m\u001b[1;33m:\u001b[0m\u001b[1;33m\u001b[0m\u001b[1;33m\u001b[0m\u001b[0m\n",
      "\u001b[1;32m~\\Anaconda3\\lib\\site-packages\\pyvisa\\ctwrapper\\functions.py\u001b[0m in \u001b[0;36mwrite\u001b[1;34m(library, session, data)\u001b[0m\n\u001b[0;32m   1864\u001b[0m     \u001b[0mreturn_count\u001b[0m \u001b[1;33m=\u001b[0m \u001b[0mViUInt32\u001b[0m\u001b[1;33m(\u001b[0m\u001b[1;33m)\u001b[0m\u001b[1;33m\u001b[0m\u001b[1;33m\u001b[0m\u001b[0m\n\u001b[0;32m   1865\u001b[0m     \u001b[1;31m# [ViSession, ViBuf, ViUInt32, ViPUInt32]\u001b[0m\u001b[1;33m\u001b[0m\u001b[1;33m\u001b[0m\u001b[1;33m\u001b[0m\u001b[0m\n\u001b[1;32m-> 1866\u001b[1;33m     \u001b[0mret\u001b[0m \u001b[1;33m=\u001b[0m \u001b[0mlibrary\u001b[0m\u001b[1;33m.\u001b[0m\u001b[0mviWrite\u001b[0m\u001b[1;33m(\u001b[0m\u001b[0msession\u001b[0m\u001b[1;33m,\u001b[0m \u001b[0mdata\u001b[0m\u001b[1;33m,\u001b[0m \u001b[0mlen\u001b[0m\u001b[1;33m(\u001b[0m\u001b[0mdata\u001b[0m\u001b[1;33m)\u001b[0m\u001b[1;33m,\u001b[0m \u001b[0mbyref\u001b[0m\u001b[1;33m(\u001b[0m\u001b[0mreturn_count\u001b[0m\u001b[1;33m)\u001b[0m\u001b[1;33m)\u001b[0m\u001b[1;33m\u001b[0m\u001b[1;33m\u001b[0m\u001b[0m\n\u001b[0m\u001b[0;32m   1867\u001b[0m     \u001b[1;32mreturn\u001b[0m \u001b[0mreturn_count\u001b[0m\u001b[1;33m.\u001b[0m\u001b[0mvalue\u001b[0m\u001b[1;33m,\u001b[0m \u001b[0mret\u001b[0m\u001b[1;33m\u001b[0m\u001b[1;33m\u001b[0m\u001b[0m\n\u001b[0;32m   1868\u001b[0m \u001b[1;33m\u001b[0m\u001b[0m\n",
      "\u001b[1;32m~\\Anaconda3\\lib\\site-packages\\pyvisa\\ctwrapper\\highlevel.py\u001b[0m in \u001b[0;36m_return_handler\u001b[1;34m(self, ret_value, func, arguments)\u001b[0m\n\u001b[0;32m    152\u001b[0m             \u001b[0msetattr\u001b[0m\u001b[1;33m(\u001b[0m\u001b[0mself\u001b[0m\u001b[1;33m,\u001b[0m \u001b[0mmethod_name\u001b[0m\u001b[1;33m,\u001b[0m \u001b[0mgetattr\u001b[0m\u001b[1;33m(\u001b[0m\u001b[0mself\u001b[0m\u001b[1;33m.\u001b[0m\u001b[0mlib\u001b[0m\u001b[1;33m,\u001b[0m \u001b[0mmethod_name\u001b[0m\u001b[1;33m)\u001b[0m\u001b[1;33m)\u001b[0m\u001b[1;33m\u001b[0m\u001b[1;33m\u001b[0m\u001b[0m\n\u001b[0;32m    153\u001b[0m \u001b[1;33m\u001b[0m\u001b[0m\n\u001b[1;32m--> 154\u001b[1;33m     \u001b[1;32mdef\u001b[0m \u001b[0m_return_handler\u001b[0m\u001b[1;33m(\u001b[0m\u001b[0mself\u001b[0m\u001b[1;33m,\u001b[0m \u001b[0mret_value\u001b[0m\u001b[1;33m,\u001b[0m \u001b[0mfunc\u001b[0m\u001b[1;33m,\u001b[0m \u001b[0marguments\u001b[0m\u001b[1;33m)\u001b[0m\u001b[1;33m:\u001b[0m\u001b[1;33m\u001b[0m\u001b[1;33m\u001b[0m\u001b[0m\n\u001b[0m\u001b[0;32m    155\u001b[0m         \"\"\"Check return values for errors and warnings.\n\u001b[0;32m    156\u001b[0m         \"\"\"\n",
      "\u001b[1;31mKeyboardInterrupt\u001b[0m: "
     ]
    }
   ],
   "source": [
    "Isrc.write_raw('SOUR:CURR:RANG 1e-5')\n",
    "\n",
    "#B = jj.cos_to_B(0)\n",
    "\n",
    "# B = 205e-6\n",
    "# B = -750e-6\n",
    "B = 0e-6\n",
    "\n",
    "print(B*1e3)\n",
    "\n",
    "Bfield.set(B)\n",
    "\n",
    "\n",
    "jj.IVC_udu (amp = 5e-9, stp = .05e-9, dt = .1,  N_avg = 1, \n",
    "            label = 'kei full ivc 1e  B = {}A'.format(si_format(B)))"
   ]
  },
  {
   "cell_type": "markdown",
   "metadata": {},
   "source": [
    "##### WS"
   ]
  },
  {
   "cell_type": "code",
   "execution_count": null,
   "metadata": {
    "scrolled": true
   },
   "outputs": [],
   "source": [
    "tlst = []\n",
    "segName = '5b'\n",
    "\n",
    "t0 = time.time()\n",
    "Bfield.set(0)\n",
    "Blst = [ZF,FF]\n",
    "for B in Blst:\n",
    "    Bfield.set(B)\n",
    "    print('setting B:{}A'.format(si_format(B)))\n",
    "    jj.IVC_udu (amp = 0.2e-6, stp = 5e-9, dt = .1,  N_avg = 1, \n",
    "                label = 'kei IVf B:{}A, {}'.format(si_format(B),segName))\n",
    "tlst += [(time.time()-t0)/60]\n",
    "    \n",
    "t0 = time.time()\n",
    "Bfield.set(0)\n",
    "Blst = np.arange(100e-6,350e-6,5e-6)-190e-6\n",
    "for B in Blst:\n",
    "    Bfield.set(B)\n",
    "    print('setting B:{}A'.format(si_format(B)))\n",
    "    jj.IVC_udu (amp = 0.2e-6, stp = 5e-9, dt = .1,  N_avg = 1, \n",
    "                label = 'kei Bscan fine_ZF B:{}A, {}'.format(si_format(B),segName))\n",
    "tlst += [(time.time()-t0)/60]\n",
    "\n",
    "t0 = time.time()\n",
    "Bfield.set(0)\n",
    "Blst = np.arange(100e-6,350e-6,5e-6)\n",
    "for B in Blst:\n",
    "    Bfield.set(B)\n",
    "    print('setting B:{}A'.format(si_format(B)))\n",
    "    jj.IVC_udu (amp = 0.1e-6, stp = 2e-9, dt = .1,  N_avg = 1, \n",
    "                label = 'kei Bscan fine_FF B:{}A, {}'.format(si_format(B),segName))\n",
    "tlst += [(time.time()-t0)/60]\n",
    "\n",
    "print(tlst)"
   ]
  },
  {
   "cell_type": "code",
   "execution_count": null,
   "metadata": {
    "scrolled": true
   },
   "outputs": [],
   "source": [
    "segName = '5b'\n",
    "\n",
    "Blst = [0]*40\n",
    "for B in Blst:\n",
    "    Bfield.set(B)\n",
    "    print('setting B:{}A'.format(si_format(B)))\n",
    "    jj.IVC_udu (amp =0.3e-6, stp = 2e-9, dt = .1,  N_avg = 1, \n",
    "                label = 'kei peri. stoch B:{}A, {}'.format(si_format(B),segName))"
   ]
  },
  {
   "cell_type": "code",
   "execution_count": null,
   "metadata": {},
   "outputs": [],
   "source": [
    "segName = '5b'\n",
    "\n",
    "Bfield.set(0)\n",
    "Blst = np.linspace(1.7,2.1,9)*1e-4\n",
    "for B in Blst:\n",
    "    Bfield.set(B)\n",
    "    print('setting B:{}A'.format(si_format(B)))\n",
    "    jj.IVC_udu (amp = 0.020e-6, stp = 0.5e-9, dt = .1,  N_avg = 1, \n",
    "                label = 'kei B:{}A, {}'.format(si_format(B),segName))"
   ]
  },
  {
   "cell_type": "code",
   "execution_count": null,
   "metadata": {},
   "outputs": [],
   "source": [
    "jj.B_to_cos(140e-6)"
   ]
  },
  {
   "cell_type": "markdown",
   "metadata": {},
   "source": [
    "#### fine scan"
   ]
  },
  {
   "cell_type": "code",
   "execution_count": 43,
   "metadata": {},
   "outputs": [],
   "source": [
    "Isrc.write_raw('SOUR:CURR:RANG 1e-7')"
   ]
  },
  {
   "cell_type": "code",
   "execution_count": 213,
   "metadata": {},
   "outputs": [
    {
     "data": {
      "text/plain": [
       "'2.000000E-07\\n'"
      ]
     },
     "execution_count": 213,
     "metadata": {},
     "output_type": "execute_result"
    }
   ],
   "source": [
    "Isrc.ask_raw('CURR:RANG?')"
   ]
  },
  {
   "cell_type": "code",
   "execution_count": 77,
   "metadata": {},
   "outputs": [
    {
     "data": {
      "application/vnd.jupyter.widget-view+json": {
       "model_id": "",
       "version_major": 2,
       "version_minor": 0
      },
      "text/plain": [
       "HBox(children=(IntProgress(value=0, max=803), HTML(value='')))"
      ]
     },
     "metadata": {},
     "output_type": "display_data"
    },
    {
     "name": "stdout",
     "output_type": "stream",
     "text": [
      "Starting experimental run with id: 39\n"
     ]
    },
    {
     "data": {
      "text/plain": [
       "39"
      ]
     },
     "execution_count": 77,
     "metadata": {},
     "output_type": "execute_result"
    }
   ],
   "source": [
    "Isrc.write_raw('SOUR:CURR:RANG 2e-6')\n",
    "\n",
    "dev = '1d'\n",
    "B = 0e-6\n",
    "\n",
    "Bfield.set(B)\n",
    "jj.IVC_udu (amp = 200e-12, stp = 1e-12, dt = .1,  N_avg = 50, \n",
    "            label = dev+' Navg = 50 B = {}A'.format(si_format(B)))"
   ]
  },
  {
   "cell_type": "code",
   "execution_count": 70,
   "metadata": {},
   "outputs": [
    {
     "data": {
      "application/vnd.jupyter.widget-view+json": {
       "model_id": "",
       "version_major": 2,
       "version_minor": 0
      },
      "text/plain": [
       "HBox(children=(IntProgress(value=0, max=83), HTML(value='')))"
      ]
     },
     "metadata": {},
     "output_type": "display_data"
    },
    {
     "name": "stdout",
     "output_type": "stream",
     "text": [
      "Starting experimental run with id: 32\n"
     ]
    },
    {
     "data": {
      "text/plain": [
       "32"
      ]
     },
     "execution_count": 70,
     "metadata": {},
     "output_type": "execute_result"
    }
   ],
   "source": [
    "Isrc.write_raw('SOUR:CURR:RANG 10e-6')\n",
    "\n",
    "dev = '1d'\n",
    "B = 0e-6\n",
    "\n",
    "Bfield.set(B)\n",
    "jj.IVC_udu (amp = 4e-9, stp = 0.2e-9, dt = .1,  N_avg = 1, \n",
    "            label = dev+' scan B = {}A'.format(si_format(B)))"
   ]
  },
  {
   "cell_type": "markdown",
   "metadata": {},
   "source": [
    "##### WS"
   ]
  },
  {
   "cell_type": "code",
   "execution_count": 59,
   "metadata": {},
   "outputs": [
    {
     "ename": "KeyboardInterrupt",
     "evalue": "",
     "output_type": "error",
     "traceback": [
      "\u001b[1;31m---------------------------------------------------------------------------\u001b[0m",
      "\u001b[1;31mKeyboardInterrupt\u001b[0m                         Traceback (most recent call last)",
      "\u001b[1;32m<ipython-input-59-40670afe5b65>\u001b[0m in \u001b[0;36m<module>\u001b[1;34m\u001b[0m\n\u001b[0;32m      6\u001b[0m \u001b[0mBfield\u001b[0m\u001b[1;33m.\u001b[0m\u001b[0mset\u001b[0m\u001b[1;33m(\u001b[0m\u001b[0mB\u001b[0m\u001b[1;33m)\u001b[0m\u001b[1;33m\u001b[0m\u001b[1;33m\u001b[0m\u001b[0m\n\u001b[0;32m      7\u001b[0m jj.IVC_udu (amp = 150e-9, stp = 5e-9, dt = .1,  N_avg = 1, \n\u001b[1;32m----> 8\u001b[1;33m             label = '5'+dev+' ZF')\n\u001b[0m",
      "\u001b[1;32m~\\Documents\\GitHub\\measDC\\_jjtools\\JJmeasurement.py\u001b[0m in \u001b[0;36mIVC_udu\u001b[1;34m(self, amp, stp, **kwargs)\u001b[0m\n\u001b[0;32m    117\u001b[0m \u001b[1;33m\u001b[0m\u001b[0m\n\u001b[0;32m    118\u001b[0m         \u001b[0mi_list\u001b[0m \u001b[1;33m=\u001b[0m \u001b[0mudu_list\u001b[0m\u001b[1;33m(\u001b[0m\u001b[0mamp\u001b[0m\u001b[1;33m,\u001b[0m \u001b[0mstp\u001b[0m\u001b[1;33m)\u001b[0m\u001b[1;33m\u001b[0m\u001b[1;33m\u001b[0m\u001b[0m\n\u001b[1;32m--> 119\u001b[1;33m         \u001b[0mrun_id\u001b[0m \u001b[1;33m=\u001b[0m \u001b[0mself\u001b[0m\u001b[1;33m.\u001b[0m\u001b[0mIVC_cust\u001b[0m \u001b[1;33m(\u001b[0m \u001b[0mi_list\u001b[0m\u001b[1;33m,\u001b[0m \u001b[1;33m**\u001b[0m\u001b[0mkwargs\u001b[0m\u001b[1;33m)\u001b[0m\u001b[1;33m\u001b[0m\u001b[1;33m\u001b[0m\u001b[0m\n\u001b[0m\u001b[0;32m    120\u001b[0m \u001b[1;33m\u001b[0m\u001b[0m\n\u001b[0;32m    121\u001b[0m \u001b[1;33m\u001b[0m\u001b[0m\n",
      "\u001b[1;32m~\\Documents\\GitHub\\measDC\\_jjtools\\JJmeasurement.py\u001b[0m in \u001b[0;36mIVC_cust\u001b[1;34m(self, i_list, Ioff, Vthr, dt, N_avg, label)\u001b[0m\n\u001b[0;32m     61\u001b[0m \u001b[1;33m\u001b[0m\u001b[0m\n\u001b[0;32m     62\u001b[0m \u001b[1;33m\u001b[0m\u001b[0m\n\u001b[1;32m---> 63\u001b[1;33m         \u001b[0mV\u001b[0m\u001b[1;33m.\u001b[0m\u001b[0mmeas_Voff\u001b[0m\u001b[1;33m(\u001b[0m\u001b[1;33m)\u001b[0m\u001b[1;33m\u001b[0m\u001b[1;33m\u001b[0m\u001b[0m\n\u001b[0m\u001b[0;32m     64\u001b[0m         \u001b[0mVoff\u001b[0m \u001b[1;33m=\u001b[0m  \u001b[0mV\u001b[0m\u001b[1;33m.\u001b[0m\u001b[0mVoff\u001b[0m\u001b[1;33m\u001b[0m\u001b[1;33m\u001b[0m\u001b[0m\n\u001b[0;32m     65\u001b[0m \u001b[1;33m\u001b[0m\u001b[0m\n",
      "\u001b[1;32m~\\Anaconda3\\lib\\site-packages\\qcodes\\instrument_drivers\\HP\\HP34401_DL1201.py\u001b[0m in \u001b[0;36mmeas_Voff\u001b[1;34m(self)\u001b[0m\n\u001b[0;32m     43\u001b[0m         \u001b[0mv\u001b[0m \u001b[1;33m=\u001b[0m \u001b[1;36m0\u001b[0m\u001b[1;33m\u001b[0m\u001b[1;33m\u001b[0m\u001b[0m\n\u001b[0;32m     44\u001b[0m         \u001b[1;32mfor\u001b[0m \u001b[0mi\u001b[0m \u001b[1;32min\u001b[0m \u001b[0mrange\u001b[0m\u001b[1;33m(\u001b[0m\u001b[1;36m10\u001b[0m\u001b[1;33m)\u001b[0m\u001b[1;33m:\u001b[0m\u001b[1;33m\u001b[0m\u001b[1;33m\u001b[0m\u001b[0m\n\u001b[1;32m---> 45\u001b[1;33m             \u001b[0mv\u001b[0m \u001b[1;33m+=\u001b[0m \u001b[0mself\u001b[0m\u001b[1;33m.\u001b[0m\u001b[0mV\u001b[0m\u001b[1;33m.\u001b[0m\u001b[0mget\u001b[0m\u001b[1;33m(\u001b[0m\u001b[1;33m)\u001b[0m\u001b[1;33m\u001b[0m\u001b[1;33m\u001b[0m\u001b[0m\n\u001b[0m\u001b[0;32m     46\u001b[0m         \u001b[0mVoff\u001b[0m \u001b[1;33m=\u001b[0m \u001b[0mv\u001b[0m\u001b[1;33m/\u001b[0m\u001b[0mN\u001b[0m\u001b[1;33m\u001b[0m\u001b[1;33m\u001b[0m\u001b[0m\n\u001b[0;32m     47\u001b[0m \u001b[1;33m\u001b[0m\u001b[0m\n",
      "\u001b[1;32m~\\Anaconda3\\lib\\site-packages\\qcodes\\instrument\\parameter.py\u001b[0m in \u001b[0;36mget_wrapper\u001b[1;34m(*args, **kwargs)\u001b[0m\n\u001b[0;32m    446\u001b[0m             \u001b[1;32mtry\u001b[0m\u001b[1;33m:\u001b[0m\u001b[1;33m\u001b[0m\u001b[1;33m\u001b[0m\u001b[0m\n\u001b[0;32m    447\u001b[0m                 \u001b[1;31m# There might be cases where a .get also has args/kwargs\u001b[0m\u001b[1;33m\u001b[0m\u001b[1;33m\u001b[0m\u001b[1;33m\u001b[0m\u001b[0m\n\u001b[1;32m--> 448\u001b[1;33m                 \u001b[0mvalue\u001b[0m \u001b[1;33m=\u001b[0m \u001b[0mget_function\u001b[0m\u001b[1;33m(\u001b[0m\u001b[1;33m*\u001b[0m\u001b[0margs\u001b[0m\u001b[1;33m,\u001b[0m \u001b[1;33m**\u001b[0m\u001b[0mkwargs\u001b[0m\u001b[1;33m)\u001b[0m\u001b[1;33m\u001b[0m\u001b[1;33m\u001b[0m\u001b[0m\n\u001b[0m\u001b[0;32m    449\u001b[0m                 \u001b[0mself\u001b[0m\u001b[1;33m.\u001b[0m\u001b[0mraw_value\u001b[0m \u001b[1;33m=\u001b[0m \u001b[0mvalue\u001b[0m\u001b[1;33m\u001b[0m\u001b[1;33m\u001b[0m\u001b[0m\n\u001b[0;32m    450\u001b[0m \u001b[1;33m\u001b[0m\u001b[0m\n",
      "\u001b[1;32m~\\Anaconda3\\lib\\site-packages\\qcodes\\utils\\command.py\u001b[0m in \u001b[0;36m__call__\u001b[1;34m(self, *args)\u001b[0m\n\u001b[0;32m    176\u001b[0m             raise TypeError(\n\u001b[0;32m    177\u001b[0m                 'command takes exactly {} args'.format(self.arg_count))\n\u001b[1;32m--> 178\u001b[1;33m         \u001b[1;32mreturn\u001b[0m \u001b[0mself\u001b[0m\u001b[1;33m.\u001b[0m\u001b[0mexec_function\u001b[0m\u001b[1;33m(\u001b[0m\u001b[1;33m*\u001b[0m\u001b[0margs\u001b[0m\u001b[1;33m)\u001b[0m\u001b[1;33m\u001b[0m\u001b[1;33m\u001b[0m\u001b[0m\n\u001b[0m",
      "\u001b[1;32m~\\Anaconda3\\lib\\site-packages\\qcodes\\utils\\command.py\u001b[0m in \u001b[0;36mcall_by_str\u001b[1;34m(self, *args)\u001b[0m\n\u001b[0;32m    125\u001b[0m     \u001b[1;32mdef\u001b[0m \u001b[0mcall_by_str\u001b[0m\u001b[1;33m(\u001b[0m\u001b[0mself\u001b[0m\u001b[1;33m,\u001b[0m \u001b[1;33m*\u001b[0m\u001b[0margs\u001b[0m\u001b[1;33m)\u001b[0m\u001b[1;33m:\u001b[0m\u001b[1;33m\u001b[0m\u001b[1;33m\u001b[0m\u001b[0m\n\u001b[0;32m    126\u001b[0m         \u001b[1;34m\"\"\"Execute a formatted string.\"\"\"\u001b[0m\u001b[1;33m\u001b[0m\u001b[1;33m\u001b[0m\u001b[0m\n\u001b[1;32m--> 127\u001b[1;33m         \u001b[1;32mreturn\u001b[0m \u001b[0mself\u001b[0m\u001b[1;33m.\u001b[0m\u001b[0mexec_str\u001b[0m\u001b[1;33m(\u001b[0m\u001b[0mself\u001b[0m\u001b[1;33m.\u001b[0m\u001b[0mcmd_str\u001b[0m\u001b[1;33m.\u001b[0m\u001b[0mformat\u001b[0m\u001b[1;33m(\u001b[0m\u001b[1;33m*\u001b[0m\u001b[0margs\u001b[0m\u001b[1;33m)\u001b[0m\u001b[1;33m)\u001b[0m\u001b[1;33m\u001b[0m\u001b[1;33m\u001b[0m\u001b[0m\n\u001b[0m\u001b[0;32m    128\u001b[0m \u001b[1;33m\u001b[0m\u001b[0m\n\u001b[0;32m    129\u001b[0m     \u001b[1;32mdef\u001b[0m \u001b[0mcall_by_str_parsed_out\u001b[0m\u001b[1;33m(\u001b[0m\u001b[0mself\u001b[0m\u001b[1;33m,\u001b[0m \u001b[1;33m*\u001b[0m\u001b[0margs\u001b[0m\u001b[1;33m)\u001b[0m\u001b[1;33m:\u001b[0m\u001b[1;33m\u001b[0m\u001b[1;33m\u001b[0m\u001b[0m\n",
      "\u001b[1;32m~\\Anaconda3\\lib\\site-packages\\qcodes\\instrument\\base.py\u001b[0m in \u001b[0;36mask\u001b[1;34m(self, cmd)\u001b[0m\n\u001b[0;32m    757\u001b[0m         \"\"\"\n\u001b[0;32m    758\u001b[0m         \u001b[1;32mtry\u001b[0m\u001b[1;33m:\u001b[0m\u001b[1;33m\u001b[0m\u001b[1;33m\u001b[0m\u001b[0m\n\u001b[1;32m--> 759\u001b[1;33m             \u001b[0manswer\u001b[0m \u001b[1;33m=\u001b[0m \u001b[0mself\u001b[0m\u001b[1;33m.\u001b[0m\u001b[0mask_raw\u001b[0m\u001b[1;33m(\u001b[0m\u001b[0mcmd\u001b[0m\u001b[1;33m)\u001b[0m\u001b[1;33m\u001b[0m\u001b[1;33m\u001b[0m\u001b[0m\n\u001b[0m\u001b[0;32m    760\u001b[0m \u001b[1;33m\u001b[0m\u001b[0m\n\u001b[0;32m    761\u001b[0m             \u001b[1;32mreturn\u001b[0m \u001b[0manswer\u001b[0m\u001b[1;33m\u001b[0m\u001b[1;33m\u001b[0m\u001b[0m\n",
      "\u001b[1;32m~\\Anaconda3\\lib\\site-packages\\qcodes\\instrument\\visa.py\u001b[0m in \u001b[0;36mask_raw\u001b[1;34m(self, cmd)\u001b[0m\n\u001b[0;32m    227\u001b[0m         \"\"\"\n\u001b[0;32m    228\u001b[0m         \u001b[0mself\u001b[0m\u001b[1;33m.\u001b[0m\u001b[0mvisa_log\u001b[0m\u001b[1;33m.\u001b[0m\u001b[0mdebug\u001b[0m\u001b[1;33m(\u001b[0m\u001b[1;34mf\"Querying: {cmd}\"\u001b[0m\u001b[1;33m)\u001b[0m\u001b[1;33m\u001b[0m\u001b[1;33m\u001b[0m\u001b[0m\n\u001b[1;32m--> 229\u001b[1;33m         \u001b[0mresponse\u001b[0m \u001b[1;33m=\u001b[0m \u001b[0mself\u001b[0m\u001b[1;33m.\u001b[0m\u001b[0mvisa_handle\u001b[0m\u001b[1;33m.\u001b[0m\u001b[0mquery\u001b[0m\u001b[1;33m(\u001b[0m\u001b[0mcmd\u001b[0m\u001b[1;33m)\u001b[0m\u001b[1;33m\u001b[0m\u001b[1;33m\u001b[0m\u001b[0m\n\u001b[0m\u001b[0;32m    230\u001b[0m         \u001b[0mself\u001b[0m\u001b[1;33m.\u001b[0m\u001b[0mvisa_log\u001b[0m\u001b[1;33m.\u001b[0m\u001b[0mdebug\u001b[0m\u001b[1;33m(\u001b[0m\u001b[1;34mf\"Response: {response}\"\u001b[0m\u001b[1;33m)\u001b[0m\u001b[1;33m\u001b[0m\u001b[1;33m\u001b[0m\u001b[0m\n\u001b[0;32m    231\u001b[0m \u001b[1;33m\u001b[0m\u001b[0m\n",
      "\u001b[1;32m~\\Anaconda3\\lib\\site-packages\\pyvisa\\resources\\messagebased.py\u001b[0m in \u001b[0;36mquery\u001b[1;34m(self, message, delay)\u001b[0m\n\u001b[0;32m    611\u001b[0m         \u001b[1;32mif\u001b[0m \u001b[0mdelay\u001b[0m \u001b[1;33m>\u001b[0m \u001b[1;36m0.0\u001b[0m\u001b[1;33m:\u001b[0m\u001b[1;33m\u001b[0m\u001b[1;33m\u001b[0m\u001b[0m\n\u001b[0;32m    612\u001b[0m             \u001b[0mtime\u001b[0m\u001b[1;33m.\u001b[0m\u001b[0msleep\u001b[0m\u001b[1;33m(\u001b[0m\u001b[0mdelay\u001b[0m\u001b[1;33m)\u001b[0m\u001b[1;33m\u001b[0m\u001b[1;33m\u001b[0m\u001b[0m\n\u001b[1;32m--> 613\u001b[1;33m         \u001b[1;32mreturn\u001b[0m \u001b[0mself\u001b[0m\u001b[1;33m.\u001b[0m\u001b[0mread\u001b[0m\u001b[1;33m(\u001b[0m\u001b[1;33m)\u001b[0m\u001b[1;33m\u001b[0m\u001b[1;33m\u001b[0m\u001b[0m\n\u001b[0m\u001b[0;32m    614\u001b[0m \u001b[1;33m\u001b[0m\u001b[0m\n\u001b[0;32m    615\u001b[0m     \u001b[1;32mdef\u001b[0m \u001b[0mask\u001b[0m\u001b[1;33m(\u001b[0m\u001b[0mself\u001b[0m\u001b[1;33m,\u001b[0m \u001b[0mmessage\u001b[0m\u001b[1;33m,\u001b[0m \u001b[0mdelay\u001b[0m\u001b[1;33m=\u001b[0m\u001b[1;32mNone\u001b[0m\u001b[1;33m)\u001b[0m\u001b[1;33m:\u001b[0m\u001b[1;33m\u001b[0m\u001b[1;33m\u001b[0m\u001b[0m\n",
      "\u001b[1;32m~\\Anaconda3\\lib\\site-packages\\pyvisa\\resources\\messagebased.py\u001b[0m in \u001b[0;36mread\u001b[1;34m(self, termination, encoding)\u001b[0m\n\u001b[0;32m    425\u001b[0m         \u001b[1;32mif\u001b[0m \u001b[0mtermination\u001b[0m \u001b[1;32mis\u001b[0m \u001b[1;32mNone\u001b[0m\u001b[1;33m:\u001b[0m\u001b[1;33m\u001b[0m\u001b[1;33m\u001b[0m\u001b[0m\n\u001b[0;32m    426\u001b[0m             \u001b[0mtermination\u001b[0m \u001b[1;33m=\u001b[0m \u001b[0mself\u001b[0m\u001b[1;33m.\u001b[0m\u001b[0m_read_termination\u001b[0m\u001b[1;33m\u001b[0m\u001b[1;33m\u001b[0m\u001b[0m\n\u001b[1;32m--> 427\u001b[1;33m             \u001b[0mmessage\u001b[0m \u001b[1;33m=\u001b[0m \u001b[0mself\u001b[0m\u001b[1;33m.\u001b[0m\u001b[0m_read_raw\u001b[0m\u001b[1;33m(\u001b[0m\u001b[1;33m)\u001b[0m\u001b[1;33m.\u001b[0m\u001b[0mdecode\u001b[0m\u001b[1;33m(\u001b[0m\u001b[0menco\u001b[0m\u001b[1;33m)\u001b[0m\u001b[1;33m\u001b[0m\u001b[1;33m\u001b[0m\u001b[0m\n\u001b[0m\u001b[0;32m    428\u001b[0m         \u001b[1;32melse\u001b[0m\u001b[1;33m:\u001b[0m\u001b[1;33m\u001b[0m\u001b[1;33m\u001b[0m\u001b[0m\n\u001b[0;32m    429\u001b[0m             \u001b[1;32mwith\u001b[0m \u001b[0mself\u001b[0m\u001b[1;33m.\u001b[0m\u001b[0mread_termination_context\u001b[0m\u001b[1;33m(\u001b[0m\u001b[0mtermination\u001b[0m\u001b[1;33m)\u001b[0m\u001b[1;33m:\u001b[0m\u001b[1;33m\u001b[0m\u001b[1;33m\u001b[0m\u001b[0m\n",
      "\u001b[1;32m~\\Anaconda3\\lib\\site-packages\\pyvisa\\resources\\messagebased.py\u001b[0m in \u001b[0;36m_read_raw\u001b[1;34m(self, size)\u001b[0m\n\u001b[0;32m    398\u001b[0m                     logger.debug('%s - reading %d bytes (last status %r)',\n\u001b[0;32m    399\u001b[0m                                  self._resource_name, size, status)\n\u001b[1;32m--> 400\u001b[1;33m                     \u001b[0mchunk\u001b[0m\u001b[1;33m,\u001b[0m \u001b[0mstatus\u001b[0m \u001b[1;33m=\u001b[0m \u001b[0mself\u001b[0m\u001b[1;33m.\u001b[0m\u001b[0mvisalib\u001b[0m\u001b[1;33m.\u001b[0m\u001b[0mread\u001b[0m\u001b[1;33m(\u001b[0m\u001b[0mself\u001b[0m\u001b[1;33m.\u001b[0m\u001b[0msession\u001b[0m\u001b[1;33m,\u001b[0m \u001b[0msize\u001b[0m\u001b[1;33m)\u001b[0m\u001b[1;33m\u001b[0m\u001b[1;33m\u001b[0m\u001b[0m\n\u001b[0m\u001b[0;32m    401\u001b[0m                     \u001b[0mret\u001b[0m\u001b[1;33m.\u001b[0m\u001b[0mextend\u001b[0m\u001b[1;33m(\u001b[0m\u001b[0mchunk\u001b[0m\u001b[1;33m)\u001b[0m\u001b[1;33m\u001b[0m\u001b[1;33m\u001b[0m\u001b[0m\n\u001b[0;32m    402\u001b[0m             \u001b[1;32mexcept\u001b[0m \u001b[0merrors\u001b[0m\u001b[1;33m.\u001b[0m\u001b[0mVisaIOError\u001b[0m \u001b[1;32mas\u001b[0m \u001b[0me\u001b[0m\u001b[1;33m:\u001b[0m\u001b[1;33m\u001b[0m\u001b[1;33m\u001b[0m\u001b[0m\n",
      "\u001b[1;32m~\\Anaconda3\\lib\\site-packages\\pyvisa\\ctwrapper\\functions.py\u001b[0m in \u001b[0;36mread\u001b[1;34m(library, session, count)\u001b[0m\n\u001b[0;32m   1582\u001b[0m     \u001b[0mbuffer\u001b[0m \u001b[1;33m=\u001b[0m \u001b[0mcreate_string_buffer\u001b[0m\u001b[1;33m(\u001b[0m\u001b[0mcount\u001b[0m\u001b[1;33m)\u001b[0m\u001b[1;33m\u001b[0m\u001b[1;33m\u001b[0m\u001b[0m\n\u001b[0;32m   1583\u001b[0m     \u001b[0mreturn_count\u001b[0m \u001b[1;33m=\u001b[0m \u001b[0mViUInt32\u001b[0m\u001b[1;33m(\u001b[0m\u001b[1;33m)\u001b[0m\u001b[1;33m\u001b[0m\u001b[1;33m\u001b[0m\u001b[0m\n\u001b[1;32m-> 1584\u001b[1;33m     \u001b[0mret\u001b[0m \u001b[1;33m=\u001b[0m \u001b[0mlibrary\u001b[0m\u001b[1;33m.\u001b[0m\u001b[0mviRead\u001b[0m\u001b[1;33m(\u001b[0m\u001b[0msession\u001b[0m\u001b[1;33m,\u001b[0m \u001b[0mbuffer\u001b[0m\u001b[1;33m,\u001b[0m \u001b[0mcount\u001b[0m\u001b[1;33m,\u001b[0m \u001b[0mbyref\u001b[0m\u001b[1;33m(\u001b[0m\u001b[0mreturn_count\u001b[0m\u001b[1;33m)\u001b[0m\u001b[1;33m)\u001b[0m\u001b[1;33m\u001b[0m\u001b[1;33m\u001b[0m\u001b[0m\n\u001b[0m\u001b[0;32m   1585\u001b[0m     \u001b[1;32mreturn\u001b[0m \u001b[0mbuffer\u001b[0m\u001b[1;33m.\u001b[0m\u001b[0mraw\u001b[0m\u001b[1;33m[\u001b[0m\u001b[1;33m:\u001b[0m\u001b[0mreturn_count\u001b[0m\u001b[1;33m.\u001b[0m\u001b[0mvalue\u001b[0m\u001b[1;33m]\u001b[0m\u001b[1;33m,\u001b[0m \u001b[0mret\u001b[0m\u001b[1;33m\u001b[0m\u001b[1;33m\u001b[0m\u001b[0m\n\u001b[0;32m   1586\u001b[0m \u001b[1;33m\u001b[0m\u001b[0m\n",
      "\u001b[1;32m~\\Anaconda3\\lib\\site-packages\\pyvisa\\ctwrapper\\highlevel.py\u001b[0m in \u001b[0;36m_return_handler\u001b[1;34m(self, ret_value, func, arguments)\u001b[0m\n\u001b[0;32m    152\u001b[0m             \u001b[0msetattr\u001b[0m\u001b[1;33m(\u001b[0m\u001b[0mself\u001b[0m\u001b[1;33m,\u001b[0m \u001b[0mmethod_name\u001b[0m\u001b[1;33m,\u001b[0m \u001b[0mgetattr\u001b[0m\u001b[1;33m(\u001b[0m\u001b[0mself\u001b[0m\u001b[1;33m.\u001b[0m\u001b[0mlib\u001b[0m\u001b[1;33m,\u001b[0m \u001b[0mmethod_name\u001b[0m\u001b[1;33m)\u001b[0m\u001b[1;33m)\u001b[0m\u001b[1;33m\u001b[0m\u001b[1;33m\u001b[0m\u001b[0m\n\u001b[0;32m    153\u001b[0m \u001b[1;33m\u001b[0m\u001b[0m\n\u001b[1;32m--> 154\u001b[1;33m     \u001b[1;32mdef\u001b[0m \u001b[0m_return_handler\u001b[0m\u001b[1;33m(\u001b[0m\u001b[0mself\u001b[0m\u001b[1;33m,\u001b[0m \u001b[0mret_value\u001b[0m\u001b[1;33m,\u001b[0m \u001b[0mfunc\u001b[0m\u001b[1;33m,\u001b[0m \u001b[0marguments\u001b[0m\u001b[1;33m)\u001b[0m\u001b[1;33m:\u001b[0m\u001b[1;33m\u001b[0m\u001b[1;33m\u001b[0m\u001b[0m\n\u001b[0m\u001b[0;32m    155\u001b[0m         \"\"\"Check return values for errors and warnings.\n\u001b[0;32m    156\u001b[0m         \"\"\"\n",
      "\u001b[1;31mKeyboardInterrupt\u001b[0m: "
     ]
    }
   ],
   "source": [
    "dev = 'b'\n",
    "dev = 'c'\n",
    "dev = 'b-5f'\n",
    "B = 0\n",
    "\n",
    "Bfield.set(B)\n",
    "jj.IVC_udu (amp = 150e-9, stp = 5e-9, dt = .1,  N_avg = 1, \n",
    "            label = '5'+dev+' ZF')"
   ]
  },
  {
   "cell_type": "code",
   "execution_count": null,
   "metadata": {
    "scrolled": true
   },
   "outputs": [],
   "source": [
    "segName = 'f'\n",
    "\n",
    "Bfield.set(0)\n",
    "T0 = time.time()\n",
    "Blst = np.linspace(200,230,31)*1e-6\n",
    "for B in Blst:\n",
    "    Bfield.set(B)\n",
    "    print('setting B:{}A'.format(si_format(B)))\n",
    "    jj.IVC_udu (amp = 0.4e-9, stp = 0.004e-9, dt = .1,  N_avg = 1, \n",
    "                label = 'kei B:{}A, {}'.format(si_format(B),segName))\n",
    "print(f'time cost:{(time.time()-T0)//60}')"
   ]
  },
  {
   "cell_type": "code",
   "execution_count": 287,
   "metadata": {},
   "outputs": [
    {
     "data": {
      "text/plain": [
       "'2.000000E-05\\n'"
      ]
     },
     "execution_count": 287,
     "metadata": {},
     "output_type": "execute_result"
    }
   ],
   "source": [
    "Isrc.ask_raw('CURR:RANG?')"
   ]
  },
  {
   "cell_type": "code",
   "execution_count": null,
   "metadata": {
    "scrolled": true
   },
   "outputs": [],
   "source": [
    "segName = 'b_new'\n",
    "Isrc.write_raw('CURR:RANG 200e-6')\n",
    "\n",
    "Bfield.set(0)\n",
    "T0 = time.time()\n",
    "Blst = np.linspace(-3*FF, 3*FF, 21)\n",
    "for B in Blst:\n",
    "    Bfield.set(B)\n",
    "    print('setting B:{}A'.format(si_format(B)))\n",
    "    jj.IVC_udu (amp = 200e-9, stp = 1e-9, dt = .1,  N_avg = 1, \n",
    "                label = 'kei IVc B:{}A, {}'.format(si_format(B),segName))\n",
    "print(f'time cost:{(time.time()-T0)//60}')"
   ]
  },
  {
   "cell_type": "code",
   "execution_count": 325,
   "metadata": {},
   "outputs": [
    {
     "data": {
      "application/vnd.jupyter.widget-view+json": {
       "model_id": "",
       "version_major": 2,
       "version_minor": 0
      },
      "text/plain": [
       "HBox(children=(IntProgress(value=0, max=803), HTML(value='')))"
      ]
     },
     "metadata": {},
     "output_type": "display_data"
    },
    {
     "name": "stdout",
     "output_type": "stream",
     "text": [
      "Starting experimental run with id: 1336\n"
     ]
    },
    {
     "data": {
      "text/plain": [
       "1336"
      ]
     },
     "execution_count": 325,
     "metadata": {},
     "output_type": "execute_result"
    }
   ],
   "source": [
    "Bfield.set(0)\n",
    "jj.IVC_udu (amp = 200e-9, stp = 1e-9, dt = .1,  N_avg = 1, \n",
    "                label = 'kei IVc B:{}A, {}'.format(si_format(B),segName))"
   ]
  },
  {
   "cell_type": "code",
   "execution_count": null,
   "metadata": {},
   "outputs": [],
   "source": [
    "segName = 'b_new'\n",
    "Isrc.write_raw('CURR:RANG 200e-6')\n",
    "\n",
    "Bfield.set(0)\n",
    "T0 = time.time()\n",
    "Blst = np.linspace(-3*FF, 3*FF, 19)\n",
    "for B in Blst:\n",
    "    Bfield.set(B)\n",
    "    print('setting B:{}A'.format(si_format(B)))\n",
    "    jj.IVC_udu (amp = 200e-9, stp = 4e-9, dt = .1,  N_avg = 1, \n",
    "                label = 'kei IVc B:{}A, {}'.format(si_format(B),segName))\n",
    "print(f'time cost:{(time.time()-T0)//60}')"
   ]
  },
  {
   "cell_type": "code",
   "execution_count": null,
   "metadata": {
    "scrolled": true
   },
   "outputs": [],
   "source": [
    "segName = 'c'\n",
    "\n",
    "Bfield.set(0)\n",
    "T0 = time.time()\n",
    "# Blst = [ZF,150e-6,160e-6,170e-6,180e-6,185e-6,190e-6,FF]\n",
    "# Blst = np.append(np.linspace(195,200,11)*1e-6,(np.linspace(195,230, 9)*1e-6)[2:])\n",
    "Blst = np.append(np.linspace(195,200,11)*1e-6,np.linspace(200,230,61)*1e-6)\n",
    "for B in Blst:\n",
    "    Bfield.set(B)\n",
    "    print('setting B:{}A'.format(si_format(B)))\n",
    "#     jj.IVC_udu (amp = 20e-9, stp = 0.2e-9, dt = .1,  N_avg = 1, \n",
    "#     jj.IVC_udu (amp = 2e-9, stp = 0.02e-9, dt = .1,  N_avg = 1, \n",
    "    jj.IVC_udu (amp = .4e-9, stp = 0.004e-9, dt = .1,  N_avg = 1, \n",
    "                label = 'kei IVc B:{}A, {}'.format(si_format(B),segName))\n",
    "print(f'time cost:{(time.time()-T0)//60}')"
   ]
  },
  {
   "cell_type": "markdown",
   "metadata": {},
   "source": []
  },
  {
   "cell_type": "code",
   "execution_count": null,
   "metadata": {},
   "outputs": [],
   "source": [
    "segName = 'b'\n",
    "\n",
    "Bfield.set(0)\n",
    "T0 = time.time()\n",
    "Blst = [150e-6,160e-6,170e-6,180e-6] #runid 544,545,546,547\n",
    "# Blst = np.linspace(180,230,11)*1e-6 #runid range(550, 560+1)\n",
    "# Blst = np.linspace(195,230,9)*1e-6 #runid range(561,569+1)\n",
    "Blst = np.linspace(195,200,11)*1e-6\n",
    "for B in Blst:\n",
    "    Bfield.set(B)\n",
    "    print('setting B:{}A'.format(si_format(B)))\n",
    "    jj.IVC_udu (amp = 20e-9, stp = 0.2e-9, dt = .1,  N_avg = 1, \n",
    "#     jj.IVC_udu (amp = 2e-9, stp = 0.02e-9, dt = .1,  N_avg = 1, \n",
    "#     jj.IVC_udu (amp = 0.4e-9, stp = 0.004e-9, dt = .1,  N_avg = 1, \n",
    "                label = 'kei B:{}A, {}'.format(si_format(B),segName))\n",
    "print(f'time cost:{(time.time()-T0)//60}')"
   ]
  },
  {
   "cell_type": "code",
   "execution_count": 313,
   "metadata": {},
   "outputs": [],
   "source": [
    "Isrc.write_raw('CURR:RANG 2e-6')"
   ]
  },
  {
   "cell_type": "code",
   "execution_count": 314,
   "metadata": {},
   "outputs": [
    {
     "data": {
      "application/vnd.jupyter.widget-view+json": {
       "model_id": "",
       "version_major": 2,
       "version_minor": 0
      },
      "text/plain": [
       "HBox(children=(IntProgress(value=0, max=403), HTML(value='')))"
      ]
     },
     "metadata": {},
     "output_type": "display_data"
    },
    {
     "name": "stdout",
     "output_type": "stream",
     "text": [
      "Starting experimental run with id: 1224\n"
     ]
    },
    {
     "data": {
      "text/plain": [
       "1224"
      ]
     },
     "execution_count": 314,
     "metadata": {},
     "output_type": "execute_result"
    }
   ],
   "source": [
    "dev = 'b'\n",
    "B = 180e-6\n",
    "\n",
    "Bfield.set(B)\n",
    "jj.IVC_udu (amp = 2e-9, stp = 20e-12, dt = .1,  N_avg = 1, \n",
    "            label = '5'+dev+' fine scan B = {}A'.format(dev, si_format(B)))"
   ]
  },
  {
   "cell_type": "code",
   "execution_count": 312,
   "metadata": {},
   "outputs": [
    {
     "data": {
      "application/vnd.jupyter.widget-view+json": {
       "model_id": "",
       "version_major": 2,
       "version_minor": 0
      },
      "text/plain": [
       "HBox(children=(IntProgress(value=0, max=403), HTML(value='')))"
      ]
     },
     "metadata": {},
     "output_type": "display_data"
    },
    {
     "name": "stdout",
     "output_type": "stream",
     "text": [
      "Starting experimental run with id: 1223\n"
     ]
    },
    {
     "data": {
      "text/plain": [
       "1223"
      ]
     },
     "execution_count": 312,
     "metadata": {},
     "output_type": "execute_result"
    }
   ],
   "source": [
    "dev = 'b'\n",
    "B = 180e-6\n",
    "\n",
    "Bfield.set(B)\n",
    "jj.IVC_udu (amp = 20e-9, stp = 200e-12, dt = .1,  N_avg = 1, \n",
    "            label = '5'+dev+' fine scan B = {}A'.format(dev, si_format(B)))"
   ]
  },
  {
   "cell_type": "code",
   "execution_count": 244,
   "metadata": {
    "scrolled": true
   },
   "outputs": [
    {
     "name": "stdout",
     "output_type": "stream",
     "text": [
      "0.205\n"
     ]
    },
    {
     "data": {
      "application/vnd.jupyter.widget-view+json": {
       "model_id": "",
       "version_major": 2,
       "version_minor": 0
      },
      "text/plain": [
       "HBox(children=(IntProgress(value=0, max=1603), HTML(value='')))"
      ]
     },
     "metadata": {},
     "output_type": "display_data"
    },
    {
     "name": "stdout",
     "output_type": "stream",
     "text": [
      "Starting experimental run with id: 1012\n"
     ]
    },
    {
     "data": {
      "text/plain": [
       "1012"
      ]
     },
     "execution_count": 244,
     "metadata": {},
     "output_type": "execute_result"
    }
   ],
   "source": [
    "# B = jj.cos_to_B(0.15)\n",
    "# B = 205e-6\n",
    "\n",
    "B = 0\n",
    "\n",
    "print(B*1e3)\n",
    "\n",
    "Bfield.set(B)\n",
    "jj.IVC_udu (amp = 2e-9, stp = 5e-12, dt = .1,  N_avg = 1, \n",
    "            label = '5b fine scan B = 205, 4b2a;1b3b')"
   ]
  },
  {
   "cell_type": "code",
   "execution_count": 254,
   "metadata": {},
   "outputs": [
    {
     "data": {
      "text/plain": [
       "'2.000000E-06\\n'"
      ]
     },
     "execution_count": 254,
     "metadata": {},
     "output_type": "execute_result"
    }
   ],
   "source": [
    "Isrc.ask_raw('CURR:RANG?')"
   ]
  },
  {
   "cell_type": "code",
   "execution_count": 256,
   "metadata": {},
   "outputs": [
    {
     "data": {
      "application/vnd.jupyter.widget-view+json": {
       "model_id": "",
       "version_major": 2,
       "version_minor": 0
      },
      "text/plain": [
       "HBox(children=(IntProgress(value=0, max=1603), HTML(value='')))"
      ]
     },
     "metadata": {},
     "output_type": "display_data"
    },
    {
     "name": "stdout",
     "output_type": "stream",
     "text": [
      "Starting experimental run with id: 1016\n"
     ]
    },
    {
     "data": {
      "text/plain": [
       "1016"
      ]
     },
     "execution_count": 256,
     "metadata": {},
     "output_type": "execute_result"
    }
   ],
   "source": [
    "B = 205e-6\n",
    "\n",
    "Bfield.set(B)\n",
    "jj.IVC_udu (amp = 2e-9, stp = 5e-12, dt = .1,  N_avg = 1, \n",
    "            label = '5f fine scan B = 205, 4b2a;1b3b')"
   ]
  },
  {
   "cell_type": "code",
   "execution_count": null,
   "metadata": {
    "scrolled": true
   },
   "outputs": [],
   "source": [
    "imin = .5e-12\n",
    "\n",
    "i_list =   np.concatenate ([np.linspace(0    , 35e-12, 21), \n",
    "                            np.linspace(12e-12, imin, 21),\n",
    "                            np.linspace(imin, 12e-12, 251),\n",
    "                            np.linspace(12e-12,  0e-12, 21)]) \n",
    "\n",
    "jj.IVC_cust ( i_list, Ioff = 0, dt = 0.1, N_avg = 1, label = 'B=0m intermid steps')"
   ]
  },
  {
   "cell_type": "markdown",
   "metadata": {},
   "source": [
    "### Ic meas"
   ]
  },
  {
   "cell_type": "code",
   "execution_count": 572,
   "metadata": {},
   "outputs": [
    {
     "data": {
      "application/vnd.jupyter.widget-view+json": {
       "model_id": "",
       "version_major": 2,
       "version_minor": 0
      },
      "text/plain": [
       "HBox(children=(IntProgress(value=0, max=101), HTML(value='')))"
      ]
     },
     "metadata": {},
     "output_type": "display_data"
    },
    {
     "name": "stdout",
     "output_type": "stream",
     "text": [
      "Starting experimental run with id: 1185\n"
     ]
    },
    {
     "data": {
      "text/plain": [
       "1185"
      ]
     },
     "execution_count": 572,
     "metadata": {},
     "output_type": "execute_result"
    }
   ],
   "source": [
    "B = 0e-6\n",
    "Bfield.set(B)\n",
    "\n",
    "i_list = np.linspace(0, 200e-12, 101)\n",
    "\n",
    "jj.IVC_cust (i_list, Vthr = 30e-6, dt = 0.1,\n",
    "             N_avg = 1, label = 'Kei Ic highRb RT cos = 1')"
   ]
  },
  {
   "cell_type": "markdown",
   "metadata": {},
   "source": [
    "### Time scan"
   ]
  },
  {
   "cell_type": "code",
   "execution_count": 513,
   "metadata": {},
   "outputs": [
    {
     "data": {
      "application/vnd.jupyter.widget-view+json": {
       "model_id": "fbe83d9f1589443081ea8466a47c78fd",
       "version_major": 2,
       "version_minor": 0
      },
      "text/plain": [
       "HBox(children=(IntProgress(value=0, max=300), HTML(value='')))"
      ]
     },
     "metadata": {},
     "output_type": "display_data"
    },
    {
     "name": "stdout",
     "output_type": "stream",
     "text": [
      "Starting experimental run with id: 1093\n",
      "\n"
     ]
    },
    {
     "data": {
      "text/plain": [
       "1093"
      ]
     },
     "execution_count": 513,
     "metadata": {},
     "output_type": "execute_result"
    }
   ],
   "source": [
    "# Bfield.set(0e-3)\n",
    "jj.time_scan ( tools['I'], dur = 30, dt= 0.1)"
   ]
  },
  {
   "cell_type": "code",
   "execution_count": null,
   "metadata": {
    "scrolled": true
   },
   "outputs": [],
   "source": [
    "B_list = np.linspace(0e-3, .3e-3, 51)\n",
    "\n",
    "[            jj.time_scan ( tools['V'], dur = 1, dt= 0.01)\n",
    "for jj in    jj.Bscan( B_list = B_list )]"
   ]
  },
  {
   "cell_type": "markdown",
   "metadata": {},
   "source": [
    "### IVC B"
   ]
  },
  {
   "cell_type": "code",
   "execution_count": 272,
   "metadata": {},
   "outputs": [],
   "source": [
    "jj.stabilize_I( amp = 1e-9)"
   ]
  },
  {
   "cell_type": "markdown",
   "metadata": {},
   "source": [
    "#### New syntaxis to try"
   ]
  },
  {
   "cell_type": "code",
   "execution_count": null,
   "metadata": {
    "scrolled": true
   },
   "outputs": [],
   "source": [
    "\n",
    "cos_list = np.linspace(0.12, 0.22, 11)\n",
    "B_list = np.linspace(230e-6, 220e-6, 21)\n",
    "\n",
    "\n",
    "Isrc.write_raw('SOUR:CURR:RANG 20e-6')\n",
    "\n",
    "\n",
    "[            jj.IVC_udu (amp = .3e-9, stp = 10e-12, dt = .1,\n",
    "                         N_avg = 1, label = ' 5b look for N')\n",
    "for jj in    jj.Bscan( B_list = B_list )]\n",
    "\n",
    "\n",
    "# Bfield.set(0)\n"
   ]
  },
  {
   "cell_type": "code",
   "execution_count": null,
   "metadata": {
    "scrolled": true
   },
   "outputs": [],
   "source": [
    "\n",
    "cos_list = np.linspace(0.12, 0.22, 11)\n",
    "B_list = np.linspace(230e-6, 220e-6, 21)\n",
    "\n",
    "\n",
    "# Isrc.write_raw('SOUR:CURR:RANG 1e-7')\n",
    "\n",
    "\n",
    "[            jj.IVC_udu (amp = .3e-9, stp = 10e-12, dt = .1,\n",
    "                         N_avg = 1, label = ' 5c look for N')\n",
    "for jj in    jj.Bscan( B_list = B_list )]\n",
    "\n",
    "\n",
    "# Bfield.set(0)\n"
   ]
  },
  {
   "cell_type": "code",
   "execution_count": null,
   "metadata": {
    "scrolled": true
   },
   "outputs": [],
   "source": [
    "\n",
    "B_list = [0]*100\n",
    "\n",
    "Isrc.write_raw('SOUR:CURR:RANG 1e-4')\n",
    "\n",
    "\n",
    "[            jj.IVC_udu (amp = 200e-9, stp = 2e-9, dt = .1,  N_avg = 1, \n",
    "            label = '5b-5f repeatative scan')\n",
    "for jj in    jj.Bscan( B_list = B_list )]\n",
    "\n",
    "\n",
    "# Bfield.set(0)\n"
   ]
  },
  {
   "cell_type": "markdown",
   "metadata": {},
   "source": [
    "#### Ic(B)"
   ]
  },
  {
   "cell_type": "code",
   "execution_count": null,
   "metadata": {
    "scrolled": true
   },
   "outputs": [],
   "source": [
    "i_list = np.linspace(0, 1e-9, 501)\n",
    "\n",
    "cos_list = np.linspace(0.12, 0.22, 11)\n",
    "\n",
    "Isrc.write_raw('SOUR:CURR:RANG 1e-7')\n",
    "\n",
    "\n",
    "\n",
    "[            jj.IVC_cust ( i_list, Vthr = 10e-6, dt = 0.1, N_avg = 1, label = '5d fine Ic(B)')\n",
    "for jj in    jj.Bscan( cos_list = cos_list )]\n",
    "\n"
   ]
  },
  {
   "cell_type": "code",
   "execution_count": null,
   "metadata": {
    "scrolled": true
   },
   "outputs": [],
   "source": [
    "i_list = np.linspace(0, 10e-9, 501)\n",
    "\n",
    "cos_list = np.linspace(0.23, 0.43, 21)\n",
    "\n",
    "Isrc.write_raw('SOUR:CURR:RANG 1e-6')\n",
    "\n",
    "\n",
    "\n",
    "[            jj.IVC_cust ( i_list, Vthr = 10e-6, dt = 0.1, N_avg = 1, label = '5d fine Ic(B)')\n",
    "for jj in    jj.Bscan( cos_list = cos_list )]\n",
    "\n"
   ]
  },
  {
   "cell_type": "code",
   "execution_count": null,
   "metadata": {
    "scrolled": true
   },
   "outputs": [],
   "source": [
    "i_list = np.linspace(0, 200e-9, 201)\n",
    "\n",
    "# cos_list = np.linspace(0.44, 1, 57)\n",
    "B_list = np.linspace(-1000e-6, 1000e-6, 51)\n",
    "\n",
    "Isrc.write_raw('SOUR:CURR:RANG 1e-4')\n",
    "\n",
    "\n",
    "\n",
    "[            jj.IVC_cust ( i_list, Vthr = 10e-6, dt = 0.1, N_avg = 1, label = ' 5b coarse Ic(B)')\n",
    "for jj in    jj.Bscan( B_list = B_list )]\n",
    "\n"
   ]
  },
  {
   "cell_type": "markdown",
   "metadata": {},
   "source": [
    "#### saving Isw(B)"
   ]
  },
  {
   "cell_type": "code",
   "execution_count": 22,
   "metadata": {},
   "outputs": [],
   "source": [
    "Isw_param = Parameter(name = 'Isw', label = 'Switching current',\n",
    "                      unit = 'A') \n",
    "\n",
    "cos_param = Parameter(name = 'cos', label = 'cos',\n",
    "                      unit = '')\n",
    "\n",
    "Ej_param = Parameter(name = 'Ej', label = 'Ej',\n",
    "                      unit = 'K')\n",
    "\n",
    "B_param = Parameter(name = 'Bfield', label = 'Bfield',\n",
    "                      unit = 'A')"
   ]
  },
  {
   "cell_type": "code",
   "execution_count": 23,
   "metadata": {},
   "outputs": [
    {
     "name": "stderr",
     "output_type": "stream",
     "text": [
      "..\\..\\_jjtools\\JJ_data_processing.py:276: RuntimeWarning: invalid value encountered in less\n",
      "  ind1 = np.where(np.abs(vA0) < dx )\n",
      "C:\\Users\\KelvinOX25\\Anaconda3\\lib\\site-packages\\numpy\\core\\fromnumeric.py:3118: RuntimeWarning: Mean of empty slice.\n",
      "  out=out, **kwargs)\n",
      "C:\\Users\\KelvinOX25\\Anaconda3\\lib\\site-packages\\numpy\\core\\_methods.py:85: RuntimeWarning: invalid value encountered in double_scalars\n",
      "  ret = ret.dtype.type(ret / rcount)\n"
     ]
    },
    {
     "data": {
      "application/javascript": [
       "/* Put everything inside the global mpl namespace */\n",
       "window.mpl = {};\n",
       "\n",
       "\n",
       "mpl.get_websocket_type = function() {\n",
       "    if (typeof(WebSocket) !== 'undefined') {\n",
       "        return WebSocket;\n",
       "    } else if (typeof(MozWebSocket) !== 'undefined') {\n",
       "        return MozWebSocket;\n",
       "    } else {\n",
       "        alert('Your browser does not have WebSocket support. ' +\n",
       "              'Please try Chrome, Safari or Firefox ≥ 6. ' +\n",
       "              'Firefox 4 and 5 are also supported but you ' +\n",
       "              'have to enable WebSockets in about:config.');\n",
       "    };\n",
       "}\n",
       "\n",
       "mpl.figure = function(figure_id, websocket, ondownload, parent_element) {\n",
       "    this.id = figure_id;\n",
       "\n",
       "    this.ws = websocket;\n",
       "\n",
       "    this.supports_binary = (this.ws.binaryType != undefined);\n",
       "\n",
       "    if (!this.supports_binary) {\n",
       "        var warnings = document.getElementById(\"mpl-warnings\");\n",
       "        if (warnings) {\n",
       "            warnings.style.display = 'block';\n",
       "            warnings.textContent = (\n",
       "                \"This browser does not support binary websocket messages. \" +\n",
       "                    \"Performance may be slow.\");\n",
       "        }\n",
       "    }\n",
       "\n",
       "    this.imageObj = new Image();\n",
       "\n",
       "    this.context = undefined;\n",
       "    this.message = undefined;\n",
       "    this.canvas = undefined;\n",
       "    this.rubberband_canvas = undefined;\n",
       "    this.rubberband_context = undefined;\n",
       "    this.format_dropdown = undefined;\n",
       "\n",
       "    this.image_mode = 'full';\n",
       "\n",
       "    this.root = $('<div/>');\n",
       "    this._root_extra_style(this.root)\n",
       "    this.root.attr('style', 'display: inline-block');\n",
       "\n",
       "    $(parent_element).append(this.root);\n",
       "\n",
       "    this._init_header(this);\n",
       "    this._init_canvas(this);\n",
       "    this._init_toolbar(this);\n",
       "\n",
       "    var fig = this;\n",
       "\n",
       "    this.waiting = false;\n",
       "\n",
       "    this.ws.onopen =  function () {\n",
       "            fig.send_message(\"supports_binary\", {value: fig.supports_binary});\n",
       "            fig.send_message(\"send_image_mode\", {});\n",
       "            if (mpl.ratio != 1) {\n",
       "                fig.send_message(\"set_dpi_ratio\", {'dpi_ratio': mpl.ratio});\n",
       "            }\n",
       "            fig.send_message(\"refresh\", {});\n",
       "        }\n",
       "\n",
       "    this.imageObj.onload = function() {\n",
       "            if (fig.image_mode == 'full') {\n",
       "                // Full images could contain transparency (where diff images\n",
       "                // almost always do), so we need to clear the canvas so that\n",
       "                // there is no ghosting.\n",
       "                fig.context.clearRect(0, 0, fig.canvas.width, fig.canvas.height);\n",
       "            }\n",
       "            fig.context.drawImage(fig.imageObj, 0, 0);\n",
       "        };\n",
       "\n",
       "    this.imageObj.onunload = function() {\n",
       "        fig.ws.close();\n",
       "    }\n",
       "\n",
       "    this.ws.onmessage = this._make_on_message_function(this);\n",
       "\n",
       "    this.ondownload = ondownload;\n",
       "}\n",
       "\n",
       "mpl.figure.prototype._init_header = function() {\n",
       "    var titlebar = $(\n",
       "        '<div class=\"ui-dialog-titlebar ui-widget-header ui-corner-all ' +\n",
       "        'ui-helper-clearfix\"/>');\n",
       "    var titletext = $(\n",
       "        '<div class=\"ui-dialog-title\" style=\"width: 100%; ' +\n",
       "        'text-align: center; padding: 3px;\"/>');\n",
       "    titlebar.append(titletext)\n",
       "    this.root.append(titlebar);\n",
       "    this.header = titletext[0];\n",
       "}\n",
       "\n",
       "\n",
       "\n",
       "mpl.figure.prototype._canvas_extra_style = function(canvas_div) {\n",
       "\n",
       "}\n",
       "\n",
       "\n",
       "mpl.figure.prototype._root_extra_style = function(canvas_div) {\n",
       "\n",
       "}\n",
       "\n",
       "mpl.figure.prototype._init_canvas = function() {\n",
       "    var fig = this;\n",
       "\n",
       "    var canvas_div = $('<div/>');\n",
       "\n",
       "    canvas_div.attr('style', 'position: relative; clear: both; outline: 0');\n",
       "\n",
       "    function canvas_keyboard_event(event) {\n",
       "        return fig.key_event(event, event['data']);\n",
       "    }\n",
       "\n",
       "    canvas_div.keydown('key_press', canvas_keyboard_event);\n",
       "    canvas_div.keyup('key_release', canvas_keyboard_event);\n",
       "    this.canvas_div = canvas_div\n",
       "    this._canvas_extra_style(canvas_div)\n",
       "    this.root.append(canvas_div);\n",
       "\n",
       "    var canvas = $('<canvas/>');\n",
       "    canvas.addClass('mpl-canvas');\n",
       "    canvas.attr('style', \"left: 0; top: 0; z-index: 0; outline: 0\")\n",
       "\n",
       "    this.canvas = canvas[0];\n",
       "    this.context = canvas[0].getContext(\"2d\");\n",
       "\n",
       "    var backingStore = this.context.backingStorePixelRatio ||\n",
       "\tthis.context.webkitBackingStorePixelRatio ||\n",
       "\tthis.context.mozBackingStorePixelRatio ||\n",
       "\tthis.context.msBackingStorePixelRatio ||\n",
       "\tthis.context.oBackingStorePixelRatio ||\n",
       "\tthis.context.backingStorePixelRatio || 1;\n",
       "\n",
       "    mpl.ratio = (window.devicePixelRatio || 1) / backingStore;\n",
       "\n",
       "    var rubberband = $('<canvas/>');\n",
       "    rubberband.attr('style', \"position: absolute; left: 0; top: 0; z-index: 1;\")\n",
       "\n",
       "    var pass_mouse_events = true;\n",
       "\n",
       "    canvas_div.resizable({\n",
       "        start: function(event, ui) {\n",
       "            pass_mouse_events = false;\n",
       "        },\n",
       "        resize: function(event, ui) {\n",
       "            fig.request_resize(ui.size.width, ui.size.height);\n",
       "        },\n",
       "        stop: function(event, ui) {\n",
       "            pass_mouse_events = true;\n",
       "            fig.request_resize(ui.size.width, ui.size.height);\n",
       "        },\n",
       "    });\n",
       "\n",
       "    function mouse_event_fn(event) {\n",
       "        if (pass_mouse_events)\n",
       "            return fig.mouse_event(event, event['data']);\n",
       "    }\n",
       "\n",
       "    rubberband.mousedown('button_press', mouse_event_fn);\n",
       "    rubberband.mouseup('button_release', mouse_event_fn);\n",
       "    // Throttle sequential mouse events to 1 every 20ms.\n",
       "    rubberband.mousemove('motion_notify', mouse_event_fn);\n",
       "\n",
       "    rubberband.mouseenter('figure_enter', mouse_event_fn);\n",
       "    rubberband.mouseleave('figure_leave', mouse_event_fn);\n",
       "\n",
       "    canvas_div.on(\"wheel\", function (event) {\n",
       "        event = event.originalEvent;\n",
       "        event['data'] = 'scroll'\n",
       "        if (event.deltaY < 0) {\n",
       "            event.step = 1;\n",
       "        } else {\n",
       "            event.step = -1;\n",
       "        }\n",
       "        mouse_event_fn(event);\n",
       "    });\n",
       "\n",
       "    canvas_div.append(canvas);\n",
       "    canvas_div.append(rubberband);\n",
       "\n",
       "    this.rubberband = rubberband;\n",
       "    this.rubberband_canvas = rubberband[0];\n",
       "    this.rubberband_context = rubberband[0].getContext(\"2d\");\n",
       "    this.rubberband_context.strokeStyle = \"#000000\";\n",
       "\n",
       "    this._resize_canvas = function(width, height) {\n",
       "        // Keep the size of the canvas, canvas container, and rubber band\n",
       "        // canvas in synch.\n",
       "        canvas_div.css('width', width)\n",
       "        canvas_div.css('height', height)\n",
       "\n",
       "        canvas.attr('width', width * mpl.ratio);\n",
       "        canvas.attr('height', height * mpl.ratio);\n",
       "        canvas.attr('style', 'width: ' + width + 'px; height: ' + height + 'px;');\n",
       "\n",
       "        rubberband.attr('width', width);\n",
       "        rubberband.attr('height', height);\n",
       "    }\n",
       "\n",
       "    // Set the figure to an initial 600x600px, this will subsequently be updated\n",
       "    // upon first draw.\n",
       "    this._resize_canvas(600, 600);\n",
       "\n",
       "    // Disable right mouse context menu.\n",
       "    $(this.rubberband_canvas).bind(\"contextmenu\",function(e){\n",
       "        return false;\n",
       "    });\n",
       "\n",
       "    function set_focus () {\n",
       "        canvas.focus();\n",
       "        canvas_div.focus();\n",
       "    }\n",
       "\n",
       "    window.setTimeout(set_focus, 100);\n",
       "}\n",
       "\n",
       "mpl.figure.prototype._init_toolbar = function() {\n",
       "    var fig = this;\n",
       "\n",
       "    var nav_element = $('<div/>');\n",
       "    nav_element.attr('style', 'width: 100%');\n",
       "    this.root.append(nav_element);\n",
       "\n",
       "    // Define a callback function for later on.\n",
       "    function toolbar_event(event) {\n",
       "        return fig.toolbar_button_onclick(event['data']);\n",
       "    }\n",
       "    function toolbar_mouse_event(event) {\n",
       "        return fig.toolbar_button_onmouseover(event['data']);\n",
       "    }\n",
       "\n",
       "    for(var toolbar_ind in mpl.toolbar_items) {\n",
       "        var name = mpl.toolbar_items[toolbar_ind][0];\n",
       "        var tooltip = mpl.toolbar_items[toolbar_ind][1];\n",
       "        var image = mpl.toolbar_items[toolbar_ind][2];\n",
       "        var method_name = mpl.toolbar_items[toolbar_ind][3];\n",
       "\n",
       "        if (!name) {\n",
       "            // put a spacer in here.\n",
       "            continue;\n",
       "        }\n",
       "        var button = $('<button/>');\n",
       "        button.addClass('ui-button ui-widget ui-state-default ui-corner-all ' +\n",
       "                        'ui-button-icon-only');\n",
       "        button.attr('role', 'button');\n",
       "        button.attr('aria-disabled', 'false');\n",
       "        button.click(method_name, toolbar_event);\n",
       "        button.mouseover(tooltip, toolbar_mouse_event);\n",
       "\n",
       "        var icon_img = $('<span/>');\n",
       "        icon_img.addClass('ui-button-icon-primary ui-icon');\n",
       "        icon_img.addClass(image);\n",
       "        icon_img.addClass('ui-corner-all');\n",
       "\n",
       "        var tooltip_span = $('<span/>');\n",
       "        tooltip_span.addClass('ui-button-text');\n",
       "        tooltip_span.html(tooltip);\n",
       "\n",
       "        button.append(icon_img);\n",
       "        button.append(tooltip_span);\n",
       "\n",
       "        nav_element.append(button);\n",
       "    }\n",
       "\n",
       "    var fmt_picker_span = $('<span/>');\n",
       "\n",
       "    var fmt_picker = $('<select/>');\n",
       "    fmt_picker.addClass('mpl-toolbar-option ui-widget ui-widget-content');\n",
       "    fmt_picker_span.append(fmt_picker);\n",
       "    nav_element.append(fmt_picker_span);\n",
       "    this.format_dropdown = fmt_picker[0];\n",
       "\n",
       "    for (var ind in mpl.extensions) {\n",
       "        var fmt = mpl.extensions[ind];\n",
       "        var option = $(\n",
       "            '<option/>', {selected: fmt === mpl.default_extension}).html(fmt);\n",
       "        fmt_picker.append(option);\n",
       "    }\n",
       "\n",
       "    // Add hover states to the ui-buttons\n",
       "    $( \".ui-button\" ).hover(\n",
       "        function() { $(this).addClass(\"ui-state-hover\");},\n",
       "        function() { $(this).removeClass(\"ui-state-hover\");}\n",
       "    );\n",
       "\n",
       "    var status_bar = $('<span class=\"mpl-message\"/>');\n",
       "    nav_element.append(status_bar);\n",
       "    this.message = status_bar[0];\n",
       "}\n",
       "\n",
       "mpl.figure.prototype.request_resize = function(x_pixels, y_pixels) {\n",
       "    // Request matplotlib to resize the figure. Matplotlib will then trigger a resize in the client,\n",
       "    // which will in turn request a refresh of the image.\n",
       "    this.send_message('resize', {'width': x_pixels, 'height': y_pixels});\n",
       "}\n",
       "\n",
       "mpl.figure.prototype.send_message = function(type, properties) {\n",
       "    properties['type'] = type;\n",
       "    properties['figure_id'] = this.id;\n",
       "    this.ws.send(JSON.stringify(properties));\n",
       "}\n",
       "\n",
       "mpl.figure.prototype.send_draw_message = function() {\n",
       "    if (!this.waiting) {\n",
       "        this.waiting = true;\n",
       "        this.ws.send(JSON.stringify({type: \"draw\", figure_id: this.id}));\n",
       "    }\n",
       "}\n",
       "\n",
       "\n",
       "mpl.figure.prototype.handle_save = function(fig, msg) {\n",
       "    var format_dropdown = fig.format_dropdown;\n",
       "    var format = format_dropdown.options[format_dropdown.selectedIndex].value;\n",
       "    fig.ondownload(fig, format);\n",
       "}\n",
       "\n",
       "\n",
       "mpl.figure.prototype.handle_resize = function(fig, msg) {\n",
       "    var size = msg['size'];\n",
       "    if (size[0] != fig.canvas.width || size[1] != fig.canvas.height) {\n",
       "        fig._resize_canvas(size[0], size[1]);\n",
       "        fig.send_message(\"refresh\", {});\n",
       "    };\n",
       "}\n",
       "\n",
       "mpl.figure.prototype.handle_rubberband = function(fig, msg) {\n",
       "    var x0 = msg['x0'] / mpl.ratio;\n",
       "    var y0 = (fig.canvas.height - msg['y0']) / mpl.ratio;\n",
       "    var x1 = msg['x1'] / mpl.ratio;\n",
       "    var y1 = (fig.canvas.height - msg['y1']) / mpl.ratio;\n",
       "    x0 = Math.floor(x0) + 0.5;\n",
       "    y0 = Math.floor(y0) + 0.5;\n",
       "    x1 = Math.floor(x1) + 0.5;\n",
       "    y1 = Math.floor(y1) + 0.5;\n",
       "    var min_x = Math.min(x0, x1);\n",
       "    var min_y = Math.min(y0, y1);\n",
       "    var width = Math.abs(x1 - x0);\n",
       "    var height = Math.abs(y1 - y0);\n",
       "\n",
       "    fig.rubberband_context.clearRect(\n",
       "        0, 0, fig.canvas.width / mpl.ratio, fig.canvas.height / mpl.ratio);\n",
       "\n",
       "    fig.rubberband_context.strokeRect(min_x, min_y, width, height);\n",
       "}\n",
       "\n",
       "mpl.figure.prototype.handle_figure_label = function(fig, msg) {\n",
       "    // Updates the figure title.\n",
       "    fig.header.textContent = msg['label'];\n",
       "}\n",
       "\n",
       "mpl.figure.prototype.handle_cursor = function(fig, msg) {\n",
       "    var cursor = msg['cursor'];\n",
       "    switch(cursor)\n",
       "    {\n",
       "    case 0:\n",
       "        cursor = 'pointer';\n",
       "        break;\n",
       "    case 1:\n",
       "        cursor = 'default';\n",
       "        break;\n",
       "    case 2:\n",
       "        cursor = 'crosshair';\n",
       "        break;\n",
       "    case 3:\n",
       "        cursor = 'move';\n",
       "        break;\n",
       "    }\n",
       "    fig.rubberband_canvas.style.cursor = cursor;\n",
       "}\n",
       "\n",
       "mpl.figure.prototype.handle_message = function(fig, msg) {\n",
       "    fig.message.textContent = msg['message'];\n",
       "}\n",
       "\n",
       "mpl.figure.prototype.handle_draw = function(fig, msg) {\n",
       "    // Request the server to send over a new figure.\n",
       "    fig.send_draw_message();\n",
       "}\n",
       "\n",
       "mpl.figure.prototype.handle_image_mode = function(fig, msg) {\n",
       "    fig.image_mode = msg['mode'];\n",
       "}\n",
       "\n",
       "mpl.figure.prototype.updated_canvas_event = function() {\n",
       "    // Called whenever the canvas gets updated.\n",
       "    this.send_message(\"ack\", {});\n",
       "}\n",
       "\n",
       "// A function to construct a web socket function for onmessage handling.\n",
       "// Called in the figure constructor.\n",
       "mpl.figure.prototype._make_on_message_function = function(fig) {\n",
       "    return function socket_on_message(evt) {\n",
       "        if (evt.data instanceof Blob) {\n",
       "            /* FIXME: We get \"Resource interpreted as Image but\n",
       "             * transferred with MIME type text/plain:\" errors on\n",
       "             * Chrome.  But how to set the MIME type?  It doesn't seem\n",
       "             * to be part of the websocket stream */\n",
       "            evt.data.type = \"image/png\";\n",
       "\n",
       "            /* Free the memory for the previous frames */\n",
       "            if (fig.imageObj.src) {\n",
       "                (window.URL || window.webkitURL).revokeObjectURL(\n",
       "                    fig.imageObj.src);\n",
       "            }\n",
       "\n",
       "            fig.imageObj.src = (window.URL || window.webkitURL).createObjectURL(\n",
       "                evt.data);\n",
       "            fig.updated_canvas_event();\n",
       "            fig.waiting = false;\n",
       "            return;\n",
       "        }\n",
       "        else if (typeof evt.data === 'string' && evt.data.slice(0, 21) == \"data:image/png;base64\") {\n",
       "            fig.imageObj.src = evt.data;\n",
       "            fig.updated_canvas_event();\n",
       "            fig.waiting = false;\n",
       "            return;\n",
       "        }\n",
       "\n",
       "        var msg = JSON.parse(evt.data);\n",
       "        var msg_type = msg['type'];\n",
       "\n",
       "        // Call the  \"handle_{type}\" callback, which takes\n",
       "        // the figure and JSON message as its only arguments.\n",
       "        try {\n",
       "            var callback = fig[\"handle_\" + msg_type];\n",
       "        } catch (e) {\n",
       "            console.log(\"No handler for the '\" + msg_type + \"' message type: \", msg);\n",
       "            return;\n",
       "        }\n",
       "\n",
       "        if (callback) {\n",
       "            try {\n",
       "                // console.log(\"Handling '\" + msg_type + \"' message: \", msg);\n",
       "                callback(fig, msg);\n",
       "            } catch (e) {\n",
       "                console.log(\"Exception inside the 'handler_\" + msg_type + \"' callback:\", e, e.stack, msg);\n",
       "            }\n",
       "        }\n",
       "    };\n",
       "}\n",
       "\n",
       "// from http://stackoverflow.com/questions/1114465/getting-mouse-location-in-canvas\n",
       "mpl.findpos = function(e) {\n",
       "    //this section is from http://www.quirksmode.org/js/events_properties.html\n",
       "    var targ;\n",
       "    if (!e)\n",
       "        e = window.event;\n",
       "    if (e.target)\n",
       "        targ = e.target;\n",
       "    else if (e.srcElement)\n",
       "        targ = e.srcElement;\n",
       "    if (targ.nodeType == 3) // defeat Safari bug\n",
       "        targ = targ.parentNode;\n",
       "\n",
       "    // jQuery normalizes the pageX and pageY\n",
       "    // pageX,Y are the mouse positions relative to the document\n",
       "    // offset() returns the position of the element relative to the document\n",
       "    var x = e.pageX - $(targ).offset().left;\n",
       "    var y = e.pageY - $(targ).offset().top;\n",
       "\n",
       "    return {\"x\": x, \"y\": y};\n",
       "};\n",
       "\n",
       "/*\n",
       " * return a copy of an object with only non-object keys\n",
       " * we need this to avoid circular references\n",
       " * http://stackoverflow.com/a/24161582/3208463\n",
       " */\n",
       "function simpleKeys (original) {\n",
       "  return Object.keys(original).reduce(function (obj, key) {\n",
       "    if (typeof original[key] !== 'object')\n",
       "        obj[key] = original[key]\n",
       "    return obj;\n",
       "  }, {});\n",
       "}\n",
       "\n",
       "mpl.figure.prototype.mouse_event = function(event, name) {\n",
       "    var canvas_pos = mpl.findpos(event)\n",
       "\n",
       "    if (name === 'button_press')\n",
       "    {\n",
       "        this.canvas.focus();\n",
       "        this.canvas_div.focus();\n",
       "    }\n",
       "\n",
       "    var x = canvas_pos.x * mpl.ratio;\n",
       "    var y = canvas_pos.y * mpl.ratio;\n",
       "\n",
       "    this.send_message(name, {x: x, y: y, button: event.button,\n",
       "                             step: event.step,\n",
       "                             guiEvent: simpleKeys(event)});\n",
       "\n",
       "    /* This prevents the web browser from automatically changing to\n",
       "     * the text insertion cursor when the button is pressed.  We want\n",
       "     * to control all of the cursor setting manually through the\n",
       "     * 'cursor' event from matplotlib */\n",
       "    event.preventDefault();\n",
       "    return false;\n",
       "}\n",
       "\n",
       "mpl.figure.prototype._key_event_extra = function(event, name) {\n",
       "    // Handle any extra behaviour associated with a key event\n",
       "}\n",
       "\n",
       "mpl.figure.prototype.key_event = function(event, name) {\n",
       "\n",
       "    // Prevent repeat events\n",
       "    if (name == 'key_press')\n",
       "    {\n",
       "        if (event.which === this._key)\n",
       "            return;\n",
       "        else\n",
       "            this._key = event.which;\n",
       "    }\n",
       "    if (name == 'key_release')\n",
       "        this._key = null;\n",
       "\n",
       "    var value = '';\n",
       "    if (event.ctrlKey && event.which != 17)\n",
       "        value += \"ctrl+\";\n",
       "    if (event.altKey && event.which != 18)\n",
       "        value += \"alt+\";\n",
       "    if (event.shiftKey && event.which != 16)\n",
       "        value += \"shift+\";\n",
       "\n",
       "    value += 'k';\n",
       "    value += event.which.toString();\n",
       "\n",
       "    this._key_event_extra(event, name);\n",
       "\n",
       "    this.send_message(name, {key: value,\n",
       "                             guiEvent: simpleKeys(event)});\n",
       "    return false;\n",
       "}\n",
       "\n",
       "mpl.figure.prototype.toolbar_button_onclick = function(name) {\n",
       "    if (name == 'download') {\n",
       "        this.handle_save(this, null);\n",
       "    } else {\n",
       "        this.send_message(\"toolbar_button\", {name: name});\n",
       "    }\n",
       "};\n",
       "\n",
       "mpl.figure.prototype.toolbar_button_onmouseover = function(tooltip) {\n",
       "    this.message.textContent = tooltip;\n",
       "};\n",
       "mpl.toolbar_items = [[\"Home\", \"Reset original view\", \"fa fa-home icon-home\", \"home\"], [\"Back\", \"Back to previous view\", \"fa fa-arrow-left icon-arrow-left\", \"back\"], [\"Forward\", \"Forward to next view\", \"fa fa-arrow-right icon-arrow-right\", \"forward\"], [\"\", \"\", \"\", \"\"], [\"Pan\", \"Pan axes with left mouse, zoom with right\", \"fa fa-arrows icon-move\", \"pan\"], [\"Zoom\", \"Zoom to rectangle\", \"fa fa-square-o icon-check-empty\", \"zoom\"], [\"\", \"\", \"\", \"\"], [\"Download\", \"Download plot\", \"fa fa-floppy-o icon-save\", \"download\"]];\n",
       "\n",
       "mpl.extensions = [\"eps\", \"jpeg\", \"pdf\", \"png\", \"ps\", \"raw\", \"svg\", \"tif\"];\n",
       "\n",
       "mpl.default_extension = \"png\";var comm_websocket_adapter = function(comm) {\n",
       "    // Create a \"websocket\"-like object which calls the given IPython comm\n",
       "    // object with the appropriate methods. Currently this is a non binary\n",
       "    // socket, so there is still some room for performance tuning.\n",
       "    var ws = {};\n",
       "\n",
       "    ws.close = function() {\n",
       "        comm.close()\n",
       "    };\n",
       "    ws.send = function(m) {\n",
       "        //console.log('sending', m);\n",
       "        comm.send(m);\n",
       "    };\n",
       "    // Register the callback with on_msg.\n",
       "    comm.on_msg(function(msg) {\n",
       "        //console.log('receiving', msg['content']['data'], msg);\n",
       "        // Pass the mpl event to the overridden (by mpl) onmessage function.\n",
       "        ws.onmessage(msg['content']['data'])\n",
       "    });\n",
       "    return ws;\n",
       "}\n",
       "\n",
       "mpl.mpl_figure_comm = function(comm, msg) {\n",
       "    // This is the function which gets called when the mpl process\n",
       "    // starts-up an IPython Comm through the \"matplotlib\" channel.\n",
       "\n",
       "    var id = msg.content.data.id;\n",
       "    // Get hold of the div created by the display call when the Comm\n",
       "    // socket was opened in Python.\n",
       "    var element = $(\"#\" + id);\n",
       "    var ws_proxy = comm_websocket_adapter(comm)\n",
       "\n",
       "    function ondownload(figure, format) {\n",
       "        window.open(figure.imageObj.src);\n",
       "    }\n",
       "\n",
       "    var fig = new mpl.figure(id, ws_proxy,\n",
       "                           ondownload,\n",
       "                           element.get(0));\n",
       "\n",
       "    // Call onopen now - mpl needs it, as it is assuming we've passed it a real\n",
       "    // web socket which is closed, not our websocket->open comm proxy.\n",
       "    ws_proxy.onopen();\n",
       "\n",
       "    fig.parent_element = element.get(0);\n",
       "    fig.cell_info = mpl.find_output_cell(\"<div id='\" + id + \"'></div>\");\n",
       "    if (!fig.cell_info) {\n",
       "        console.error(\"Failed to find cell for figure\", id, fig);\n",
       "        return;\n",
       "    }\n",
       "\n",
       "    var output_index = fig.cell_info[2]\n",
       "    var cell = fig.cell_info[0];\n",
       "\n",
       "};\n",
       "\n",
       "mpl.figure.prototype.handle_close = function(fig, msg) {\n",
       "    var width = fig.canvas.width/mpl.ratio\n",
       "    fig.root.unbind('remove')\n",
       "\n",
       "    // Update the output cell to use the data from the current canvas.\n",
       "    fig.push_to_output();\n",
       "    var dataURL = fig.canvas.toDataURL();\n",
       "    // Re-enable the keyboard manager in IPython - without this line, in FF,\n",
       "    // the notebook keyboard shortcuts fail.\n",
       "    IPython.keyboard_manager.enable()\n",
       "    $(fig.parent_element).html('<img src=\"' + dataURL + '\" width=\"' + width + '\">');\n",
       "    fig.close_ws(fig, msg);\n",
       "}\n",
       "\n",
       "mpl.figure.prototype.close_ws = function(fig, msg){\n",
       "    fig.send_message('closing', msg);\n",
       "    // fig.ws.close()\n",
       "}\n",
       "\n",
       "mpl.figure.prototype.push_to_output = function(remove_interactive) {\n",
       "    // Turn the data on the canvas into data in the output cell.\n",
       "    var width = this.canvas.width/mpl.ratio\n",
       "    var dataURL = this.canvas.toDataURL();\n",
       "    this.cell_info[1]['text/html'] = '<img src=\"' + dataURL + '\" width=\"' + width + '\">';\n",
       "}\n",
       "\n",
       "mpl.figure.prototype.updated_canvas_event = function() {\n",
       "    // Tell IPython that the notebook contents must change.\n",
       "    IPython.notebook.set_dirty(true);\n",
       "    this.send_message(\"ack\", {});\n",
       "    var fig = this;\n",
       "    // Wait a second, then push the new image to the DOM so\n",
       "    // that it is saved nicely (might be nice to debounce this).\n",
       "    setTimeout(function () { fig.push_to_output() }, 1000);\n",
       "}\n",
       "\n",
       "mpl.figure.prototype._init_toolbar = function() {\n",
       "    var fig = this;\n",
       "\n",
       "    var nav_element = $('<div/>');\n",
       "    nav_element.attr('style', 'width: 100%');\n",
       "    this.root.append(nav_element);\n",
       "\n",
       "    // Define a callback function for later on.\n",
       "    function toolbar_event(event) {\n",
       "        return fig.toolbar_button_onclick(event['data']);\n",
       "    }\n",
       "    function toolbar_mouse_event(event) {\n",
       "        return fig.toolbar_button_onmouseover(event['data']);\n",
       "    }\n",
       "\n",
       "    for(var toolbar_ind in mpl.toolbar_items){\n",
       "        var name = mpl.toolbar_items[toolbar_ind][0];\n",
       "        var tooltip = mpl.toolbar_items[toolbar_ind][1];\n",
       "        var image = mpl.toolbar_items[toolbar_ind][2];\n",
       "        var method_name = mpl.toolbar_items[toolbar_ind][3];\n",
       "\n",
       "        if (!name) { continue; };\n",
       "\n",
       "        var button = $('<button class=\"btn btn-default\" href=\"#\" title=\"' + name + '\"><i class=\"fa ' + image + ' fa-lg\"></i></button>');\n",
       "        button.click(method_name, toolbar_event);\n",
       "        button.mouseover(tooltip, toolbar_mouse_event);\n",
       "        nav_element.append(button);\n",
       "    }\n",
       "\n",
       "    // Add the status bar.\n",
       "    var status_bar = $('<span class=\"mpl-message\" style=\"text-align:right; float: right;\"/>');\n",
       "    nav_element.append(status_bar);\n",
       "    this.message = status_bar[0];\n",
       "\n",
       "    // Add the close button to the window.\n",
       "    var buttongrp = $('<div class=\"btn-group inline pull-right\"></div>');\n",
       "    var button = $('<button class=\"btn btn-mini btn-primary\" href=\"#\" title=\"Stop Interaction\"><i class=\"fa fa-power-off icon-remove icon-large\"></i></button>');\n",
       "    button.click(function (evt) { fig.handle_close(fig, {}); } );\n",
       "    button.mouseover('Stop Interaction', toolbar_mouse_event);\n",
       "    buttongrp.append(button);\n",
       "    var titlebar = this.root.find($('.ui-dialog-titlebar'));\n",
       "    titlebar.prepend(buttongrp);\n",
       "}\n",
       "\n",
       "mpl.figure.prototype._root_extra_style = function(el){\n",
       "    var fig = this\n",
       "    el.on(\"remove\", function(){\n",
       "\tfig.close_ws(fig, {});\n",
       "    });\n",
       "}\n",
       "\n",
       "mpl.figure.prototype._canvas_extra_style = function(el){\n",
       "    // this is important to make the div 'focusable\n",
       "    el.attr('tabindex', 0)\n",
       "    // reach out to IPython and tell the keyboard manager to turn it's self\n",
       "    // off when our div gets focus\n",
       "\n",
       "    // location in version 3\n",
       "    if (IPython.notebook.keyboard_manager) {\n",
       "        IPython.notebook.keyboard_manager.register_events(el);\n",
       "    }\n",
       "    else {\n",
       "        // location in version 2\n",
       "        IPython.keyboard_manager.register_events(el);\n",
       "    }\n",
       "\n",
       "}\n",
       "\n",
       "mpl.figure.prototype._key_event_extra = function(event, name) {\n",
       "    var manager = IPython.notebook.keyboard_manager;\n",
       "    if (!manager)\n",
       "        manager = IPython.keyboard_manager;\n",
       "\n",
       "    // Check for shift+enter\n",
       "    if (event.shiftKey && event.which == 13) {\n",
       "        this.canvas_div.blur();\n",
       "        // select the cell after this one\n",
       "        var index = IPython.notebook.find_cell_index(this.cell_info[0]);\n",
       "        IPython.notebook.select(index + 1);\n",
       "    }\n",
       "}\n",
       "\n",
       "mpl.figure.prototype.handle_save = function(fig, msg) {\n",
       "    fig.ondownload(fig, null);\n",
       "}\n",
       "\n",
       "\n",
       "mpl.find_output_cell = function(html_output) {\n",
       "    // Return the cell and output element which can be found *uniquely* in the notebook.\n",
       "    // Note - this is a bit hacky, but it is done because the \"notebook_saving.Notebook\"\n",
       "    // IPython event is triggered only after the cells have been serialised, which for\n",
       "    // our purposes (turning an active figure into a static one), is too late.\n",
       "    var cells = IPython.notebook.get_cells();\n",
       "    var ncells = cells.length;\n",
       "    for (var i=0; i<ncells; i++) {\n",
       "        var cell = cells[i];\n",
       "        if (cell.cell_type === 'code'){\n",
       "            for (var j=0; j<cell.output_area.outputs.length; j++) {\n",
       "                var data = cell.output_area.outputs[j];\n",
       "                if (data.data) {\n",
       "                    // IPython >= 3 moved mimebundle to data attribute of output\n",
       "                    data = data.data;\n",
       "                }\n",
       "                if (data['text/html'] == html_output) {\n",
       "                    return [cell, data, j];\n",
       "                }\n",
       "            }\n",
       "        }\n",
       "    }\n",
       "}\n",
       "\n",
       "// Register the function which deals with the matplotlib target/channel.\n",
       "// The kernel may be null if the page has been refreshed.\n",
       "if (IPython.notebook.kernel != null) {\n",
       "    IPython.notebook.kernel.comm_manager.register_target('matplotlib', mpl.mpl_figure_comm);\n",
       "}\n"
      ],
      "text/plain": [
       "<IPython.core.display.Javascript object>"
      ]
     },
     "metadata": {},
     "output_type": "display_data"
    },
    {
     "data": {
      "text/html": [
       "<img src=\"data:image/png;base64,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\" width=\"638.9999809563166\">"
      ],
      "text/plain": [
       "<IPython.core.display.HTML object>"
      ]
     },
     "metadata": {},
     "output_type": "display_data"
    },
    {
     "name": "stdout",
     "output_type": "stream",
     "text": [
      "Starting experimental run with id: 1525\n"
     ]
    },
    {
     "data": {
      "text/plain": [
       "1525"
      ]
     },
     "execution_count": 23,
     "metadata": {},
     "output_type": "execute_result"
    }
   ],
   "source": [
    "ids = range(1474, 1524+1)\n",
    "\n",
    "B_list = np.linspace(-1000e-6, 1000e-6, 51)\n",
    "\n",
    "Ics = jj.Isw_by_id(ids, fullIVC = True, dy = 10e-6)\n",
    "\n",
    "Ej0 = 5.8/6\n",
    "\n",
    "fig, ax = plt.subplots()\n",
    "# ax.plot(cos_list, Ics, 'o-')\n",
    "ax.plot(B_list, Ics, 'o-')\n",
    "\n",
    "\n",
    "jj.mock_meas((Isw_param , Ics), (B_param, B_list),\n",
    "             label = 'Isw vs B segs bf coarse scan')"
   ]
  },
  {
   "cell_type": "code",
   "execution_count": 205,
   "metadata": {},
   "outputs": [
    {
     "name": "stderr",
     "output_type": "stream",
     "text": [
      "..\\..\\_jjtools\\JJ_data_processing.py:276: RuntimeWarning: invalid value encountered in less\n",
      "  ind1 = np.where(np.abs(vA0) < dx )\n"
     ]
    },
    {
     "name": "stdout",
     "output_type": "stream",
     "text": [
      "no points in cut range\n"
     ]
    },
    {
     "name": "stderr",
     "output_type": "stream",
     "text": [
      "C:\\Users\\KelvinOX25\\Anaconda3\\lib\\site-packages\\numpy\\core\\fromnumeric.py:3118: RuntimeWarning: Mean of empty slice.\n",
      "  out=out, **kwargs)\n",
      "C:\\Users\\KelvinOX25\\Anaconda3\\lib\\site-packages\\numpy\\core\\_methods.py:85: RuntimeWarning: invalid value encountered in double_scalars\n",
      "  ret = ret.dtype.type(ret / rcount)\n"
     ]
    },
    {
     "data": {
      "application/javascript": [
       "/* Put everything inside the global mpl namespace */\n",
       "window.mpl = {};\n",
       "\n",
       "\n",
       "mpl.get_websocket_type = function() {\n",
       "    if (typeof(WebSocket) !== 'undefined') {\n",
       "        return WebSocket;\n",
       "    } else if (typeof(MozWebSocket) !== 'undefined') {\n",
       "        return MozWebSocket;\n",
       "    } else {\n",
       "        alert('Your browser does not have WebSocket support. ' +\n",
       "              'Please try Chrome, Safari or Firefox ≥ 6. ' +\n",
       "              'Firefox 4 and 5 are also supported but you ' +\n",
       "              'have to enable WebSockets in about:config.');\n",
       "    };\n",
       "}\n",
       "\n",
       "mpl.figure = function(figure_id, websocket, ondownload, parent_element) {\n",
       "    this.id = figure_id;\n",
       "\n",
       "    this.ws = websocket;\n",
       "\n",
       "    this.supports_binary = (this.ws.binaryType != undefined);\n",
       "\n",
       "    if (!this.supports_binary) {\n",
       "        var warnings = document.getElementById(\"mpl-warnings\");\n",
       "        if (warnings) {\n",
       "            warnings.style.display = 'block';\n",
       "            warnings.textContent = (\n",
       "                \"This browser does not support binary websocket messages. \" +\n",
       "                    \"Performance may be slow.\");\n",
       "        }\n",
       "    }\n",
       "\n",
       "    this.imageObj = new Image();\n",
       "\n",
       "    this.context = undefined;\n",
       "    this.message = undefined;\n",
       "    this.canvas = undefined;\n",
       "    this.rubberband_canvas = undefined;\n",
       "    this.rubberband_context = undefined;\n",
       "    this.format_dropdown = undefined;\n",
       "\n",
       "    this.image_mode = 'full';\n",
       "\n",
       "    this.root = $('<div/>');\n",
       "    this._root_extra_style(this.root)\n",
       "    this.root.attr('style', 'display: inline-block');\n",
       "\n",
       "    $(parent_element).append(this.root);\n",
       "\n",
       "    this._init_header(this);\n",
       "    this._init_canvas(this);\n",
       "    this._init_toolbar(this);\n",
       "\n",
       "    var fig = this;\n",
       "\n",
       "    this.waiting = false;\n",
       "\n",
       "    this.ws.onopen =  function () {\n",
       "            fig.send_message(\"supports_binary\", {value: fig.supports_binary});\n",
       "            fig.send_message(\"send_image_mode\", {});\n",
       "            if (mpl.ratio != 1) {\n",
       "                fig.send_message(\"set_dpi_ratio\", {'dpi_ratio': mpl.ratio});\n",
       "            }\n",
       "            fig.send_message(\"refresh\", {});\n",
       "        }\n",
       "\n",
       "    this.imageObj.onload = function() {\n",
       "            if (fig.image_mode == 'full') {\n",
       "                // Full images could contain transparency (where diff images\n",
       "                // almost always do), so we need to clear the canvas so that\n",
       "                // there is no ghosting.\n",
       "                fig.context.clearRect(0, 0, fig.canvas.width, fig.canvas.height);\n",
       "            }\n",
       "            fig.context.drawImage(fig.imageObj, 0, 0);\n",
       "        };\n",
       "\n",
       "    this.imageObj.onunload = function() {\n",
       "        fig.ws.close();\n",
       "    }\n",
       "\n",
       "    this.ws.onmessage = this._make_on_message_function(this);\n",
       "\n",
       "    this.ondownload = ondownload;\n",
       "}\n",
       "\n",
       "mpl.figure.prototype._init_header = function() {\n",
       "    var titlebar = $(\n",
       "        '<div class=\"ui-dialog-titlebar ui-widget-header ui-corner-all ' +\n",
       "        'ui-helper-clearfix\"/>');\n",
       "    var titletext = $(\n",
       "        '<div class=\"ui-dialog-title\" style=\"width: 100%; ' +\n",
       "        'text-align: center; padding: 3px;\"/>');\n",
       "    titlebar.append(titletext)\n",
       "    this.root.append(titlebar);\n",
       "    this.header = titletext[0];\n",
       "}\n",
       "\n",
       "\n",
       "\n",
       "mpl.figure.prototype._canvas_extra_style = function(canvas_div) {\n",
       "\n",
       "}\n",
       "\n",
       "\n",
       "mpl.figure.prototype._root_extra_style = function(canvas_div) {\n",
       "\n",
       "}\n",
       "\n",
       "mpl.figure.prototype._init_canvas = function() {\n",
       "    var fig = this;\n",
       "\n",
       "    var canvas_div = $('<div/>');\n",
       "\n",
       "    canvas_div.attr('style', 'position: relative; clear: both; outline: 0');\n",
       "\n",
       "    function canvas_keyboard_event(event) {\n",
       "        return fig.key_event(event, event['data']);\n",
       "    }\n",
       "\n",
       "    canvas_div.keydown('key_press', canvas_keyboard_event);\n",
       "    canvas_div.keyup('key_release', canvas_keyboard_event);\n",
       "    this.canvas_div = canvas_div\n",
       "    this._canvas_extra_style(canvas_div)\n",
       "    this.root.append(canvas_div);\n",
       "\n",
       "    var canvas = $('<canvas/>');\n",
       "    canvas.addClass('mpl-canvas');\n",
       "    canvas.attr('style', \"left: 0; top: 0; z-index: 0; outline: 0\")\n",
       "\n",
       "    this.canvas = canvas[0];\n",
       "    this.context = canvas[0].getContext(\"2d\");\n",
       "\n",
       "    var backingStore = this.context.backingStorePixelRatio ||\n",
       "\tthis.context.webkitBackingStorePixelRatio ||\n",
       "\tthis.context.mozBackingStorePixelRatio ||\n",
       "\tthis.context.msBackingStorePixelRatio ||\n",
       "\tthis.context.oBackingStorePixelRatio ||\n",
       "\tthis.context.backingStorePixelRatio || 1;\n",
       "\n",
       "    mpl.ratio = (window.devicePixelRatio || 1) / backingStore;\n",
       "\n",
       "    var rubberband = $('<canvas/>');\n",
       "    rubberband.attr('style', \"position: absolute; left: 0; top: 0; z-index: 1;\")\n",
       "\n",
       "    var pass_mouse_events = true;\n",
       "\n",
       "    canvas_div.resizable({\n",
       "        start: function(event, ui) {\n",
       "            pass_mouse_events = false;\n",
       "        },\n",
       "        resize: function(event, ui) {\n",
       "            fig.request_resize(ui.size.width, ui.size.height);\n",
       "        },\n",
       "        stop: function(event, ui) {\n",
       "            pass_mouse_events = true;\n",
       "            fig.request_resize(ui.size.width, ui.size.height);\n",
       "        },\n",
       "    });\n",
       "\n",
       "    function mouse_event_fn(event) {\n",
       "        if (pass_mouse_events)\n",
       "            return fig.mouse_event(event, event['data']);\n",
       "    }\n",
       "\n",
       "    rubberband.mousedown('button_press', mouse_event_fn);\n",
       "    rubberband.mouseup('button_release', mouse_event_fn);\n",
       "    // Throttle sequential mouse events to 1 every 20ms.\n",
       "    rubberband.mousemove('motion_notify', mouse_event_fn);\n",
       "\n",
       "    rubberband.mouseenter('figure_enter', mouse_event_fn);\n",
       "    rubberband.mouseleave('figure_leave', mouse_event_fn);\n",
       "\n",
       "    canvas_div.on(\"wheel\", function (event) {\n",
       "        event = event.originalEvent;\n",
       "        event['data'] = 'scroll'\n",
       "        if (event.deltaY < 0) {\n",
       "            event.step = 1;\n",
       "        } else {\n",
       "            event.step = -1;\n",
       "        }\n",
       "        mouse_event_fn(event);\n",
       "    });\n",
       "\n",
       "    canvas_div.append(canvas);\n",
       "    canvas_div.append(rubberband);\n",
       "\n",
       "    this.rubberband = rubberband;\n",
       "    this.rubberband_canvas = rubberband[0];\n",
       "    this.rubberband_context = rubberband[0].getContext(\"2d\");\n",
       "    this.rubberband_context.strokeStyle = \"#000000\";\n",
       "\n",
       "    this._resize_canvas = function(width, height) {\n",
       "        // Keep the size of the canvas, canvas container, and rubber band\n",
       "        // canvas in synch.\n",
       "        canvas_div.css('width', width)\n",
       "        canvas_div.css('height', height)\n",
       "\n",
       "        canvas.attr('width', width * mpl.ratio);\n",
       "        canvas.attr('height', height * mpl.ratio);\n",
       "        canvas.attr('style', 'width: ' + width + 'px; height: ' + height + 'px;');\n",
       "\n",
       "        rubberband.attr('width', width);\n",
       "        rubberband.attr('height', height);\n",
       "    }\n",
       "\n",
       "    // Set the figure to an initial 600x600px, this will subsequently be updated\n",
       "    // upon first draw.\n",
       "    this._resize_canvas(600, 600);\n",
       "\n",
       "    // Disable right mouse context menu.\n",
       "    $(this.rubberband_canvas).bind(\"contextmenu\",function(e){\n",
       "        return false;\n",
       "    });\n",
       "\n",
       "    function set_focus () {\n",
       "        canvas.focus();\n",
       "        canvas_div.focus();\n",
       "    }\n",
       "\n",
       "    window.setTimeout(set_focus, 100);\n",
       "}\n",
       "\n",
       "mpl.figure.prototype._init_toolbar = function() {\n",
       "    var fig = this;\n",
       "\n",
       "    var nav_element = $('<div/>');\n",
       "    nav_element.attr('style', 'width: 100%');\n",
       "    this.root.append(nav_element);\n",
       "\n",
       "    // Define a callback function for later on.\n",
       "    function toolbar_event(event) {\n",
       "        return fig.toolbar_button_onclick(event['data']);\n",
       "    }\n",
       "    function toolbar_mouse_event(event) {\n",
       "        return fig.toolbar_button_onmouseover(event['data']);\n",
       "    }\n",
       "\n",
       "    for(var toolbar_ind in mpl.toolbar_items) {\n",
       "        var name = mpl.toolbar_items[toolbar_ind][0];\n",
       "        var tooltip = mpl.toolbar_items[toolbar_ind][1];\n",
       "        var image = mpl.toolbar_items[toolbar_ind][2];\n",
       "        var method_name = mpl.toolbar_items[toolbar_ind][3];\n",
       "\n",
       "        if (!name) {\n",
       "            // put a spacer in here.\n",
       "            continue;\n",
       "        }\n",
       "        var button = $('<button/>');\n",
       "        button.addClass('ui-button ui-widget ui-state-default ui-corner-all ' +\n",
       "                        'ui-button-icon-only');\n",
       "        button.attr('role', 'button');\n",
       "        button.attr('aria-disabled', 'false');\n",
       "        button.click(method_name, toolbar_event);\n",
       "        button.mouseover(tooltip, toolbar_mouse_event);\n",
       "\n",
       "        var icon_img = $('<span/>');\n",
       "        icon_img.addClass('ui-button-icon-primary ui-icon');\n",
       "        icon_img.addClass(image);\n",
       "        icon_img.addClass('ui-corner-all');\n",
       "\n",
       "        var tooltip_span = $('<span/>');\n",
       "        tooltip_span.addClass('ui-button-text');\n",
       "        tooltip_span.html(tooltip);\n",
       "\n",
       "        button.append(icon_img);\n",
       "        button.append(tooltip_span);\n",
       "\n",
       "        nav_element.append(button);\n",
       "    }\n",
       "\n",
       "    var fmt_picker_span = $('<span/>');\n",
       "\n",
       "    var fmt_picker = $('<select/>');\n",
       "    fmt_picker.addClass('mpl-toolbar-option ui-widget ui-widget-content');\n",
       "    fmt_picker_span.append(fmt_picker);\n",
       "    nav_element.append(fmt_picker_span);\n",
       "    this.format_dropdown = fmt_picker[0];\n",
       "\n",
       "    for (var ind in mpl.extensions) {\n",
       "        var fmt = mpl.extensions[ind];\n",
       "        var option = $(\n",
       "            '<option/>', {selected: fmt === mpl.default_extension}).html(fmt);\n",
       "        fmt_picker.append(option);\n",
       "    }\n",
       "\n",
       "    // Add hover states to the ui-buttons\n",
       "    $( \".ui-button\" ).hover(\n",
       "        function() { $(this).addClass(\"ui-state-hover\");},\n",
       "        function() { $(this).removeClass(\"ui-state-hover\");}\n",
       "    );\n",
       "\n",
       "    var status_bar = $('<span class=\"mpl-message\"/>');\n",
       "    nav_element.append(status_bar);\n",
       "    this.message = status_bar[0];\n",
       "}\n",
       "\n",
       "mpl.figure.prototype.request_resize = function(x_pixels, y_pixels) {\n",
       "    // Request matplotlib to resize the figure. Matplotlib will then trigger a resize in the client,\n",
       "    // which will in turn request a refresh of the image.\n",
       "    this.send_message('resize', {'width': x_pixels, 'height': y_pixels});\n",
       "}\n",
       "\n",
       "mpl.figure.prototype.send_message = function(type, properties) {\n",
       "    properties['type'] = type;\n",
       "    properties['figure_id'] = this.id;\n",
       "    this.ws.send(JSON.stringify(properties));\n",
       "}\n",
       "\n",
       "mpl.figure.prototype.send_draw_message = function() {\n",
       "    if (!this.waiting) {\n",
       "        this.waiting = true;\n",
       "        this.ws.send(JSON.stringify({type: \"draw\", figure_id: this.id}));\n",
       "    }\n",
       "}\n",
       "\n",
       "\n",
       "mpl.figure.prototype.handle_save = function(fig, msg) {\n",
       "    var format_dropdown = fig.format_dropdown;\n",
       "    var format = format_dropdown.options[format_dropdown.selectedIndex].value;\n",
       "    fig.ondownload(fig, format);\n",
       "}\n",
       "\n",
       "\n",
       "mpl.figure.prototype.handle_resize = function(fig, msg) {\n",
       "    var size = msg['size'];\n",
       "    if (size[0] != fig.canvas.width || size[1] != fig.canvas.height) {\n",
       "        fig._resize_canvas(size[0], size[1]);\n",
       "        fig.send_message(\"refresh\", {});\n",
       "    };\n",
       "}\n",
       "\n",
       "mpl.figure.prototype.handle_rubberband = function(fig, msg) {\n",
       "    var x0 = msg['x0'] / mpl.ratio;\n",
       "    var y0 = (fig.canvas.height - msg['y0']) / mpl.ratio;\n",
       "    var x1 = msg['x1'] / mpl.ratio;\n",
       "    var y1 = (fig.canvas.height - msg['y1']) / mpl.ratio;\n",
       "    x0 = Math.floor(x0) + 0.5;\n",
       "    y0 = Math.floor(y0) + 0.5;\n",
       "    x1 = Math.floor(x1) + 0.5;\n",
       "    y1 = Math.floor(y1) + 0.5;\n",
       "    var min_x = Math.min(x0, x1);\n",
       "    var min_y = Math.min(y0, y1);\n",
       "    var width = Math.abs(x1 - x0);\n",
       "    var height = Math.abs(y1 - y0);\n",
       "\n",
       "    fig.rubberband_context.clearRect(\n",
       "        0, 0, fig.canvas.width / mpl.ratio, fig.canvas.height / mpl.ratio);\n",
       "\n",
       "    fig.rubberband_context.strokeRect(min_x, min_y, width, height);\n",
       "}\n",
       "\n",
       "mpl.figure.prototype.handle_figure_label = function(fig, msg) {\n",
       "    // Updates the figure title.\n",
       "    fig.header.textContent = msg['label'];\n",
       "}\n",
       "\n",
       "mpl.figure.prototype.handle_cursor = function(fig, msg) {\n",
       "    var cursor = msg['cursor'];\n",
       "    switch(cursor)\n",
       "    {\n",
       "    case 0:\n",
       "        cursor = 'pointer';\n",
       "        break;\n",
       "    case 1:\n",
       "        cursor = 'default';\n",
       "        break;\n",
       "    case 2:\n",
       "        cursor = 'crosshair';\n",
       "        break;\n",
       "    case 3:\n",
       "        cursor = 'move';\n",
       "        break;\n",
       "    }\n",
       "    fig.rubberband_canvas.style.cursor = cursor;\n",
       "}\n",
       "\n",
       "mpl.figure.prototype.handle_message = function(fig, msg) {\n",
       "    fig.message.textContent = msg['message'];\n",
       "}\n",
       "\n",
       "mpl.figure.prototype.handle_draw = function(fig, msg) {\n",
       "    // Request the server to send over a new figure.\n",
       "    fig.send_draw_message();\n",
       "}\n",
       "\n",
       "mpl.figure.prototype.handle_image_mode = function(fig, msg) {\n",
       "    fig.image_mode = msg['mode'];\n",
       "}\n",
       "\n",
       "mpl.figure.prototype.updated_canvas_event = function() {\n",
       "    // Called whenever the canvas gets updated.\n",
       "    this.send_message(\"ack\", {});\n",
       "}\n",
       "\n",
       "// A function to construct a web socket function for onmessage handling.\n",
       "// Called in the figure constructor.\n",
       "mpl.figure.prototype._make_on_message_function = function(fig) {\n",
       "    return function socket_on_message(evt) {\n",
       "        if (evt.data instanceof Blob) {\n",
       "            /* FIXME: We get \"Resource interpreted as Image but\n",
       "             * transferred with MIME type text/plain:\" errors on\n",
       "             * Chrome.  But how to set the MIME type?  It doesn't seem\n",
       "             * to be part of the websocket stream */\n",
       "            evt.data.type = \"image/png\";\n",
       "\n",
       "            /* Free the memory for the previous frames */\n",
       "            if (fig.imageObj.src) {\n",
       "                (window.URL || window.webkitURL).revokeObjectURL(\n",
       "                    fig.imageObj.src);\n",
       "            }\n",
       "\n",
       "            fig.imageObj.src = (window.URL || window.webkitURL).createObjectURL(\n",
       "                evt.data);\n",
       "            fig.updated_canvas_event();\n",
       "            fig.waiting = false;\n",
       "            return;\n",
       "        }\n",
       "        else if (typeof evt.data === 'string' && evt.data.slice(0, 21) == \"data:image/png;base64\") {\n",
       "            fig.imageObj.src = evt.data;\n",
       "            fig.updated_canvas_event();\n",
       "            fig.waiting = false;\n",
       "            return;\n",
       "        }\n",
       "\n",
       "        var msg = JSON.parse(evt.data);\n",
       "        var msg_type = msg['type'];\n",
       "\n",
       "        // Call the  \"handle_{type}\" callback, which takes\n",
       "        // the figure and JSON message as its only arguments.\n",
       "        try {\n",
       "            var callback = fig[\"handle_\" + msg_type];\n",
       "        } catch (e) {\n",
       "            console.log(\"No handler for the '\" + msg_type + \"' message type: \", msg);\n",
       "            return;\n",
       "        }\n",
       "\n",
       "        if (callback) {\n",
       "            try {\n",
       "                // console.log(\"Handling '\" + msg_type + \"' message: \", msg);\n",
       "                callback(fig, msg);\n",
       "            } catch (e) {\n",
       "                console.log(\"Exception inside the 'handler_\" + msg_type + \"' callback:\", e, e.stack, msg);\n",
       "            }\n",
       "        }\n",
       "    };\n",
       "}\n",
       "\n",
       "// from http://stackoverflow.com/questions/1114465/getting-mouse-location-in-canvas\n",
       "mpl.findpos = function(e) {\n",
       "    //this section is from http://www.quirksmode.org/js/events_properties.html\n",
       "    var targ;\n",
       "    if (!e)\n",
       "        e = window.event;\n",
       "    if (e.target)\n",
       "        targ = e.target;\n",
       "    else if (e.srcElement)\n",
       "        targ = e.srcElement;\n",
       "    if (targ.nodeType == 3) // defeat Safari bug\n",
       "        targ = targ.parentNode;\n",
       "\n",
       "    // jQuery normalizes the pageX and pageY\n",
       "    // pageX,Y are the mouse positions relative to the document\n",
       "    // offset() returns the position of the element relative to the document\n",
       "    var x = e.pageX - $(targ).offset().left;\n",
       "    var y = e.pageY - $(targ).offset().top;\n",
       "\n",
       "    return {\"x\": x, \"y\": y};\n",
       "};\n",
       "\n",
       "/*\n",
       " * return a copy of an object with only non-object keys\n",
       " * we need this to avoid circular references\n",
       " * http://stackoverflow.com/a/24161582/3208463\n",
       " */\n",
       "function simpleKeys (original) {\n",
       "  return Object.keys(original).reduce(function (obj, key) {\n",
       "    if (typeof original[key] !== 'object')\n",
       "        obj[key] = original[key]\n",
       "    return obj;\n",
       "  }, {});\n",
       "}\n",
       "\n",
       "mpl.figure.prototype.mouse_event = function(event, name) {\n",
       "    var canvas_pos = mpl.findpos(event)\n",
       "\n",
       "    if (name === 'button_press')\n",
       "    {\n",
       "        this.canvas.focus();\n",
       "        this.canvas_div.focus();\n",
       "    }\n",
       "\n",
       "    var x = canvas_pos.x * mpl.ratio;\n",
       "    var y = canvas_pos.y * mpl.ratio;\n",
       "\n",
       "    this.send_message(name, {x: x, y: y, button: event.button,\n",
       "                             step: event.step,\n",
       "                             guiEvent: simpleKeys(event)});\n",
       "\n",
       "    /* This prevents the web browser from automatically changing to\n",
       "     * the text insertion cursor when the button is pressed.  We want\n",
       "     * to control all of the cursor setting manually through the\n",
       "     * 'cursor' event from matplotlib */\n",
       "    event.preventDefault();\n",
       "    return false;\n",
       "}\n",
       "\n",
       "mpl.figure.prototype._key_event_extra = function(event, name) {\n",
       "    // Handle any extra behaviour associated with a key event\n",
       "}\n",
       "\n",
       "mpl.figure.prototype.key_event = function(event, name) {\n",
       "\n",
       "    // Prevent repeat events\n",
       "    if (name == 'key_press')\n",
       "    {\n",
       "        if (event.which === this._key)\n",
       "            return;\n",
       "        else\n",
       "            this._key = event.which;\n",
       "    }\n",
       "    if (name == 'key_release')\n",
       "        this._key = null;\n",
       "\n",
       "    var value = '';\n",
       "    if (event.ctrlKey && event.which != 17)\n",
       "        value += \"ctrl+\";\n",
       "    if (event.altKey && event.which != 18)\n",
       "        value += \"alt+\";\n",
       "    if (event.shiftKey && event.which != 16)\n",
       "        value += \"shift+\";\n",
       "\n",
       "    value += 'k';\n",
       "    value += event.which.toString();\n",
       "\n",
       "    this._key_event_extra(event, name);\n",
       "\n",
       "    this.send_message(name, {key: value,\n",
       "                             guiEvent: simpleKeys(event)});\n",
       "    return false;\n",
       "}\n",
       "\n",
       "mpl.figure.prototype.toolbar_button_onclick = function(name) {\n",
       "    if (name == 'download') {\n",
       "        this.handle_save(this, null);\n",
       "    } else {\n",
       "        this.send_message(\"toolbar_button\", {name: name});\n",
       "    }\n",
       "};\n",
       "\n",
       "mpl.figure.prototype.toolbar_button_onmouseover = function(tooltip) {\n",
       "    this.message.textContent = tooltip;\n",
       "};\n",
       "mpl.toolbar_items = [[\"Home\", \"Reset original view\", \"fa fa-home icon-home\", \"home\"], [\"Back\", \"Back to previous view\", \"fa fa-arrow-left icon-arrow-left\", \"back\"], [\"Forward\", \"Forward to next view\", \"fa fa-arrow-right icon-arrow-right\", \"forward\"], [\"\", \"\", \"\", \"\"], [\"Pan\", \"Pan axes with left mouse, zoom with right\", \"fa fa-arrows icon-move\", \"pan\"], [\"Zoom\", \"Zoom to rectangle\", \"fa fa-square-o icon-check-empty\", \"zoom\"], [\"\", \"\", \"\", \"\"], [\"Download\", \"Download plot\", \"fa fa-floppy-o icon-save\", \"download\"]];\n",
       "\n",
       "mpl.extensions = [\"eps\", \"jpeg\", \"pdf\", \"png\", \"ps\", \"raw\", \"svg\", \"tif\"];\n",
       "\n",
       "mpl.default_extension = \"png\";var comm_websocket_adapter = function(comm) {\n",
       "    // Create a \"websocket\"-like object which calls the given IPython comm\n",
       "    // object with the appropriate methods. Currently this is a non binary\n",
       "    // socket, so there is still some room for performance tuning.\n",
       "    var ws = {};\n",
       "\n",
       "    ws.close = function() {\n",
       "        comm.close()\n",
       "    };\n",
       "    ws.send = function(m) {\n",
       "        //console.log('sending', m);\n",
       "        comm.send(m);\n",
       "    };\n",
       "    // Register the callback with on_msg.\n",
       "    comm.on_msg(function(msg) {\n",
       "        //console.log('receiving', msg['content']['data'], msg);\n",
       "        // Pass the mpl event to the overridden (by mpl) onmessage function.\n",
       "        ws.onmessage(msg['content']['data'])\n",
       "    });\n",
       "    return ws;\n",
       "}\n",
       "\n",
       "mpl.mpl_figure_comm = function(comm, msg) {\n",
       "    // This is the function which gets called when the mpl process\n",
       "    // starts-up an IPython Comm through the \"matplotlib\" channel.\n",
       "\n",
       "    var id = msg.content.data.id;\n",
       "    // Get hold of the div created by the display call when the Comm\n",
       "    // socket was opened in Python.\n",
       "    var element = $(\"#\" + id);\n",
       "    var ws_proxy = comm_websocket_adapter(comm)\n",
       "\n",
       "    function ondownload(figure, format) {\n",
       "        window.open(figure.imageObj.src);\n",
       "    }\n",
       "\n",
       "    var fig = new mpl.figure(id, ws_proxy,\n",
       "                           ondownload,\n",
       "                           element.get(0));\n",
       "\n",
       "    // Call onopen now - mpl needs it, as it is assuming we've passed it a real\n",
       "    // web socket which is closed, not our websocket->open comm proxy.\n",
       "    ws_proxy.onopen();\n",
       "\n",
       "    fig.parent_element = element.get(0);\n",
       "    fig.cell_info = mpl.find_output_cell(\"<div id='\" + id + \"'></div>\");\n",
       "    if (!fig.cell_info) {\n",
       "        console.error(\"Failed to find cell for figure\", id, fig);\n",
       "        return;\n",
       "    }\n",
       "\n",
       "    var output_index = fig.cell_info[2]\n",
       "    var cell = fig.cell_info[0];\n",
       "\n",
       "};\n",
       "\n",
       "mpl.figure.prototype.handle_close = function(fig, msg) {\n",
       "    var width = fig.canvas.width/mpl.ratio\n",
       "    fig.root.unbind('remove')\n",
       "\n",
       "    // Update the output cell to use the data from the current canvas.\n",
       "    fig.push_to_output();\n",
       "    var dataURL = fig.canvas.toDataURL();\n",
       "    // Re-enable the keyboard manager in IPython - without this line, in FF,\n",
       "    // the notebook keyboard shortcuts fail.\n",
       "    IPython.keyboard_manager.enable()\n",
       "    $(fig.parent_element).html('<img src=\"' + dataURL + '\" width=\"' + width + '\">');\n",
       "    fig.close_ws(fig, msg);\n",
       "}\n",
       "\n",
       "mpl.figure.prototype.close_ws = function(fig, msg){\n",
       "    fig.send_message('closing', msg);\n",
       "    // fig.ws.close()\n",
       "}\n",
       "\n",
       "mpl.figure.prototype.push_to_output = function(remove_interactive) {\n",
       "    // Turn the data on the canvas into data in the output cell.\n",
       "    var width = this.canvas.width/mpl.ratio\n",
       "    var dataURL = this.canvas.toDataURL();\n",
       "    this.cell_info[1]['text/html'] = '<img src=\"' + dataURL + '\" width=\"' + width + '\">';\n",
       "}\n",
       "\n",
       "mpl.figure.prototype.updated_canvas_event = function() {\n",
       "    // Tell IPython that the notebook contents must change.\n",
       "    IPython.notebook.set_dirty(true);\n",
       "    this.send_message(\"ack\", {});\n",
       "    var fig = this;\n",
       "    // Wait a second, then push the new image to the DOM so\n",
       "    // that it is saved nicely (might be nice to debounce this).\n",
       "    setTimeout(function () { fig.push_to_output() }, 1000);\n",
       "}\n",
       "\n",
       "mpl.figure.prototype._init_toolbar = function() {\n",
       "    var fig = this;\n",
       "\n",
       "    var nav_element = $('<div/>');\n",
       "    nav_element.attr('style', 'width: 100%');\n",
       "    this.root.append(nav_element);\n",
       "\n",
       "    // Define a callback function for later on.\n",
       "    function toolbar_event(event) {\n",
       "        return fig.toolbar_button_onclick(event['data']);\n",
       "    }\n",
       "    function toolbar_mouse_event(event) {\n",
       "        return fig.toolbar_button_onmouseover(event['data']);\n",
       "    }\n",
       "\n",
       "    for(var toolbar_ind in mpl.toolbar_items){\n",
       "        var name = mpl.toolbar_items[toolbar_ind][0];\n",
       "        var tooltip = mpl.toolbar_items[toolbar_ind][1];\n",
       "        var image = mpl.toolbar_items[toolbar_ind][2];\n",
       "        var method_name = mpl.toolbar_items[toolbar_ind][3];\n",
       "\n",
       "        if (!name) { continue; };\n",
       "\n",
       "        var button = $('<button class=\"btn btn-default\" href=\"#\" title=\"' + name + '\"><i class=\"fa ' + image + ' fa-lg\"></i></button>');\n",
       "        button.click(method_name, toolbar_event);\n",
       "        button.mouseover(tooltip, toolbar_mouse_event);\n",
       "        nav_element.append(button);\n",
       "    }\n",
       "\n",
       "    // Add the status bar.\n",
       "    var status_bar = $('<span class=\"mpl-message\" style=\"text-align:right; float: right;\"/>');\n",
       "    nav_element.append(status_bar);\n",
       "    this.message = status_bar[0];\n",
       "\n",
       "    // Add the close button to the window.\n",
       "    var buttongrp = $('<div class=\"btn-group inline pull-right\"></div>');\n",
       "    var button = $('<button class=\"btn btn-mini btn-primary\" href=\"#\" title=\"Stop Interaction\"><i class=\"fa fa-power-off icon-remove icon-large\"></i></button>');\n",
       "    button.click(function (evt) { fig.handle_close(fig, {}); } );\n",
       "    button.mouseover('Stop Interaction', toolbar_mouse_event);\n",
       "    buttongrp.append(button);\n",
       "    var titlebar = this.root.find($('.ui-dialog-titlebar'));\n",
       "    titlebar.prepend(buttongrp);\n",
       "}\n",
       "\n",
       "mpl.figure.prototype._root_extra_style = function(el){\n",
       "    var fig = this\n",
       "    el.on(\"remove\", function(){\n",
       "\tfig.close_ws(fig, {});\n",
       "    });\n",
       "}\n",
       "\n",
       "mpl.figure.prototype._canvas_extra_style = function(el){\n",
       "    // this is important to make the div 'focusable\n",
       "    el.attr('tabindex', 0)\n",
       "    // reach out to IPython and tell the keyboard manager to turn it's self\n",
       "    // off when our div gets focus\n",
       "\n",
       "    // location in version 3\n",
       "    if (IPython.notebook.keyboard_manager) {\n",
       "        IPython.notebook.keyboard_manager.register_events(el);\n",
       "    }\n",
       "    else {\n",
       "        // location in version 2\n",
       "        IPython.keyboard_manager.register_events(el);\n",
       "    }\n",
       "\n",
       "}\n",
       "\n",
       "mpl.figure.prototype._key_event_extra = function(event, name) {\n",
       "    var manager = IPython.notebook.keyboard_manager;\n",
       "    if (!manager)\n",
       "        manager = IPython.keyboard_manager;\n",
       "\n",
       "    // Check for shift+enter\n",
       "    if (event.shiftKey && event.which == 13) {\n",
       "        this.canvas_div.blur();\n",
       "        // select the cell after this one\n",
       "        var index = IPython.notebook.find_cell_index(this.cell_info[0]);\n",
       "        IPython.notebook.select(index + 1);\n",
       "    }\n",
       "}\n",
       "\n",
       "mpl.figure.prototype.handle_save = function(fig, msg) {\n",
       "    fig.ondownload(fig, null);\n",
       "}\n",
       "\n",
       "\n",
       "mpl.find_output_cell = function(html_output) {\n",
       "    // Return the cell and output element which can be found *uniquely* in the notebook.\n",
       "    // Note - this is a bit hacky, but it is done because the \"notebook_saving.Notebook\"\n",
       "    // IPython event is triggered only after the cells have been serialised, which for\n",
       "    // our purposes (turning an active figure into a static one), is too late.\n",
       "    var cells = IPython.notebook.get_cells();\n",
       "    var ncells = cells.length;\n",
       "    for (var i=0; i<ncells; i++) {\n",
       "        var cell = cells[i];\n",
       "        if (cell.cell_type === 'code'){\n",
       "            for (var j=0; j<cell.output_area.outputs.length; j++) {\n",
       "                var data = cell.output_area.outputs[j];\n",
       "                if (data.data) {\n",
       "                    // IPython >= 3 moved mimebundle to data attribute of output\n",
       "                    data = data.data;\n",
       "                }\n",
       "                if (data['text/html'] == html_output) {\n",
       "                    return [cell, data, j];\n",
       "                }\n",
       "            }\n",
       "        }\n",
       "    }\n",
       "}\n",
       "\n",
       "// Register the function which deals with the matplotlib target/channel.\n",
       "// The kernel may be null if the page has been refreshed.\n",
       "if (IPython.notebook.kernel != null) {\n",
       "    IPython.notebook.kernel.comm_manager.register_target('matplotlib', mpl.mpl_figure_comm);\n",
       "}\n"
      ],
      "text/plain": [
       "<IPython.core.display.Javascript object>"
      ]
     },
     "metadata": {},
     "output_type": "display_data"
    },
    {
     "data": {
      "text/html": [
       "<img src=\"data:image/png;base64,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\" width=\"638.9999809563166\">"
      ],
      "text/plain": [
       "<IPython.core.display.HTML object>"
      ]
     },
     "metadata": {},
     "output_type": "display_data"
    },
    {
     "name": "stdout",
     "output_type": "stream",
     "text": [
      "Starting experimental run with id: 933\n"
     ]
    },
    {
     "data": {
      "text/plain": [
       "933"
      ]
     },
     "execution_count": 205,
     "metadata": {},
     "output_type": "execute_result"
    }
   ],
   "source": [
    "ids = range(843, 931+1)\n",
    "cos_list = np.arange(0.12, 1.01, 0.01)\n",
    "\n",
    "\n",
    "Ics = jj.Isw_by_id(ids, fullIVC = False, dy = 50e-6)\n",
    "\n",
    "Ej0 = 5.4\n",
    "\n",
    "fig, ax = plt.subplots()\n",
    "ax.plot(cos_list, Ics, 'o-')\n",
    "# ax.plot(B_list, Ics, 'o-')\n",
    "\n",
    "\n",
    "jj.mock_meas((Isw_param , Ics), (Ej_param, Ej0*cos_list),\n",
    "             label = 'Isw vs cos')"
   ]
  },
  {
   "cell_type": "code",
   "execution_count": 160,
   "metadata": {
    "scrolled": false
   },
   "outputs": [
    {
     "name": "stderr",
     "output_type": "stream",
     "text": [
      "C:\\Users\\KelvinOX25\\Anaconda3\\lib\\site-packages\\numpy\\core\\fromnumeric.py:3118: RuntimeWarning: Mean of empty slice.\n",
      "  out=out, **kwargs)\n",
      "C:\\Users\\KelvinOX25\\Anaconda3\\lib\\site-packages\\numpy\\core\\_methods.py:85: RuntimeWarning: invalid value encountered in double_scalars\n",
      "  ret = ret.dtype.type(ret / rcount)\n"
     ]
    },
    {
     "name": "stdout",
     "output_type": "stream",
     "text": [
      "no points in cut range\n",
      "no points in cut range\n",
      "no points in cut range\n",
      "no points in cut range\n"
     ]
    },
    {
     "data": {
      "application/javascript": [
       "/* Put everything inside the global mpl namespace */\n",
       "window.mpl = {};\n",
       "\n",
       "\n",
       "mpl.get_websocket_type = function() {\n",
       "    if (typeof(WebSocket) !== 'undefined') {\n",
       "        return WebSocket;\n",
       "    } else if (typeof(MozWebSocket) !== 'undefined') {\n",
       "        return MozWebSocket;\n",
       "    } else {\n",
       "        alert('Your browser does not have WebSocket support. ' +\n",
       "              'Please try Chrome, Safari or Firefox ≥ 6. ' +\n",
       "              'Firefox 4 and 5 are also supported but you ' +\n",
       "              'have to enable WebSockets in about:config.');\n",
       "    };\n",
       "}\n",
       "\n",
       "mpl.figure = function(figure_id, websocket, ondownload, parent_element) {\n",
       "    this.id = figure_id;\n",
       "\n",
       "    this.ws = websocket;\n",
       "\n",
       "    this.supports_binary = (this.ws.binaryType != undefined);\n",
       "\n",
       "    if (!this.supports_binary) {\n",
       "        var warnings = document.getElementById(\"mpl-warnings\");\n",
       "        if (warnings) {\n",
       "            warnings.style.display = 'block';\n",
       "            warnings.textContent = (\n",
       "                \"This browser does not support binary websocket messages. \" +\n",
       "                    \"Performance may be slow.\");\n",
       "        }\n",
       "    }\n",
       "\n",
       "    this.imageObj = new Image();\n",
       "\n",
       "    this.context = undefined;\n",
       "    this.message = undefined;\n",
       "    this.canvas = undefined;\n",
       "    this.rubberband_canvas = undefined;\n",
       "    this.rubberband_context = undefined;\n",
       "    this.format_dropdown = undefined;\n",
       "\n",
       "    this.image_mode = 'full';\n",
       "\n",
       "    this.root = $('<div/>');\n",
       "    this._root_extra_style(this.root)\n",
       "    this.root.attr('style', 'display: inline-block');\n",
       "\n",
       "    $(parent_element).append(this.root);\n",
       "\n",
       "    this._init_header(this);\n",
       "    this._init_canvas(this);\n",
       "    this._init_toolbar(this);\n",
       "\n",
       "    var fig = this;\n",
       "\n",
       "    this.waiting = false;\n",
       "\n",
       "    this.ws.onopen =  function () {\n",
       "            fig.send_message(\"supports_binary\", {value: fig.supports_binary});\n",
       "            fig.send_message(\"send_image_mode\", {});\n",
       "            if (mpl.ratio != 1) {\n",
       "                fig.send_message(\"set_dpi_ratio\", {'dpi_ratio': mpl.ratio});\n",
       "            }\n",
       "            fig.send_message(\"refresh\", {});\n",
       "        }\n",
       "\n",
       "    this.imageObj.onload = function() {\n",
       "            if (fig.image_mode == 'full') {\n",
       "                // Full images could contain transparency (where diff images\n",
       "                // almost always do), so we need to clear the canvas so that\n",
       "                // there is no ghosting.\n",
       "                fig.context.clearRect(0, 0, fig.canvas.width, fig.canvas.height);\n",
       "            }\n",
       "            fig.context.drawImage(fig.imageObj, 0, 0);\n",
       "        };\n",
       "\n",
       "    this.imageObj.onunload = function() {\n",
       "        fig.ws.close();\n",
       "    }\n",
       "\n",
       "    this.ws.onmessage = this._make_on_message_function(this);\n",
       "\n",
       "    this.ondownload = ondownload;\n",
       "}\n",
       "\n",
       "mpl.figure.prototype._init_header = function() {\n",
       "    var titlebar = $(\n",
       "        '<div class=\"ui-dialog-titlebar ui-widget-header ui-corner-all ' +\n",
       "        'ui-helper-clearfix\"/>');\n",
       "    var titletext = $(\n",
       "        '<div class=\"ui-dialog-title\" style=\"width: 100%; ' +\n",
       "        'text-align: center; padding: 3px;\"/>');\n",
       "    titlebar.append(titletext)\n",
       "    this.root.append(titlebar);\n",
       "    this.header = titletext[0];\n",
       "}\n",
       "\n",
       "\n",
       "\n",
       "mpl.figure.prototype._canvas_extra_style = function(canvas_div) {\n",
       "\n",
       "}\n",
       "\n",
       "\n",
       "mpl.figure.prototype._root_extra_style = function(canvas_div) {\n",
       "\n",
       "}\n",
       "\n",
       "mpl.figure.prototype._init_canvas = function() {\n",
       "    var fig = this;\n",
       "\n",
       "    var canvas_div = $('<div/>');\n",
       "\n",
       "    canvas_div.attr('style', 'position: relative; clear: both; outline: 0');\n",
       "\n",
       "    function canvas_keyboard_event(event) {\n",
       "        return fig.key_event(event, event['data']);\n",
       "    }\n",
       "\n",
       "    canvas_div.keydown('key_press', canvas_keyboard_event);\n",
       "    canvas_div.keyup('key_release', canvas_keyboard_event);\n",
       "    this.canvas_div = canvas_div\n",
       "    this._canvas_extra_style(canvas_div)\n",
       "    this.root.append(canvas_div);\n",
       "\n",
       "    var canvas = $('<canvas/>');\n",
       "    canvas.addClass('mpl-canvas');\n",
       "    canvas.attr('style', \"left: 0; top: 0; z-index: 0; outline: 0\")\n",
       "\n",
       "    this.canvas = canvas[0];\n",
       "    this.context = canvas[0].getContext(\"2d\");\n",
       "\n",
       "    var backingStore = this.context.backingStorePixelRatio ||\n",
       "\tthis.context.webkitBackingStorePixelRatio ||\n",
       "\tthis.context.mozBackingStorePixelRatio ||\n",
       "\tthis.context.msBackingStorePixelRatio ||\n",
       "\tthis.context.oBackingStorePixelRatio ||\n",
       "\tthis.context.backingStorePixelRatio || 1;\n",
       "\n",
       "    mpl.ratio = (window.devicePixelRatio || 1) / backingStore;\n",
       "\n",
       "    var rubberband = $('<canvas/>');\n",
       "    rubberband.attr('style', \"position: absolute; left: 0; top: 0; z-index: 1;\")\n",
       "\n",
       "    var pass_mouse_events = true;\n",
       "\n",
       "    canvas_div.resizable({\n",
       "        start: function(event, ui) {\n",
       "            pass_mouse_events = false;\n",
       "        },\n",
       "        resize: function(event, ui) {\n",
       "            fig.request_resize(ui.size.width, ui.size.height);\n",
       "        },\n",
       "        stop: function(event, ui) {\n",
       "            pass_mouse_events = true;\n",
       "            fig.request_resize(ui.size.width, ui.size.height);\n",
       "        },\n",
       "    });\n",
       "\n",
       "    function mouse_event_fn(event) {\n",
       "        if (pass_mouse_events)\n",
       "            return fig.mouse_event(event, event['data']);\n",
       "    }\n",
       "\n",
       "    rubberband.mousedown('button_press', mouse_event_fn);\n",
       "    rubberband.mouseup('button_release', mouse_event_fn);\n",
       "    // Throttle sequential mouse events to 1 every 20ms.\n",
       "    rubberband.mousemove('motion_notify', mouse_event_fn);\n",
       "\n",
       "    rubberband.mouseenter('figure_enter', mouse_event_fn);\n",
       "    rubberband.mouseleave('figure_leave', mouse_event_fn);\n",
       "\n",
       "    canvas_div.on(\"wheel\", function (event) {\n",
       "        event = event.originalEvent;\n",
       "        event['data'] = 'scroll'\n",
       "        if (event.deltaY < 0) {\n",
       "            event.step = 1;\n",
       "        } else {\n",
       "            event.step = -1;\n",
       "        }\n",
       "        mouse_event_fn(event);\n",
       "    });\n",
       "\n",
       "    canvas_div.append(canvas);\n",
       "    canvas_div.append(rubberband);\n",
       "\n",
       "    this.rubberband = rubberband;\n",
       "    this.rubberband_canvas = rubberband[0];\n",
       "    this.rubberband_context = rubberband[0].getContext(\"2d\");\n",
       "    this.rubberband_context.strokeStyle = \"#000000\";\n",
       "\n",
       "    this._resize_canvas = function(width, height) {\n",
       "        // Keep the size of the canvas, canvas container, and rubber band\n",
       "        // canvas in synch.\n",
       "        canvas_div.css('width', width)\n",
       "        canvas_div.css('height', height)\n",
       "\n",
       "        canvas.attr('width', width * mpl.ratio);\n",
       "        canvas.attr('height', height * mpl.ratio);\n",
       "        canvas.attr('style', 'width: ' + width + 'px; height: ' + height + 'px;');\n",
       "\n",
       "        rubberband.attr('width', width);\n",
       "        rubberband.attr('height', height);\n",
       "    }\n",
       "\n",
       "    // Set the figure to an initial 600x600px, this will subsequently be updated\n",
       "    // upon first draw.\n",
       "    this._resize_canvas(600, 600);\n",
       "\n",
       "    // Disable right mouse context menu.\n",
       "    $(this.rubberband_canvas).bind(\"contextmenu\",function(e){\n",
       "        return false;\n",
       "    });\n",
       "\n",
       "    function set_focus () {\n",
       "        canvas.focus();\n",
       "        canvas_div.focus();\n",
       "    }\n",
       "\n",
       "    window.setTimeout(set_focus, 100);\n",
       "}\n",
       "\n",
       "mpl.figure.prototype._init_toolbar = function() {\n",
       "    var fig = this;\n",
       "\n",
       "    var nav_element = $('<div/>');\n",
       "    nav_element.attr('style', 'width: 100%');\n",
       "    this.root.append(nav_element);\n",
       "\n",
       "    // Define a callback function for later on.\n",
       "    function toolbar_event(event) {\n",
       "        return fig.toolbar_button_onclick(event['data']);\n",
       "    }\n",
       "    function toolbar_mouse_event(event) {\n",
       "        return fig.toolbar_button_onmouseover(event['data']);\n",
       "    }\n",
       "\n",
       "    for(var toolbar_ind in mpl.toolbar_items) {\n",
       "        var name = mpl.toolbar_items[toolbar_ind][0];\n",
       "        var tooltip = mpl.toolbar_items[toolbar_ind][1];\n",
       "        var image = mpl.toolbar_items[toolbar_ind][2];\n",
       "        var method_name = mpl.toolbar_items[toolbar_ind][3];\n",
       "\n",
       "        if (!name) {\n",
       "            // put a spacer in here.\n",
       "            continue;\n",
       "        }\n",
       "        var button = $('<button/>');\n",
       "        button.addClass('ui-button ui-widget ui-state-default ui-corner-all ' +\n",
       "                        'ui-button-icon-only');\n",
       "        button.attr('role', 'button');\n",
       "        button.attr('aria-disabled', 'false');\n",
       "        button.click(method_name, toolbar_event);\n",
       "        button.mouseover(tooltip, toolbar_mouse_event);\n",
       "\n",
       "        var icon_img = $('<span/>');\n",
       "        icon_img.addClass('ui-button-icon-primary ui-icon');\n",
       "        icon_img.addClass(image);\n",
       "        icon_img.addClass('ui-corner-all');\n",
       "\n",
       "        var tooltip_span = $('<span/>');\n",
       "        tooltip_span.addClass('ui-button-text');\n",
       "        tooltip_span.html(tooltip);\n",
       "\n",
       "        button.append(icon_img);\n",
       "        button.append(tooltip_span);\n",
       "\n",
       "        nav_element.append(button);\n",
       "    }\n",
       "\n",
       "    var fmt_picker_span = $('<span/>');\n",
       "\n",
       "    var fmt_picker = $('<select/>');\n",
       "    fmt_picker.addClass('mpl-toolbar-option ui-widget ui-widget-content');\n",
       "    fmt_picker_span.append(fmt_picker);\n",
       "    nav_element.append(fmt_picker_span);\n",
       "    this.format_dropdown = fmt_picker[0];\n",
       "\n",
       "    for (var ind in mpl.extensions) {\n",
       "        var fmt = mpl.extensions[ind];\n",
       "        var option = $(\n",
       "            '<option/>', {selected: fmt === mpl.default_extension}).html(fmt);\n",
       "        fmt_picker.append(option);\n",
       "    }\n",
       "\n",
       "    // Add hover states to the ui-buttons\n",
       "    $( \".ui-button\" ).hover(\n",
       "        function() { $(this).addClass(\"ui-state-hover\");},\n",
       "        function() { $(this).removeClass(\"ui-state-hover\");}\n",
       "    );\n",
       "\n",
       "    var status_bar = $('<span class=\"mpl-message\"/>');\n",
       "    nav_element.append(status_bar);\n",
       "    this.message = status_bar[0];\n",
       "}\n",
       "\n",
       "mpl.figure.prototype.request_resize = function(x_pixels, y_pixels) {\n",
       "    // Request matplotlib to resize the figure. Matplotlib will then trigger a resize in the client,\n",
       "    // which will in turn request a refresh of the image.\n",
       "    this.send_message('resize', {'width': x_pixels, 'height': y_pixels});\n",
       "}\n",
       "\n",
       "mpl.figure.prototype.send_message = function(type, properties) {\n",
       "    properties['type'] = type;\n",
       "    properties['figure_id'] = this.id;\n",
       "    this.ws.send(JSON.stringify(properties));\n",
       "}\n",
       "\n",
       "mpl.figure.prototype.send_draw_message = function() {\n",
       "    if (!this.waiting) {\n",
       "        this.waiting = true;\n",
       "        this.ws.send(JSON.stringify({type: \"draw\", figure_id: this.id}));\n",
       "    }\n",
       "}\n",
       "\n",
       "\n",
       "mpl.figure.prototype.handle_save = function(fig, msg) {\n",
       "    var format_dropdown = fig.format_dropdown;\n",
       "    var format = format_dropdown.options[format_dropdown.selectedIndex].value;\n",
       "    fig.ondownload(fig, format);\n",
       "}\n",
       "\n",
       "\n",
       "mpl.figure.prototype.handle_resize = function(fig, msg) {\n",
       "    var size = msg['size'];\n",
       "    if (size[0] != fig.canvas.width || size[1] != fig.canvas.height) {\n",
       "        fig._resize_canvas(size[0], size[1]);\n",
       "        fig.send_message(\"refresh\", {});\n",
       "    };\n",
       "}\n",
       "\n",
       "mpl.figure.prototype.handle_rubberband = function(fig, msg) {\n",
       "    var x0 = msg['x0'] / mpl.ratio;\n",
       "    var y0 = (fig.canvas.height - msg['y0']) / mpl.ratio;\n",
       "    var x1 = msg['x1'] / mpl.ratio;\n",
       "    var y1 = (fig.canvas.height - msg['y1']) / mpl.ratio;\n",
       "    x0 = Math.floor(x0) + 0.5;\n",
       "    y0 = Math.floor(y0) + 0.5;\n",
       "    x1 = Math.floor(x1) + 0.5;\n",
       "    y1 = Math.floor(y1) + 0.5;\n",
       "    var min_x = Math.min(x0, x1);\n",
       "    var min_y = Math.min(y0, y1);\n",
       "    var width = Math.abs(x1 - x0);\n",
       "    var height = Math.abs(y1 - y0);\n",
       "\n",
       "    fig.rubberband_context.clearRect(\n",
       "        0, 0, fig.canvas.width / mpl.ratio, fig.canvas.height / mpl.ratio);\n",
       "\n",
       "    fig.rubberband_context.strokeRect(min_x, min_y, width, height);\n",
       "}\n",
       "\n",
       "mpl.figure.prototype.handle_figure_label = function(fig, msg) {\n",
       "    // Updates the figure title.\n",
       "    fig.header.textContent = msg['label'];\n",
       "}\n",
       "\n",
       "mpl.figure.prototype.handle_cursor = function(fig, msg) {\n",
       "    var cursor = msg['cursor'];\n",
       "    switch(cursor)\n",
       "    {\n",
       "    case 0:\n",
       "        cursor = 'pointer';\n",
       "        break;\n",
       "    case 1:\n",
       "        cursor = 'default';\n",
       "        break;\n",
       "    case 2:\n",
       "        cursor = 'crosshair';\n",
       "        break;\n",
       "    case 3:\n",
       "        cursor = 'move';\n",
       "        break;\n",
       "    }\n",
       "    fig.rubberband_canvas.style.cursor = cursor;\n",
       "}\n",
       "\n",
       "mpl.figure.prototype.handle_message = function(fig, msg) {\n",
       "    fig.message.textContent = msg['message'];\n",
       "}\n",
       "\n",
       "mpl.figure.prototype.handle_draw = function(fig, msg) {\n",
       "    // Request the server to send over a new figure.\n",
       "    fig.send_draw_message();\n",
       "}\n",
       "\n",
       "mpl.figure.prototype.handle_image_mode = function(fig, msg) {\n",
       "    fig.image_mode = msg['mode'];\n",
       "}\n",
       "\n",
       "mpl.figure.prototype.updated_canvas_event = function() {\n",
       "    // Called whenever the canvas gets updated.\n",
       "    this.send_message(\"ack\", {});\n",
       "}\n",
       "\n",
       "// A function to construct a web socket function for onmessage handling.\n",
       "// Called in the figure constructor.\n",
       "mpl.figure.prototype._make_on_message_function = function(fig) {\n",
       "    return function socket_on_message(evt) {\n",
       "        if (evt.data instanceof Blob) {\n",
       "            /* FIXME: We get \"Resource interpreted as Image but\n",
       "             * transferred with MIME type text/plain:\" errors on\n",
       "             * Chrome.  But how to set the MIME type?  It doesn't seem\n",
       "             * to be part of the websocket stream */\n",
       "            evt.data.type = \"image/png\";\n",
       "\n",
       "            /* Free the memory for the previous frames */\n",
       "            if (fig.imageObj.src) {\n",
       "                (window.URL || window.webkitURL).revokeObjectURL(\n",
       "                    fig.imageObj.src);\n",
       "            }\n",
       "\n",
       "            fig.imageObj.src = (window.URL || window.webkitURL).createObjectURL(\n",
       "                evt.data);\n",
       "            fig.updated_canvas_event();\n",
       "            fig.waiting = false;\n",
       "            return;\n",
       "        }\n",
       "        else if (typeof evt.data === 'string' && evt.data.slice(0, 21) == \"data:image/png;base64\") {\n",
       "            fig.imageObj.src = evt.data;\n",
       "            fig.updated_canvas_event();\n",
       "            fig.waiting = false;\n",
       "            return;\n",
       "        }\n",
       "\n",
       "        var msg = JSON.parse(evt.data);\n",
       "        var msg_type = msg['type'];\n",
       "\n",
       "        // Call the  \"handle_{type}\" callback, which takes\n",
       "        // the figure and JSON message as its only arguments.\n",
       "        try {\n",
       "            var callback = fig[\"handle_\" + msg_type];\n",
       "        } catch (e) {\n",
       "            console.log(\"No handler for the '\" + msg_type + \"' message type: \", msg);\n",
       "            return;\n",
       "        }\n",
       "\n",
       "        if (callback) {\n",
       "            try {\n",
       "                // console.log(\"Handling '\" + msg_type + \"' message: \", msg);\n",
       "                callback(fig, msg);\n",
       "            } catch (e) {\n",
       "                console.log(\"Exception inside the 'handler_\" + msg_type + \"' callback:\", e, e.stack, msg);\n",
       "            }\n",
       "        }\n",
       "    };\n",
       "}\n",
       "\n",
       "// from http://stackoverflow.com/questions/1114465/getting-mouse-location-in-canvas\n",
       "mpl.findpos = function(e) {\n",
       "    //this section is from http://www.quirksmode.org/js/events_properties.html\n",
       "    var targ;\n",
       "    if (!e)\n",
       "        e = window.event;\n",
       "    if (e.target)\n",
       "        targ = e.target;\n",
       "    else if (e.srcElement)\n",
       "        targ = e.srcElement;\n",
       "    if (targ.nodeType == 3) // defeat Safari bug\n",
       "        targ = targ.parentNode;\n",
       "\n",
       "    // jQuery normalizes the pageX and pageY\n",
       "    // pageX,Y are the mouse positions relative to the document\n",
       "    // offset() returns the position of the element relative to the document\n",
       "    var x = e.pageX - $(targ).offset().left;\n",
       "    var y = e.pageY - $(targ).offset().top;\n",
       "\n",
       "    return {\"x\": x, \"y\": y};\n",
       "};\n",
       "\n",
       "/*\n",
       " * return a copy of an object with only non-object keys\n",
       " * we need this to avoid circular references\n",
       " * http://stackoverflow.com/a/24161582/3208463\n",
       " */\n",
       "function simpleKeys (original) {\n",
       "  return Object.keys(original).reduce(function (obj, key) {\n",
       "    if (typeof original[key] !== 'object')\n",
       "        obj[key] = original[key]\n",
       "    return obj;\n",
       "  }, {});\n",
       "}\n",
       "\n",
       "mpl.figure.prototype.mouse_event = function(event, name) {\n",
       "    var canvas_pos = mpl.findpos(event)\n",
       "\n",
       "    if (name === 'button_press')\n",
       "    {\n",
       "        this.canvas.focus();\n",
       "        this.canvas_div.focus();\n",
       "    }\n",
       "\n",
       "    var x = canvas_pos.x * mpl.ratio;\n",
       "    var y = canvas_pos.y * mpl.ratio;\n",
       "\n",
       "    this.send_message(name, {x: x, y: y, button: event.button,\n",
       "                             step: event.step,\n",
       "                             guiEvent: simpleKeys(event)});\n",
       "\n",
       "    /* This prevents the web browser from automatically changing to\n",
       "     * the text insertion cursor when the button is pressed.  We want\n",
       "     * to control all of the cursor setting manually through the\n",
       "     * 'cursor' event from matplotlib */\n",
       "    event.preventDefault();\n",
       "    return false;\n",
       "}\n",
       "\n",
       "mpl.figure.prototype._key_event_extra = function(event, name) {\n",
       "    // Handle any extra behaviour associated with a key event\n",
       "}\n",
       "\n",
       "mpl.figure.prototype.key_event = function(event, name) {\n",
       "\n",
       "    // Prevent repeat events\n",
       "    if (name == 'key_press')\n",
       "    {\n",
       "        if (event.which === this._key)\n",
       "            return;\n",
       "        else\n",
       "            this._key = event.which;\n",
       "    }\n",
       "    if (name == 'key_release')\n",
       "        this._key = null;\n",
       "\n",
       "    var value = '';\n",
       "    if (event.ctrlKey && event.which != 17)\n",
       "        value += \"ctrl+\";\n",
       "    if (event.altKey && event.which != 18)\n",
       "        value += \"alt+\";\n",
       "    if (event.shiftKey && event.which != 16)\n",
       "        value += \"shift+\";\n",
       "\n",
       "    value += 'k';\n",
       "    value += event.which.toString();\n",
       "\n",
       "    this._key_event_extra(event, name);\n",
       "\n",
       "    this.send_message(name, {key: value,\n",
       "                             guiEvent: simpleKeys(event)});\n",
       "    return false;\n",
       "}\n",
       "\n",
       "mpl.figure.prototype.toolbar_button_onclick = function(name) {\n",
       "    if (name == 'download') {\n",
       "        this.handle_save(this, null);\n",
       "    } else {\n",
       "        this.send_message(\"toolbar_button\", {name: name});\n",
       "    }\n",
       "};\n",
       "\n",
       "mpl.figure.prototype.toolbar_button_onmouseover = function(tooltip) {\n",
       "    this.message.textContent = tooltip;\n",
       "};\n",
       "mpl.toolbar_items = [[\"Home\", \"Reset original view\", \"fa fa-home icon-home\", \"home\"], [\"Back\", \"Back to previous view\", \"fa fa-arrow-left icon-arrow-left\", \"back\"], [\"Forward\", \"Forward to next view\", \"fa fa-arrow-right icon-arrow-right\", \"forward\"], [\"\", \"\", \"\", \"\"], [\"Pan\", \"Pan axes with left mouse, zoom with right\", \"fa fa-arrows icon-move\", \"pan\"], [\"Zoom\", \"Zoom to rectangle\", \"fa fa-square-o icon-check-empty\", \"zoom\"], [\"\", \"\", \"\", \"\"], [\"Download\", \"Download plot\", \"fa fa-floppy-o icon-save\", \"download\"]];\n",
       "\n",
       "mpl.extensions = [\"eps\", \"jpeg\", \"pdf\", \"png\", \"ps\", \"raw\", \"svg\", \"tif\"];\n",
       "\n",
       "mpl.default_extension = \"png\";var comm_websocket_adapter = function(comm) {\n",
       "    // Create a \"websocket\"-like object which calls the given IPython comm\n",
       "    // object with the appropriate methods. Currently this is a non binary\n",
       "    // socket, so there is still some room for performance tuning.\n",
       "    var ws = {};\n",
       "\n",
       "    ws.close = function() {\n",
       "        comm.close()\n",
       "    };\n",
       "    ws.send = function(m) {\n",
       "        //console.log('sending', m);\n",
       "        comm.send(m);\n",
       "    };\n",
       "    // Register the callback with on_msg.\n",
       "    comm.on_msg(function(msg) {\n",
       "        //console.log('receiving', msg['content']['data'], msg);\n",
       "        // Pass the mpl event to the overridden (by mpl) onmessage function.\n",
       "        ws.onmessage(msg['content']['data'])\n",
       "    });\n",
       "    return ws;\n",
       "}\n",
       "\n",
       "mpl.mpl_figure_comm = function(comm, msg) {\n",
       "    // This is the function which gets called when the mpl process\n",
       "    // starts-up an IPython Comm through the \"matplotlib\" channel.\n",
       "\n",
       "    var id = msg.content.data.id;\n",
       "    // Get hold of the div created by the display call when the Comm\n",
       "    // socket was opened in Python.\n",
       "    var element = $(\"#\" + id);\n",
       "    var ws_proxy = comm_websocket_adapter(comm)\n",
       "\n",
       "    function ondownload(figure, format) {\n",
       "        window.open(figure.imageObj.src);\n",
       "    }\n",
       "\n",
       "    var fig = new mpl.figure(id, ws_proxy,\n",
       "                           ondownload,\n",
       "                           element.get(0));\n",
       "\n",
       "    // Call onopen now - mpl needs it, as it is assuming we've passed it a real\n",
       "    // web socket which is closed, not our websocket->open comm proxy.\n",
       "    ws_proxy.onopen();\n",
       "\n",
       "    fig.parent_element = element.get(0);\n",
       "    fig.cell_info = mpl.find_output_cell(\"<div id='\" + id + \"'></div>\");\n",
       "    if (!fig.cell_info) {\n",
       "        console.error(\"Failed to find cell for figure\", id, fig);\n",
       "        return;\n",
       "    }\n",
       "\n",
       "    var output_index = fig.cell_info[2]\n",
       "    var cell = fig.cell_info[0];\n",
       "\n",
       "};\n",
       "\n",
       "mpl.figure.prototype.handle_close = function(fig, msg) {\n",
       "    var width = fig.canvas.width/mpl.ratio\n",
       "    fig.root.unbind('remove')\n",
       "\n",
       "    // Update the output cell to use the data from the current canvas.\n",
       "    fig.push_to_output();\n",
       "    var dataURL = fig.canvas.toDataURL();\n",
       "    // Re-enable the keyboard manager in IPython - without this line, in FF,\n",
       "    // the notebook keyboard shortcuts fail.\n",
       "    IPython.keyboard_manager.enable()\n",
       "    $(fig.parent_element).html('<img src=\"' + dataURL + '\" width=\"' + width + '\">');\n",
       "    fig.close_ws(fig, msg);\n",
       "}\n",
       "\n",
       "mpl.figure.prototype.close_ws = function(fig, msg){\n",
       "    fig.send_message('closing', msg);\n",
       "    // fig.ws.close()\n",
       "}\n",
       "\n",
       "mpl.figure.prototype.push_to_output = function(remove_interactive) {\n",
       "    // Turn the data on the canvas into data in the output cell.\n",
       "    var width = this.canvas.width/mpl.ratio\n",
       "    var dataURL = this.canvas.toDataURL();\n",
       "    this.cell_info[1]['text/html'] = '<img src=\"' + dataURL + '\" width=\"' + width + '\">';\n",
       "}\n",
       "\n",
       "mpl.figure.prototype.updated_canvas_event = function() {\n",
       "    // Tell IPython that the notebook contents must change.\n",
       "    IPython.notebook.set_dirty(true);\n",
       "    this.send_message(\"ack\", {});\n",
       "    var fig = this;\n",
       "    // Wait a second, then push the new image to the DOM so\n",
       "    // that it is saved nicely (might be nice to debounce this).\n",
       "    setTimeout(function () { fig.push_to_output() }, 1000);\n",
       "}\n",
       "\n",
       "mpl.figure.prototype._init_toolbar = function() {\n",
       "    var fig = this;\n",
       "\n",
       "    var nav_element = $('<div/>');\n",
       "    nav_element.attr('style', 'width: 100%');\n",
       "    this.root.append(nav_element);\n",
       "\n",
       "    // Define a callback function for later on.\n",
       "    function toolbar_event(event) {\n",
       "        return fig.toolbar_button_onclick(event['data']);\n",
       "    }\n",
       "    function toolbar_mouse_event(event) {\n",
       "        return fig.toolbar_button_onmouseover(event['data']);\n",
       "    }\n",
       "\n",
       "    for(var toolbar_ind in mpl.toolbar_items){\n",
       "        var name = mpl.toolbar_items[toolbar_ind][0];\n",
       "        var tooltip = mpl.toolbar_items[toolbar_ind][1];\n",
       "        var image = mpl.toolbar_items[toolbar_ind][2];\n",
       "        var method_name = mpl.toolbar_items[toolbar_ind][3];\n",
       "\n",
       "        if (!name) { continue; };\n",
       "\n",
       "        var button = $('<button class=\"btn btn-default\" href=\"#\" title=\"' + name + '\"><i class=\"fa ' + image + ' fa-lg\"></i></button>');\n",
       "        button.click(method_name, toolbar_event);\n",
       "        button.mouseover(tooltip, toolbar_mouse_event);\n",
       "        nav_element.append(button);\n",
       "    }\n",
       "\n",
       "    // Add the status bar.\n",
       "    var status_bar = $('<span class=\"mpl-message\" style=\"text-align:right; float: right;\"/>');\n",
       "    nav_element.append(status_bar);\n",
       "    this.message = status_bar[0];\n",
       "\n",
       "    // Add the close button to the window.\n",
       "    var buttongrp = $('<div class=\"btn-group inline pull-right\"></div>');\n",
       "    var button = $('<button class=\"btn btn-mini btn-primary\" href=\"#\" title=\"Stop Interaction\"><i class=\"fa fa-power-off icon-remove icon-large\"></i></button>');\n",
       "    button.click(function (evt) { fig.handle_close(fig, {}); } );\n",
       "    button.mouseover('Stop Interaction', toolbar_mouse_event);\n",
       "    buttongrp.append(button);\n",
       "    var titlebar = this.root.find($('.ui-dialog-titlebar'));\n",
       "    titlebar.prepend(buttongrp);\n",
       "}\n",
       "\n",
       "mpl.figure.prototype._root_extra_style = function(el){\n",
       "    var fig = this\n",
       "    el.on(\"remove\", function(){\n",
       "\tfig.close_ws(fig, {});\n",
       "    });\n",
       "}\n",
       "\n",
       "mpl.figure.prototype._canvas_extra_style = function(el){\n",
       "    // this is important to make the div 'focusable\n",
       "    el.attr('tabindex', 0)\n",
       "    // reach out to IPython and tell the keyboard manager to turn it's self\n",
       "    // off when our div gets focus\n",
       "\n",
       "    // location in version 3\n",
       "    if (IPython.notebook.keyboard_manager) {\n",
       "        IPython.notebook.keyboard_manager.register_events(el);\n",
       "    }\n",
       "    else {\n",
       "        // location in version 2\n",
       "        IPython.keyboard_manager.register_events(el);\n",
       "    }\n",
       "\n",
       "}\n",
       "\n",
       "mpl.figure.prototype._key_event_extra = function(event, name) {\n",
       "    var manager = IPython.notebook.keyboard_manager;\n",
       "    if (!manager)\n",
       "        manager = IPython.keyboard_manager;\n",
       "\n",
       "    // Check for shift+enter\n",
       "    if (event.shiftKey && event.which == 13) {\n",
       "        this.canvas_div.blur();\n",
       "        // select the cell after this one\n",
       "        var index = IPython.notebook.find_cell_index(this.cell_info[0]);\n",
       "        IPython.notebook.select(index + 1);\n",
       "    }\n",
       "}\n",
       "\n",
       "mpl.figure.prototype.handle_save = function(fig, msg) {\n",
       "    fig.ondownload(fig, null);\n",
       "}\n",
       "\n",
       "\n",
       "mpl.find_output_cell = function(html_output) {\n",
       "    // Return the cell and output element which can be found *uniquely* in the notebook.\n",
       "    // Note - this is a bit hacky, but it is done because the \"notebook_saving.Notebook\"\n",
       "    // IPython event is triggered only after the cells have been serialised, which for\n",
       "    // our purposes (turning an active figure into a static one), is too late.\n",
       "    var cells = IPython.notebook.get_cells();\n",
       "    var ncells = cells.length;\n",
       "    for (var i=0; i<ncells; i++) {\n",
       "        var cell = cells[i];\n",
       "        if (cell.cell_type === 'code'){\n",
       "            for (var j=0; j<cell.output_area.outputs.length; j++) {\n",
       "                var data = cell.output_area.outputs[j];\n",
       "                if (data.data) {\n",
       "                    // IPython >= 3 moved mimebundle to data attribute of output\n",
       "                    data = data.data;\n",
       "                }\n",
       "                if (data['text/html'] == html_output) {\n",
       "                    return [cell, data, j];\n",
       "                }\n",
       "            }\n",
       "        }\n",
       "    }\n",
       "}\n",
       "\n",
       "// Register the function which deals with the matplotlib target/channel.\n",
       "// The kernel may be null if the page has been refreshed.\n",
       "if (IPython.notebook.kernel != null) {\n",
       "    IPython.notebook.kernel.comm_manager.register_target('matplotlib', mpl.mpl_figure_comm);\n",
       "}\n"
      ],
      "text/plain": [
       "<IPython.core.display.Javascript object>"
      ]
     },
     "metadata": {},
     "output_type": "display_data"
    },
    {
     "data": {
      "text/html": [
       "<img src=\"data:image/png;base64,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\" width=\"640\">"
      ],
      "text/plain": [
       "<IPython.core.display.HTML object>"
      ]
     },
     "metadata": {},
     "output_type": "display_data"
    },
    {
     "name": "stdout",
     "output_type": "stream",
     "text": [
      "Starting experimental run with id: 1725\n"
     ]
    },
    {
     "data": {
      "text/plain": [
       "1725"
      ]
     },
     "execution_count": 160,
     "metadata": {},
     "output_type": "execute_result"
    }
   ],
   "source": [
    "jj79N6 = JJmeas(sample = 'D079N6')\n",
    "jj79N6.db_connect()\n",
    "jj79N6.ZF = 4e-6\n",
    "jj79N6.FF = 232e-6\n",
    "\n",
    "\n",
    "\n",
    "ids = range(763,813+1)\n",
    "# jj79N6.bpbi(ids)\n",
    "\n",
    "\n",
    "B_list =   np.linspace(4e-6, 232e-6, 51)\n",
    "cos_list = jj79N6.B_to_cos(B_list)\n",
    "\n",
    "Ics = jj79N6.Isw_by_id(ids, fullIVC = True, yoff = -.715e-3, dy = 10e-6)\n",
    "\n",
    "Ej0 = 4.49\n",
    "\n",
    "fig, ax = plt.subplots()\n",
    "ax.plot(cos_list, Ics, 'o-')\n",
    "# ax.plot(B_list, Ics, 'o-')\n",
    "\n",
    "\n",
    "jj79N6.mock_meas((Isw_param , Ics), (Ej_param, Ej0*cos_list),\n",
    "             label = 'Isw vs Ej')"
   ]
  },
  {
   "cell_type": "markdown",
   "metadata": {},
   "source": [
    "### T scan"
   ]
  },
  {
   "cell_type": "code",
   "execution_count": 135,
   "metadata": {},
   "outputs": [
    {
     "data": {
      "text/plain": [
       "'Heater changed = 3.16mA'"
      ]
     },
     "execution_count": 135,
     "metadata": {},
     "output_type": "execute_result"
    }
   ],
   "source": [
    "htr.HTRset('3.16mA')"
   ]
  },
  {
   "cell_type": "code",
   "execution_count": 35,
   "metadata": {},
   "outputs": [],
   "source": [
    "htr.output_range('3.16mA')"
   ]
  },
  {
   "cell_type": "code",
   "execution_count": 33,
   "metadata": {},
   "outputs": [
    {
     "data": {
      "text/plain": [
       "0.0344948"
      ]
     },
     "execution_count": 33,
     "metadata": {},
     "output_type": "execute_result"
    }
   ],
   "source": [
    "T8.get()"
   ]
  },
  {
   "cell_type": "code",
   "execution_count": 51,
   "metadata": {},
   "outputs": [
    {
     "name": "stdout",
     "output_type": "stream",
     "text": [
      "0.19154216771905513\n"
     ]
    },
    {
     "data": {
      "application/vnd.jupyter.widget-view+json": {
       "model_id": "769faafa726f41cab9fbc7b62cf1df43",
       "version_major": 2,
       "version_minor": 0
      },
      "text/plain": [
       "HBox(children=(IntProgress(value=0, max=17), HTML(value='')))"
      ]
     },
     "metadata": {},
     "output_type": "display_data"
    },
    {
     "name": "stdout",
     "output_type": "stream",
     "text": [
      "ramping T8 to 40.0 mK...\n",
      "40.7 m\n",
      "40.6 m\n",
      "40.7 m\n",
      "40.7 m\n",
      "40.5 m\n",
      "40.6 m\n",
      "40.5 m\n",
      "40.2 m\n",
      "40.5 m\n",
      "40.1 m\n",
      "40.3 m\n",
      "40.2 m\n",
      "40.2 m\n",
      "40.1 m\n",
      "40.0 m\n",
      "39.9 m\n",
      "39.8 m\n",
      "39.8 m\n",
      "39.9 m\n",
      "39.9 m\n",
      "T is set\n"
     ]
    },
    {
     "data": {
      "application/vnd.jupyter.widget-view+json": {
       "model_id": "",
       "version_major": 2,
       "version_minor": 0
      },
      "text/plain": [
       "HBox(children=(IntProgress(value=0, max=403), HTML(value='')))"
      ]
     },
     "metadata": {},
     "output_type": "display_data"
    },
    {
     "name": "stdout",
     "output_type": "stream",
     "text": [
      "Starting experimental run with id: 1473\n",
      "ramping T8 to 50.0 mK...\n",
      "51.0 m\n",
      "51.0 m\n",
      "50.8 m\n",
      "50.6 m\n",
      "50.8 m\n",
      "50.8 m\n",
      "50.8 m\n",
      "50.6 m\n",
      "50.5 m\n",
      "50.7 m\n",
      "50.6 m\n",
      "50.6 m\n",
      "50.4 m\n",
      "50.4 m\n",
      "50.1 m\n",
      "50.2 m\n",
      "50.0 m\n",
      "50.1 m\n",
      "50.0 m\n",
      "49.9 m\n",
      "50.1 m\n",
      "49.9 m\n",
      "T is set\n"
     ]
    },
    {
     "data": {
      "application/vnd.jupyter.widget-view+json": {
       "model_id": "",
       "version_major": 2,
       "version_minor": 0
      },
      "text/plain": [
       "HBox(children=(IntProgress(value=0, max=403), HTML(value='')))"
      ]
     },
     "metadata": {},
     "output_type": "display_data"
    },
    {
     "name": "stdout",
     "output_type": "stream",
     "text": [
      "Starting experimental run with id: 1474\n",
      "ramping T8 to 60.0 mK...\n",
      "60.4 m\n",
      "61.1 m\n",
      "60.0 m\n",
      "58.9 m\n",
      "59.1 m\n",
      "60.1 m\n",
      "61.1 m\n",
      "60.6 m\n",
      "60.4 m\n",
      "59.7 m\n",
      "59.1 m\n",
      "59.3 m\n",
      "60.6 m\n",
      "61.0 m\n",
      "60.3 m\n",
      "59.5 m\n",
      "59.3 m\n",
      "59.3 m\n",
      "58.8 m\n",
      "59.7 m\n",
      "60.4 m\n",
      "61.0 m\n",
      "60.7 m\n",
      "59.8 m\n",
      "59.1 m\n",
      "59.0 m\n",
      "59.4 m\n",
      "59.6 m\n",
      "60.2 m\n",
      "60.3 m\n",
      "60.4 m\n",
      "60.2 m\n",
      "59.8 m\n",
      "59.5 m\n",
      "59.2 m\n",
      "60.0 m\n",
      "60.0 m\n",
      "61.2 m\n",
      "60.9 m\n",
      "60.6 m\n",
      "59.5 m\n",
      "59.6 m\n",
      "T is set\n"
     ]
    },
    {
     "data": {
      "application/vnd.jupyter.widget-view+json": {
       "model_id": "",
       "version_major": 2,
       "version_minor": 0
      },
      "text/plain": [
       "HBox(children=(IntProgress(value=0, max=403), HTML(value='')))"
      ]
     },
     "metadata": {},
     "output_type": "display_data"
    },
    {
     "name": "stdout",
     "output_type": "stream",
     "text": [
      "Starting experimental run with id: 1475\n",
      "ramping T8 to 70.0 mK...\n",
      "69.4 m\n",
      "68.8 m\n",
      "69.0 m\n",
      "70.7 m\n",
      "71.3 m\n",
      "71.1 m\n",
      "70.3 m\n",
      "69.3 m\n",
      "68.9 m\n",
      "69.7 m\n",
      "70.2 m\n",
      "71.2 m\n",
      "70.8 m\n",
      "70.2 m\n",
      "69.6 m\n",
      "69.1 m\n",
      "69.2 m\n",
      "70.5 m\n",
      "70.8 m\n",
      "70.6 m\n",
      "70.4 m\n",
      "69.5 m\n",
      "69.4 m\n",
      "69.7 m\n",
      "T is set\n"
     ]
    },
    {
     "data": {
      "application/vnd.jupyter.widget-view+json": {
       "model_id": "",
       "version_major": 2,
       "version_minor": 0
      },
      "text/plain": [
       "HBox(children=(IntProgress(value=0, max=403), HTML(value='')))"
      ]
     },
     "metadata": {},
     "output_type": "display_data"
    },
    {
     "name": "stdout",
     "output_type": "stream",
     "text": [
      "Starting experimental run with id: 1476\n",
      "ramping T8 to 80.0 mK...\n",
      "81.4 m\n",
      "81.6 m\n",
      "80.4 m\n",
      "79.0 m\n",
      "78.5 m\n",
      "79.6 m\n",
      "81.0 m\n",
      "81.3 m\n",
      "80.2 m\n",
      "79.1 m\n",
      "78.8 m\n",
      "80.1 m\n",
      "81.1 m\n",
      "80.8 m\n",
      "80.8 m\n",
      "79.6 m\n",
      "79.9 m\n",
      "80.2 m\n",
      "80.7 m\n",
      "80.2 m\n",
      "79.9 m\n",
      "80.1 m\n",
      "T is set\n"
     ]
    },
    {
     "data": {
      "application/vnd.jupyter.widget-view+json": {
       "model_id": "",
       "version_major": 2,
       "version_minor": 0
      },
      "text/plain": [
       "HBox(children=(IntProgress(value=0, max=403), HTML(value='')))"
      ]
     },
     "metadata": {},
     "output_type": "display_data"
    },
    {
     "name": "stdout",
     "output_type": "stream",
     "text": [
      "Starting experimental run with id: 1477\n",
      "ramping T8 to 90.0 mK...\n",
      "90.9 m\n",
      "89.6 m\n",
      "89.6 m\n",
      "90.2 m\n",
      "89.7 m\n",
      "90.1 m\n",
      "90.0 m\n",
      "89.6 m\n",
      "90.5 m\n",
      "90.2 m\n",
      "89.7 m\n",
      "90.2 m\n",
      "90.8 m\n",
      "90.4 m\n",
      "89.5 m\n",
      "89.6 m\n",
      "90.6 m\n",
      "89.9 m\n",
      "90.1 m\n",
      "89.9 m\n",
      "T is set\n"
     ]
    },
    {
     "data": {
      "application/vnd.jupyter.widget-view+json": {
       "model_id": "",
       "version_major": 2,
       "version_minor": 0
      },
      "text/plain": [
       "HBox(children=(IntProgress(value=0, max=403), HTML(value='')))"
      ]
     },
     "metadata": {},
     "output_type": "display_data"
    },
    {
     "name": "stdout",
     "output_type": "stream",
     "text": [
      "Starting experimental run with id: 1478\n",
      "ramping T8 to 100.0 mK...\n",
      "101.2 m\n",
      "100.9 m\n",
      "99.2 m\n",
      "100.2 m\n",
      "100.4 m\n",
      "101.4 m\n",
      "100.8 m\n",
      "100.0 m\n",
      "99.7 m\n",
      "99.8 m\n",
      "99.8 m\n",
      "100.7 m\n",
      "101.0 m\n",
      "99.8 m\n",
      "100.8 m\n",
      "99.3 m\n",
      "100.1 m\n",
      "99.2 m\n",
      "99.4 m\n",
      "100.7 m\n",
      "T is set\n"
     ]
    },
    {
     "data": {
      "application/vnd.jupyter.widget-view+json": {
       "model_id": "",
       "version_major": 2,
       "version_minor": 0
      },
      "text/plain": [
       "HBox(children=(IntProgress(value=0, max=403), HTML(value='')))"
      ]
     },
     "metadata": {},
     "output_type": "display_data"
    },
    {
     "name": "stdout",
     "output_type": "stream",
     "text": [
      "Starting experimental run with id: 1479\n",
      "ramping T8 to 110.0 mK...\n",
      "110.6 m\n",
      "109.8 m\n",
      "110.7 m\n",
      "110.0 m\n",
      "109.4 m\n",
      "111.4 m\n",
      "110.8 m\n",
      "111.5 m\n",
      "109.7 m\n",
      "109.5 m\n",
      "111.4 m\n",
      "110.1 m\n",
      "109.5 m\n",
      "110.1 m\n",
      "109.8 m\n",
      "110.5 m\n",
      "111.0 m\n",
      "109.7 m\n",
      "110.2 m\n",
      "110.1 m\n",
      "T is set\n"
     ]
    },
    {
     "data": {
      "application/vnd.jupyter.widget-view+json": {
       "model_id": "",
       "version_major": 2,
       "version_minor": 0
      },
      "text/plain": [
       "HBox(children=(IntProgress(value=0, max=403), HTML(value='')))"
      ]
     },
     "metadata": {},
     "output_type": "display_data"
    },
    {
     "name": "stdout",
     "output_type": "stream",
     "text": [
      "Starting experimental run with id: 1480\n",
      "ramping T8 to 120.0 mK...\n",
      "120.6 m\n",
      "120.2 m\n",
      "120.8 m\n",
      "119.3 m\n",
      "120.5 m\n",
      "121.2 m\n",
      "121.4 m\n",
      "120.3 m\n",
      "121.3 m\n",
      "119.7 m\n",
      "119.2 m\n",
      "119.2 m\n",
      "119.7 m\n",
      "120.0 m\n",
      "119.5 m\n",
      "120.3 m\n",
      "120.8 m\n",
      "121.1 m\n",
      "119.6 m\n",
      "119.3 m\n",
      "T is set\n"
     ]
    },
    {
     "data": {
      "application/vnd.jupyter.widget-view+json": {
       "model_id": "",
       "version_major": 2,
       "version_minor": 0
      },
      "text/plain": [
       "HBox(children=(IntProgress(value=0, max=403), HTML(value='')))"
      ]
     },
     "metadata": {},
     "output_type": "display_data"
    },
    {
     "name": "stdout",
     "output_type": "stream",
     "text": [
      "Starting experimental run with id: 1481\n",
      "ramping T8 to 130.0 mK...\n",
      "128.6 m\n",
      "130.4 m\n",
      "129.7 m\n",
      "131.5 m\n",
      "130.0 m\n",
      "131.2 m\n",
      "129.1 m\n",
      "130.2 m\n",
      "130.6 m\n",
      "130.8 m\n",
      "131.1 m\n",
      "129.9 m\n",
      "129.4 m\n",
      "130.7 m\n",
      "131.6 m\n",
      "128.6 m\n",
      "131.8 m\n",
      "129.5 m\n",
      "130.2 m\n",
      "128.9 m\n",
      "T is set\n"
     ]
    },
    {
     "data": {
      "application/vnd.jupyter.widget-view+json": {
       "model_id": "",
       "version_major": 2,
       "version_minor": 0
      },
      "text/plain": [
       "HBox(children=(IntProgress(value=0, max=403), HTML(value='')))"
      ]
     },
     "metadata": {},
     "output_type": "display_data"
    },
    {
     "name": "stdout",
     "output_type": "stream",
     "text": [
      "Starting experimental run with id: 1482\n",
      "ramping T8 to 140.0 mK...\n",
      "141.6 m\n",
      "140.2 m\n",
      "141.4 m\n",
      "139.7 m\n",
      "141.1 m\n",
      "139.9 m\n",
      "140.8 m\n",
      "140.3 m\n",
      "141.4 m\n",
      "140.3 m\n",
      "141.6 m\n",
      "140.3 m\n",
      "139.7 m\n",
      "140.2 m\n",
      "139.4 m\n",
      "139.8 m\n",
      "140.8 m\n",
      "138.7 m\n",
      "139.8 m\n",
      "141.1 m\n",
      "T is set\n"
     ]
    },
    {
     "data": {
      "application/vnd.jupyter.widget-view+json": {
       "model_id": "",
       "version_major": 2,
       "version_minor": 0
      },
      "text/plain": [
       "HBox(children=(IntProgress(value=0, max=403), HTML(value='')))"
      ]
     },
     "metadata": {},
     "output_type": "display_data"
    },
    {
     "name": "stdout",
     "output_type": "stream",
     "text": [
      "Starting experimental run with id: 1483\n",
      "ramping T8 to 150.0 mK...\n",
      "151.2 m\n",
      "151.3 m\n",
      "150.9 m\n",
      "150.8 m\n",
      "151.0 m\n",
      "149.5 m\n",
      "150.0 m\n",
      "152.1 m\n",
      "149.1 m\n",
      "150.5 m\n",
      "151.3 m\n",
      "150.3 m\n",
      "149.7 m\n",
      "150.5 m\n",
      "150.6 m\n",
      "149.0 m\n",
      "150.4 m\n",
      "148.6 m\n",
      "152.8 m\n",
      "150.5 m\n",
      "T is set\n"
     ]
    },
    {
     "data": {
      "application/vnd.jupyter.widget-view+json": {
       "model_id": "",
       "version_major": 2,
       "version_minor": 0
      },
      "text/plain": [
       "HBox(children=(IntProgress(value=0, max=403), HTML(value='')))"
      ]
     },
     "metadata": {},
     "output_type": "display_data"
    },
    {
     "name": "stdout",
     "output_type": "stream",
     "text": [
      "Starting experimental run with id: 1484\n",
      "ramping T8 to 160.0 mK...\n",
      "162.1 m\n",
      "160.8 m\n",
      "161.4 m\n",
      "162.2 m\n",
      "163.0 m\n",
      "161.6 m\n",
      "160.2 m\n",
      "158.9 m\n",
      "160.8 m\n",
      "161.0 m\n",
      "160.0 m\n",
      "161.4 m\n",
      "161.5 m\n",
      "159.5 m\n",
      "161.1 m\n",
      "158.9 m\n",
      "159.4 m\n",
      "160.4 m\n",
      "159.7 m\n",
      "159.4 m\n",
      "T is set\n"
     ]
    },
    {
     "data": {
      "application/vnd.jupyter.widget-view+json": {
       "model_id": "",
       "version_major": 2,
       "version_minor": 0
      },
      "text/plain": [
       "HBox(children=(IntProgress(value=0, max=403), HTML(value='')))"
      ]
     },
     "metadata": {},
     "output_type": "display_data"
    },
    {
     "name": "stdout",
     "output_type": "stream",
     "text": [
      "Starting experimental run with id: 1485\n",
      "ramping T8 to 170.0 mK...\n",
      "170.5 m\n",
      "171.8 m\n",
      "171.8 m\n",
      "171.4 m\n",
      "172.8 m\n",
      "171.4 m\n",
      "171.5 m\n",
      "170.8 m\n",
      "170.1 m\n",
      "172.5 m\n",
      "169.8 m\n",
      "171.1 m\n",
      "168.9 m\n",
      "170.3 m\n",
      "171.0 m\n",
      "169.0 m\n",
      "170.6 m\n",
      "170.2 m\n",
      "169.5 m\n",
      "170.6 m\n",
      "169.3 m\n",
      "T is set\n"
     ]
    },
    {
     "data": {
      "application/vnd.jupyter.widget-view+json": {
       "model_id": "",
       "version_major": 2,
       "version_minor": 0
      },
      "text/plain": [
       "HBox(children=(IntProgress(value=0, max=403), HTML(value='')))"
      ]
     },
     "metadata": {},
     "output_type": "display_data"
    },
    {
     "name": "stdout",
     "output_type": "stream",
     "text": [
      "Starting experimental run with id: 1486\n",
      "ramping T8 to 180.0 mK...\n",
      "182.8 m\n",
      "183.2 m\n",
      "182.0 m\n",
      "181.1 m\n",
      "181.1 m\n",
      "181.5 m\n",
      "181.8 m\n",
      "180.0 m\n",
      "180.8 m\n",
      "181.0 m\n",
      "178.9 m\n",
      "183.4 m\n",
      "180.8 m\n",
      "180.9 m\n",
      "179.2 m\n",
      "180.8 m\n",
      "182.7 m\n",
      "180.7 m\n",
      "179.2 m\n",
      "178.8 m\n",
      "T is set\n"
     ]
    },
    {
     "data": {
      "application/vnd.jupyter.widget-view+json": {
       "model_id": "",
       "version_major": 2,
       "version_minor": 0
      },
      "text/plain": [
       "HBox(children=(IntProgress(value=0, max=403), HTML(value='')))"
      ]
     },
     "metadata": {},
     "output_type": "display_data"
    },
    {
     "name": "stdout",
     "output_type": "stream",
     "text": [
      "Starting experimental run with id: 1487\n",
      "ramping T8 to 190.0 mK...\n",
      "191.8 m\n",
      "190.1 m\n",
      "191.7 m\n",
      "192.6 m\n",
      "191.4 m\n",
      "188.2 m\n",
      "191.0 m\n",
      "192.0 m\n",
      "191.9 m\n",
      "192.5 m\n",
      "191.3 m\n",
      "190.7 m\n",
      "189.8 m\n",
      "190.1 m\n",
      "191.2 m\n",
      "189.2 m\n",
      "188.5 m\n",
      "190.6 m\n",
      "191.1 m\n",
      "190.3 m\n",
      "T is set\n"
     ]
    },
    {
     "data": {
      "application/vnd.jupyter.widget-view+json": {
       "model_id": "",
       "version_major": 2,
       "version_minor": 0
      },
      "text/plain": [
       "HBox(children=(IntProgress(value=0, max=403), HTML(value='')))"
      ]
     },
     "metadata": {},
     "output_type": "display_data"
    },
    {
     "name": "stdout",
     "output_type": "stream",
     "text": [
      "Starting experimental run with id: 1488\n",
      "ramping T8 to 200.0 mK...\n",
      "203.3 m\n",
      "202.1 m\n",
      "202.3 m\n",
      "202.8 m\n",
      "202.0 m\n",
      "202.7 m\n",
      "201.5 m\n",
      "201.3 m\n",
      "201.2 m\n",
      "200.4 m\n",
      "200.7 m\n",
      "200.2 m\n",
      "200.4 m\n",
      "199.6 m\n",
      "198.4 m\n",
      "201.6 m\n",
      "201.6 m\n",
      "200.7 m\n",
      "203.2 m\n",
      "198.8 m\n",
      "T is set\n"
     ]
    },
    {
     "data": {
      "application/vnd.jupyter.widget-view+json": {
       "model_id": "",
       "version_major": 2,
       "version_minor": 0
      },
      "text/plain": [
       "HBox(children=(IntProgress(value=0, max=403), HTML(value='')))"
      ]
     },
     "metadata": {},
     "output_type": "display_data"
    },
    {
     "name": "stdout",
     "output_type": "stream",
     "text": [
      "Starting experimental run with id: 1489\n",
      "\n"
     ]
    }
   ],
   "source": [
    "B = jj5.cos_to_B(0.2)\n",
    "# B = 0e-6\n",
    "\n",
    "print(B*1e3)\n",
    "\n",
    "Bfield.set(B)\n",
    "\n",
    "T_list = np.array( [40 + 10*i for i in range (17) ] )*1e-3\n",
    "\n",
    "[            jj.IVC_udu (amp = 20e-12, stp = 0.2e-12, dt = .1,  N_avg = 1)\n",
    " \n",
    " for jj in   jj5.Tscan( T_list )]\n",
    "\n",
    "htr_setpt.set(0.030)"
   ]
  },
  {
   "cell_type": "code",
   "execution_count": 52,
   "metadata": {},
   "outputs": [
    {
     "name": "stdout",
     "output_type": "stream",
     "text": [
      "0.17693791229481884\n"
     ]
    },
    {
     "data": {
      "application/vnd.jupyter.widget-view+json": {
       "model_id": "824c77c8c0f74af6a4c82e08cf7c2561",
       "version_major": 2,
       "version_minor": 0
      },
      "text/plain": [
       "HBox(children=(IntProgress(value=0, max=17), HTML(value='')))"
      ]
     },
     "metadata": {},
     "output_type": "display_data"
    },
    {
     "name": "stdout",
     "output_type": "stream",
     "text": [
      "ramping T8 to 40.0 mK...\n",
      "40.7 m\n",
      "40.8 m\n",
      "40.8 m\n",
      "40.8 m\n",
      "40.7 m\n",
      "40.6 m\n",
      "40.6 m\n",
      "40.6 m\n",
      "40.6 m\n",
      "40.6 m\n",
      "40.4 m\n",
      "40.3 m\n",
      "40.5 m\n",
      "40.4 m\n",
      "40.4 m\n",
      "40.3 m\n",
      "40.2 m\n",
      "40.1 m\n",
      "40.0 m\n",
      "40.1 m\n",
      "40.1 m\n",
      "40.1 m\n",
      "39.9 m\n",
      "40.0 m\n",
      "T is set\n"
     ]
    },
    {
     "data": {
      "application/vnd.jupyter.widget-view+json": {
       "model_id": "",
       "version_major": 2,
       "version_minor": 0
      },
      "text/plain": [
       "HBox(children=(IntProgress(value=0, max=403), HTML(value='')))"
      ]
     },
     "metadata": {},
     "output_type": "display_data"
    },
    {
     "name": "stdout",
     "output_type": "stream",
     "text": [
      "Starting experimental run with id: 1490\n",
      "ramping T8 to 50.0 mK...\n",
      "50.9 m\n",
      "50.8 m\n",
      "50.8 m\n",
      "50.3 m\n",
      "50.7 m\n",
      "51.0 m\n",
      "50.6 m\n",
      "50.4 m\n",
      "50.2 m\n",
      "50.1 m\n",
      "50.1 m\n",
      "50.1 m\n",
      "49.9 m\n",
      "50.3 m\n",
      "50.2 m\n",
      "49.8 m\n",
      "49.9 m\n",
      "49.7 m\n",
      "49.7 m\n",
      "49.8 m\n",
      "T is set\n"
     ]
    },
    {
     "data": {
      "application/vnd.jupyter.widget-view+json": {
       "model_id": "",
       "version_major": 2,
       "version_minor": 0
      },
      "text/plain": [
       "HBox(children=(IntProgress(value=0, max=403), HTML(value='')))"
      ]
     },
     "metadata": {},
     "output_type": "display_data"
    },
    {
     "name": "stdout",
     "output_type": "stream",
     "text": [
      "Starting experimental run with id: 1491\n",
      "ramping T8 to 60.0 mK...\n",
      "60.6 m\n",
      "61.2 m\n",
      "60.1 m\n",
      "59.4 m\n",
      "59.1 m\n",
      "58.8 m\n",
      "59.6 m\n",
      "61.1 m\n",
      "60.4 m\n",
      "59.9 m\n",
      "59.2 m\n",
      "59.2 m\n",
      "59.0 m\n",
      "60.1 m\n",
      "60.8 m\n",
      "60.8 m\n",
      "61.1 m\n",
      "60.3 m\n",
      "59.5 m\n",
      "59.4 m\n",
      "58.9 m\n",
      "59.3 m\n",
      "60.0 m\n",
      "60.7 m\n",
      "61.0 m\n",
      "60.4 m\n",
      "60.5 m\n",
      "59.9 m\n",
      "58.9 m\n",
      "58.9 m\n",
      "59.6 m\n",
      "T is set\n"
     ]
    },
    {
     "data": {
      "application/vnd.jupyter.widget-view+json": {
       "model_id": "",
       "version_major": 2,
       "version_minor": 0
      },
      "text/plain": [
       "HBox(children=(IntProgress(value=0, max=403), HTML(value='')))"
      ]
     },
     "metadata": {},
     "output_type": "display_data"
    },
    {
     "name": "stdout",
     "output_type": "stream",
     "text": [
      "Starting experimental run with id: 1492\n",
      "ramping T8 to 70.0 mK...\n",
      "69.6 m\n",
      "68.8 m\n",
      "68.6 m\n",
      "70.6 m\n",
      "71.3 m\n",
      "70.7 m\n",
      "69.9 m\n",
      "69.0 m\n",
      "68.8 m\n",
      "70.1 m\n",
      "71.2 m\n",
      "70.9 m\n",
      "70.4 m\n",
      "69.7 m\n",
      "68.9 m\n",
      "69.3 m\n",
      "70.1 m\n",
      "70.6 m\n",
      "69.6 m\n",
      "70.1 m\n",
      "70.0 m\n",
      "69.5 m\n",
      "70.2 m\n",
      "69.9 m\n",
      "70.1 m\n",
      "69.9 m\n",
      "T is set\n"
     ]
    },
    {
     "data": {
      "application/vnd.jupyter.widget-view+json": {
       "model_id": "",
       "version_major": 2,
       "version_minor": 0
      },
      "text/plain": [
       "HBox(children=(IntProgress(value=0, max=403), HTML(value='')))"
      ]
     },
     "metadata": {},
     "output_type": "display_data"
    },
    {
     "name": "stdout",
     "output_type": "stream",
     "text": [
      "Starting experimental run with id: 1493\n",
      "ramping T8 to 80.0 mK...\n",
      "78.6 m\n",
      "81.2 m\n",
      "81.4 m\n",
      "80.1 m\n",
      "78.7 m\n",
      "78.7 m\n",
      "80.1 m\n",
      "80.2 m\n",
      "80.4 m\n",
      "80.3 m\n",
      "79.6 m\n",
      "79.6 m\n",
      "79.9 m\n",
      "80.2 m\n",
      "80.3 m\n",
      "80.1 m\n",
      "79.9 m\n",
      "79.9 m\n",
      "78.9 m\n",
      "80.3 m\n",
      "80.5 m\n",
      "80.4 m\n",
      "T is set\n"
     ]
    },
    {
     "data": {
      "application/vnd.jupyter.widget-view+json": {
       "model_id": "",
       "version_major": 2,
       "version_minor": 0
      },
      "text/plain": [
       "HBox(children=(IntProgress(value=0, max=403), HTML(value='')))"
      ]
     },
     "metadata": {},
     "output_type": "display_data"
    },
    {
     "name": "stdout",
     "output_type": "stream",
     "text": [
      "Starting experimental run with id: 1494\n",
      "ramping T8 to 90.0 mK...\n",
      "90.7 m\n",
      "90.2 m\n",
      "90.2 m\n",
      "90.0 m\n",
      "89.7 m\n",
      "91.0 m\n",
      "90.3 m\n",
      "89.4 m\n",
      "89.8 m\n",
      "89.7 m\n",
      "89.8 m\n",
      "89.9 m\n",
      "90.4 m\n",
      "89.8 m\n",
      "90.3 m\n",
      "90.2 m\n",
      "89.6 m\n",
      "90.7 m\n",
      "89.6 m\n",
      "90.3 m\n",
      "T is set\n"
     ]
    },
    {
     "data": {
      "application/vnd.jupyter.widget-view+json": {
       "model_id": "",
       "version_major": 2,
       "version_minor": 0
      },
      "text/plain": [
       "HBox(children=(IntProgress(value=0, max=403), HTML(value='')))"
      ]
     },
     "metadata": {},
     "output_type": "display_data"
    },
    {
     "name": "stdout",
     "output_type": "stream",
     "text": [
      "Starting experimental run with id: 1495\n",
      "ramping T8 to 100.0 mK...\n",
      "100.7 m\n",
      "100.5 m\n",
      "100.3 m\n",
      "100.4 m\n",
      "100.0 m\n",
      "100.4 m\n",
      "100.5 m\n",
      "101.1 m\n",
      "100.7 m\n",
      "99.5 m\n",
      "100.3 m\n",
      "100.1 m\n",
      "99.4 m\n",
      "99.9 m\n",
      "100.2 m\n",
      "99.9 m\n",
      "100.6 m\n",
      "100.2 m\n",
      "100.0 m\n",
      "99.7 m\n",
      "T is set\n"
     ]
    },
    {
     "data": {
      "application/vnd.jupyter.widget-view+json": {
       "model_id": "",
       "version_major": 2,
       "version_minor": 0
      },
      "text/plain": [
       "HBox(children=(IntProgress(value=0, max=403), HTML(value='')))"
      ]
     },
     "metadata": {},
     "output_type": "display_data"
    },
    {
     "name": "stdout",
     "output_type": "stream",
     "text": [
      "Starting experimental run with id: 1496\n",
      "ramping T8 to 110.0 mK...\n",
      "110.9 m\n",
      "110.2 m\n",
      "109.7 m\n",
      "110.1 m\n",
      "110.8 m\n",
      "109.7 m\n",
      "109.9 m\n",
      "110.1 m\n",
      "110.0 m\n",
      "110.2 m\n",
      "110.1 m\n",
      "109.3 m\n",
      "110.5 m\n",
      "109.2 m\n",
      "110.4 m\n",
      "109.9 m\n",
      "110.2 m\n",
      "110.1 m\n",
      "110.1 m\n",
      "111.5 m\n",
      "T is set\n"
     ]
    },
    {
     "data": {
      "application/vnd.jupyter.widget-view+json": {
       "model_id": "",
       "version_major": 2,
       "version_minor": 0
      },
      "text/plain": [
       "HBox(children=(IntProgress(value=0, max=403), HTML(value='')))"
      ]
     },
     "metadata": {},
     "output_type": "display_data"
    },
    {
     "name": "stdout",
     "output_type": "stream",
     "text": [
      "Starting experimental run with id: 1497\n",
      "ramping T8 to 120.0 mK...\n",
      "120.5 m\n",
      "119.1 m\n",
      "121.6 m\n",
      "121.8 m\n",
      "120.8 m\n",
      "121.1 m\n",
      "120.6 m\n",
      "120.3 m\n",
      "120.8 m\n",
      "120.6 m\n",
      "120.6 m\n",
      "121.4 m\n",
      "119.9 m\n",
      "120.8 m\n",
      "119.1 m\n",
      "120.0 m\n",
      "120.8 m\n",
      "119.6 m\n",
      "120.2 m\n",
      "120.8 m\n",
      "T is set\n"
     ]
    },
    {
     "data": {
      "application/vnd.jupyter.widget-view+json": {
       "model_id": "",
       "version_major": 2,
       "version_minor": 0
      },
      "text/plain": [
       "HBox(children=(IntProgress(value=0, max=403), HTML(value='')))"
      ]
     },
     "metadata": {},
     "output_type": "display_data"
    },
    {
     "name": "stdout",
     "output_type": "stream",
     "text": [
      "Starting experimental run with id: 1498\n",
      "ramping T8 to 130.0 mK...\n",
      "131.3 m\n",
      "130.3 m\n",
      "131.2 m\n",
      "131.2 m\n",
      "129.5 m\n",
      "131.0 m\n",
      "129.4 m\n",
      "130.6 m\n",
      "128.9 m\n",
      "129.7 m\n",
      "131.0 m\n",
      "129.8 m\n",
      "130.2 m\n",
      "130.6 m\n",
      "130.3 m\n",
      "129.7 m\n",
      "129.8 m\n",
      "129.5 m\n",
      "129.5 m\n",
      "131.1 m\n",
      "T is set\n"
     ]
    },
    {
     "data": {
      "application/vnd.jupyter.widget-view+json": {
       "model_id": "",
       "version_major": 2,
       "version_minor": 0
      },
      "text/plain": [
       "HBox(children=(IntProgress(value=0, max=403), HTML(value='')))"
      ]
     },
     "metadata": {},
     "output_type": "display_data"
    },
    {
     "name": "stdout",
     "output_type": "stream",
     "text": [
      "Starting experimental run with id: 1499\n",
      "ramping T8 to 140.0 mK...\n",
      "140.7 m\n",
      "141.0 m\n",
      "141.2 m\n",
      "140.2 m\n",
      "141.9 m\n",
      "140.0 m\n",
      "140.7 m\n",
      "138.9 m\n",
      "140.4 m\n",
      "139.9 m\n",
      "141.4 m\n",
      "140.4 m\n",
      "142.7 m\n",
      "140.0 m\n",
      "139.7 m\n",
      "140.7 m\n",
      "139.5 m\n",
      "139.6 m\n",
      "139.7 m\n",
      "139.1 m\n",
      "T is set\n"
     ]
    },
    {
     "data": {
      "application/vnd.jupyter.widget-view+json": {
       "model_id": "",
       "version_major": 2,
       "version_minor": 0
      },
      "text/plain": [
       "HBox(children=(IntProgress(value=0, max=403), HTML(value='')))"
      ]
     },
     "metadata": {},
     "output_type": "display_data"
    },
    {
     "name": "stdout",
     "output_type": "stream",
     "text": [
      "Starting experimental run with id: 1500\n",
      "ramping T8 to 150.0 mK...\n",
      "151.4 m\n",
      "150.7 m\n",
      "150.8 m\n",
      "149.8 m\n",
      "150.4 m\n",
      "148.3 m\n",
      "150.6 m\n",
      "149.0 m\n",
      "150.7 m\n",
      "150.5 m\n",
      "152.7 m\n",
      "149.9 m\n",
      "151.5 m\n",
      "151.9 m\n",
      "147.8 m\n",
      "149.1 m\n",
      "148.8 m\n",
      "149.7 m\n",
      "150.8 m\n",
      "151.0 m\n",
      "T is set\n"
     ]
    },
    {
     "data": {
      "application/vnd.jupyter.widget-view+json": {
       "model_id": "",
       "version_major": 2,
       "version_minor": 0
      },
      "text/plain": [
       "HBox(children=(IntProgress(value=0, max=403), HTML(value='')))"
      ]
     },
     "metadata": {},
     "output_type": "display_data"
    },
    {
     "name": "stdout",
     "output_type": "stream",
     "text": [
      "Starting experimental run with id: 1501\n",
      "ramping T8 to 160.0 mK...\n",
      "161.7 m\n",
      "161.6 m\n",
      "161.4 m\n",
      "159.2 m\n",
      "159.9 m\n",
      "160.8 m\n",
      "161.8 m\n",
      "161.2 m\n",
      "160.8 m\n",
      "160.5 m\n",
      "160.7 m\n",
      "159.6 m\n",
      "160.1 m\n",
      "160.4 m\n",
      "159.3 m\n",
      "159.0 m\n",
      "159.0 m\n",
      "161.3 m\n",
      "160.2 m\n",
      "159.2 m\n",
      "T is set\n"
     ]
    },
    {
     "data": {
      "application/vnd.jupyter.widget-view+json": {
       "model_id": "",
       "version_major": 2,
       "version_minor": 0
      },
      "text/plain": [
       "HBox(children=(IntProgress(value=0, max=403), HTML(value='')))"
      ]
     },
     "metadata": {},
     "output_type": "display_data"
    },
    {
     "name": "stdout",
     "output_type": "stream",
     "text": [
      "Starting experimental run with id: 1502\n",
      "ramping T8 to 170.0 mK...\n",
      "173.2 m\n",
      "170.4 m\n",
      "170.5 m\n",
      "170.3 m\n",
      "170.3 m\n",
      "171.6 m\n",
      "168.9 m\n",
      "169.4 m\n",
      "171.0 m\n",
      "169.7 m\n",
      "170.4 m\n",
      "171.9 m\n",
      "170.1 m\n",
      "169.7 m\n",
      "171.0 m\n",
      "169.5 m\n",
      "168.9 m\n",
      "170.8 m\n",
      "170.0 m\n",
      "169.0 m\n",
      "T is set\n"
     ]
    },
    {
     "data": {
      "application/vnd.jupyter.widget-view+json": {
       "model_id": "",
       "version_major": 2,
       "version_minor": 0
      },
      "text/plain": [
       "HBox(children=(IntProgress(value=0, max=403), HTML(value='')))"
      ]
     },
     "metadata": {},
     "output_type": "display_data"
    },
    {
     "name": "stdout",
     "output_type": "stream",
     "text": [
      "Starting experimental run with id: 1503\n",
      "ramping T8 to 180.0 mK...\n",
      "181.5 m\n",
      "181.1 m\n",
      "183.3 m\n",
      "182.7 m\n",
      "179.4 m\n",
      "181.7 m\n",
      "179.7 m\n",
      "182.8 m\n",
      "181.1 m\n",
      "179.8 m\n",
      "180.9 m\n",
      "181.0 m\n",
      "180.9 m\n",
      "181.0 m\n",
      "180.4 m\n",
      "177.8 m\n",
      "178.5 m\n",
      "180.2 m\n",
      "181.3 m\n",
      "180.8 m\n",
      "178.4 m\n",
      "180.5 m\n",
      "180.5 m\n",
      "T is set\n"
     ]
    },
    {
     "data": {
      "application/vnd.jupyter.widget-view+json": {
       "model_id": "",
       "version_major": 2,
       "version_minor": 0
      },
      "text/plain": [
       "HBox(children=(IntProgress(value=0, max=403), HTML(value='')))"
      ]
     },
     "metadata": {},
     "output_type": "display_data"
    },
    {
     "name": "stdout",
     "output_type": "stream",
     "text": [
      "Starting experimental run with id: 1504\n",
      "ramping T8 to 190.0 mK...\n",
      "191.6 m\n",
      "192.9 m\n",
      "191.5 m\n",
      "192.3 m\n",
      "190.0 m\n",
      "191.3 m\n",
      "192.6 m\n",
      "193.0 m\n",
      "191.6 m\n",
      "191.5 m\n",
      "190.5 m\n",
      "191.7 m\n",
      "191.5 m\n",
      "191.8 m\n",
      "190.6 m\n",
      "191.1 m\n",
      "189.4 m\n",
      "190.8 m\n",
      "191.5 m\n",
      "186.6 m\n",
      "191.3 m\n",
      "190.5 m\n",
      "T is set\n"
     ]
    },
    {
     "data": {
      "application/vnd.jupyter.widget-view+json": {
       "model_id": "",
       "version_major": 2,
       "version_minor": 0
      },
      "text/plain": [
       "HBox(children=(IntProgress(value=0, max=403), HTML(value='')))"
      ]
     },
     "metadata": {},
     "output_type": "display_data"
    },
    {
     "name": "stdout",
     "output_type": "stream",
     "text": [
      "Starting experimental run with id: 1505\n",
      "ramping T8 to 200.0 mK...\n",
      "201.3 m\n",
      "203.3 m\n",
      "201.3 m\n",
      "203.6 m\n",
      "198.8 m\n",
      "201.0 m\n",
      "202.2 m\n",
      "200.2 m\n",
      "201.6 m\n",
      "200.7 m\n",
      "198.9 m\n",
      "201.6 m\n",
      "199.0 m\n",
      "200.0 m\n",
      "201.4 m\n",
      "200.9 m\n",
      "199.4 m\n",
      "200.1 m\n",
      "199.4 m\n",
      "200.6 m\n",
      "198.4 m\n",
      "201.9 m\n",
      "T is set\n"
     ]
    },
    {
     "data": {
      "application/vnd.jupyter.widget-view+json": {
       "model_id": "",
       "version_major": 2,
       "version_minor": 0
      },
      "text/plain": [
       "HBox(children=(IntProgress(value=0, max=403), HTML(value='')))"
      ]
     },
     "metadata": {},
     "output_type": "display_data"
    },
    {
     "name": "stdout",
     "output_type": "stream",
     "text": [
      "Starting experimental run with id: 1506\n",
      "\n"
     ]
    }
   ],
   "source": [
    "B = jj5.cos_to_B(0.3)\n",
    "# B = 0e-6\n",
    "\n",
    "print(B*1e3)\n",
    "\n",
    "Bfield.set(B)\n",
    "\n",
    "T_list = np.array( [40 + 10*i for i in range (17) ] )*1e-3\n",
    "\n",
    "[            jj.IVC_udu (amp = 20e-12, stp = 0.2e-12, dt = .1,  N_avg = 1)\n",
    " \n",
    " for jj in   jj5.Tscan( T_list )]\n",
    "\n",
    "htr_setpt.set(0.030)"
   ]
  },
  {
   "cell_type": "code",
   "execution_count": null,
   "metadata": {},
   "outputs": [],
   "source": [
    "[            jj.IVC_fwd (amp = 1e-12, stp = 0.025e-12, dt = .5, N_avg = 100)\n",
    "for jj in    jj.Tscan( [200e-3] )]\n",
    "\n",
    "htr.set(0.030)"
   ]
  },
  {
   "cell_type": "code",
   "execution_count": 36,
   "metadata": {},
   "outputs": [
    {
     "data": {
      "text/plain": [
       "array([0.04, 0.05, 0.06, 0.07, 0.08, 0.09, 0.1 , 0.11, 0.12, 0.13, 0.14,\n",
       "       0.15, 0.16, 0.17, 0.18, 0.19, 0.2 ])"
      ]
     },
     "execution_count": 36,
     "metadata": {},
     "output_type": "execute_result"
    }
   ],
   "source": [
    "np.array( [40 + 10*i for i in range (17) ] )*1e-3"
   ]
  },
  {
   "cell_type": "code",
   "execution_count": 44,
   "metadata": {},
   "outputs": [],
   "source": [
    "htr_setpt.set(30e-3)"
   ]
  },
  {
   "cell_type": "code",
   "execution_count": 13,
   "metadata": {},
   "outputs": [],
   "source": [
    "htr.output_range('3.16mA')"
   ]
  },
  {
   "cell_type": "code",
   "execution_count": 28,
   "metadata": {
    "scrolled": true
   },
   "outputs": [
    {
     "data": {
      "application/vnd.jupyter.widget-view+json": {
       "model_id": "8ba9d387d8af45a59fcce92212aef784",
       "version_major": 2,
       "version_minor": 0
      },
      "text/plain": [
       "HBox(children=(IntProgress(value=0, max=11), HTML(value='')))"
      ]
     },
     "metadata": {},
     "output_type": "display_data"
    },
    {
     "name": "stdout",
     "output_type": "stream",
     "text": [
      "ramping T8 to 50.0 mK...\n",
      "50.9 m\n",
      "50.7 m\n",
      "50.7 m\n",
      "50.9 m\n",
      "51.0 m\n",
      "50.5 m\n",
      "50.5 m\n",
      "50.3 m\n",
      "50.6 m\n",
      "50.2 m\n",
      "50.2 m\n",
      "50.2 m\n",
      "49.9 m\n",
      "49.6 m\n",
      "49.8 m\n",
      "50.1 m\n",
      "50.0 m\n",
      "49.6 m\n",
      "49.7 m\n",
      "49.5 m\n",
      "49.7 m\n",
      "49.6 m\n",
      "T is set\n"
     ]
    },
    {
     "data": {
      "application/vnd.jupyter.widget-view+json": {
       "model_id": "4786a95edf0e4c3d89c38939ac25accd",
       "version_major": 2,
       "version_minor": 0
      },
      "text/plain": [
       "HBox(children=(IntProgress(value=0, max=11), HTML(value='')))"
      ]
     },
     "metadata": {},
     "output_type": "display_data"
    },
    {
     "data": {
      "application/vnd.jupyter.widget-view+json": {
       "model_id": "",
       "version_major": 2,
       "version_minor": 0
      },
      "text/plain": [
       "HBox(children=(IntProgress(value=0, max=403), HTML(value='')))"
      ]
     },
     "metadata": {},
     "output_type": "display_data"
    },
    {
     "name": "stdout",
     "output_type": "stream",
     "text": [
      "Starting experimental run with id: 912\n"
     ]
    },
    {
     "data": {
      "application/vnd.jupyter.widget-view+json": {
       "model_id": "",
       "version_major": 2,
       "version_minor": 0
      },
      "text/plain": [
       "HBox(children=(IntProgress(value=0, max=403), HTML(value='')))"
      ]
     },
     "metadata": {},
     "output_type": "display_data"
    },
    {
     "name": "stdout",
     "output_type": "stream",
     "text": [
      "Starting experimental run with id: 913\n"
     ]
    },
    {
     "data": {
      "application/vnd.jupyter.widget-view+json": {
       "model_id": "",
       "version_major": 2,
       "version_minor": 0
      },
      "text/plain": [
       "HBox(children=(IntProgress(value=0, max=403), HTML(value='')))"
      ]
     },
     "metadata": {},
     "output_type": "display_data"
    },
    {
     "name": "stdout",
     "output_type": "stream",
     "text": [
      "Starting experimental run with id: 914\n"
     ]
    },
    {
     "data": {
      "application/vnd.jupyter.widget-view+json": {
       "model_id": "",
       "version_major": 2,
       "version_minor": 0
      },
      "text/plain": [
       "HBox(children=(IntProgress(value=0, max=403), HTML(value='')))"
      ]
     },
     "metadata": {},
     "output_type": "display_data"
    },
    {
     "name": "stdout",
     "output_type": "stream",
     "text": [
      "Starting experimental run with id: 915\n"
     ]
    },
    {
     "data": {
      "application/vnd.jupyter.widget-view+json": {
       "model_id": "",
       "version_major": 2,
       "version_minor": 0
      },
      "text/plain": [
       "HBox(children=(IntProgress(value=0, max=403), HTML(value='')))"
      ]
     },
     "metadata": {},
     "output_type": "display_data"
    },
    {
     "name": "stdout",
     "output_type": "stream",
     "text": [
      "Starting experimental run with id: 916\n"
     ]
    },
    {
     "data": {
      "application/vnd.jupyter.widget-view+json": {
       "model_id": "",
       "version_major": 2,
       "version_minor": 0
      },
      "text/plain": [
       "HBox(children=(IntProgress(value=0, max=403), HTML(value='')))"
      ]
     },
     "metadata": {},
     "output_type": "display_data"
    },
    {
     "name": "stdout",
     "output_type": "stream",
     "text": [
      "Starting experimental run with id: 917\n"
     ]
    },
    {
     "data": {
      "application/vnd.jupyter.widget-view+json": {
       "model_id": "",
       "version_major": 2,
       "version_minor": 0
      },
      "text/plain": [
       "HBox(children=(IntProgress(value=0, max=403), HTML(value='')))"
      ]
     },
     "metadata": {},
     "output_type": "display_data"
    },
    {
     "name": "stdout",
     "output_type": "stream",
     "text": [
      "Starting experimental run with id: 918\n"
     ]
    },
    {
     "data": {
      "application/vnd.jupyter.widget-view+json": {
       "model_id": "",
       "version_major": 2,
       "version_minor": 0
      },
      "text/plain": [
       "HBox(children=(IntProgress(value=0, max=403), HTML(value='')))"
      ]
     },
     "metadata": {},
     "output_type": "display_data"
    },
    {
     "name": "stdout",
     "output_type": "stream",
     "text": [
      "Starting experimental run with id: 919\n"
     ]
    },
    {
     "data": {
      "application/vnd.jupyter.widget-view+json": {
       "model_id": "",
       "version_major": 2,
       "version_minor": 0
      },
      "text/plain": [
       "HBox(children=(IntProgress(value=0, max=403), HTML(value='')))"
      ]
     },
     "metadata": {},
     "output_type": "display_data"
    },
    {
     "name": "stdout",
     "output_type": "stream",
     "text": [
      "Starting experimental run with id: 920\n"
     ]
    },
    {
     "data": {
      "application/vnd.jupyter.widget-view+json": {
       "model_id": "",
       "version_major": 2,
       "version_minor": 0
      },
      "text/plain": [
       "HBox(children=(IntProgress(value=0, max=403), HTML(value='')))"
      ]
     },
     "metadata": {},
     "output_type": "display_data"
    },
    {
     "name": "stdout",
     "output_type": "stream",
     "text": [
      "Starting experimental run with id: 921\n"
     ]
    },
    {
     "data": {
      "application/vnd.jupyter.widget-view+json": {
       "model_id": "",
       "version_major": 2,
       "version_minor": 0
      },
      "text/plain": [
       "HBox(children=(IntProgress(value=0, max=403), HTML(value='')))"
      ]
     },
     "metadata": {},
     "output_type": "display_data"
    },
    {
     "name": "stdout",
     "output_type": "stream",
     "text": [
      "Starting experimental run with id: 922\n",
      "\n",
      "{ 'ids' : range(912,922+1), 'B' : np.linspace(0.00e+00,1.85e-03, 11), 'T' : 0.050, 'comm : '' }\n",
      "ramping T8 to 75.0 mK...\n"
     ]
    },
    {
     "ename": "VisaIOError",
     "evalue": "('VI_ERROR_TMO (-1073807339): Timeout expired before operation completed.', \"asking 'RDGK? 8\\\\n\\\\r' to <Model_372: LS370 input Ch>\", 'getting LS370 input Ch_ch08_temperature')",
     "output_type": "error",
     "traceback": [
      "\u001b[1;31m---------------------------------------------------------------------------\u001b[0m",
      "\u001b[1;31mVisaIOError\u001b[0m                               Traceback (most recent call last)",
      "\u001b[1;32m<ipython-input-28-0cf3c42789d4>\u001b[0m in \u001b[0;36m<module>\u001b[1;34m\u001b[0m\n\u001b[0;32m      2\u001b[0m \u001b[0mB_list\u001b[0m \u001b[1;33m=\u001b[0m \u001b[0mnp\u001b[0m\u001b[1;33m.\u001b[0m\u001b[0mlinspace\u001b[0m\u001b[1;33m(\u001b[0m\u001b[1;36m0\u001b[0m\u001b[1;33m,\u001b[0m \u001b[1;36m1.85e-3\u001b[0m\u001b[1;33m,\u001b[0m \u001b[1;36m11\u001b[0m\u001b[1;33m)\u001b[0m\u001b[1;33m\u001b[0m\u001b[1;33m\u001b[0m\u001b[0m\n\u001b[0;32m      3\u001b[0m \u001b[1;33m\u001b[0m\u001b[0m\n\u001b[1;32m----> 4\u001b[1;33m \u001b[1;32mfor\u001b[0m \u001b[0mjj\u001b[0m \u001b[1;32min\u001b[0m  \u001b[0mjj\u001b[0m\u001b[1;33m.\u001b[0m\u001b[0mTscan\u001b[0m\u001b[1;33m(\u001b[0m \u001b[0mT_list\u001b[0m \u001b[1;33m)\u001b[0m\u001b[1;33m:\u001b[0m\u001b[1;33m\u001b[0m\u001b[1;33m\u001b[0m\u001b[0m\n\u001b[0m\u001b[0;32m      5\u001b[0m \u001b[1;33m\u001b[0m\u001b[0m\n\u001b[0;32m      6\u001b[0m     \u001b[1;32mfor\u001b[0m \u001b[0mjj\u001b[0m \u001b[1;32min\u001b[0m \u001b[0mjj\u001b[0m\u001b[1;33m.\u001b[0m\u001b[0mBscan\u001b[0m\u001b[1;33m(\u001b[0m\u001b[0mB_list\u001b[0m\u001b[1;33m)\u001b[0m\u001b[1;33m:\u001b[0m\u001b[1;33m\u001b[0m\u001b[1;33m\u001b[0m\u001b[0m\n",
      "\u001b[1;32m~\\Documents\\GitHub\\JJmeasurement.py\u001b[0m in \u001b[0;36mTscan\u001b[1;34m(self, T_list)\u001b[0m\n\u001b[0;32m    218\u001b[0m             \u001b[0mcount_T\u001b[0m \u001b[1;33m=\u001b[0m \u001b[1;36m0\u001b[0m\u001b[1;33m\u001b[0m\u001b[1;33m\u001b[0m\u001b[0m\n\u001b[0;32m    219\u001b[0m             \u001b[1;32mwhile\u001b[0m \u001b[0mcount_T\u001b[0m \u001b[1;33m<\u001b[0m \u001b[0mchkrepeat\u001b[0m\u001b[1;33m:\u001b[0m\u001b[1;33m\u001b[0m\u001b[1;33m\u001b[0m\u001b[0m\n\u001b[1;32m--> 220\u001b[1;33m                 \u001b[0mT_now\u001b[0m \u001b[1;33m=\u001b[0m \u001b[0mT8\u001b[0m\u001b[1;33m.\u001b[0m\u001b[0mget\u001b[0m\u001b[1;33m(\u001b[0m\u001b[1;33m)\u001b[0m\u001b[1;33m\u001b[0m\u001b[1;33m\u001b[0m\u001b[0m\n\u001b[0m\u001b[0;32m    221\u001b[0m                 \u001b[1;32mif\u001b[0m \u001b[1;33m(\u001b[0m\u001b[1;36m1\u001b[0m\u001b[1;33m-\u001b[0m\u001b[0mtolerT8\u001b[0m\u001b[1;33m)\u001b[0m\u001b[1;33m*\u001b[0m \u001b[0mt\u001b[0m \u001b[1;33m<=\u001b[0m \u001b[0mT_now\u001b[0m \u001b[1;33m<=\u001b[0m \u001b[1;33m(\u001b[0m\u001b[1;36m1\u001b[0m\u001b[1;33m+\u001b[0m\u001b[0mtolerT8\u001b[0m\u001b[1;33m)\u001b[0m \u001b[1;33m*\u001b[0m \u001b[0mt\u001b[0m \u001b[1;33m:\u001b[0m\u001b[1;33m\u001b[0m\u001b[1;33m\u001b[0m\u001b[0m\n\u001b[0;32m    222\u001b[0m                     \u001b[0mcount_T\u001b[0m \u001b[1;33m+=\u001b[0m\u001b[1;36m1\u001b[0m\u001b[1;33m\u001b[0m\u001b[1;33m\u001b[0m\u001b[0m\n",
      "\u001b[1;32m~\\Anaconda3\\lib\\site-packages\\qcodes\\instrument\\parameter.py\u001b[0m in \u001b[0;36mget_wrapper\u001b[1;34m(*args, **kwargs)\u001b[0m\n\u001b[0;32m    490\u001b[0m             \u001b[1;32mexcept\u001b[0m \u001b[0mException\u001b[0m \u001b[1;32mas\u001b[0m \u001b[0me\u001b[0m\u001b[1;33m:\u001b[0m\u001b[1;33m\u001b[0m\u001b[1;33m\u001b[0m\u001b[0m\n\u001b[0;32m    491\u001b[0m                 \u001b[0me\u001b[0m\u001b[1;33m.\u001b[0m\u001b[0margs\u001b[0m \u001b[1;33m=\u001b[0m \u001b[0me\u001b[0m\u001b[1;33m.\u001b[0m\u001b[0margs\u001b[0m \u001b[1;33m+\u001b[0m \u001b[1;33m(\u001b[0m\u001b[1;34m'getting {}'\u001b[0m\u001b[1;33m.\u001b[0m\u001b[0mformat\u001b[0m\u001b[1;33m(\u001b[0m\u001b[0mself\u001b[0m\u001b[1;33m)\u001b[0m\u001b[1;33m,\u001b[0m\u001b[1;33m)\u001b[0m\u001b[1;33m\u001b[0m\u001b[1;33m\u001b[0m\u001b[0m\n\u001b[1;32m--> 492\u001b[1;33m                 \u001b[1;32mraise\u001b[0m \u001b[0me\u001b[0m\u001b[1;33m\u001b[0m\u001b[1;33m\u001b[0m\u001b[0m\n\u001b[0m\u001b[0;32m    493\u001b[0m \u001b[1;33m\u001b[0m\u001b[0m\n\u001b[0;32m    494\u001b[0m         \u001b[1;32mreturn\u001b[0m \u001b[0mget_wrapper\u001b[0m\u001b[1;33m\u001b[0m\u001b[1;33m\u001b[0m\u001b[0m\n",
      "\u001b[1;32m~\\Anaconda3\\lib\\site-packages\\qcodes\\instrument\\parameter.py\u001b[0m in \u001b[0;36mget_wrapper\u001b[1;34m(*args, **kwargs)\u001b[0m\n\u001b[0;32m    446\u001b[0m             \u001b[1;32mtry\u001b[0m\u001b[1;33m:\u001b[0m\u001b[1;33m\u001b[0m\u001b[1;33m\u001b[0m\u001b[0m\n\u001b[0;32m    447\u001b[0m                 \u001b[1;31m# There might be cases where a .get also has args/kwargs\u001b[0m\u001b[1;33m\u001b[0m\u001b[1;33m\u001b[0m\u001b[1;33m\u001b[0m\u001b[0m\n\u001b[1;32m--> 448\u001b[1;33m                 \u001b[0mvalue\u001b[0m \u001b[1;33m=\u001b[0m \u001b[0mget_function\u001b[0m\u001b[1;33m(\u001b[0m\u001b[1;33m*\u001b[0m\u001b[0margs\u001b[0m\u001b[1;33m,\u001b[0m \u001b[1;33m**\u001b[0m\u001b[0mkwargs\u001b[0m\u001b[1;33m)\u001b[0m\u001b[1;33m\u001b[0m\u001b[1;33m\u001b[0m\u001b[0m\n\u001b[0m\u001b[0;32m    449\u001b[0m                 \u001b[0mself\u001b[0m\u001b[1;33m.\u001b[0m\u001b[0mraw_value\u001b[0m \u001b[1;33m=\u001b[0m \u001b[0mvalue\u001b[0m\u001b[1;33m\u001b[0m\u001b[1;33m\u001b[0m\u001b[0m\n\u001b[0;32m    450\u001b[0m \u001b[1;33m\u001b[0m\u001b[0m\n",
      "\u001b[1;32m~\\Anaconda3\\lib\\site-packages\\qcodes\\utils\\command.py\u001b[0m in \u001b[0;36m__call__\u001b[1;34m(self, *args)\u001b[0m\n\u001b[0;32m    176\u001b[0m             raise TypeError(\n\u001b[0;32m    177\u001b[0m                 'command takes exactly {} args'.format(self.arg_count))\n\u001b[1;32m--> 178\u001b[1;33m         \u001b[1;32mreturn\u001b[0m \u001b[0mself\u001b[0m\u001b[1;33m.\u001b[0m\u001b[0mexec_function\u001b[0m\u001b[1;33m(\u001b[0m\u001b[1;33m*\u001b[0m\u001b[0margs\u001b[0m\u001b[1;33m)\u001b[0m\u001b[1;33m\u001b[0m\u001b[1;33m\u001b[0m\u001b[0m\n\u001b[0m",
      "\u001b[1;32m~\\Anaconda3\\lib\\site-packages\\qcodes\\utils\\command.py\u001b[0m in \u001b[0;36mcall_by_str\u001b[1;34m(self, *args)\u001b[0m\n\u001b[0;32m    125\u001b[0m     \u001b[1;32mdef\u001b[0m \u001b[0mcall_by_str\u001b[0m\u001b[1;33m(\u001b[0m\u001b[0mself\u001b[0m\u001b[1;33m,\u001b[0m \u001b[1;33m*\u001b[0m\u001b[0margs\u001b[0m\u001b[1;33m)\u001b[0m\u001b[1;33m:\u001b[0m\u001b[1;33m\u001b[0m\u001b[1;33m\u001b[0m\u001b[0m\n\u001b[0;32m    126\u001b[0m         \u001b[1;34m\"\"\"Execute a formatted string.\"\"\"\u001b[0m\u001b[1;33m\u001b[0m\u001b[1;33m\u001b[0m\u001b[0m\n\u001b[1;32m--> 127\u001b[1;33m         \u001b[1;32mreturn\u001b[0m \u001b[0mself\u001b[0m\u001b[1;33m.\u001b[0m\u001b[0mexec_str\u001b[0m\u001b[1;33m(\u001b[0m\u001b[0mself\u001b[0m\u001b[1;33m.\u001b[0m\u001b[0mcmd_str\u001b[0m\u001b[1;33m.\u001b[0m\u001b[0mformat\u001b[0m\u001b[1;33m(\u001b[0m\u001b[1;33m*\u001b[0m\u001b[0margs\u001b[0m\u001b[1;33m)\u001b[0m\u001b[1;33m)\u001b[0m\u001b[1;33m\u001b[0m\u001b[1;33m\u001b[0m\u001b[0m\n\u001b[0m\u001b[0;32m    128\u001b[0m \u001b[1;33m\u001b[0m\u001b[0m\n\u001b[0;32m    129\u001b[0m     \u001b[1;32mdef\u001b[0m \u001b[0mcall_by_str_parsed_out\u001b[0m\u001b[1;33m(\u001b[0m\u001b[0mself\u001b[0m\u001b[1;33m,\u001b[0m \u001b[1;33m*\u001b[0m\u001b[0margs\u001b[0m\u001b[1;33m)\u001b[0m\u001b[1;33m:\u001b[0m\u001b[1;33m\u001b[0m\u001b[1;33m\u001b[0m\u001b[0m\n",
      "\u001b[1;32m~\\Anaconda3\\lib\\site-packages\\qcodes\\instrument\\channel.py\u001b[0m in \u001b[0;36mask\u001b[1;34m(self, cmd)\u001b[0m\n\u001b[0;32m     64\u001b[0m \u001b[1;33m\u001b[0m\u001b[0m\n\u001b[0;32m     65\u001b[0m     \u001b[1;32mdef\u001b[0m \u001b[0mask\u001b[0m\u001b[1;33m(\u001b[0m\u001b[0mself\u001b[0m\u001b[1;33m,\u001b[0m \u001b[0mcmd\u001b[0m\u001b[1;33m:\u001b[0m \u001b[0mstr\u001b[0m\u001b[1;33m)\u001b[0m \u001b[1;33m->\u001b[0m \u001b[0mstr\u001b[0m\u001b[1;33m:\u001b[0m\u001b[1;33m\u001b[0m\u001b[1;33m\u001b[0m\u001b[0m\n\u001b[1;32m---> 66\u001b[1;33m         \u001b[1;32mreturn\u001b[0m \u001b[0mself\u001b[0m\u001b[1;33m.\u001b[0m\u001b[0m_parent\u001b[0m\u001b[1;33m.\u001b[0m\u001b[0mask\u001b[0m\u001b[1;33m(\u001b[0m\u001b[0mcmd\u001b[0m\u001b[1;33m)\u001b[0m\u001b[1;33m\u001b[0m\u001b[1;33m\u001b[0m\u001b[0m\n\u001b[0m\u001b[0;32m     67\u001b[0m \u001b[1;33m\u001b[0m\u001b[0m\n\u001b[0;32m     68\u001b[0m     \u001b[1;32mdef\u001b[0m \u001b[0mask_raw\u001b[0m\u001b[1;33m(\u001b[0m\u001b[0mself\u001b[0m\u001b[1;33m,\u001b[0m \u001b[0mcmd\u001b[0m\u001b[1;33m:\u001b[0m \u001b[0mstr\u001b[0m\u001b[1;33m)\u001b[0m \u001b[1;33m->\u001b[0m \u001b[0mstr\u001b[0m\u001b[1;33m:\u001b[0m\u001b[1;33m\u001b[0m\u001b[1;33m\u001b[0m\u001b[0m\n",
      "\u001b[1;32m~\\Anaconda3\\lib\\site-packages\\qcodes\\instrument\\base.py\u001b[0m in \u001b[0;36mask\u001b[1;34m(self, cmd)\u001b[0m\n\u001b[0;32m    764\u001b[0m             \u001b[0minst\u001b[0m \u001b[1;33m=\u001b[0m \u001b[0mrepr\u001b[0m\u001b[1;33m(\u001b[0m\u001b[0mself\u001b[0m\u001b[1;33m)\u001b[0m\u001b[1;33m\u001b[0m\u001b[1;33m\u001b[0m\u001b[0m\n\u001b[0;32m    765\u001b[0m             \u001b[0me\u001b[0m\u001b[1;33m.\u001b[0m\u001b[0margs\u001b[0m \u001b[1;33m=\u001b[0m \u001b[0me\u001b[0m\u001b[1;33m.\u001b[0m\u001b[0margs\u001b[0m \u001b[1;33m+\u001b[0m \u001b[1;33m(\u001b[0m\u001b[1;34m'asking '\u001b[0m \u001b[1;33m+\u001b[0m \u001b[0mrepr\u001b[0m\u001b[1;33m(\u001b[0m\u001b[0mcmd\u001b[0m\u001b[1;33m)\u001b[0m \u001b[1;33m+\u001b[0m \u001b[1;34m' to '\u001b[0m \u001b[1;33m+\u001b[0m \u001b[0minst\u001b[0m\u001b[1;33m,\u001b[0m\u001b[1;33m)\u001b[0m\u001b[1;33m\u001b[0m\u001b[1;33m\u001b[0m\u001b[0m\n\u001b[1;32m--> 766\u001b[1;33m             \u001b[1;32mraise\u001b[0m \u001b[0me\u001b[0m\u001b[1;33m\u001b[0m\u001b[1;33m\u001b[0m\u001b[0m\n\u001b[0m\u001b[0;32m    767\u001b[0m \u001b[1;33m\u001b[0m\u001b[0m\n\u001b[0;32m    768\u001b[0m     \u001b[1;32mdef\u001b[0m \u001b[0mask_raw\u001b[0m\u001b[1;33m(\u001b[0m\u001b[0mself\u001b[0m\u001b[1;33m,\u001b[0m \u001b[0mcmd\u001b[0m\u001b[1;33m:\u001b[0m \u001b[0mstr\u001b[0m\u001b[1;33m)\u001b[0m \u001b[1;33m->\u001b[0m \u001b[0mstr\u001b[0m\u001b[1;33m:\u001b[0m\u001b[1;33m\u001b[0m\u001b[1;33m\u001b[0m\u001b[0m\n",
      "\u001b[1;32m~\\Anaconda3\\lib\\site-packages\\qcodes\\instrument\\base.py\u001b[0m in \u001b[0;36mask\u001b[1;34m(self, cmd)\u001b[0m\n\u001b[0;32m    757\u001b[0m         \"\"\"\n\u001b[0;32m    758\u001b[0m         \u001b[1;32mtry\u001b[0m\u001b[1;33m:\u001b[0m\u001b[1;33m\u001b[0m\u001b[1;33m\u001b[0m\u001b[0m\n\u001b[1;32m--> 759\u001b[1;33m             \u001b[0manswer\u001b[0m \u001b[1;33m=\u001b[0m \u001b[0mself\u001b[0m\u001b[1;33m.\u001b[0m\u001b[0mask_raw\u001b[0m\u001b[1;33m(\u001b[0m\u001b[0mcmd\u001b[0m\u001b[1;33m)\u001b[0m\u001b[1;33m\u001b[0m\u001b[1;33m\u001b[0m\u001b[0m\n\u001b[0m\u001b[0;32m    760\u001b[0m \u001b[1;33m\u001b[0m\u001b[0m\n\u001b[0;32m    761\u001b[0m             \u001b[1;32mreturn\u001b[0m \u001b[0manswer\u001b[0m\u001b[1;33m\u001b[0m\u001b[1;33m\u001b[0m\u001b[0m\n",
      "\u001b[1;32m~\\Anaconda3\\lib\\site-packages\\qcodes\\instrument\\visa.py\u001b[0m in \u001b[0;36mask_raw\u001b[1;34m(self, cmd)\u001b[0m\n\u001b[0;32m    227\u001b[0m         \"\"\"\n\u001b[0;32m    228\u001b[0m         \u001b[0mself\u001b[0m\u001b[1;33m.\u001b[0m\u001b[0mvisa_log\u001b[0m\u001b[1;33m.\u001b[0m\u001b[0mdebug\u001b[0m\u001b[1;33m(\u001b[0m\u001b[1;34mf\"Querying: {cmd}\"\u001b[0m\u001b[1;33m)\u001b[0m\u001b[1;33m\u001b[0m\u001b[1;33m\u001b[0m\u001b[0m\n\u001b[1;32m--> 229\u001b[1;33m         \u001b[0mresponse\u001b[0m \u001b[1;33m=\u001b[0m \u001b[0mself\u001b[0m\u001b[1;33m.\u001b[0m\u001b[0mvisa_handle\u001b[0m\u001b[1;33m.\u001b[0m\u001b[0mquery\u001b[0m\u001b[1;33m(\u001b[0m\u001b[0mcmd\u001b[0m\u001b[1;33m)\u001b[0m\u001b[1;33m\u001b[0m\u001b[1;33m\u001b[0m\u001b[0m\n\u001b[0m\u001b[0;32m    230\u001b[0m         \u001b[0mself\u001b[0m\u001b[1;33m.\u001b[0m\u001b[0mvisa_log\u001b[0m\u001b[1;33m.\u001b[0m\u001b[0mdebug\u001b[0m\u001b[1;33m(\u001b[0m\u001b[1;34mf\"Response: {response}\"\u001b[0m\u001b[1;33m)\u001b[0m\u001b[1;33m\u001b[0m\u001b[1;33m\u001b[0m\u001b[0m\n\u001b[0;32m    231\u001b[0m \u001b[1;33m\u001b[0m\u001b[0m\n",
      "\u001b[1;32m~\\Anaconda3\\lib\\site-packages\\pyvisa\\resources\\messagebased.py\u001b[0m in \u001b[0;36mquery\u001b[1;34m(self, message, delay)\u001b[0m\n\u001b[0;32m    611\u001b[0m         \u001b[1;32mif\u001b[0m \u001b[0mdelay\u001b[0m \u001b[1;33m>\u001b[0m \u001b[1;36m0.0\u001b[0m\u001b[1;33m:\u001b[0m\u001b[1;33m\u001b[0m\u001b[1;33m\u001b[0m\u001b[0m\n\u001b[0;32m    612\u001b[0m             \u001b[0mtime\u001b[0m\u001b[1;33m.\u001b[0m\u001b[0msleep\u001b[0m\u001b[1;33m(\u001b[0m\u001b[0mdelay\u001b[0m\u001b[1;33m)\u001b[0m\u001b[1;33m\u001b[0m\u001b[1;33m\u001b[0m\u001b[0m\n\u001b[1;32m--> 613\u001b[1;33m         \u001b[1;32mreturn\u001b[0m \u001b[0mself\u001b[0m\u001b[1;33m.\u001b[0m\u001b[0mread\u001b[0m\u001b[1;33m(\u001b[0m\u001b[1;33m)\u001b[0m\u001b[1;33m\u001b[0m\u001b[1;33m\u001b[0m\u001b[0m\n\u001b[0m\u001b[0;32m    614\u001b[0m \u001b[1;33m\u001b[0m\u001b[0m\n\u001b[0;32m    615\u001b[0m     \u001b[1;32mdef\u001b[0m \u001b[0mask\u001b[0m\u001b[1;33m(\u001b[0m\u001b[0mself\u001b[0m\u001b[1;33m,\u001b[0m \u001b[0mmessage\u001b[0m\u001b[1;33m,\u001b[0m \u001b[0mdelay\u001b[0m\u001b[1;33m=\u001b[0m\u001b[1;32mNone\u001b[0m\u001b[1;33m)\u001b[0m\u001b[1;33m:\u001b[0m\u001b[1;33m\u001b[0m\u001b[1;33m\u001b[0m\u001b[0m\n",
      "\u001b[1;32m~\\Anaconda3\\lib\\site-packages\\pyvisa\\resources\\messagebased.py\u001b[0m in \u001b[0;36mread\u001b[1;34m(self, termination, encoding)\u001b[0m\n\u001b[0;32m    425\u001b[0m         \u001b[1;32mif\u001b[0m \u001b[0mtermination\u001b[0m \u001b[1;32mis\u001b[0m \u001b[1;32mNone\u001b[0m\u001b[1;33m:\u001b[0m\u001b[1;33m\u001b[0m\u001b[1;33m\u001b[0m\u001b[0m\n\u001b[0;32m    426\u001b[0m             \u001b[0mtermination\u001b[0m \u001b[1;33m=\u001b[0m \u001b[0mself\u001b[0m\u001b[1;33m.\u001b[0m\u001b[0m_read_termination\u001b[0m\u001b[1;33m\u001b[0m\u001b[1;33m\u001b[0m\u001b[0m\n\u001b[1;32m--> 427\u001b[1;33m             \u001b[0mmessage\u001b[0m \u001b[1;33m=\u001b[0m \u001b[0mself\u001b[0m\u001b[1;33m.\u001b[0m\u001b[0m_read_raw\u001b[0m\u001b[1;33m(\u001b[0m\u001b[1;33m)\u001b[0m\u001b[1;33m.\u001b[0m\u001b[0mdecode\u001b[0m\u001b[1;33m(\u001b[0m\u001b[0menco\u001b[0m\u001b[1;33m)\u001b[0m\u001b[1;33m\u001b[0m\u001b[1;33m\u001b[0m\u001b[0m\n\u001b[0m\u001b[0;32m    428\u001b[0m         \u001b[1;32melse\u001b[0m\u001b[1;33m:\u001b[0m\u001b[1;33m\u001b[0m\u001b[1;33m\u001b[0m\u001b[0m\n\u001b[0;32m    429\u001b[0m             \u001b[1;32mwith\u001b[0m \u001b[0mself\u001b[0m\u001b[1;33m.\u001b[0m\u001b[0mread_termination_context\u001b[0m\u001b[1;33m(\u001b[0m\u001b[0mtermination\u001b[0m\u001b[1;33m)\u001b[0m\u001b[1;33m:\u001b[0m\u001b[1;33m\u001b[0m\u001b[1;33m\u001b[0m\u001b[0m\n",
      "\u001b[1;32m~\\Anaconda3\\lib\\site-packages\\pyvisa\\resources\\messagebased.py\u001b[0m in \u001b[0;36m_read_raw\u001b[1;34m(self, size)\u001b[0m\n\u001b[0;32m    398\u001b[0m                     logger.debug('%s - reading %d bytes (last status %r)',\n\u001b[0;32m    399\u001b[0m                                  self._resource_name, size, status)\n\u001b[1;32m--> 400\u001b[1;33m                     \u001b[0mchunk\u001b[0m\u001b[1;33m,\u001b[0m \u001b[0mstatus\u001b[0m \u001b[1;33m=\u001b[0m \u001b[0mself\u001b[0m\u001b[1;33m.\u001b[0m\u001b[0mvisalib\u001b[0m\u001b[1;33m.\u001b[0m\u001b[0mread\u001b[0m\u001b[1;33m(\u001b[0m\u001b[0mself\u001b[0m\u001b[1;33m.\u001b[0m\u001b[0msession\u001b[0m\u001b[1;33m,\u001b[0m \u001b[0msize\u001b[0m\u001b[1;33m)\u001b[0m\u001b[1;33m\u001b[0m\u001b[1;33m\u001b[0m\u001b[0m\n\u001b[0m\u001b[0;32m    401\u001b[0m                     \u001b[0mret\u001b[0m\u001b[1;33m.\u001b[0m\u001b[0mextend\u001b[0m\u001b[1;33m(\u001b[0m\u001b[0mchunk\u001b[0m\u001b[1;33m)\u001b[0m\u001b[1;33m\u001b[0m\u001b[1;33m\u001b[0m\u001b[0m\n\u001b[0;32m    402\u001b[0m             \u001b[1;32mexcept\u001b[0m \u001b[0merrors\u001b[0m\u001b[1;33m.\u001b[0m\u001b[0mVisaIOError\u001b[0m \u001b[1;32mas\u001b[0m \u001b[0me\u001b[0m\u001b[1;33m:\u001b[0m\u001b[1;33m\u001b[0m\u001b[1;33m\u001b[0m\u001b[0m\n",
      "\u001b[1;32m~\\Anaconda3\\lib\\site-packages\\pyvisa\\ctwrapper\\functions.py\u001b[0m in \u001b[0;36mread\u001b[1;34m(library, session, count)\u001b[0m\n\u001b[0;32m   1582\u001b[0m     \u001b[0mbuffer\u001b[0m \u001b[1;33m=\u001b[0m \u001b[0mcreate_string_buffer\u001b[0m\u001b[1;33m(\u001b[0m\u001b[0mcount\u001b[0m\u001b[1;33m)\u001b[0m\u001b[1;33m\u001b[0m\u001b[1;33m\u001b[0m\u001b[0m\n\u001b[0;32m   1583\u001b[0m     \u001b[0mreturn_count\u001b[0m \u001b[1;33m=\u001b[0m \u001b[0mViUInt32\u001b[0m\u001b[1;33m(\u001b[0m\u001b[1;33m)\u001b[0m\u001b[1;33m\u001b[0m\u001b[1;33m\u001b[0m\u001b[0m\n\u001b[1;32m-> 1584\u001b[1;33m     \u001b[0mret\u001b[0m \u001b[1;33m=\u001b[0m \u001b[0mlibrary\u001b[0m\u001b[1;33m.\u001b[0m\u001b[0mviRead\u001b[0m\u001b[1;33m(\u001b[0m\u001b[0msession\u001b[0m\u001b[1;33m,\u001b[0m \u001b[0mbuffer\u001b[0m\u001b[1;33m,\u001b[0m \u001b[0mcount\u001b[0m\u001b[1;33m,\u001b[0m \u001b[0mbyref\u001b[0m\u001b[1;33m(\u001b[0m\u001b[0mreturn_count\u001b[0m\u001b[1;33m)\u001b[0m\u001b[1;33m)\u001b[0m\u001b[1;33m\u001b[0m\u001b[1;33m\u001b[0m\u001b[0m\n\u001b[0m\u001b[0;32m   1585\u001b[0m     \u001b[1;32mreturn\u001b[0m \u001b[0mbuffer\u001b[0m\u001b[1;33m.\u001b[0m\u001b[0mraw\u001b[0m\u001b[1;33m[\u001b[0m\u001b[1;33m:\u001b[0m\u001b[0mreturn_count\u001b[0m\u001b[1;33m.\u001b[0m\u001b[0mvalue\u001b[0m\u001b[1;33m]\u001b[0m\u001b[1;33m,\u001b[0m \u001b[0mret\u001b[0m\u001b[1;33m\u001b[0m\u001b[1;33m\u001b[0m\u001b[0m\n\u001b[0;32m   1586\u001b[0m \u001b[1;33m\u001b[0m\u001b[0m\n",
      "\u001b[1;32m~\\Anaconda3\\lib\\site-packages\\pyvisa\\ctwrapper\\highlevel.py\u001b[0m in \u001b[0;36m_return_handler\u001b[1;34m(self, ret_value, func, arguments)\u001b[0m\n\u001b[0;32m    191\u001b[0m \u001b[1;33m\u001b[0m\u001b[0m\n\u001b[0;32m    192\u001b[0m         \u001b[1;32mif\u001b[0m \u001b[0mret_value\u001b[0m \u001b[1;33m<\u001b[0m \u001b[1;36m0\u001b[0m\u001b[1;33m:\u001b[0m\u001b[1;33m\u001b[0m\u001b[1;33m\u001b[0m\u001b[0m\n\u001b[1;32m--> 193\u001b[1;33m             \u001b[1;32mraise\u001b[0m \u001b[0merrors\u001b[0m\u001b[1;33m.\u001b[0m\u001b[0mVisaIOError\u001b[0m\u001b[1;33m(\u001b[0m\u001b[0mret_value\u001b[0m\u001b[1;33m)\u001b[0m\u001b[1;33m\u001b[0m\u001b[1;33m\u001b[0m\u001b[0m\n\u001b[0m\u001b[0;32m    194\u001b[0m \u001b[1;33m\u001b[0m\u001b[0m\n\u001b[0;32m    195\u001b[0m         \u001b[1;32mif\u001b[0m \u001b[0mret_value\u001b[0m \u001b[1;32min\u001b[0m \u001b[0mself\u001b[0m\u001b[1;33m.\u001b[0m\u001b[0missue_warning_on\u001b[0m\u001b[1;33m:\u001b[0m\u001b[1;33m\u001b[0m\u001b[1;33m\u001b[0m\u001b[0m\n",
      "\u001b[1;31mVisaIOError\u001b[0m: ('VI_ERROR_TMO (-1073807339): Timeout expired before operation completed.', \"asking 'RDGK? 8\\\\n\\\\r' to <Model_372: LS370 input Ch>\", 'getting LS370 input Ch_ch08_temperature')"
     ]
    }
   ],
   "source": [
    "T_list = np.array( [50 + 25*i for i in range (11) ] )*1e-3\n",
    "B_list = np.linspace(0, 1.85e-3, 11)\n",
    "\n",
    "for jj in  jj.Tscan( T_list ):\n",
    "    \n",
    "    for jj in jj.Bscan(B_list):\n",
    "    \n",
    "        jj.IVC_udu (amp = 1e-12, stp = 0.01e-12, dt = .5, Ioff = -.5e-12)\n",
    "    \n",
    "    \n",
    "Bfield.set(0e-3)\n",
    "htr_setpt.set(30e-3)"
   ]
  },
  {
   "cell_type": "code",
   "execution_count": null,
   "metadata": {},
   "outputs": [],
   "source": [
    "T_list = np.array( [200 + 25*i for i in range (5) ] )*1e-3\n",
    "B_list = np.linspace(0, 1.85e-3, 11)\n",
    "\n",
    "for jj in  jj.Tscan( T_list ):\n",
    "    \n",
    "    for jj in jj.Bscan(B_list):\n",
    "    \n",
    "        jj.IVC_fwd (amp = 2e-12, stp = 0.04e-12, dt = .5, Ioff = -.35e-12)\n",
    "    \n",
    "    \n",
    "Bfield.set(0e-3)\n",
    "htr_setpt.set(30e-3)"
   ]
  },
  {
   "cell_type": "markdown",
   "metadata": {},
   "source": [
    "## Snapshot"
   ]
  },
  {
   "cell_type": "code",
   "execution_count": 778,
   "metadata": {},
   "outputs": [
    {
     "data": {
      "text/plain": [
       "{'instruments': {'K6220': {'functions': {},\n",
       "   'submodules': {},\n",
       "   '__class__': 'qcodes.instrument_drivers.Keithley.Keithley_6220_Isrc.Keithley_6220_Isrc',\n",
       "   'parameters': {'IDN': {'value': {'vendor': 'KEITHLEY INSTRUMENTS INC.',\n",
       "      'model': '6220',\n",
       "      'serial': '1249187',\n",
       "      'firmware': 'A05  /700x'},\n",
       "     'ts': '2020-07-22 15:02:02',\n",
       "     'raw_value': {'vendor': 'KEITHLEY INSTRUMENTS INC.',\n",
       "      'model': '6220',\n",
       "      'serial': '1249187',\n",
       "      'firmware': 'A05  /700x'},\n",
       "     '__class__': 'qcodes.instrument.parameter.Parameter',\n",
       "     'full_name': 'K6220_IDN',\n",
       "     'label': 'IDN',\n",
       "     'name': 'IDN',\n",
       "     'instrument': 'qcodes.instrument_drivers.Keithley.Keithley_6220_Isrc.Keithley_6220_Isrc',\n",
       "     'instrument_name': 'K6220',\n",
       "     'inter_delay': 0,\n",
       "     'post_delay': 0,\n",
       "     'unit': '',\n",
       "     'vals': '<Anything>'},\n",
       "    'timeout': {'value': 10.0,\n",
       "     'ts': '2020-07-27 13:33:51',\n",
       "     'raw_value': 10.0,\n",
       "     '__class__': 'qcodes.instrument.parameter.Parameter',\n",
       "     'full_name': 'K6220_timeout',\n",
       "     'label': 'timeout',\n",
       "     'name': 'timeout',\n",
       "     'instrument': 'qcodes.instrument_drivers.Keithley.Keithley_6220_Isrc.Keithley_6220_Isrc',\n",
       "     'instrument_name': 'K6220',\n",
       "     'inter_delay': 0,\n",
       "     'post_delay': 0,\n",
       "     'unit': 's',\n",
       "     'vals': '<MultiType: Numbers v>=0, Enum: {None}>'},\n",
       "    'I': {'value': -0.0,\n",
       "     'ts': '2020-07-27 13:39:33',\n",
       "     'raw_value': -0.0,\n",
       "     '__class__': 'qcodes.instrument.parameter.Parameter',\n",
       "     'full_name': 'K6220_I',\n",
       "     'label': 'Current',\n",
       "     'name': 'I',\n",
       "     'instrument': 'qcodes.instrument_drivers.Keithley.Keithley_6220_Isrc.Keithley_6220_Isrc',\n",
       "     'instrument_name': 'K6220',\n",
       "     'inter_delay': 0,\n",
       "     'post_delay': 0,\n",
       "     'unit': 'A',\n",
       "     'vals': '<Numbers -1e-05<=v<=1e-05>'},\n",
       "    'Irange': {'value': None,\n",
       "     'ts': None,\n",
       "     'raw_value': None,\n",
       "     '__class__': 'qcodes.instrument.parameter.Parameter',\n",
       "     'full_name': 'K6220_Irange',\n",
       "     'label': 'Current',\n",
       "     'name': 'Irange',\n",
       "     'instrument': 'qcodes.instrument_drivers.Keithley.Keithley_6220_Isrc.Keithley_6220_Isrc',\n",
       "     'instrument_name': 'K6220',\n",
       "     'inter_delay': 0,\n",
       "     'post_delay': 0,\n",
       "     'unit': 'A',\n",
       "     'vals': '<Numbers 1e-09<=v<=1e-05>'}},\n",
       "   'name': 'K6220',\n",
       "   'address': 'GPIB::13::INSTR',\n",
       "   'terminator': '',\n",
       "   'timeout': 10.0},\n",
       "  'meter': {'functions': {},\n",
       "   'submodules': {},\n",
       "   '__class__': 'qcodes.instrument_drivers.HP.HP34401_DL1201.HP34401_DL1201',\n",
       "   'parameters': {'IDN': {'value': {'vendor': 'HEWLETT-PACKARD',\n",
       "      'model': '34401A',\n",
       "      'serial': '0',\n",
       "      'firmware': '5-1-1'},\n",
       "     'ts': '2020-07-22 15:02:19',\n",
       "     'raw_value': {'vendor': 'HEWLETT-PACKARD',\n",
       "      'model': '34401A',\n",
       "      'serial': '0',\n",
       "      'firmware': '5-1-1'},\n",
       "     '__class__': 'qcodes.instrument.parameter.Parameter',\n",
       "     'full_name': 'meter_IDN',\n",
       "     'label': 'IDN',\n",
       "     'name': 'IDN',\n",
       "     'instrument': 'qcodes.instrument_drivers.HP.HP34401_DL1201.HP34401_DL1201',\n",
       "     'instrument_name': 'meter',\n",
       "     'inter_delay': 0,\n",
       "     'post_delay': 0,\n",
       "     'unit': '',\n",
       "     'vals': '<Anything>'},\n",
       "    'timeout': {'value': 10.0,\n",
       "     'ts': '2020-07-27 13:33:51',\n",
       "     'raw_value': 10.0,\n",
       "     '__class__': 'qcodes.instrument.parameter.Parameter',\n",
       "     'full_name': 'meter_timeout',\n",
       "     'label': 'timeout',\n",
       "     'name': 'timeout',\n",
       "     'instrument': 'qcodes.instrument_drivers.HP.HP34401_DL1201.HP34401_DL1201',\n",
       "     'instrument_name': 'meter',\n",
       "     'inter_delay': 0,\n",
       "     'post_delay': 0,\n",
       "     'unit': 's',\n",
       "     'vals': '<MultiType: Numbers v>=0, Enum: {None}>'},\n",
       "    'Vraw': {'value': 0.011052371,\n",
       "     'ts': '2020-07-22 15:02:20',\n",
       "     'raw_value': '+1.10523710E-02\\n',\n",
       "     '__class__': 'qcodes.instrument.parameter.Parameter',\n",
       "     'full_name': 'meter_Vraw',\n",
       "     'label': 'Voltage',\n",
       "     'name': 'Vraw',\n",
       "     'instrument': 'qcodes.instrument_drivers.HP.HP34401_DL1201.HP34401_DL1201',\n",
       "     'instrument_name': 'meter',\n",
       "     'inter_delay': 0,\n",
       "     'post_delay': 0,\n",
       "     'unit': 'V'},\n",
       "    'V': {'value': 0.00010600191,\n",
       "     'ts': '2020-07-27 13:39:23',\n",
       "     'raw_value': '+1.06001910E-02\\n',\n",
       "     '__class__': 'qcodes.instrument.parameter.Parameter',\n",
       "     'full_name': 'meter_V',\n",
       "     'label': 'Voltage',\n",
       "     'name': 'V',\n",
       "     'instrument': 'qcodes.instrument_drivers.HP.HP34401_DL1201.HP34401_DL1201',\n",
       "     'instrument_name': 'meter',\n",
       "     'inter_delay': 0,\n",
       "     'post_delay': 0,\n",
       "     'unit': 'V'}},\n",
       "   'name': 'meter',\n",
       "   'address': 'GPIB0::8::INSTR',\n",
       "   'terminator': '',\n",
       "   'timeout': 10.0}},\n",
       " 'parameters': {},\n",
       " 'components': {},\n",
       " 'default_measurement': []}"
      ]
     },
     "execution_count": 778,
     "metadata": {},
     "output_type": "execute_result"
    }
   ],
   "source": [
    "station.snapshot()"
   ]
  },
  {
   "cell_type": "code",
   "execution_count": 784,
   "metadata": {},
   "outputs": [],
   "source": [
    "snap=station.snapshot()"
   ]
  },
  {
   "cell_type": "code",
   "execution_count": 904,
   "metadata": {
    "scrolled": true
   },
   "outputs": [
    {
     "data": {
      "text/plain": [
       "'qcodes.instrument.parameter.Parameter'"
      ]
     },
     "execution_count": 904,
     "metadata": {},
     "output_type": "execute_result"
    }
   ],
   "source": [
    "snap['instruments']['K6220']['parameters']['IDN']['__class__']"
   ]
  },
  {
   "cell_type": "code",
   "execution_count": 890,
   "metadata": {},
   "outputs": [],
   "source": [
    "from JJmeasurement_Plamen import *\n",
    "import QCmeasurement_Plamen"
   ]
  },
  {
   "cell_type": "code",
   "execution_count": 891,
   "metadata": {},
   "outputs": [],
   "source": [
    "jjmock=JJmeas_Pl(sample='mock',tools=tools)"
   ]
  },
  {
   "cell_type": "code",
   "execution_count": 906,
   "metadata": {},
   "outputs": [
    {
     "name": "stdout",
     "output_type": "stream",
     "text": [
      "Starting experimental run with id: 17\n"
     ]
    }
   ],
   "source": [
    "x=np.linspace(-np.pi,np.pi)\n",
    "y=np.sin(x)\n",
    "V=Parameter('V')\n",
    "I=Parameter('I')\n",
    "dataset=jjmock.mock_meas_P((V,y),(I,x))"
   ]
  },
  {
   "cell_type": "code",
   "execution_count": 907,
   "metadata": {},
   "outputs": [
    {
     "data": {
      "application/javascript": [
       "/* Put everything inside the global mpl namespace */\n",
       "window.mpl = {};\n",
       "\n",
       "\n",
       "mpl.get_websocket_type = function() {\n",
       "    if (typeof(WebSocket) !== 'undefined') {\n",
       "        return WebSocket;\n",
       "    } else if (typeof(MozWebSocket) !== 'undefined') {\n",
       "        return MozWebSocket;\n",
       "    } else {\n",
       "        alert('Your browser does not have WebSocket support. ' +\n",
       "              'Please try Chrome, Safari or Firefox ≥ 6. ' +\n",
       "              'Firefox 4 and 5 are also supported but you ' +\n",
       "              'have to enable WebSockets in about:config.');\n",
       "    };\n",
       "}\n",
       "\n",
       "mpl.figure = function(figure_id, websocket, ondownload, parent_element) {\n",
       "    this.id = figure_id;\n",
       "\n",
       "    this.ws = websocket;\n",
       "\n",
       "    this.supports_binary = (this.ws.binaryType != undefined);\n",
       "\n",
       "    if (!this.supports_binary) {\n",
       "        var warnings = document.getElementById(\"mpl-warnings\");\n",
       "        if (warnings) {\n",
       "            warnings.style.display = 'block';\n",
       "            warnings.textContent = (\n",
       "                \"This browser does not support binary websocket messages. \" +\n",
       "                    \"Performance may be slow.\");\n",
       "        }\n",
       "    }\n",
       "\n",
       "    this.imageObj = new Image();\n",
       "\n",
       "    this.context = undefined;\n",
       "    this.message = undefined;\n",
       "    this.canvas = undefined;\n",
       "    this.rubberband_canvas = undefined;\n",
       "    this.rubberband_context = undefined;\n",
       "    this.format_dropdown = undefined;\n",
       "\n",
       "    this.image_mode = 'full';\n",
       "\n",
       "    this.root = $('<div/>');\n",
       "    this._root_extra_style(this.root)\n",
       "    this.root.attr('style', 'display: inline-block');\n",
       "\n",
       "    $(parent_element).append(this.root);\n",
       "\n",
       "    this._init_header(this);\n",
       "    this._init_canvas(this);\n",
       "    this._init_toolbar(this);\n",
       "\n",
       "    var fig = this;\n",
       "\n",
       "    this.waiting = false;\n",
       "\n",
       "    this.ws.onopen =  function () {\n",
       "            fig.send_message(\"supports_binary\", {value: fig.supports_binary});\n",
       "            fig.send_message(\"send_image_mode\", {});\n",
       "            if (mpl.ratio != 1) {\n",
       "                fig.send_message(\"set_dpi_ratio\", {'dpi_ratio': mpl.ratio});\n",
       "            }\n",
       "            fig.send_message(\"refresh\", {});\n",
       "        }\n",
       "\n",
       "    this.imageObj.onload = function() {\n",
       "            if (fig.image_mode == 'full') {\n",
       "                // Full images could contain transparency (where diff images\n",
       "                // almost always do), so we need to clear the canvas so that\n",
       "                // there is no ghosting.\n",
       "                fig.context.clearRect(0, 0, fig.canvas.width, fig.canvas.height);\n",
       "            }\n",
       "            fig.context.drawImage(fig.imageObj, 0, 0);\n",
       "        };\n",
       "\n",
       "    this.imageObj.onunload = function() {\n",
       "        fig.ws.close();\n",
       "    }\n",
       "\n",
       "    this.ws.onmessage = this._make_on_message_function(this);\n",
       "\n",
       "    this.ondownload = ondownload;\n",
       "}\n",
       "\n",
       "mpl.figure.prototype._init_header = function() {\n",
       "    var titlebar = $(\n",
       "        '<div class=\"ui-dialog-titlebar ui-widget-header ui-corner-all ' +\n",
       "        'ui-helper-clearfix\"/>');\n",
       "    var titletext = $(\n",
       "        '<div class=\"ui-dialog-title\" style=\"width: 100%; ' +\n",
       "        'text-align: center; padding: 3px;\"/>');\n",
       "    titlebar.append(titletext)\n",
       "    this.root.append(titlebar);\n",
       "    this.header = titletext[0];\n",
       "}\n",
       "\n",
       "\n",
       "\n",
       "mpl.figure.prototype._canvas_extra_style = function(canvas_div) {\n",
       "\n",
       "}\n",
       "\n",
       "\n",
       "mpl.figure.prototype._root_extra_style = function(canvas_div) {\n",
       "\n",
       "}\n",
       "\n",
       "mpl.figure.prototype._init_canvas = function() {\n",
       "    var fig = this;\n",
       "\n",
       "    var canvas_div = $('<div/>');\n",
       "\n",
       "    canvas_div.attr('style', 'position: relative; clear: both; outline: 0');\n",
       "\n",
       "    function canvas_keyboard_event(event) {\n",
       "        return fig.key_event(event, event['data']);\n",
       "    }\n",
       "\n",
       "    canvas_div.keydown('key_press', canvas_keyboard_event);\n",
       "    canvas_div.keyup('key_release', canvas_keyboard_event);\n",
       "    this.canvas_div = canvas_div\n",
       "    this._canvas_extra_style(canvas_div)\n",
       "    this.root.append(canvas_div);\n",
       "\n",
       "    var canvas = $('<canvas/>');\n",
       "    canvas.addClass('mpl-canvas');\n",
       "    canvas.attr('style', \"left: 0; top: 0; z-index: 0; outline: 0\")\n",
       "\n",
       "    this.canvas = canvas[0];\n",
       "    this.context = canvas[0].getContext(\"2d\");\n",
       "\n",
       "    var backingStore = this.context.backingStorePixelRatio ||\n",
       "\tthis.context.webkitBackingStorePixelRatio ||\n",
       "\tthis.context.mozBackingStorePixelRatio ||\n",
       "\tthis.context.msBackingStorePixelRatio ||\n",
       "\tthis.context.oBackingStorePixelRatio ||\n",
       "\tthis.context.backingStorePixelRatio || 1;\n",
       "\n",
       "    mpl.ratio = (window.devicePixelRatio || 1) / backingStore;\n",
       "\n",
       "    var rubberband = $('<canvas/>');\n",
       "    rubberband.attr('style', \"position: absolute; left: 0; top: 0; z-index: 1;\")\n",
       "\n",
       "    var pass_mouse_events = true;\n",
       "\n",
       "    canvas_div.resizable({\n",
       "        start: function(event, ui) {\n",
       "            pass_mouse_events = false;\n",
       "        },\n",
       "        resize: function(event, ui) {\n",
       "            fig.request_resize(ui.size.width, ui.size.height);\n",
       "        },\n",
       "        stop: function(event, ui) {\n",
       "            pass_mouse_events = true;\n",
       "            fig.request_resize(ui.size.width, ui.size.height);\n",
       "        },\n",
       "    });\n",
       "\n",
       "    function mouse_event_fn(event) {\n",
       "        if (pass_mouse_events)\n",
       "            return fig.mouse_event(event, event['data']);\n",
       "    }\n",
       "\n",
       "    rubberband.mousedown('button_press', mouse_event_fn);\n",
       "    rubberband.mouseup('button_release', mouse_event_fn);\n",
       "    // Throttle sequential mouse events to 1 every 20ms.\n",
       "    rubberband.mousemove('motion_notify', mouse_event_fn);\n",
       "\n",
       "    rubberband.mouseenter('figure_enter', mouse_event_fn);\n",
       "    rubberband.mouseleave('figure_leave', mouse_event_fn);\n",
       "\n",
       "    canvas_div.on(\"wheel\", function (event) {\n",
       "        event = event.originalEvent;\n",
       "        event['data'] = 'scroll'\n",
       "        if (event.deltaY < 0) {\n",
       "            event.step = 1;\n",
       "        } else {\n",
       "            event.step = -1;\n",
       "        }\n",
       "        mouse_event_fn(event);\n",
       "    });\n",
       "\n",
       "    canvas_div.append(canvas);\n",
       "    canvas_div.append(rubberband);\n",
       "\n",
       "    this.rubberband = rubberband;\n",
       "    this.rubberband_canvas = rubberband[0];\n",
       "    this.rubberband_context = rubberband[0].getContext(\"2d\");\n",
       "    this.rubberband_context.strokeStyle = \"#000000\";\n",
       "\n",
       "    this._resize_canvas = function(width, height) {\n",
       "        // Keep the size of the canvas, canvas container, and rubber band\n",
       "        // canvas in synch.\n",
       "        canvas_div.css('width', width)\n",
       "        canvas_div.css('height', height)\n",
       "\n",
       "        canvas.attr('width', width * mpl.ratio);\n",
       "        canvas.attr('height', height * mpl.ratio);\n",
       "        canvas.attr('style', 'width: ' + width + 'px; height: ' + height + 'px;');\n",
       "\n",
       "        rubberband.attr('width', width);\n",
       "        rubberband.attr('height', height);\n",
       "    }\n",
       "\n",
       "    // Set the figure to an initial 600x600px, this will subsequently be updated\n",
       "    // upon first draw.\n",
       "    this._resize_canvas(600, 600);\n",
       "\n",
       "    // Disable right mouse context menu.\n",
       "    $(this.rubberband_canvas).bind(\"contextmenu\",function(e){\n",
       "        return false;\n",
       "    });\n",
       "\n",
       "    function set_focus () {\n",
       "        canvas.focus();\n",
       "        canvas_div.focus();\n",
       "    }\n",
       "\n",
       "    window.setTimeout(set_focus, 100);\n",
       "}\n",
       "\n",
       "mpl.figure.prototype._init_toolbar = function() {\n",
       "    var fig = this;\n",
       "\n",
       "    var nav_element = $('<div/>');\n",
       "    nav_element.attr('style', 'width: 100%');\n",
       "    this.root.append(nav_element);\n",
       "\n",
       "    // Define a callback function for later on.\n",
       "    function toolbar_event(event) {\n",
       "        return fig.toolbar_button_onclick(event['data']);\n",
       "    }\n",
       "    function toolbar_mouse_event(event) {\n",
       "        return fig.toolbar_button_onmouseover(event['data']);\n",
       "    }\n",
       "\n",
       "    for(var toolbar_ind in mpl.toolbar_items) {\n",
       "        var name = mpl.toolbar_items[toolbar_ind][0];\n",
       "        var tooltip = mpl.toolbar_items[toolbar_ind][1];\n",
       "        var image = mpl.toolbar_items[toolbar_ind][2];\n",
       "        var method_name = mpl.toolbar_items[toolbar_ind][3];\n",
       "\n",
       "        if (!name) {\n",
       "            // put a spacer in here.\n",
       "            continue;\n",
       "        }\n",
       "        var button = $('<button/>');\n",
       "        button.addClass('ui-button ui-widget ui-state-default ui-corner-all ' +\n",
       "                        'ui-button-icon-only');\n",
       "        button.attr('role', 'button');\n",
       "        button.attr('aria-disabled', 'false');\n",
       "        button.click(method_name, toolbar_event);\n",
       "        button.mouseover(tooltip, toolbar_mouse_event);\n",
       "\n",
       "        var icon_img = $('<span/>');\n",
       "        icon_img.addClass('ui-button-icon-primary ui-icon');\n",
       "        icon_img.addClass(image);\n",
       "        icon_img.addClass('ui-corner-all');\n",
       "\n",
       "        var tooltip_span = $('<span/>');\n",
       "        tooltip_span.addClass('ui-button-text');\n",
       "        tooltip_span.html(tooltip);\n",
       "\n",
       "        button.append(icon_img);\n",
       "        button.append(tooltip_span);\n",
       "\n",
       "        nav_element.append(button);\n",
       "    }\n",
       "\n",
       "    var fmt_picker_span = $('<span/>');\n",
       "\n",
       "    var fmt_picker = $('<select/>');\n",
       "    fmt_picker.addClass('mpl-toolbar-option ui-widget ui-widget-content');\n",
       "    fmt_picker_span.append(fmt_picker);\n",
       "    nav_element.append(fmt_picker_span);\n",
       "    this.format_dropdown = fmt_picker[0];\n",
       "\n",
       "    for (var ind in mpl.extensions) {\n",
       "        var fmt = mpl.extensions[ind];\n",
       "        var option = $(\n",
       "            '<option/>', {selected: fmt === mpl.default_extension}).html(fmt);\n",
       "        fmt_picker.append(option);\n",
       "    }\n",
       "\n",
       "    // Add hover states to the ui-buttons\n",
       "    $( \".ui-button\" ).hover(\n",
       "        function() { $(this).addClass(\"ui-state-hover\");},\n",
       "        function() { $(this).removeClass(\"ui-state-hover\");}\n",
       "    );\n",
       "\n",
       "    var status_bar = $('<span class=\"mpl-message\"/>');\n",
       "    nav_element.append(status_bar);\n",
       "    this.message = status_bar[0];\n",
       "}\n",
       "\n",
       "mpl.figure.prototype.request_resize = function(x_pixels, y_pixels) {\n",
       "    // Request matplotlib to resize the figure. Matplotlib will then trigger a resize in the client,\n",
       "    // which will in turn request a refresh of the image.\n",
       "    this.send_message('resize', {'width': x_pixels, 'height': y_pixels});\n",
       "}\n",
       "\n",
       "mpl.figure.prototype.send_message = function(type, properties) {\n",
       "    properties['type'] = type;\n",
       "    properties['figure_id'] = this.id;\n",
       "    this.ws.send(JSON.stringify(properties));\n",
       "}\n",
       "\n",
       "mpl.figure.prototype.send_draw_message = function() {\n",
       "    if (!this.waiting) {\n",
       "        this.waiting = true;\n",
       "        this.ws.send(JSON.stringify({type: \"draw\", figure_id: this.id}));\n",
       "    }\n",
       "}\n",
       "\n",
       "\n",
       "mpl.figure.prototype.handle_save = function(fig, msg) {\n",
       "    var format_dropdown = fig.format_dropdown;\n",
       "    var format = format_dropdown.options[format_dropdown.selectedIndex].value;\n",
       "    fig.ondownload(fig, format);\n",
       "}\n",
       "\n",
       "\n",
       "mpl.figure.prototype.handle_resize = function(fig, msg) {\n",
       "    var size = msg['size'];\n",
       "    if (size[0] != fig.canvas.width || size[1] != fig.canvas.height) {\n",
       "        fig._resize_canvas(size[0], size[1]);\n",
       "        fig.send_message(\"refresh\", {});\n",
       "    };\n",
       "}\n",
       "\n",
       "mpl.figure.prototype.handle_rubberband = function(fig, msg) {\n",
       "    var x0 = msg['x0'] / mpl.ratio;\n",
       "    var y0 = (fig.canvas.height - msg['y0']) / mpl.ratio;\n",
       "    var x1 = msg['x1'] / mpl.ratio;\n",
       "    var y1 = (fig.canvas.height - msg['y1']) / mpl.ratio;\n",
       "    x0 = Math.floor(x0) + 0.5;\n",
       "    y0 = Math.floor(y0) + 0.5;\n",
       "    x1 = Math.floor(x1) + 0.5;\n",
       "    y1 = Math.floor(y1) + 0.5;\n",
       "    var min_x = Math.min(x0, x1);\n",
       "    var min_y = Math.min(y0, y1);\n",
       "    var width = Math.abs(x1 - x0);\n",
       "    var height = Math.abs(y1 - y0);\n",
       "\n",
       "    fig.rubberband_context.clearRect(\n",
       "        0, 0, fig.canvas.width / mpl.ratio, fig.canvas.height / mpl.ratio);\n",
       "\n",
       "    fig.rubberband_context.strokeRect(min_x, min_y, width, height);\n",
       "}\n",
       "\n",
       "mpl.figure.prototype.handle_figure_label = function(fig, msg) {\n",
       "    // Updates the figure title.\n",
       "    fig.header.textContent = msg['label'];\n",
       "}\n",
       "\n",
       "mpl.figure.prototype.handle_cursor = function(fig, msg) {\n",
       "    var cursor = msg['cursor'];\n",
       "    switch(cursor)\n",
       "    {\n",
       "    case 0:\n",
       "        cursor = 'pointer';\n",
       "        break;\n",
       "    case 1:\n",
       "        cursor = 'default';\n",
       "        break;\n",
       "    case 2:\n",
       "        cursor = 'crosshair';\n",
       "        break;\n",
       "    case 3:\n",
       "        cursor = 'move';\n",
       "        break;\n",
       "    }\n",
       "    fig.rubberband_canvas.style.cursor = cursor;\n",
       "}\n",
       "\n",
       "mpl.figure.prototype.handle_message = function(fig, msg) {\n",
       "    fig.message.textContent = msg['message'];\n",
       "}\n",
       "\n",
       "mpl.figure.prototype.handle_draw = function(fig, msg) {\n",
       "    // Request the server to send over a new figure.\n",
       "    fig.send_draw_message();\n",
       "}\n",
       "\n",
       "mpl.figure.prototype.handle_image_mode = function(fig, msg) {\n",
       "    fig.image_mode = msg['mode'];\n",
       "}\n",
       "\n",
       "mpl.figure.prototype.updated_canvas_event = function() {\n",
       "    // Called whenever the canvas gets updated.\n",
       "    this.send_message(\"ack\", {});\n",
       "}\n",
       "\n",
       "// A function to construct a web socket function for onmessage handling.\n",
       "// Called in the figure constructor.\n",
       "mpl.figure.prototype._make_on_message_function = function(fig) {\n",
       "    return function socket_on_message(evt) {\n",
       "        if (evt.data instanceof Blob) {\n",
       "            /* FIXME: We get \"Resource interpreted as Image but\n",
       "             * transferred with MIME type text/plain:\" errors on\n",
       "             * Chrome.  But how to set the MIME type?  It doesn't seem\n",
       "             * to be part of the websocket stream */\n",
       "            evt.data.type = \"image/png\";\n",
       "\n",
       "            /* Free the memory for the previous frames */\n",
       "            if (fig.imageObj.src) {\n",
       "                (window.URL || window.webkitURL).revokeObjectURL(\n",
       "                    fig.imageObj.src);\n",
       "            }\n",
       "\n",
       "            fig.imageObj.src = (window.URL || window.webkitURL).createObjectURL(\n",
       "                evt.data);\n",
       "            fig.updated_canvas_event();\n",
       "            fig.waiting = false;\n",
       "            return;\n",
       "        }\n",
       "        else if (typeof evt.data === 'string' && evt.data.slice(0, 21) == \"data:image/png;base64\") {\n",
       "            fig.imageObj.src = evt.data;\n",
       "            fig.updated_canvas_event();\n",
       "            fig.waiting = false;\n",
       "            return;\n",
       "        }\n",
       "\n",
       "        var msg = JSON.parse(evt.data);\n",
       "        var msg_type = msg['type'];\n",
       "\n",
       "        // Call the  \"handle_{type}\" callback, which takes\n",
       "        // the figure and JSON message as its only arguments.\n",
       "        try {\n",
       "            var callback = fig[\"handle_\" + msg_type];\n",
       "        } catch (e) {\n",
       "            console.log(\"No handler for the '\" + msg_type + \"' message type: \", msg);\n",
       "            return;\n",
       "        }\n",
       "\n",
       "        if (callback) {\n",
       "            try {\n",
       "                // console.log(\"Handling '\" + msg_type + \"' message: \", msg);\n",
       "                callback(fig, msg);\n",
       "            } catch (e) {\n",
       "                console.log(\"Exception inside the 'handler_\" + msg_type + \"' callback:\", e, e.stack, msg);\n",
       "            }\n",
       "        }\n",
       "    };\n",
       "}\n",
       "\n",
       "// from http://stackoverflow.com/questions/1114465/getting-mouse-location-in-canvas\n",
       "mpl.findpos = function(e) {\n",
       "    //this section is from http://www.quirksmode.org/js/events_properties.html\n",
       "    var targ;\n",
       "    if (!e)\n",
       "        e = window.event;\n",
       "    if (e.target)\n",
       "        targ = e.target;\n",
       "    else if (e.srcElement)\n",
       "        targ = e.srcElement;\n",
       "    if (targ.nodeType == 3) // defeat Safari bug\n",
       "        targ = targ.parentNode;\n",
       "\n",
       "    // jQuery normalizes the pageX and pageY\n",
       "    // pageX,Y are the mouse positions relative to the document\n",
       "    // offset() returns the position of the element relative to the document\n",
       "    var x = e.pageX - $(targ).offset().left;\n",
       "    var y = e.pageY - $(targ).offset().top;\n",
       "\n",
       "    return {\"x\": x, \"y\": y};\n",
       "};\n",
       "\n",
       "/*\n",
       " * return a copy of an object with only non-object keys\n",
       " * we need this to avoid circular references\n",
       " * http://stackoverflow.com/a/24161582/3208463\n",
       " */\n",
       "function simpleKeys (original) {\n",
       "  return Object.keys(original).reduce(function (obj, key) {\n",
       "    if (typeof original[key] !== 'object')\n",
       "        obj[key] = original[key]\n",
       "    return obj;\n",
       "  }, {});\n",
       "}\n",
       "\n",
       "mpl.figure.prototype.mouse_event = function(event, name) {\n",
       "    var canvas_pos = mpl.findpos(event)\n",
       "\n",
       "    if (name === 'button_press')\n",
       "    {\n",
       "        this.canvas.focus();\n",
       "        this.canvas_div.focus();\n",
       "    }\n",
       "\n",
       "    var x = canvas_pos.x * mpl.ratio;\n",
       "    var y = canvas_pos.y * mpl.ratio;\n",
       "\n",
       "    this.send_message(name, {x: x, y: y, button: event.button,\n",
       "                             step: event.step,\n",
       "                             guiEvent: simpleKeys(event)});\n",
       "\n",
       "    /* This prevents the web browser from automatically changing to\n",
       "     * the text insertion cursor when the button is pressed.  We want\n",
       "     * to control all of the cursor setting manually through the\n",
       "     * 'cursor' event from matplotlib */\n",
       "    event.preventDefault();\n",
       "    return false;\n",
       "}\n",
       "\n",
       "mpl.figure.prototype._key_event_extra = function(event, name) {\n",
       "    // Handle any extra behaviour associated with a key event\n",
       "}\n",
       "\n",
       "mpl.figure.prototype.key_event = function(event, name) {\n",
       "\n",
       "    // Prevent repeat events\n",
       "    if (name == 'key_press')\n",
       "    {\n",
       "        if (event.which === this._key)\n",
       "            return;\n",
       "        else\n",
       "            this._key = event.which;\n",
       "    }\n",
       "    if (name == 'key_release')\n",
       "        this._key = null;\n",
       "\n",
       "    var value = '';\n",
       "    if (event.ctrlKey && event.which != 17)\n",
       "        value += \"ctrl+\";\n",
       "    if (event.altKey && event.which != 18)\n",
       "        value += \"alt+\";\n",
       "    if (event.shiftKey && event.which != 16)\n",
       "        value += \"shift+\";\n",
       "\n",
       "    value += 'k';\n",
       "    value += event.which.toString();\n",
       "\n",
       "    this._key_event_extra(event, name);\n",
       "\n",
       "    this.send_message(name, {key: value,\n",
       "                             guiEvent: simpleKeys(event)});\n",
       "    return false;\n",
       "}\n",
       "\n",
       "mpl.figure.prototype.toolbar_button_onclick = function(name) {\n",
       "    if (name == 'download') {\n",
       "        this.handle_save(this, null);\n",
       "    } else {\n",
       "        this.send_message(\"toolbar_button\", {name: name});\n",
       "    }\n",
       "};\n",
       "\n",
       "mpl.figure.prototype.toolbar_button_onmouseover = function(tooltip) {\n",
       "    this.message.textContent = tooltip;\n",
       "};\n",
       "mpl.toolbar_items = [[\"Home\", \"Reset original view\", \"fa fa-home icon-home\", \"home\"], [\"Back\", \"Back to previous view\", \"fa fa-arrow-left icon-arrow-left\", \"back\"], [\"Forward\", \"Forward to next view\", \"fa fa-arrow-right icon-arrow-right\", \"forward\"], [\"\", \"\", \"\", \"\"], [\"Pan\", \"Pan axes with left mouse, zoom with right\", \"fa fa-arrows icon-move\", \"pan\"], [\"Zoom\", \"Zoom to rectangle\", \"fa fa-square-o icon-check-empty\", \"zoom\"], [\"\", \"\", \"\", \"\"], [\"Download\", \"Download plot\", \"fa fa-floppy-o icon-save\", \"download\"]];\n",
       "\n",
       "mpl.extensions = [\"eps\", \"jpeg\", \"pdf\", \"png\", \"ps\", \"raw\", \"svg\", \"tif\"];\n",
       "\n",
       "mpl.default_extension = \"png\";var comm_websocket_adapter = function(comm) {\n",
       "    // Create a \"websocket\"-like object which calls the given IPython comm\n",
       "    // object with the appropriate methods. Currently this is a non binary\n",
       "    // socket, so there is still some room for performance tuning.\n",
       "    var ws = {};\n",
       "\n",
       "    ws.close = function() {\n",
       "        comm.close()\n",
       "    };\n",
       "    ws.send = function(m) {\n",
       "        //console.log('sending', m);\n",
       "        comm.send(m);\n",
       "    };\n",
       "    // Register the callback with on_msg.\n",
       "    comm.on_msg(function(msg) {\n",
       "        //console.log('receiving', msg['content']['data'], msg);\n",
       "        // Pass the mpl event to the overridden (by mpl) onmessage function.\n",
       "        ws.onmessage(msg['content']['data'])\n",
       "    });\n",
       "    return ws;\n",
       "}\n",
       "\n",
       "mpl.mpl_figure_comm = function(comm, msg) {\n",
       "    // This is the function which gets called when the mpl process\n",
       "    // starts-up an IPython Comm through the \"matplotlib\" channel.\n",
       "\n",
       "    var id = msg.content.data.id;\n",
       "    // Get hold of the div created by the display call when the Comm\n",
       "    // socket was opened in Python.\n",
       "    var element = $(\"#\" + id);\n",
       "    var ws_proxy = comm_websocket_adapter(comm)\n",
       "\n",
       "    function ondownload(figure, format) {\n",
       "        window.open(figure.imageObj.src);\n",
       "    }\n",
       "\n",
       "    var fig = new mpl.figure(id, ws_proxy,\n",
       "                           ondownload,\n",
       "                           element.get(0));\n",
       "\n",
       "    // Call onopen now - mpl needs it, as it is assuming we've passed it a real\n",
       "    // web socket which is closed, not our websocket->open comm proxy.\n",
       "    ws_proxy.onopen();\n",
       "\n",
       "    fig.parent_element = element.get(0);\n",
       "    fig.cell_info = mpl.find_output_cell(\"<div id='\" + id + \"'></div>\");\n",
       "    if (!fig.cell_info) {\n",
       "        console.error(\"Failed to find cell for figure\", id, fig);\n",
       "        return;\n",
       "    }\n",
       "\n",
       "    var output_index = fig.cell_info[2]\n",
       "    var cell = fig.cell_info[0];\n",
       "\n",
       "};\n",
       "\n",
       "mpl.figure.prototype.handle_close = function(fig, msg) {\n",
       "    var width = fig.canvas.width/mpl.ratio\n",
       "    fig.root.unbind('remove')\n",
       "\n",
       "    // Update the output cell to use the data from the current canvas.\n",
       "    fig.push_to_output();\n",
       "    var dataURL = fig.canvas.toDataURL();\n",
       "    // Re-enable the keyboard manager in IPython - without this line, in FF,\n",
       "    // the notebook keyboard shortcuts fail.\n",
       "    IPython.keyboard_manager.enable()\n",
       "    $(fig.parent_element).html('<img src=\"' + dataURL + '\" width=\"' + width + '\">');\n",
       "    fig.close_ws(fig, msg);\n",
       "}\n",
       "\n",
       "mpl.figure.prototype.close_ws = function(fig, msg){\n",
       "    fig.send_message('closing', msg);\n",
       "    // fig.ws.close()\n",
       "}\n",
       "\n",
       "mpl.figure.prototype.push_to_output = function(remove_interactive) {\n",
       "    // Turn the data on the canvas into data in the output cell.\n",
       "    var width = this.canvas.width/mpl.ratio\n",
       "    var dataURL = this.canvas.toDataURL();\n",
       "    this.cell_info[1]['text/html'] = '<img src=\"' + dataURL + '\" width=\"' + width + '\">';\n",
       "}\n",
       "\n",
       "mpl.figure.prototype.updated_canvas_event = function() {\n",
       "    // Tell IPython that the notebook contents must change.\n",
       "    IPython.notebook.set_dirty(true);\n",
       "    this.send_message(\"ack\", {});\n",
       "    var fig = this;\n",
       "    // Wait a second, then push the new image to the DOM so\n",
       "    // that it is saved nicely (might be nice to debounce this).\n",
       "    setTimeout(function () { fig.push_to_output() }, 1000);\n",
       "}\n",
       "\n",
       "mpl.figure.prototype._init_toolbar = function() {\n",
       "    var fig = this;\n",
       "\n",
       "    var nav_element = $('<div/>');\n",
       "    nav_element.attr('style', 'width: 100%');\n",
       "    this.root.append(nav_element);\n",
       "\n",
       "    // Define a callback function for later on.\n",
       "    function toolbar_event(event) {\n",
       "        return fig.toolbar_button_onclick(event['data']);\n",
       "    }\n",
       "    function toolbar_mouse_event(event) {\n",
       "        return fig.toolbar_button_onmouseover(event['data']);\n",
       "    }\n",
       "\n",
       "    for(var toolbar_ind in mpl.toolbar_items){\n",
       "        var name = mpl.toolbar_items[toolbar_ind][0];\n",
       "        var tooltip = mpl.toolbar_items[toolbar_ind][1];\n",
       "        var image = mpl.toolbar_items[toolbar_ind][2];\n",
       "        var method_name = mpl.toolbar_items[toolbar_ind][3];\n",
       "\n",
       "        if (!name) { continue; };\n",
       "\n",
       "        var button = $('<button class=\"btn btn-default\" href=\"#\" title=\"' + name + '\"><i class=\"fa ' + image + ' fa-lg\"></i></button>');\n",
       "        button.click(method_name, toolbar_event);\n",
       "        button.mouseover(tooltip, toolbar_mouse_event);\n",
       "        nav_element.append(button);\n",
       "    }\n",
       "\n",
       "    // Add the status bar.\n",
       "    var status_bar = $('<span class=\"mpl-message\" style=\"text-align:right; float: right;\"/>');\n",
       "    nav_element.append(status_bar);\n",
       "    this.message = status_bar[0];\n",
       "\n",
       "    // Add the close button to the window.\n",
       "    var buttongrp = $('<div class=\"btn-group inline pull-right\"></div>');\n",
       "    var button = $('<button class=\"btn btn-mini btn-primary\" href=\"#\" title=\"Stop Interaction\"><i class=\"fa fa-power-off icon-remove icon-large\"></i></button>');\n",
       "    button.click(function (evt) { fig.handle_close(fig, {}); } );\n",
       "    button.mouseover('Stop Interaction', toolbar_mouse_event);\n",
       "    buttongrp.append(button);\n",
       "    var titlebar = this.root.find($('.ui-dialog-titlebar'));\n",
       "    titlebar.prepend(buttongrp);\n",
       "}\n",
       "\n",
       "mpl.figure.prototype._root_extra_style = function(el){\n",
       "    var fig = this\n",
       "    el.on(\"remove\", function(){\n",
       "\tfig.close_ws(fig, {});\n",
       "    });\n",
       "}\n",
       "\n",
       "mpl.figure.prototype._canvas_extra_style = function(el){\n",
       "    // this is important to make the div 'focusable\n",
       "    el.attr('tabindex', 0)\n",
       "    // reach out to IPython and tell the keyboard manager to turn it's self\n",
       "    // off when our div gets focus\n",
       "\n",
       "    // location in version 3\n",
       "    if (IPython.notebook.keyboard_manager) {\n",
       "        IPython.notebook.keyboard_manager.register_events(el);\n",
       "    }\n",
       "    else {\n",
       "        // location in version 2\n",
       "        IPython.keyboard_manager.register_events(el);\n",
       "    }\n",
       "\n",
       "}\n",
       "\n",
       "mpl.figure.prototype._key_event_extra = function(event, name) {\n",
       "    var manager = IPython.notebook.keyboard_manager;\n",
       "    if (!manager)\n",
       "        manager = IPython.keyboard_manager;\n",
       "\n",
       "    // Check for shift+enter\n",
       "    if (event.shiftKey && event.which == 13) {\n",
       "        this.canvas_div.blur();\n",
       "        // select the cell after this one\n",
       "        var index = IPython.notebook.find_cell_index(this.cell_info[0]);\n",
       "        IPython.notebook.select(index + 1);\n",
       "    }\n",
       "}\n",
       "\n",
       "mpl.figure.prototype.handle_save = function(fig, msg) {\n",
       "    fig.ondownload(fig, null);\n",
       "}\n",
       "\n",
       "\n",
       "mpl.find_output_cell = function(html_output) {\n",
       "    // Return the cell and output element which can be found *uniquely* in the notebook.\n",
       "    // Note - this is a bit hacky, but it is done because the \"notebook_saving.Notebook\"\n",
       "    // IPython event is triggered only after the cells have been serialised, which for\n",
       "    // our purposes (turning an active figure into a static one), is too late.\n",
       "    var cells = IPython.notebook.get_cells();\n",
       "    var ncells = cells.length;\n",
       "    for (var i=0; i<ncells; i++) {\n",
       "        var cell = cells[i];\n",
       "        if (cell.cell_type === 'code'){\n",
       "            for (var j=0; j<cell.output_area.outputs.length; j++) {\n",
       "                var data = cell.output_area.outputs[j];\n",
       "                if (data.data) {\n",
       "                    // IPython >= 3 moved mimebundle to data attribute of output\n",
       "                    data = data.data;\n",
       "                }\n",
       "                if (data['text/html'] == html_output) {\n",
       "                    return [cell, data, j];\n",
       "                }\n",
       "            }\n",
       "        }\n",
       "    }\n",
       "}\n",
       "\n",
       "// Register the function which deals with the matplotlib target/channel.\n",
       "// The kernel may be null if the page has been refreshed.\n",
       "if (IPython.notebook.kernel != null) {\n",
       "    IPython.notebook.kernel.comm_manager.register_target('matplotlib', mpl.mpl_figure_comm);\n",
       "}\n"
      ],
      "text/plain": [
       "<IPython.core.display.Javascript object>"
      ]
     },
     "metadata": {},
     "output_type": "display_data"
    },
    {
     "data": {
      "text/html": [
       "<img src=\"data:image/png;base64,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\" width=\"640\">"
      ],
      "text/plain": [
       "<IPython.core.display.HTML object>"
      ]
     },
     "metadata": {},
     "output_type": "display_data"
    },
    {
     "data": {
      "text/plain": [
       "<matplotlib.axes._subplots.AxesSubplot at 0x158390f0>"
      ]
     },
     "execution_count": 907,
     "metadata": {},
     "output_type": "execute_result"
    }
   ],
   "source": [
    "jjmock.pbi(17)"
   ]
  },
  {
   "cell_type": "code",
   "execution_count": 905,
   "metadata": {},
   "outputs": [],
   "source": [
    "dataset1=dataset.snapshot"
   ]
  },
  {
   "cell_type": "code",
   "execution_count": 908,
   "metadata": {},
   "outputs": [],
   "source": [
    "dataset2=dataset.snapshot"
   ]
  },
  {
   "cell_type": "code",
   "execution_count": 909,
   "metadata": {},
   "outputs": [],
   "source": [
    "from qcodes.utils.metadata import diff_param_values\n",
    "\n"
   ]
  },
  {
   "cell_type": "code",
   "execution_count": 910,
   "metadata": {},
   "outputs": [
    {
     "data": {
      "text/plain": [
       "{}"
      ]
     },
     "execution_count": 910,
     "metadata": {},
     "output_type": "execute_result"
    }
   ],
   "source": [
    "diff_param_values(dataset1, dataset2).changed\n"
   ]
  },
  {
   "cell_type": "code",
   "execution_count": null,
   "metadata": {},
   "outputs": [],
   "source": []
  },
  {
   "cell_type": "code",
   "execution_count": null,
   "metadata": {},
   "outputs": [],
   "source": []
  }
 ],
 "metadata": {
  "anaconda-cloud": {},
  "kernelspec": {
   "display_name": "Python 3",
   "language": "python",
   "name": "python3"
  },
  "language_info": {
   "codemirror_mode": {
    "name": "ipython",
    "version": 3
   },
   "file_extension": ".py",
   "mimetype": "text/x-python",
   "name": "python",
   "nbconvert_exporter": "python",
   "pygments_lexer": "ipython3",
   "version": "3.7.4"
  },
  "latex_envs": {
   "LaTeX_envs_menu_present": true,
   "autoclose": false,
   "autocomplete": true,
   "bibliofile": "biblio.bib",
   "cite_by": "apalike",
   "current_citInitial": 1,
   "eqLabelWithNumbers": true,
   "eqNumInitial": 1,
   "hotkeys": {
    "equation": "Ctrl-E",
    "itemize": "Ctrl-I"
   },
   "labels_anchors": false,
   "latex_user_defs": false,
   "report_style_numbering": false,
   "user_envs_cfg": false
  },
  "toc": {
   "base_numbering": 1,
   "nav_menu": {},
   "number_sections": true,
   "sideBar": true,
   "skip_h1_title": false,
   "title_cell": "Table of Contents",
   "title_sidebar": "Contents",
   "toc_cell": false,
   "toc_position": {
    "height": "477px",
    "left": "120px",
    "top": "141px",
    "width": "165px"
   },
   "toc_section_display": true,
   "toc_window_display": true
  },
  "varInspector": {
   "cols": {
    "lenName": 16,
    "lenType": 16,
    "lenVar": 40
   },
   "kernels_config": {
    "python": {
     "delete_cmd_postfix": "",
     "delete_cmd_prefix": "del ",
     "library": "var_list.py",
     "varRefreshCmd": "print(var_dic_list())"
    },
    "r": {
     "delete_cmd_postfix": ") ",
     "delete_cmd_prefix": "rm(",
     "library": "var_list.r",
     "varRefreshCmd": "cat(var_dic_list()) "
    }
   },
   "types_to_exclude": [
    "module",
    "function",
    "builtin_function_or_method",
    "instance",
    "_Feature"
   ],
   "window_display": false
  }
 },
 "nbformat": 4,
 "nbformat_minor": 1
}
