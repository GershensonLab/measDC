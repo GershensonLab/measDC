{
 "cells": [
  {
   "cell_type": "markdown",
   "metadata": {},
   "source": [
    "## Environment setup"
   ]
  },
  {
   "cell_type": "markdown",
   "metadata": {},
   "source": [
    "### Library preparation"
   ]
  },
  {
   "cell_type": "code",
   "execution_count": 113,
   "metadata": {},
   "outputs": [
    {
     "name": "stdout",
     "output_type": "stream",
     "text": [
      "The autoreload extension is already loaded. To reload it, use:\n",
      "  %reload_ext autoreload\n"
     ]
    }
   ],
   "source": [
    "%matplotlib notebook\n",
    "%load_ext autoreload\n",
    "%autoreload 2"
   ]
  },
  {
   "cell_type": "code",
   "execution_count": 114,
   "metadata": {},
   "outputs": [],
   "source": [
    "from si_prefix import si_format\n",
    "from tqdm import tqdm, tqdm_notebook\n",
    "\n",
    "import pandas as pd\n",
    "import numpy as np\n",
    "import matplotlib.pyplot as plt\n",
    "\n",
    "import qcodes as qc\n",
    "# from qcodes import Station, load_by_run_spec, load_by_guid\n",
    "# from qcodes.instrument.base import Instrument\n",
    "# from qcodes.dataset.experiment_container import (Experiment,\n",
    "#                                                  load_last_experiment,\n",
    "#                                                  new_experiment)\n",
    "# from qcodes.dataset.database import initialise_database\n",
    "# from qcodes.dataset.measurements import Measurement\n",
    "# from qcodes.dataset.plotting import plot_by_id, get_data_by_id, plot_dataset\n",
    "# from qcodes.dataset.data_set import load_by_id\n",
    "# # from qcodes.dataset.data_export import get_shaped_data_by_runidb"
   ]
  },
  {
   "cell_type": "code",
   "execution_count": 115,
   "metadata": {
    "scrolled": false
   },
   "outputs": [],
   "source": [
    "from qcodes.instrument_drivers.Lakeshore.Model_372 import Model_372\n",
    "# from qcodes.instrument_drivers.tektronix.AWG3252_Isrc import AWG3252_Isrc\n",
    "from qcodes.instrument_drivers.HP.HP34401 import HP34401\n",
    "from qcodes.instrument_drivers.HP.HP34401_DL1201 import HP34401_DL1201\n",
    "from qcodes.instrument_drivers.Keithley.Keithley_2600_channels import *\n",
    "from qcodes.instrument_drivers.tektronix.AWG5204_Isrc import AWG5204_Isrc\n",
    "\n",
    "from qcodes.instrument_drivers.Keithley.Keithley_213 import K213\n",
    "\n",
    "\n",
    "# from qcodes.instrument_drivers.Keysight.Keysight_B2962A_Isrc import B2962A_Isrc\n",
    "\n",
    "\n",
    "from qcodes.instrument_drivers.Keithley.Keithley_6220 import Keithley_6220\n",
    "from qcodes.instrument_drivers.Keithley.Keithley_6220_Isrc import Keithley_6220_Isrc"
   ]
  },
  {
   "cell_type": "code",
   "execution_count": 116,
   "metadata": {},
   "outputs": [],
   "source": [
    "import sys \n",
    "sys.path.append('..\\..\\_jjtools')\n",
    "\n",
    "# from Exps import *\n",
    "\n",
    "from JJ_data_processing import read_opj_data, pbi, bpbi, show_df, update_df\n",
    "\n",
    "from JJformulas import *\n",
    "# from meas_util import *\n",
    "\n",
    "from JJmeasurement import *"
   ]
  },
  {
   "cell_type": "markdown",
   "metadata": {},
   "source": [
    "### Instrument nicknames and QC database initialization"
   ]
  },
  {
   "cell_type": "code",
   "execution_count": 119,
   "metadata": {},
   "outputs": [
    {
     "name": "stdout",
     "output_type": "stream",
     "text": [
      "Connected to: Keithley Instruments Inc. 2602A (serial:1272049, firmware:2.1.5) in 0.16s\n"
     ]
    },
    {
     "name": "stderr",
     "output_type": "stream",
     "text": [
      "[K6220(Keithley_6220_Isrc)] Snapshot: Could not update parameter: Irange\n"
     ]
    },
    {
     "name": "stdout",
     "output_type": "stream",
     "text": [
      "Instrument initialization completed.\n"
     ]
    }
   ],
   "source": [
    "try:\n",
    "   Instrument.close_all()\n",
    "except KeyError:\n",
    "   pass    \n",
    "except NameError:\n",
    "   pass \n",
    "\n",
    "K2602 =  Keithley_2600(name = 'K2602', address = \"GPIB::26::INSTR\" )\n",
    "Flux_chA = K2602.smua.curr\n",
    "Flux_chB = K2602.smub.curr\n",
    "\n",
    "Bfield =  Flux_chA\n",
    "Bfield.step = 10e-6\n",
    "Bfield.inter_delay = .1\n",
    "\n",
    "\n",
    "\n",
    "# Isrc = AWG5204_Isrc('gen', 'TCPIP0::AWG52000-XXXX::inst0::INSTR', ch = 1, R_bias = 1e9, Attn = 1, timeout = 20)\n",
    "\n",
    "\n",
    "# Isrc = Keithley_6220(name = 'K6220', address = \"GPIB::13::INSTR\" )\n",
    "# Isrc.set_R_Attn ( R_bias = 1, Attn = 1 )\n",
    "\n",
    "\n",
    "\n",
    "\n",
    "# Isrc = AWG3252_Isrc('gen', 'TCPIP0::192.168.13.32::inst0::INSTR', \n",
    "#                     R_bias = 1e9, Attn = 10)\n",
    "# Isrc.init()\n",
    "\n",
    "Vmeter = HP34401_DL1201('meter', 'GPIB0::8::INSTR', Gain = 1e2)\n",
    "Vmeter.init('fast 6')\n",
    "\n",
    "\n",
    "# Isrc = Keithley_6220_Isrc(name = 'K6220', address = \"GPIB::13::INSTR\",\n",
    "#                           Rsh = 10e6, Rb = 1e9, Vmeter = Vmeter)\n",
    "\n",
    "\n",
    "Isrc = Keithley_6220_Isrc(name = 'K6220', address = \"GPIB::13::INSTR\",\n",
    "                          Rsh = 10.041e3, Rb = 2.2e6, Vmeter = Vmeter)\n",
    "\n",
    "\n",
    "station = qc.Station(Isrc, Vmeter, Bfield)\n",
    "\n",
    "print ('Instrument initialization completed.')"
   ]
  },
  {
   "cell_type": "code",
   "execution_count": 6,
   "metadata": {},
   "outputs": [
    {
     "name": "stdout",
     "output_type": "stream",
     "text": [
      "Connected to: LSCI 370 (serial:370665, firmware:04102008) in 0.11s\n"
     ]
    }
   ],
   "source": [
    "\n",
    "LS370 = Model_372(name = 'LS370 input Ch', address = 'GPIB::12::INSTR', terminator='\\n')\n",
    "T8 = LS370.ch08.temperature\n",
    "\n",
    "htr = LS370.sample_heater\n",
    "htr_setpt = htr.setpoint\n",
    "\n",
    "htr_setpt.set(0.020)\n",
    "htr.P.set(30)\n",
    "htr.I.set(5)\n",
    "htr.D.set(1)\n",
    "# PIDset(30,5,1)\n",
    "htr.output_range('3.16mA')"
   ]
  },
  {
   "cell_type": "code",
   "execution_count": 7,
   "metadata": {},
   "outputs": [],
   "source": [
    "Vgate = K213(name = 'Vgate', address = 'GPIB::3::INSTR')"
   ]
  },
  {
   "cell_type": "code",
   "execution_count": 8,
   "metadata": {},
   "outputs": [],
   "source": [
    "Vg = Vgate.voltage"
   ]
  },
  {
   "cell_type": "markdown",
   "metadata": {},
   "source": [
    "### Class JJmeas"
   ]
  },
  {
   "cell_type": "code",
   "execution_count": 126,
   "metadata": {},
   "outputs": [],
   "source": [
    "tools = {'I' : Isrc.I,\n",
    "         'V' : Vmeter.V,\n",
    "         'B' : Flux_chA,\n",
    "         'T': T8,\n",
    "         'htr' : htr_setpt}"
   ]
  },
  {
   "cell_type": "code",
   "execution_count": 127,
   "metadata": {},
   "outputs": [],
   "source": [
    "def setup():\n",
    "    Isrc.I.set(0)\n",
    "#     pass\n",
    "\n",
    "def cleanup():\n",
    "    Isrc.I.set(0) \n",
    "#     Bfield.set(0)\n",
    "\n"
   ]
  },
  {
   "cell_type": "code",
   "execution_count": 128,
   "metadata": {},
   "outputs": [],
   "source": [
    "jj = JJmeas(sample = 'D055B1N5v1', tools = tools)\n",
    "jj.setup = setup\n",
    "jj.cleanup = cleanup\n",
    "\n",
    "# jj.ZF   = -2e-3\n",
    "# jj.FF   = 0.200e-3"
   ]
  },
  {
   "cell_type": "code",
   "execution_count": 20,
   "metadata": {},
   "outputs": [],
   "source": [
    "Isrc.I.set(0)"
   ]
  },
  {
   "cell_type": "code",
   "execution_count": null,
   "metadata": {},
   "outputs": [],
   "source": [
    "# jj4 = JJmeas(sample = 'D055B1N4v1', tools = tools)\n",
    "# jj4.setup = setup\n",
    "# jj4.cleanup = cleanup\n",
    "\n",
    "\n",
    "# jj5 = JJmeas(sample = 'D070B1N5v1', tools = tools)\n",
    "# jj5.setup = setup\n",
    "# jj5.cleanup = cleanup\n",
    "# jj5.ZF   = -2e-6\n",
    "# jj5.FF   = 220e-6\n",
    "\n",
    "# jj0 = JJmeas(sample = 'D070B1N0v1', tools = tools)\n",
    "# jj0.setup = setup\n",
    "# jj0.cleanup = cleanup\n",
    "# jj0.ZF   = -2e-6\n",
    "# jj0.FF   = 220e-6"
   ]
  },
  {
   "cell_type": "code",
   "execution_count": null,
   "metadata": {},
   "outputs": [],
   "source": [
    "# jj = JJmeas(sample = 'D078N5v1', tools = tools)\n",
    "# jj.setup = setup\n",
    "# jj.cleanup = cleanup"
   ]
  },
  {
   "cell_type": "code",
   "execution_count": null,
   "metadata": {},
   "outputs": [],
   "source": [
    "jj.tool_status(['B', 'I'])"
   ]
  },
  {
   "cell_type": "code",
   "execution_count": null,
   "metadata": {},
   "outputs": [],
   "source": []
  },
  {
   "cell_type": "code",
   "execution_count": null,
   "metadata": {},
   "outputs": [],
   "source": [
    "#values without extra shield\n",
    "\n",
    "# jj.ZF   = -0.093e-3\n",
    "# jj.FF   = 0.130e-3"
   ]
  },
  {
   "cell_type": "markdown",
   "metadata": {},
   "source": [
    "## Measurement"
   ]
  },
  {
   "cell_type": "code",
   "execution_count": 26,
   "metadata": {},
   "outputs": [],
   "source": [
    "jj.tools['I'].set(0e-12)"
   ]
  },
  {
   "cell_type": "code",
   "execution_count": null,
   "metadata": {},
   "outputs": [],
   "source": [
    "tools['I'].get()"
   ]
  },
  {
   "cell_type": "markdown",
   "metadata": {},
   "source": [
    "#### Iscr choise"
   ]
  },
  {
   "cell_type": "code",
   "execution_count": 147,
   "metadata": {},
   "outputs": [
    {
     "data": {
      "text/plain": [
       "'2.000000E-06\\n'"
      ]
     },
     "execution_count": 147,
     "metadata": {},
     "output_type": "execute_result"
    }
   ],
   "source": [
    "Isrc.ask_raw('SOUR:CURR:RANG?')"
   ]
  },
  {
   "cell_type": "code",
   "execution_count": 164,
   "metadata": {},
   "outputs": [],
   "source": [
    "Isrc.write_raw('SOUR:CURR:RANG 1e-7')# -4 for full scan (300nA, -6 or -7 for fine scan ~200pA)\n",
    "Isrc.I.set(0.0e-9)"
   ]
  },
  {
   "cell_type": "code",
   "execution_count": null,
   "metadata": {},
   "outputs": [],
   "source": [
    "Isrc.I.set(0e-9)"
   ]
  },
  {
   "cell_type": "markdown",
   "metadata": {},
   "source": [
    "#### Vmeter regime"
   ]
  },
  {
   "cell_type": "code",
   "execution_count": null,
   "metadata": {},
   "outputs": [],
   "source": [
    "Vmeter.init('fast 6')"
   ]
  },
  {
   "cell_type": "code",
   "execution_count": null,
   "metadata": {},
   "outputs": [],
   "source": [
    "jj.meas_Voffset(0)"
   ]
  },
  {
   "cell_type": "code",
   "execution_count": null,
   "metadata": {
    "scrolled": true
   },
   "outputs": [],
   "source": [
    "jj.tools['V'].meas_Voff()\n",
    "Isrc.Vmeter.Voff"
   ]
  },
  {
   "cell_type": "code",
   "execution_count": null,
   "metadata": {},
   "outputs": [],
   "source": [
    "B = jj.cos_to_B(1)\n",
    "\n",
    "print(B*1e3)\n",
    "\n",
    "Bfield.set(B)\n"
   ]
  },
  {
   "cell_type": "markdown",
   "metadata": {},
   "source": [
    "### IVCs"
   ]
  },
  {
   "cell_type": "code",
   "execution_count": null,
   "metadata": {},
   "outputs": [],
   "source": [
    "jj.stabilize_I( amp = 200e-12)"
   ]
  },
  {
   "cell_type": "markdown",
   "metadata": {},
   "source": [
    "#### wide scan"
   ]
  },
  {
   "cell_type": "code",
   "execution_count": 132,
   "metadata": {
    "scrolled": true
   },
   "outputs": [
    {
     "name": "stdout",
     "output_type": "stream",
     "text": [
      "0.0\n"
     ]
    },
    {
     "data": {
      "application/vnd.jupyter.widget-view+json": {
       "model_id": "7caf9d42fc09446c9710be8003fa295a",
       "version_major": 2,
       "version_minor": 0
      },
      "text/plain": [
       "HBox(children=(IntProgress(value=0, max=1203), HTML(value='')))"
      ]
     },
     "metadata": {},
     "output_type": "display_data"
    },
    {
     "name": "stdout",
     "output_type": "stream",
     "text": [
      "Starting experimental run with id: 286\n"
     ]
    },
    {
     "name": "stderr",
     "output_type": "stream",
     "text": [
      "An exception occured in measurement with guid: aaaaaaaa-0000-0000-0000-01740836d129;\n",
      "Traceback:\n",
      "Traceback (most recent call last):\n",
      "  File \"..\\..\\_jjtools\\JJmeasurement.py\", line 84, in IVC_cust\n",
      "    is_vs = [[I.get(),V.get()] for _ in range( N_avg)]\n",
      "  File \"..\\..\\_jjtools\\JJmeasurement.py\", line 84, in <listcomp>\n",
      "    is_vs = [[I.get(),V.get()] for _ in range( N_avg)]\n",
      "  File \"C:\\Users\\KelvinOX25\\Anaconda3\\lib\\site-packages\\qcodes\\instrument\\parameter.py\", line 452, in get_wrapper\n",
      "    value = self.get_parser(value)\n",
      "  File \"C:\\Users\\KelvinOX25\\Anaconda3\\lib\\site-packages\\qcodes\\instrument_drivers\\Keithley\\Keithley_6220_Isrc.py\", line 91, in get_I\n",
      "    v = self.Vmeter.V.get() - Voff\n",
      "  File \"C:\\Users\\KelvinOX25\\Anaconda3\\lib\\site-packages\\qcodes\\instrument\\parameter.py\", line 448, in get_wrapper\n",
      "    value = get_function(*args, **kwargs)\n",
      "  File \"C:\\Users\\KelvinOX25\\Anaconda3\\lib\\site-packages\\qcodes\\utils\\command.py\", line 178, in __call__\n",
      "    return self.exec_function(*args)\n",
      "  File \"C:\\Users\\KelvinOX25\\Anaconda3\\lib\\site-packages\\qcodes\\utils\\command.py\", line 127, in call_by_str\n",
      "    return self.exec_str(self.cmd_str.format(*args))\n",
      "  File \"C:\\Users\\KelvinOX25\\Anaconda3\\lib\\site-packages\\qcodes\\instrument\\base.py\", line 759, in ask\n",
      "    answer = self.ask_raw(cmd)\n",
      "  File \"C:\\Users\\KelvinOX25\\Anaconda3\\lib\\site-packages\\qcodes\\instrument\\visa.py\", line 229, in ask_raw\n",
      "    response = self.visa_handle.query(cmd)\n",
      "  File \"C:\\Users\\KelvinOX25\\Anaconda3\\lib\\site-packages\\pyvisa\\resources\\messagebased.py\", line 613, in query\n",
      "    return self.read()\n",
      "  File \"C:\\Users\\KelvinOX25\\Anaconda3\\lib\\site-packages\\pyvisa\\resources\\messagebased.py\", line 427, in read\n",
      "    message = self._read_raw().decode(enco)\n",
      "  File \"C:\\Users\\KelvinOX25\\Anaconda3\\lib\\site-packages\\pyvisa\\resources\\messagebased.py\", line 400, in _read_raw\n",
      "    chunk, status = self.visalib.read(self.session, size)\n",
      "  File \"C:\\Users\\KelvinOX25\\Anaconda3\\lib\\site-packages\\pyvisa\\ctwrapper\\functions.py\", line 1584, in read\n",
      "    ret = library.viRead(session, buffer, count, byref(return_count))\n",
      "  File \"C:\\Users\\KelvinOX25\\Anaconda3\\lib\\site-packages\\pyvisa\\ctwrapper\\highlevel.py\", line 154, in _return_handler\n",
      "    def _return_handler(self, ret_value, func, arguments):\n",
      "KeyboardInterrupt\n",
      "\n"
     ]
    },
    {
     "ename": "KeyboardInterrupt",
     "evalue": "",
     "output_type": "error",
     "traceback": [
      "\u001b[1;31m---------------------------------------------------------------------------\u001b[0m",
      "\u001b[1;31mKeyboardInterrupt\u001b[0m                         Traceback (most recent call last)",
      "\u001b[1;32m<ipython-input-132-2130525ceadf>\u001b[0m in \u001b[0;36m<module>\u001b[1;34m\u001b[0m\n\u001b[0;32m      9\u001b[0m \u001b[1;33m\u001b[0m\u001b[0m\n\u001b[0;32m     10\u001b[0m jj.IVC_udu (amp = 300e-9, stp = 1e-9, dt = .1,  N_avg = 1, \n\u001b[1;32m---> 11\u001b[1;33m             label = 'kei full ivc')\n\u001b[0m",
      "\u001b[1;32m~\\Documents\\GitHub\\measDC\\_jjtools\\JJmeasurement.py\u001b[0m in \u001b[0;36mIVC_udu\u001b[1;34m(self, amp, stp, **kwargs)\u001b[0m\n\u001b[0;32m    115\u001b[0m \u001b[1;33m\u001b[0m\u001b[0m\n\u001b[0;32m    116\u001b[0m         \u001b[0mi_list\u001b[0m \u001b[1;33m=\u001b[0m \u001b[0mudu_list\u001b[0m\u001b[1;33m(\u001b[0m\u001b[0mamp\u001b[0m\u001b[1;33m,\u001b[0m \u001b[0mstp\u001b[0m\u001b[1;33m)\u001b[0m\u001b[1;33m\u001b[0m\u001b[1;33m\u001b[0m\u001b[0m\n\u001b[1;32m--> 117\u001b[1;33m         \u001b[0mrun_id\u001b[0m \u001b[1;33m=\u001b[0m \u001b[0mself\u001b[0m\u001b[1;33m.\u001b[0m\u001b[0mIVC_cust\u001b[0m \u001b[1;33m(\u001b[0m \u001b[0mi_list\u001b[0m\u001b[1;33m,\u001b[0m \u001b[1;33m**\u001b[0m\u001b[0mkwargs\u001b[0m\u001b[1;33m)\u001b[0m\u001b[1;33m\u001b[0m\u001b[1;33m\u001b[0m\u001b[0m\n\u001b[0m\u001b[0;32m    118\u001b[0m \u001b[1;33m\u001b[0m\u001b[0m\n\u001b[0;32m    119\u001b[0m \u001b[1;33m\u001b[0m\u001b[0m\n",
      "\u001b[1;32m~\\Documents\\GitHub\\measDC\\_jjtools\\JJmeasurement.py\u001b[0m in \u001b[0;36mIVC_cust\u001b[1;34m(self, i_list, Ioff, Vthr, dt, N_avg, label)\u001b[0m\n\u001b[0;32m     82\u001b[0m                 \u001b[0mtime\u001b[0m\u001b[1;33m.\u001b[0m\u001b[0msleep\u001b[0m\u001b[1;33m(\u001b[0m\u001b[0mdt\u001b[0m\u001b[1;33m)\u001b[0m\u001b[1;33m\u001b[0m\u001b[1;33m\u001b[0m\u001b[0m\n\u001b[0;32m     83\u001b[0m \u001b[1;33m\u001b[0m\u001b[0m\n\u001b[1;32m---> 84\u001b[1;33m                 \u001b[0mis_vs\u001b[0m \u001b[1;33m=\u001b[0m \u001b[1;33m[\u001b[0m\u001b[1;33m[\u001b[0m\u001b[0mI\u001b[0m\u001b[1;33m.\u001b[0m\u001b[0mget\u001b[0m\u001b[1;33m(\u001b[0m\u001b[1;33m)\u001b[0m\u001b[1;33m,\u001b[0m\u001b[0mV\u001b[0m\u001b[1;33m.\u001b[0m\u001b[0mget\u001b[0m\u001b[1;33m(\u001b[0m\u001b[1;33m)\u001b[0m\u001b[1;33m]\u001b[0m \u001b[1;32mfor\u001b[0m \u001b[0m_\u001b[0m \u001b[1;32min\u001b[0m \u001b[0mrange\u001b[0m\u001b[1;33m(\u001b[0m \u001b[0mN_avg\u001b[0m\u001b[1;33m)\u001b[0m\u001b[1;33m]\u001b[0m\u001b[1;33m\u001b[0m\u001b[1;33m\u001b[0m\u001b[0m\n\u001b[0m\u001b[0;32m     85\u001b[0m \u001b[1;33m\u001b[0m\u001b[0m\n\u001b[0;32m     86\u001b[0m                 \u001b[0mir\u001b[0m\u001b[1;33m,\u001b[0m \u001b[0mv\u001b[0m \u001b[1;33m=\u001b[0m \u001b[0mnp\u001b[0m\u001b[1;33m.\u001b[0m\u001b[0mmean\u001b[0m\u001b[1;33m(\u001b[0m\u001b[0mis_vs\u001b[0m\u001b[1;33m,\u001b[0m \u001b[0maxis\u001b[0m \u001b[1;33m=\u001b[0m \u001b[1;36m0\u001b[0m\u001b[1;33m)\u001b[0m\u001b[1;33m\u001b[0m\u001b[1;33m\u001b[0m\u001b[0m\n",
      "\u001b[1;32m~\\Documents\\GitHub\\measDC\\_jjtools\\JJmeasurement.py\u001b[0m in \u001b[0;36m<listcomp>\u001b[1;34m(.0)\u001b[0m\n\u001b[0;32m     82\u001b[0m                 \u001b[0mtime\u001b[0m\u001b[1;33m.\u001b[0m\u001b[0msleep\u001b[0m\u001b[1;33m(\u001b[0m\u001b[0mdt\u001b[0m\u001b[1;33m)\u001b[0m\u001b[1;33m\u001b[0m\u001b[1;33m\u001b[0m\u001b[0m\n\u001b[0;32m     83\u001b[0m \u001b[1;33m\u001b[0m\u001b[0m\n\u001b[1;32m---> 84\u001b[1;33m                 \u001b[0mis_vs\u001b[0m \u001b[1;33m=\u001b[0m \u001b[1;33m[\u001b[0m\u001b[1;33m[\u001b[0m\u001b[0mI\u001b[0m\u001b[1;33m.\u001b[0m\u001b[0mget\u001b[0m\u001b[1;33m(\u001b[0m\u001b[1;33m)\u001b[0m\u001b[1;33m,\u001b[0m\u001b[0mV\u001b[0m\u001b[1;33m.\u001b[0m\u001b[0mget\u001b[0m\u001b[1;33m(\u001b[0m\u001b[1;33m)\u001b[0m\u001b[1;33m]\u001b[0m \u001b[1;32mfor\u001b[0m \u001b[0m_\u001b[0m \u001b[1;32min\u001b[0m \u001b[0mrange\u001b[0m\u001b[1;33m(\u001b[0m \u001b[0mN_avg\u001b[0m\u001b[1;33m)\u001b[0m\u001b[1;33m]\u001b[0m\u001b[1;33m\u001b[0m\u001b[1;33m\u001b[0m\u001b[0m\n\u001b[0m\u001b[0;32m     85\u001b[0m \u001b[1;33m\u001b[0m\u001b[0m\n\u001b[0;32m     86\u001b[0m                 \u001b[0mir\u001b[0m\u001b[1;33m,\u001b[0m \u001b[0mv\u001b[0m \u001b[1;33m=\u001b[0m \u001b[0mnp\u001b[0m\u001b[1;33m.\u001b[0m\u001b[0mmean\u001b[0m\u001b[1;33m(\u001b[0m\u001b[0mis_vs\u001b[0m\u001b[1;33m,\u001b[0m \u001b[0maxis\u001b[0m \u001b[1;33m=\u001b[0m \u001b[1;36m0\u001b[0m\u001b[1;33m)\u001b[0m\u001b[1;33m\u001b[0m\u001b[1;33m\u001b[0m\u001b[0m\n",
      "\u001b[1;32m~\\Anaconda3\\lib\\site-packages\\qcodes\\instrument\\parameter.py\u001b[0m in \u001b[0;36mget_wrapper\u001b[1;34m(*args, **kwargs)\u001b[0m\n\u001b[0;32m    450\u001b[0m \u001b[1;33m\u001b[0m\u001b[0m\n\u001b[0;32m    451\u001b[0m                 \u001b[1;32mif\u001b[0m \u001b[0mself\u001b[0m\u001b[1;33m.\u001b[0m\u001b[0mget_parser\u001b[0m \u001b[1;32mis\u001b[0m \u001b[1;32mnot\u001b[0m \u001b[1;32mNone\u001b[0m\u001b[1;33m:\u001b[0m\u001b[1;33m\u001b[0m\u001b[1;33m\u001b[0m\u001b[0m\n\u001b[1;32m--> 452\u001b[1;33m                     \u001b[0mvalue\u001b[0m \u001b[1;33m=\u001b[0m \u001b[0mself\u001b[0m\u001b[1;33m.\u001b[0m\u001b[0mget_parser\u001b[0m\u001b[1;33m(\u001b[0m\u001b[0mvalue\u001b[0m\u001b[1;33m)\u001b[0m\u001b[1;33m\u001b[0m\u001b[1;33m\u001b[0m\u001b[0m\n\u001b[0m\u001b[0;32m    453\u001b[0m \u001b[1;33m\u001b[0m\u001b[0m\n\u001b[0;32m    454\u001b[0m                 \u001b[1;31m# apply offset first (native scale)\u001b[0m\u001b[1;33m\u001b[0m\u001b[1;33m\u001b[0m\u001b[1;33m\u001b[0m\u001b[0m\n",
      "\u001b[1;32m~\\Anaconda3\\lib\\site-packages\\qcodes\\instrument_drivers\\Keithley\\Keithley_6220_Isrc.py\u001b[0m in \u001b[0;36mget_I\u001b[1;34m(self, I)\u001b[0m\n\u001b[0;32m     89\u001b[0m \u001b[1;33m\u001b[0m\u001b[0m\n\u001b[0;32m     90\u001b[0m         \u001b[0mVoff\u001b[0m \u001b[1;33m=\u001b[0m \u001b[0mself\u001b[0m\u001b[1;33m.\u001b[0m\u001b[0mVmeter\u001b[0m\u001b[1;33m.\u001b[0m\u001b[0mVoff\u001b[0m\u001b[1;33m\u001b[0m\u001b[1;33m\u001b[0m\u001b[0m\n\u001b[1;32m---> 91\u001b[1;33m         \u001b[0mv\u001b[0m \u001b[1;33m=\u001b[0m \u001b[0mself\u001b[0m\u001b[1;33m.\u001b[0m\u001b[0mVmeter\u001b[0m\u001b[1;33m.\u001b[0m\u001b[0mV\u001b[0m\u001b[1;33m.\u001b[0m\u001b[0mget\u001b[0m\u001b[1;33m(\u001b[0m\u001b[1;33m)\u001b[0m \u001b[1;33m-\u001b[0m \u001b[0mVoff\u001b[0m\u001b[1;33m\u001b[0m\u001b[1;33m\u001b[0m\u001b[0m\n\u001b[0m\u001b[0;32m     92\u001b[0m \u001b[1;33m\u001b[0m\u001b[0m\n\u001b[0;32m     93\u001b[0m \u001b[1;33m\u001b[0m\u001b[0m\n",
      "\u001b[1;32m~\\Anaconda3\\lib\\site-packages\\qcodes\\instrument\\parameter.py\u001b[0m in \u001b[0;36mget_wrapper\u001b[1;34m(*args, **kwargs)\u001b[0m\n\u001b[0;32m    446\u001b[0m             \u001b[1;32mtry\u001b[0m\u001b[1;33m:\u001b[0m\u001b[1;33m\u001b[0m\u001b[1;33m\u001b[0m\u001b[0m\n\u001b[0;32m    447\u001b[0m                 \u001b[1;31m# There might be cases where a .get also has args/kwargs\u001b[0m\u001b[1;33m\u001b[0m\u001b[1;33m\u001b[0m\u001b[1;33m\u001b[0m\u001b[0m\n\u001b[1;32m--> 448\u001b[1;33m                 \u001b[0mvalue\u001b[0m \u001b[1;33m=\u001b[0m \u001b[0mget_function\u001b[0m\u001b[1;33m(\u001b[0m\u001b[1;33m*\u001b[0m\u001b[0margs\u001b[0m\u001b[1;33m,\u001b[0m \u001b[1;33m**\u001b[0m\u001b[0mkwargs\u001b[0m\u001b[1;33m)\u001b[0m\u001b[1;33m\u001b[0m\u001b[1;33m\u001b[0m\u001b[0m\n\u001b[0m\u001b[0;32m    449\u001b[0m                 \u001b[0mself\u001b[0m\u001b[1;33m.\u001b[0m\u001b[0mraw_value\u001b[0m \u001b[1;33m=\u001b[0m \u001b[0mvalue\u001b[0m\u001b[1;33m\u001b[0m\u001b[1;33m\u001b[0m\u001b[0m\n\u001b[0;32m    450\u001b[0m \u001b[1;33m\u001b[0m\u001b[0m\n",
      "\u001b[1;32m~\\Anaconda3\\lib\\site-packages\\qcodes\\utils\\command.py\u001b[0m in \u001b[0;36m__call__\u001b[1;34m(self, *args)\u001b[0m\n\u001b[0;32m    176\u001b[0m             raise TypeError(\n\u001b[0;32m    177\u001b[0m                 'command takes exactly {} args'.format(self.arg_count))\n\u001b[1;32m--> 178\u001b[1;33m         \u001b[1;32mreturn\u001b[0m \u001b[0mself\u001b[0m\u001b[1;33m.\u001b[0m\u001b[0mexec_function\u001b[0m\u001b[1;33m(\u001b[0m\u001b[1;33m*\u001b[0m\u001b[0margs\u001b[0m\u001b[1;33m)\u001b[0m\u001b[1;33m\u001b[0m\u001b[1;33m\u001b[0m\u001b[0m\n\u001b[0m",
      "\u001b[1;32m~\\Anaconda3\\lib\\site-packages\\qcodes\\utils\\command.py\u001b[0m in \u001b[0;36mcall_by_str\u001b[1;34m(self, *args)\u001b[0m\n\u001b[0;32m    125\u001b[0m     \u001b[1;32mdef\u001b[0m \u001b[0mcall_by_str\u001b[0m\u001b[1;33m(\u001b[0m\u001b[0mself\u001b[0m\u001b[1;33m,\u001b[0m \u001b[1;33m*\u001b[0m\u001b[0margs\u001b[0m\u001b[1;33m)\u001b[0m\u001b[1;33m:\u001b[0m\u001b[1;33m\u001b[0m\u001b[1;33m\u001b[0m\u001b[0m\n\u001b[0;32m    126\u001b[0m         \u001b[1;34m\"\"\"Execute a formatted string.\"\"\"\u001b[0m\u001b[1;33m\u001b[0m\u001b[1;33m\u001b[0m\u001b[0m\n\u001b[1;32m--> 127\u001b[1;33m         \u001b[1;32mreturn\u001b[0m \u001b[0mself\u001b[0m\u001b[1;33m.\u001b[0m\u001b[0mexec_str\u001b[0m\u001b[1;33m(\u001b[0m\u001b[0mself\u001b[0m\u001b[1;33m.\u001b[0m\u001b[0mcmd_str\u001b[0m\u001b[1;33m.\u001b[0m\u001b[0mformat\u001b[0m\u001b[1;33m(\u001b[0m\u001b[1;33m*\u001b[0m\u001b[0margs\u001b[0m\u001b[1;33m)\u001b[0m\u001b[1;33m)\u001b[0m\u001b[1;33m\u001b[0m\u001b[1;33m\u001b[0m\u001b[0m\n\u001b[0m\u001b[0;32m    128\u001b[0m \u001b[1;33m\u001b[0m\u001b[0m\n\u001b[0;32m    129\u001b[0m     \u001b[1;32mdef\u001b[0m \u001b[0mcall_by_str_parsed_out\u001b[0m\u001b[1;33m(\u001b[0m\u001b[0mself\u001b[0m\u001b[1;33m,\u001b[0m \u001b[1;33m*\u001b[0m\u001b[0margs\u001b[0m\u001b[1;33m)\u001b[0m\u001b[1;33m:\u001b[0m\u001b[1;33m\u001b[0m\u001b[1;33m\u001b[0m\u001b[0m\n",
      "\u001b[1;32m~\\Anaconda3\\lib\\site-packages\\qcodes\\instrument\\base.py\u001b[0m in \u001b[0;36mask\u001b[1;34m(self, cmd)\u001b[0m\n\u001b[0;32m    757\u001b[0m         \"\"\"\n\u001b[0;32m    758\u001b[0m         \u001b[1;32mtry\u001b[0m\u001b[1;33m:\u001b[0m\u001b[1;33m\u001b[0m\u001b[1;33m\u001b[0m\u001b[0m\n\u001b[1;32m--> 759\u001b[1;33m             \u001b[0manswer\u001b[0m \u001b[1;33m=\u001b[0m \u001b[0mself\u001b[0m\u001b[1;33m.\u001b[0m\u001b[0mask_raw\u001b[0m\u001b[1;33m(\u001b[0m\u001b[0mcmd\u001b[0m\u001b[1;33m)\u001b[0m\u001b[1;33m\u001b[0m\u001b[1;33m\u001b[0m\u001b[0m\n\u001b[0m\u001b[0;32m    760\u001b[0m \u001b[1;33m\u001b[0m\u001b[0m\n\u001b[0;32m    761\u001b[0m             \u001b[1;32mreturn\u001b[0m \u001b[0manswer\u001b[0m\u001b[1;33m\u001b[0m\u001b[1;33m\u001b[0m\u001b[0m\n",
      "\u001b[1;32m~\\Anaconda3\\lib\\site-packages\\qcodes\\instrument\\visa.py\u001b[0m in \u001b[0;36mask_raw\u001b[1;34m(self, cmd)\u001b[0m\n\u001b[0;32m    227\u001b[0m         \"\"\"\n\u001b[0;32m    228\u001b[0m         \u001b[0mself\u001b[0m\u001b[1;33m.\u001b[0m\u001b[0mvisa_log\u001b[0m\u001b[1;33m.\u001b[0m\u001b[0mdebug\u001b[0m\u001b[1;33m(\u001b[0m\u001b[1;34mf\"Querying: {cmd}\"\u001b[0m\u001b[1;33m)\u001b[0m\u001b[1;33m\u001b[0m\u001b[1;33m\u001b[0m\u001b[0m\n\u001b[1;32m--> 229\u001b[1;33m         \u001b[0mresponse\u001b[0m \u001b[1;33m=\u001b[0m \u001b[0mself\u001b[0m\u001b[1;33m.\u001b[0m\u001b[0mvisa_handle\u001b[0m\u001b[1;33m.\u001b[0m\u001b[0mquery\u001b[0m\u001b[1;33m(\u001b[0m\u001b[0mcmd\u001b[0m\u001b[1;33m)\u001b[0m\u001b[1;33m\u001b[0m\u001b[1;33m\u001b[0m\u001b[0m\n\u001b[0m\u001b[0;32m    230\u001b[0m         \u001b[0mself\u001b[0m\u001b[1;33m.\u001b[0m\u001b[0mvisa_log\u001b[0m\u001b[1;33m.\u001b[0m\u001b[0mdebug\u001b[0m\u001b[1;33m(\u001b[0m\u001b[1;34mf\"Response: {response}\"\u001b[0m\u001b[1;33m)\u001b[0m\u001b[1;33m\u001b[0m\u001b[1;33m\u001b[0m\u001b[0m\n\u001b[0;32m    231\u001b[0m \u001b[1;33m\u001b[0m\u001b[0m\n",
      "\u001b[1;32m~\\Anaconda3\\lib\\site-packages\\pyvisa\\resources\\messagebased.py\u001b[0m in \u001b[0;36mquery\u001b[1;34m(self, message, delay)\u001b[0m\n\u001b[0;32m    611\u001b[0m         \u001b[1;32mif\u001b[0m \u001b[0mdelay\u001b[0m \u001b[1;33m>\u001b[0m \u001b[1;36m0.0\u001b[0m\u001b[1;33m:\u001b[0m\u001b[1;33m\u001b[0m\u001b[1;33m\u001b[0m\u001b[0m\n\u001b[0;32m    612\u001b[0m             \u001b[0mtime\u001b[0m\u001b[1;33m.\u001b[0m\u001b[0msleep\u001b[0m\u001b[1;33m(\u001b[0m\u001b[0mdelay\u001b[0m\u001b[1;33m)\u001b[0m\u001b[1;33m\u001b[0m\u001b[1;33m\u001b[0m\u001b[0m\n\u001b[1;32m--> 613\u001b[1;33m         \u001b[1;32mreturn\u001b[0m \u001b[0mself\u001b[0m\u001b[1;33m.\u001b[0m\u001b[0mread\u001b[0m\u001b[1;33m(\u001b[0m\u001b[1;33m)\u001b[0m\u001b[1;33m\u001b[0m\u001b[1;33m\u001b[0m\u001b[0m\n\u001b[0m\u001b[0;32m    614\u001b[0m \u001b[1;33m\u001b[0m\u001b[0m\n\u001b[0;32m    615\u001b[0m     \u001b[1;32mdef\u001b[0m \u001b[0mask\u001b[0m\u001b[1;33m(\u001b[0m\u001b[0mself\u001b[0m\u001b[1;33m,\u001b[0m \u001b[0mmessage\u001b[0m\u001b[1;33m,\u001b[0m \u001b[0mdelay\u001b[0m\u001b[1;33m=\u001b[0m\u001b[1;32mNone\u001b[0m\u001b[1;33m)\u001b[0m\u001b[1;33m:\u001b[0m\u001b[1;33m\u001b[0m\u001b[1;33m\u001b[0m\u001b[0m\n",
      "\u001b[1;32m~\\Anaconda3\\lib\\site-packages\\pyvisa\\resources\\messagebased.py\u001b[0m in \u001b[0;36mread\u001b[1;34m(self, termination, encoding)\u001b[0m\n\u001b[0;32m    425\u001b[0m         \u001b[1;32mif\u001b[0m \u001b[0mtermination\u001b[0m \u001b[1;32mis\u001b[0m \u001b[1;32mNone\u001b[0m\u001b[1;33m:\u001b[0m\u001b[1;33m\u001b[0m\u001b[1;33m\u001b[0m\u001b[0m\n\u001b[0;32m    426\u001b[0m             \u001b[0mtermination\u001b[0m \u001b[1;33m=\u001b[0m \u001b[0mself\u001b[0m\u001b[1;33m.\u001b[0m\u001b[0m_read_termination\u001b[0m\u001b[1;33m\u001b[0m\u001b[1;33m\u001b[0m\u001b[0m\n\u001b[1;32m--> 427\u001b[1;33m             \u001b[0mmessage\u001b[0m \u001b[1;33m=\u001b[0m \u001b[0mself\u001b[0m\u001b[1;33m.\u001b[0m\u001b[0m_read_raw\u001b[0m\u001b[1;33m(\u001b[0m\u001b[1;33m)\u001b[0m\u001b[1;33m.\u001b[0m\u001b[0mdecode\u001b[0m\u001b[1;33m(\u001b[0m\u001b[0menco\u001b[0m\u001b[1;33m)\u001b[0m\u001b[1;33m\u001b[0m\u001b[1;33m\u001b[0m\u001b[0m\n\u001b[0m\u001b[0;32m    428\u001b[0m         \u001b[1;32melse\u001b[0m\u001b[1;33m:\u001b[0m\u001b[1;33m\u001b[0m\u001b[1;33m\u001b[0m\u001b[0m\n\u001b[0;32m    429\u001b[0m             \u001b[1;32mwith\u001b[0m \u001b[0mself\u001b[0m\u001b[1;33m.\u001b[0m\u001b[0mread_termination_context\u001b[0m\u001b[1;33m(\u001b[0m\u001b[0mtermination\u001b[0m\u001b[1;33m)\u001b[0m\u001b[1;33m:\u001b[0m\u001b[1;33m\u001b[0m\u001b[1;33m\u001b[0m\u001b[0m\n",
      "\u001b[1;32m~\\Anaconda3\\lib\\site-packages\\pyvisa\\resources\\messagebased.py\u001b[0m in \u001b[0;36m_read_raw\u001b[1;34m(self, size)\u001b[0m\n\u001b[0;32m    398\u001b[0m                     logger.debug('%s - reading %d bytes (last status %r)',\n\u001b[0;32m    399\u001b[0m                                  self._resource_name, size, status)\n\u001b[1;32m--> 400\u001b[1;33m                     \u001b[0mchunk\u001b[0m\u001b[1;33m,\u001b[0m \u001b[0mstatus\u001b[0m \u001b[1;33m=\u001b[0m \u001b[0mself\u001b[0m\u001b[1;33m.\u001b[0m\u001b[0mvisalib\u001b[0m\u001b[1;33m.\u001b[0m\u001b[0mread\u001b[0m\u001b[1;33m(\u001b[0m\u001b[0mself\u001b[0m\u001b[1;33m.\u001b[0m\u001b[0msession\u001b[0m\u001b[1;33m,\u001b[0m \u001b[0msize\u001b[0m\u001b[1;33m)\u001b[0m\u001b[1;33m\u001b[0m\u001b[1;33m\u001b[0m\u001b[0m\n\u001b[0m\u001b[0;32m    401\u001b[0m                     \u001b[0mret\u001b[0m\u001b[1;33m.\u001b[0m\u001b[0mextend\u001b[0m\u001b[1;33m(\u001b[0m\u001b[0mchunk\u001b[0m\u001b[1;33m)\u001b[0m\u001b[1;33m\u001b[0m\u001b[1;33m\u001b[0m\u001b[0m\n\u001b[0;32m    402\u001b[0m             \u001b[1;32mexcept\u001b[0m \u001b[0merrors\u001b[0m\u001b[1;33m.\u001b[0m\u001b[0mVisaIOError\u001b[0m \u001b[1;32mas\u001b[0m \u001b[0me\u001b[0m\u001b[1;33m:\u001b[0m\u001b[1;33m\u001b[0m\u001b[1;33m\u001b[0m\u001b[0m\n",
      "\u001b[1;32m~\\Anaconda3\\lib\\site-packages\\pyvisa\\ctwrapper\\functions.py\u001b[0m in \u001b[0;36mread\u001b[1;34m(library, session, count)\u001b[0m\n\u001b[0;32m   1582\u001b[0m     \u001b[0mbuffer\u001b[0m \u001b[1;33m=\u001b[0m \u001b[0mcreate_string_buffer\u001b[0m\u001b[1;33m(\u001b[0m\u001b[0mcount\u001b[0m\u001b[1;33m)\u001b[0m\u001b[1;33m\u001b[0m\u001b[1;33m\u001b[0m\u001b[0m\n\u001b[0;32m   1583\u001b[0m     \u001b[0mreturn_count\u001b[0m \u001b[1;33m=\u001b[0m \u001b[0mViUInt32\u001b[0m\u001b[1;33m(\u001b[0m\u001b[1;33m)\u001b[0m\u001b[1;33m\u001b[0m\u001b[1;33m\u001b[0m\u001b[0m\n\u001b[1;32m-> 1584\u001b[1;33m     \u001b[0mret\u001b[0m \u001b[1;33m=\u001b[0m \u001b[0mlibrary\u001b[0m\u001b[1;33m.\u001b[0m\u001b[0mviRead\u001b[0m\u001b[1;33m(\u001b[0m\u001b[0msession\u001b[0m\u001b[1;33m,\u001b[0m \u001b[0mbuffer\u001b[0m\u001b[1;33m,\u001b[0m \u001b[0mcount\u001b[0m\u001b[1;33m,\u001b[0m \u001b[0mbyref\u001b[0m\u001b[1;33m(\u001b[0m\u001b[0mreturn_count\u001b[0m\u001b[1;33m)\u001b[0m\u001b[1;33m)\u001b[0m\u001b[1;33m\u001b[0m\u001b[1;33m\u001b[0m\u001b[0m\n\u001b[0m\u001b[0;32m   1585\u001b[0m     \u001b[1;32mreturn\u001b[0m \u001b[0mbuffer\u001b[0m\u001b[1;33m.\u001b[0m\u001b[0mraw\u001b[0m\u001b[1;33m[\u001b[0m\u001b[1;33m:\u001b[0m\u001b[0mreturn_count\u001b[0m\u001b[1;33m.\u001b[0m\u001b[0mvalue\u001b[0m\u001b[1;33m]\u001b[0m\u001b[1;33m,\u001b[0m \u001b[0mret\u001b[0m\u001b[1;33m\u001b[0m\u001b[1;33m\u001b[0m\u001b[0m\n\u001b[0;32m   1586\u001b[0m \u001b[1;33m\u001b[0m\u001b[0m\n",
      "\u001b[1;32m~\\Anaconda3\\lib\\site-packages\\pyvisa\\ctwrapper\\highlevel.py\u001b[0m in \u001b[0;36m_return_handler\u001b[1;34m(self, ret_value, func, arguments)\u001b[0m\n\u001b[0;32m    152\u001b[0m             \u001b[0msetattr\u001b[0m\u001b[1;33m(\u001b[0m\u001b[0mself\u001b[0m\u001b[1;33m,\u001b[0m \u001b[0mmethod_name\u001b[0m\u001b[1;33m,\u001b[0m \u001b[0mgetattr\u001b[0m\u001b[1;33m(\u001b[0m\u001b[0mself\u001b[0m\u001b[1;33m.\u001b[0m\u001b[0mlib\u001b[0m\u001b[1;33m,\u001b[0m \u001b[0mmethod_name\u001b[0m\u001b[1;33m)\u001b[0m\u001b[1;33m)\u001b[0m\u001b[1;33m\u001b[0m\u001b[1;33m\u001b[0m\u001b[0m\n\u001b[0;32m    153\u001b[0m \u001b[1;33m\u001b[0m\u001b[0m\n\u001b[1;32m--> 154\u001b[1;33m     \u001b[1;32mdef\u001b[0m \u001b[0m_return_handler\u001b[0m\u001b[1;33m(\u001b[0m\u001b[0mself\u001b[0m\u001b[1;33m,\u001b[0m \u001b[0mret_value\u001b[0m\u001b[1;33m,\u001b[0m \u001b[0mfunc\u001b[0m\u001b[1;33m,\u001b[0m \u001b[0marguments\u001b[0m\u001b[1;33m)\u001b[0m\u001b[1;33m:\u001b[0m\u001b[1;33m\u001b[0m\u001b[1;33m\u001b[0m\u001b[0m\n\u001b[0m\u001b[0;32m    155\u001b[0m         \"\"\"Check return values for errors and warnings.\n\u001b[0;32m    156\u001b[0m         \"\"\"\n",
      "\u001b[1;31mKeyboardInterrupt\u001b[0m: "
     ]
    }
   ],
   "source": [
    "#B = jj.cos_to_B(0)\n",
    "\n",
    "B = 0\n",
    "\n",
    "print(B*1e3)\n",
    "\n",
    "Bfield.set(B)\n",
    "\n",
    "\n",
    "jj.IVC_udu (amp = 300e-9, stp = 1e-9, dt = .1,  N_avg = 1, \n",
    "            label = 'kei full ivc')"
   ]
  },
  {
   "cell_type": "markdown",
   "metadata": {},
   "source": [
    "#### fine scan"
   ]
  },
  {
   "cell_type": "code",
   "execution_count": 129,
   "metadata": {},
   "outputs": [
    {
     "data": {
      "text/plain": [
       "5.7554249999999995e-05"
      ]
     },
     "execution_count": 129,
     "metadata": {},
     "output_type": "execute_result"
    }
   ],
   "source": [
    "jj.tools['V'].get()"
   ]
  },
  {
   "cell_type": "code",
   "execution_count": 76,
   "metadata": {},
   "outputs": [],
   "source": [
    "jj.tools['I'].set(0e-12)"
   ]
  },
  {
   "cell_type": "code",
   "execution_count": 130,
   "metadata": {
    "scrolled": true
   },
   "outputs": [
    {
     "name": "stdout",
     "output_type": "stream",
     "text": [
      "0.0\n"
     ]
    },
    {
     "data": {
      "application/vnd.jupyter.widget-view+json": {
       "model_id": "1845ffbfa4d3451cb50781e5093496d3",
       "version_major": 2,
       "version_minor": 0
      },
      "text/plain": [
       "HBox(children=(IntProgress(value=0, max=1203), HTML(value='')))"
      ]
     },
     "metadata": {},
     "output_type": "display_data"
    },
    {
     "name": "stdout",
     "output_type": "stream",
     "text": [
      "Starting experimental run with id: 285\n"
     ]
    },
    {
     "name": "stderr",
     "output_type": "stream",
     "text": [
      "An exception occured in measurement with guid: aaaaaaaa-0000-0000-0000-0174082e3d5c;\n",
      "Traceback:\n",
      "Traceback (most recent call last):\n",
      "  File \"..\\..\\_jjtools\\JJmeasurement.py\", line 84, in IVC_cust\n",
      "    is_vs = [[I.get(),V.get()] for _ in range( N_avg)]\n",
      "  File \"..\\..\\_jjtools\\JJmeasurement.py\", line 84, in <listcomp>\n",
      "    is_vs = [[I.get(),V.get()] for _ in range( N_avg)]\n",
      "  File \"C:\\Users\\KelvinOX25\\Anaconda3\\lib\\site-packages\\qcodes\\instrument\\parameter.py\", line 452, in get_wrapper\n",
      "    value = self.get_parser(value)\n",
      "  File \"C:\\Users\\KelvinOX25\\Anaconda3\\lib\\site-packages\\qcodes\\instrument_drivers\\Keithley\\Keithley_6220_Isrc.py\", line 91, in get_I\n",
      "    v = self.Vmeter.V.get() - Voff\n",
      "  File \"C:\\Users\\KelvinOX25\\Anaconda3\\lib\\site-packages\\qcodes\\instrument\\parameter.py\", line 448, in get_wrapper\n",
      "    value = get_function(*args, **kwargs)\n",
      "  File \"C:\\Users\\KelvinOX25\\Anaconda3\\lib\\site-packages\\qcodes\\utils\\command.py\", line 178, in __call__\n",
      "    return self.exec_function(*args)\n",
      "  File \"C:\\Users\\KelvinOX25\\Anaconda3\\lib\\site-packages\\qcodes\\utils\\command.py\", line 127, in call_by_str\n",
      "    return self.exec_str(self.cmd_str.format(*args))\n",
      "  File \"C:\\Users\\KelvinOX25\\Anaconda3\\lib\\site-packages\\qcodes\\instrument\\base.py\", line 759, in ask\n",
      "    answer = self.ask_raw(cmd)\n",
      "  File \"C:\\Users\\KelvinOX25\\Anaconda3\\lib\\site-packages\\qcodes\\instrument\\visa.py\", line 229, in ask_raw\n",
      "    response = self.visa_handle.query(cmd)\n",
      "  File \"C:\\Users\\KelvinOX25\\Anaconda3\\lib\\site-packages\\pyvisa\\resources\\messagebased.py\", line 613, in query\n",
      "    return self.read()\n",
      "  File \"C:\\Users\\KelvinOX25\\Anaconda3\\lib\\site-packages\\pyvisa\\resources\\messagebased.py\", line 427, in read\n",
      "    message = self._read_raw().decode(enco)\n",
      "  File \"C:\\Users\\KelvinOX25\\Anaconda3\\lib\\site-packages\\pyvisa\\resources\\messagebased.py\", line 400, in _read_raw\n",
      "    chunk, status = self.visalib.read(self.session, size)\n",
      "  File \"C:\\Users\\KelvinOX25\\Anaconda3\\lib\\site-packages\\pyvisa\\ctwrapper\\functions.py\", line 1584, in read\n",
      "    ret = library.viRead(session, buffer, count, byref(return_count))\n",
      "  File \"C:\\Users\\KelvinOX25\\Anaconda3\\lib\\site-packages\\pyvisa\\ctwrapper\\highlevel.py\", line 154, in _return_handler\n",
      "    def _return_handler(self, ret_value, func, arguments):\n",
      "KeyboardInterrupt\n",
      "\n"
     ]
    },
    {
     "ename": "KeyboardInterrupt",
     "evalue": "",
     "output_type": "error",
     "traceback": [
      "\u001b[1;31m---------------------------------------------------------------------------\u001b[0m",
      "\u001b[1;31mKeyboardInterrupt\u001b[0m                         Traceback (most recent call last)",
      "\u001b[1;32m<ipython-input-130-03f877c6d3fb>\u001b[0m in \u001b[0;36m<module>\u001b[1;34m\u001b[0m\n\u001b[0;32m     11\u001b[0m \u001b[1;33m\u001b[0m\u001b[0m\n\u001b[0;32m     12\u001b[0m jj.IVC_udu (amp = 300e-12, stp = 1e-12, dt = .1,  N_avg = 1, \n\u001b[1;32m---> 13\u001b[1;33m             label = 'kei fine scan B = 0m ')\n\u001b[0m",
      "\u001b[1;32m~\\Documents\\GitHub\\measDC\\_jjtools\\JJmeasurement.py\u001b[0m in \u001b[0;36mIVC_udu\u001b[1;34m(self, amp, stp, **kwargs)\u001b[0m\n\u001b[0;32m    115\u001b[0m \u001b[1;33m\u001b[0m\u001b[0m\n\u001b[0;32m    116\u001b[0m         \u001b[0mi_list\u001b[0m \u001b[1;33m=\u001b[0m \u001b[0mudu_list\u001b[0m\u001b[1;33m(\u001b[0m\u001b[0mamp\u001b[0m\u001b[1;33m,\u001b[0m \u001b[0mstp\u001b[0m\u001b[1;33m)\u001b[0m\u001b[1;33m\u001b[0m\u001b[1;33m\u001b[0m\u001b[0m\n\u001b[1;32m--> 117\u001b[1;33m         \u001b[0mrun_id\u001b[0m \u001b[1;33m=\u001b[0m \u001b[0mself\u001b[0m\u001b[1;33m.\u001b[0m\u001b[0mIVC_cust\u001b[0m \u001b[1;33m(\u001b[0m \u001b[0mi_list\u001b[0m\u001b[1;33m,\u001b[0m \u001b[1;33m**\u001b[0m\u001b[0mkwargs\u001b[0m\u001b[1;33m)\u001b[0m\u001b[1;33m\u001b[0m\u001b[1;33m\u001b[0m\u001b[0m\n\u001b[0m\u001b[0;32m    118\u001b[0m \u001b[1;33m\u001b[0m\u001b[0m\n\u001b[0;32m    119\u001b[0m \u001b[1;33m\u001b[0m\u001b[0m\n",
      "\u001b[1;32m~\\Documents\\GitHub\\measDC\\_jjtools\\JJmeasurement.py\u001b[0m in \u001b[0;36mIVC_cust\u001b[1;34m(self, i_list, Ioff, Vthr, dt, N_avg, label)\u001b[0m\n\u001b[0;32m     82\u001b[0m                 \u001b[0mtime\u001b[0m\u001b[1;33m.\u001b[0m\u001b[0msleep\u001b[0m\u001b[1;33m(\u001b[0m\u001b[0mdt\u001b[0m\u001b[1;33m)\u001b[0m\u001b[1;33m\u001b[0m\u001b[1;33m\u001b[0m\u001b[0m\n\u001b[0;32m     83\u001b[0m \u001b[1;33m\u001b[0m\u001b[0m\n\u001b[1;32m---> 84\u001b[1;33m                 \u001b[0mis_vs\u001b[0m \u001b[1;33m=\u001b[0m \u001b[1;33m[\u001b[0m\u001b[1;33m[\u001b[0m\u001b[0mI\u001b[0m\u001b[1;33m.\u001b[0m\u001b[0mget\u001b[0m\u001b[1;33m(\u001b[0m\u001b[1;33m)\u001b[0m\u001b[1;33m,\u001b[0m\u001b[0mV\u001b[0m\u001b[1;33m.\u001b[0m\u001b[0mget\u001b[0m\u001b[1;33m(\u001b[0m\u001b[1;33m)\u001b[0m\u001b[1;33m]\u001b[0m \u001b[1;32mfor\u001b[0m \u001b[0m_\u001b[0m \u001b[1;32min\u001b[0m \u001b[0mrange\u001b[0m\u001b[1;33m(\u001b[0m \u001b[0mN_avg\u001b[0m\u001b[1;33m)\u001b[0m\u001b[1;33m]\u001b[0m\u001b[1;33m\u001b[0m\u001b[1;33m\u001b[0m\u001b[0m\n\u001b[0m\u001b[0;32m     85\u001b[0m \u001b[1;33m\u001b[0m\u001b[0m\n\u001b[0;32m     86\u001b[0m                 \u001b[0mir\u001b[0m\u001b[1;33m,\u001b[0m \u001b[0mv\u001b[0m \u001b[1;33m=\u001b[0m \u001b[0mnp\u001b[0m\u001b[1;33m.\u001b[0m\u001b[0mmean\u001b[0m\u001b[1;33m(\u001b[0m\u001b[0mis_vs\u001b[0m\u001b[1;33m,\u001b[0m \u001b[0maxis\u001b[0m \u001b[1;33m=\u001b[0m \u001b[1;36m0\u001b[0m\u001b[1;33m)\u001b[0m\u001b[1;33m\u001b[0m\u001b[1;33m\u001b[0m\u001b[0m\n",
      "\u001b[1;32m~\\Documents\\GitHub\\measDC\\_jjtools\\JJmeasurement.py\u001b[0m in \u001b[0;36m<listcomp>\u001b[1;34m(.0)\u001b[0m\n\u001b[0;32m     82\u001b[0m                 \u001b[0mtime\u001b[0m\u001b[1;33m.\u001b[0m\u001b[0msleep\u001b[0m\u001b[1;33m(\u001b[0m\u001b[0mdt\u001b[0m\u001b[1;33m)\u001b[0m\u001b[1;33m\u001b[0m\u001b[1;33m\u001b[0m\u001b[0m\n\u001b[0;32m     83\u001b[0m \u001b[1;33m\u001b[0m\u001b[0m\n\u001b[1;32m---> 84\u001b[1;33m                 \u001b[0mis_vs\u001b[0m \u001b[1;33m=\u001b[0m \u001b[1;33m[\u001b[0m\u001b[1;33m[\u001b[0m\u001b[0mI\u001b[0m\u001b[1;33m.\u001b[0m\u001b[0mget\u001b[0m\u001b[1;33m(\u001b[0m\u001b[1;33m)\u001b[0m\u001b[1;33m,\u001b[0m\u001b[0mV\u001b[0m\u001b[1;33m.\u001b[0m\u001b[0mget\u001b[0m\u001b[1;33m(\u001b[0m\u001b[1;33m)\u001b[0m\u001b[1;33m]\u001b[0m \u001b[1;32mfor\u001b[0m \u001b[0m_\u001b[0m \u001b[1;32min\u001b[0m \u001b[0mrange\u001b[0m\u001b[1;33m(\u001b[0m \u001b[0mN_avg\u001b[0m\u001b[1;33m)\u001b[0m\u001b[1;33m]\u001b[0m\u001b[1;33m\u001b[0m\u001b[1;33m\u001b[0m\u001b[0m\n\u001b[0m\u001b[0;32m     85\u001b[0m \u001b[1;33m\u001b[0m\u001b[0m\n\u001b[0;32m     86\u001b[0m                 \u001b[0mir\u001b[0m\u001b[1;33m,\u001b[0m \u001b[0mv\u001b[0m \u001b[1;33m=\u001b[0m \u001b[0mnp\u001b[0m\u001b[1;33m.\u001b[0m\u001b[0mmean\u001b[0m\u001b[1;33m(\u001b[0m\u001b[0mis_vs\u001b[0m\u001b[1;33m,\u001b[0m \u001b[0maxis\u001b[0m \u001b[1;33m=\u001b[0m \u001b[1;36m0\u001b[0m\u001b[1;33m)\u001b[0m\u001b[1;33m\u001b[0m\u001b[1;33m\u001b[0m\u001b[0m\n",
      "\u001b[1;32m~\\Anaconda3\\lib\\site-packages\\qcodes\\instrument\\parameter.py\u001b[0m in \u001b[0;36mget_wrapper\u001b[1;34m(*args, **kwargs)\u001b[0m\n\u001b[0;32m    450\u001b[0m \u001b[1;33m\u001b[0m\u001b[0m\n\u001b[0;32m    451\u001b[0m                 \u001b[1;32mif\u001b[0m \u001b[0mself\u001b[0m\u001b[1;33m.\u001b[0m\u001b[0mget_parser\u001b[0m \u001b[1;32mis\u001b[0m \u001b[1;32mnot\u001b[0m \u001b[1;32mNone\u001b[0m\u001b[1;33m:\u001b[0m\u001b[1;33m\u001b[0m\u001b[1;33m\u001b[0m\u001b[0m\n\u001b[1;32m--> 452\u001b[1;33m                     \u001b[0mvalue\u001b[0m \u001b[1;33m=\u001b[0m \u001b[0mself\u001b[0m\u001b[1;33m.\u001b[0m\u001b[0mget_parser\u001b[0m\u001b[1;33m(\u001b[0m\u001b[0mvalue\u001b[0m\u001b[1;33m)\u001b[0m\u001b[1;33m\u001b[0m\u001b[1;33m\u001b[0m\u001b[0m\n\u001b[0m\u001b[0;32m    453\u001b[0m \u001b[1;33m\u001b[0m\u001b[0m\n\u001b[0;32m    454\u001b[0m                 \u001b[1;31m# apply offset first (native scale)\u001b[0m\u001b[1;33m\u001b[0m\u001b[1;33m\u001b[0m\u001b[1;33m\u001b[0m\u001b[0m\n",
      "\u001b[1;32m~\\Anaconda3\\lib\\site-packages\\qcodes\\instrument_drivers\\Keithley\\Keithley_6220_Isrc.py\u001b[0m in \u001b[0;36mget_I\u001b[1;34m(self, I)\u001b[0m\n\u001b[0;32m     89\u001b[0m \u001b[1;33m\u001b[0m\u001b[0m\n\u001b[0;32m     90\u001b[0m         \u001b[0mVoff\u001b[0m \u001b[1;33m=\u001b[0m \u001b[0mself\u001b[0m\u001b[1;33m.\u001b[0m\u001b[0mVmeter\u001b[0m\u001b[1;33m.\u001b[0m\u001b[0mVoff\u001b[0m\u001b[1;33m\u001b[0m\u001b[1;33m\u001b[0m\u001b[0m\n\u001b[1;32m---> 91\u001b[1;33m         \u001b[0mv\u001b[0m \u001b[1;33m=\u001b[0m \u001b[0mself\u001b[0m\u001b[1;33m.\u001b[0m\u001b[0mVmeter\u001b[0m\u001b[1;33m.\u001b[0m\u001b[0mV\u001b[0m\u001b[1;33m.\u001b[0m\u001b[0mget\u001b[0m\u001b[1;33m(\u001b[0m\u001b[1;33m)\u001b[0m \u001b[1;33m-\u001b[0m \u001b[0mVoff\u001b[0m\u001b[1;33m\u001b[0m\u001b[1;33m\u001b[0m\u001b[0m\n\u001b[0m\u001b[0;32m     92\u001b[0m \u001b[1;33m\u001b[0m\u001b[0m\n\u001b[0;32m     93\u001b[0m \u001b[1;33m\u001b[0m\u001b[0m\n",
      "\u001b[1;32m~\\Anaconda3\\lib\\site-packages\\qcodes\\instrument\\parameter.py\u001b[0m in \u001b[0;36mget_wrapper\u001b[1;34m(*args, **kwargs)\u001b[0m\n\u001b[0;32m    446\u001b[0m             \u001b[1;32mtry\u001b[0m\u001b[1;33m:\u001b[0m\u001b[1;33m\u001b[0m\u001b[1;33m\u001b[0m\u001b[0m\n\u001b[0;32m    447\u001b[0m                 \u001b[1;31m# There might be cases where a .get also has args/kwargs\u001b[0m\u001b[1;33m\u001b[0m\u001b[1;33m\u001b[0m\u001b[1;33m\u001b[0m\u001b[0m\n\u001b[1;32m--> 448\u001b[1;33m                 \u001b[0mvalue\u001b[0m \u001b[1;33m=\u001b[0m \u001b[0mget_function\u001b[0m\u001b[1;33m(\u001b[0m\u001b[1;33m*\u001b[0m\u001b[0margs\u001b[0m\u001b[1;33m,\u001b[0m \u001b[1;33m**\u001b[0m\u001b[0mkwargs\u001b[0m\u001b[1;33m)\u001b[0m\u001b[1;33m\u001b[0m\u001b[1;33m\u001b[0m\u001b[0m\n\u001b[0m\u001b[0;32m    449\u001b[0m                 \u001b[0mself\u001b[0m\u001b[1;33m.\u001b[0m\u001b[0mraw_value\u001b[0m \u001b[1;33m=\u001b[0m \u001b[0mvalue\u001b[0m\u001b[1;33m\u001b[0m\u001b[1;33m\u001b[0m\u001b[0m\n\u001b[0;32m    450\u001b[0m \u001b[1;33m\u001b[0m\u001b[0m\n",
      "\u001b[1;32m~\\Anaconda3\\lib\\site-packages\\qcodes\\utils\\command.py\u001b[0m in \u001b[0;36m__call__\u001b[1;34m(self, *args)\u001b[0m\n\u001b[0;32m    176\u001b[0m             raise TypeError(\n\u001b[0;32m    177\u001b[0m                 'command takes exactly {} args'.format(self.arg_count))\n\u001b[1;32m--> 178\u001b[1;33m         \u001b[1;32mreturn\u001b[0m \u001b[0mself\u001b[0m\u001b[1;33m.\u001b[0m\u001b[0mexec_function\u001b[0m\u001b[1;33m(\u001b[0m\u001b[1;33m*\u001b[0m\u001b[0margs\u001b[0m\u001b[1;33m)\u001b[0m\u001b[1;33m\u001b[0m\u001b[1;33m\u001b[0m\u001b[0m\n\u001b[0m",
      "\u001b[1;32m~\\Anaconda3\\lib\\site-packages\\qcodes\\utils\\command.py\u001b[0m in \u001b[0;36mcall_by_str\u001b[1;34m(self, *args)\u001b[0m\n\u001b[0;32m    125\u001b[0m     \u001b[1;32mdef\u001b[0m \u001b[0mcall_by_str\u001b[0m\u001b[1;33m(\u001b[0m\u001b[0mself\u001b[0m\u001b[1;33m,\u001b[0m \u001b[1;33m*\u001b[0m\u001b[0margs\u001b[0m\u001b[1;33m)\u001b[0m\u001b[1;33m:\u001b[0m\u001b[1;33m\u001b[0m\u001b[1;33m\u001b[0m\u001b[0m\n\u001b[0;32m    126\u001b[0m         \u001b[1;34m\"\"\"Execute a formatted string.\"\"\"\u001b[0m\u001b[1;33m\u001b[0m\u001b[1;33m\u001b[0m\u001b[0m\n\u001b[1;32m--> 127\u001b[1;33m         \u001b[1;32mreturn\u001b[0m \u001b[0mself\u001b[0m\u001b[1;33m.\u001b[0m\u001b[0mexec_str\u001b[0m\u001b[1;33m(\u001b[0m\u001b[0mself\u001b[0m\u001b[1;33m.\u001b[0m\u001b[0mcmd_str\u001b[0m\u001b[1;33m.\u001b[0m\u001b[0mformat\u001b[0m\u001b[1;33m(\u001b[0m\u001b[1;33m*\u001b[0m\u001b[0margs\u001b[0m\u001b[1;33m)\u001b[0m\u001b[1;33m)\u001b[0m\u001b[1;33m\u001b[0m\u001b[1;33m\u001b[0m\u001b[0m\n\u001b[0m\u001b[0;32m    128\u001b[0m \u001b[1;33m\u001b[0m\u001b[0m\n\u001b[0;32m    129\u001b[0m     \u001b[1;32mdef\u001b[0m \u001b[0mcall_by_str_parsed_out\u001b[0m\u001b[1;33m(\u001b[0m\u001b[0mself\u001b[0m\u001b[1;33m,\u001b[0m \u001b[1;33m*\u001b[0m\u001b[0margs\u001b[0m\u001b[1;33m)\u001b[0m\u001b[1;33m:\u001b[0m\u001b[1;33m\u001b[0m\u001b[1;33m\u001b[0m\u001b[0m\n",
      "\u001b[1;32m~\\Anaconda3\\lib\\site-packages\\qcodes\\instrument\\base.py\u001b[0m in \u001b[0;36mask\u001b[1;34m(self, cmd)\u001b[0m\n\u001b[0;32m    757\u001b[0m         \"\"\"\n\u001b[0;32m    758\u001b[0m         \u001b[1;32mtry\u001b[0m\u001b[1;33m:\u001b[0m\u001b[1;33m\u001b[0m\u001b[1;33m\u001b[0m\u001b[0m\n\u001b[1;32m--> 759\u001b[1;33m             \u001b[0manswer\u001b[0m \u001b[1;33m=\u001b[0m \u001b[0mself\u001b[0m\u001b[1;33m.\u001b[0m\u001b[0mask_raw\u001b[0m\u001b[1;33m(\u001b[0m\u001b[0mcmd\u001b[0m\u001b[1;33m)\u001b[0m\u001b[1;33m\u001b[0m\u001b[1;33m\u001b[0m\u001b[0m\n\u001b[0m\u001b[0;32m    760\u001b[0m \u001b[1;33m\u001b[0m\u001b[0m\n\u001b[0;32m    761\u001b[0m             \u001b[1;32mreturn\u001b[0m \u001b[0manswer\u001b[0m\u001b[1;33m\u001b[0m\u001b[1;33m\u001b[0m\u001b[0m\n",
      "\u001b[1;32m~\\Anaconda3\\lib\\site-packages\\qcodes\\instrument\\visa.py\u001b[0m in \u001b[0;36mask_raw\u001b[1;34m(self, cmd)\u001b[0m\n\u001b[0;32m    227\u001b[0m         \"\"\"\n\u001b[0;32m    228\u001b[0m         \u001b[0mself\u001b[0m\u001b[1;33m.\u001b[0m\u001b[0mvisa_log\u001b[0m\u001b[1;33m.\u001b[0m\u001b[0mdebug\u001b[0m\u001b[1;33m(\u001b[0m\u001b[1;34mf\"Querying: {cmd}\"\u001b[0m\u001b[1;33m)\u001b[0m\u001b[1;33m\u001b[0m\u001b[1;33m\u001b[0m\u001b[0m\n\u001b[1;32m--> 229\u001b[1;33m         \u001b[0mresponse\u001b[0m \u001b[1;33m=\u001b[0m \u001b[0mself\u001b[0m\u001b[1;33m.\u001b[0m\u001b[0mvisa_handle\u001b[0m\u001b[1;33m.\u001b[0m\u001b[0mquery\u001b[0m\u001b[1;33m(\u001b[0m\u001b[0mcmd\u001b[0m\u001b[1;33m)\u001b[0m\u001b[1;33m\u001b[0m\u001b[1;33m\u001b[0m\u001b[0m\n\u001b[0m\u001b[0;32m    230\u001b[0m         \u001b[0mself\u001b[0m\u001b[1;33m.\u001b[0m\u001b[0mvisa_log\u001b[0m\u001b[1;33m.\u001b[0m\u001b[0mdebug\u001b[0m\u001b[1;33m(\u001b[0m\u001b[1;34mf\"Response: {response}\"\u001b[0m\u001b[1;33m)\u001b[0m\u001b[1;33m\u001b[0m\u001b[1;33m\u001b[0m\u001b[0m\n\u001b[0;32m    231\u001b[0m \u001b[1;33m\u001b[0m\u001b[0m\n",
      "\u001b[1;32m~\\Anaconda3\\lib\\site-packages\\pyvisa\\resources\\messagebased.py\u001b[0m in \u001b[0;36mquery\u001b[1;34m(self, message, delay)\u001b[0m\n\u001b[0;32m    611\u001b[0m         \u001b[1;32mif\u001b[0m \u001b[0mdelay\u001b[0m \u001b[1;33m>\u001b[0m \u001b[1;36m0.0\u001b[0m\u001b[1;33m:\u001b[0m\u001b[1;33m\u001b[0m\u001b[1;33m\u001b[0m\u001b[0m\n\u001b[0;32m    612\u001b[0m             \u001b[0mtime\u001b[0m\u001b[1;33m.\u001b[0m\u001b[0msleep\u001b[0m\u001b[1;33m(\u001b[0m\u001b[0mdelay\u001b[0m\u001b[1;33m)\u001b[0m\u001b[1;33m\u001b[0m\u001b[1;33m\u001b[0m\u001b[0m\n\u001b[1;32m--> 613\u001b[1;33m         \u001b[1;32mreturn\u001b[0m \u001b[0mself\u001b[0m\u001b[1;33m.\u001b[0m\u001b[0mread\u001b[0m\u001b[1;33m(\u001b[0m\u001b[1;33m)\u001b[0m\u001b[1;33m\u001b[0m\u001b[1;33m\u001b[0m\u001b[0m\n\u001b[0m\u001b[0;32m    614\u001b[0m \u001b[1;33m\u001b[0m\u001b[0m\n\u001b[0;32m    615\u001b[0m     \u001b[1;32mdef\u001b[0m \u001b[0mask\u001b[0m\u001b[1;33m(\u001b[0m\u001b[0mself\u001b[0m\u001b[1;33m,\u001b[0m \u001b[0mmessage\u001b[0m\u001b[1;33m,\u001b[0m \u001b[0mdelay\u001b[0m\u001b[1;33m=\u001b[0m\u001b[1;32mNone\u001b[0m\u001b[1;33m)\u001b[0m\u001b[1;33m:\u001b[0m\u001b[1;33m\u001b[0m\u001b[1;33m\u001b[0m\u001b[0m\n",
      "\u001b[1;32m~\\Anaconda3\\lib\\site-packages\\pyvisa\\resources\\messagebased.py\u001b[0m in \u001b[0;36mread\u001b[1;34m(self, termination, encoding)\u001b[0m\n\u001b[0;32m    425\u001b[0m         \u001b[1;32mif\u001b[0m \u001b[0mtermination\u001b[0m \u001b[1;32mis\u001b[0m \u001b[1;32mNone\u001b[0m\u001b[1;33m:\u001b[0m\u001b[1;33m\u001b[0m\u001b[1;33m\u001b[0m\u001b[0m\n\u001b[0;32m    426\u001b[0m             \u001b[0mtermination\u001b[0m \u001b[1;33m=\u001b[0m \u001b[0mself\u001b[0m\u001b[1;33m.\u001b[0m\u001b[0m_read_termination\u001b[0m\u001b[1;33m\u001b[0m\u001b[1;33m\u001b[0m\u001b[0m\n\u001b[1;32m--> 427\u001b[1;33m             \u001b[0mmessage\u001b[0m \u001b[1;33m=\u001b[0m \u001b[0mself\u001b[0m\u001b[1;33m.\u001b[0m\u001b[0m_read_raw\u001b[0m\u001b[1;33m(\u001b[0m\u001b[1;33m)\u001b[0m\u001b[1;33m.\u001b[0m\u001b[0mdecode\u001b[0m\u001b[1;33m(\u001b[0m\u001b[0menco\u001b[0m\u001b[1;33m)\u001b[0m\u001b[1;33m\u001b[0m\u001b[1;33m\u001b[0m\u001b[0m\n\u001b[0m\u001b[0;32m    428\u001b[0m         \u001b[1;32melse\u001b[0m\u001b[1;33m:\u001b[0m\u001b[1;33m\u001b[0m\u001b[1;33m\u001b[0m\u001b[0m\n\u001b[0;32m    429\u001b[0m             \u001b[1;32mwith\u001b[0m \u001b[0mself\u001b[0m\u001b[1;33m.\u001b[0m\u001b[0mread_termination_context\u001b[0m\u001b[1;33m(\u001b[0m\u001b[0mtermination\u001b[0m\u001b[1;33m)\u001b[0m\u001b[1;33m:\u001b[0m\u001b[1;33m\u001b[0m\u001b[1;33m\u001b[0m\u001b[0m\n",
      "\u001b[1;32m~\\Anaconda3\\lib\\site-packages\\pyvisa\\resources\\messagebased.py\u001b[0m in \u001b[0;36m_read_raw\u001b[1;34m(self, size)\u001b[0m\n\u001b[0;32m    398\u001b[0m                     logger.debug('%s - reading %d bytes (last status %r)',\n\u001b[0;32m    399\u001b[0m                                  self._resource_name, size, status)\n\u001b[1;32m--> 400\u001b[1;33m                     \u001b[0mchunk\u001b[0m\u001b[1;33m,\u001b[0m \u001b[0mstatus\u001b[0m \u001b[1;33m=\u001b[0m \u001b[0mself\u001b[0m\u001b[1;33m.\u001b[0m\u001b[0mvisalib\u001b[0m\u001b[1;33m.\u001b[0m\u001b[0mread\u001b[0m\u001b[1;33m(\u001b[0m\u001b[0mself\u001b[0m\u001b[1;33m.\u001b[0m\u001b[0msession\u001b[0m\u001b[1;33m,\u001b[0m \u001b[0msize\u001b[0m\u001b[1;33m)\u001b[0m\u001b[1;33m\u001b[0m\u001b[1;33m\u001b[0m\u001b[0m\n\u001b[0m\u001b[0;32m    401\u001b[0m                     \u001b[0mret\u001b[0m\u001b[1;33m.\u001b[0m\u001b[0mextend\u001b[0m\u001b[1;33m(\u001b[0m\u001b[0mchunk\u001b[0m\u001b[1;33m)\u001b[0m\u001b[1;33m\u001b[0m\u001b[1;33m\u001b[0m\u001b[0m\n\u001b[0;32m    402\u001b[0m             \u001b[1;32mexcept\u001b[0m \u001b[0merrors\u001b[0m\u001b[1;33m.\u001b[0m\u001b[0mVisaIOError\u001b[0m \u001b[1;32mas\u001b[0m \u001b[0me\u001b[0m\u001b[1;33m:\u001b[0m\u001b[1;33m\u001b[0m\u001b[1;33m\u001b[0m\u001b[0m\n",
      "\u001b[1;32m~\\Anaconda3\\lib\\site-packages\\pyvisa\\ctwrapper\\functions.py\u001b[0m in \u001b[0;36mread\u001b[1;34m(library, session, count)\u001b[0m\n\u001b[0;32m   1582\u001b[0m     \u001b[0mbuffer\u001b[0m \u001b[1;33m=\u001b[0m \u001b[0mcreate_string_buffer\u001b[0m\u001b[1;33m(\u001b[0m\u001b[0mcount\u001b[0m\u001b[1;33m)\u001b[0m\u001b[1;33m\u001b[0m\u001b[1;33m\u001b[0m\u001b[0m\n\u001b[0;32m   1583\u001b[0m     \u001b[0mreturn_count\u001b[0m \u001b[1;33m=\u001b[0m \u001b[0mViUInt32\u001b[0m\u001b[1;33m(\u001b[0m\u001b[1;33m)\u001b[0m\u001b[1;33m\u001b[0m\u001b[1;33m\u001b[0m\u001b[0m\n\u001b[1;32m-> 1584\u001b[1;33m     \u001b[0mret\u001b[0m \u001b[1;33m=\u001b[0m \u001b[0mlibrary\u001b[0m\u001b[1;33m.\u001b[0m\u001b[0mviRead\u001b[0m\u001b[1;33m(\u001b[0m\u001b[0msession\u001b[0m\u001b[1;33m,\u001b[0m \u001b[0mbuffer\u001b[0m\u001b[1;33m,\u001b[0m \u001b[0mcount\u001b[0m\u001b[1;33m,\u001b[0m \u001b[0mbyref\u001b[0m\u001b[1;33m(\u001b[0m\u001b[0mreturn_count\u001b[0m\u001b[1;33m)\u001b[0m\u001b[1;33m)\u001b[0m\u001b[1;33m\u001b[0m\u001b[1;33m\u001b[0m\u001b[0m\n\u001b[0m\u001b[0;32m   1585\u001b[0m     \u001b[1;32mreturn\u001b[0m \u001b[0mbuffer\u001b[0m\u001b[1;33m.\u001b[0m\u001b[0mraw\u001b[0m\u001b[1;33m[\u001b[0m\u001b[1;33m:\u001b[0m\u001b[0mreturn_count\u001b[0m\u001b[1;33m.\u001b[0m\u001b[0mvalue\u001b[0m\u001b[1;33m]\u001b[0m\u001b[1;33m,\u001b[0m \u001b[0mret\u001b[0m\u001b[1;33m\u001b[0m\u001b[1;33m\u001b[0m\u001b[0m\n\u001b[0;32m   1586\u001b[0m \u001b[1;33m\u001b[0m\u001b[0m\n",
      "\u001b[1;32m~\\Anaconda3\\lib\\site-packages\\pyvisa\\ctwrapper\\highlevel.py\u001b[0m in \u001b[0;36m_return_handler\u001b[1;34m(self, ret_value, func, arguments)\u001b[0m\n\u001b[0;32m    152\u001b[0m             \u001b[0msetattr\u001b[0m\u001b[1;33m(\u001b[0m\u001b[0mself\u001b[0m\u001b[1;33m,\u001b[0m \u001b[0mmethod_name\u001b[0m\u001b[1;33m,\u001b[0m \u001b[0mgetattr\u001b[0m\u001b[1;33m(\u001b[0m\u001b[0mself\u001b[0m\u001b[1;33m.\u001b[0m\u001b[0mlib\u001b[0m\u001b[1;33m,\u001b[0m \u001b[0mmethod_name\u001b[0m\u001b[1;33m)\u001b[0m\u001b[1;33m)\u001b[0m\u001b[1;33m\u001b[0m\u001b[1;33m\u001b[0m\u001b[0m\n\u001b[0;32m    153\u001b[0m \u001b[1;33m\u001b[0m\u001b[0m\n\u001b[1;32m--> 154\u001b[1;33m     \u001b[1;32mdef\u001b[0m \u001b[0m_return_handler\u001b[0m\u001b[1;33m(\u001b[0m\u001b[0mself\u001b[0m\u001b[1;33m,\u001b[0m \u001b[0mret_value\u001b[0m\u001b[1;33m,\u001b[0m \u001b[0mfunc\u001b[0m\u001b[1;33m,\u001b[0m \u001b[0marguments\u001b[0m\u001b[1;33m)\u001b[0m\u001b[1;33m:\u001b[0m\u001b[1;33m\u001b[0m\u001b[1;33m\u001b[0m\u001b[0m\n\u001b[0m\u001b[0;32m    155\u001b[0m         \"\"\"Check return values for errors and warnings.\n\u001b[0;32m    156\u001b[0m         \"\"\"\n",
      "\u001b[1;31mKeyboardInterrupt\u001b[0m: "
     ]
    }
   ],
   "source": [
    "# B = jj5.cos_to_B(0.25)\n",
    "B = 0e-3\n",
    "# v = 0\n",
    "\n",
    "\n",
    "print(B*1e3)\n",
    "\n",
    "Bfield.set(B)\n",
    "# Vg.set(v)\n",
    "\n",
    "\n",
    "jj.IVC_udu (amp = 300e-12, stp = 1e-12, dt = .1,  N_avg = 1, \n",
    "            label = 'kei fine scan B = 0m ')"
   ]
  },
  {
   "cell_type": "code",
   "execution_count": 89,
   "metadata": {},
   "outputs": [
    {
     "data": {
      "application/vnd.jupyter.widget-view+json": {
       "model_id": "",
       "version_major": 2,
       "version_minor": 0
      },
      "text/plain": [
       "HBox(children=(IntProgress(value=0, max=314), HTML(value='')))"
      ]
     },
     "metadata": {},
     "output_type": "display_data"
    },
    {
     "name": "stdout",
     "output_type": "stream",
     "text": [
      "Starting experimental run with id: 34\n"
     ]
    },
    {
     "data": {
      "text/plain": [
       "34"
      ]
     },
     "execution_count": 89,
     "metadata": {},
     "output_type": "execute_result"
    }
   ],
   "source": [
    "imin = 150e-12\n",
    "imax = 815e-12\n",
    "\n",
    "i_list =   np.concatenate ([np.linspace(0    , imax, 21), \n",
    "                            np.linspace(imax, imin, 21),\n",
    "                            np.linspace(imin, imax, 251),\n",
    "                            np.linspace(imax,  0e-12, 21)]) \n",
    "\n",
    "jj.IVC_cust ( i_list, dt = 0.1, N_avg = 1, label = 'B=0m intermid steps')"
   ]
  },
  {
   "cell_type": "markdown",
   "metadata": {},
   "source": [
    "### Ic meas"
   ]
  },
  {
   "cell_type": "code",
   "execution_count": null,
   "metadata": {},
   "outputs": [],
   "source": [
    "B = 0e-6\n",
    "Bfield.set(B)\n",
    "\n",
    "i_list = np.linspace(0, 200e-12, 101)\n",
    "\n",
    "jj.IVC_cust (i_list, Vthr = 30e-6, dt = 0.1,\n",
    "             N_avg = 1, label = 'Kei Ic highRb RT cos = 1')"
   ]
  },
  {
   "cell_type": "markdown",
   "metadata": {},
   "source": [
    "### Time scan"
   ]
  },
  {
   "cell_type": "code",
   "execution_count": null,
   "metadata": {},
   "outputs": [],
   "source": [
    "# Bfield.set(0e-3)\n",
    "jj.time_scan ( tools['I'], dur = 30, dt= 0.1)"
   ]
  },
  {
   "cell_type": "code",
   "execution_count": null,
   "metadata": {
    "scrolled": true
   },
   "outputs": [],
   "source": [
    "B_list = np.linspace(0e-3, .3e-3, 51)\n",
    "\n",
    "[            jj.time_scan ( tools['V'], dur = 1, dt= 0.01)\n",
    "for jj in    jj.Bscan( B_list = B_list )]"
   ]
  },
  {
   "cell_type": "markdown",
   "metadata": {},
   "source": [
    "### IVC B"
   ]
  },
  {
   "cell_type": "markdown",
   "metadata": {},
   "source": [
    "#### New syntaxis to try"
   ]
  },
  {
   "cell_type": "code",
   "execution_count": 201,
   "metadata": {},
   "outputs": [
    {
     "data": {
      "text/plain": [
       "18"
      ]
     },
     "execution_count": 201,
     "metadata": {},
     "output_type": "execute_result"
    }
   ],
   "source": [
    " len(np.linspace(-3.5e-3, -.1e-3, 18))"
   ]
  },
  {
   "cell_type": "code",
   "execution_count": 65,
   "metadata": {},
   "outputs": [],
   "source": [
    "jj.tools['I'].set(0)"
   ]
  },
  {
   "cell_type": "code",
   "execution_count": 92,
   "metadata": {
    "scrolled": true
   },
   "outputs": [
    {
     "data": {
      "application/vnd.jupyter.widget-view+json": {
       "model_id": "e9feaa94d4554db1b078f63a7543cfd5",
       "version_major": 2,
       "version_minor": 0
      },
      "text/plain": [
       "HBox(children=(IntProgress(value=0, max=201), HTML(value='')))"
      ]
     },
     "metadata": {},
     "output_type": "display_data"
    },
    {
     "data": {
      "application/vnd.jupyter.widget-view+json": {
       "model_id": "",
       "version_major": 2,
       "version_minor": 0
      },
      "text/plain": [
       "HBox(children=(IntProgress(value=0, max=243), HTML(value='')))"
      ]
     },
     "metadata": {},
     "output_type": "display_data"
    },
    {
     "name": "stdout",
     "output_type": "stream",
     "text": [
      "Starting experimental run with id: 335\n"
     ]
    },
    {
     "data": {
      "application/vnd.jupyter.widget-view+json": {
       "model_id": "",
       "version_major": 2,
       "version_minor": 0
      },
      "text/plain": [
       "HBox(children=(IntProgress(value=0, max=243), HTML(value='')))"
      ]
     },
     "metadata": {},
     "output_type": "display_data"
    },
    {
     "name": "stdout",
     "output_type": "stream",
     "text": [
      "Starting experimental run with id: 336\n"
     ]
    },
    {
     "data": {
      "application/vnd.jupyter.widget-view+json": {
       "model_id": "",
       "version_major": 2,
       "version_minor": 0
      },
      "text/plain": [
       "HBox(children=(IntProgress(value=0, max=243), HTML(value='')))"
      ]
     },
     "metadata": {},
     "output_type": "display_data"
    },
    {
     "name": "stdout",
     "output_type": "stream",
     "text": [
      "Starting experimental run with id: 337\n"
     ]
    },
    {
     "data": {
      "application/vnd.jupyter.widget-view+json": {
       "model_id": "",
       "version_major": 2,
       "version_minor": 0
      },
      "text/plain": [
       "HBox(children=(IntProgress(value=0, max=243), HTML(value='')))"
      ]
     },
     "metadata": {},
     "output_type": "display_data"
    },
    {
     "name": "stdout",
     "output_type": "stream",
     "text": [
      "Starting experimental run with id: 338\n"
     ]
    },
    {
     "data": {
      "application/vnd.jupyter.widget-view+json": {
       "model_id": "",
       "version_major": 2,
       "version_minor": 0
      },
      "text/plain": [
       "HBox(children=(IntProgress(value=0, max=243), HTML(value='')))"
      ]
     },
     "metadata": {},
     "output_type": "display_data"
    },
    {
     "name": "stdout",
     "output_type": "stream",
     "text": [
      "Starting experimental run with id: 339\n"
     ]
    },
    {
     "data": {
      "application/vnd.jupyter.widget-view+json": {
       "model_id": "",
       "version_major": 2,
       "version_minor": 0
      },
      "text/plain": [
       "HBox(children=(IntProgress(value=0, max=243), HTML(value='')))"
      ]
     },
     "metadata": {},
     "output_type": "display_data"
    },
    {
     "name": "stdout",
     "output_type": "stream",
     "text": [
      "Starting experimental run with id: 340\n"
     ]
    },
    {
     "data": {
      "application/vnd.jupyter.widget-view+json": {
       "model_id": "",
       "version_major": 2,
       "version_minor": 0
      },
      "text/plain": [
       "HBox(children=(IntProgress(value=0, max=243), HTML(value='')))"
      ]
     },
     "metadata": {},
     "output_type": "display_data"
    },
    {
     "name": "stdout",
     "output_type": "stream",
     "text": [
      "Starting experimental run with id: 341\n"
     ]
    },
    {
     "data": {
      "application/vnd.jupyter.widget-view+json": {
       "model_id": "",
       "version_major": 2,
       "version_minor": 0
      },
      "text/plain": [
       "HBox(children=(IntProgress(value=0, max=243), HTML(value='')))"
      ]
     },
     "metadata": {},
     "output_type": "display_data"
    },
    {
     "name": "stdout",
     "output_type": "stream",
     "text": [
      "Starting experimental run with id: 342\n"
     ]
    },
    {
     "data": {
      "application/vnd.jupyter.widget-view+json": {
       "model_id": "",
       "version_major": 2,
       "version_minor": 0
      },
      "text/plain": [
       "HBox(children=(IntProgress(value=0, max=243), HTML(value='')))"
      ]
     },
     "metadata": {},
     "output_type": "display_data"
    },
    {
     "name": "stdout",
     "output_type": "stream",
     "text": [
      "Starting experimental run with id: 343\n"
     ]
    },
    {
     "data": {
      "application/vnd.jupyter.widget-view+json": {
       "model_id": "",
       "version_major": 2,
       "version_minor": 0
      },
      "text/plain": [
       "HBox(children=(IntProgress(value=0, max=243), HTML(value='')))"
      ]
     },
     "metadata": {},
     "output_type": "display_data"
    },
    {
     "name": "stdout",
     "output_type": "stream",
     "text": [
      "Starting experimental run with id: 344\n"
     ]
    },
    {
     "data": {
      "application/vnd.jupyter.widget-view+json": {
       "model_id": "",
       "version_major": 2,
       "version_minor": 0
      },
      "text/plain": [
       "HBox(children=(IntProgress(value=0, max=243), HTML(value='')))"
      ]
     },
     "metadata": {},
     "output_type": "display_data"
    },
    {
     "name": "stdout",
     "output_type": "stream",
     "text": [
      "Starting experimental run with id: 345\n"
     ]
    },
    {
     "data": {
      "application/vnd.jupyter.widget-view+json": {
       "model_id": "",
       "version_major": 2,
       "version_minor": 0
      },
      "text/plain": [
       "HBox(children=(IntProgress(value=0, max=243), HTML(value='')))"
      ]
     },
     "metadata": {},
     "output_type": "display_data"
    },
    {
     "name": "stdout",
     "output_type": "stream",
     "text": [
      "Starting experimental run with id: 346\n"
     ]
    },
    {
     "data": {
      "application/vnd.jupyter.widget-view+json": {
       "model_id": "",
       "version_major": 2,
       "version_minor": 0
      },
      "text/plain": [
       "HBox(children=(IntProgress(value=0, max=243), HTML(value='')))"
      ]
     },
     "metadata": {},
     "output_type": "display_data"
    },
    {
     "name": "stdout",
     "output_type": "stream",
     "text": [
      "Starting experimental run with id: 347\n"
     ]
    },
    {
     "data": {
      "application/vnd.jupyter.widget-view+json": {
       "model_id": "",
       "version_major": 2,
       "version_minor": 0
      },
      "text/plain": [
       "HBox(children=(IntProgress(value=0, max=243), HTML(value='')))"
      ]
     },
     "metadata": {},
     "output_type": "display_data"
    },
    {
     "name": "stdout",
     "output_type": "stream",
     "text": [
      "Starting experimental run with id: 348\n"
     ]
    },
    {
     "data": {
      "application/vnd.jupyter.widget-view+json": {
       "model_id": "",
       "version_major": 2,
       "version_minor": 0
      },
      "text/plain": [
       "HBox(children=(IntProgress(value=0, max=243), HTML(value='')))"
      ]
     },
     "metadata": {},
     "output_type": "display_data"
    },
    {
     "name": "stdout",
     "output_type": "stream",
     "text": [
      "Starting experimental run with id: 349\n"
     ]
    },
    {
     "data": {
      "application/vnd.jupyter.widget-view+json": {
       "model_id": "",
       "version_major": 2,
       "version_minor": 0
      },
      "text/plain": [
       "HBox(children=(IntProgress(value=0, max=243), HTML(value='')))"
      ]
     },
     "metadata": {},
     "output_type": "display_data"
    },
    {
     "name": "stdout",
     "output_type": "stream",
     "text": [
      "Starting experimental run with id: 350\n"
     ]
    },
    {
     "data": {
      "application/vnd.jupyter.widget-view+json": {
       "model_id": "",
       "version_major": 2,
       "version_minor": 0
      },
      "text/plain": [
       "HBox(children=(IntProgress(value=0, max=243), HTML(value='')))"
      ]
     },
     "metadata": {},
     "output_type": "display_data"
    },
    {
     "name": "stdout",
     "output_type": "stream",
     "text": [
      "Starting experimental run with id: 351\n"
     ]
    },
    {
     "data": {
      "application/vnd.jupyter.widget-view+json": {
       "model_id": "",
       "version_major": 2,
       "version_minor": 0
      },
      "text/plain": [
       "HBox(children=(IntProgress(value=0, max=243), HTML(value='')))"
      ]
     },
     "metadata": {},
     "output_type": "display_data"
    },
    {
     "name": "stdout",
     "output_type": "stream",
     "text": [
      "Starting experimental run with id: 352\n"
     ]
    },
    {
     "data": {
      "application/vnd.jupyter.widget-view+json": {
       "model_id": "",
       "version_major": 2,
       "version_minor": 0
      },
      "text/plain": [
       "HBox(children=(IntProgress(value=0, max=243), HTML(value='')))"
      ]
     },
     "metadata": {},
     "output_type": "display_data"
    },
    {
     "name": "stdout",
     "output_type": "stream",
     "text": [
      "Starting experimental run with id: 353\n"
     ]
    },
    {
     "data": {
      "application/vnd.jupyter.widget-view+json": {
       "model_id": "",
       "version_major": 2,
       "version_minor": 0
      },
      "text/plain": [
       "HBox(children=(IntProgress(value=0, max=243), HTML(value='')))"
      ]
     },
     "metadata": {},
     "output_type": "display_data"
    },
    {
     "name": "stdout",
     "output_type": "stream",
     "text": [
      "Starting experimental run with id: 354\n"
     ]
    },
    {
     "data": {
      "application/vnd.jupyter.widget-view+json": {
       "model_id": "",
       "version_major": 2,
       "version_minor": 0
      },
      "text/plain": [
       "HBox(children=(IntProgress(value=0, max=243), HTML(value='')))"
      ]
     },
     "metadata": {},
     "output_type": "display_data"
    },
    {
     "name": "stdout",
     "output_type": "stream",
     "text": [
      "Starting experimental run with id: 355\n"
     ]
    },
    {
     "data": {
      "application/vnd.jupyter.widget-view+json": {
       "model_id": "",
       "version_major": 2,
       "version_minor": 0
      },
      "text/plain": [
       "HBox(children=(IntProgress(value=0, max=243), HTML(value='')))"
      ]
     },
     "metadata": {},
     "output_type": "display_data"
    },
    {
     "name": "stdout",
     "output_type": "stream",
     "text": [
      "Starting experimental run with id: 356\n"
     ]
    },
    {
     "data": {
      "application/vnd.jupyter.widget-view+json": {
       "model_id": "",
       "version_major": 2,
       "version_minor": 0
      },
      "text/plain": [
       "HBox(children=(IntProgress(value=0, max=243), HTML(value='')))"
      ]
     },
     "metadata": {},
     "output_type": "display_data"
    },
    {
     "name": "stdout",
     "output_type": "stream",
     "text": [
      "Starting experimental run with id: 357\n"
     ]
    },
    {
     "data": {
      "application/vnd.jupyter.widget-view+json": {
       "model_id": "",
       "version_major": 2,
       "version_minor": 0
      },
      "text/plain": [
       "HBox(children=(IntProgress(value=0, max=243), HTML(value='')))"
      ]
     },
     "metadata": {},
     "output_type": "display_data"
    },
    {
     "name": "stdout",
     "output_type": "stream",
     "text": [
      "Starting experimental run with id: 358\n"
     ]
    },
    {
     "data": {
      "application/vnd.jupyter.widget-view+json": {
       "model_id": "",
       "version_major": 2,
       "version_minor": 0
      },
      "text/plain": [
       "HBox(children=(IntProgress(value=0, max=243), HTML(value='')))"
      ]
     },
     "metadata": {},
     "output_type": "display_data"
    },
    {
     "name": "stdout",
     "output_type": "stream",
     "text": [
      "Starting experimental run with id: 359\n"
     ]
    },
    {
     "data": {
      "application/vnd.jupyter.widget-view+json": {
       "model_id": "",
       "version_major": 2,
       "version_minor": 0
      },
      "text/plain": [
       "HBox(children=(IntProgress(value=0, max=243), HTML(value='')))"
      ]
     },
     "metadata": {},
     "output_type": "display_data"
    },
    {
     "name": "stdout",
     "output_type": "stream",
     "text": [
      "Starting experimental run with id: 360\n"
     ]
    },
    {
     "data": {
      "application/vnd.jupyter.widget-view+json": {
       "model_id": "",
       "version_major": 2,
       "version_minor": 0
      },
      "text/plain": [
       "HBox(children=(IntProgress(value=0, max=243), HTML(value='')))"
      ]
     },
     "metadata": {},
     "output_type": "display_data"
    },
    {
     "name": "stdout",
     "output_type": "stream",
     "text": [
      "Starting experimental run with id: 361\n"
     ]
    },
    {
     "data": {
      "application/vnd.jupyter.widget-view+json": {
       "model_id": "",
       "version_major": 2,
       "version_minor": 0
      },
      "text/plain": [
       "HBox(children=(IntProgress(value=0, max=243), HTML(value='')))"
      ]
     },
     "metadata": {},
     "output_type": "display_data"
    },
    {
     "name": "stdout",
     "output_type": "stream",
     "text": [
      "Starting experimental run with id: 362\n"
     ]
    },
    {
     "data": {
      "application/vnd.jupyter.widget-view+json": {
       "model_id": "",
       "version_major": 2,
       "version_minor": 0
      },
      "text/plain": [
       "HBox(children=(IntProgress(value=0, max=243), HTML(value='')))"
      ]
     },
     "metadata": {},
     "output_type": "display_data"
    },
    {
     "name": "stdout",
     "output_type": "stream",
     "text": [
      "Starting experimental run with id: 363\n"
     ]
    },
    {
     "data": {
      "application/vnd.jupyter.widget-view+json": {
       "model_id": "",
       "version_major": 2,
       "version_minor": 0
      },
      "text/plain": [
       "HBox(children=(IntProgress(value=0, max=243), HTML(value='')))"
      ]
     },
     "metadata": {},
     "output_type": "display_data"
    },
    {
     "name": "stdout",
     "output_type": "stream",
     "text": [
      "Starting experimental run with id: 364\n"
     ]
    },
    {
     "data": {
      "application/vnd.jupyter.widget-view+json": {
       "model_id": "",
       "version_major": 2,
       "version_minor": 0
      },
      "text/plain": [
       "HBox(children=(IntProgress(value=0, max=243), HTML(value='')))"
      ]
     },
     "metadata": {},
     "output_type": "display_data"
    },
    {
     "name": "stdout",
     "output_type": "stream",
     "text": [
      "Starting experimental run with id: 365\n"
     ]
    },
    {
     "data": {
      "application/vnd.jupyter.widget-view+json": {
       "model_id": "",
       "version_major": 2,
       "version_minor": 0
      },
      "text/plain": [
       "HBox(children=(IntProgress(value=0, max=243), HTML(value='')))"
      ]
     },
     "metadata": {},
     "output_type": "display_data"
    },
    {
     "name": "stdout",
     "output_type": "stream",
     "text": [
      "Starting experimental run with id: 366\n"
     ]
    },
    {
     "data": {
      "application/vnd.jupyter.widget-view+json": {
       "model_id": "",
       "version_major": 2,
       "version_minor": 0
      },
      "text/plain": [
       "HBox(children=(IntProgress(value=0, max=243), HTML(value='')))"
      ]
     },
     "metadata": {},
     "output_type": "display_data"
    },
    {
     "name": "stdout",
     "output_type": "stream",
     "text": [
      "Starting experimental run with id: 367\n"
     ]
    },
    {
     "data": {
      "application/vnd.jupyter.widget-view+json": {
       "model_id": "",
       "version_major": 2,
       "version_minor": 0
      },
      "text/plain": [
       "HBox(children=(IntProgress(value=0, max=243), HTML(value='')))"
      ]
     },
     "metadata": {},
     "output_type": "display_data"
    },
    {
     "name": "stdout",
     "output_type": "stream",
     "text": [
      "Starting experimental run with id: 368\n"
     ]
    },
    {
     "data": {
      "application/vnd.jupyter.widget-view+json": {
       "model_id": "",
       "version_major": 2,
       "version_minor": 0
      },
      "text/plain": [
       "HBox(children=(IntProgress(value=0, max=243), HTML(value='')))"
      ]
     },
     "metadata": {},
     "output_type": "display_data"
    },
    {
     "name": "stdout",
     "output_type": "stream",
     "text": [
      "Starting experimental run with id: 369\n"
     ]
    },
    {
     "data": {
      "application/vnd.jupyter.widget-view+json": {
       "model_id": "",
       "version_major": 2,
       "version_minor": 0
      },
      "text/plain": [
       "HBox(children=(IntProgress(value=0, max=243), HTML(value='')))"
      ]
     },
     "metadata": {},
     "output_type": "display_data"
    },
    {
     "name": "stdout",
     "output_type": "stream",
     "text": [
      "Starting experimental run with id: 370\n"
     ]
    },
    {
     "data": {
      "application/vnd.jupyter.widget-view+json": {
       "model_id": "",
       "version_major": 2,
       "version_minor": 0
      },
      "text/plain": [
       "HBox(children=(IntProgress(value=0, max=243), HTML(value='')))"
      ]
     },
     "metadata": {},
     "output_type": "display_data"
    },
    {
     "name": "stdout",
     "output_type": "stream",
     "text": [
      "Starting experimental run with id: 371\n"
     ]
    },
    {
     "data": {
      "application/vnd.jupyter.widget-view+json": {
       "model_id": "",
       "version_major": 2,
       "version_minor": 0
      },
      "text/plain": [
       "HBox(children=(IntProgress(value=0, max=243), HTML(value='')))"
      ]
     },
     "metadata": {},
     "output_type": "display_data"
    },
    {
     "name": "stdout",
     "output_type": "stream",
     "text": [
      "Starting experimental run with id: 372\n"
     ]
    },
    {
     "data": {
      "application/vnd.jupyter.widget-view+json": {
       "model_id": "",
       "version_major": 2,
       "version_minor": 0
      },
      "text/plain": [
       "HBox(children=(IntProgress(value=0, max=243), HTML(value='')))"
      ]
     },
     "metadata": {},
     "output_type": "display_data"
    },
    {
     "name": "stdout",
     "output_type": "stream",
     "text": [
      "Starting experimental run with id: 373\n"
     ]
    },
    {
     "data": {
      "application/vnd.jupyter.widget-view+json": {
       "model_id": "",
       "version_major": 2,
       "version_minor": 0
      },
      "text/plain": [
       "HBox(children=(IntProgress(value=0, max=243), HTML(value='')))"
      ]
     },
     "metadata": {},
     "output_type": "display_data"
    },
    {
     "name": "stdout",
     "output_type": "stream",
     "text": [
      "Starting experimental run with id: 374\n"
     ]
    },
    {
     "data": {
      "application/vnd.jupyter.widget-view+json": {
       "model_id": "",
       "version_major": 2,
       "version_minor": 0
      },
      "text/plain": [
       "HBox(children=(IntProgress(value=0, max=243), HTML(value='')))"
      ]
     },
     "metadata": {},
     "output_type": "display_data"
    },
    {
     "name": "stdout",
     "output_type": "stream",
     "text": [
      "Starting experimental run with id: 375\n"
     ]
    },
    {
     "data": {
      "application/vnd.jupyter.widget-view+json": {
       "model_id": "",
       "version_major": 2,
       "version_minor": 0
      },
      "text/plain": [
       "HBox(children=(IntProgress(value=0, max=243), HTML(value='')))"
      ]
     },
     "metadata": {},
     "output_type": "display_data"
    },
    {
     "name": "stdout",
     "output_type": "stream",
     "text": [
      "Starting experimental run with id: 376\n"
     ]
    },
    {
     "data": {
      "application/vnd.jupyter.widget-view+json": {
       "model_id": "",
       "version_major": 2,
       "version_minor": 0
      },
      "text/plain": [
       "HBox(children=(IntProgress(value=0, max=243), HTML(value='')))"
      ]
     },
     "metadata": {},
     "output_type": "display_data"
    },
    {
     "name": "stdout",
     "output_type": "stream",
     "text": [
      "Starting experimental run with id: 377\n"
     ]
    },
    {
     "data": {
      "application/vnd.jupyter.widget-view+json": {
       "model_id": "",
       "version_major": 2,
       "version_minor": 0
      },
      "text/plain": [
       "HBox(children=(IntProgress(value=0, max=243), HTML(value='')))"
      ]
     },
     "metadata": {},
     "output_type": "display_data"
    },
    {
     "name": "stdout",
     "output_type": "stream",
     "text": [
      "Starting experimental run with id: 378\n"
     ]
    },
    {
     "data": {
      "application/vnd.jupyter.widget-view+json": {
       "model_id": "",
       "version_major": 2,
       "version_minor": 0
      },
      "text/plain": [
       "HBox(children=(IntProgress(value=0, max=243), HTML(value='')))"
      ]
     },
     "metadata": {},
     "output_type": "display_data"
    },
    {
     "name": "stdout",
     "output_type": "stream",
     "text": [
      "Starting experimental run with id: 379\n"
     ]
    },
    {
     "data": {
      "application/vnd.jupyter.widget-view+json": {
       "model_id": "",
       "version_major": 2,
       "version_minor": 0
      },
      "text/plain": [
       "HBox(children=(IntProgress(value=0, max=243), HTML(value='')))"
      ]
     },
     "metadata": {},
     "output_type": "display_data"
    },
    {
     "name": "stdout",
     "output_type": "stream",
     "text": [
      "Starting experimental run with id: 380\n"
     ]
    },
    {
     "data": {
      "application/vnd.jupyter.widget-view+json": {
       "model_id": "",
       "version_major": 2,
       "version_minor": 0
      },
      "text/plain": [
       "HBox(children=(IntProgress(value=0, max=243), HTML(value='')))"
      ]
     },
     "metadata": {},
     "output_type": "display_data"
    },
    {
     "name": "stdout",
     "output_type": "stream",
     "text": [
      "Starting experimental run with id: 381\n"
     ]
    },
    {
     "data": {
      "application/vnd.jupyter.widget-view+json": {
       "model_id": "",
       "version_major": 2,
       "version_minor": 0
      },
      "text/plain": [
       "HBox(children=(IntProgress(value=0, max=243), HTML(value='')))"
      ]
     },
     "metadata": {},
     "output_type": "display_data"
    },
    {
     "name": "stdout",
     "output_type": "stream",
     "text": [
      "Starting experimental run with id: 382\n"
     ]
    },
    {
     "data": {
      "application/vnd.jupyter.widget-view+json": {
       "model_id": "",
       "version_major": 2,
       "version_minor": 0
      },
      "text/plain": [
       "HBox(children=(IntProgress(value=0, max=243), HTML(value='')))"
      ]
     },
     "metadata": {},
     "output_type": "display_data"
    },
    {
     "name": "stdout",
     "output_type": "stream",
     "text": [
      "Starting experimental run with id: 383\n"
     ]
    },
    {
     "data": {
      "application/vnd.jupyter.widget-view+json": {
       "model_id": "",
       "version_major": 2,
       "version_minor": 0
      },
      "text/plain": [
       "HBox(children=(IntProgress(value=0, max=243), HTML(value='')))"
      ]
     },
     "metadata": {},
     "output_type": "display_data"
    },
    {
     "name": "stdout",
     "output_type": "stream",
     "text": [
      "Starting experimental run with id: 384\n"
     ]
    },
    {
     "data": {
      "application/vnd.jupyter.widget-view+json": {
       "model_id": "",
       "version_major": 2,
       "version_minor": 0
      },
      "text/plain": [
       "HBox(children=(IntProgress(value=0, max=243), HTML(value='')))"
      ]
     },
     "metadata": {},
     "output_type": "display_data"
    },
    {
     "name": "stdout",
     "output_type": "stream",
     "text": [
      "Starting experimental run with id: 385\n"
     ]
    },
    {
     "data": {
      "application/vnd.jupyter.widget-view+json": {
       "model_id": "",
       "version_major": 2,
       "version_minor": 0
      },
      "text/plain": [
       "HBox(children=(IntProgress(value=0, max=243), HTML(value='')))"
      ]
     },
     "metadata": {},
     "output_type": "display_data"
    },
    {
     "name": "stdout",
     "output_type": "stream",
     "text": [
      "Starting experimental run with id: 386\n"
     ]
    },
    {
     "data": {
      "application/vnd.jupyter.widget-view+json": {
       "model_id": "",
       "version_major": 2,
       "version_minor": 0
      },
      "text/plain": [
       "HBox(children=(IntProgress(value=0, max=243), HTML(value='')))"
      ]
     },
     "metadata": {},
     "output_type": "display_data"
    },
    {
     "name": "stdout",
     "output_type": "stream",
     "text": [
      "Starting experimental run with id: 387\n"
     ]
    },
    {
     "data": {
      "application/vnd.jupyter.widget-view+json": {
       "model_id": "",
       "version_major": 2,
       "version_minor": 0
      },
      "text/plain": [
       "HBox(children=(IntProgress(value=0, max=243), HTML(value='')))"
      ]
     },
     "metadata": {},
     "output_type": "display_data"
    },
    {
     "name": "stdout",
     "output_type": "stream",
     "text": [
      "Starting experimental run with id: 388\n"
     ]
    },
    {
     "data": {
      "application/vnd.jupyter.widget-view+json": {
       "model_id": "",
       "version_major": 2,
       "version_minor": 0
      },
      "text/plain": [
       "HBox(children=(IntProgress(value=0, max=243), HTML(value='')))"
      ]
     },
     "metadata": {},
     "output_type": "display_data"
    },
    {
     "name": "stdout",
     "output_type": "stream",
     "text": [
      "Starting experimental run with id: 389\n"
     ]
    },
    {
     "data": {
      "application/vnd.jupyter.widget-view+json": {
       "model_id": "",
       "version_major": 2,
       "version_minor": 0
      },
      "text/plain": [
       "HBox(children=(IntProgress(value=0, max=243), HTML(value='')))"
      ]
     },
     "metadata": {},
     "output_type": "display_data"
    },
    {
     "name": "stdout",
     "output_type": "stream",
     "text": [
      "Starting experimental run with id: 390\n"
     ]
    },
    {
     "data": {
      "application/vnd.jupyter.widget-view+json": {
       "model_id": "",
       "version_major": 2,
       "version_minor": 0
      },
      "text/plain": [
       "HBox(children=(IntProgress(value=0, max=243), HTML(value='')))"
      ]
     },
     "metadata": {},
     "output_type": "display_data"
    },
    {
     "name": "stdout",
     "output_type": "stream",
     "text": [
      "Starting experimental run with id: 391\n"
     ]
    },
    {
     "data": {
      "application/vnd.jupyter.widget-view+json": {
       "model_id": "",
       "version_major": 2,
       "version_minor": 0
      },
      "text/plain": [
       "HBox(children=(IntProgress(value=0, max=243), HTML(value='')))"
      ]
     },
     "metadata": {},
     "output_type": "display_data"
    },
    {
     "name": "stdout",
     "output_type": "stream",
     "text": [
      "Starting experimental run with id: 392\n"
     ]
    },
    {
     "data": {
      "application/vnd.jupyter.widget-view+json": {
       "model_id": "",
       "version_major": 2,
       "version_minor": 0
      },
      "text/plain": [
       "HBox(children=(IntProgress(value=0, max=243), HTML(value='')))"
      ]
     },
     "metadata": {},
     "output_type": "display_data"
    },
    {
     "name": "stdout",
     "output_type": "stream",
     "text": [
      "Starting experimental run with id: 393\n"
     ]
    },
    {
     "data": {
      "application/vnd.jupyter.widget-view+json": {
       "model_id": "",
       "version_major": 2,
       "version_minor": 0
      },
      "text/plain": [
       "HBox(children=(IntProgress(value=0, max=243), HTML(value='')))"
      ]
     },
     "metadata": {},
     "output_type": "display_data"
    },
    {
     "name": "stdout",
     "output_type": "stream",
     "text": [
      "Starting experimental run with id: 394\n"
     ]
    },
    {
     "data": {
      "application/vnd.jupyter.widget-view+json": {
       "model_id": "",
       "version_major": 2,
       "version_minor": 0
      },
      "text/plain": [
       "HBox(children=(IntProgress(value=0, max=243), HTML(value='')))"
      ]
     },
     "metadata": {},
     "output_type": "display_data"
    },
    {
     "name": "stdout",
     "output_type": "stream",
     "text": [
      "Starting experimental run with id: 395\n"
     ]
    },
    {
     "data": {
      "application/vnd.jupyter.widget-view+json": {
       "model_id": "",
       "version_major": 2,
       "version_minor": 0
      },
      "text/plain": [
       "HBox(children=(IntProgress(value=0, max=243), HTML(value='')))"
      ]
     },
     "metadata": {},
     "output_type": "display_data"
    },
    {
     "name": "stdout",
     "output_type": "stream",
     "text": [
      "Starting experimental run with id: 396\n"
     ]
    },
    {
     "data": {
      "application/vnd.jupyter.widget-view+json": {
       "model_id": "",
       "version_major": 2,
       "version_minor": 0
      },
      "text/plain": [
       "HBox(children=(IntProgress(value=0, max=243), HTML(value='')))"
      ]
     },
     "metadata": {},
     "output_type": "display_data"
    },
    {
     "name": "stdout",
     "output_type": "stream",
     "text": [
      "Starting experimental run with id: 397\n"
     ]
    },
    {
     "data": {
      "application/vnd.jupyter.widget-view+json": {
       "model_id": "",
       "version_major": 2,
       "version_minor": 0
      },
      "text/plain": [
       "HBox(children=(IntProgress(value=0, max=243), HTML(value='')))"
      ]
     },
     "metadata": {},
     "output_type": "display_data"
    },
    {
     "name": "stdout",
     "output_type": "stream",
     "text": [
      "Starting experimental run with id: 398\n"
     ]
    },
    {
     "data": {
      "application/vnd.jupyter.widget-view+json": {
       "model_id": "",
       "version_major": 2,
       "version_minor": 0
      },
      "text/plain": [
       "HBox(children=(IntProgress(value=0, max=243), HTML(value='')))"
      ]
     },
     "metadata": {},
     "output_type": "display_data"
    },
    {
     "name": "stdout",
     "output_type": "stream",
     "text": [
      "Starting experimental run with id: 399\n"
     ]
    },
    {
     "data": {
      "application/vnd.jupyter.widget-view+json": {
       "model_id": "",
       "version_major": 2,
       "version_minor": 0
      },
      "text/plain": [
       "HBox(children=(IntProgress(value=0, max=243), HTML(value='')))"
      ]
     },
     "metadata": {},
     "output_type": "display_data"
    },
    {
     "name": "stdout",
     "output_type": "stream",
     "text": [
      "Starting experimental run with id: 400\n"
     ]
    },
    {
     "data": {
      "application/vnd.jupyter.widget-view+json": {
       "model_id": "",
       "version_major": 2,
       "version_minor": 0
      },
      "text/plain": [
       "HBox(children=(IntProgress(value=0, max=243), HTML(value='')))"
      ]
     },
     "metadata": {},
     "output_type": "display_data"
    },
    {
     "name": "stdout",
     "output_type": "stream",
     "text": [
      "Starting experimental run with id: 401\n"
     ]
    },
    {
     "data": {
      "application/vnd.jupyter.widget-view+json": {
       "model_id": "",
       "version_major": 2,
       "version_minor": 0
      },
      "text/plain": [
       "HBox(children=(IntProgress(value=0, max=243), HTML(value='')))"
      ]
     },
     "metadata": {},
     "output_type": "display_data"
    },
    {
     "name": "stdout",
     "output_type": "stream",
     "text": [
      "Starting experimental run with id: 402\n"
     ]
    },
    {
     "data": {
      "application/vnd.jupyter.widget-view+json": {
       "model_id": "",
       "version_major": 2,
       "version_minor": 0
      },
      "text/plain": [
       "HBox(children=(IntProgress(value=0, max=243), HTML(value='')))"
      ]
     },
     "metadata": {},
     "output_type": "display_data"
    },
    {
     "name": "stdout",
     "output_type": "stream",
     "text": [
      "Starting experimental run with id: 403\n"
     ]
    },
    {
     "data": {
      "application/vnd.jupyter.widget-view+json": {
       "model_id": "",
       "version_major": 2,
       "version_minor": 0
      },
      "text/plain": [
       "HBox(children=(IntProgress(value=0, max=243), HTML(value='')))"
      ]
     },
     "metadata": {},
     "output_type": "display_data"
    },
    {
     "name": "stdout",
     "output_type": "stream",
     "text": [
      "Starting experimental run with id: 404\n"
     ]
    },
    {
     "data": {
      "application/vnd.jupyter.widget-view+json": {
       "model_id": "",
       "version_major": 2,
       "version_minor": 0
      },
      "text/plain": [
       "HBox(children=(IntProgress(value=0, max=243), HTML(value='')))"
      ]
     },
     "metadata": {},
     "output_type": "display_data"
    },
    {
     "name": "stdout",
     "output_type": "stream",
     "text": [
      "Starting experimental run with id: 405\n"
     ]
    },
    {
     "data": {
      "application/vnd.jupyter.widget-view+json": {
       "model_id": "",
       "version_major": 2,
       "version_minor": 0
      },
      "text/plain": [
       "HBox(children=(IntProgress(value=0, max=243), HTML(value='')))"
      ]
     },
     "metadata": {},
     "output_type": "display_data"
    },
    {
     "name": "stdout",
     "output_type": "stream",
     "text": [
      "Starting experimental run with id: 406\n"
     ]
    },
    {
     "data": {
      "application/vnd.jupyter.widget-view+json": {
       "model_id": "",
       "version_major": 2,
       "version_minor": 0
      },
      "text/plain": [
       "HBox(children=(IntProgress(value=0, max=243), HTML(value='')))"
      ]
     },
     "metadata": {},
     "output_type": "display_data"
    },
    {
     "name": "stdout",
     "output_type": "stream",
     "text": [
      "Starting experimental run with id: 407\n"
     ]
    },
    {
     "data": {
      "application/vnd.jupyter.widget-view+json": {
       "model_id": "",
       "version_major": 2,
       "version_minor": 0
      },
      "text/plain": [
       "HBox(children=(IntProgress(value=0, max=243), HTML(value='')))"
      ]
     },
     "metadata": {},
     "output_type": "display_data"
    },
    {
     "name": "stdout",
     "output_type": "stream",
     "text": [
      "Starting experimental run with id: 408\n"
     ]
    },
    {
     "data": {
      "application/vnd.jupyter.widget-view+json": {
       "model_id": "",
       "version_major": 2,
       "version_minor": 0
      },
      "text/plain": [
       "HBox(children=(IntProgress(value=0, max=243), HTML(value='')))"
      ]
     },
     "metadata": {},
     "output_type": "display_data"
    },
    {
     "name": "stdout",
     "output_type": "stream",
     "text": [
      "Starting experimental run with id: 409\n"
     ]
    },
    {
     "data": {
      "application/vnd.jupyter.widget-view+json": {
       "model_id": "",
       "version_major": 2,
       "version_minor": 0
      },
      "text/plain": [
       "HBox(children=(IntProgress(value=0, max=243), HTML(value='')))"
      ]
     },
     "metadata": {},
     "output_type": "display_data"
    },
    {
     "name": "stdout",
     "output_type": "stream",
     "text": [
      "Starting experimental run with id: 410\n"
     ]
    },
    {
     "data": {
      "application/vnd.jupyter.widget-view+json": {
       "model_id": "",
       "version_major": 2,
       "version_minor": 0
      },
      "text/plain": [
       "HBox(children=(IntProgress(value=0, max=243), HTML(value='')))"
      ]
     },
     "metadata": {},
     "output_type": "display_data"
    },
    {
     "name": "stdout",
     "output_type": "stream",
     "text": [
      "Starting experimental run with id: 411\n"
     ]
    },
    {
     "data": {
      "application/vnd.jupyter.widget-view+json": {
       "model_id": "",
       "version_major": 2,
       "version_minor": 0
      },
      "text/plain": [
       "HBox(children=(IntProgress(value=0, max=243), HTML(value='')))"
      ]
     },
     "metadata": {},
     "output_type": "display_data"
    },
    {
     "name": "stdout",
     "output_type": "stream",
     "text": [
      "Starting experimental run with id: 412\n"
     ]
    },
    {
     "data": {
      "application/vnd.jupyter.widget-view+json": {
       "model_id": "",
       "version_major": 2,
       "version_minor": 0
      },
      "text/plain": [
       "HBox(children=(IntProgress(value=0, max=243), HTML(value='')))"
      ]
     },
     "metadata": {},
     "output_type": "display_data"
    },
    {
     "name": "stdout",
     "output_type": "stream",
     "text": [
      "Starting experimental run with id: 413\n"
     ]
    },
    {
     "data": {
      "application/vnd.jupyter.widget-view+json": {
       "model_id": "",
       "version_major": 2,
       "version_minor": 0
      },
      "text/plain": [
       "HBox(children=(IntProgress(value=0, max=243), HTML(value='')))"
      ]
     },
     "metadata": {},
     "output_type": "display_data"
    },
    {
     "name": "stdout",
     "output_type": "stream",
     "text": [
      "Starting experimental run with id: 414\n"
     ]
    },
    {
     "data": {
      "application/vnd.jupyter.widget-view+json": {
       "model_id": "",
       "version_major": 2,
       "version_minor": 0
      },
      "text/plain": [
       "HBox(children=(IntProgress(value=0, max=243), HTML(value='')))"
      ]
     },
     "metadata": {},
     "output_type": "display_data"
    },
    {
     "name": "stdout",
     "output_type": "stream",
     "text": [
      "Starting experimental run with id: 415\n"
     ]
    },
    {
     "data": {
      "application/vnd.jupyter.widget-view+json": {
       "model_id": "",
       "version_major": 2,
       "version_minor": 0
      },
      "text/plain": [
       "HBox(children=(IntProgress(value=0, max=243), HTML(value='')))"
      ]
     },
     "metadata": {},
     "output_type": "display_data"
    },
    {
     "name": "stdout",
     "output_type": "stream",
     "text": [
      "Starting experimental run with id: 416\n"
     ]
    },
    {
     "data": {
      "application/vnd.jupyter.widget-view+json": {
       "model_id": "",
       "version_major": 2,
       "version_minor": 0
      },
      "text/plain": [
       "HBox(children=(IntProgress(value=0, max=243), HTML(value='')))"
      ]
     },
     "metadata": {},
     "output_type": "display_data"
    },
    {
     "name": "stdout",
     "output_type": "stream",
     "text": [
      "Starting experimental run with id: 417\n"
     ]
    },
    {
     "data": {
      "application/vnd.jupyter.widget-view+json": {
       "model_id": "",
       "version_major": 2,
       "version_minor": 0
      },
      "text/plain": [
       "HBox(children=(IntProgress(value=0, max=243), HTML(value='')))"
      ]
     },
     "metadata": {},
     "output_type": "display_data"
    },
    {
     "name": "stdout",
     "output_type": "stream",
     "text": [
      "Starting experimental run with id: 418\n"
     ]
    },
    {
     "data": {
      "application/vnd.jupyter.widget-view+json": {
       "model_id": "",
       "version_major": 2,
       "version_minor": 0
      },
      "text/plain": [
       "HBox(children=(IntProgress(value=0, max=243), HTML(value='')))"
      ]
     },
     "metadata": {},
     "output_type": "display_data"
    },
    {
     "name": "stdout",
     "output_type": "stream",
     "text": [
      "Starting experimental run with id: 419\n"
     ]
    },
    {
     "data": {
      "application/vnd.jupyter.widget-view+json": {
       "model_id": "",
       "version_major": 2,
       "version_minor": 0
      },
      "text/plain": [
       "HBox(children=(IntProgress(value=0, max=243), HTML(value='')))"
      ]
     },
     "metadata": {},
     "output_type": "display_data"
    },
    {
     "name": "stdout",
     "output_type": "stream",
     "text": [
      "Starting experimental run with id: 420\n"
     ]
    },
    {
     "data": {
      "application/vnd.jupyter.widget-view+json": {
       "model_id": "",
       "version_major": 2,
       "version_minor": 0
      },
      "text/plain": [
       "HBox(children=(IntProgress(value=0, max=243), HTML(value='')))"
      ]
     },
     "metadata": {},
     "output_type": "display_data"
    },
    {
     "name": "stdout",
     "output_type": "stream",
     "text": [
      "Starting experimental run with id: 421\n"
     ]
    },
    {
     "data": {
      "application/vnd.jupyter.widget-view+json": {
       "model_id": "",
       "version_major": 2,
       "version_minor": 0
      },
      "text/plain": [
       "HBox(children=(IntProgress(value=0, max=243), HTML(value='')))"
      ]
     },
     "metadata": {},
     "output_type": "display_data"
    },
    {
     "name": "stdout",
     "output_type": "stream",
     "text": [
      "Starting experimental run with id: 422\n"
     ]
    },
    {
     "data": {
      "application/vnd.jupyter.widget-view+json": {
       "model_id": "",
       "version_major": 2,
       "version_minor": 0
      },
      "text/plain": [
       "HBox(children=(IntProgress(value=0, max=243), HTML(value='')))"
      ]
     },
     "metadata": {},
     "output_type": "display_data"
    },
    {
     "name": "stdout",
     "output_type": "stream",
     "text": [
      "Starting experimental run with id: 423\n"
     ]
    },
    {
     "data": {
      "application/vnd.jupyter.widget-view+json": {
       "model_id": "",
       "version_major": 2,
       "version_minor": 0
      },
      "text/plain": [
       "HBox(children=(IntProgress(value=0, max=243), HTML(value='')))"
      ]
     },
     "metadata": {},
     "output_type": "display_data"
    },
    {
     "name": "stdout",
     "output_type": "stream",
     "text": [
      "Starting experimental run with id: 424\n"
     ]
    },
    {
     "data": {
      "application/vnd.jupyter.widget-view+json": {
       "model_id": "",
       "version_major": 2,
       "version_minor": 0
      },
      "text/plain": [
       "HBox(children=(IntProgress(value=0, max=243), HTML(value='')))"
      ]
     },
     "metadata": {},
     "output_type": "display_data"
    },
    {
     "name": "stdout",
     "output_type": "stream",
     "text": [
      "Starting experimental run with id: 425\n"
     ]
    },
    {
     "data": {
      "application/vnd.jupyter.widget-view+json": {
       "model_id": "",
       "version_major": 2,
       "version_minor": 0
      },
      "text/plain": [
       "HBox(children=(IntProgress(value=0, max=243), HTML(value='')))"
      ]
     },
     "metadata": {},
     "output_type": "display_data"
    },
    {
     "name": "stdout",
     "output_type": "stream",
     "text": [
      "Starting experimental run with id: 426\n"
     ]
    },
    {
     "data": {
      "application/vnd.jupyter.widget-view+json": {
       "model_id": "",
       "version_major": 2,
       "version_minor": 0
      },
      "text/plain": [
       "HBox(children=(IntProgress(value=0, max=243), HTML(value='')))"
      ]
     },
     "metadata": {},
     "output_type": "display_data"
    },
    {
     "name": "stdout",
     "output_type": "stream",
     "text": [
      "Starting experimental run with id: 427\n"
     ]
    },
    {
     "data": {
      "application/vnd.jupyter.widget-view+json": {
       "model_id": "",
       "version_major": 2,
       "version_minor": 0
      },
      "text/plain": [
       "HBox(children=(IntProgress(value=0, max=243), HTML(value='')))"
      ]
     },
     "metadata": {},
     "output_type": "display_data"
    },
    {
     "name": "stdout",
     "output_type": "stream",
     "text": [
      "Starting experimental run with id: 428\n"
     ]
    },
    {
     "data": {
      "application/vnd.jupyter.widget-view+json": {
       "model_id": "",
       "version_major": 2,
       "version_minor": 0
      },
      "text/plain": [
       "HBox(children=(IntProgress(value=0, max=243), HTML(value='')))"
      ]
     },
     "metadata": {},
     "output_type": "display_data"
    },
    {
     "name": "stdout",
     "output_type": "stream",
     "text": [
      "Starting experimental run with id: 429\n"
     ]
    },
    {
     "data": {
      "application/vnd.jupyter.widget-view+json": {
       "model_id": "",
       "version_major": 2,
       "version_minor": 0
      },
      "text/plain": [
       "HBox(children=(IntProgress(value=0, max=243), HTML(value='')))"
      ]
     },
     "metadata": {},
     "output_type": "display_data"
    },
    {
     "name": "stdout",
     "output_type": "stream",
     "text": [
      "Starting experimental run with id: 430\n"
     ]
    },
    {
     "data": {
      "application/vnd.jupyter.widget-view+json": {
       "model_id": "",
       "version_major": 2,
       "version_minor": 0
      },
      "text/plain": [
       "HBox(children=(IntProgress(value=0, max=243), HTML(value='')))"
      ]
     },
     "metadata": {},
     "output_type": "display_data"
    },
    {
     "name": "stdout",
     "output_type": "stream",
     "text": [
      "Starting experimental run with id: 431\n"
     ]
    },
    {
     "data": {
      "application/vnd.jupyter.widget-view+json": {
       "model_id": "",
       "version_major": 2,
       "version_minor": 0
      },
      "text/plain": [
       "HBox(children=(IntProgress(value=0, max=243), HTML(value='')))"
      ]
     },
     "metadata": {},
     "output_type": "display_data"
    },
    {
     "name": "stdout",
     "output_type": "stream",
     "text": [
      "Starting experimental run with id: 432\n"
     ]
    },
    {
     "data": {
      "application/vnd.jupyter.widget-view+json": {
       "model_id": "",
       "version_major": 2,
       "version_minor": 0
      },
      "text/plain": [
       "HBox(children=(IntProgress(value=0, max=243), HTML(value='')))"
      ]
     },
     "metadata": {},
     "output_type": "display_data"
    },
    {
     "name": "stdout",
     "output_type": "stream",
     "text": [
      "Starting experimental run with id: 433\n"
     ]
    },
    {
     "data": {
      "application/vnd.jupyter.widget-view+json": {
       "model_id": "",
       "version_major": 2,
       "version_minor": 0
      },
      "text/plain": [
       "HBox(children=(IntProgress(value=0, max=243), HTML(value='')))"
      ]
     },
     "metadata": {},
     "output_type": "display_data"
    },
    {
     "name": "stdout",
     "output_type": "stream",
     "text": [
      "Starting experimental run with id: 434\n"
     ]
    },
    {
     "data": {
      "application/vnd.jupyter.widget-view+json": {
       "model_id": "",
       "version_major": 2,
       "version_minor": 0
      },
      "text/plain": [
       "HBox(children=(IntProgress(value=0, max=243), HTML(value='')))"
      ]
     },
     "metadata": {},
     "output_type": "display_data"
    },
    {
     "name": "stdout",
     "output_type": "stream",
     "text": [
      "Starting experimental run with id: 435\n"
     ]
    },
    {
     "data": {
      "application/vnd.jupyter.widget-view+json": {
       "model_id": "",
       "version_major": 2,
       "version_minor": 0
      },
      "text/plain": [
       "HBox(children=(IntProgress(value=0, max=243), HTML(value='')))"
      ]
     },
     "metadata": {},
     "output_type": "display_data"
    },
    {
     "name": "stdout",
     "output_type": "stream",
     "text": [
      "Starting experimental run with id: 436\n"
     ]
    },
    {
     "data": {
      "application/vnd.jupyter.widget-view+json": {
       "model_id": "",
       "version_major": 2,
       "version_minor": 0
      },
      "text/plain": [
       "HBox(children=(IntProgress(value=0, max=243), HTML(value='')))"
      ]
     },
     "metadata": {},
     "output_type": "display_data"
    },
    {
     "name": "stdout",
     "output_type": "stream",
     "text": [
      "Starting experimental run with id: 437\n"
     ]
    },
    {
     "data": {
      "application/vnd.jupyter.widget-view+json": {
       "model_id": "",
       "version_major": 2,
       "version_minor": 0
      },
      "text/plain": [
       "HBox(children=(IntProgress(value=0, max=243), HTML(value='')))"
      ]
     },
     "metadata": {},
     "output_type": "display_data"
    },
    {
     "name": "stdout",
     "output_type": "stream",
     "text": [
      "Starting experimental run with id: 438\n"
     ]
    },
    {
     "data": {
      "application/vnd.jupyter.widget-view+json": {
       "model_id": "",
       "version_major": 2,
       "version_minor": 0
      },
      "text/plain": [
       "HBox(children=(IntProgress(value=0, max=243), HTML(value='')))"
      ]
     },
     "metadata": {},
     "output_type": "display_data"
    },
    {
     "name": "stdout",
     "output_type": "stream",
     "text": [
      "Starting experimental run with id: 439\n"
     ]
    },
    {
     "data": {
      "application/vnd.jupyter.widget-view+json": {
       "model_id": "",
       "version_major": 2,
       "version_minor": 0
      },
      "text/plain": [
       "HBox(children=(IntProgress(value=0, max=243), HTML(value='')))"
      ]
     },
     "metadata": {},
     "output_type": "display_data"
    },
    {
     "name": "stdout",
     "output_type": "stream",
     "text": [
      "Starting experimental run with id: 440\n"
     ]
    },
    {
     "data": {
      "application/vnd.jupyter.widget-view+json": {
       "model_id": "",
       "version_major": 2,
       "version_minor": 0
      },
      "text/plain": [
       "HBox(children=(IntProgress(value=0, max=243), HTML(value='')))"
      ]
     },
     "metadata": {},
     "output_type": "display_data"
    },
    {
     "name": "stdout",
     "output_type": "stream",
     "text": [
      "Starting experimental run with id: 441\n"
     ]
    },
    {
     "data": {
      "application/vnd.jupyter.widget-view+json": {
       "model_id": "",
       "version_major": 2,
       "version_minor": 0
      },
      "text/plain": [
       "HBox(children=(IntProgress(value=0, max=243), HTML(value='')))"
      ]
     },
     "metadata": {},
     "output_type": "display_data"
    },
    {
     "name": "stdout",
     "output_type": "stream",
     "text": [
      "Starting experimental run with id: 442\n"
     ]
    },
    {
     "data": {
      "application/vnd.jupyter.widget-view+json": {
       "model_id": "",
       "version_major": 2,
       "version_minor": 0
      },
      "text/plain": [
       "HBox(children=(IntProgress(value=0, max=243), HTML(value='')))"
      ]
     },
     "metadata": {},
     "output_type": "display_data"
    },
    {
     "name": "stdout",
     "output_type": "stream",
     "text": [
      "Starting experimental run with id: 443\n"
     ]
    },
    {
     "data": {
      "application/vnd.jupyter.widget-view+json": {
       "model_id": "",
       "version_major": 2,
       "version_minor": 0
      },
      "text/plain": [
       "HBox(children=(IntProgress(value=0, max=243), HTML(value='')))"
      ]
     },
     "metadata": {},
     "output_type": "display_data"
    },
    {
     "name": "stdout",
     "output_type": "stream",
     "text": [
      "Starting experimental run with id: 444\n"
     ]
    },
    {
     "data": {
      "application/vnd.jupyter.widget-view+json": {
       "model_id": "",
       "version_major": 2,
       "version_minor": 0
      },
      "text/plain": [
       "HBox(children=(IntProgress(value=0, max=243), HTML(value='')))"
      ]
     },
     "metadata": {},
     "output_type": "display_data"
    },
    {
     "name": "stdout",
     "output_type": "stream",
     "text": [
      "Starting experimental run with id: 445\n"
     ]
    },
    {
     "data": {
      "application/vnd.jupyter.widget-view+json": {
       "model_id": "",
       "version_major": 2,
       "version_minor": 0
      },
      "text/plain": [
       "HBox(children=(IntProgress(value=0, max=243), HTML(value='')))"
      ]
     },
     "metadata": {},
     "output_type": "display_data"
    },
    {
     "name": "stdout",
     "output_type": "stream",
     "text": [
      "Starting experimental run with id: 446\n"
     ]
    },
    {
     "data": {
      "application/vnd.jupyter.widget-view+json": {
       "model_id": "",
       "version_major": 2,
       "version_minor": 0
      },
      "text/plain": [
       "HBox(children=(IntProgress(value=0, max=243), HTML(value='')))"
      ]
     },
     "metadata": {},
     "output_type": "display_data"
    },
    {
     "name": "stdout",
     "output_type": "stream",
     "text": [
      "Starting experimental run with id: 447\n"
     ]
    },
    {
     "data": {
      "application/vnd.jupyter.widget-view+json": {
       "model_id": "",
       "version_major": 2,
       "version_minor": 0
      },
      "text/plain": [
       "HBox(children=(IntProgress(value=0, max=243), HTML(value='')))"
      ]
     },
     "metadata": {},
     "output_type": "display_data"
    },
    {
     "name": "stdout",
     "output_type": "stream",
     "text": [
      "Starting experimental run with id: 448\n"
     ]
    },
    {
     "data": {
      "application/vnd.jupyter.widget-view+json": {
       "model_id": "",
       "version_major": 2,
       "version_minor": 0
      },
      "text/plain": [
       "HBox(children=(IntProgress(value=0, max=243), HTML(value='')))"
      ]
     },
     "metadata": {},
     "output_type": "display_data"
    },
    {
     "name": "stdout",
     "output_type": "stream",
     "text": [
      "Starting experimental run with id: 449\n"
     ]
    },
    {
     "data": {
      "application/vnd.jupyter.widget-view+json": {
       "model_id": "",
       "version_major": 2,
       "version_minor": 0
      },
      "text/plain": [
       "HBox(children=(IntProgress(value=0, max=243), HTML(value='')))"
      ]
     },
     "metadata": {},
     "output_type": "display_data"
    },
    {
     "name": "stdout",
     "output_type": "stream",
     "text": [
      "Starting experimental run with id: 450\n"
     ]
    },
    {
     "data": {
      "application/vnd.jupyter.widget-view+json": {
       "model_id": "",
       "version_major": 2,
       "version_minor": 0
      },
      "text/plain": [
       "HBox(children=(IntProgress(value=0, max=243), HTML(value='')))"
      ]
     },
     "metadata": {},
     "output_type": "display_data"
    },
    {
     "name": "stdout",
     "output_type": "stream",
     "text": [
      "Starting experimental run with id: 451\n"
     ]
    },
    {
     "data": {
      "application/vnd.jupyter.widget-view+json": {
       "model_id": "",
       "version_major": 2,
       "version_minor": 0
      },
      "text/plain": [
       "HBox(children=(IntProgress(value=0, max=243), HTML(value='')))"
      ]
     },
     "metadata": {},
     "output_type": "display_data"
    },
    {
     "name": "stdout",
     "output_type": "stream",
     "text": [
      "Starting experimental run with id: 452\n"
     ]
    },
    {
     "data": {
      "application/vnd.jupyter.widget-view+json": {
       "model_id": "",
       "version_major": 2,
       "version_minor": 0
      },
      "text/plain": [
       "HBox(children=(IntProgress(value=0, max=243), HTML(value='')))"
      ]
     },
     "metadata": {},
     "output_type": "display_data"
    },
    {
     "name": "stdout",
     "output_type": "stream",
     "text": [
      "Starting experimental run with id: 453\n"
     ]
    },
    {
     "data": {
      "application/vnd.jupyter.widget-view+json": {
       "model_id": "",
       "version_major": 2,
       "version_minor": 0
      },
      "text/plain": [
       "HBox(children=(IntProgress(value=0, max=243), HTML(value='')))"
      ]
     },
     "metadata": {},
     "output_type": "display_data"
    },
    {
     "name": "stdout",
     "output_type": "stream",
     "text": [
      "Starting experimental run with id: 454\n"
     ]
    },
    {
     "data": {
      "application/vnd.jupyter.widget-view+json": {
       "model_id": "",
       "version_major": 2,
       "version_minor": 0
      },
      "text/plain": [
       "HBox(children=(IntProgress(value=0, max=243), HTML(value='')))"
      ]
     },
     "metadata": {},
     "output_type": "display_data"
    },
    {
     "name": "stdout",
     "output_type": "stream",
     "text": [
      "Starting experimental run with id: 455\n"
     ]
    },
    {
     "data": {
      "application/vnd.jupyter.widget-view+json": {
       "model_id": "",
       "version_major": 2,
       "version_minor": 0
      },
      "text/plain": [
       "HBox(children=(IntProgress(value=0, max=243), HTML(value='')))"
      ]
     },
     "metadata": {},
     "output_type": "display_data"
    },
    {
     "name": "stdout",
     "output_type": "stream",
     "text": [
      "Starting experimental run with id: 456\n"
     ]
    },
    {
     "data": {
      "application/vnd.jupyter.widget-view+json": {
       "model_id": "",
       "version_major": 2,
       "version_minor": 0
      },
      "text/plain": [
       "HBox(children=(IntProgress(value=0, max=243), HTML(value='')))"
      ]
     },
     "metadata": {},
     "output_type": "display_data"
    },
    {
     "name": "stdout",
     "output_type": "stream",
     "text": [
      "Starting experimental run with id: 457\n"
     ]
    },
    {
     "data": {
      "application/vnd.jupyter.widget-view+json": {
       "model_id": "",
       "version_major": 2,
       "version_minor": 0
      },
      "text/plain": [
       "HBox(children=(IntProgress(value=0, max=243), HTML(value='')))"
      ]
     },
     "metadata": {},
     "output_type": "display_data"
    },
    {
     "name": "stdout",
     "output_type": "stream",
     "text": [
      "Starting experimental run with id: 458\n"
     ]
    },
    {
     "data": {
      "application/vnd.jupyter.widget-view+json": {
       "model_id": "",
       "version_major": 2,
       "version_minor": 0
      },
      "text/plain": [
       "HBox(children=(IntProgress(value=0, max=243), HTML(value='')))"
      ]
     },
     "metadata": {},
     "output_type": "display_data"
    },
    {
     "name": "stdout",
     "output_type": "stream",
     "text": [
      "Starting experimental run with id: 459\n"
     ]
    },
    {
     "data": {
      "application/vnd.jupyter.widget-view+json": {
       "model_id": "",
       "version_major": 2,
       "version_minor": 0
      },
      "text/plain": [
       "HBox(children=(IntProgress(value=0, max=243), HTML(value='')))"
      ]
     },
     "metadata": {},
     "output_type": "display_data"
    },
    {
     "name": "stdout",
     "output_type": "stream",
     "text": [
      "Starting experimental run with id: 460\n"
     ]
    },
    {
     "data": {
      "application/vnd.jupyter.widget-view+json": {
       "model_id": "",
       "version_major": 2,
       "version_minor": 0
      },
      "text/plain": [
       "HBox(children=(IntProgress(value=0, max=243), HTML(value='')))"
      ]
     },
     "metadata": {},
     "output_type": "display_data"
    },
    {
     "name": "stdout",
     "output_type": "stream",
     "text": [
      "Starting experimental run with id: 461\n"
     ]
    },
    {
     "data": {
      "application/vnd.jupyter.widget-view+json": {
       "model_id": "",
       "version_major": 2,
       "version_minor": 0
      },
      "text/plain": [
       "HBox(children=(IntProgress(value=0, max=243), HTML(value='')))"
      ]
     },
     "metadata": {},
     "output_type": "display_data"
    },
    {
     "name": "stdout",
     "output_type": "stream",
     "text": [
      "Starting experimental run with id: 462\n"
     ]
    },
    {
     "data": {
      "application/vnd.jupyter.widget-view+json": {
       "model_id": "",
       "version_major": 2,
       "version_minor": 0
      },
      "text/plain": [
       "HBox(children=(IntProgress(value=0, max=243), HTML(value='')))"
      ]
     },
     "metadata": {},
     "output_type": "display_data"
    },
    {
     "name": "stdout",
     "output_type": "stream",
     "text": [
      "Starting experimental run with id: 463\n"
     ]
    },
    {
     "data": {
      "application/vnd.jupyter.widget-view+json": {
       "model_id": "",
       "version_major": 2,
       "version_minor": 0
      },
      "text/plain": [
       "HBox(children=(IntProgress(value=0, max=243), HTML(value='')))"
      ]
     },
     "metadata": {},
     "output_type": "display_data"
    },
    {
     "name": "stdout",
     "output_type": "stream",
     "text": [
      "Starting experimental run with id: 464\n"
     ]
    },
    {
     "data": {
      "application/vnd.jupyter.widget-view+json": {
       "model_id": "",
       "version_major": 2,
       "version_minor": 0
      },
      "text/plain": [
       "HBox(children=(IntProgress(value=0, max=243), HTML(value='')))"
      ]
     },
     "metadata": {},
     "output_type": "display_data"
    },
    {
     "name": "stdout",
     "output_type": "stream",
     "text": [
      "Starting experimental run with id: 465\n"
     ]
    },
    {
     "data": {
      "application/vnd.jupyter.widget-view+json": {
       "model_id": "",
       "version_major": 2,
       "version_minor": 0
      },
      "text/plain": [
       "HBox(children=(IntProgress(value=0, max=243), HTML(value='')))"
      ]
     },
     "metadata": {},
     "output_type": "display_data"
    },
    {
     "name": "stdout",
     "output_type": "stream",
     "text": [
      "Starting experimental run with id: 466\n"
     ]
    },
    {
     "data": {
      "application/vnd.jupyter.widget-view+json": {
       "model_id": "",
       "version_major": 2,
       "version_minor": 0
      },
      "text/plain": [
       "HBox(children=(IntProgress(value=0, max=243), HTML(value='')))"
      ]
     },
     "metadata": {},
     "output_type": "display_data"
    },
    {
     "name": "stdout",
     "output_type": "stream",
     "text": [
      "Starting experimental run with id: 467\n"
     ]
    },
    {
     "data": {
      "application/vnd.jupyter.widget-view+json": {
       "model_id": "",
       "version_major": 2,
       "version_minor": 0
      },
      "text/plain": [
       "HBox(children=(IntProgress(value=0, max=243), HTML(value='')))"
      ]
     },
     "metadata": {},
     "output_type": "display_data"
    },
    {
     "name": "stdout",
     "output_type": "stream",
     "text": [
      "Starting experimental run with id: 468\n"
     ]
    },
    {
     "data": {
      "application/vnd.jupyter.widget-view+json": {
       "model_id": "",
       "version_major": 2,
       "version_minor": 0
      },
      "text/plain": [
       "HBox(children=(IntProgress(value=0, max=243), HTML(value='')))"
      ]
     },
     "metadata": {},
     "output_type": "display_data"
    },
    {
     "name": "stdout",
     "output_type": "stream",
     "text": [
      "Starting experimental run with id: 469\n"
     ]
    },
    {
     "data": {
      "application/vnd.jupyter.widget-view+json": {
       "model_id": "",
       "version_major": 2,
       "version_minor": 0
      },
      "text/plain": [
       "HBox(children=(IntProgress(value=0, max=243), HTML(value='')))"
      ]
     },
     "metadata": {},
     "output_type": "display_data"
    },
    {
     "name": "stdout",
     "output_type": "stream",
     "text": [
      "Starting experimental run with id: 470\n"
     ]
    },
    {
     "data": {
      "application/vnd.jupyter.widget-view+json": {
       "model_id": "",
       "version_major": 2,
       "version_minor": 0
      },
      "text/plain": [
       "HBox(children=(IntProgress(value=0, max=243), HTML(value='')))"
      ]
     },
     "metadata": {},
     "output_type": "display_data"
    },
    {
     "name": "stdout",
     "output_type": "stream",
     "text": [
      "Starting experimental run with id: 471\n"
     ]
    },
    {
     "data": {
      "application/vnd.jupyter.widget-view+json": {
       "model_id": "",
       "version_major": 2,
       "version_minor": 0
      },
      "text/plain": [
       "HBox(children=(IntProgress(value=0, max=243), HTML(value='')))"
      ]
     },
     "metadata": {},
     "output_type": "display_data"
    },
    {
     "name": "stdout",
     "output_type": "stream",
     "text": [
      "Starting experimental run with id: 472\n"
     ]
    },
    {
     "data": {
      "application/vnd.jupyter.widget-view+json": {
       "model_id": "",
       "version_major": 2,
       "version_minor": 0
      },
      "text/plain": [
       "HBox(children=(IntProgress(value=0, max=243), HTML(value='')))"
      ]
     },
     "metadata": {},
     "output_type": "display_data"
    },
    {
     "name": "stdout",
     "output_type": "stream",
     "text": [
      "Starting experimental run with id: 473\n"
     ]
    },
    {
     "data": {
      "application/vnd.jupyter.widget-view+json": {
       "model_id": "",
       "version_major": 2,
       "version_minor": 0
      },
      "text/plain": [
       "HBox(children=(IntProgress(value=0, max=243), HTML(value='')))"
      ]
     },
     "metadata": {},
     "output_type": "display_data"
    },
    {
     "name": "stdout",
     "output_type": "stream",
     "text": [
      "Starting experimental run with id: 474\n"
     ]
    },
    {
     "data": {
      "application/vnd.jupyter.widget-view+json": {
       "model_id": "",
       "version_major": 2,
       "version_minor": 0
      },
      "text/plain": [
       "HBox(children=(IntProgress(value=0, max=243), HTML(value='')))"
      ]
     },
     "metadata": {},
     "output_type": "display_data"
    },
    {
     "name": "stdout",
     "output_type": "stream",
     "text": [
      "Starting experimental run with id: 475\n"
     ]
    },
    {
     "data": {
      "application/vnd.jupyter.widget-view+json": {
       "model_id": "",
       "version_major": 2,
       "version_minor": 0
      },
      "text/plain": [
       "HBox(children=(IntProgress(value=0, max=243), HTML(value='')))"
      ]
     },
     "metadata": {},
     "output_type": "display_data"
    },
    {
     "name": "stdout",
     "output_type": "stream",
     "text": [
      "Starting experimental run with id: 476\n"
     ]
    },
    {
     "data": {
      "application/vnd.jupyter.widget-view+json": {
       "model_id": "",
       "version_major": 2,
       "version_minor": 0
      },
      "text/plain": [
       "HBox(children=(IntProgress(value=0, max=243), HTML(value='')))"
      ]
     },
     "metadata": {},
     "output_type": "display_data"
    },
    {
     "name": "stdout",
     "output_type": "stream",
     "text": [
      "Starting experimental run with id: 477\n"
     ]
    },
    {
     "data": {
      "application/vnd.jupyter.widget-view+json": {
       "model_id": "",
       "version_major": 2,
       "version_minor": 0
      },
      "text/plain": [
       "HBox(children=(IntProgress(value=0, max=243), HTML(value='')))"
      ]
     },
     "metadata": {},
     "output_type": "display_data"
    },
    {
     "name": "stdout",
     "output_type": "stream",
     "text": [
      "Starting experimental run with id: 478\n"
     ]
    },
    {
     "data": {
      "application/vnd.jupyter.widget-view+json": {
       "model_id": "",
       "version_major": 2,
       "version_minor": 0
      },
      "text/plain": [
       "HBox(children=(IntProgress(value=0, max=243), HTML(value='')))"
      ]
     },
     "metadata": {},
     "output_type": "display_data"
    },
    {
     "name": "stdout",
     "output_type": "stream",
     "text": [
      "Starting experimental run with id: 479\n"
     ]
    },
    {
     "data": {
      "application/vnd.jupyter.widget-view+json": {
       "model_id": "",
       "version_major": 2,
       "version_minor": 0
      },
      "text/plain": [
       "HBox(children=(IntProgress(value=0, max=243), HTML(value='')))"
      ]
     },
     "metadata": {},
     "output_type": "display_data"
    },
    {
     "name": "stdout",
     "output_type": "stream",
     "text": [
      "Starting experimental run with id: 480\n"
     ]
    },
    {
     "data": {
      "application/vnd.jupyter.widget-view+json": {
       "model_id": "",
       "version_major": 2,
       "version_minor": 0
      },
      "text/plain": [
       "HBox(children=(IntProgress(value=0, max=243), HTML(value='')))"
      ]
     },
     "metadata": {},
     "output_type": "display_data"
    },
    {
     "name": "stdout",
     "output_type": "stream",
     "text": [
      "Starting experimental run with id: 481\n"
     ]
    },
    {
     "data": {
      "application/vnd.jupyter.widget-view+json": {
       "model_id": "",
       "version_major": 2,
       "version_minor": 0
      },
      "text/plain": [
       "HBox(children=(IntProgress(value=0, max=243), HTML(value='')))"
      ]
     },
     "metadata": {},
     "output_type": "display_data"
    },
    {
     "name": "stdout",
     "output_type": "stream",
     "text": [
      "Starting experimental run with id: 482\n"
     ]
    },
    {
     "data": {
      "application/vnd.jupyter.widget-view+json": {
       "model_id": "",
       "version_major": 2,
       "version_minor": 0
      },
      "text/plain": [
       "HBox(children=(IntProgress(value=0, max=243), HTML(value='')))"
      ]
     },
     "metadata": {},
     "output_type": "display_data"
    },
    {
     "name": "stdout",
     "output_type": "stream",
     "text": [
      "Starting experimental run with id: 483\n"
     ]
    },
    {
     "data": {
      "application/vnd.jupyter.widget-view+json": {
       "model_id": "",
       "version_major": 2,
       "version_minor": 0
      },
      "text/plain": [
       "HBox(children=(IntProgress(value=0, max=243), HTML(value='')))"
      ]
     },
     "metadata": {},
     "output_type": "display_data"
    },
    {
     "name": "stdout",
     "output_type": "stream",
     "text": [
      "Starting experimental run with id: 484\n"
     ]
    },
    {
     "data": {
      "application/vnd.jupyter.widget-view+json": {
       "model_id": "",
       "version_major": 2,
       "version_minor": 0
      },
      "text/plain": [
       "HBox(children=(IntProgress(value=0, max=243), HTML(value='')))"
      ]
     },
     "metadata": {},
     "output_type": "display_data"
    },
    {
     "name": "stdout",
     "output_type": "stream",
     "text": [
      "Starting experimental run with id: 485\n"
     ]
    },
    {
     "data": {
      "application/vnd.jupyter.widget-view+json": {
       "model_id": "",
       "version_major": 2,
       "version_minor": 0
      },
      "text/plain": [
       "HBox(children=(IntProgress(value=0, max=243), HTML(value='')))"
      ]
     },
     "metadata": {},
     "output_type": "display_data"
    },
    {
     "name": "stdout",
     "output_type": "stream",
     "text": [
      "Starting experimental run with id: 486\n"
     ]
    },
    {
     "data": {
      "application/vnd.jupyter.widget-view+json": {
       "model_id": "",
       "version_major": 2,
       "version_minor": 0
      },
      "text/plain": [
       "HBox(children=(IntProgress(value=0, max=243), HTML(value='')))"
      ]
     },
     "metadata": {},
     "output_type": "display_data"
    },
    {
     "name": "stdout",
     "output_type": "stream",
     "text": [
      "Starting experimental run with id: 487\n"
     ]
    },
    {
     "data": {
      "application/vnd.jupyter.widget-view+json": {
       "model_id": "",
       "version_major": 2,
       "version_minor": 0
      },
      "text/plain": [
       "HBox(children=(IntProgress(value=0, max=243), HTML(value='')))"
      ]
     },
     "metadata": {},
     "output_type": "display_data"
    },
    {
     "name": "stdout",
     "output_type": "stream",
     "text": [
      "Starting experimental run with id: 488\n"
     ]
    },
    {
     "data": {
      "application/vnd.jupyter.widget-view+json": {
       "model_id": "",
       "version_major": 2,
       "version_minor": 0
      },
      "text/plain": [
       "HBox(children=(IntProgress(value=0, max=243), HTML(value='')))"
      ]
     },
     "metadata": {},
     "output_type": "display_data"
    },
    {
     "name": "stdout",
     "output_type": "stream",
     "text": [
      "Starting experimental run with id: 489\n"
     ]
    },
    {
     "data": {
      "application/vnd.jupyter.widget-view+json": {
       "model_id": "",
       "version_major": 2,
       "version_minor": 0
      },
      "text/plain": [
       "HBox(children=(IntProgress(value=0, max=243), HTML(value='')))"
      ]
     },
     "metadata": {},
     "output_type": "display_data"
    },
    {
     "name": "stdout",
     "output_type": "stream",
     "text": [
      "Starting experimental run with id: 490\n"
     ]
    },
    {
     "data": {
      "application/vnd.jupyter.widget-view+json": {
       "model_id": "",
       "version_major": 2,
       "version_minor": 0
      },
      "text/plain": [
       "HBox(children=(IntProgress(value=0, max=243), HTML(value='')))"
      ]
     },
     "metadata": {},
     "output_type": "display_data"
    },
    {
     "name": "stdout",
     "output_type": "stream",
     "text": [
      "Starting experimental run with id: 491\n"
     ]
    },
    {
     "data": {
      "application/vnd.jupyter.widget-view+json": {
       "model_id": "",
       "version_major": 2,
       "version_minor": 0
      },
      "text/plain": [
       "HBox(children=(IntProgress(value=0, max=243), HTML(value='')))"
      ]
     },
     "metadata": {},
     "output_type": "display_data"
    },
    {
     "name": "stdout",
     "output_type": "stream",
     "text": [
      "Starting experimental run with id: 492\n"
     ]
    },
    {
     "data": {
      "application/vnd.jupyter.widget-view+json": {
       "model_id": "",
       "version_major": 2,
       "version_minor": 0
      },
      "text/plain": [
       "HBox(children=(IntProgress(value=0, max=243), HTML(value='')))"
      ]
     },
     "metadata": {},
     "output_type": "display_data"
    },
    {
     "name": "stdout",
     "output_type": "stream",
     "text": [
      "Starting experimental run with id: 493\n"
     ]
    },
    {
     "data": {
      "application/vnd.jupyter.widget-view+json": {
       "model_id": "",
       "version_major": 2,
       "version_minor": 0
      },
      "text/plain": [
       "HBox(children=(IntProgress(value=0, max=243), HTML(value='')))"
      ]
     },
     "metadata": {},
     "output_type": "display_data"
    },
    {
     "name": "stdout",
     "output_type": "stream",
     "text": [
      "Starting experimental run with id: 494\n"
     ]
    },
    {
     "data": {
      "application/vnd.jupyter.widget-view+json": {
       "model_id": "",
       "version_major": 2,
       "version_minor": 0
      },
      "text/plain": [
       "HBox(children=(IntProgress(value=0, max=243), HTML(value='')))"
      ]
     },
     "metadata": {},
     "output_type": "display_data"
    },
    {
     "name": "stdout",
     "output_type": "stream",
     "text": [
      "Starting experimental run with id: 495\n"
     ]
    },
    {
     "data": {
      "application/vnd.jupyter.widget-view+json": {
       "model_id": "",
       "version_major": 2,
       "version_minor": 0
      },
      "text/plain": [
       "HBox(children=(IntProgress(value=0, max=243), HTML(value='')))"
      ]
     },
     "metadata": {},
     "output_type": "display_data"
    },
    {
     "name": "stdout",
     "output_type": "stream",
     "text": [
      "Starting experimental run with id: 496\n"
     ]
    },
    {
     "data": {
      "application/vnd.jupyter.widget-view+json": {
       "model_id": "",
       "version_major": 2,
       "version_minor": 0
      },
      "text/plain": [
       "HBox(children=(IntProgress(value=0, max=243), HTML(value='')))"
      ]
     },
     "metadata": {},
     "output_type": "display_data"
    },
    {
     "name": "stdout",
     "output_type": "stream",
     "text": [
      "Starting experimental run with id: 497\n"
     ]
    },
    {
     "data": {
      "application/vnd.jupyter.widget-view+json": {
       "model_id": "",
       "version_major": 2,
       "version_minor": 0
      },
      "text/plain": [
       "HBox(children=(IntProgress(value=0, max=243), HTML(value='')))"
      ]
     },
     "metadata": {},
     "output_type": "display_data"
    },
    {
     "name": "stdout",
     "output_type": "stream",
     "text": [
      "Starting experimental run with id: 498\n"
     ]
    },
    {
     "data": {
      "application/vnd.jupyter.widget-view+json": {
       "model_id": "",
       "version_major": 2,
       "version_minor": 0
      },
      "text/plain": [
       "HBox(children=(IntProgress(value=0, max=243), HTML(value='')))"
      ]
     },
     "metadata": {},
     "output_type": "display_data"
    },
    {
     "name": "stdout",
     "output_type": "stream",
     "text": [
      "Starting experimental run with id: 499\n"
     ]
    },
    {
     "data": {
      "application/vnd.jupyter.widget-view+json": {
       "model_id": "",
       "version_major": 2,
       "version_minor": 0
      },
      "text/plain": [
       "HBox(children=(IntProgress(value=0, max=243), HTML(value='')))"
      ]
     },
     "metadata": {},
     "output_type": "display_data"
    },
    {
     "name": "stdout",
     "output_type": "stream",
     "text": [
      "Starting experimental run with id: 500\n"
     ]
    },
    {
     "data": {
      "application/vnd.jupyter.widget-view+json": {
       "model_id": "",
       "version_major": 2,
       "version_minor": 0
      },
      "text/plain": [
       "HBox(children=(IntProgress(value=0, max=243), HTML(value='')))"
      ]
     },
     "metadata": {},
     "output_type": "display_data"
    },
    {
     "name": "stdout",
     "output_type": "stream",
     "text": [
      "Starting experimental run with id: 501\n"
     ]
    },
    {
     "data": {
      "application/vnd.jupyter.widget-view+json": {
       "model_id": "",
       "version_major": 2,
       "version_minor": 0
      },
      "text/plain": [
       "HBox(children=(IntProgress(value=0, max=243), HTML(value='')))"
      ]
     },
     "metadata": {},
     "output_type": "display_data"
    },
    {
     "name": "stdout",
     "output_type": "stream",
     "text": [
      "Starting experimental run with id: 502\n"
     ]
    },
    {
     "data": {
      "application/vnd.jupyter.widget-view+json": {
       "model_id": "",
       "version_major": 2,
       "version_minor": 0
      },
      "text/plain": [
       "HBox(children=(IntProgress(value=0, max=243), HTML(value='')))"
      ]
     },
     "metadata": {},
     "output_type": "display_data"
    },
    {
     "name": "stdout",
     "output_type": "stream",
     "text": [
      "Starting experimental run with id: 503\n"
     ]
    },
    {
     "data": {
      "application/vnd.jupyter.widget-view+json": {
       "model_id": "",
       "version_major": 2,
       "version_minor": 0
      },
      "text/plain": [
       "HBox(children=(IntProgress(value=0, max=243), HTML(value='')))"
      ]
     },
     "metadata": {},
     "output_type": "display_data"
    },
    {
     "name": "stdout",
     "output_type": "stream",
     "text": [
      "Starting experimental run with id: 504\n"
     ]
    },
    {
     "data": {
      "application/vnd.jupyter.widget-view+json": {
       "model_id": "",
       "version_major": 2,
       "version_minor": 0
      },
      "text/plain": [
       "HBox(children=(IntProgress(value=0, max=243), HTML(value='')))"
      ]
     },
     "metadata": {},
     "output_type": "display_data"
    },
    {
     "name": "stdout",
     "output_type": "stream",
     "text": [
      "Starting experimental run with id: 505\n"
     ]
    },
    {
     "data": {
      "application/vnd.jupyter.widget-view+json": {
       "model_id": "",
       "version_major": 2,
       "version_minor": 0
      },
      "text/plain": [
       "HBox(children=(IntProgress(value=0, max=243), HTML(value='')))"
      ]
     },
     "metadata": {},
     "output_type": "display_data"
    },
    {
     "name": "stdout",
     "output_type": "stream",
     "text": [
      "Starting experimental run with id: 506\n"
     ]
    },
    {
     "data": {
      "application/vnd.jupyter.widget-view+json": {
       "model_id": "",
       "version_major": 2,
       "version_minor": 0
      },
      "text/plain": [
       "HBox(children=(IntProgress(value=0, max=243), HTML(value='')))"
      ]
     },
     "metadata": {},
     "output_type": "display_data"
    },
    {
     "name": "stdout",
     "output_type": "stream",
     "text": [
      "Starting experimental run with id: 507\n"
     ]
    },
    {
     "data": {
      "application/vnd.jupyter.widget-view+json": {
       "model_id": "",
       "version_major": 2,
       "version_minor": 0
      },
      "text/plain": [
       "HBox(children=(IntProgress(value=0, max=243), HTML(value='')))"
      ]
     },
     "metadata": {},
     "output_type": "display_data"
    },
    {
     "name": "stdout",
     "output_type": "stream",
     "text": [
      "Starting experimental run with id: 508\n"
     ]
    },
    {
     "data": {
      "application/vnd.jupyter.widget-view+json": {
       "model_id": "",
       "version_major": 2,
       "version_minor": 0
      },
      "text/plain": [
       "HBox(children=(IntProgress(value=0, max=243), HTML(value='')))"
      ]
     },
     "metadata": {},
     "output_type": "display_data"
    },
    {
     "name": "stdout",
     "output_type": "stream",
     "text": [
      "Starting experimental run with id: 509\n"
     ]
    },
    {
     "data": {
      "application/vnd.jupyter.widget-view+json": {
       "model_id": "",
       "version_major": 2,
       "version_minor": 0
      },
      "text/plain": [
       "HBox(children=(IntProgress(value=0, max=243), HTML(value='')))"
      ]
     },
     "metadata": {},
     "output_type": "display_data"
    },
    {
     "name": "stdout",
     "output_type": "stream",
     "text": [
      "Starting experimental run with id: 510\n"
     ]
    },
    {
     "data": {
      "application/vnd.jupyter.widget-view+json": {
       "model_id": "",
       "version_major": 2,
       "version_minor": 0
      },
      "text/plain": [
       "HBox(children=(IntProgress(value=0, max=243), HTML(value='')))"
      ]
     },
     "metadata": {},
     "output_type": "display_data"
    },
    {
     "name": "stdout",
     "output_type": "stream",
     "text": [
      "Starting experimental run with id: 511\n"
     ]
    },
    {
     "data": {
      "application/vnd.jupyter.widget-view+json": {
       "model_id": "",
       "version_major": 2,
       "version_minor": 0
      },
      "text/plain": [
       "HBox(children=(IntProgress(value=0, max=243), HTML(value='')))"
      ]
     },
     "metadata": {},
     "output_type": "display_data"
    },
    {
     "name": "stdout",
     "output_type": "stream",
     "text": [
      "Starting experimental run with id: 512\n"
     ]
    },
    {
     "data": {
      "application/vnd.jupyter.widget-view+json": {
       "model_id": "",
       "version_major": 2,
       "version_minor": 0
      },
      "text/plain": [
       "HBox(children=(IntProgress(value=0, max=243), HTML(value='')))"
      ]
     },
     "metadata": {},
     "output_type": "display_data"
    },
    {
     "name": "stdout",
     "output_type": "stream",
     "text": [
      "Starting experimental run with id: 513\n"
     ]
    },
    {
     "data": {
      "application/vnd.jupyter.widget-view+json": {
       "model_id": "",
       "version_major": 2,
       "version_minor": 0
      },
      "text/plain": [
       "HBox(children=(IntProgress(value=0, max=243), HTML(value='')))"
      ]
     },
     "metadata": {},
     "output_type": "display_data"
    },
    {
     "name": "stdout",
     "output_type": "stream",
     "text": [
      "Starting experimental run with id: 514\n"
     ]
    },
    {
     "data": {
      "application/vnd.jupyter.widget-view+json": {
       "model_id": "",
       "version_major": 2,
       "version_minor": 0
      },
      "text/plain": [
       "HBox(children=(IntProgress(value=0, max=243), HTML(value='')))"
      ]
     },
     "metadata": {},
     "output_type": "display_data"
    },
    {
     "name": "stdout",
     "output_type": "stream",
     "text": [
      "Starting experimental run with id: 515\n"
     ]
    },
    {
     "data": {
      "application/vnd.jupyter.widget-view+json": {
       "model_id": "",
       "version_major": 2,
       "version_minor": 0
      },
      "text/plain": [
       "HBox(children=(IntProgress(value=0, max=243), HTML(value='')))"
      ]
     },
     "metadata": {},
     "output_type": "display_data"
    },
    {
     "name": "stdout",
     "output_type": "stream",
     "text": [
      "Starting experimental run with id: 516\n"
     ]
    },
    {
     "data": {
      "application/vnd.jupyter.widget-view+json": {
       "model_id": "",
       "version_major": 2,
       "version_minor": 0
      },
      "text/plain": [
       "HBox(children=(IntProgress(value=0, max=243), HTML(value='')))"
      ]
     },
     "metadata": {},
     "output_type": "display_data"
    },
    {
     "name": "stdout",
     "output_type": "stream",
     "text": [
      "Starting experimental run with id: 517\n"
     ]
    },
    {
     "data": {
      "application/vnd.jupyter.widget-view+json": {
       "model_id": "",
       "version_major": 2,
       "version_minor": 0
      },
      "text/plain": [
       "HBox(children=(IntProgress(value=0, max=243), HTML(value='')))"
      ]
     },
     "metadata": {},
     "output_type": "display_data"
    },
    {
     "name": "stdout",
     "output_type": "stream",
     "text": [
      "Starting experimental run with id: 518\n"
     ]
    },
    {
     "data": {
      "application/vnd.jupyter.widget-view+json": {
       "model_id": "",
       "version_major": 2,
       "version_minor": 0
      },
      "text/plain": [
       "HBox(children=(IntProgress(value=0, max=243), HTML(value='')))"
      ]
     },
     "metadata": {},
     "output_type": "display_data"
    },
    {
     "name": "stdout",
     "output_type": "stream",
     "text": [
      "Starting experimental run with id: 519\n"
     ]
    },
    {
     "data": {
      "application/vnd.jupyter.widget-view+json": {
       "model_id": "",
       "version_major": 2,
       "version_minor": 0
      },
      "text/plain": [
       "HBox(children=(IntProgress(value=0, max=243), HTML(value='')))"
      ]
     },
     "metadata": {},
     "output_type": "display_data"
    },
    {
     "name": "stdout",
     "output_type": "stream",
     "text": [
      "Starting experimental run with id: 520\n"
     ]
    },
    {
     "data": {
      "application/vnd.jupyter.widget-view+json": {
       "model_id": "",
       "version_major": 2,
       "version_minor": 0
      },
      "text/plain": [
       "HBox(children=(IntProgress(value=0, max=243), HTML(value='')))"
      ]
     },
     "metadata": {},
     "output_type": "display_data"
    },
    {
     "name": "stdout",
     "output_type": "stream",
     "text": [
      "Starting experimental run with id: 521\n"
     ]
    },
    {
     "data": {
      "application/vnd.jupyter.widget-view+json": {
       "model_id": "",
       "version_major": 2,
       "version_minor": 0
      },
      "text/plain": [
       "HBox(children=(IntProgress(value=0, max=243), HTML(value='')))"
      ]
     },
     "metadata": {},
     "output_type": "display_data"
    },
    {
     "name": "stdout",
     "output_type": "stream",
     "text": [
      "Starting experimental run with id: 522\n"
     ]
    },
    {
     "data": {
      "application/vnd.jupyter.widget-view+json": {
       "model_id": "",
       "version_major": 2,
       "version_minor": 0
      },
      "text/plain": [
       "HBox(children=(IntProgress(value=0, max=243), HTML(value='')))"
      ]
     },
     "metadata": {},
     "output_type": "display_data"
    },
    {
     "name": "stdout",
     "output_type": "stream",
     "text": [
      "Starting experimental run with id: 523\n"
     ]
    },
    {
     "data": {
      "application/vnd.jupyter.widget-view+json": {
       "model_id": "",
       "version_major": 2,
       "version_minor": 0
      },
      "text/plain": [
       "HBox(children=(IntProgress(value=0, max=243), HTML(value='')))"
      ]
     },
     "metadata": {},
     "output_type": "display_data"
    },
    {
     "name": "stdout",
     "output_type": "stream",
     "text": [
      "Starting experimental run with id: 524\n"
     ]
    },
    {
     "data": {
      "application/vnd.jupyter.widget-view+json": {
       "model_id": "",
       "version_major": 2,
       "version_minor": 0
      },
      "text/plain": [
       "HBox(children=(IntProgress(value=0, max=243), HTML(value='')))"
      ]
     },
     "metadata": {},
     "output_type": "display_data"
    },
    {
     "name": "stdout",
     "output_type": "stream",
     "text": [
      "Starting experimental run with id: 525\n"
     ]
    },
    {
     "data": {
      "application/vnd.jupyter.widget-view+json": {
       "model_id": "",
       "version_major": 2,
       "version_minor": 0
      },
      "text/plain": [
       "HBox(children=(IntProgress(value=0, max=243), HTML(value='')))"
      ]
     },
     "metadata": {},
     "output_type": "display_data"
    },
    {
     "name": "stdout",
     "output_type": "stream",
     "text": [
      "Starting experimental run with id: 526\n"
     ]
    },
    {
     "data": {
      "application/vnd.jupyter.widget-view+json": {
       "model_id": "",
       "version_major": 2,
       "version_minor": 0
      },
      "text/plain": [
       "HBox(children=(IntProgress(value=0, max=243), HTML(value='')))"
      ]
     },
     "metadata": {},
     "output_type": "display_data"
    },
    {
     "name": "stdout",
     "output_type": "stream",
     "text": [
      "Starting experimental run with id: 527\n"
     ]
    },
    {
     "data": {
      "application/vnd.jupyter.widget-view+json": {
       "model_id": "",
       "version_major": 2,
       "version_minor": 0
      },
      "text/plain": [
       "HBox(children=(IntProgress(value=0, max=243), HTML(value='')))"
      ]
     },
     "metadata": {},
     "output_type": "display_data"
    },
    {
     "name": "stdout",
     "output_type": "stream",
     "text": [
      "Starting experimental run with id: 528\n"
     ]
    },
    {
     "data": {
      "application/vnd.jupyter.widget-view+json": {
       "model_id": "",
       "version_major": 2,
       "version_minor": 0
      },
      "text/plain": [
       "HBox(children=(IntProgress(value=0, max=243), HTML(value='')))"
      ]
     },
     "metadata": {},
     "output_type": "display_data"
    },
    {
     "name": "stdout",
     "output_type": "stream",
     "text": [
      "Starting experimental run with id: 529\n"
     ]
    },
    {
     "data": {
      "application/vnd.jupyter.widget-view+json": {
       "model_id": "",
       "version_major": 2,
       "version_minor": 0
      },
      "text/plain": [
       "HBox(children=(IntProgress(value=0, max=243), HTML(value='')))"
      ]
     },
     "metadata": {},
     "output_type": "display_data"
    },
    {
     "name": "stdout",
     "output_type": "stream",
     "text": [
      "Starting experimental run with id: 530\n"
     ]
    },
    {
     "data": {
      "application/vnd.jupyter.widget-view+json": {
       "model_id": "",
       "version_major": 2,
       "version_minor": 0
      },
      "text/plain": [
       "HBox(children=(IntProgress(value=0, max=243), HTML(value='')))"
      ]
     },
     "metadata": {},
     "output_type": "display_data"
    },
    {
     "name": "stdout",
     "output_type": "stream",
     "text": [
      "Starting experimental run with id: 531\n"
     ]
    },
    {
     "data": {
      "application/vnd.jupyter.widget-view+json": {
       "model_id": "",
       "version_major": 2,
       "version_minor": 0
      },
      "text/plain": [
       "HBox(children=(IntProgress(value=0, max=243), HTML(value='')))"
      ]
     },
     "metadata": {},
     "output_type": "display_data"
    },
    {
     "name": "stdout",
     "output_type": "stream",
     "text": [
      "Starting experimental run with id: 532\n"
     ]
    },
    {
     "data": {
      "application/vnd.jupyter.widget-view+json": {
       "model_id": "",
       "version_major": 2,
       "version_minor": 0
      },
      "text/plain": [
       "HBox(children=(IntProgress(value=0, max=243), HTML(value='')))"
      ]
     },
     "metadata": {},
     "output_type": "display_data"
    },
    {
     "name": "stdout",
     "output_type": "stream",
     "text": [
      "Starting experimental run with id: 533\n"
     ]
    },
    {
     "data": {
      "application/vnd.jupyter.widget-view+json": {
       "model_id": "",
       "version_major": 2,
       "version_minor": 0
      },
      "text/plain": [
       "HBox(children=(IntProgress(value=0, max=243), HTML(value='')))"
      ]
     },
     "metadata": {},
     "output_type": "display_data"
    },
    {
     "name": "stdout",
     "output_type": "stream",
     "text": [
      "Starting experimental run with id: 534\n"
     ]
    },
    {
     "data": {
      "application/vnd.jupyter.widget-view+json": {
       "model_id": "",
       "version_major": 2,
       "version_minor": 0
      },
      "text/plain": [
       "HBox(children=(IntProgress(value=0, max=243), HTML(value='')))"
      ]
     },
     "metadata": {},
     "output_type": "display_data"
    },
    {
     "name": "stdout",
     "output_type": "stream",
     "text": [
      "Starting experimental run with id: 535\n",
      "\n"
     ]
    }
   ],
   "source": [
    "# B_list = udu_list ( 4e-3, 0.2e-3)\n",
    "B_list = np.linspace(-1e-3, 4e-3, 201)\n",
    "# B_list = [0]*500\n",
    "# # cos_list = np.linspace(1,0, 26)\n",
    "\n",
    "\n",
    "# jj = jj1\n",
    "ids = \\\n",
    "[            jj.IVC_udu (amp = 600e-12, stp = 10e-12, dt = .1,\n",
    "                         N_avg = 1, label = 'Bscan')\n",
    "for jj in    jj.Bscan( B_list = B_list )]\n",
    "# for jj in    jj.Bscan( cos_list = cos_list )]\n",
    "\n",
    "\n",
    "Bfield.set(0)\n"
   ]
  },
  {
   "cell_type": "code",
   "execution_count": 94,
   "metadata": {},
   "outputs": [
    {
     "data": {
      "application/javascript": [
       "/* Put everything inside the global mpl namespace */\n",
       "window.mpl = {};\n",
       "\n",
       "\n",
       "mpl.get_websocket_type = function() {\n",
       "    if (typeof(WebSocket) !== 'undefined') {\n",
       "        return WebSocket;\n",
       "    } else if (typeof(MozWebSocket) !== 'undefined') {\n",
       "        return MozWebSocket;\n",
       "    } else {\n",
       "        alert('Your browser does not have WebSocket support. ' +\n",
       "              'Please try Chrome, Safari or Firefox ≥ 6. ' +\n",
       "              'Firefox 4 and 5 are also supported but you ' +\n",
       "              'have to enable WebSockets in about:config.');\n",
       "    };\n",
       "}\n",
       "\n",
       "mpl.figure = function(figure_id, websocket, ondownload, parent_element) {\n",
       "    this.id = figure_id;\n",
       "\n",
       "    this.ws = websocket;\n",
       "\n",
       "    this.supports_binary = (this.ws.binaryType != undefined);\n",
       "\n",
       "    if (!this.supports_binary) {\n",
       "        var warnings = document.getElementById(\"mpl-warnings\");\n",
       "        if (warnings) {\n",
       "            warnings.style.display = 'block';\n",
       "            warnings.textContent = (\n",
       "                \"This browser does not support binary websocket messages. \" +\n",
       "                    \"Performance may be slow.\");\n",
       "        }\n",
       "    }\n",
       "\n",
       "    this.imageObj = new Image();\n",
       "\n",
       "    this.context = undefined;\n",
       "    this.message = undefined;\n",
       "    this.canvas = undefined;\n",
       "    this.rubberband_canvas = undefined;\n",
       "    this.rubberband_context = undefined;\n",
       "    this.format_dropdown = undefined;\n",
       "\n",
       "    this.image_mode = 'full';\n",
       "\n",
       "    this.root = $('<div/>');\n",
       "    this._root_extra_style(this.root)\n",
       "    this.root.attr('style', 'display: inline-block');\n",
       "\n",
       "    $(parent_element).append(this.root);\n",
       "\n",
       "    this._init_header(this);\n",
       "    this._init_canvas(this);\n",
       "    this._init_toolbar(this);\n",
       "\n",
       "    var fig = this;\n",
       "\n",
       "    this.waiting = false;\n",
       "\n",
       "    this.ws.onopen =  function () {\n",
       "            fig.send_message(\"supports_binary\", {value: fig.supports_binary});\n",
       "            fig.send_message(\"send_image_mode\", {});\n",
       "            if (mpl.ratio != 1) {\n",
       "                fig.send_message(\"set_dpi_ratio\", {'dpi_ratio': mpl.ratio});\n",
       "            }\n",
       "            fig.send_message(\"refresh\", {});\n",
       "        }\n",
       "\n",
       "    this.imageObj.onload = function() {\n",
       "            if (fig.image_mode == 'full') {\n",
       "                // Full images could contain transparency (where diff images\n",
       "                // almost always do), so we need to clear the canvas so that\n",
       "                // there is no ghosting.\n",
       "                fig.context.clearRect(0, 0, fig.canvas.width, fig.canvas.height);\n",
       "            }\n",
       "            fig.context.drawImage(fig.imageObj, 0, 0);\n",
       "        };\n",
       "\n",
       "    this.imageObj.onunload = function() {\n",
       "        fig.ws.close();\n",
       "    }\n",
       "\n",
       "    this.ws.onmessage = this._make_on_message_function(this);\n",
       "\n",
       "    this.ondownload = ondownload;\n",
       "}\n",
       "\n",
       "mpl.figure.prototype._init_header = function() {\n",
       "    var titlebar = $(\n",
       "        '<div class=\"ui-dialog-titlebar ui-widget-header ui-corner-all ' +\n",
       "        'ui-helper-clearfix\"/>');\n",
       "    var titletext = $(\n",
       "        '<div class=\"ui-dialog-title\" style=\"width: 100%; ' +\n",
       "        'text-align: center; padding: 3px;\"/>');\n",
       "    titlebar.append(titletext)\n",
       "    this.root.append(titlebar);\n",
       "    this.header = titletext[0];\n",
       "}\n",
       "\n",
       "\n",
       "\n",
       "mpl.figure.prototype._canvas_extra_style = function(canvas_div) {\n",
       "\n",
       "}\n",
       "\n",
       "\n",
       "mpl.figure.prototype._root_extra_style = function(canvas_div) {\n",
       "\n",
       "}\n",
       "\n",
       "mpl.figure.prototype._init_canvas = function() {\n",
       "    var fig = this;\n",
       "\n",
       "    var canvas_div = $('<div/>');\n",
       "\n",
       "    canvas_div.attr('style', 'position: relative; clear: both; outline: 0');\n",
       "\n",
       "    function canvas_keyboard_event(event) {\n",
       "        return fig.key_event(event, event['data']);\n",
       "    }\n",
       "\n",
       "    canvas_div.keydown('key_press', canvas_keyboard_event);\n",
       "    canvas_div.keyup('key_release', canvas_keyboard_event);\n",
       "    this.canvas_div = canvas_div\n",
       "    this._canvas_extra_style(canvas_div)\n",
       "    this.root.append(canvas_div);\n",
       "\n",
       "    var canvas = $('<canvas/>');\n",
       "    canvas.addClass('mpl-canvas');\n",
       "    canvas.attr('style', \"left: 0; top: 0; z-index: 0; outline: 0\")\n",
       "\n",
       "    this.canvas = canvas[0];\n",
       "    this.context = canvas[0].getContext(\"2d\");\n",
       "\n",
       "    var backingStore = this.context.backingStorePixelRatio ||\n",
       "\tthis.context.webkitBackingStorePixelRatio ||\n",
       "\tthis.context.mozBackingStorePixelRatio ||\n",
       "\tthis.context.msBackingStorePixelRatio ||\n",
       "\tthis.context.oBackingStorePixelRatio ||\n",
       "\tthis.context.backingStorePixelRatio || 1;\n",
       "\n",
       "    mpl.ratio = (window.devicePixelRatio || 1) / backingStore;\n",
       "\n",
       "    var rubberband = $('<canvas/>');\n",
       "    rubberband.attr('style', \"position: absolute; left: 0; top: 0; z-index: 1;\")\n",
       "\n",
       "    var pass_mouse_events = true;\n",
       "\n",
       "    canvas_div.resizable({\n",
       "        start: function(event, ui) {\n",
       "            pass_mouse_events = false;\n",
       "        },\n",
       "        resize: function(event, ui) {\n",
       "            fig.request_resize(ui.size.width, ui.size.height);\n",
       "        },\n",
       "        stop: function(event, ui) {\n",
       "            pass_mouse_events = true;\n",
       "            fig.request_resize(ui.size.width, ui.size.height);\n",
       "        },\n",
       "    });\n",
       "\n",
       "    function mouse_event_fn(event) {\n",
       "        if (pass_mouse_events)\n",
       "            return fig.mouse_event(event, event['data']);\n",
       "    }\n",
       "\n",
       "    rubberband.mousedown('button_press', mouse_event_fn);\n",
       "    rubberband.mouseup('button_release', mouse_event_fn);\n",
       "    // Throttle sequential mouse events to 1 every 20ms.\n",
       "    rubberband.mousemove('motion_notify', mouse_event_fn);\n",
       "\n",
       "    rubberband.mouseenter('figure_enter', mouse_event_fn);\n",
       "    rubberband.mouseleave('figure_leave', mouse_event_fn);\n",
       "\n",
       "    canvas_div.on(\"wheel\", function (event) {\n",
       "        event = event.originalEvent;\n",
       "        event['data'] = 'scroll'\n",
       "        if (event.deltaY < 0) {\n",
       "            event.step = 1;\n",
       "        } else {\n",
       "            event.step = -1;\n",
       "        }\n",
       "        mouse_event_fn(event);\n",
       "    });\n",
       "\n",
       "    canvas_div.append(canvas);\n",
       "    canvas_div.append(rubberband);\n",
       "\n",
       "    this.rubberband = rubberband;\n",
       "    this.rubberband_canvas = rubberband[0];\n",
       "    this.rubberband_context = rubberband[0].getContext(\"2d\");\n",
       "    this.rubberband_context.strokeStyle = \"#000000\";\n",
       "\n",
       "    this._resize_canvas = function(width, height) {\n",
       "        // Keep the size of the canvas, canvas container, and rubber band\n",
       "        // canvas in synch.\n",
       "        canvas_div.css('width', width)\n",
       "        canvas_div.css('height', height)\n",
       "\n",
       "        canvas.attr('width', width * mpl.ratio);\n",
       "        canvas.attr('height', height * mpl.ratio);\n",
       "        canvas.attr('style', 'width: ' + width + 'px; height: ' + height + 'px;');\n",
       "\n",
       "        rubberband.attr('width', width);\n",
       "        rubberband.attr('height', height);\n",
       "    }\n",
       "\n",
       "    // Set the figure to an initial 600x600px, this will subsequently be updated\n",
       "    // upon first draw.\n",
       "    this._resize_canvas(600, 600);\n",
       "\n",
       "    // Disable right mouse context menu.\n",
       "    $(this.rubberband_canvas).bind(\"contextmenu\",function(e){\n",
       "        return false;\n",
       "    });\n",
       "\n",
       "    function set_focus () {\n",
       "        canvas.focus();\n",
       "        canvas_div.focus();\n",
       "    }\n",
       "\n",
       "    window.setTimeout(set_focus, 100);\n",
       "}\n",
       "\n",
       "mpl.figure.prototype._init_toolbar = function() {\n",
       "    var fig = this;\n",
       "\n",
       "    var nav_element = $('<div/>');\n",
       "    nav_element.attr('style', 'width: 100%');\n",
       "    this.root.append(nav_element);\n",
       "\n",
       "    // Define a callback function for later on.\n",
       "    function toolbar_event(event) {\n",
       "        return fig.toolbar_button_onclick(event['data']);\n",
       "    }\n",
       "    function toolbar_mouse_event(event) {\n",
       "        return fig.toolbar_button_onmouseover(event['data']);\n",
       "    }\n",
       "\n",
       "    for(var toolbar_ind in mpl.toolbar_items) {\n",
       "        var name = mpl.toolbar_items[toolbar_ind][0];\n",
       "        var tooltip = mpl.toolbar_items[toolbar_ind][1];\n",
       "        var image = mpl.toolbar_items[toolbar_ind][2];\n",
       "        var method_name = mpl.toolbar_items[toolbar_ind][3];\n",
       "\n",
       "        if (!name) {\n",
       "            // put a spacer in here.\n",
       "            continue;\n",
       "        }\n",
       "        var button = $('<button/>');\n",
       "        button.addClass('ui-button ui-widget ui-state-default ui-corner-all ' +\n",
       "                        'ui-button-icon-only');\n",
       "        button.attr('role', 'button');\n",
       "        button.attr('aria-disabled', 'false');\n",
       "        button.click(method_name, toolbar_event);\n",
       "        button.mouseover(tooltip, toolbar_mouse_event);\n",
       "\n",
       "        var icon_img = $('<span/>');\n",
       "        icon_img.addClass('ui-button-icon-primary ui-icon');\n",
       "        icon_img.addClass(image);\n",
       "        icon_img.addClass('ui-corner-all');\n",
       "\n",
       "        var tooltip_span = $('<span/>');\n",
       "        tooltip_span.addClass('ui-button-text');\n",
       "        tooltip_span.html(tooltip);\n",
       "\n",
       "        button.append(icon_img);\n",
       "        button.append(tooltip_span);\n",
       "\n",
       "        nav_element.append(button);\n",
       "    }\n",
       "\n",
       "    var fmt_picker_span = $('<span/>');\n",
       "\n",
       "    var fmt_picker = $('<select/>');\n",
       "    fmt_picker.addClass('mpl-toolbar-option ui-widget ui-widget-content');\n",
       "    fmt_picker_span.append(fmt_picker);\n",
       "    nav_element.append(fmt_picker_span);\n",
       "    this.format_dropdown = fmt_picker[0];\n",
       "\n",
       "    for (var ind in mpl.extensions) {\n",
       "        var fmt = mpl.extensions[ind];\n",
       "        var option = $(\n",
       "            '<option/>', {selected: fmt === mpl.default_extension}).html(fmt);\n",
       "        fmt_picker.append(option);\n",
       "    }\n",
       "\n",
       "    // Add hover states to the ui-buttons\n",
       "    $( \".ui-button\" ).hover(\n",
       "        function() { $(this).addClass(\"ui-state-hover\");},\n",
       "        function() { $(this).removeClass(\"ui-state-hover\");}\n",
       "    );\n",
       "\n",
       "    var status_bar = $('<span class=\"mpl-message\"/>');\n",
       "    nav_element.append(status_bar);\n",
       "    this.message = status_bar[0];\n",
       "}\n",
       "\n",
       "mpl.figure.prototype.request_resize = function(x_pixels, y_pixels) {\n",
       "    // Request matplotlib to resize the figure. Matplotlib will then trigger a resize in the client,\n",
       "    // which will in turn request a refresh of the image.\n",
       "    this.send_message('resize', {'width': x_pixels, 'height': y_pixels});\n",
       "}\n",
       "\n",
       "mpl.figure.prototype.send_message = function(type, properties) {\n",
       "    properties['type'] = type;\n",
       "    properties['figure_id'] = this.id;\n",
       "    this.ws.send(JSON.stringify(properties));\n",
       "}\n",
       "\n",
       "mpl.figure.prototype.send_draw_message = function() {\n",
       "    if (!this.waiting) {\n",
       "        this.waiting = true;\n",
       "        this.ws.send(JSON.stringify({type: \"draw\", figure_id: this.id}));\n",
       "    }\n",
       "}\n",
       "\n",
       "\n",
       "mpl.figure.prototype.handle_save = function(fig, msg) {\n",
       "    var format_dropdown = fig.format_dropdown;\n",
       "    var format = format_dropdown.options[format_dropdown.selectedIndex].value;\n",
       "    fig.ondownload(fig, format);\n",
       "}\n",
       "\n",
       "\n",
       "mpl.figure.prototype.handle_resize = function(fig, msg) {\n",
       "    var size = msg['size'];\n",
       "    if (size[0] != fig.canvas.width || size[1] != fig.canvas.height) {\n",
       "        fig._resize_canvas(size[0], size[1]);\n",
       "        fig.send_message(\"refresh\", {});\n",
       "    };\n",
       "}\n",
       "\n",
       "mpl.figure.prototype.handle_rubberband = function(fig, msg) {\n",
       "    var x0 = msg['x0'] / mpl.ratio;\n",
       "    var y0 = (fig.canvas.height - msg['y0']) / mpl.ratio;\n",
       "    var x1 = msg['x1'] / mpl.ratio;\n",
       "    var y1 = (fig.canvas.height - msg['y1']) / mpl.ratio;\n",
       "    x0 = Math.floor(x0) + 0.5;\n",
       "    y0 = Math.floor(y0) + 0.5;\n",
       "    x1 = Math.floor(x1) + 0.5;\n",
       "    y1 = Math.floor(y1) + 0.5;\n",
       "    var min_x = Math.min(x0, x1);\n",
       "    var min_y = Math.min(y0, y1);\n",
       "    var width = Math.abs(x1 - x0);\n",
       "    var height = Math.abs(y1 - y0);\n",
       "\n",
       "    fig.rubberband_context.clearRect(\n",
       "        0, 0, fig.canvas.width / mpl.ratio, fig.canvas.height / mpl.ratio);\n",
       "\n",
       "    fig.rubberband_context.strokeRect(min_x, min_y, width, height);\n",
       "}\n",
       "\n",
       "mpl.figure.prototype.handle_figure_label = function(fig, msg) {\n",
       "    // Updates the figure title.\n",
       "    fig.header.textContent = msg['label'];\n",
       "}\n",
       "\n",
       "mpl.figure.prototype.handle_cursor = function(fig, msg) {\n",
       "    var cursor = msg['cursor'];\n",
       "    switch(cursor)\n",
       "    {\n",
       "    case 0:\n",
       "        cursor = 'pointer';\n",
       "        break;\n",
       "    case 1:\n",
       "        cursor = 'default';\n",
       "        break;\n",
       "    case 2:\n",
       "        cursor = 'crosshair';\n",
       "        break;\n",
       "    case 3:\n",
       "        cursor = 'move';\n",
       "        break;\n",
       "    }\n",
       "    fig.rubberband_canvas.style.cursor = cursor;\n",
       "}\n",
       "\n",
       "mpl.figure.prototype.handle_message = function(fig, msg) {\n",
       "    fig.message.textContent = msg['message'];\n",
       "}\n",
       "\n",
       "mpl.figure.prototype.handle_draw = function(fig, msg) {\n",
       "    // Request the server to send over a new figure.\n",
       "    fig.send_draw_message();\n",
       "}\n",
       "\n",
       "mpl.figure.prototype.handle_image_mode = function(fig, msg) {\n",
       "    fig.image_mode = msg['mode'];\n",
       "}\n",
       "\n",
       "mpl.figure.prototype.updated_canvas_event = function() {\n",
       "    // Called whenever the canvas gets updated.\n",
       "    this.send_message(\"ack\", {});\n",
       "}\n",
       "\n",
       "// A function to construct a web socket function for onmessage handling.\n",
       "// Called in the figure constructor.\n",
       "mpl.figure.prototype._make_on_message_function = function(fig) {\n",
       "    return function socket_on_message(evt) {\n",
       "        if (evt.data instanceof Blob) {\n",
       "            /* FIXME: We get \"Resource interpreted as Image but\n",
       "             * transferred with MIME type text/plain:\" errors on\n",
       "             * Chrome.  But how to set the MIME type?  It doesn't seem\n",
       "             * to be part of the websocket stream */\n",
       "            evt.data.type = \"image/png\";\n",
       "\n",
       "            /* Free the memory for the previous frames */\n",
       "            if (fig.imageObj.src) {\n",
       "                (window.URL || window.webkitURL).revokeObjectURL(\n",
       "                    fig.imageObj.src);\n",
       "            }\n",
       "\n",
       "            fig.imageObj.src = (window.URL || window.webkitURL).createObjectURL(\n",
       "                evt.data);\n",
       "            fig.updated_canvas_event();\n",
       "            fig.waiting = false;\n",
       "            return;\n",
       "        }\n",
       "        else if (typeof evt.data === 'string' && evt.data.slice(0, 21) == \"data:image/png;base64\") {\n",
       "            fig.imageObj.src = evt.data;\n",
       "            fig.updated_canvas_event();\n",
       "            fig.waiting = false;\n",
       "            return;\n",
       "        }\n",
       "\n",
       "        var msg = JSON.parse(evt.data);\n",
       "        var msg_type = msg['type'];\n",
       "\n",
       "        // Call the  \"handle_{type}\" callback, which takes\n",
       "        // the figure and JSON message as its only arguments.\n",
       "        try {\n",
       "            var callback = fig[\"handle_\" + msg_type];\n",
       "        } catch (e) {\n",
       "            console.log(\"No handler for the '\" + msg_type + \"' message type: \", msg);\n",
       "            return;\n",
       "        }\n",
       "\n",
       "        if (callback) {\n",
       "            try {\n",
       "                // console.log(\"Handling '\" + msg_type + \"' message: \", msg);\n",
       "                callback(fig, msg);\n",
       "            } catch (e) {\n",
       "                console.log(\"Exception inside the 'handler_\" + msg_type + \"' callback:\", e, e.stack, msg);\n",
       "            }\n",
       "        }\n",
       "    };\n",
       "}\n",
       "\n",
       "// from http://stackoverflow.com/questions/1114465/getting-mouse-location-in-canvas\n",
       "mpl.findpos = function(e) {\n",
       "    //this section is from http://www.quirksmode.org/js/events_properties.html\n",
       "    var targ;\n",
       "    if (!e)\n",
       "        e = window.event;\n",
       "    if (e.target)\n",
       "        targ = e.target;\n",
       "    else if (e.srcElement)\n",
       "        targ = e.srcElement;\n",
       "    if (targ.nodeType == 3) // defeat Safari bug\n",
       "        targ = targ.parentNode;\n",
       "\n",
       "    // jQuery normalizes the pageX and pageY\n",
       "    // pageX,Y are the mouse positions relative to the document\n",
       "    // offset() returns the position of the element relative to the document\n",
       "    var x = e.pageX - $(targ).offset().left;\n",
       "    var y = e.pageY - $(targ).offset().top;\n",
       "\n",
       "    return {\"x\": x, \"y\": y};\n",
       "};\n",
       "\n",
       "/*\n",
       " * return a copy of an object with only non-object keys\n",
       " * we need this to avoid circular references\n",
       " * http://stackoverflow.com/a/24161582/3208463\n",
       " */\n",
       "function simpleKeys (original) {\n",
       "  return Object.keys(original).reduce(function (obj, key) {\n",
       "    if (typeof original[key] !== 'object')\n",
       "        obj[key] = original[key]\n",
       "    return obj;\n",
       "  }, {});\n",
       "}\n",
       "\n",
       "mpl.figure.prototype.mouse_event = function(event, name) {\n",
       "    var canvas_pos = mpl.findpos(event)\n",
       "\n",
       "    if (name === 'button_press')\n",
       "    {\n",
       "        this.canvas.focus();\n",
       "        this.canvas_div.focus();\n",
       "    }\n",
       "\n",
       "    var x = canvas_pos.x * mpl.ratio;\n",
       "    var y = canvas_pos.y * mpl.ratio;\n",
       "\n",
       "    this.send_message(name, {x: x, y: y, button: event.button,\n",
       "                             step: event.step,\n",
       "                             guiEvent: simpleKeys(event)});\n",
       "\n",
       "    /* This prevents the web browser from automatically changing to\n",
       "     * the text insertion cursor when the button is pressed.  We want\n",
       "     * to control all of the cursor setting manually through the\n",
       "     * 'cursor' event from matplotlib */\n",
       "    event.preventDefault();\n",
       "    return false;\n",
       "}\n",
       "\n",
       "mpl.figure.prototype._key_event_extra = function(event, name) {\n",
       "    // Handle any extra behaviour associated with a key event\n",
       "}\n",
       "\n",
       "mpl.figure.prototype.key_event = function(event, name) {\n",
       "\n",
       "    // Prevent repeat events\n",
       "    if (name == 'key_press')\n",
       "    {\n",
       "        if (event.which === this._key)\n",
       "            return;\n",
       "        else\n",
       "            this._key = event.which;\n",
       "    }\n",
       "    if (name == 'key_release')\n",
       "        this._key = null;\n",
       "\n",
       "    var value = '';\n",
       "    if (event.ctrlKey && event.which != 17)\n",
       "        value += \"ctrl+\";\n",
       "    if (event.altKey && event.which != 18)\n",
       "        value += \"alt+\";\n",
       "    if (event.shiftKey && event.which != 16)\n",
       "        value += \"shift+\";\n",
       "\n",
       "    value += 'k';\n",
       "    value += event.which.toString();\n",
       "\n",
       "    this._key_event_extra(event, name);\n",
       "\n",
       "    this.send_message(name, {key: value,\n",
       "                             guiEvent: simpleKeys(event)});\n",
       "    return false;\n",
       "}\n",
       "\n",
       "mpl.figure.prototype.toolbar_button_onclick = function(name) {\n",
       "    if (name == 'download') {\n",
       "        this.handle_save(this, null);\n",
       "    } else {\n",
       "        this.send_message(\"toolbar_button\", {name: name});\n",
       "    }\n",
       "};\n",
       "\n",
       "mpl.figure.prototype.toolbar_button_onmouseover = function(tooltip) {\n",
       "    this.message.textContent = tooltip;\n",
       "};\n",
       "mpl.toolbar_items = [[\"Home\", \"Reset original view\", \"fa fa-home icon-home\", \"home\"], [\"Back\", \"Back to previous view\", \"fa fa-arrow-left icon-arrow-left\", \"back\"], [\"Forward\", \"Forward to next view\", \"fa fa-arrow-right icon-arrow-right\", \"forward\"], [\"\", \"\", \"\", \"\"], [\"Pan\", \"Pan axes with left mouse, zoom with right\", \"fa fa-arrows icon-move\", \"pan\"], [\"Zoom\", \"Zoom to rectangle\", \"fa fa-square-o icon-check-empty\", \"zoom\"], [\"\", \"\", \"\", \"\"], [\"Download\", \"Download plot\", \"fa fa-floppy-o icon-save\", \"download\"]];\n",
       "\n",
       "mpl.extensions = [\"eps\", \"jpeg\", \"pdf\", \"png\", \"ps\", \"raw\", \"svg\", \"tif\"];\n",
       "\n",
       "mpl.default_extension = \"png\";var comm_websocket_adapter = function(comm) {\n",
       "    // Create a \"websocket\"-like object which calls the given IPython comm\n",
       "    // object with the appropriate methods. Currently this is a non binary\n",
       "    // socket, so there is still some room for performance tuning.\n",
       "    var ws = {};\n",
       "\n",
       "    ws.close = function() {\n",
       "        comm.close()\n",
       "    };\n",
       "    ws.send = function(m) {\n",
       "        //console.log('sending', m);\n",
       "        comm.send(m);\n",
       "    };\n",
       "    // Register the callback with on_msg.\n",
       "    comm.on_msg(function(msg) {\n",
       "        //console.log('receiving', msg['content']['data'], msg);\n",
       "        // Pass the mpl event to the overridden (by mpl) onmessage function.\n",
       "        ws.onmessage(msg['content']['data'])\n",
       "    });\n",
       "    return ws;\n",
       "}\n",
       "\n",
       "mpl.mpl_figure_comm = function(comm, msg) {\n",
       "    // This is the function which gets called when the mpl process\n",
       "    // starts-up an IPython Comm through the \"matplotlib\" channel.\n",
       "\n",
       "    var id = msg.content.data.id;\n",
       "    // Get hold of the div created by the display call when the Comm\n",
       "    // socket was opened in Python.\n",
       "    var element = $(\"#\" + id);\n",
       "    var ws_proxy = comm_websocket_adapter(comm)\n",
       "\n",
       "    function ondownload(figure, format) {\n",
       "        window.open(figure.imageObj.src);\n",
       "    }\n",
       "\n",
       "    var fig = new mpl.figure(id, ws_proxy,\n",
       "                           ondownload,\n",
       "                           element.get(0));\n",
       "\n",
       "    // Call onopen now - mpl needs it, as it is assuming we've passed it a real\n",
       "    // web socket which is closed, not our websocket->open comm proxy.\n",
       "    ws_proxy.onopen();\n",
       "\n",
       "    fig.parent_element = element.get(0);\n",
       "    fig.cell_info = mpl.find_output_cell(\"<div id='\" + id + \"'></div>\");\n",
       "    if (!fig.cell_info) {\n",
       "        console.error(\"Failed to find cell for figure\", id, fig);\n",
       "        return;\n",
       "    }\n",
       "\n",
       "    var output_index = fig.cell_info[2]\n",
       "    var cell = fig.cell_info[0];\n",
       "\n",
       "};\n",
       "\n",
       "mpl.figure.prototype.handle_close = function(fig, msg) {\n",
       "    var width = fig.canvas.width/mpl.ratio\n",
       "    fig.root.unbind('remove')\n",
       "\n",
       "    // Update the output cell to use the data from the current canvas.\n",
       "    fig.push_to_output();\n",
       "    var dataURL = fig.canvas.toDataURL();\n",
       "    // Re-enable the keyboard manager in IPython - without this line, in FF,\n",
       "    // the notebook keyboard shortcuts fail.\n",
       "    IPython.keyboard_manager.enable()\n",
       "    $(fig.parent_element).html('<img src=\"' + dataURL + '\" width=\"' + width + '\">');\n",
       "    fig.close_ws(fig, msg);\n",
       "}\n",
       "\n",
       "mpl.figure.prototype.close_ws = function(fig, msg){\n",
       "    fig.send_message('closing', msg);\n",
       "    // fig.ws.close()\n",
       "}\n",
       "\n",
       "mpl.figure.prototype.push_to_output = function(remove_interactive) {\n",
       "    // Turn the data on the canvas into data in the output cell.\n",
       "    var width = this.canvas.width/mpl.ratio\n",
       "    var dataURL = this.canvas.toDataURL();\n",
       "    this.cell_info[1]['text/html'] = '<img src=\"' + dataURL + '\" width=\"' + width + '\">';\n",
       "}\n",
       "\n",
       "mpl.figure.prototype.updated_canvas_event = function() {\n",
       "    // Tell IPython that the notebook contents must change.\n",
       "    IPython.notebook.set_dirty(true);\n",
       "    this.send_message(\"ack\", {});\n",
       "    var fig = this;\n",
       "    // Wait a second, then push the new image to the DOM so\n",
       "    // that it is saved nicely (might be nice to debounce this).\n",
       "    setTimeout(function () { fig.push_to_output() }, 1000);\n",
       "}\n",
       "\n",
       "mpl.figure.prototype._init_toolbar = function() {\n",
       "    var fig = this;\n",
       "\n",
       "    var nav_element = $('<div/>');\n",
       "    nav_element.attr('style', 'width: 100%');\n",
       "    this.root.append(nav_element);\n",
       "\n",
       "    // Define a callback function for later on.\n",
       "    function toolbar_event(event) {\n",
       "        return fig.toolbar_button_onclick(event['data']);\n",
       "    }\n",
       "    function toolbar_mouse_event(event) {\n",
       "        return fig.toolbar_button_onmouseover(event['data']);\n",
       "    }\n",
       "\n",
       "    for(var toolbar_ind in mpl.toolbar_items){\n",
       "        var name = mpl.toolbar_items[toolbar_ind][0];\n",
       "        var tooltip = mpl.toolbar_items[toolbar_ind][1];\n",
       "        var image = mpl.toolbar_items[toolbar_ind][2];\n",
       "        var method_name = mpl.toolbar_items[toolbar_ind][3];\n",
       "\n",
       "        if (!name) { continue; };\n",
       "\n",
       "        var button = $('<button class=\"btn btn-default\" href=\"#\" title=\"' + name + '\"><i class=\"fa ' + image + ' fa-lg\"></i></button>');\n",
       "        button.click(method_name, toolbar_event);\n",
       "        button.mouseover(tooltip, toolbar_mouse_event);\n",
       "        nav_element.append(button);\n",
       "    }\n",
       "\n",
       "    // Add the status bar.\n",
       "    var status_bar = $('<span class=\"mpl-message\" style=\"text-align:right; float: right;\"/>');\n",
       "    nav_element.append(status_bar);\n",
       "    this.message = status_bar[0];\n",
       "\n",
       "    // Add the close button to the window.\n",
       "    var buttongrp = $('<div class=\"btn-group inline pull-right\"></div>');\n",
       "    var button = $('<button class=\"btn btn-mini btn-primary\" href=\"#\" title=\"Stop Interaction\"><i class=\"fa fa-power-off icon-remove icon-large\"></i></button>');\n",
       "    button.click(function (evt) { fig.handle_close(fig, {}); } );\n",
       "    button.mouseover('Stop Interaction', toolbar_mouse_event);\n",
       "    buttongrp.append(button);\n",
       "    var titlebar = this.root.find($('.ui-dialog-titlebar'));\n",
       "    titlebar.prepend(buttongrp);\n",
       "}\n",
       "\n",
       "mpl.figure.prototype._root_extra_style = function(el){\n",
       "    var fig = this\n",
       "    el.on(\"remove\", function(){\n",
       "\tfig.close_ws(fig, {});\n",
       "    });\n",
       "}\n",
       "\n",
       "mpl.figure.prototype._canvas_extra_style = function(el){\n",
       "    // this is important to make the div 'focusable\n",
       "    el.attr('tabindex', 0)\n",
       "    // reach out to IPython and tell the keyboard manager to turn it's self\n",
       "    // off when our div gets focus\n",
       "\n",
       "    // location in version 3\n",
       "    if (IPython.notebook.keyboard_manager) {\n",
       "        IPython.notebook.keyboard_manager.register_events(el);\n",
       "    }\n",
       "    else {\n",
       "        // location in version 2\n",
       "        IPython.keyboard_manager.register_events(el);\n",
       "    }\n",
       "\n",
       "}\n",
       "\n",
       "mpl.figure.prototype._key_event_extra = function(event, name) {\n",
       "    var manager = IPython.notebook.keyboard_manager;\n",
       "    if (!manager)\n",
       "        manager = IPython.keyboard_manager;\n",
       "\n",
       "    // Check for shift+enter\n",
       "    if (event.shiftKey && event.which == 13) {\n",
       "        this.canvas_div.blur();\n",
       "        // select the cell after this one\n",
       "        var index = IPython.notebook.find_cell_index(this.cell_info[0]);\n",
       "        IPython.notebook.select(index + 1);\n",
       "    }\n",
       "}\n",
       "\n",
       "mpl.figure.prototype.handle_save = function(fig, msg) {\n",
       "    fig.ondownload(fig, null);\n",
       "}\n",
       "\n",
       "\n",
       "mpl.find_output_cell = function(html_output) {\n",
       "    // Return the cell and output element which can be found *uniquely* in the notebook.\n",
       "    // Note - this is a bit hacky, but it is done because the \"notebook_saving.Notebook\"\n",
       "    // IPython event is triggered only after the cells have been serialised, which for\n",
       "    // our purposes (turning an active figure into a static one), is too late.\n",
       "    var cells = IPython.notebook.get_cells();\n",
       "    var ncells = cells.length;\n",
       "    for (var i=0; i<ncells; i++) {\n",
       "        var cell = cells[i];\n",
       "        if (cell.cell_type === 'code'){\n",
       "            for (var j=0; j<cell.output_area.outputs.length; j++) {\n",
       "                var data = cell.output_area.outputs[j];\n",
       "                if (data.data) {\n",
       "                    // IPython >= 3 moved mimebundle to data attribute of output\n",
       "                    data = data.data;\n",
       "                }\n",
       "                if (data['text/html'] == html_output) {\n",
       "                    return [cell, data, j];\n",
       "                }\n",
       "            }\n",
       "        }\n",
       "    }\n",
       "}\n",
       "\n",
       "// Register the function which deals with the matplotlib target/channel.\n",
       "// The kernel may be null if the page has been refreshed.\n",
       "if (IPython.notebook.kernel != null) {\n",
       "    IPython.notebook.kernel.comm_manager.register_target('matplotlib', mpl.mpl_figure_comm);\n",
       "}\n"
      ],
      "text/plain": [
       "<IPython.core.display.Javascript object>"
      ]
     },
     "metadata": {},
     "output_type": "display_data"
    },
    {
     "data": {
      "text/html": [
       "<img src=\"data:image/png;base64,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\" width=\"640\">"
      ],
      "text/plain": [
       "<IPython.core.display.HTML object>"
      ]
     },
     "metadata": {},
     "output_type": "display_data"
    },
    {
     "name": "stdout",
     "output_type": "stream",
     "text": [
      "Starting experimental run with id: 536\n"
     ]
    },
    {
     "data": {
      "text/plain": [
       "536"
      ]
     },
     "execution_count": 94,
     "metadata": {},
     "output_type": "execute_result"
    }
   ],
   "source": [
    "# ids = range(146, 246+1)\n",
    "# B_list = np.linspace(-3.5e-3,3.5e-3, 101)\n",
    "\n",
    "Ics = [extract_Isw_R0_by_id (idx, dy = 100e-6)[0] for idx in ids]\n",
    "\n",
    "\n",
    "fig, ax = plt.subplots()\n",
    "# ax.plot(cos_list, Ics, 'o-')\n",
    "ax.plot(B_list, Ics, 'o-')\n",
    "\n",
    "\n",
    "jj.mock_meas((jj.tools['I'], Ics), (jj.tools['B'], B_list),\n",
    "             label = 'partial Bscan')"
   ]
  },
  {
   "cell_type": "markdown",
   "metadata": {},
   "source": [
    "#### Ic(B)"
   ]
  },
  {
   "cell_type": "code",
   "execution_count": null,
   "metadata": {},
   "outputs": [],
   "source": [
    "jj0.ZF"
   ]
  },
  {
   "cell_type": "code",
   "execution_count": null,
   "metadata": {
    "scrolled": true
   },
   "outputs": [],
   "source": [
    "i_list = np.linspace(0, 100e-12, 201)\n",
    "# B_list = np.linspace(-1e-3, 1e-3, 201)\n",
    "cos_list = np.linspace(0.4,0, 11)\n",
    "\n",
    "jj = jj0\n",
    "\n",
    "[            jj.IVC_cust ( i_list, Vthr = 50e-6, dt = 0.1, N_avg = 1, label = 'fine Ic(B)')\n",
    "for jj in    jj.Bscan( cos_list = cos_list )]\n",
    "\n",
    "\n",
    "Bfield.set(0)"
   ]
  },
  {
   "cell_type": "code",
   "execution_count": null,
   "metadata": {},
   "outputs": [],
   "source": [
    "i_list = np.concatenate([np.linspace(0, 30e-12, 251),\n",
    "                         np.linspace(30e-12, 0,  251)]) \n",
    "B_list = np.linspace(-1e-3, 1e-3, 51)\n",
    "\n",
    "[            jj.IVC_cust ( i_list, dt = 0.1, N_avg = 1, label = 'test Ic(B)')\n",
    "for jj in    jj.Bscan( B_list = B_list )]\n",
    "\n",
    "\n",
    "Bfield.set(0)"
   ]
  },
  {
   "cell_type": "code",
   "execution_count": null,
   "metadata": {
    "scrolled": true
   },
   "outputs": [],
   "source": [
    "# B_list = udu_list ( 4e-3, 0.2e-3)\n",
    "B_list = np.linspace(0, 1.85e-3, 11)\n",
    "\n",
    "i_list = udu_list(1e-12, 0.01e-12) -.25e-12\n",
    "\n",
    "\n",
    "\n",
    "[            jj.IVC_cust (i_list, dt = .5, N_avg = 4)\n",
    "for jj in    jj.Bscan( B_list = B_list )]\n",
    "\n",
    "Bfield.set(0)\n"
   ]
  },
  {
   "cell_type": "code",
   "execution_count": null,
   "metadata": {},
   "outputs": [],
   "source": [
    "jj.ZF = 0\n",
    "jj.FF = 1.85e-3\n",
    "cos_list = [1,0]\n",
    "\n",
    "[            jj.IVC_fwd (amp = 1e-12, stp = 0.1e-12, dt = .5, Ioff = -.35e-12)\n",
    "for jj in    jj.Bscan( cos_list = cos_list )]"
   ]
  },
  {
   "cell_type": "markdown",
   "metadata": {},
   "source": [
    "### Vgate scan"
   ]
  },
  {
   "cell_type": "code",
   "execution_count": 13,
   "metadata": {},
   "outputs": [
    {
     "ename": "NameError",
     "evalue": "name 'V' is not defined",
     "output_type": "error",
     "traceback": [
      "\u001b[1;31m---------------------------------------------------------------------------\u001b[0m",
      "\u001b[1;31mNameError\u001b[0m                                 Traceback (most recent call last)",
      "\u001b[1;32m<ipython-input-13-af688aeda998>\u001b[0m in \u001b[0;36m<module>\u001b[1;34m\u001b[0m\n\u001b[1;32m----> 1\u001b[1;33m \u001b[0mV\u001b[0m\u001b[1;33m\u001b[0m\u001b[1;33m\u001b[0m\u001b[0m\n\u001b[0m",
      "\u001b[1;31mNameError\u001b[0m: name 'V' is not defined"
     ]
    }
   ],
   "source": [
    "V"
   ]
  },
  {
   "cell_type": "code",
   "execution_count": 172,
   "metadata": {},
   "outputs": [],
   "source": [
    "\n",
    "\n",
    "Vg.set(0)"
   ]
  },
  {
   "cell_type": "code",
   "execution_count": 54,
   "metadata": {},
   "outputs": [
    {
     "data": {
      "application/vnd.jupyter.widget-view+json": {
       "model_id": "1b312c2c0f1d4c3e8dc36c03329dbc7d",
       "version_major": 2,
       "version_minor": 0
      },
      "text/plain": [
       "HBox(children=(IntProgress(value=0, max=403), HTML(value='')))"
      ]
     },
     "metadata": {},
     "output_type": "display_data"
    },
    {
     "name": "stdout",
     "output_type": "stream",
     "text": [
      "Starting experimental run with id: 131\n"
     ]
    },
    {
     "name": "stderr",
     "output_type": "stream",
     "text": [
      "An exception occured in measurement with guid: aaaaaaaa-0000-0000-0000-0173eb132a07;\n",
      "Traceback:\n",
      "Traceback (most recent call last):\n",
      "  File \"..\\..\\_jjtools\\JJmeasurement.py\", line 84, in IVC_cust\n",
      "    is_vs = [[I.get(),V.get()] for _ in range( N_avg)]\n",
      "  File \"..\\..\\_jjtools\\JJmeasurement.py\", line 84, in <listcomp>\n",
      "    is_vs = [[I.get(),V.get()] for _ in range( N_avg)]\n",
      "  File \"C:\\Users\\KelvinOX25\\Anaconda3\\lib\\site-packages\\qcodes\\instrument\\parameter.py\", line 448, in get_wrapper\n",
      "    value = get_function(*args, **kwargs)\n",
      "  File \"C:\\Users\\KelvinOX25\\Anaconda3\\lib\\site-packages\\qcodes\\utils\\command.py\", line 178, in __call__\n",
      "    return self.exec_function(*args)\n",
      "  File \"C:\\Users\\KelvinOX25\\Anaconda3\\lib\\site-packages\\qcodes\\utils\\command.py\", line 127, in call_by_str\n",
      "    return self.exec_str(self.cmd_str.format(*args))\n",
      "  File \"C:\\Users\\KelvinOX25\\Anaconda3\\lib\\site-packages\\qcodes\\instrument\\base.py\", line 759, in ask\n",
      "    answer = self.ask_raw(cmd)\n",
      "  File \"C:\\Users\\KelvinOX25\\Anaconda3\\lib\\site-packages\\qcodes\\instrument\\visa.py\", line 229, in ask_raw\n",
      "    response = self.visa_handle.query(cmd)\n",
      "  File \"C:\\Users\\KelvinOX25\\Anaconda3\\lib\\site-packages\\pyvisa\\resources\\messagebased.py\", line 613, in query\n",
      "    return self.read()\n",
      "  File \"C:\\Users\\KelvinOX25\\Anaconda3\\lib\\site-packages\\pyvisa\\resources\\messagebased.py\", line 427, in read\n",
      "    message = self._read_raw().decode(enco)\n",
      "  File \"C:\\Users\\KelvinOX25\\Anaconda3\\lib\\site-packages\\pyvisa\\resources\\messagebased.py\", line 400, in _read_raw\n",
      "    chunk, status = self.visalib.read(self.session, size)\n",
      "  File \"C:\\Users\\KelvinOX25\\Anaconda3\\lib\\site-packages\\pyvisa\\ctwrapper\\functions.py\", line 1584, in read\n",
      "    ret = library.viRead(session, buffer, count, byref(return_count))\n",
      "  File \"C:\\Users\\KelvinOX25\\Anaconda3\\lib\\site-packages\\pyvisa\\ctwrapper\\highlevel.py\", line 154, in _return_handler\n",
      "    def _return_handler(self, ret_value, func, arguments):\n",
      "KeyboardInterrupt\n",
      "\n"
     ]
    },
    {
     "ename": "KeyboardInterrupt",
     "evalue": "",
     "output_type": "error",
     "traceback": [
      "\u001b[1;31m---------------------------------------------------------------------------\u001b[0m",
      "\u001b[1;31mKeyboardInterrupt\u001b[0m                         Traceback (most recent call last)",
      "\u001b[1;32m<ipython-input-54-717631e0b55d>\u001b[0m in \u001b[0;36m<module>\u001b[1;34m\u001b[0m\n\u001b[0;32m      8\u001b[0m \u001b[1;33m\u001b[0m\u001b[0m\n\u001b[0;32m      9\u001b[0m jj.IVC_udu (amp = 50e-9, stp = .5e-9, dt = .1,  N_avg = 1, \n\u001b[1;32m---> 10\u001b[1;33m         label = f'kei Vg = {v}')\n\u001b[0m",
      "\u001b[1;32m~\\Documents\\GitHub\\measDC\\_jjtools\\JJmeasurement.py\u001b[0m in \u001b[0;36mIVC_udu\u001b[1;34m(self, amp, stp, **kwargs)\u001b[0m\n\u001b[0;32m    115\u001b[0m \u001b[1;33m\u001b[0m\u001b[0m\n\u001b[0;32m    116\u001b[0m         \u001b[0mi_list\u001b[0m \u001b[1;33m=\u001b[0m \u001b[0mudu_list\u001b[0m\u001b[1;33m(\u001b[0m\u001b[0mamp\u001b[0m\u001b[1;33m,\u001b[0m \u001b[0mstp\u001b[0m\u001b[1;33m)\u001b[0m\u001b[1;33m\u001b[0m\u001b[1;33m\u001b[0m\u001b[0m\n\u001b[1;32m--> 117\u001b[1;33m         \u001b[0mrun_id\u001b[0m \u001b[1;33m=\u001b[0m \u001b[0mself\u001b[0m\u001b[1;33m.\u001b[0m\u001b[0mIVC_cust\u001b[0m \u001b[1;33m(\u001b[0m \u001b[0mi_list\u001b[0m\u001b[1;33m,\u001b[0m \u001b[1;33m**\u001b[0m\u001b[0mkwargs\u001b[0m\u001b[1;33m)\u001b[0m\u001b[1;33m\u001b[0m\u001b[1;33m\u001b[0m\u001b[0m\n\u001b[0m\u001b[0;32m    118\u001b[0m \u001b[1;33m\u001b[0m\u001b[0m\n\u001b[0;32m    119\u001b[0m \u001b[1;33m\u001b[0m\u001b[0m\n",
      "\u001b[1;32m~\\Documents\\GitHub\\measDC\\_jjtools\\JJmeasurement.py\u001b[0m in \u001b[0;36mIVC_cust\u001b[1;34m(self, i_list, Ioff, Vthr, dt, N_avg, label)\u001b[0m\n\u001b[0;32m     82\u001b[0m                 \u001b[0mtime\u001b[0m\u001b[1;33m.\u001b[0m\u001b[0msleep\u001b[0m\u001b[1;33m(\u001b[0m\u001b[0mdt\u001b[0m\u001b[1;33m)\u001b[0m\u001b[1;33m\u001b[0m\u001b[1;33m\u001b[0m\u001b[0m\n\u001b[0;32m     83\u001b[0m \u001b[1;33m\u001b[0m\u001b[0m\n\u001b[1;32m---> 84\u001b[1;33m                 \u001b[0mis_vs\u001b[0m \u001b[1;33m=\u001b[0m \u001b[1;33m[\u001b[0m\u001b[1;33m[\u001b[0m\u001b[0mI\u001b[0m\u001b[1;33m.\u001b[0m\u001b[0mget\u001b[0m\u001b[1;33m(\u001b[0m\u001b[1;33m)\u001b[0m\u001b[1;33m,\u001b[0m\u001b[0mV\u001b[0m\u001b[1;33m.\u001b[0m\u001b[0mget\u001b[0m\u001b[1;33m(\u001b[0m\u001b[1;33m)\u001b[0m\u001b[1;33m]\u001b[0m \u001b[1;32mfor\u001b[0m \u001b[0m_\u001b[0m \u001b[1;32min\u001b[0m \u001b[0mrange\u001b[0m\u001b[1;33m(\u001b[0m \u001b[0mN_avg\u001b[0m\u001b[1;33m)\u001b[0m\u001b[1;33m]\u001b[0m\u001b[1;33m\u001b[0m\u001b[1;33m\u001b[0m\u001b[0m\n\u001b[0m\u001b[0;32m     85\u001b[0m \u001b[1;33m\u001b[0m\u001b[0m\n\u001b[0;32m     86\u001b[0m                 \u001b[0mir\u001b[0m\u001b[1;33m,\u001b[0m \u001b[0mv\u001b[0m \u001b[1;33m=\u001b[0m \u001b[0mnp\u001b[0m\u001b[1;33m.\u001b[0m\u001b[0mmean\u001b[0m\u001b[1;33m(\u001b[0m\u001b[0mis_vs\u001b[0m\u001b[1;33m,\u001b[0m \u001b[0maxis\u001b[0m \u001b[1;33m=\u001b[0m \u001b[1;36m0\u001b[0m\u001b[1;33m)\u001b[0m\u001b[1;33m\u001b[0m\u001b[1;33m\u001b[0m\u001b[0m\n",
      "\u001b[1;32m~\\Documents\\GitHub\\measDC\\_jjtools\\JJmeasurement.py\u001b[0m in \u001b[0;36m<listcomp>\u001b[1;34m(.0)\u001b[0m\n\u001b[0;32m     82\u001b[0m                 \u001b[0mtime\u001b[0m\u001b[1;33m.\u001b[0m\u001b[0msleep\u001b[0m\u001b[1;33m(\u001b[0m\u001b[0mdt\u001b[0m\u001b[1;33m)\u001b[0m\u001b[1;33m\u001b[0m\u001b[1;33m\u001b[0m\u001b[0m\n\u001b[0;32m     83\u001b[0m \u001b[1;33m\u001b[0m\u001b[0m\n\u001b[1;32m---> 84\u001b[1;33m                 \u001b[0mis_vs\u001b[0m \u001b[1;33m=\u001b[0m \u001b[1;33m[\u001b[0m\u001b[1;33m[\u001b[0m\u001b[0mI\u001b[0m\u001b[1;33m.\u001b[0m\u001b[0mget\u001b[0m\u001b[1;33m(\u001b[0m\u001b[1;33m)\u001b[0m\u001b[1;33m,\u001b[0m\u001b[0mV\u001b[0m\u001b[1;33m.\u001b[0m\u001b[0mget\u001b[0m\u001b[1;33m(\u001b[0m\u001b[1;33m)\u001b[0m\u001b[1;33m]\u001b[0m \u001b[1;32mfor\u001b[0m \u001b[0m_\u001b[0m \u001b[1;32min\u001b[0m \u001b[0mrange\u001b[0m\u001b[1;33m(\u001b[0m \u001b[0mN_avg\u001b[0m\u001b[1;33m)\u001b[0m\u001b[1;33m]\u001b[0m\u001b[1;33m\u001b[0m\u001b[1;33m\u001b[0m\u001b[0m\n\u001b[0m\u001b[0;32m     85\u001b[0m \u001b[1;33m\u001b[0m\u001b[0m\n\u001b[0;32m     86\u001b[0m                 \u001b[0mir\u001b[0m\u001b[1;33m,\u001b[0m \u001b[0mv\u001b[0m \u001b[1;33m=\u001b[0m \u001b[0mnp\u001b[0m\u001b[1;33m.\u001b[0m\u001b[0mmean\u001b[0m\u001b[1;33m(\u001b[0m\u001b[0mis_vs\u001b[0m\u001b[1;33m,\u001b[0m \u001b[0maxis\u001b[0m \u001b[1;33m=\u001b[0m \u001b[1;36m0\u001b[0m\u001b[1;33m)\u001b[0m\u001b[1;33m\u001b[0m\u001b[1;33m\u001b[0m\u001b[0m\n",
      "\u001b[1;32m~\\Anaconda3\\lib\\site-packages\\qcodes\\instrument\\parameter.py\u001b[0m in \u001b[0;36mget_wrapper\u001b[1;34m(*args, **kwargs)\u001b[0m\n\u001b[0;32m    446\u001b[0m             \u001b[1;32mtry\u001b[0m\u001b[1;33m:\u001b[0m\u001b[1;33m\u001b[0m\u001b[1;33m\u001b[0m\u001b[0m\n\u001b[0;32m    447\u001b[0m                 \u001b[1;31m# There might be cases where a .get also has args/kwargs\u001b[0m\u001b[1;33m\u001b[0m\u001b[1;33m\u001b[0m\u001b[1;33m\u001b[0m\u001b[0m\n\u001b[1;32m--> 448\u001b[1;33m                 \u001b[0mvalue\u001b[0m \u001b[1;33m=\u001b[0m \u001b[0mget_function\u001b[0m\u001b[1;33m(\u001b[0m\u001b[1;33m*\u001b[0m\u001b[0margs\u001b[0m\u001b[1;33m,\u001b[0m \u001b[1;33m**\u001b[0m\u001b[0mkwargs\u001b[0m\u001b[1;33m)\u001b[0m\u001b[1;33m\u001b[0m\u001b[1;33m\u001b[0m\u001b[0m\n\u001b[0m\u001b[0;32m    449\u001b[0m                 \u001b[0mself\u001b[0m\u001b[1;33m.\u001b[0m\u001b[0mraw_value\u001b[0m \u001b[1;33m=\u001b[0m \u001b[0mvalue\u001b[0m\u001b[1;33m\u001b[0m\u001b[1;33m\u001b[0m\u001b[0m\n\u001b[0;32m    450\u001b[0m \u001b[1;33m\u001b[0m\u001b[0m\n",
      "\u001b[1;32m~\\Anaconda3\\lib\\site-packages\\qcodes\\utils\\command.py\u001b[0m in \u001b[0;36m__call__\u001b[1;34m(self, *args)\u001b[0m\n\u001b[0;32m    176\u001b[0m             raise TypeError(\n\u001b[0;32m    177\u001b[0m                 'command takes exactly {} args'.format(self.arg_count))\n\u001b[1;32m--> 178\u001b[1;33m         \u001b[1;32mreturn\u001b[0m \u001b[0mself\u001b[0m\u001b[1;33m.\u001b[0m\u001b[0mexec_function\u001b[0m\u001b[1;33m(\u001b[0m\u001b[1;33m*\u001b[0m\u001b[0margs\u001b[0m\u001b[1;33m)\u001b[0m\u001b[1;33m\u001b[0m\u001b[1;33m\u001b[0m\u001b[0m\n\u001b[0m",
      "\u001b[1;32m~\\Anaconda3\\lib\\site-packages\\qcodes\\utils\\command.py\u001b[0m in \u001b[0;36mcall_by_str\u001b[1;34m(self, *args)\u001b[0m\n\u001b[0;32m    125\u001b[0m     \u001b[1;32mdef\u001b[0m \u001b[0mcall_by_str\u001b[0m\u001b[1;33m(\u001b[0m\u001b[0mself\u001b[0m\u001b[1;33m,\u001b[0m \u001b[1;33m*\u001b[0m\u001b[0margs\u001b[0m\u001b[1;33m)\u001b[0m\u001b[1;33m:\u001b[0m\u001b[1;33m\u001b[0m\u001b[1;33m\u001b[0m\u001b[0m\n\u001b[0;32m    126\u001b[0m         \u001b[1;34m\"\"\"Execute a formatted string.\"\"\"\u001b[0m\u001b[1;33m\u001b[0m\u001b[1;33m\u001b[0m\u001b[0m\n\u001b[1;32m--> 127\u001b[1;33m         \u001b[1;32mreturn\u001b[0m \u001b[0mself\u001b[0m\u001b[1;33m.\u001b[0m\u001b[0mexec_str\u001b[0m\u001b[1;33m(\u001b[0m\u001b[0mself\u001b[0m\u001b[1;33m.\u001b[0m\u001b[0mcmd_str\u001b[0m\u001b[1;33m.\u001b[0m\u001b[0mformat\u001b[0m\u001b[1;33m(\u001b[0m\u001b[1;33m*\u001b[0m\u001b[0margs\u001b[0m\u001b[1;33m)\u001b[0m\u001b[1;33m)\u001b[0m\u001b[1;33m\u001b[0m\u001b[1;33m\u001b[0m\u001b[0m\n\u001b[0m\u001b[0;32m    128\u001b[0m \u001b[1;33m\u001b[0m\u001b[0m\n\u001b[0;32m    129\u001b[0m     \u001b[1;32mdef\u001b[0m \u001b[0mcall_by_str_parsed_out\u001b[0m\u001b[1;33m(\u001b[0m\u001b[0mself\u001b[0m\u001b[1;33m,\u001b[0m \u001b[1;33m*\u001b[0m\u001b[0margs\u001b[0m\u001b[1;33m)\u001b[0m\u001b[1;33m:\u001b[0m\u001b[1;33m\u001b[0m\u001b[1;33m\u001b[0m\u001b[0m\n",
      "\u001b[1;32m~\\Anaconda3\\lib\\site-packages\\qcodes\\instrument\\base.py\u001b[0m in \u001b[0;36mask\u001b[1;34m(self, cmd)\u001b[0m\n\u001b[0;32m    757\u001b[0m         \"\"\"\n\u001b[0;32m    758\u001b[0m         \u001b[1;32mtry\u001b[0m\u001b[1;33m:\u001b[0m\u001b[1;33m\u001b[0m\u001b[1;33m\u001b[0m\u001b[0m\n\u001b[1;32m--> 759\u001b[1;33m             \u001b[0manswer\u001b[0m \u001b[1;33m=\u001b[0m \u001b[0mself\u001b[0m\u001b[1;33m.\u001b[0m\u001b[0mask_raw\u001b[0m\u001b[1;33m(\u001b[0m\u001b[0mcmd\u001b[0m\u001b[1;33m)\u001b[0m\u001b[1;33m\u001b[0m\u001b[1;33m\u001b[0m\u001b[0m\n\u001b[0m\u001b[0;32m    760\u001b[0m \u001b[1;33m\u001b[0m\u001b[0m\n\u001b[0;32m    761\u001b[0m             \u001b[1;32mreturn\u001b[0m \u001b[0manswer\u001b[0m\u001b[1;33m\u001b[0m\u001b[1;33m\u001b[0m\u001b[0m\n",
      "\u001b[1;32m~\\Anaconda3\\lib\\site-packages\\qcodes\\instrument\\visa.py\u001b[0m in \u001b[0;36mask_raw\u001b[1;34m(self, cmd)\u001b[0m\n\u001b[0;32m    227\u001b[0m         \"\"\"\n\u001b[0;32m    228\u001b[0m         \u001b[0mself\u001b[0m\u001b[1;33m.\u001b[0m\u001b[0mvisa_log\u001b[0m\u001b[1;33m.\u001b[0m\u001b[0mdebug\u001b[0m\u001b[1;33m(\u001b[0m\u001b[1;34mf\"Querying: {cmd}\"\u001b[0m\u001b[1;33m)\u001b[0m\u001b[1;33m\u001b[0m\u001b[1;33m\u001b[0m\u001b[0m\n\u001b[1;32m--> 229\u001b[1;33m         \u001b[0mresponse\u001b[0m \u001b[1;33m=\u001b[0m \u001b[0mself\u001b[0m\u001b[1;33m.\u001b[0m\u001b[0mvisa_handle\u001b[0m\u001b[1;33m.\u001b[0m\u001b[0mquery\u001b[0m\u001b[1;33m(\u001b[0m\u001b[0mcmd\u001b[0m\u001b[1;33m)\u001b[0m\u001b[1;33m\u001b[0m\u001b[1;33m\u001b[0m\u001b[0m\n\u001b[0m\u001b[0;32m    230\u001b[0m         \u001b[0mself\u001b[0m\u001b[1;33m.\u001b[0m\u001b[0mvisa_log\u001b[0m\u001b[1;33m.\u001b[0m\u001b[0mdebug\u001b[0m\u001b[1;33m(\u001b[0m\u001b[1;34mf\"Response: {response}\"\u001b[0m\u001b[1;33m)\u001b[0m\u001b[1;33m\u001b[0m\u001b[1;33m\u001b[0m\u001b[0m\n\u001b[0;32m    231\u001b[0m \u001b[1;33m\u001b[0m\u001b[0m\n",
      "\u001b[1;32m~\\Anaconda3\\lib\\site-packages\\pyvisa\\resources\\messagebased.py\u001b[0m in \u001b[0;36mquery\u001b[1;34m(self, message, delay)\u001b[0m\n\u001b[0;32m    611\u001b[0m         \u001b[1;32mif\u001b[0m \u001b[0mdelay\u001b[0m \u001b[1;33m>\u001b[0m \u001b[1;36m0.0\u001b[0m\u001b[1;33m:\u001b[0m\u001b[1;33m\u001b[0m\u001b[1;33m\u001b[0m\u001b[0m\n\u001b[0;32m    612\u001b[0m             \u001b[0mtime\u001b[0m\u001b[1;33m.\u001b[0m\u001b[0msleep\u001b[0m\u001b[1;33m(\u001b[0m\u001b[0mdelay\u001b[0m\u001b[1;33m)\u001b[0m\u001b[1;33m\u001b[0m\u001b[1;33m\u001b[0m\u001b[0m\n\u001b[1;32m--> 613\u001b[1;33m         \u001b[1;32mreturn\u001b[0m \u001b[0mself\u001b[0m\u001b[1;33m.\u001b[0m\u001b[0mread\u001b[0m\u001b[1;33m(\u001b[0m\u001b[1;33m)\u001b[0m\u001b[1;33m\u001b[0m\u001b[1;33m\u001b[0m\u001b[0m\n\u001b[0m\u001b[0;32m    614\u001b[0m \u001b[1;33m\u001b[0m\u001b[0m\n\u001b[0;32m    615\u001b[0m     \u001b[1;32mdef\u001b[0m \u001b[0mask\u001b[0m\u001b[1;33m(\u001b[0m\u001b[0mself\u001b[0m\u001b[1;33m,\u001b[0m \u001b[0mmessage\u001b[0m\u001b[1;33m,\u001b[0m \u001b[0mdelay\u001b[0m\u001b[1;33m=\u001b[0m\u001b[1;32mNone\u001b[0m\u001b[1;33m)\u001b[0m\u001b[1;33m:\u001b[0m\u001b[1;33m\u001b[0m\u001b[1;33m\u001b[0m\u001b[0m\n",
      "\u001b[1;32m~\\Anaconda3\\lib\\site-packages\\pyvisa\\resources\\messagebased.py\u001b[0m in \u001b[0;36mread\u001b[1;34m(self, termination, encoding)\u001b[0m\n\u001b[0;32m    425\u001b[0m         \u001b[1;32mif\u001b[0m \u001b[0mtermination\u001b[0m \u001b[1;32mis\u001b[0m \u001b[1;32mNone\u001b[0m\u001b[1;33m:\u001b[0m\u001b[1;33m\u001b[0m\u001b[1;33m\u001b[0m\u001b[0m\n\u001b[0;32m    426\u001b[0m             \u001b[0mtermination\u001b[0m \u001b[1;33m=\u001b[0m \u001b[0mself\u001b[0m\u001b[1;33m.\u001b[0m\u001b[0m_read_termination\u001b[0m\u001b[1;33m\u001b[0m\u001b[1;33m\u001b[0m\u001b[0m\n\u001b[1;32m--> 427\u001b[1;33m             \u001b[0mmessage\u001b[0m \u001b[1;33m=\u001b[0m \u001b[0mself\u001b[0m\u001b[1;33m.\u001b[0m\u001b[0m_read_raw\u001b[0m\u001b[1;33m(\u001b[0m\u001b[1;33m)\u001b[0m\u001b[1;33m.\u001b[0m\u001b[0mdecode\u001b[0m\u001b[1;33m(\u001b[0m\u001b[0menco\u001b[0m\u001b[1;33m)\u001b[0m\u001b[1;33m\u001b[0m\u001b[1;33m\u001b[0m\u001b[0m\n\u001b[0m\u001b[0;32m    428\u001b[0m         \u001b[1;32melse\u001b[0m\u001b[1;33m:\u001b[0m\u001b[1;33m\u001b[0m\u001b[1;33m\u001b[0m\u001b[0m\n\u001b[0;32m    429\u001b[0m             \u001b[1;32mwith\u001b[0m \u001b[0mself\u001b[0m\u001b[1;33m.\u001b[0m\u001b[0mread_termination_context\u001b[0m\u001b[1;33m(\u001b[0m\u001b[0mtermination\u001b[0m\u001b[1;33m)\u001b[0m\u001b[1;33m:\u001b[0m\u001b[1;33m\u001b[0m\u001b[1;33m\u001b[0m\u001b[0m\n",
      "\u001b[1;32m~\\Anaconda3\\lib\\site-packages\\pyvisa\\resources\\messagebased.py\u001b[0m in \u001b[0;36m_read_raw\u001b[1;34m(self, size)\u001b[0m\n\u001b[0;32m    398\u001b[0m                     logger.debug('%s - reading %d bytes (last status %r)',\n\u001b[0;32m    399\u001b[0m                                  self._resource_name, size, status)\n\u001b[1;32m--> 400\u001b[1;33m                     \u001b[0mchunk\u001b[0m\u001b[1;33m,\u001b[0m \u001b[0mstatus\u001b[0m \u001b[1;33m=\u001b[0m \u001b[0mself\u001b[0m\u001b[1;33m.\u001b[0m\u001b[0mvisalib\u001b[0m\u001b[1;33m.\u001b[0m\u001b[0mread\u001b[0m\u001b[1;33m(\u001b[0m\u001b[0mself\u001b[0m\u001b[1;33m.\u001b[0m\u001b[0msession\u001b[0m\u001b[1;33m,\u001b[0m \u001b[0msize\u001b[0m\u001b[1;33m)\u001b[0m\u001b[1;33m\u001b[0m\u001b[1;33m\u001b[0m\u001b[0m\n\u001b[0m\u001b[0;32m    401\u001b[0m                     \u001b[0mret\u001b[0m\u001b[1;33m.\u001b[0m\u001b[0mextend\u001b[0m\u001b[1;33m(\u001b[0m\u001b[0mchunk\u001b[0m\u001b[1;33m)\u001b[0m\u001b[1;33m\u001b[0m\u001b[1;33m\u001b[0m\u001b[0m\n\u001b[0;32m    402\u001b[0m             \u001b[1;32mexcept\u001b[0m \u001b[0merrors\u001b[0m\u001b[1;33m.\u001b[0m\u001b[0mVisaIOError\u001b[0m \u001b[1;32mas\u001b[0m \u001b[0me\u001b[0m\u001b[1;33m:\u001b[0m\u001b[1;33m\u001b[0m\u001b[1;33m\u001b[0m\u001b[0m\n",
      "\u001b[1;32m~\\Anaconda3\\lib\\site-packages\\pyvisa\\ctwrapper\\functions.py\u001b[0m in \u001b[0;36mread\u001b[1;34m(library, session, count)\u001b[0m\n\u001b[0;32m   1582\u001b[0m     \u001b[0mbuffer\u001b[0m \u001b[1;33m=\u001b[0m \u001b[0mcreate_string_buffer\u001b[0m\u001b[1;33m(\u001b[0m\u001b[0mcount\u001b[0m\u001b[1;33m)\u001b[0m\u001b[1;33m\u001b[0m\u001b[1;33m\u001b[0m\u001b[0m\n\u001b[0;32m   1583\u001b[0m     \u001b[0mreturn_count\u001b[0m \u001b[1;33m=\u001b[0m \u001b[0mViUInt32\u001b[0m\u001b[1;33m(\u001b[0m\u001b[1;33m)\u001b[0m\u001b[1;33m\u001b[0m\u001b[1;33m\u001b[0m\u001b[0m\n\u001b[1;32m-> 1584\u001b[1;33m     \u001b[0mret\u001b[0m \u001b[1;33m=\u001b[0m \u001b[0mlibrary\u001b[0m\u001b[1;33m.\u001b[0m\u001b[0mviRead\u001b[0m\u001b[1;33m(\u001b[0m\u001b[0msession\u001b[0m\u001b[1;33m,\u001b[0m \u001b[0mbuffer\u001b[0m\u001b[1;33m,\u001b[0m \u001b[0mcount\u001b[0m\u001b[1;33m,\u001b[0m \u001b[0mbyref\u001b[0m\u001b[1;33m(\u001b[0m\u001b[0mreturn_count\u001b[0m\u001b[1;33m)\u001b[0m\u001b[1;33m)\u001b[0m\u001b[1;33m\u001b[0m\u001b[1;33m\u001b[0m\u001b[0m\n\u001b[0m\u001b[0;32m   1585\u001b[0m     \u001b[1;32mreturn\u001b[0m \u001b[0mbuffer\u001b[0m\u001b[1;33m.\u001b[0m\u001b[0mraw\u001b[0m\u001b[1;33m[\u001b[0m\u001b[1;33m:\u001b[0m\u001b[0mreturn_count\u001b[0m\u001b[1;33m.\u001b[0m\u001b[0mvalue\u001b[0m\u001b[1;33m]\u001b[0m\u001b[1;33m,\u001b[0m \u001b[0mret\u001b[0m\u001b[1;33m\u001b[0m\u001b[1;33m\u001b[0m\u001b[0m\n\u001b[0;32m   1586\u001b[0m \u001b[1;33m\u001b[0m\u001b[0m\n",
      "\u001b[1;32m~\\Anaconda3\\lib\\site-packages\\pyvisa\\ctwrapper\\highlevel.py\u001b[0m in \u001b[0;36m_return_handler\u001b[1;34m(self, ret_value, func, arguments)\u001b[0m\n\u001b[0;32m    152\u001b[0m             \u001b[0msetattr\u001b[0m\u001b[1;33m(\u001b[0m\u001b[0mself\u001b[0m\u001b[1;33m,\u001b[0m \u001b[0mmethod_name\u001b[0m\u001b[1;33m,\u001b[0m \u001b[0mgetattr\u001b[0m\u001b[1;33m(\u001b[0m\u001b[0mself\u001b[0m\u001b[1;33m.\u001b[0m\u001b[0mlib\u001b[0m\u001b[1;33m,\u001b[0m \u001b[0mmethod_name\u001b[0m\u001b[1;33m)\u001b[0m\u001b[1;33m)\u001b[0m\u001b[1;33m\u001b[0m\u001b[1;33m\u001b[0m\u001b[0m\n\u001b[0;32m    153\u001b[0m \u001b[1;33m\u001b[0m\u001b[0m\n\u001b[1;32m--> 154\u001b[1;33m     \u001b[1;32mdef\u001b[0m \u001b[0m_return_handler\u001b[0m\u001b[1;33m(\u001b[0m\u001b[0mself\u001b[0m\u001b[1;33m,\u001b[0m \u001b[0mret_value\u001b[0m\u001b[1;33m,\u001b[0m \u001b[0mfunc\u001b[0m\u001b[1;33m,\u001b[0m \u001b[0marguments\u001b[0m\u001b[1;33m)\u001b[0m\u001b[1;33m:\u001b[0m\u001b[1;33m\u001b[0m\u001b[1;33m\u001b[0m\u001b[0m\n\u001b[0m\u001b[0;32m    155\u001b[0m         \"\"\"Check return values for errors and warnings.\n\u001b[0;32m    156\u001b[0m         \"\"\"\n",
      "\u001b[1;31mKeyboardInterrupt\u001b[0m: "
     ]
    }
   ],
   "source": [
    "jj.tools['I'].set( 0)\n",
    "v = 3\n",
    "\n",
    "Vg.set(v)\n",
    "\n",
    "\n",
    "time.sleep(5)\n",
    "\n",
    "jj.IVC_udu (amp = 50e-9, stp = .5e-9, dt = .1,  N_avg = 1, \n",
    "        label = f'kei Vg = {v}')"
   ]
  },
  {
   "cell_type": "code",
   "execution_count": 55,
   "metadata": {},
   "outputs": [
    {
     "data": {
      "application/vnd.jupyter.widget-view+json": {
       "model_id": "",
       "version_major": 2,
       "version_minor": 0
      },
      "text/plain": [
       "HBox(children=(IntProgress(value=0, max=203), HTML(value='')))"
      ]
     },
     "metadata": {},
     "output_type": "display_data"
    },
    {
     "name": "stdout",
     "output_type": "stream",
     "text": [
      "Starting experimental run with id: 132\n"
     ]
    },
    {
     "data": {
      "application/vnd.jupyter.widget-view+json": {
       "model_id": "",
       "version_major": 2,
       "version_minor": 0
      },
      "text/plain": [
       "HBox(children=(IntProgress(value=0, max=203), HTML(value='')))"
      ]
     },
     "metadata": {},
     "output_type": "display_data"
    },
    {
     "name": "stdout",
     "output_type": "stream",
     "text": [
      "Starting experimental run with id: 133\n"
     ]
    },
    {
     "data": {
      "application/vnd.jupyter.widget-view+json": {
       "model_id": "",
       "version_major": 2,
       "version_minor": 0
      },
      "text/plain": [
       "HBox(children=(IntProgress(value=0, max=203), HTML(value='')))"
      ]
     },
     "metadata": {},
     "output_type": "display_data"
    },
    {
     "name": "stdout",
     "output_type": "stream",
     "text": [
      "Starting experimental run with id: 134\n"
     ]
    },
    {
     "data": {
      "application/vnd.jupyter.widget-view+json": {
       "model_id": "",
       "version_major": 2,
       "version_minor": 0
      },
      "text/plain": [
       "HBox(children=(IntProgress(value=0, max=203), HTML(value='')))"
      ]
     },
     "metadata": {},
     "output_type": "display_data"
    },
    {
     "name": "stdout",
     "output_type": "stream",
     "text": [
      "Starting experimental run with id: 135\n"
     ]
    },
    {
     "data": {
      "application/vnd.jupyter.widget-view+json": {
       "model_id": "81cee55c2cef4b45862992ce179f4df9",
       "version_major": 2,
       "version_minor": 0
      },
      "text/plain": [
       "HBox(children=(IntProgress(value=0, max=203), HTML(value='')))"
      ]
     },
     "metadata": {},
     "output_type": "display_data"
    },
    {
     "name": "stdout",
     "output_type": "stream",
     "text": [
      "Starting experimental run with id: 136\n"
     ]
    },
    {
     "name": "stderr",
     "output_type": "stream",
     "text": [
      "An exception occured in measurement with guid: aaaaaaaa-0000-0000-0000-0173eb20a7fd;\n",
      "Traceback:\n",
      "Traceback (most recent call last):\n",
      "  File \"..\\..\\_jjtools\\JJmeasurement.py\", line 82, in IVC_cust\n",
      "    time.sleep(dt)\n",
      "KeyboardInterrupt\n",
      "\n"
     ]
    },
    {
     "ename": "KeyboardInterrupt",
     "evalue": "",
     "output_type": "error",
     "traceback": [
      "\u001b[1;31m---------------------------------------------------------------------------\u001b[0m",
      "\u001b[1;31mKeyboardInterrupt\u001b[0m                         Traceback (most recent call last)",
      "\u001b[1;32m<ipython-input-55-ef23d26d9e1e>\u001b[0m in \u001b[0;36m<module>\u001b[1;34m\u001b[0m\n\u001b[0;32m      8\u001b[0m \u001b[1;33m\u001b[0m\u001b[0m\n\u001b[0;32m      9\u001b[0m     jj.IVC_udu (amp = 50e-9, stp = 1e-9, dt = .1,  N_avg = 1, \n\u001b[1;32m---> 10\u001b[1;33m             label = f'kei Vg = {V}')\n\u001b[0m",
      "\u001b[1;32m~\\Documents\\GitHub\\measDC\\_jjtools\\JJmeasurement.py\u001b[0m in \u001b[0;36mIVC_udu\u001b[1;34m(self, amp, stp, **kwargs)\u001b[0m\n\u001b[0;32m    115\u001b[0m \u001b[1;33m\u001b[0m\u001b[0m\n\u001b[0;32m    116\u001b[0m         \u001b[0mi_list\u001b[0m \u001b[1;33m=\u001b[0m \u001b[0mudu_list\u001b[0m\u001b[1;33m(\u001b[0m\u001b[0mamp\u001b[0m\u001b[1;33m,\u001b[0m \u001b[0mstp\u001b[0m\u001b[1;33m)\u001b[0m\u001b[1;33m\u001b[0m\u001b[1;33m\u001b[0m\u001b[0m\n\u001b[1;32m--> 117\u001b[1;33m         \u001b[0mrun_id\u001b[0m \u001b[1;33m=\u001b[0m \u001b[0mself\u001b[0m\u001b[1;33m.\u001b[0m\u001b[0mIVC_cust\u001b[0m \u001b[1;33m(\u001b[0m \u001b[0mi_list\u001b[0m\u001b[1;33m,\u001b[0m \u001b[1;33m**\u001b[0m\u001b[0mkwargs\u001b[0m\u001b[1;33m)\u001b[0m\u001b[1;33m\u001b[0m\u001b[1;33m\u001b[0m\u001b[0m\n\u001b[0m\u001b[0;32m    118\u001b[0m \u001b[1;33m\u001b[0m\u001b[0m\n\u001b[0;32m    119\u001b[0m \u001b[1;33m\u001b[0m\u001b[0m\n",
      "\u001b[1;32m~\\Documents\\GitHub\\measDC\\_jjtools\\JJmeasurement.py\u001b[0m in \u001b[0;36mIVC_cust\u001b[1;34m(self, i_list, Ioff, Vthr, dt, N_avg, label)\u001b[0m\n\u001b[0;32m     80\u001b[0m \u001b[1;33m\u001b[0m\u001b[0m\n\u001b[0;32m     81\u001b[0m \u001b[1;33m\u001b[0m\u001b[0m\n\u001b[1;32m---> 82\u001b[1;33m                 \u001b[0mtime\u001b[0m\u001b[1;33m.\u001b[0m\u001b[0msleep\u001b[0m\u001b[1;33m(\u001b[0m\u001b[0mdt\u001b[0m\u001b[1;33m)\u001b[0m\u001b[1;33m\u001b[0m\u001b[1;33m\u001b[0m\u001b[0m\n\u001b[0m\u001b[0;32m     83\u001b[0m \u001b[1;33m\u001b[0m\u001b[0m\n\u001b[0;32m     84\u001b[0m                 \u001b[0mis_vs\u001b[0m \u001b[1;33m=\u001b[0m \u001b[1;33m[\u001b[0m\u001b[1;33m[\u001b[0m\u001b[0mI\u001b[0m\u001b[1;33m.\u001b[0m\u001b[0mget\u001b[0m\u001b[1;33m(\u001b[0m\u001b[1;33m)\u001b[0m\u001b[1;33m,\u001b[0m\u001b[0mV\u001b[0m\u001b[1;33m.\u001b[0m\u001b[0mget\u001b[0m\u001b[1;33m(\u001b[0m\u001b[1;33m)\u001b[0m\u001b[1;33m]\u001b[0m \u001b[1;32mfor\u001b[0m \u001b[0m_\u001b[0m \u001b[1;32min\u001b[0m \u001b[0mrange\u001b[0m\u001b[1;33m(\u001b[0m \u001b[0mN_avg\u001b[0m\u001b[1;33m)\u001b[0m\u001b[1;33m]\u001b[0m\u001b[1;33m\u001b[0m\u001b[1;33m\u001b[0m\u001b[0m\n",
      "\u001b[1;31mKeyboardInterrupt\u001b[0m: "
     ]
    }
   ],
   "source": [
    "V_list = np.linspace(0, 10, 21 )\n",
    "# V = -7\n",
    "\n",
    "\n",
    "for V in V_list:\n",
    "    Vg.set(V)\n",
    "\n",
    "\n",
    "    jj.IVC_udu (amp = 50e-9, stp = 1e-9, dt = .1,  N_avg = 1, \n",
    "            label = f'kei Vg = {V}')"
   ]
  },
  {
   "cell_type": "code",
   "execution_count": 43,
   "metadata": {},
   "outputs": [
    {
     "data": {
      "application/javascript": [
       "/* Put everything inside the global mpl namespace */\n",
       "window.mpl = {};\n",
       "\n",
       "\n",
       "mpl.get_websocket_type = function() {\n",
       "    if (typeof(WebSocket) !== 'undefined') {\n",
       "        return WebSocket;\n",
       "    } else if (typeof(MozWebSocket) !== 'undefined') {\n",
       "        return MozWebSocket;\n",
       "    } else {\n",
       "        alert('Your browser does not have WebSocket support. ' +\n",
       "              'Please try Chrome, Safari or Firefox ≥ 6. ' +\n",
       "              'Firefox 4 and 5 are also supported but you ' +\n",
       "              'have to enable WebSockets in about:config.');\n",
       "    };\n",
       "}\n",
       "\n",
       "mpl.figure = function(figure_id, websocket, ondownload, parent_element) {\n",
       "    this.id = figure_id;\n",
       "\n",
       "    this.ws = websocket;\n",
       "\n",
       "    this.supports_binary = (this.ws.binaryType != undefined);\n",
       "\n",
       "    if (!this.supports_binary) {\n",
       "        var warnings = document.getElementById(\"mpl-warnings\");\n",
       "        if (warnings) {\n",
       "            warnings.style.display = 'block';\n",
       "            warnings.textContent = (\n",
       "                \"This browser does not support binary websocket messages. \" +\n",
       "                    \"Performance may be slow.\");\n",
       "        }\n",
       "    }\n",
       "\n",
       "    this.imageObj = new Image();\n",
       "\n",
       "    this.context = undefined;\n",
       "    this.message = undefined;\n",
       "    this.canvas = undefined;\n",
       "    this.rubberband_canvas = undefined;\n",
       "    this.rubberband_context = undefined;\n",
       "    this.format_dropdown = undefined;\n",
       "\n",
       "    this.image_mode = 'full';\n",
       "\n",
       "    this.root = $('<div/>');\n",
       "    this._root_extra_style(this.root)\n",
       "    this.root.attr('style', 'display: inline-block');\n",
       "\n",
       "    $(parent_element).append(this.root);\n",
       "\n",
       "    this._init_header(this);\n",
       "    this._init_canvas(this);\n",
       "    this._init_toolbar(this);\n",
       "\n",
       "    var fig = this;\n",
       "\n",
       "    this.waiting = false;\n",
       "\n",
       "    this.ws.onopen =  function () {\n",
       "            fig.send_message(\"supports_binary\", {value: fig.supports_binary});\n",
       "            fig.send_message(\"send_image_mode\", {});\n",
       "            if (mpl.ratio != 1) {\n",
       "                fig.send_message(\"set_dpi_ratio\", {'dpi_ratio': mpl.ratio});\n",
       "            }\n",
       "            fig.send_message(\"refresh\", {});\n",
       "        }\n",
       "\n",
       "    this.imageObj.onload = function() {\n",
       "            if (fig.image_mode == 'full') {\n",
       "                // Full images could contain transparency (where diff images\n",
       "                // almost always do), so we need to clear the canvas so that\n",
       "                // there is no ghosting.\n",
       "                fig.context.clearRect(0, 0, fig.canvas.width, fig.canvas.height);\n",
       "            }\n",
       "            fig.context.drawImage(fig.imageObj, 0, 0);\n",
       "        };\n",
       "\n",
       "    this.imageObj.onunload = function() {\n",
       "        fig.ws.close();\n",
       "    }\n",
       "\n",
       "    this.ws.onmessage = this._make_on_message_function(this);\n",
       "\n",
       "    this.ondownload = ondownload;\n",
       "}\n",
       "\n",
       "mpl.figure.prototype._init_header = function() {\n",
       "    var titlebar = $(\n",
       "        '<div class=\"ui-dialog-titlebar ui-widget-header ui-corner-all ' +\n",
       "        'ui-helper-clearfix\"/>');\n",
       "    var titletext = $(\n",
       "        '<div class=\"ui-dialog-title\" style=\"width: 100%; ' +\n",
       "        'text-align: center; padding: 3px;\"/>');\n",
       "    titlebar.append(titletext)\n",
       "    this.root.append(titlebar);\n",
       "    this.header = titletext[0];\n",
       "}\n",
       "\n",
       "\n",
       "\n",
       "mpl.figure.prototype._canvas_extra_style = function(canvas_div) {\n",
       "\n",
       "}\n",
       "\n",
       "\n",
       "mpl.figure.prototype._root_extra_style = function(canvas_div) {\n",
       "\n",
       "}\n",
       "\n",
       "mpl.figure.prototype._init_canvas = function() {\n",
       "    var fig = this;\n",
       "\n",
       "    var canvas_div = $('<div/>');\n",
       "\n",
       "    canvas_div.attr('style', 'position: relative; clear: both; outline: 0');\n",
       "\n",
       "    function canvas_keyboard_event(event) {\n",
       "        return fig.key_event(event, event['data']);\n",
       "    }\n",
       "\n",
       "    canvas_div.keydown('key_press', canvas_keyboard_event);\n",
       "    canvas_div.keyup('key_release', canvas_keyboard_event);\n",
       "    this.canvas_div = canvas_div\n",
       "    this._canvas_extra_style(canvas_div)\n",
       "    this.root.append(canvas_div);\n",
       "\n",
       "    var canvas = $('<canvas/>');\n",
       "    canvas.addClass('mpl-canvas');\n",
       "    canvas.attr('style', \"left: 0; top: 0; z-index: 0; outline: 0\")\n",
       "\n",
       "    this.canvas = canvas[0];\n",
       "    this.context = canvas[0].getContext(\"2d\");\n",
       "\n",
       "    var backingStore = this.context.backingStorePixelRatio ||\n",
       "\tthis.context.webkitBackingStorePixelRatio ||\n",
       "\tthis.context.mozBackingStorePixelRatio ||\n",
       "\tthis.context.msBackingStorePixelRatio ||\n",
       "\tthis.context.oBackingStorePixelRatio ||\n",
       "\tthis.context.backingStorePixelRatio || 1;\n",
       "\n",
       "    mpl.ratio = (window.devicePixelRatio || 1) / backingStore;\n",
       "\n",
       "    var rubberband = $('<canvas/>');\n",
       "    rubberband.attr('style', \"position: absolute; left: 0; top: 0; z-index: 1;\")\n",
       "\n",
       "    var pass_mouse_events = true;\n",
       "\n",
       "    canvas_div.resizable({\n",
       "        start: function(event, ui) {\n",
       "            pass_mouse_events = false;\n",
       "        },\n",
       "        resize: function(event, ui) {\n",
       "            fig.request_resize(ui.size.width, ui.size.height);\n",
       "        },\n",
       "        stop: function(event, ui) {\n",
       "            pass_mouse_events = true;\n",
       "            fig.request_resize(ui.size.width, ui.size.height);\n",
       "        },\n",
       "    });\n",
       "\n",
       "    function mouse_event_fn(event) {\n",
       "        if (pass_mouse_events)\n",
       "            return fig.mouse_event(event, event['data']);\n",
       "    }\n",
       "\n",
       "    rubberband.mousedown('button_press', mouse_event_fn);\n",
       "    rubberband.mouseup('button_release', mouse_event_fn);\n",
       "    // Throttle sequential mouse events to 1 every 20ms.\n",
       "    rubberband.mousemove('motion_notify', mouse_event_fn);\n",
       "\n",
       "    rubberband.mouseenter('figure_enter', mouse_event_fn);\n",
       "    rubberband.mouseleave('figure_leave', mouse_event_fn);\n",
       "\n",
       "    canvas_div.on(\"wheel\", function (event) {\n",
       "        event = event.originalEvent;\n",
       "        event['data'] = 'scroll'\n",
       "        if (event.deltaY < 0) {\n",
       "            event.step = 1;\n",
       "        } else {\n",
       "            event.step = -1;\n",
       "        }\n",
       "        mouse_event_fn(event);\n",
       "    });\n",
       "\n",
       "    canvas_div.append(canvas);\n",
       "    canvas_div.append(rubberband);\n",
       "\n",
       "    this.rubberband = rubberband;\n",
       "    this.rubberband_canvas = rubberband[0];\n",
       "    this.rubberband_context = rubberband[0].getContext(\"2d\");\n",
       "    this.rubberband_context.strokeStyle = \"#000000\";\n",
       "\n",
       "    this._resize_canvas = function(width, height) {\n",
       "        // Keep the size of the canvas, canvas container, and rubber band\n",
       "        // canvas in synch.\n",
       "        canvas_div.css('width', width)\n",
       "        canvas_div.css('height', height)\n",
       "\n",
       "        canvas.attr('width', width * mpl.ratio);\n",
       "        canvas.attr('height', height * mpl.ratio);\n",
       "        canvas.attr('style', 'width: ' + width + 'px; height: ' + height + 'px;');\n",
       "\n",
       "        rubberband.attr('width', width);\n",
       "        rubberband.attr('height', height);\n",
       "    }\n",
       "\n",
       "    // Set the figure to an initial 600x600px, this will subsequently be updated\n",
       "    // upon first draw.\n",
       "    this._resize_canvas(600, 600);\n",
       "\n",
       "    // Disable right mouse context menu.\n",
       "    $(this.rubberband_canvas).bind(\"contextmenu\",function(e){\n",
       "        return false;\n",
       "    });\n",
       "\n",
       "    function set_focus () {\n",
       "        canvas.focus();\n",
       "        canvas_div.focus();\n",
       "    }\n",
       "\n",
       "    window.setTimeout(set_focus, 100);\n",
       "}\n",
       "\n",
       "mpl.figure.prototype._init_toolbar = function() {\n",
       "    var fig = this;\n",
       "\n",
       "    var nav_element = $('<div/>');\n",
       "    nav_element.attr('style', 'width: 100%');\n",
       "    this.root.append(nav_element);\n",
       "\n",
       "    // Define a callback function for later on.\n",
       "    function toolbar_event(event) {\n",
       "        return fig.toolbar_button_onclick(event['data']);\n",
       "    }\n",
       "    function toolbar_mouse_event(event) {\n",
       "        return fig.toolbar_button_onmouseover(event['data']);\n",
       "    }\n",
       "\n",
       "    for(var toolbar_ind in mpl.toolbar_items) {\n",
       "        var name = mpl.toolbar_items[toolbar_ind][0];\n",
       "        var tooltip = mpl.toolbar_items[toolbar_ind][1];\n",
       "        var image = mpl.toolbar_items[toolbar_ind][2];\n",
       "        var method_name = mpl.toolbar_items[toolbar_ind][3];\n",
       "\n",
       "        if (!name) {\n",
       "            // put a spacer in here.\n",
       "            continue;\n",
       "        }\n",
       "        var button = $('<button/>');\n",
       "        button.addClass('ui-button ui-widget ui-state-default ui-corner-all ' +\n",
       "                        'ui-button-icon-only');\n",
       "        button.attr('role', 'button');\n",
       "        button.attr('aria-disabled', 'false');\n",
       "        button.click(method_name, toolbar_event);\n",
       "        button.mouseover(tooltip, toolbar_mouse_event);\n",
       "\n",
       "        var icon_img = $('<span/>');\n",
       "        icon_img.addClass('ui-button-icon-primary ui-icon');\n",
       "        icon_img.addClass(image);\n",
       "        icon_img.addClass('ui-corner-all');\n",
       "\n",
       "        var tooltip_span = $('<span/>');\n",
       "        tooltip_span.addClass('ui-button-text');\n",
       "        tooltip_span.html(tooltip);\n",
       "\n",
       "        button.append(icon_img);\n",
       "        button.append(tooltip_span);\n",
       "\n",
       "        nav_element.append(button);\n",
       "    }\n",
       "\n",
       "    var fmt_picker_span = $('<span/>');\n",
       "\n",
       "    var fmt_picker = $('<select/>');\n",
       "    fmt_picker.addClass('mpl-toolbar-option ui-widget ui-widget-content');\n",
       "    fmt_picker_span.append(fmt_picker);\n",
       "    nav_element.append(fmt_picker_span);\n",
       "    this.format_dropdown = fmt_picker[0];\n",
       "\n",
       "    for (var ind in mpl.extensions) {\n",
       "        var fmt = mpl.extensions[ind];\n",
       "        var option = $(\n",
       "            '<option/>', {selected: fmt === mpl.default_extension}).html(fmt);\n",
       "        fmt_picker.append(option);\n",
       "    }\n",
       "\n",
       "    // Add hover states to the ui-buttons\n",
       "    $( \".ui-button\" ).hover(\n",
       "        function() { $(this).addClass(\"ui-state-hover\");},\n",
       "        function() { $(this).removeClass(\"ui-state-hover\");}\n",
       "    );\n",
       "\n",
       "    var status_bar = $('<span class=\"mpl-message\"/>');\n",
       "    nav_element.append(status_bar);\n",
       "    this.message = status_bar[0];\n",
       "}\n",
       "\n",
       "mpl.figure.prototype.request_resize = function(x_pixels, y_pixels) {\n",
       "    // Request matplotlib to resize the figure. Matplotlib will then trigger a resize in the client,\n",
       "    // which will in turn request a refresh of the image.\n",
       "    this.send_message('resize', {'width': x_pixels, 'height': y_pixels});\n",
       "}\n",
       "\n",
       "mpl.figure.prototype.send_message = function(type, properties) {\n",
       "    properties['type'] = type;\n",
       "    properties['figure_id'] = this.id;\n",
       "    this.ws.send(JSON.stringify(properties));\n",
       "}\n",
       "\n",
       "mpl.figure.prototype.send_draw_message = function() {\n",
       "    if (!this.waiting) {\n",
       "        this.waiting = true;\n",
       "        this.ws.send(JSON.stringify({type: \"draw\", figure_id: this.id}));\n",
       "    }\n",
       "}\n",
       "\n",
       "\n",
       "mpl.figure.prototype.handle_save = function(fig, msg) {\n",
       "    var format_dropdown = fig.format_dropdown;\n",
       "    var format = format_dropdown.options[format_dropdown.selectedIndex].value;\n",
       "    fig.ondownload(fig, format);\n",
       "}\n",
       "\n",
       "\n",
       "mpl.figure.prototype.handle_resize = function(fig, msg) {\n",
       "    var size = msg['size'];\n",
       "    if (size[0] != fig.canvas.width || size[1] != fig.canvas.height) {\n",
       "        fig._resize_canvas(size[0], size[1]);\n",
       "        fig.send_message(\"refresh\", {});\n",
       "    };\n",
       "}\n",
       "\n",
       "mpl.figure.prototype.handle_rubberband = function(fig, msg) {\n",
       "    var x0 = msg['x0'] / mpl.ratio;\n",
       "    var y0 = (fig.canvas.height - msg['y0']) / mpl.ratio;\n",
       "    var x1 = msg['x1'] / mpl.ratio;\n",
       "    var y1 = (fig.canvas.height - msg['y1']) / mpl.ratio;\n",
       "    x0 = Math.floor(x0) + 0.5;\n",
       "    y0 = Math.floor(y0) + 0.5;\n",
       "    x1 = Math.floor(x1) + 0.5;\n",
       "    y1 = Math.floor(y1) + 0.5;\n",
       "    var min_x = Math.min(x0, x1);\n",
       "    var min_y = Math.min(y0, y1);\n",
       "    var width = Math.abs(x1 - x0);\n",
       "    var height = Math.abs(y1 - y0);\n",
       "\n",
       "    fig.rubberband_context.clearRect(\n",
       "        0, 0, fig.canvas.width / mpl.ratio, fig.canvas.height / mpl.ratio);\n",
       "\n",
       "    fig.rubberband_context.strokeRect(min_x, min_y, width, height);\n",
       "}\n",
       "\n",
       "mpl.figure.prototype.handle_figure_label = function(fig, msg) {\n",
       "    // Updates the figure title.\n",
       "    fig.header.textContent = msg['label'];\n",
       "}\n",
       "\n",
       "mpl.figure.prototype.handle_cursor = function(fig, msg) {\n",
       "    var cursor = msg['cursor'];\n",
       "    switch(cursor)\n",
       "    {\n",
       "    case 0:\n",
       "        cursor = 'pointer';\n",
       "        break;\n",
       "    case 1:\n",
       "        cursor = 'default';\n",
       "        break;\n",
       "    case 2:\n",
       "        cursor = 'crosshair';\n",
       "        break;\n",
       "    case 3:\n",
       "        cursor = 'move';\n",
       "        break;\n",
       "    }\n",
       "    fig.rubberband_canvas.style.cursor = cursor;\n",
       "}\n",
       "\n",
       "mpl.figure.prototype.handle_message = function(fig, msg) {\n",
       "    fig.message.textContent = msg['message'];\n",
       "}\n",
       "\n",
       "mpl.figure.prototype.handle_draw = function(fig, msg) {\n",
       "    // Request the server to send over a new figure.\n",
       "    fig.send_draw_message();\n",
       "}\n",
       "\n",
       "mpl.figure.prototype.handle_image_mode = function(fig, msg) {\n",
       "    fig.image_mode = msg['mode'];\n",
       "}\n",
       "\n",
       "mpl.figure.prototype.updated_canvas_event = function() {\n",
       "    // Called whenever the canvas gets updated.\n",
       "    this.send_message(\"ack\", {});\n",
       "}\n",
       "\n",
       "// A function to construct a web socket function for onmessage handling.\n",
       "// Called in the figure constructor.\n",
       "mpl.figure.prototype._make_on_message_function = function(fig) {\n",
       "    return function socket_on_message(evt) {\n",
       "        if (evt.data instanceof Blob) {\n",
       "            /* FIXME: We get \"Resource interpreted as Image but\n",
       "             * transferred with MIME type text/plain:\" errors on\n",
       "             * Chrome.  But how to set the MIME type?  It doesn't seem\n",
       "             * to be part of the websocket stream */\n",
       "            evt.data.type = \"image/png\";\n",
       "\n",
       "            /* Free the memory for the previous frames */\n",
       "            if (fig.imageObj.src) {\n",
       "                (window.URL || window.webkitURL).revokeObjectURL(\n",
       "                    fig.imageObj.src);\n",
       "            }\n",
       "\n",
       "            fig.imageObj.src = (window.URL || window.webkitURL).createObjectURL(\n",
       "                evt.data);\n",
       "            fig.updated_canvas_event();\n",
       "            fig.waiting = false;\n",
       "            return;\n",
       "        }\n",
       "        else if (typeof evt.data === 'string' && evt.data.slice(0, 21) == \"data:image/png;base64\") {\n",
       "            fig.imageObj.src = evt.data;\n",
       "            fig.updated_canvas_event();\n",
       "            fig.waiting = false;\n",
       "            return;\n",
       "        }\n",
       "\n",
       "        var msg = JSON.parse(evt.data);\n",
       "        var msg_type = msg['type'];\n",
       "\n",
       "        // Call the  \"handle_{type}\" callback, which takes\n",
       "        // the figure and JSON message as its only arguments.\n",
       "        try {\n",
       "            var callback = fig[\"handle_\" + msg_type];\n",
       "        } catch (e) {\n",
       "            console.log(\"No handler for the '\" + msg_type + \"' message type: \", msg);\n",
       "            return;\n",
       "        }\n",
       "\n",
       "        if (callback) {\n",
       "            try {\n",
       "                // console.log(\"Handling '\" + msg_type + \"' message: \", msg);\n",
       "                callback(fig, msg);\n",
       "            } catch (e) {\n",
       "                console.log(\"Exception inside the 'handler_\" + msg_type + \"' callback:\", e, e.stack, msg);\n",
       "            }\n",
       "        }\n",
       "    };\n",
       "}\n",
       "\n",
       "// from http://stackoverflow.com/questions/1114465/getting-mouse-location-in-canvas\n",
       "mpl.findpos = function(e) {\n",
       "    //this section is from http://www.quirksmode.org/js/events_properties.html\n",
       "    var targ;\n",
       "    if (!e)\n",
       "        e = window.event;\n",
       "    if (e.target)\n",
       "        targ = e.target;\n",
       "    else if (e.srcElement)\n",
       "        targ = e.srcElement;\n",
       "    if (targ.nodeType == 3) // defeat Safari bug\n",
       "        targ = targ.parentNode;\n",
       "\n",
       "    // jQuery normalizes the pageX and pageY\n",
       "    // pageX,Y are the mouse positions relative to the document\n",
       "    // offset() returns the position of the element relative to the document\n",
       "    var x = e.pageX - $(targ).offset().left;\n",
       "    var y = e.pageY - $(targ).offset().top;\n",
       "\n",
       "    return {\"x\": x, \"y\": y};\n",
       "};\n",
       "\n",
       "/*\n",
       " * return a copy of an object with only non-object keys\n",
       " * we need this to avoid circular references\n",
       " * http://stackoverflow.com/a/24161582/3208463\n",
       " */\n",
       "function simpleKeys (original) {\n",
       "  return Object.keys(original).reduce(function (obj, key) {\n",
       "    if (typeof original[key] !== 'object')\n",
       "        obj[key] = original[key]\n",
       "    return obj;\n",
       "  }, {});\n",
       "}\n",
       "\n",
       "mpl.figure.prototype.mouse_event = function(event, name) {\n",
       "    var canvas_pos = mpl.findpos(event)\n",
       "\n",
       "    if (name === 'button_press')\n",
       "    {\n",
       "        this.canvas.focus();\n",
       "        this.canvas_div.focus();\n",
       "    }\n",
       "\n",
       "    var x = canvas_pos.x * mpl.ratio;\n",
       "    var y = canvas_pos.y * mpl.ratio;\n",
       "\n",
       "    this.send_message(name, {x: x, y: y, button: event.button,\n",
       "                             step: event.step,\n",
       "                             guiEvent: simpleKeys(event)});\n",
       "\n",
       "    /* This prevents the web browser from automatically changing to\n",
       "     * the text insertion cursor when the button is pressed.  We want\n",
       "     * to control all of the cursor setting manually through the\n",
       "     * 'cursor' event from matplotlib */\n",
       "    event.preventDefault();\n",
       "    return false;\n",
       "}\n",
       "\n",
       "mpl.figure.prototype._key_event_extra = function(event, name) {\n",
       "    // Handle any extra behaviour associated with a key event\n",
       "}\n",
       "\n",
       "mpl.figure.prototype.key_event = function(event, name) {\n",
       "\n",
       "    // Prevent repeat events\n",
       "    if (name == 'key_press')\n",
       "    {\n",
       "        if (event.which === this._key)\n",
       "            return;\n",
       "        else\n",
       "            this._key = event.which;\n",
       "    }\n",
       "    if (name == 'key_release')\n",
       "        this._key = null;\n",
       "\n",
       "    var value = '';\n",
       "    if (event.ctrlKey && event.which != 17)\n",
       "        value += \"ctrl+\";\n",
       "    if (event.altKey && event.which != 18)\n",
       "        value += \"alt+\";\n",
       "    if (event.shiftKey && event.which != 16)\n",
       "        value += \"shift+\";\n",
       "\n",
       "    value += 'k';\n",
       "    value += event.which.toString();\n",
       "\n",
       "    this._key_event_extra(event, name);\n",
       "\n",
       "    this.send_message(name, {key: value,\n",
       "                             guiEvent: simpleKeys(event)});\n",
       "    return false;\n",
       "}\n",
       "\n",
       "mpl.figure.prototype.toolbar_button_onclick = function(name) {\n",
       "    if (name == 'download') {\n",
       "        this.handle_save(this, null);\n",
       "    } else {\n",
       "        this.send_message(\"toolbar_button\", {name: name});\n",
       "    }\n",
       "};\n",
       "\n",
       "mpl.figure.prototype.toolbar_button_onmouseover = function(tooltip) {\n",
       "    this.message.textContent = tooltip;\n",
       "};\n",
       "mpl.toolbar_items = [[\"Home\", \"Reset original view\", \"fa fa-home icon-home\", \"home\"], [\"Back\", \"Back to previous view\", \"fa fa-arrow-left icon-arrow-left\", \"back\"], [\"Forward\", \"Forward to next view\", \"fa fa-arrow-right icon-arrow-right\", \"forward\"], [\"\", \"\", \"\", \"\"], [\"Pan\", \"Pan axes with left mouse, zoom with right\", \"fa fa-arrows icon-move\", \"pan\"], [\"Zoom\", \"Zoom to rectangle\", \"fa fa-square-o icon-check-empty\", \"zoom\"], [\"\", \"\", \"\", \"\"], [\"Download\", \"Download plot\", \"fa fa-floppy-o icon-save\", \"download\"]];\n",
       "\n",
       "mpl.extensions = [\"eps\", \"jpeg\", \"pdf\", \"png\", \"ps\", \"raw\", \"svg\", \"tif\"];\n",
       "\n",
       "mpl.default_extension = \"png\";var comm_websocket_adapter = function(comm) {\n",
       "    // Create a \"websocket\"-like object which calls the given IPython comm\n",
       "    // object with the appropriate methods. Currently this is a non binary\n",
       "    // socket, so there is still some room for performance tuning.\n",
       "    var ws = {};\n",
       "\n",
       "    ws.close = function() {\n",
       "        comm.close()\n",
       "    };\n",
       "    ws.send = function(m) {\n",
       "        //console.log('sending', m);\n",
       "        comm.send(m);\n",
       "    };\n",
       "    // Register the callback with on_msg.\n",
       "    comm.on_msg(function(msg) {\n",
       "        //console.log('receiving', msg['content']['data'], msg);\n",
       "        // Pass the mpl event to the overridden (by mpl) onmessage function.\n",
       "        ws.onmessage(msg['content']['data'])\n",
       "    });\n",
       "    return ws;\n",
       "}\n",
       "\n",
       "mpl.mpl_figure_comm = function(comm, msg) {\n",
       "    // This is the function which gets called when the mpl process\n",
       "    // starts-up an IPython Comm through the \"matplotlib\" channel.\n",
       "\n",
       "    var id = msg.content.data.id;\n",
       "    // Get hold of the div created by the display call when the Comm\n",
       "    // socket was opened in Python.\n",
       "    var element = $(\"#\" + id);\n",
       "    var ws_proxy = comm_websocket_adapter(comm)\n",
       "\n",
       "    function ondownload(figure, format) {\n",
       "        window.open(figure.imageObj.src);\n",
       "    }\n",
       "\n",
       "    var fig = new mpl.figure(id, ws_proxy,\n",
       "                           ondownload,\n",
       "                           element.get(0));\n",
       "\n",
       "    // Call onopen now - mpl needs it, as it is assuming we've passed it a real\n",
       "    // web socket which is closed, not our websocket->open comm proxy.\n",
       "    ws_proxy.onopen();\n",
       "\n",
       "    fig.parent_element = element.get(0);\n",
       "    fig.cell_info = mpl.find_output_cell(\"<div id='\" + id + \"'></div>\");\n",
       "    if (!fig.cell_info) {\n",
       "        console.error(\"Failed to find cell for figure\", id, fig);\n",
       "        return;\n",
       "    }\n",
       "\n",
       "    var output_index = fig.cell_info[2]\n",
       "    var cell = fig.cell_info[0];\n",
       "\n",
       "};\n",
       "\n",
       "mpl.figure.prototype.handle_close = function(fig, msg) {\n",
       "    var width = fig.canvas.width/mpl.ratio\n",
       "    fig.root.unbind('remove')\n",
       "\n",
       "    // Update the output cell to use the data from the current canvas.\n",
       "    fig.push_to_output();\n",
       "    var dataURL = fig.canvas.toDataURL();\n",
       "    // Re-enable the keyboard manager in IPython - without this line, in FF,\n",
       "    // the notebook keyboard shortcuts fail.\n",
       "    IPython.keyboard_manager.enable()\n",
       "    $(fig.parent_element).html('<img src=\"' + dataURL + '\" width=\"' + width + '\">');\n",
       "    fig.close_ws(fig, msg);\n",
       "}\n",
       "\n",
       "mpl.figure.prototype.close_ws = function(fig, msg){\n",
       "    fig.send_message('closing', msg);\n",
       "    // fig.ws.close()\n",
       "}\n",
       "\n",
       "mpl.figure.prototype.push_to_output = function(remove_interactive) {\n",
       "    // Turn the data on the canvas into data in the output cell.\n",
       "    var width = this.canvas.width/mpl.ratio\n",
       "    var dataURL = this.canvas.toDataURL();\n",
       "    this.cell_info[1]['text/html'] = '<img src=\"' + dataURL + '\" width=\"' + width + '\">';\n",
       "}\n",
       "\n",
       "mpl.figure.prototype.updated_canvas_event = function() {\n",
       "    // Tell IPython that the notebook contents must change.\n",
       "    IPython.notebook.set_dirty(true);\n",
       "    this.send_message(\"ack\", {});\n",
       "    var fig = this;\n",
       "    // Wait a second, then push the new image to the DOM so\n",
       "    // that it is saved nicely (might be nice to debounce this).\n",
       "    setTimeout(function () { fig.push_to_output() }, 1000);\n",
       "}\n",
       "\n",
       "mpl.figure.prototype._init_toolbar = function() {\n",
       "    var fig = this;\n",
       "\n",
       "    var nav_element = $('<div/>');\n",
       "    nav_element.attr('style', 'width: 100%');\n",
       "    this.root.append(nav_element);\n",
       "\n",
       "    // Define a callback function for later on.\n",
       "    function toolbar_event(event) {\n",
       "        return fig.toolbar_button_onclick(event['data']);\n",
       "    }\n",
       "    function toolbar_mouse_event(event) {\n",
       "        return fig.toolbar_button_onmouseover(event['data']);\n",
       "    }\n",
       "\n",
       "    for(var toolbar_ind in mpl.toolbar_items){\n",
       "        var name = mpl.toolbar_items[toolbar_ind][0];\n",
       "        var tooltip = mpl.toolbar_items[toolbar_ind][1];\n",
       "        var image = mpl.toolbar_items[toolbar_ind][2];\n",
       "        var method_name = mpl.toolbar_items[toolbar_ind][3];\n",
       "\n",
       "        if (!name) { continue; };\n",
       "\n",
       "        var button = $('<button class=\"btn btn-default\" href=\"#\" title=\"' + name + '\"><i class=\"fa ' + image + ' fa-lg\"></i></button>');\n",
       "        button.click(method_name, toolbar_event);\n",
       "        button.mouseover(tooltip, toolbar_mouse_event);\n",
       "        nav_element.append(button);\n",
       "    }\n",
       "\n",
       "    // Add the status bar.\n",
       "    var status_bar = $('<span class=\"mpl-message\" style=\"text-align:right; float: right;\"/>');\n",
       "    nav_element.append(status_bar);\n",
       "    this.message = status_bar[0];\n",
       "\n",
       "    // Add the close button to the window.\n",
       "    var buttongrp = $('<div class=\"btn-group inline pull-right\"></div>');\n",
       "    var button = $('<button class=\"btn btn-mini btn-primary\" href=\"#\" title=\"Stop Interaction\"><i class=\"fa fa-power-off icon-remove icon-large\"></i></button>');\n",
       "    button.click(function (evt) { fig.handle_close(fig, {}); } );\n",
       "    button.mouseover('Stop Interaction', toolbar_mouse_event);\n",
       "    buttongrp.append(button);\n",
       "    var titlebar = this.root.find($('.ui-dialog-titlebar'));\n",
       "    titlebar.prepend(buttongrp);\n",
       "}\n",
       "\n",
       "mpl.figure.prototype._root_extra_style = function(el){\n",
       "    var fig = this\n",
       "    el.on(\"remove\", function(){\n",
       "\tfig.close_ws(fig, {});\n",
       "    });\n",
       "}\n",
       "\n",
       "mpl.figure.prototype._canvas_extra_style = function(el){\n",
       "    // this is important to make the div 'focusable\n",
       "    el.attr('tabindex', 0)\n",
       "    // reach out to IPython and tell the keyboard manager to turn it's self\n",
       "    // off when our div gets focus\n",
       "\n",
       "    // location in version 3\n",
       "    if (IPython.notebook.keyboard_manager) {\n",
       "        IPython.notebook.keyboard_manager.register_events(el);\n",
       "    }\n",
       "    else {\n",
       "        // location in version 2\n",
       "        IPython.keyboard_manager.register_events(el);\n",
       "    }\n",
       "\n",
       "}\n",
       "\n",
       "mpl.figure.prototype._key_event_extra = function(event, name) {\n",
       "    var manager = IPython.notebook.keyboard_manager;\n",
       "    if (!manager)\n",
       "        manager = IPython.keyboard_manager;\n",
       "\n",
       "    // Check for shift+enter\n",
       "    if (event.shiftKey && event.which == 13) {\n",
       "        this.canvas_div.blur();\n",
       "        // select the cell after this one\n",
       "        var index = IPython.notebook.find_cell_index(this.cell_info[0]);\n",
       "        IPython.notebook.select(index + 1);\n",
       "    }\n",
       "}\n",
       "\n",
       "mpl.figure.prototype.handle_save = function(fig, msg) {\n",
       "    fig.ondownload(fig, null);\n",
       "}\n",
       "\n",
       "\n",
       "mpl.find_output_cell = function(html_output) {\n",
       "    // Return the cell and output element which can be found *uniquely* in the notebook.\n",
       "    // Note - this is a bit hacky, but it is done because the \"notebook_saving.Notebook\"\n",
       "    // IPython event is triggered only after the cells have been serialised, which for\n",
       "    // our purposes (turning an active figure into a static one), is too late.\n",
       "    var cells = IPython.notebook.get_cells();\n",
       "    var ncells = cells.length;\n",
       "    for (var i=0; i<ncells; i++) {\n",
       "        var cell = cells[i];\n",
       "        if (cell.cell_type === 'code'){\n",
       "            for (var j=0; j<cell.output_area.outputs.length; j++) {\n",
       "                var data = cell.output_area.outputs[j];\n",
       "                if (data.data) {\n",
       "                    // IPython >= 3 moved mimebundle to data attribute of output\n",
       "                    data = data.data;\n",
       "                }\n",
       "                if (data['text/html'] == html_output) {\n",
       "                    return [cell, data, j];\n",
       "                }\n",
       "            }\n",
       "        }\n",
       "    }\n",
       "}\n",
       "\n",
       "// Register the function which deals with the matplotlib target/channel.\n",
       "// The kernel may be null if the page has been refreshed.\n",
       "if (IPython.notebook.kernel != null) {\n",
       "    IPython.notebook.kernel.comm_manager.register_target('matplotlib', mpl.mpl_figure_comm);\n",
       "}\n"
      ],
      "text/plain": [
       "<IPython.core.display.Javascript object>"
      ]
     },
     "metadata": {},
     "output_type": "display_data"
    },
    {
     "data": {
      "text/html": [
       "<img src=\"data:image/png;base64,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\" width=\"640\">"
      ],
      "text/plain": [
       "<IPython.core.display.HTML object>"
      ]
     },
     "metadata": {},
     "output_type": "display_data"
    },
    {
     "name": "stdout",
     "output_type": "stream",
     "text": [
      "Starting experimental run with id: 100\n"
     ]
    },
    {
     "data": {
      "text/plain": [
       "100"
      ]
     },
     "execution_count": 43,
     "metadata": {},
     "output_type": "execute_result"
    }
   ],
   "source": [
    "ids = range(58, 98+1)\n",
    "\n",
    "Ics = [extract_Isw_R0_by_id (idx, dy = 120e-6)[0] for idx in ids]\n",
    "\n",
    "\n",
    "fig, ax = plt.subplots()\n",
    "\n",
    "ax.plot(V_list, Ics, 'o-')\n",
    "\n",
    "jj.mock_meas((jj.tools['I'], Ics), (Vg, V_list),\n",
    "             label = 'coarse Vscan')"
   ]
  },
  {
   "cell_type": "markdown",
   "metadata": {},
   "source": [
    "### T scan"
   ]
  },
  {
   "cell_type": "code",
   "execution_count": null,
   "metadata": {},
   "outputs": [],
   "source": [
    "htr.HTRset('3.16mA')"
   ]
  },
  {
   "cell_type": "code",
   "execution_count": null,
   "metadata": {},
   "outputs": [],
   "source": [
    "htr.output_range('3.16mA')"
   ]
  },
  {
   "cell_type": "code",
   "execution_count": null,
   "metadata": {},
   "outputs": [],
   "source": [
    "T8.get()"
   ]
  },
  {
   "cell_type": "code",
   "execution_count": null,
   "metadata": {},
   "outputs": [],
   "source": [
    "B = jj5.cos_to_B(0.2)\n",
    "# B = 0e-6\n",
    "\n",
    "print(B*1e3)\n",
    "\n",
    "Bfield.set(B)\n",
    "\n",
    "T_list = np.array( [40 + 10*i for i in range (17) ] )*1e-3\n",
    "\n",
    "[            jj.IVC_udu (amp = 20e-12, stp = 0.2e-12, dt = .1,  N_avg = 1)\n",
    " \n",
    " for jj in   jj5.Tscan( T_list )]\n",
    "\n",
    "htr_setpt.set(0.030)"
   ]
  },
  {
   "cell_type": "code",
   "execution_count": null,
   "metadata": {},
   "outputs": [],
   "source": [
    "B = jj5.cos_to_B(0.3)\n",
    "# B = 0e-6\n",
    "\n",
    "print(B*1e3)\n",
    "\n",
    "Bfield.set(B)\n",
    "\n",
    "T_list = np.array( [40 + 10*i for i in range (17) ] )*1e-3\n",
    "\n",
    "[            jj.IVC_udu (amp = 20e-12, stp = 0.2e-12, dt = .1,  N_avg = 1)\n",
    " \n",
    " for jj in   jj5.Tscan( T_list )]\n",
    "\n",
    "htr_setpt.set(0.030)"
   ]
  },
  {
   "cell_type": "code",
   "execution_count": null,
   "metadata": {},
   "outputs": [],
   "source": [
    "[            jj.IVC_fwd (amp = 1e-12, stp = 0.025e-12, dt = .5, N_avg = 100)\n",
    "for jj in    jj.Tscan( [200e-3] )]\n",
    "\n",
    "htr.set(0.030)"
   ]
  },
  {
   "cell_type": "code",
   "execution_count": null,
   "metadata": {},
   "outputs": [],
   "source": [
    "np.array( [40 + 10*i for i in range (17) ] )*1e-3"
   ]
  },
  {
   "cell_type": "code",
   "execution_count": null,
   "metadata": {},
   "outputs": [],
   "source": [
    "htr_setpt.set(30e-3)"
   ]
  },
  {
   "cell_type": "code",
   "execution_count": null,
   "metadata": {},
   "outputs": [],
   "source": [
    "htr.output_range('3.16mA')"
   ]
  },
  {
   "cell_type": "code",
   "execution_count": null,
   "metadata": {
    "scrolled": true
   },
   "outputs": [],
   "source": [
    "T_list = np.array( [50 + 25*i for i in range (11) ] )*1e-3\n",
    "B_list = np.linspace(0, 1.85e-3, 11)\n",
    "\n",
    "for jj in  jj.Tscan( T_list ):\n",
    "    \n",
    "    for jj in jj.Bscan(B_list):\n",
    "    \n",
    "        jj.IVC_udu (amp = 1e-12, stp = 0.01e-12, dt = .5, Ioff = -.5e-12)\n",
    "    \n",
    "    \n",
    "Bfield.set(0e-3)\n",
    "htr_setpt.set(30e-3)"
   ]
  },
  {
   "cell_type": "code",
   "execution_count": null,
   "metadata": {},
   "outputs": [],
   "source": [
    "T_list = np.array( [200 + 25*i for i in range (5) ] )*1e-3\n",
    "B_list = np.linspace(0, 1.85e-3, 11)\n",
    "\n",
    "for jj in  jj.Tscan( T_list ):\n",
    "    \n",
    "    for jj in jj.Bscan(B_list):\n",
    "    \n",
    "        jj.IVC_fwd (amp = 2e-12, stp = 0.04e-12, dt = .5, Ioff = -.35e-12)\n",
    "    \n",
    "    \n",
    "Bfield.set(0e-3)\n",
    "htr_setpt.set(30e-3)"
   ]
  },
  {
   "cell_type": "markdown",
   "metadata": {},
   "source": [
    "## Snapshot"
   ]
  },
  {
   "cell_type": "code",
   "execution_count": 105,
   "metadata": {},
   "outputs": [],
   "source": [
    "from pprint import pprint"
   ]
  },
  {
   "cell_type": "code",
   "execution_count": 110,
   "metadata": {
    "scrolled": false
   },
   "outputs": [
    {
     "name": "stdout",
     "output_type": "stream",
     "text": [
      "{'components': {},\n",
      " 'default_measurement': [],\n",
      " 'instruments': {},\n",
      " 'parameters': {'curr': {'__class__': 'qcodes.instrument.parameter.Parameter',\n",
      "                         'full_name': 'K2602_smua_curr',\n",
      "                         'instrument': 'qcodes.instrument_drivers.Keithley.Keithley_2600_channels.KeithleyChannel',\n",
      "                         'instrument_name': 'K2602_smua',\n",
      "                         'inter_delay': 0.1,\n",
      "                         'label': 'Current',\n",
      "                         'name': 'curr',\n",
      "                         'post_delay': 0,\n",
      "                         'raw_value': 0.0,\n",
      "                         'step': 1e-05,\n",
      "                         'ts': '2020-08-17 14:41:48',\n",
      "                         'unit': 'A',\n",
      "                         'value': 0.0}}}\n"
     ]
    }
   ],
   "source": [
    "pprint(station.snapshot())"
   ]
  },
  {
   "cell_type": "code",
   "execution_count": 101,
   "metadata": {},
   "outputs": [],
   "source": [
    "snap=station.snapshot()"
   ]
  },
  {
   "cell_type": "code",
   "execution_count": 103,
   "metadata": {
    "scrolled": true
   },
   "outputs": [
    {
     "data": {
      "text/plain": [
       "{'K6220': {'functions': {},\n",
       "  'submodules': {},\n",
       "  '__class__': 'qcodes.instrument_drivers.Keithley.Keithley_6220_Isrc.Keithley_6220_Isrc',\n",
       "  'parameters': {'IDN': {'value': {'vendor': 'KEITHLEY INSTRUMENTS INC.',\n",
       "     'model': '6220',\n",
       "     'serial': '1249187',\n",
       "     'firmware': 'A05  /700x'},\n",
       "    'ts': '2020-08-13 17:23:49',\n",
       "    'raw_value': {'vendor': 'KEITHLEY INSTRUMENTS INC.',\n",
       "     'model': '6220',\n",
       "     'serial': '1249187',\n",
       "     'firmware': 'A05  /700x'},\n",
       "    '__class__': 'qcodes.instrument.parameter.Parameter',\n",
       "    'full_name': 'K6220_IDN',\n",
       "    'name': 'IDN',\n",
       "    'inter_delay': 0,\n",
       "    'label': 'IDN',\n",
       "    'unit': '',\n",
       "    'post_delay': 0,\n",
       "    'instrument': 'qcodes.instrument_drivers.Keithley.Keithley_6220_Isrc.Keithley_6220_Isrc',\n",
       "    'instrument_name': 'K6220',\n",
       "    'vals': '<Anything>'},\n",
       "   'timeout': {'value': 10.0,\n",
       "    'ts': '2020-08-18 11:43:55',\n",
       "    'raw_value': 10.0,\n",
       "    '__class__': 'qcodes.instrument.parameter.Parameter',\n",
       "    'full_name': 'K6220_timeout',\n",
       "    'name': 'timeout',\n",
       "    'inter_delay': 0,\n",
       "    'label': 'timeout',\n",
       "    'unit': 's',\n",
       "    'post_delay': 0,\n",
       "    'instrument': 'qcodes.instrument_drivers.Keithley.Keithley_6220_Isrc.Keithley_6220_Isrc',\n",
       "    'instrument_name': 'K6220',\n",
       "    'vals': '<MultiType: Numbers v>=0, Enum: {None}>'},\n",
       "   'I': {'value': -0.0,\n",
       "    'ts': '2020-08-17 14:50:24',\n",
       "    'raw_value': -0.0,\n",
       "    '__class__': 'qcodes.instrument.parameter.Parameter',\n",
       "    'full_name': 'K6220_I',\n",
       "    'name': 'I',\n",
       "    'inter_delay': 0,\n",
       "    'label': 'Current',\n",
       "    'unit': 'A',\n",
       "    'post_delay': 0,\n",
       "    'instrument': 'qcodes.instrument_drivers.Keithley.Keithley_6220_Isrc.Keithley_6220_Isrc',\n",
       "    'instrument_name': 'K6220',\n",
       "    'vals': '<Numbers -1e-05<=v<=1e-05>'},\n",
       "   'Irange': {'value': None,\n",
       "    'ts': None,\n",
       "    'raw_value': None,\n",
       "    '__class__': 'qcodes.instrument.parameter.Parameter',\n",
       "    'full_name': 'K6220_Irange',\n",
       "    'name': 'Irange',\n",
       "    'inter_delay': 0,\n",
       "    'label': 'Current',\n",
       "    'unit': 'A',\n",
       "    'post_delay': 0,\n",
       "    'instrument': 'qcodes.instrument_drivers.Keithley.Keithley_6220_Isrc.Keithley_6220_Isrc',\n",
       "    'instrument_name': 'K6220',\n",
       "    'vals': '<Numbers 1e-09<=v<=1e-05>'}},\n",
       "  'name': 'K6220',\n",
       "  'address': 'GPIB::13::INSTR',\n",
       "  'terminator': '',\n",
       "  'timeout': 10.0},\n",
       " 'meter': {'functions': {},\n",
       "  'submodules': {},\n",
       "  '__class__': 'qcodes.instrument_drivers.HP.HP34401_DL1201.HP34401_DL1201',\n",
       "  'parameters': {'IDN': {'value': {'vendor': 'HEWLETT-PACKARD',\n",
       "     'model': '34401A',\n",
       "     'serial': '0',\n",
       "     'firmware': '5-1-1'},\n",
       "    'ts': '2020-08-13 17:24:06',\n",
       "    'raw_value': {'vendor': 'HEWLETT-PACKARD',\n",
       "     'model': '34401A',\n",
       "     'serial': '0',\n",
       "     'firmware': '5-1-1'},\n",
       "    '__class__': 'qcodes.instrument.parameter.Parameter',\n",
       "    'full_name': 'meter_IDN',\n",
       "    'name': 'IDN',\n",
       "    'inter_delay': 0,\n",
       "    'label': 'IDN',\n",
       "    'unit': '',\n",
       "    'post_delay': 0,\n",
       "    'instrument': 'qcodes.instrument_drivers.HP.HP34401_DL1201.HP34401_DL1201',\n",
       "    'instrument_name': 'meter',\n",
       "    'vals': '<Anything>'},\n",
       "   'timeout': {'value': 10.0,\n",
       "    'ts': '2020-08-18 11:43:55',\n",
       "    'raw_value': 10.0,\n",
       "    '__class__': 'qcodes.instrument.parameter.Parameter',\n",
       "    'full_name': 'meter_timeout',\n",
       "    'name': 'timeout',\n",
       "    'inter_delay': 0,\n",
       "    'label': 'timeout',\n",
       "    'unit': 's',\n",
       "    'post_delay': 0,\n",
       "    'instrument': 'qcodes.instrument_drivers.HP.HP34401_DL1201.HP34401_DL1201',\n",
       "    'instrument_name': 'meter',\n",
       "    'vals': '<MultiType: Numbers v>=0, Enum: {None}>'},\n",
       "   'Vraw': {'value': -0.028612479,\n",
       "    'ts': '2020-08-13 17:24:06',\n",
       "    'raw_value': '-2.86124790E-02\\n',\n",
       "    '__class__': 'qcodes.instrument.parameter.Parameter',\n",
       "    'full_name': 'meter_Vraw',\n",
       "    'name': 'Vraw',\n",
       "    'inter_delay': 0,\n",
       "    'label': 'Voltage',\n",
       "    'unit': 'V',\n",
       "    'post_delay': 0,\n",
       "    'instrument': 'qcodes.instrument_drivers.HP.HP34401_DL1201.HP34401_DL1201',\n",
       "    'instrument_name': 'meter'},\n",
       "   'V': {'value': 5.7861630000000004e-05,\n",
       "    'ts': '2020-08-17 14:50:14',\n",
       "    'raw_value': '+5.78616300E-03\\n',\n",
       "    '__class__': 'qcodes.instrument.parameter.Parameter',\n",
       "    'full_name': 'meter_V',\n",
       "    'name': 'V',\n",
       "    'inter_delay': 0,\n",
       "    'label': 'Voltage',\n",
       "    'unit': 'V',\n",
       "    'post_delay': 0,\n",
       "    'instrument': 'qcodes.instrument_drivers.HP.HP34401_DL1201.HP34401_DL1201',\n",
       "    'instrument_name': 'meter'}},\n",
       "  'name': 'meter',\n",
       "  'address': 'GPIB0::8::INSTR',\n",
       "  'terminator': '',\n",
       "  'timeout': 10.0}}"
      ]
     },
     "execution_count": 103,
     "metadata": {},
     "output_type": "execute_result"
    }
   ],
   "source": [
    "snap['instruments']"
   ]
  },
  {
   "cell_type": "code",
   "execution_count": null,
   "metadata": {},
   "outputs": [],
   "source": [
    "from JJmeasurement_Plamen import *\n",
    "import QCmeasurement_Plamen"
   ]
  },
  {
   "cell_type": "code",
   "execution_count": null,
   "metadata": {},
   "outputs": [],
   "source": [
    "jjmock=JJmeas_Pl(sample='mock',tools=tools)"
   ]
  },
  {
   "cell_type": "code",
   "execution_count": null,
   "metadata": {},
   "outputs": [],
   "source": [
    "x=np.linspace(-np.pi,np.pi)\n",
    "y=np.sin(x)\n",
    "V=Parameter('V')\n",
    "I=Parameter('I')\n",
    "dataset=jjmock.mock_meas_P((V,y),(I,x))"
   ]
  },
  {
   "cell_type": "code",
   "execution_count": null,
   "metadata": {},
   "outputs": [],
   "source": [
    "jjmock.pbi(17)"
   ]
  },
  {
   "cell_type": "code",
   "execution_count": null,
   "metadata": {},
   "outputs": [],
   "source": [
    "dataset1=dataset.snapshot"
   ]
  },
  {
   "cell_type": "code",
   "execution_count": null,
   "metadata": {},
   "outputs": [],
   "source": [
    "dataset2=dataset.snapshot"
   ]
  },
  {
   "cell_type": "code",
   "execution_count": null,
   "metadata": {},
   "outputs": [],
   "source": [
    "from qcodes.utils.metadata import diff_param_values\n",
    "\n"
   ]
  },
  {
   "cell_type": "code",
   "execution_count": null,
   "metadata": {},
   "outputs": [],
   "source": [
    "diff_param_values(dataset1, dataset2).changed\n"
   ]
  },
  {
   "cell_type": "markdown",
   "metadata": {},
   "source": [
    "## Tom's playground"
   ]
  },
  {
   "cell_type": "code",
   "execution_count": 134,
   "metadata": {},
   "outputs": [],
   "source": [
    "import JJformulas_Tom as jjft\n",
    "\n",
    "# from JJmeasurement import *\n",
    "import JJmeasurement_Tom as jjmt\n",
    "import QCmeasurement_Tom as qcmt"
   ]
  },
  {
   "cell_type": "code",
   "execution_count": 136,
   "metadata": {},
   "outputs": [],
   "source": [
    "jjt = jjmt.JJmeas(sample = 'D055B1N5v1', tools = tools)\n",
    "jjt.setup = setup\n",
    "jjt.cleanup = cleanup\n",
    "\n"
   ]
  },
  {
   "cell_type": "code",
   "execution_count": 145,
   "metadata": {},
   "outputs": [
    {
     "data": {
      "application/vnd.jupyter.widget-view+json": {
       "model_id": "67e49493068040d19884f79976143092",
       "version_major": 2,
       "version_minor": 0
      },
      "text/plain": [
       "HBox(children=(IntProgress(value=0, max=1203), HTML(value='')))"
      ]
     },
     "metadata": {},
     "output_type": "display_data"
    },
    {
     "name": "stdout",
     "output_type": "stream",
     "text": [
      "Starting experimental run with id: 291\n"
     ]
    },
    {
     "data": {
      "application/vnd.jupyter.widget-view+json": {
       "model_id": "",
       "version_major": 2,
       "version_minor": 0
      },
      "text/plain": [
       "HBox(children=(IntProgress(value=0, max=3), HTML(value='')))"
      ]
     },
     "metadata": {},
     "output_type": "display_data"
    },
    {
     "data": {
      "application/vnd.jupyter.widget-view+json": {
       "model_id": "",
       "version_major": 2,
       "version_minor": 0
      },
      "text/plain": [
       "HBox(children=(IntProgress(value=0, max=1203), HTML(value='')))"
      ]
     },
     "metadata": {},
     "output_type": "display_data"
    },
    {
     "data": {
      "application/vnd.jupyter.widget-view+json": {
       "model_id": "",
       "version_major": 2,
       "version_minor": 0
      },
      "text/plain": [
       "HBox(children=(IntProgress(value=0, max=1203), HTML(value='')))"
      ]
     },
     "metadata": {},
     "output_type": "display_data"
    },
    {
     "data": {
      "application/vnd.jupyter.widget-view+json": {
       "model_id": "",
       "version_major": 2,
       "version_minor": 0
      },
      "text/plain": [
       "HBox(children=(IntProgress(value=0, max=1203), HTML(value='')))"
      ]
     },
     "metadata": {},
     "output_type": "display_data"
    },
    {
     "data": {
      "text/plain": [
       "291"
      ]
     },
     "execution_count": 145,
     "metadata": {},
     "output_type": "execute_result"
    }
   ],
   "source": [
    "jjt.IVC_udu (amp = 300e-9, stp = 1e-9, dt = .1,  N_avg = 1, \n",
    "            label = 'kei full ivc',B_list=[0,1e-3,3e-3])"
   ]
  },
  {
   "cell_type": "code",
   "execution_count": 172,
   "metadata": {},
   "outputs": [
    {
     "data": {
      "application/vnd.jupyter.widget-view+json": {
       "model_id": "475eedbc38614e0b9fa2f6b77018f409",
       "version_major": 2,
       "version_minor": 0
      },
      "text/plain": [
       "HBox(children=(IntProgress(value=0, max=403), HTML(value='')))"
      ]
     },
     "metadata": {},
     "output_type": "display_data"
    },
    {
     "name": "stdout",
     "output_type": "stream",
     "text": [
      "Starting experimental run with id: 292\n"
     ]
    },
    {
     "data": {
      "application/vnd.jupyter.widget-view+json": {
       "model_id": "",
       "version_major": 2,
       "version_minor": 0
      },
      "text/plain": [
       "HBox(children=(IntProgress(value=0, max=3), HTML(value='')))"
      ]
     },
     "metadata": {},
     "output_type": "display_data"
    },
    {
     "data": {
      "application/vnd.jupyter.widget-view+json": {
       "model_id": "",
       "version_major": 2,
       "version_minor": 0
      },
      "text/plain": [
       "HBox(children=(IntProgress(value=0, max=403), HTML(value='')))"
      ]
     },
     "metadata": {},
     "output_type": "display_data"
    },
    {
     "data": {
      "application/vnd.jupyter.widget-view+json": {
       "model_id": "",
       "version_major": 2,
       "version_minor": 0
      },
      "text/plain": [
       "HBox(children=(IntProgress(value=0, max=403), HTML(value='')))"
      ]
     },
     "metadata": {},
     "output_type": "display_data"
    },
    {
     "data": {
      "application/vnd.jupyter.widget-view+json": {
       "model_id": "",
       "version_major": 2,
       "version_minor": 0
      },
      "text/plain": [
       "HBox(children=(IntProgress(value=0, max=403), HTML(value='')))"
      ]
     },
     "metadata": {},
     "output_type": "display_data"
    },
    {
     "data": {
      "text/plain": [
       "292"
      ]
     },
     "execution_count": 172,
     "metadata": {},
     "output_type": "execute_result"
    }
   ],
   "source": [
    "\n",
    "jjt.IVC_udu (amp = 300e-12, stp = 3e-12, dt = .1,  N_avg = 1, \n",
    "            label = 'kei fine scan B = 0m ',B_list=[0,1e-3,3e-3])"
   ]
  },
  {
   "cell_type": "code",
   "execution_count": 179,
   "metadata": {},
   "outputs": [],
   "source": [
    "#jjt.IVC_cust_BT\n",
    "Isrc.I.set(0e-9)\n",
    "#jj.tools['B'].set(0)"
   ]
  },
  {
   "cell_type": "code",
   "execution_count": 180,
   "metadata": {},
   "outputs": [
    {
     "data": {
      "text/plain": [
       "2.027689169567443e-11"
      ]
     },
     "execution_count": 180,
     "metadata": {},
     "output_type": "execute_result"
    }
   ],
   "source": [
    "Isrc.I.get()\n",
    "#jj.tools['B'].get()"
   ]
  },
  {
   "cell_type": "code",
   "execution_count": 140,
   "metadata": {},
   "outputs": [
    {
     "data": {
      "text/plain": [
       "{'meter_V': array([-3.96250000e-08,  1.73446275e-03,  3.69753604e-03,  5.77511565e-03,\n",
       "         7.53061095e-03,  7.72808025e-03,  7.72592955e-03,  7.71291765e-03,\n",
       "         7.69939374e-03,  7.67835854e-03,  7.65852974e-03,  7.63925994e-03,\n",
       "         7.62447454e-03,  7.61243195e-03,  7.60152845e-03,  7.59305784e-03,\n",
       "         7.58641954e-03,  7.57937654e-03,  7.57366625e-03,  7.56160115e-03,\n",
       "         7.55412725e-03,  7.54557924e-03,  7.53843955e-03,  7.54907395e-03,\n",
       "         7.55019554e-03,  7.55845874e-03,  7.57077864e-03,  7.56215064e-03,\n",
       "         7.56030724e-03,  7.55279835e-03,  7.54831074e-03,  7.54687074e-03,\n",
       "         7.56477855e-03,  7.59202374e-03,  7.61694075e-03,  7.65457555e-03,\n",
       "         7.70244374e-03,  7.75970724e-03,  7.81729744e-03,  7.88589054e-03,\n",
       "         7.94801085e-03,  8.02087905e-03,  8.10237784e-03,  8.19669584e-03,\n",
       "         8.30228724e-03,  8.40507365e-03,  8.51148934e-03,  8.61648855e-03,\n",
       "         8.72760315e-03,  8.84113304e-03,  8.96538414e-03,  9.08406725e-03,\n",
       "         9.20502354e-03,  9.32549275e-03,  9.45585464e-03,  9.58397264e-03,\n",
       "         9.70975505e-03,  9.83719105e-03,  9.96514405e-03,  1.00986250e-02,\n",
       "         1.02293660e-02,  1.03618900e-02,  1.05003900e-02,  1.06341040e-02,\n",
       "         1.07684890e-02,  1.09026100e-02,  1.10409870e-02,  1.11754180e-02,\n",
       "         1.13104650e-02,  1.14506660e-02,  1.15856260e-02,  1.17215470e-02,\n",
       "         1.18577870e-02,  1.19987940e-02,  1.21353860e-02,  1.22722530e-02,\n",
       "         1.24144920e-02,  1.25517870e-02,  1.26895030e-02,  1.28269700e-02,\n",
       "         1.29695580e-02,  1.31075250e-02,  1.32456660e-02,  1.33840070e-02,\n",
       "         1.35269730e-02,  1.36664390e-02,  1.38050550e-02,  1.39487420e-02,\n",
       "         1.40872830e-02,  1.42264240e-02,  1.43653400e-02,  1.45092270e-02,\n",
       "         1.46484440e-02,  1.47880590e-02,  1.49334460e-02,  1.50726620e-02,\n",
       "         1.52123020e-02,  1.53519920e-02,  1.54969040e-02,  1.56368230e-02,\n",
       "         1.57770620e-02,  1.59222740e-02,  1.60630640e-02,  1.62037040e-02,\n",
       "         1.63440190e-02,  1.64897050e-02,  1.66302450e-02,  1.67709370e-02,\n",
       "         1.69163730e-02,  1.70571130e-02,  1.71987400e-02,  1.73398910e-02,\n",
       "         1.74862780e-02,  1.76268170e-02,  1.77679850e-02,  1.79137210e-02,\n",
       "         1.80553110e-02,  1.81967250e-02,  1.83380640e-02,  1.84854000e-02,\n",
       "         1.86268140e-02,  1.87683540e-02,  1.89148150e-02,  1.90570040e-02,\n",
       "         1.91986680e-02,  1.93407320e-02,  1.94876930e-02,  1.96299060e-02,\n",
       "         1.97720450e-02,  1.99188350e-02,  2.00611990e-02,  2.02032380e-02,\n",
       "         2.03458510e-02,  2.04931870e-02,  2.06355500e-02,  2.07779390e-02,\n",
       "         2.09251760e-02,  2.10682890e-02,  2.12099530e-02,  2.13525420e-02,\n",
       "         2.14997520e-02,  2.16430900e-02,  2.17853040e-02,  2.19333440e-02,\n",
       "         2.20768070e-02,  2.22192210e-02,  2.23616340e-02,  2.25093200e-02,\n",
       "         2.26569300e-02,  2.28046910e-02,  2.29477290e-02,  2.30910440e-02,\n",
       "         2.32337820e-02,  2.33824920e-02,  2.35256550e-02,  2.36693680e-02,\n",
       "         2.38170540e-02,  2.39603920e-02,  2.41036570e-02,  2.42471700e-02,\n",
       "         2.43952800e-02,  2.45386680e-02,  2.46829800e-02,  2.48306660e-02,\n",
       "         2.49742040e-02,  2.51177450e-02,  2.52614080e-02,  2.54095430e-02,\n",
       "         2.55527310e-02,  2.56972680e-02,  2.58460030e-02,  2.59897160e-02,\n",
       "         2.61333560e-02,  2.62771930e-02,  2.64256030e-02,  2.65697910e-02,\n",
       "         2.67136660e-02,  2.68619140e-02,  2.70061260e-02,  2.71502390e-02,\n",
       "         2.72948050e-02,  2.74435150e-02,  2.75876530e-02,  2.77318150e-02,\n",
       "         2.78800130e-02,  2.80245130e-02,  2.81692750e-02,  2.83141400e-02,\n",
       "         2.84621380e-02,  2.86062130e-02,  2.87504750e-02,  2.88994600e-02,\n",
       "         2.90436720e-02,  2.91880100e-02,  2.93326510e-02,  2.94816980e-02,\n",
       "         2.96259980e-02]),\n",
       " 'K2602_smua_curr': array([-1.71542e-06, -1.76430e-06, -1.81913e-06, -1.76549e-06,\n",
       "        -1.78218e-06, -1.83582e-06, -1.78576e-06, -1.78218e-06,\n",
       "        -1.74642e-06, -1.76907e-06, -1.78456e-06, -1.80840e-06,\n",
       "        -1.80602e-06, -1.80840e-06, -1.84536e-06, -1.84059e-06,\n",
       "        -1.89781e-06, -1.92046e-06, -1.92761e-06, -1.94192e-06,\n",
       "        -1.83702e-06, -1.89424e-06, -1.84298e-06, -1.86443e-06,\n",
       "        -1.83344e-06, -1.86801e-06, -1.87874e-06, -1.88589e-06,\n",
       "        -1.95026e-06, -1.95861e-06, -2.01344e-06, -2.01225e-06,\n",
       "        -1.95503e-06, -1.87397e-06, -1.84417e-06, -1.79052e-06,\n",
       "        -1.78218e-06, -1.76072e-06, -1.78814e-06, -1.88828e-06,\n",
       "        -1.88231e-06, -1.96695e-06, -1.86563e-06, -1.86086e-06,\n",
       "        -1.83702e-06, -1.80006e-06, -1.77503e-06, -1.77503e-06,\n",
       "        -1.81675e-06, -1.75476e-06, -1.76191e-06, -1.77145e-06,\n",
       "        -1.74522e-06, -1.71423e-06, -1.72496e-06, -1.76787e-06,\n",
       "        -1.77622e-06, -1.84417e-06, -1.79172e-06, -1.78933e-06,\n",
       "        -1.84417e-06, -1.86205e-06, -1.91808e-06, -1.91212e-06,\n",
       "        -1.89781e-06, -1.86920e-06, -1.88470e-06, -1.82509e-06,\n",
       "        -1.80840e-06, -1.79172e-06, -1.83225e-06, -1.82509e-06,\n",
       "        -1.75357e-06, -1.82390e-06, -1.91808e-06, -1.89304e-06,\n",
       "        -1.96576e-06, -2.03490e-06, -2.01225e-06, -1.96815e-06,\n",
       "        -1.93954e-06, -1.89543e-06, -1.91808e-06, -1.87397e-06,\n",
       "        -1.93000e-06, -1.86205e-06, -1.87755e-06, -1.87993e-06,\n",
       "        -1.82509e-06, -1.81675e-06, -1.84178e-06, -1.90854e-06,\n",
       "        -1.91092e-06, -1.91092e-06, -1.85728e-06, -1.84536e-06,\n",
       "        -1.82271e-06, -1.83225e-06, -1.89424e-06, -1.84178e-06,\n",
       "        -1.77264e-06, -1.76668e-06, -1.68800e-06, -1.71065e-06,\n",
       "        -1.70946e-06, -1.76191e-06, -1.80721e-06, -1.89424e-06,\n",
       "        -1.84536e-06, -1.86324e-06, -1.88947e-06, -1.89781e-06,\n",
       "        -1.92404e-06, -1.93000e-06, -1.95265e-06, -1.96457e-06,\n",
       "        -1.95265e-06, -1.96099e-06, -1.91927e-06, -1.95861e-06,\n",
       "        -1.93954e-06, -1.95265e-06, -1.92404e-06, -1.93119e-06,\n",
       "        -1.86205e-06, -1.87397e-06, -1.95265e-06, -1.89304e-06,\n",
       "        -1.90496e-06, -1.93238e-06, -1.89662e-06, -1.91331e-06,\n",
       "        -1.90377e-06, -1.99079e-06, -1.98841e-06, -1.92165e-06,\n",
       "        -1.92523e-06, -1.94430e-06, -1.91450e-06, -1.97291e-06,\n",
       "        -1.94311e-06, -1.86920e-06, -1.86324e-06, -1.84536e-06,\n",
       "        -1.94430e-06, -1.89304e-06, -1.88828e-06, -1.85370e-06,\n",
       "        -1.87516e-06, -1.97411e-06, -1.93119e-06, -1.91331e-06,\n",
       "        -1.92761e-06, -2.01702e-06, -1.94430e-06, -1.89781e-06,\n",
       "        -1.88231e-06, -1.83702e-06, -1.87039e-06, -1.86324e-06,\n",
       "        -1.77860e-06, -1.87993e-06, -1.89304e-06, -1.94550e-06,\n",
       "        -1.91808e-06, -1.95980e-06, -1.93357e-06, -1.88828e-06,\n",
       "        -1.85847e-06, -1.84536e-06, -1.90854e-06, -1.92046e-06,\n",
       "        -1.88231e-06, -1.90258e-06, -1.86205e-06, -1.83702e-06,\n",
       "        -1.84536e-06, -1.89424e-06, -1.90258e-06, -1.91331e-06,\n",
       "        -1.87516e-06, -1.86682e-06, -1.89304e-06, -1.85728e-06,\n",
       "        -1.81079e-06, -1.84536e-06, -1.86324e-06, -1.87159e-06,\n",
       "        -1.86324e-06, -1.76430e-06, -1.75834e-06, -1.75118e-06,\n",
       "        -1.87635e-06, -1.89543e-06, -1.86563e-06, -1.89781e-06,\n",
       "        -1.85132e-06]),\n",
       " 'K6220_I': array([-2.02184394e-12,  2.15444963e-10,  3.30087904e-10,  3.92123541e-10,\n",
       "         5.92451498e-10,  1.49931445e-09,  2.50007317e-09,  3.50568750e-09,\n",
       "         4.51147594e-09,  5.52029012e-09,  6.52893589e-09,  7.53708461e-09,\n",
       "         8.54299961e-09,  9.54820033e-09,  1.05526731e-08,  1.15563841e-08,\n",
       "         1.25587523e-08,  1.35615534e-08,  1.45635521e-08,  1.55682927e-08,\n",
       "         1.65714861e-08,  1.75747902e-08,  1.85779058e-08,  1.95739724e-08,\n",
       "         2.05703423e-08,  2.15678017e-08,  2.25613437e-08,  2.35627557e-08,\n",
       "         2.45639665e-08,  2.55679431e-08,  2.65691539e-08,  2.75695046e-08,\n",
       "         2.85603056e-08,  2.95485024e-08,  3.05365365e-08,  3.15190309e-08,\n",
       "         3.24969581e-08,  3.34704137e-08,  3.44429754e-08,  3.54126242e-08,\n",
       "         3.63840388e-08,  3.73504800e-08,  3.83133403e-08,  3.92701210e-08,\n",
       "         4.02221805e-08,  4.11749193e-08,  4.21264057e-08,  4.30783659e-08,\n",
       "         4.40273464e-08,  4.49758433e-08,  4.59645722e-08,  4.69106605e-08,\n",
       "         4.78551065e-08,  4.88002657e-08,  4.97407621e-08,  5.06820964e-08,\n",
       "         5.16250244e-08,  5.25668934e-08,  5.35086266e-08,  5.44475920e-08,\n",
       "         5.53880094e-08,  5.63276449e-08,  5.72649022e-08,  5.82034798e-08,\n",
       "         5.91423366e-08,  6.00811513e-08,  6.10178235e-08,  6.19567432e-08,\n",
       "         6.28951131e-08,  6.38315541e-08,  6.47697553e-08,  6.57078229e-08,\n",
       "         6.66456589e-08,  6.75812583e-08,  6.85191156e-08,  6.94567805e-08,\n",
       "         7.03921618e-08,  7.13293503e-08,  7.22668343e-08,  7.32038549e-08,\n",
       "         7.41387389e-08,  7.50759853e-08,  7.60130173e-08,  7.69499700e-08,\n",
       "         7.78848753e-08,  7.88212511e-08,  7.97581360e-08,  8.06927146e-08,\n",
       "         8.16295203e-08,  8.25660776e-08,  8.35027136e-08,  8.44369872e-08,\n",
       "         8.53736907e-08,  8.63100557e-08,  8.72441026e-08,  8.81804110e-08,\n",
       "         8.91167081e-08,  9.00530278e-08,  9.09868150e-08,  9.19232574e-08,\n",
       "         9.28593513e-08,  9.37932965e-08,  9.47289153e-08,  9.56650314e-08,\n",
       "         9.66010005e-08,  9.75345506e-08,  9.84705536e-08,  9.94064086e-08,\n",
       "         1.00340128e-07,  1.01275837e-07,  1.02211479e-07,  1.03147142e-07,\n",
       "         1.04080670e-07,  1.05016526e-07,  1.05951996e-07,  1.06885501e-07,\n",
       "         1.07820973e-07,  1.08756625e-07,  1.09692131e-07,  1.10625127e-07,\n",
       "         1.11560666e-07,  1.12496160e-07,  1.13429416e-07,  1.14364424e-07,\n",
       "         1.15300145e-07,  1.16235255e-07,  1.17168522e-07,  1.18103519e-07,\n",
       "         1.19038810e-07,  1.19971928e-07,  1.20906925e-07,  1.21842250e-07,\n",
       "         1.22777343e-07,  1.23710152e-07,  1.24645093e-07,  1.25580406e-07,\n",
       "         1.26513255e-07,  1.27448410e-07,  1.28383565e-07,  1.29318483e-07,\n",
       "         1.30251377e-07,  1.31185899e-07,  1.32121190e-07,  1.33053958e-07,\n",
       "         1.33988841e-07,  1.34923703e-07,  1.35858745e-07,  1.36791368e-07,\n",
       "         1.37769367e-07,  1.38702307e-07,  1.39637078e-07,  1.40571893e-07,\n",
       "         1.41506743e-07,  1.42439027e-07,  1.43373707e-07,  1.44308331e-07,\n",
       "         1.45240999e-07,  1.46175645e-07,  1.47110302e-07,  1.48044948e-07,\n",
       "         1.48977503e-07,  1.49912252e-07,  1.50846514e-07,  1.51779057e-07,\n",
       "         1.52713715e-07,  1.53648315e-07,  1.54582623e-07,  1.55515268e-07,\n",
       "         1.56450095e-07,  1.57384538e-07,  1.58316539e-07,  1.59250959e-07,\n",
       "         1.60185503e-07,  1.61119743e-07,  1.62052411e-07,  1.62986605e-07,\n",
       "         1.63921206e-07,  1.64853558e-07,  1.65787775e-07,  1.66722161e-07,\n",
       "         1.67656082e-07,  1.68588569e-07,  1.69522820e-07,  1.70457195e-07,\n",
       "         1.71389423e-07,  1.72323809e-07,  1.73258015e-07,  1.74192049e-07,\n",
       "         1.75124220e-07,  1.76058742e-07,  1.76992993e-07,  1.77924892e-07,\n",
       "         1.78859459e-07,  1.79793620e-07,  1.80727971e-07,  1.81659836e-07,\n",
       "         1.82594030e-07])}"
      ]
     },
     "execution_count": 140,
     "metadata": {},
     "output_type": "execute_result"
    }
   ],
   "source": [
    "#qc.experiments()\n",
    "dataset = load_by_run_spec(captured_run_id=287)\n",
    "#dataset\n",
    "data = dataset.get_parameter_data()['meter_V']\n",
    "data\n",
    "#dataset.get_parameter_data()['Vmeter0_V']"
   ]
  },
  {
   "cell_type": "code",
   "execution_count": 141,
   "metadata": {},
   "outputs": [
    {
     "data": {
      "text/plain": [
       "kei full ivc_#D055B1N5v1#287@C:\\Users\\KelvinOX25\\Documents\\GitHub\\measDC\\!_chains\\_expdata\\Experiments_D055B1N5v1.db\n",
       "--------------------------------------------------------------------------------------------------------------------\n",
       "287-results-1-K2602_smua_curr,K6220_I,meter_V-197"
      ]
     },
     "execution_count": 141,
     "metadata": {},
     "output_type": "execute_result"
    }
   ],
   "source": [
    "qc.experiments()[-1]"
   ]
  },
  {
   "cell_type": "code",
   "execution_count": null,
   "metadata": {},
   "outputs": [],
   "source": []
  }
 ],
 "metadata": {
  "anaconda-cloud": {},
  "kernelspec": {
   "display_name": "Python 3",
   "language": "python",
   "name": "python3"
  },
  "language_info": {
   "codemirror_mode": {
    "name": "ipython",
    "version": 3
   },
   "file_extension": ".py",
   "mimetype": "text/x-python",
   "name": "python",
   "nbconvert_exporter": "python",
   "pygments_lexer": "ipython3",
   "version": "3.7.4"
  },
  "latex_envs": {
   "LaTeX_envs_menu_present": true,
   "autoclose": false,
   "autocomplete": true,
   "bibliofile": "biblio.bib",
   "cite_by": "apalike",
   "current_citInitial": 1,
   "eqLabelWithNumbers": true,
   "eqNumInitial": 1,
   "hotkeys": {
    "equation": "Ctrl-E",
    "itemize": "Ctrl-I"
   },
   "labels_anchors": false,
   "latex_user_defs": false,
   "report_style_numbering": false,
   "user_envs_cfg": false
  },
  "toc": {
   "base_numbering": 1,
   "nav_menu": {},
   "number_sections": true,
   "sideBar": true,
   "skip_h1_title": false,
   "title_cell": "Table of Contents",
   "title_sidebar": "Contents",
   "toc_cell": false,
   "toc_position": {
    "height": "477px",
    "left": "120px",
    "top": "141px",
    "width": "165px"
   },
   "toc_section_display": true,
   "toc_window_display": true
  },
  "varInspector": {
   "cols": {
    "lenName": 16,
    "lenType": 16,
    "lenVar": 40
   },
   "kernels_config": {
    "python": {
     "delete_cmd_postfix": "",
     "delete_cmd_prefix": "del ",
     "library": "var_list.py",
     "varRefreshCmd": "print(var_dic_list())"
    },
    "r": {
     "delete_cmd_postfix": ") ",
     "delete_cmd_prefix": "rm(",
     "library": "var_list.r",
     "varRefreshCmd": "cat(var_dic_list()) "
    }
   },
   "types_to_exclude": [
    "module",
    "function",
    "builtin_function_or_method",
    "instance",
    "_Feature"
   ],
   "window_display": false
  }
 },
 "nbformat": 4,
 "nbformat_minor": 1
}
