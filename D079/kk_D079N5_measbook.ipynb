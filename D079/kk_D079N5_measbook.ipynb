{
 "cells": [
  {
   "cell_type": "markdown",
   "metadata": {},
   "source": [
    "## Environment setup"
   ]
  },
  {
   "cell_type": "markdown",
   "metadata": {},
   "source": [
    "### Library preparation"
   ]
  },
  {
   "cell_type": "code",
   "execution_count": 1,
   "metadata": {},
   "outputs": [],
   "source": [
    "%matplotlib notebook\n",
    "%load_ext autoreload\n",
    "%autoreload 2"
   ]
  },
  {
   "cell_type": "code",
   "execution_count": 75,
   "metadata": {},
   "outputs": [],
   "source": [
    "import time, os, io\n",
    "from PIL import ImageGrab\n",
    "from IPython.display import Image, display\n",
    "import clipboard\n",
    "from scipy import stats\n",
    "from si_prefix import si_format\n",
    "from tqdm import tqdm, tqdm_notebook\n",
    "\n",
    "import pandas as pd\n",
    "import numpy as np\n",
    "from io import StringIO \n",
    "import matplotlib.pyplot as plt\n",
    "from matplotlib.ticker import FormatStrFormatter\n",
    "plt.close('all')\n",
    "\n",
    "import sys \n",
    "sys.path.append('..')\n",
    "from meas_util import *\n",
    "\n",
    "import qcodes as qc\n",
    "from qcodes import Station, load_by_run_spec, load_by_guid\n",
    "from qcodes.instrument.base import Instrument\n",
    "from qcodes.dataset.experiment_container import (Experiment,\n",
    "                                                 load_last_experiment,\n",
    "                                                 new_experiment)\n",
    "from qcodes.dataset.database import initialise_database\n",
    "from qcodes.dataset.measurements import Measurement\n",
    "from qcodes.dataset.plotting import plot_by_id, get_data_by_id, plot_dataset\n",
    "from qcodes.dataset.data_set import load_by_id\n",
    "# from qcodes.dataset.data_export import get_shaped_data_by_runidb"
   ]
  },
  {
   "cell_type": "code",
   "execution_count": 3,
   "metadata": {
    "scrolled": false
   },
   "outputs": [],
   "source": [
    "from qcodes.instrument_drivers.Lakeshore.Model_372 import Model_372\n",
    "from qcodes.instrument_drivers.tektronix.AWG3252_Isrc import AWG3252_Isrc\n",
    "from qcodes.instrument_drivers.HP.HP34401 import HP34401\n",
    "from qcodes.instrument_drivers.HP.HP34401_DL1201 import HP34401_DL1201\n",
    "from qcodes.instrument_drivers.Keithley.Keithley_2600_channels import *\n",
    "from qcodes.instrument_drivers.tektronix.AWG5204_Isrc import AWG5204_Isrc\n",
    "\n",
    "from qcodes.instrument_drivers.Keithley.Keithley_6220 import Keithley_6220"
   ]
  },
  {
   "cell_type": "markdown",
   "metadata": {},
   "source": [
    "### Instrument nicknames and QC database initialization"
   ]
  },
  {
   "cell_type": "code",
   "execution_count": 4,
   "metadata": {},
   "outputs": [
    {
     "name": "stdout",
     "output_type": "stream",
     "text": [
      "Connected to: Keithley Instruments Inc. 2602A (serial:1272049, firmware:2.1.5) in 0.49s\n",
      "Connected to: LSCI 370 (serial:370665, firmware:04102008) in 0.11s\n",
      "initialization \\\\JOSH-PC\\Gersh_Labview\\DC measurement\\LSCI 370 PYTHON_conf.vi\n",
      "Instrument initialization completed.\n"
     ]
    }
   ],
   "source": [
    "try:\n",
    "   Instrument.close_all()\n",
    "except KeyError:\n",
    "   pass    \n",
    "except NameError:\n",
    "   pass \n",
    "\n",
    "K2602 =  Keithley_2600(name = 'K2602', address = \"GPIB::26::INSTR\" )\n",
    "Flux_chA = K2602.smua.curr\n",
    "Flux_chB = K2602.smub.curr\n",
    "Bfield =  Flux_chA\n",
    "Bfield.step = 10e-6\n",
    "Bfield.inter_delay = .1\n",
    "\n",
    "LS370 = Model_372(name = 'LS370 input Ch', address = 'GPIB::12::INSTR', terminator='\\n')\n",
    "T8 = LS370.ch08.temperature\n",
    "\n",
    "htr = LS370htr()\n",
    "htr.Tset(0.030)\n",
    "htr.PIDset(30,5,1)\n",
    "htr.HTRset('off')\n",
    "\n",
    "# Isrc = AWG5204_Isrc('gen', 'TCPIP0::AWG52000-XXXX::inst0::INSTR', ch = 1, R_bias = 1e9, Attn = 1, timeout = 20)\n",
    "Isrc = Keithley_6220(name = 'K6220', address = \"GPIB::13::INSTR\" )\n",
    "# Isrc = AWG3252_Isrc('gen', 'TCPIP0::192.168.13.32::inst0::INSTR',  R_bias = 1e9, Attn = 1)\n",
    "Isrc.init()\n",
    "\n",
    "Vmeter = HP34401_DL1201('meter', 'GPIB0::8::INSTR', Gain = 100)\n",
    "Vmeter.init('fast 6')\n",
    "\n",
    "station = qc.Station(Isrc, Vmeter)\n",
    "\n",
    "print ('Instrument initialization completed.')"
   ]
  },
  {
   "cell_type": "markdown",
   "metadata": {},
   "source": [
    "### Database ini"
   ]
  },
  {
   "cell_type": "code",
   "execution_count": 5,
   "metadata": {},
   "outputs": [],
   "source": [
    "SAMPLE = '79N5'\n",
    "qc.config[\"core\"][\"db_location\"] = r'\\\\JOSH-PC\\OurData_OneDrive\\Experiments_{}.db'.format(SAMPLE)"
   ]
  },
  {
   "cell_type": "markdown",
   "metadata": {},
   "source": [
    "## Scripts"
   ]
  },
  {
   "cell_type": "markdown",
   "metadata": {},
   "source": [
    "### Utilities"
   ]
  },
  {
   "cell_type": "code",
   "execution_count": 6,
   "metadata": {},
   "outputs": [],
   "source": [
    "def setup():\n",
    "    Isrc.I.set(0)\n",
    "\n",
    "def cleanup():\n",
    "    Isrc.I.set(0) \n",
    "    Bfield.set(0)\n",
    "    \n",
    "def status_now():\n",
    "    print(Isrc)\n",
    "    print(Vmeter)\n",
    "    print('B = {}A'.format(si_format(Bfield.get())))\n",
    "    print('T = {}K'.format(si_format(T8.get())))\n",
    "    print('{}\\n{}'.format(htr.HTRget(), htr.PWRget()))"
   ]
  },
  {
   "cell_type": "code",
   "execution_count": 7,
   "metadata": {},
   "outputs": [],
   "source": [
    "def meas_Voffset(i):\n",
    "    V_off = 0\n",
    "    N = 10\n",
    "    Isrc.I.set(i)\n",
    "\n",
    "\n",
    "    for j in range(N):\n",
    "#         time.sleep(.1)\n",
    "        V_off += Vmeter.V.get()\n",
    "    return V_off/N"
   ]
  },
  {
   "cell_type": "code",
   "execution_count": 8,
   "metadata": {},
   "outputs": [],
   "source": [
    "def cos_to_B(cos, ZF = .004e-3, FF = .232e-3):\n",
    "\n",
    "    return np.arccos(cos)*(2* (FF - ZF)/np.pi + ZF  )"
   ]
  },
  {
   "cell_type": "code",
   "execution_count": 9,
   "metadata": {},
   "outputs": [],
   "source": [
    "def T_scan(T_list):\n",
    "\n",
    "    tolerT8 = 0.02\n",
    "    chkrepeat = 20\n",
    "    chkperiod_sec = 2\n",
    "\n",
    "    Tnow_alllst = []\n",
    "    timer_lst = []\n",
    "\n",
    "    htr.HTRset('10mA')\n",
    "\n",
    "    for setT8 in setT8_lst:\n",
    "    #     htr.setpoint(setT8)\n",
    "        htr.Tset(setT8)\n",
    "        print('ramping T8 to {}K...'.format(si_format(setT8)))\n",
    "        if setT8 < 60e-3:\n",
    "            time.sleep(300)\n",
    "        else:\n",
    "            time.sleep(30)\n",
    "        Tnow_lst = []\n",
    "\n",
    "        t0 = time.time()\n",
    "        count_T = 0\n",
    "        while count_T < chkrepeat:\n",
    "            T_now = T8.get()\n",
    "            if (1-tolerT8)*setT8 <= T_now <= (1+tolerT8)*setT8 :\n",
    "                count_T +=1\n",
    "                Tnow_lst.append(T_now)\n",
    "                time.sleep(chkperiod_sec)\n",
    "            elif count_T >= 1 :\n",
    "                count_T -=1\n",
    "        t1 = time.time()\n",
    "\n",
    "        timer_lst.append(t1-t0)\n",
    "        Tnow_alllst.append(Tnow_lst)\n",
    "\n",
    "\n",
    "\n",
    "\n"
   ]
  },
  {
   "cell_type": "markdown",
   "metadata": {},
   "source": [
    "### IVCs"
   ]
  },
  {
   "cell_type": "code",
   "execution_count": 82,
   "metadata": {},
   "outputs": [],
   "source": [
    "def IVC_udu (amp, stp, Gain, R_bias, Attn, \n",
    "             tfsstb = 0.1, label = '', NEGATIVE = True):\n",
    "    def ud_list(amp, stp):\n",
    "    \n",
    "        n  =  np.round(amp/stp)\n",
    "        \n",
    "        u1 = np.linspace (0, amp, n + 1)\n",
    "        d = np.linspace (amp, 0, n +1)\n",
    "        \n",
    "    \n",
    "        return np.concatenate ([u1, d])\n",
    "    \n",
    "    i0 = 20e-12\n",
    "\n",
    "    Isrc.I.set(i0)\n",
    "    time.sleep(1)\n",
    "    Isrc.I.set(-i0)\n",
    "    time.sleep(1)\n",
    "   \n",
    "    Voff =  meas_Voffset(0)\n",
    "    \n",
    "    meas = set_meas(Vmeter.V, Isrc.I, setup = setup, cleanup = cleanup)\n",
    "\n",
    "    Vmeter.set_Gain ( Gain )\n",
    "    Isrc.set_R_Attn ( R_bias, Attn )\n",
    "    \n",
    "    if NEGATIVE:\n",
    "        i_list = udu_list(amp, stp)\n",
    "    else:\n",
    "        i_list = ud_list(amp, stp)\n",
    "    \n",
    "    ti_list = tqdm_notebook(i_list)\n",
    "    if label == '':\n",
    "        label = 'IVc @T={}K, B={}A'.format(si_format(T8.get()), si_format(Bfield.get(), precision = 3))\n",
    "        \n",
    "\n",
    "    name_exp(sample = SAMPLE, exp_type = label )\n",
    "    with meas.run() as datasaver:\n",
    "        for i in ti_list:\n",
    "            \n",
    "            Isrc.I.set(i)\n",
    "            time.sleep(tfsstb)\n",
    "            V = Vmeter.V.get()\n",
    "\n",
    "            res = [( Isrc.I, i - 0*22.5e-3/R_bias*Attn ), ( Vmeter.V, V - Voff  )]\n",
    "            datasaver.add_result(*res) \n",
    "\n",
    "    cleanup()\n",
    "    return datasaver.run_id "
   ]
  },
  {
   "cell_type": "code",
   "execution_count": 11,
   "metadata": {},
   "outputs": [],
   "source": [
    "def Ic_meas (amp, stp, thr, Gain, R_bias, Attn, tfsstb = 0.1):\n",
    "\n",
    "    meas = set_meas(Vmeter.V, Isrc.I, setup = setup, cleanup = cleanup)\n",
    "    Vmeter.set_Gain (Gain) \n",
    "    Isrc.set_R_Attn (R_bias, Attn)\n",
    "    \n",
    "    i_list_u = np.linspace(0,  amp,  round (amp/stp) + 1)\n",
    "    ti_list_u = tqdm_notebook(i_list_u)\n",
    "    i_list_d = np.linspace(0, -amp,  round (amp/stp) + 1)    \n",
    "    ti_list_d = tqdm_notebook(i_list_d)\n",
    "    ti_lists = [ ti_list_u ,  ti_list_d]\n",
    "    \n",
    "    name_exp(sample = SAMPLE, exp_type = 'sc branch @T={}K, B={}A'.format(si_format(T8.get()), si_format(B, precision = 3)))\n",
    "    with meas.run() as datasaver:\n",
    "        for ti_list in ti_lists:\n",
    "            \n",
    "            Isrc.I.set(0)\n",
    "            V_ = Vmeter.V.get()            \n",
    "            time.sleep(1)\n",
    "            \n",
    "            for i in ti_list:\n",
    "            \n",
    "                Isrc.I.set(i)\n",
    "                time.sleep(tfsstb)\n",
    "\n",
    "                V = Vmeter.V.get()\n",
    "                dV = V - V_\n",
    "                V_ = V \n",
    "                \n",
    "                if (abs(dV) > thr)  or (abs(V) > 4e-3 ) : #\n",
    "                    break\n",
    "\n",
    "                res = [( Isrc.I, i - 22.5e-3/R_bias*Attn ), ( Vmeter.V, V  )]\n",
    "                datasaver.add_result(*res) \n",
    "    cleanup()\n",
    "    return datasaver.run_id "
   ]
  },
  {
   "cell_type": "code",
   "execution_count": 12,
   "metadata": {},
   "outputs": [],
   "source": [
    "def IVcB_meas (i_list, B_list, thr=1e-3, Gain=100, R_bias=1e9, Attn=1, tfsstb = 0.1):\n",
    "\n",
    "    Vmeter.set_Gain (Gain = Gain) \n",
    "    Isrc.set_R_Attn (R_bias = R_bias, Attn=Attn)\n",
    "\n",
    "    i_lists = [i_list]\n",
    "    \n",
    "    meas = set_meas(Vmeter.V, Isrc.I,setup = setup, cleanup = cleanup)\n",
    "    tB_list = tqdm_notebook(B_list)\n",
    "    for B in tB_list:\n",
    "\n",
    "        name_exp(sample = SAMPLE, exp_type = 'full IVc(B) @T={}K, B={}A'.format(si_format(T8.get()), si_format(B, precision =3)))\n",
    "        with meas.run() as datasaver:\n",
    "\n",
    "            Bfield.set(B)\n",
    "            for i_list in i_lists:\n",
    "\n",
    "                Isrc.I.set(0)\n",
    "                V_ = Vmeter.V.get()\n",
    "                time.sleep(1)\n",
    "\n",
    "                for i in i_list:\n",
    "\n",
    "                    Isrc.I.set(i)\n",
    "                    time.sleep(tfsstb)\n",
    "\n",
    "                    V = Vmeter.V.get()\n",
    "                    dV = V - V_\n",
    "                    V_ = V\n",
    "\n",
    "                    if  (abs(V) > 6.4e-3) : #(abs(dV) > thr)  or\n",
    "                        break\n",
    "\n",
    "                    res = [( Isrc.I, i - 22.5e-3/R_bias*Attn ), ( Vmeter.V, V  )]\n",
    "                    datasaver.add_result(*res) \n",
    "    cleanup()\n",
    "    return datasaver.run_id "
   ]
  },
  {
   "cell_type": "markdown",
   "metadata": {},
   "source": [
    "### Histograms"
   ]
  },
  {
   "cell_type": "code",
   "execution_count": 86,
   "metadata": {},
   "outputs": [],
   "source": [
    "def meas_hist(N, istep =0.1e-9,t_offset = 0, Vthr = 200e-6 ):\n",
    "\n",
    "    Isws = []\n",
    "\n",
    "    i = 0\n",
    "#    istep = .2e-9\n",
    "    i0 = 10*istep\n",
    "\n",
    "    Isrc.I.set(i0)\n",
    "    time.sleep(1)\n",
    "    Isrc.I.set(-i0)\n",
    "    time.sleep(1)\n",
    "    V_off = meas_Voffset(0)\n",
    "\n",
    "    t0 = time.time()    \n",
    "    for n in tqdm_notebook(range(N)):\n",
    "\n",
    "#         print(1e3*(time.time()-t0))\n",
    "        V = V_off\n",
    "\n",
    "        while (V - V_off) < Vthr:\n",
    "            \n",
    "            i += istep\n",
    "            time.sleep(t_offset)\n",
    "            Isrc.I.set(i)\n",
    "            V = Vmeter.V.get()\n",
    "            \n",
    "        Isws.append(i)\n",
    "        #print(i)\n",
    "\n",
    "        Isrc.I.set(-i0)\n",
    "        time.sleep(.1)\n",
    "        i = np.mean(Isws)*0.7\n",
    "#         Isrc.I.set(i)\n",
    "        time.sleep(0.1)\n",
    "\n",
    "    return Isws"
   ]
  },
  {
   "cell_type": "code",
   "execution_count": null,
   "metadata": {},
   "outputs": [],
   "source": []
  },
  {
   "cell_type": "markdown",
   "metadata": {},
   "source": [
    "### Data proc"
   ]
  },
  {
   "cell_type": "code",
   "execution_count": 14,
   "metadata": {},
   "outputs": [],
   "source": [
    "def extract_Isw_by_id (idx):\n",
    "    \n",
    "    alldata = get_data_by_id(idx)\n",
    "    \n",
    "    Is = alldata[0][0]['data']\n",
    "    Vs = alldata[0][1]['data']\n",
    "\n",
    "        \n",
    "    return extract_Isw (Is,Vs)\n",
    "\n",
    "def extract_Isw (Is,Vs):\n",
    "    \n",
    "        if len( Is )== 0 or len( Vs )== 0 :\n",
    "            Isw, R0 = np.nan, np.nan\n",
    "            return Isw, R0\n",
    "        \n",
    "        Isw = abs(np.max(Is)) \n",
    "        \n",
    "\n",
    "        \n",
    "        return Isw"
   ]
  },
  {
   "cell_type": "code",
   "execution_count": 15,
   "metadata": {},
   "outputs": [],
   "source": [
    "def extract_Isw_R0 (Is,Vs):\n",
    "\n",
    "    Isw = (np.max(Is) - np.min(Is) ) /2\n",
    "\n",
    "    order = Is.argsort()        \n",
    "    Is, Vs = Is[order], Vs[order]\n",
    "    n = len(Is)\n",
    "    n_min, n_max = np.int(n/3), np.int(2*n/3)        \n",
    "    n_sl = slice(n_min, n_max)\n",
    "\n",
    "    R0 = np.mean(np.diff(Vs[n_sl])) / np.mean(np.diff(Is[n_sl]))        \n",
    "    return Isw, R0\n",
    "\n",
    "def extract_Isw_R0_by_id (idx):\n",
    "    \n",
    "    alldata = get_data_by_id(idx)\n",
    "    \n",
    "    Is = alldata[0][0]['data']\n",
    "    Vs = alldata[0][1]['data']\n",
    "        \n",
    "    return extract_Isw_R0 (Is,Vs)"
   ]
  },
  {
   "cell_type": "code",
   "execution_count": 16,
   "metadata": {},
   "outputs": [],
   "source": [
    "def xy_by_id(idx):\n",
    "    alldata = get_data_by_id(idx)\n",
    "    \n",
    "    x = alldata[0][0]['data']\n",
    "    y = alldata[0][1]['data']\n",
    "    \n",
    "    return x,y"
   ]
  },
  {
   "cell_type": "code",
   "execution_count": 17,
   "metadata": {},
   "outputs": [],
   "source": [
    "def plot_hist_by_id(idx, ax = None):\n",
    "    _, Isws = xy_by_id(idx)\n",
    "    if ax is None:\n",
    "\n",
    "        fig, ax = plt.subplots()\n",
    "\n",
    "    ax.hist(Isws, bins = 201, cumulative = True )\n",
    "    return Isws"
   ]
  },
  {
   "cell_type": "code",
   "execution_count": 18,
   "metadata": {},
   "outputs": [],
   "source": [
    "def save_hist(Isws, label = ''):     \n",
    "    N_try = qc.Parameter('try')    \n",
    "\n",
    "    meas = set_meas( Isrc.I, N_try, setup = setup, cleanup = cleanup)\n",
    "    name = '{:} @T ={:2.1f}mK'.format(label, T8.get()/1e-3)\n",
    "    name_exp(sample = SAMPLE, exp_type = name )  \n",
    "    with meas.run() as datasaver: \n",
    "        for j, I in enumerate(Isws):\n",
    "            res = [ ( N_try, j  ) ,( Isrc.I, I ),]\n",
    "\n",
    "            datasaver.add_result(*res)\n",
    "            \n",
    "    print('Run # {:1.0f}, {:} saved'.format(datasaver.run_id, name))\n",
    "    return(datasaver.run_id )"
   ]
  },
  {
   "cell_type": "markdown",
   "metadata": {},
   "source": [
    "## Measurement"
   ]
  },
  {
   "cell_type": "markdown",
   "metadata": {},
   "source": [
    "#### Constants"
   ]
  },
  {
   "cell_type": "code",
   "execution_count": 19,
   "metadata": {},
   "outputs": [],
   "source": [
    "ZF =  0.000e-3\n",
    "FF =  0.227e-3\n",
    "# dF = 0.250e-3\n",
    "# midF = 0.154e-3\n",
    "\n",
    "\n"
   ]
  },
  {
   "cell_type": "markdown",
   "metadata": {},
   "source": [
    "#### Iscr choise"
   ]
  },
  {
   "cell_type": "code",
   "execution_count": 99,
   "metadata": {},
   "outputs": [],
   "source": [
    "Isrc.close()\n",
    "# Isrc = AWG5204_Isrc('gen', 'TCPIP0::AWG52000-XXXX::inst0::INSTR', ch = 1, R_bias = 1e9, Attn = 1, timeout = 20)\n",
    "Isrc = Keithley_6220(name = 'K6220', address = \"GPIB::13::INSTR\" )\n",
    "# Isrc = AWG3252_Isrc('gen', 'TCPIP0::192.168.13.32::inst0::INSTR',  R_bias = 100e6, Attn = 1)\n",
    "Isrc.init()"
   ]
  },
  {
   "cell_type": "code",
   "execution_count": 95,
   "metadata": {},
   "outputs": [],
   "source": [
    "Isrc.I.set(0.04e-9)\n"
   ]
  },
  {
   "cell_type": "code",
   "execution_count": 104,
   "metadata": {},
   "outputs": [],
   "source": [
    "Isrc.write_raw('SOUR:CURR:RANG 1e-8')\n",
    "Isrc.I.set(0.0e-9)"
   ]
  },
  {
   "cell_type": "markdown",
   "metadata": {},
   "source": [
    "#### Vmeter regime"
   ]
  },
  {
   "cell_type": "code",
   "execution_count": 44,
   "metadata": {},
   "outputs": [],
   "source": [
    "Bfield.set(0)"
   ]
  },
  {
   "cell_type": "code",
   "execution_count": 27,
   "metadata": {},
   "outputs": [
    {
     "data": {
      "text/plain": [
       "1.835723e-05"
      ]
     },
     "execution_count": 27,
     "metadata": {},
     "output_type": "execute_result"
    }
   ],
   "source": [
    "Vmeter.V.get()"
   ]
  },
  {
   "cell_type": "code",
   "execution_count": 115,
   "metadata": {},
   "outputs": [],
   "source": [
    "Vmeter.init('fast 6')"
   ]
  },
  {
   "cell_type": "markdown",
   "metadata": {},
   "source": [
    "### IVCs"
   ]
  },
  {
   "cell_type": "code",
   "execution_count": 38,
   "metadata": {
    "scrolled": false
   },
   "outputs": [
    {
     "data": {
      "application/vnd.jupyter.widget-view+json": {
       "model_id": "9b103616287a41fba4dd2f2274ca5f58",
       "version_major": 2,
       "version_minor": 0
      },
      "text/plain": [
       "HBox(children=(IntProgress(value=0, max=403), HTML(value='')))"
      ]
     },
     "metadata": {},
     "output_type": "display_data"
    },
    {
     "name": "stdout",
     "output_type": "stream",
     "text": [
      "Starting experimental run with id: 11\n",
      "\n"
     ]
    },
    {
     "data": {
      "text/plain": [
       "11"
      ]
     },
     "execution_count": 38,
     "metadata": {},
     "output_type": "execute_result"
    }
   ],
   "source": [
    "IVC_udu (amp= 20e-9, stp= .2e-9, \n",
    "             Gain=100, R_bias=101.2e6, Attn=1, tfsstb = 0.1,\n",
    "             label = 'Full IVC' )"
   ]
  },
  {
   "cell_type": "code",
   "execution_count": null,
   "metadata": {},
   "outputs": [],
   "source": [
    "IVcB_ada(npts_B = 51, thr=250e-6, Gain=100, R_bias=11.2e6, Attn=1, tfsstb = 0.1)"
   ]
  },
  {
   "cell_type": "code",
   "execution_count": 61,
   "metadata": {},
   "outputs": [
    {
     "data": {
      "text/plain": [
       "0.3960797660391569"
      ]
     },
     "execution_count": 61,
     "metadata": {},
     "output_type": "execute_result"
    }
   ],
   "source": [
    "np.cos(1/2.7*np.pi)"
   ]
  },
  {
   "cell_type": "code",
   "execution_count": 120,
   "metadata": {
    "scrolled": false
   },
   "outputs": [
    {
     "name": "stdout",
     "output_type": "stream",
     "text": [
      "0.00018987050469641652\n"
     ]
    },
    {
     "name": "stderr",
     "output_type": "stream",
     "text": [
      "C:\\Users\\KelvinOX25\\Anaconda3\\lib\\site-packages\\ipykernel_launcher.py:7: DeprecationWarning: object of type <class 'numpy.float64'> cannot be safely interpreted as an integer.\n",
      "  import sys\n",
      "C:\\Users\\KelvinOX25\\Anaconda3\\lib\\site-packages\\ipykernel_launcher.py:8: DeprecationWarning: object of type <class 'numpy.float64'> cannot be safely interpreted as an integer.\n",
      "  \n"
     ]
    },
    {
     "data": {
      "application/vnd.jupyter.widget-view+json": {
       "model_id": "d1cacaddecc54e0ba6b76421139aff90",
       "version_major": 2,
       "version_minor": 0
      },
      "text/plain": [
       "HBox(children=(IntProgress(value=0, max=172), HTML(value='')))"
      ]
     },
     "metadata": {},
     "output_type": "display_data"
    },
    {
     "name": "stdout",
     "output_type": "stream",
     "text": [
      "Starting experimental run with id: 176\n",
      "\n",
      "0.00018987050469641652\n"
     ]
    },
    {
     "data": {
      "application/vnd.jupyter.widget-view+json": {
       "model_id": "c0ab206772aa41f4a20b76814053bc1d",
       "version_major": 2,
       "version_minor": 0
      },
      "text/plain": [
       "HBox(children=(IntProgress(value=0, max=172), HTML(value='')))"
      ]
     },
     "metadata": {},
     "output_type": "display_data"
    },
    {
     "name": "stdout",
     "output_type": "stream",
     "text": [
      "Starting experimental run with id: 177\n",
      "\n",
      "0.00018987050469641652\n"
     ]
    },
    {
     "data": {
      "application/vnd.jupyter.widget-view+json": {
       "model_id": "9aa88babe776442b913999319a15fce5",
       "version_major": 2,
       "version_minor": 0
      },
      "text/plain": [
       "HBox(children=(IntProgress(value=0, max=172), HTML(value='')))"
      ]
     },
     "metadata": {},
     "output_type": "display_data"
    },
    {
     "name": "stdout",
     "output_type": "stream",
     "text": [
      "Starting experimental run with id: 178\n",
      "\n",
      "0.00018987050469641652\n"
     ]
    },
    {
     "data": {
      "application/vnd.jupyter.widget-view+json": {
       "model_id": "8ffadc48c3bc44c2ba51a7800dcaa16b",
       "version_major": 2,
       "version_minor": 0
      },
      "text/plain": [
       "HBox(children=(IntProgress(value=0, max=172), HTML(value='')))"
      ]
     },
     "metadata": {},
     "output_type": "display_data"
    },
    {
     "name": "stdout",
     "output_type": "stream",
     "text": [
      "Starting experimental run with id: 179\n",
      "\n",
      "0.00018987050469641652\n"
     ]
    },
    {
     "data": {
      "application/vnd.jupyter.widget-view+json": {
       "model_id": "a13ea3c6faac4249bf77efa419522735",
       "version_major": 2,
       "version_minor": 0
      },
      "text/plain": [
       "HBox(children=(IntProgress(value=0, max=172), HTML(value='')))"
      ]
     },
     "metadata": {},
     "output_type": "display_data"
    },
    {
     "name": "stdout",
     "output_type": "stream",
     "text": [
      "Starting experimental run with id: 180\n",
      "\n",
      "0.00018987050469641652\n"
     ]
    },
    {
     "data": {
      "application/vnd.jupyter.widget-view+json": {
       "model_id": "060c2e7188ef4058afdf0266090d122f",
       "version_major": 2,
       "version_minor": 0
      },
      "text/plain": [
       "HBox(children=(IntProgress(value=0, max=172), HTML(value='')))"
      ]
     },
     "metadata": {},
     "output_type": "display_data"
    },
    {
     "name": "stdout",
     "output_type": "stream",
     "text": [
      "Starting experimental run with id: 181\n",
      "\n",
      "0.00018987050469641652\n"
     ]
    },
    {
     "data": {
      "application/vnd.jupyter.widget-view+json": {
       "model_id": "9aa48df42fba421fbaf46a7c803260bc",
       "version_major": 2,
       "version_minor": 0
      },
      "text/plain": [
       "HBox(children=(IntProgress(value=0, max=172), HTML(value='')))"
      ]
     },
     "metadata": {},
     "output_type": "display_data"
    },
    {
     "name": "stdout",
     "output_type": "stream",
     "text": [
      "Starting experimental run with id: 182\n",
      "\n",
      "0.00018987050469641652\n"
     ]
    },
    {
     "data": {
      "application/vnd.jupyter.widget-view+json": {
       "model_id": "1739fc0484c040478c22f136288a72b4",
       "version_major": 2,
       "version_minor": 0
      },
      "text/plain": [
       "HBox(children=(IntProgress(value=0, max=172), HTML(value='')))"
      ]
     },
     "metadata": {},
     "output_type": "display_data"
    },
    {
     "name": "stdout",
     "output_type": "stream",
     "text": [
      "Starting experimental run with id: 183\n",
      "\n",
      "0.00018987050469641652\n"
     ]
    },
    {
     "data": {
      "application/vnd.jupyter.widget-view+json": {
       "model_id": "8c63a5d5b38a47c0bda97ea8f090a99d",
       "version_major": 2,
       "version_minor": 0
      },
      "text/plain": [
       "HBox(children=(IntProgress(value=0, max=172), HTML(value='')))"
      ]
     },
     "metadata": {},
     "output_type": "display_data"
    },
    {
     "name": "stdout",
     "output_type": "stream",
     "text": [
      "Starting experimental run with id: 184\n",
      "\n",
      "0.00018987050469641652\n"
     ]
    },
    {
     "data": {
      "application/vnd.jupyter.widget-view+json": {
       "model_id": "26d19d4155dd4255bd3efd1b56cb90f6",
       "version_major": 2,
       "version_minor": 0
      },
      "text/plain": [
       "HBox(children=(IntProgress(value=0, max=172), HTML(value='')))"
      ]
     },
     "metadata": {},
     "output_type": "display_data"
    },
    {
     "name": "stdout",
     "output_type": "stream",
     "text": [
      "Starting experimental run with id: 185\n",
      "\n"
     ]
    }
   ],
   "source": [
    "# for B in np.linspace(160e-6, 280e-6, 21) :\n",
    "\n",
    "# for B in [224e-6,230e-6]:\n",
    "for cos in [0.15]*10 : \n",
    "# for cos in tqdm_notebook(np.linspace(1,0,51 )):\n",
    "    B = cos_to_B(cos, FF = 210e-6, ZF = 0e-6)\n",
    "    print(B)\n",
    "    Bfield.set(B)\n",
    "    IVC_udu (amp=.17e-9, stp= 0.002e-9, NEGATIVE = False, \n",
    "             Gain=100, R_bias=101.2e6, Attn=1, tfsstb = .05,\n",
    "             label = 'cos = {:1.2f} '.format(cos) )\n",
    "\n",
    "Bfield.set(0)"
   ]
  },
  {
   "cell_type": "code",
   "execution_count": null,
   "metadata": {},
   "outputs": [],
   "source": [
    "Vmeter.init('fast 4')\n",
    "Blst = cos_to_B(np.linspace(0.4,-0.4,9))\n",
    "idlst = []\n",
    "for B in Blst:\n",
    "    Bfield.set(B)\n",
    "    idx = IVC_udu (amp=40e-9, stp=0.2e-9, Gain=100, R_bias=11.2e6, Attn=1, tfsstb = 0.1)\n",
    "    idlst.append(idx)\n",
    "Bfield.set(0)\n",
    "print(idlst)"
   ]
  },
  {
   "cell_type": "code",
   "execution_count": null,
   "metadata": {},
   "outputs": [],
   "source": []
  },
  {
   "cell_type": "markdown",
   "metadata": {},
   "source": [
    "### Histograms"
   ]
  },
  {
   "cell_type": "code",
   "execution_count": null,
   "metadata": {},
   "outputs": [],
   "source": [
    "B = cos_to_B(.25)\n",
    "Bfield.set(B)\n",
    "Isws =  meas_hist(1000)\n",
    "save_hist(Isws)"
   ]
  },
  {
   "cell_type": "code",
   "execution_count": null,
   "metadata": {
    "scrolled": true
   },
   "outputs": [],
   "source": [
    "meas = set_meas(Vmeter.V, Isrc.I, setup = setup, cleanup = cleanup)\n",
    "\n",
    "name_exp(sample = SAMPLE, exp_type = 'IVC for hist @T ={:2.1f}mK'.format(T8.get()/1e-3) )  \n",
    "with meas.run() as datasaver:\n",
    "\n",
    "    Is, Vs = fast_IVc_adaptive(Gain=100, R_bias=10e6, Attn=1, find_istep = istep_coarse, \n",
    "                               keepgoing =  if_Vth, direction = 'p', record = 'u')\n",
    "    \n",
    "print(Is)\n",
    "print(extract_Isw (Is, Vs))\n"
   ]
  },
  {
   "cell_type": "code",
   "execution_count": 103,
   "metadata": {
    "scrolled": false
   },
   "outputs": [
    {
     "data": {
      "application/vnd.jupyter.widget-view+json": {
       "model_id": "554c5c4f3ace4175b45f8cb4df5ff5a2",
       "version_major": 2,
       "version_minor": 0
      },
      "text/plain": [
       "HBox(children=(IntProgress(value=0, max=1000), HTML(value='')))"
      ]
     },
     "metadata": {},
     "output_type": "display_data"
    },
    {
     "name": "stdout",
     "output_type": "stream",
     "text": [
      "\n",
      "Starting experimental run with id: 134\n",
      "Run # 134, keith, cos = 1.00 @T =43.4mK saved\n"
     ]
    }
   ],
   "source": [
    "# for cos in np.linspace(.1,.25, 7):\n",
    "for cos in [1]:\n",
    "    B = cos_to_B(cos)\n",
    "    Bfield.set(B)\n",
    "#     IVC_udu (amp=20e-9, stp=.2e-9, Gain=100, R_bias=11.2e6, Attn=1, tfsstb = 0.1)\n",
    "#     Bfield.set(B)\n",
    "    Isws =  meas_hist(1000, istep =0.02e-9)\n",
    "    save_hist(Isws, 'keith, cos = {:1.2f}'.format(cos))\n",
    "Bfield.set(0)"
   ]
  },
  {
   "cell_type": "code",
   "execution_count": null,
   "metadata": {
    "scrolled": true
   },
   "outputs": [],
   "source": [
    "Vmeter.init('fast 4')\n",
    "for t in range(0,35,5):\n",
    "    save_hist(meas_hist(N=100,t_offset = t/(150e-9*.9/.2e-9)), 'KE delay {}s/it'.format(t))"
   ]
  },
  {
   "cell_type": "code",
   "execution_count": 87,
   "metadata": {},
   "outputs": [
    {
     "name": "stdout",
     "output_type": "stream",
     "text": [
      "[2, 3, 4, 5, 6, 7, 8, 9, 10, 11, 12, 13, 14, 15, 16, 17, 18, 19, 20, 21, 22, 23, 24, 25, 26, 27, 28, 29, 30, 31, 32]\n"
     ]
    }
   ],
   "source": [
    "data = []\n",
    "for i in range(2,33):\n",
    "    data.append(i)\n",
    "print(data)\n",
    "\n",
    "# just FYI: data = [i for i in range(2,23)] does the same"
   ]
  }
 ],
 "metadata": {
  "anaconda-cloud": {},
  "kernelspec": {
   "display_name": "Python 3",
   "language": "python",
   "name": "python3"
  },
  "language_info": {
   "codemirror_mode": {
    "name": "ipython",
    "version": 3
   },
   "file_extension": ".py",
   "mimetype": "text/x-python",
   "name": "python",
   "nbconvert_exporter": "python",
   "pygments_lexer": "ipython3",
   "version": "3.6.5"
  },
  "latex_envs": {
   "LaTeX_envs_menu_present": true,
   "autoclose": false,
   "autocomplete": true,
   "bibliofile": "biblio.bib",
   "cite_by": "apalike",
   "current_citInitial": 1,
   "eqLabelWithNumbers": true,
   "eqNumInitial": 1,
   "hotkeys": {
    "equation": "Ctrl-E",
    "itemize": "Ctrl-I"
   },
   "labels_anchors": false,
   "latex_user_defs": false,
   "report_style_numbering": false,
   "user_envs_cfg": false
  },
  "toc": {
   "base_numbering": 1,
   "nav_menu": {},
   "number_sections": true,
   "sideBar": true,
   "skip_h1_title": false,
   "title_cell": "Table of Contents",
   "title_sidebar": "Contents",
   "toc_cell": false,
   "toc_position": {
    "height": "477px",
    "left": "120px",
    "top": "141px",
    "width": "165px"
   },
   "toc_section_display": true,
   "toc_window_display": true
  },
  "varInspector": {
   "cols": {
    "lenName": 16,
    "lenType": 16,
    "lenVar": 40
   },
   "kernels_config": {
    "python": {
     "delete_cmd_postfix": "",
     "delete_cmd_prefix": "del ",
     "library": "var_list.py",
     "varRefreshCmd": "print(var_dic_list())"
    },
    "r": {
     "delete_cmd_postfix": ") ",
     "delete_cmd_prefix": "rm(",
     "library": "var_list.r",
     "varRefreshCmd": "cat(var_dic_list()) "
    }
   },
   "types_to_exclude": [
    "module",
    "function",
    "builtin_function_or_method",
    "instance",
    "_Feature"
   ],
   "window_display": false
  }
 },
 "nbformat": 4,
 "nbformat_minor": 1
}
