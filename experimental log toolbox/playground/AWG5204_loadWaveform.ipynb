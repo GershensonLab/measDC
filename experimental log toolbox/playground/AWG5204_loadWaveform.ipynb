{
 "cells": [
  {
   "cell_type": "markdown",
   "metadata": {},
   "source": [
    "## Raw code for AWG pulse-shaping and waveforms"
   ]
  },
  {
   "cell_type": "code",
   "execution_count": null,
   "metadata": {},
   "outputs": [],
   "source": [
    "#use SCPI to talk through visa\n",
    "import visa\n",
    "rm = visa.ResourceManager()\n",
    "rm.list_resources()\n",
    "AWG = rm.open_resource('TCPIP::169.254.106.135::INSTR')\n",
    "print(AWG.query(\"*IDN?\"))\n",
    "# AWG.write(\"OUTPUT1:STAT OFF\")"
   ]
  },
  {
   "cell_type": "code",
   "execution_count": null,
   "metadata": {},
   "outputs": [],
   "source": [
    "# clear the sequence list and waveform list (NOT ALWAYS A GOOD IDEA! BE CAREFUL!)\n",
    "awg.clearSequenceList()\n",
    "awg.clearWaveformList()"
   ]
  },
  {
   "cell_type": "code",
   "execution_count": null,
   "metadata": {},
   "outputs": [],
   "source": [
    "# Let us make a waveform for channels\n",
    "import broadbean as bb\n",
    "import matplotlib.pyplot as plt\n",
    "import numpy as np\n",
    "\n",
    "dur = 20e-6\n",
    "SR = 2.5e9\n",
    "npts = dur*SR # Sampling number per waveform. min length allowed is 2400 points\n",
    "\n",
    "ampl = 100e-3\n",
    "sigma = 300e-9\n",
    "tR = 2400e-9\n",
    "tF = 5400e-9\n",
    "\n",
    "# mysine = bb.PulseAtoms.sine(freq=2*SR/npts, ampl=pulseAmpl, off=0, phase=0, SR=SR, npts=npts)\n",
    "# myramp = bb.PulseAtoms.ramp(start=0, stop=pulseAmpl, SR=SR, npts=npts)\n",
    "extG_rais = bb.PulseAtoms.gaussian(ampl=ampl, sigma=sigma, mu=tR-dur/2, offset=0, SR=SR, npts=npts)\n",
    "extG_bulk = ampl* np.concatenate((np.zeros(int(tR*SR)), np.ones(int((tF-tR)*SR)), np.zeros(int((dur-tF)*SR))))\n",
    "extG_fall = bb.PulseAtoms.gaussian(ampl=ampl, sigma=sigma, mu=tF-dur/2, offset=0, SR=SR, npts=npts)\n",
    "\n",
    "extGaussian = np.zeros(int(npts))\n",
    "for i in range(int(npts)):\n",
    "    extGaussian[i] = max(extG_rais[i], extG_bulk[i], extG_fall[i])\n",
    "\n",
    "time = np.linspace(0, dur, npts, endpoint=False)\n",
    "\n",
    "# Plot the waveform data\n",
    "xscale = 1e-6 # set t to us scale\n",
    "plt.close()\n",
    "plt.plot(time/xscale, extGaussian)\n",
    "plt.grid(True)\n",
    "plt.title('Waveform')\n",
    "plt.xlim(0-dur/xscale*0.05, dur/xscale*1.05)\n",
    "plt.xlabel(\"time (us)\")\n",
    "plt.ylim(0-pulseAmpl*0.05, ampl*1.05)\n",
    "plt.ylabel(\"amplitude (abs)\")\n",
    "plt.show()\n",
    "\n",
    "# prepare the waveform data\n",
    "m1 = np.concatenate((np.ones(int(npts/2)), np.zeros(int(npts/2)))) #markers 1\n",
    "m2 = np.concatenate((np.zeros(int(npts/2)), np.ones(int(npts/2)))) #markers 2\n",
    "extGaussianWv = np.array([extGaussian, m1, m2])"
   ]
  },
  {
   "cell_type": "code",
   "execution_count": null,
   "metadata": {},
   "outputs": [],
   "source": [
    "# The .wfmx file needs a name in the memory of the instrument\n",
    "# The name of the waveform in the waveform list is that same name\n",
    "# with no .wfmx extension\n",
    "\n",
    "filename = 'probe.wfmx'\n",
    "\n",
    "# now compile the binary file\n",
    "wfmx_file = awg.makeWFMXFile(extGaussianWv, 1)\n",
    "\n",
    "# and send it and load it into memory\n",
    "awg.sendWFMXFile(wfmx_file, filename)\n",
    "awg.loadWFMXFile(filename)\n",
    "\n",
    "# The waveform is now in the waveform list\n",
    "awg.waveformList "
   ]
  },
  {
   "cell_type": "code",
   "execution_count": null,
   "metadata": {},
   "outputs": [],
   "source": [
    "# now assign it to channel 1\n",
    "awg.ch2.setWaveform(awg.waveformList[0])\n",
    "\n",
    "# Switch channel 1 on\n",
    "awg.ch1.state(1)\n",
    "awg.ch2.state(1)\n",
    "# Start outputting...\n",
    "awg.play()"
   ]
  },
  {
   "cell_type": "markdown",
   "metadata": {},
   "source": [
    "## Working space for class-module"
   ]
  },
  {
   "cell_type": "code",
   "execution_count": 1,
   "metadata": {},
   "outputs": [],
   "source": [
    "import broadbean as bb\n",
    "import matplotlib.pyplot as plt\n",
    "import numpy as np\n",
    "\n",
    "dur = 20e-6\n",
    "SR = 2.5e9\n",
    "npts = dur*SR # Sampling number per waveform. min length allowed is 2400 points\n",
    "\n",
    "class makeWaveform:\n",
    "\n",
    "    def extGaussian(ampl=200e-3, sigma=500e-9, tR=3500e-9, tF=5500e-9):\n",
    "        \"\"\"\n",
    "        Returns an extended Gaussian\n",
    "\n",
    "        \"\"\"\n",
    "        extG_rais = bb.PulseAtoms.gaussian(ampl=ampl, sigma=sigma, mu=tR-dur/2, offset=0, SR=SR, npts=npts)\n",
    "        extG_bulk = ampl* np.concatenate((np.zeros(int(tR*SR)), np.ones(int((tF-tR)*SR)), np.zeros(int((dur-tF)*SR))))\n",
    "        extG_fall = bb.PulseAtoms.gaussian(ampl=ampl, sigma=sigma, mu=tF-dur/2, offset=0, SR=SR, npts=npts)\n",
    "\n",
    "        extGaussian = np.zeros(int(npts))\n",
    "        for i in range(int(npts)):\n",
    "            extGaussian[i] = max(extG_rais[i], extG_bulk[i], extG_fall[i])\n",
    "\n",
    "        return extGaussian\n",
    "\n",
    "    def makeWaveformWMarker(waveform, m1, m2):\n",
    "        return np.array([waveform, m1, m2])\n",
    "\n",
    "    def timeForPlot():\n",
    "        return np.linspace(0, dur, npts, endpoint=False)\n",
    "    \n",
    "    def viewWaveform(time, waveform, tscale=1e-6):\n",
    "        yscale = max(waveform)\n",
    "        tscale = 1e-6\n",
    "        plt.close()\n",
    "        plt.plot(time/tscale, waveform)\n",
    "        plt.grid(True)\n",
    "        plt.title('Waveform')\n",
    "        plt.xlim(0-dur/tscale*0.05, dur/tscale*1.05)\n",
    "        plt.xlabel(\"time (us)\")\n",
    "        plt.ylim(0-yscale*0.05, yscale*1.05)\n",
    "        plt.ylabel(\"amplitude (V)\")\n",
    "        plt.show()\n",
    "\n",
    "class loadWaveform:\n",
    "\n",
    "    def writeFile (filename, waveform, scaleParam)\n",
    "        # The .wfmx file needs a name in the memory of the instrument\n",
    "        # The name of the waveform in the waveform list is that same name\n",
    "        # with no .wfmx extension\n",
    "\n",
    "        wfmx_file = awg.makeWFMXFile(waveform, 1/scaleParam) # now compile the binary file\n",
    "        awg.sendWFMXFile(wfmx_file, filename)\n",
    "        awg.loadWFMXFile(filename) # and send it and load it into memory\n",
    "\n",
    "        return awg.waveformList # The waveform is now in the waveform list\n",
    "\n",
    "    def assignWaveform (waveformList, ) #dictonary?\n",
    "# now assign it to channel 1\n",
    "        awg.ch2.setWaveform(awg.waveformList[0])\n",
    "\n",
    "        # Switch channel 1 on\n",
    "        awg.ch1.state(1)\n",
    "        awg.ch2.state(1)\n",
    "        # Start outputting...\n",
    "        awg.play()"
   ]
  },
  {
   "cell_type": "code",
   "execution_count": 2,
   "metadata": {},
   "outputs": [
    {
     "name": "stderr",
     "output_type": "stream",
     "text": [
      "C:\\ProgramData\\Anaconda3\\lib\\site-packages\\ipykernel_launcher.py:31: DeprecationWarning: object of type <class 'float'> cannot be safely interpreted as an integer.\n"
     ]
    },
    {
     "data": {
      "image/png": "[encoded data removed]",
      "text/plain": [
       "<Figure size 432x288 with 1 Axes>"
      ]
     },
     "metadata": {
      "needs_background": "light"
     },
     "output_type": "display_data"
    },
    {
     "ename": "NameError",
     "evalue": "name 'extGaussian' is not defined",
     "output_type": "error",
     "traceback": [
      "\u001b[1;31m---------------------------------------------------------------------------\u001b[0m",
      "\u001b[1;31mNameError\u001b[0m                                 Traceback (most recent call last)",
      "\u001b[1;32m<ipython-input-2-3ef48ec3ed7b>\u001b[0m in \u001b[0;36m<module>\u001b[1;34m\u001b[0m\n\u001b[0;32m      7\u001b[0m \u001b[0mm1\u001b[0m \u001b[1;33m=\u001b[0m \u001b[0mnp\u001b[0m\u001b[1;33m.\u001b[0m\u001b[0mconcatenate\u001b[0m\u001b[1;33m(\u001b[0m\u001b[1;33m(\u001b[0m\u001b[0mnp\u001b[0m\u001b[1;33m.\u001b[0m\u001b[0mones\u001b[0m\u001b[1;33m(\u001b[0m\u001b[0mint\u001b[0m\u001b[1;33m(\u001b[0m\u001b[0mnpts\u001b[0m\u001b[1;33m/\u001b[0m\u001b[1;36m2\u001b[0m\u001b[1;33m)\u001b[0m\u001b[1;33m)\u001b[0m\u001b[1;33m,\u001b[0m \u001b[0mnp\u001b[0m\u001b[1;33m.\u001b[0m\u001b[0mzeros\u001b[0m\u001b[1;33m(\u001b[0m\u001b[0mint\u001b[0m\u001b[1;33m(\u001b[0m\u001b[0mnpts\u001b[0m\u001b[1;33m/\u001b[0m\u001b[1;36m2\u001b[0m\u001b[1;33m)\u001b[0m\u001b[1;33m)\u001b[0m\u001b[1;33m)\u001b[0m\u001b[1;33m)\u001b[0m \u001b[1;31m#markers 1\u001b[0m\u001b[1;33m\u001b[0m\u001b[1;33m\u001b[0m\u001b[0m\n\u001b[0;32m      8\u001b[0m \u001b[0mm2\u001b[0m \u001b[1;33m=\u001b[0m \u001b[0mnp\u001b[0m\u001b[1;33m.\u001b[0m\u001b[0mconcatenate\u001b[0m\u001b[1;33m(\u001b[0m\u001b[1;33m(\u001b[0m\u001b[0mnp\u001b[0m\u001b[1;33m.\u001b[0m\u001b[0mzeros\u001b[0m\u001b[1;33m(\u001b[0m\u001b[0mint\u001b[0m\u001b[1;33m(\u001b[0m\u001b[0mnpts\u001b[0m\u001b[1;33m/\u001b[0m\u001b[1;36m2\u001b[0m\u001b[1;33m)\u001b[0m\u001b[1;33m)\u001b[0m\u001b[1;33m,\u001b[0m \u001b[0mnp\u001b[0m\u001b[1;33m.\u001b[0m\u001b[0mones\u001b[0m\u001b[1;33m(\u001b[0m\u001b[0mint\u001b[0m\u001b[1;33m(\u001b[0m\u001b[0mnpts\u001b[0m\u001b[1;33m/\u001b[0m\u001b[1;36m2\u001b[0m\u001b[1;33m)\u001b[0m\u001b[1;33m)\u001b[0m\u001b[1;33m)\u001b[0m\u001b[1;33m)\u001b[0m \u001b[1;31m#markers 2\u001b[0m\u001b[1;33m\u001b[0m\u001b[1;33m\u001b[0m\u001b[0m\n\u001b[1;32m----> 9\u001b[1;33m \u001b[0mextGaussianWv\u001b[0m \u001b[1;33m=\u001b[0m \u001b[0mnp\u001b[0m\u001b[1;33m.\u001b[0m\u001b[0marray\u001b[0m\u001b[1;33m(\u001b[0m\u001b[1;33m[\u001b[0m\u001b[0mextGaussian\u001b[0m\u001b[1;33m,\u001b[0m \u001b[0mm1\u001b[0m\u001b[1;33m,\u001b[0m \u001b[0mm2\u001b[0m\u001b[1;33m]\u001b[0m\u001b[1;33m)\u001b[0m\u001b[1;33m\u001b[0m\u001b[1;33m\u001b[0m\u001b[0m\n\u001b[0m",
      "\u001b[1;31mNameError\u001b[0m: name 'extGaussian' is not defined"
     ]
    }
   ],
   "source": [
    "time = makeWaveform.timeForPlot()\n",
    "extGaussian2 = makeWaveform.extGaussian(ampl=100e-3, sigma=500e-9, tR=2500e-9, tF=5000e-9)\n",
    "#TODO: error at tR=2500ns and tF=5500ns, IndexError: index 49999 is out of bounds for axis 0 with size 49999\n",
    "makeWaveform.viewWaveform(time, extGaussian2, tscale=1e-6)\n",
    "\n",
    "loadWaveform.writeFile('probe.wfmx', extGaussian2, 1)\n",
    "\n",
    "\n",
    "# prepare the waveform data\n",
    "m1 = np.concatenate((np.ones(int(npts/2)), np.zeros(int(npts/2)))) #markers 1\n",
    "m2 = np.concatenate((np.zeros(int(npts/2)), np.ones(int(npts/2)))) #markers 2\n",
    "extGaussianWv = np.array([extGaussian, m1, m2])"
   ]
  }
 ],
 "metadata": {
  "kernelspec": {
   "display_name": "Python 3",
   "language": "python",
   "name": "python3"
  },
  "language_info": {
   "codemirror_mode": {
    "name": "ipython",
    "version": 3
   },
   "file_extension": ".py",
   "mimetype": "text/x-python",
   "name": "python",
   "nbconvert_exporter": "python",
   "pygments_lexer": "ipython3",
   "version": "3.7.1"
  }
 },
 "nbformat": 4,
 "nbformat_minor": 2
}
