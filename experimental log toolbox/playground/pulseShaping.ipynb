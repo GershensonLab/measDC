{
 "cells": [
  {
   "cell_type": "code",
   "execution_count": 2,
   "metadata": {},
   "outputs": [
    {
     "name": "stderr",
     "output_type": "stream",
     "text": [
      "C:\\ProgramData\\Anaconda3\\lib\\site-packages\\ipykernel_launcher.py:18: DeprecationWarning: object of type <class 'float'> cannot be safely interpreted as an integer.\n"
     ]
    },
    {
     "data": {
      "image/png": "[encoded data removed]",
      "text/plain": [
       "<Figure size 432x288 with 1 Axes>"
      ]
     },
     "metadata": {
      "needs_background": "light"
     },
     "output_type": "display_data"
    }
   ],
   "source": [
    "%reload_ext autoreload\n",
    "%autoreload 2\n",
    "\n",
    "import broadbean as bb\n",
    "import matplotlib.pyplot as plt\n",
    "import numpy as np\n",
    "\n",
    "dur = 8E-6\n",
    "pulseAmpl = 100E-3\n",
    "pulseWidth = 10E-9\n",
    "timeoffset = 500E-9\n",
    "SR = 2.5E9\n",
    "npts = dur*SR\n",
    "\n",
    "# waveform = bb.PulseAtoms.sine(freq=2*SR/npts, ampl=pulseAmpl, off=0, phase=0, SR=SR, npts=npts)\n",
    "# waveform = bb.PulseAtoms.ramp(start=0, stop=pulseAmpl, SR=SR, npts=npts)\n",
    "waveform = bb.PulseAtoms.gaussian(ampl=pulseAmpl, sigma=pulseWidth, mu=timeoffset-dur/2, offset=0, SR=SR, npts=npts)\n",
    "time = np.linspace(0, npts/SR, npts, endpoint=False)\n",
    "\n",
    "xscale = 1E-6\n",
    "plt.plot(time/xscale, waveform)\n",
    "plt.title('Waveform')\n",
    "plt.grid(True)\n",
    "plt.xlim(0/xscale, dur/xscale)\n",
    "plt.xlabel(\"time (us)\")\n",
    "plt.ylim(0, pulseAmpl)\n",
    "plt.ylabel(\"amplitude (abs)\")\n",
    "plt.show()\n",
    "plt.close()"
   ]
  },
  {
   "cell_type": "code",
   "execution_count": null,
   "metadata": {},
   "outputs": [],
   "source": [
    "%load_ext autoreload\n",
    "%autoreload 2 #the code reload import model everytime\n",
    "%matplotlib notebook\n",
    "\n",
    "from qcodes.instrument.base import Instrument\n",
    "try:\n",
    "    Instrument.close_all()\n",
    "except KeyError:\n",
    "    pass\n",
    "except NameError:\n",
    "    pass\n",
    "\n",
    "from qcodes.instrument_drivers.tektronix.AWG5208 import AWG5208\n",
    "awg = AWG5208('awg', 'TCPIP::169.254.106.135::INSTR')"
   ]
  },
  {
   "cell_type": "code",
   "execution_count": null,
   "metadata": {},
   "outputs": [],
   "source": [
    "fs = waveform\n",
    "seqname = 'mytestseq'\n",
    "amplitudes = [ch.awg_amplitude() for ch in awg.channels][:2]\n",
    "channel_mapping = {'trigger_channel': 2, 'signal_channel': 1}\n",
    "seqx_file = AWG5208.makeSEQXFileFromForgedSequence(fs,\n",
    "                                                   amplitudes=amplitudes,\n",
    "                                                   seqname=seqname,\n",
    "                                                   channel_mapping=channel_mapping)\n",
    "# load it and assign its tracks to the channels\n",
    "filename = 'gaussianTest.seqx'\n",
    "\n",
    "awg.clearSequenceList()\n",
    "awg.clearWaveformList()\n",
    "awg.sendSEQXFile(seqx_file, filename=filename)\n",
    "awg.loadSEQXFile(filename)\n",
    "awg.ch1.setSequenceTrack(seqname, 1)\n",
    "awg.ch2.setSequenceTrack(seqname, 2)"
   ]
  }
 ],
 "metadata": {
  "kernelspec": {
   "display_name": "Python 3",
   "language": "python",
   "name": "python3"
  },
  "language_info": {
   "codemirror_mode": {
    "name": "ipython",
    "version": 3
   },
   "file_extension": ".py",
   "mimetype": "text/x-python",
   "name": "python",
   "nbconvert_exporter": "python",
   "pygments_lexer": "ipython3",
   "version": "3.7.1"
  }
 },
 "nbformat": 4,
 "nbformat_minor": 2
}
