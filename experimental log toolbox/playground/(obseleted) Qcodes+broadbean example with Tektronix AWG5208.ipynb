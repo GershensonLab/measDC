{
 "cells": [
  {
   "cell_type": "code",
   "execution_count": 1,
   "metadata": {},
   "outputs": [],
   "source": [
    "%matplotlib notebook\n",
    "from qcodes.instrument_drivers.tektronix.AWG5208 import AWG5208\n",
    "import broadbean as bb\n",
    "\n",
    "ramp = bb.PulseAtoms.ramp\n",
    "sine = bb.PulseAtoms.sine"
   ]
  },
  {
   "cell_type": "code",
   "execution_count": 2,
   "metadata": {},
   "outputs": [
    {
     "name": "stderr",
     "output_type": "stream",
     "text": [
      "C:\\ProgramData\\Anaconda3\\lib\\site-packages\\broadbean\\broadbean.py:72: UserWarning: plotSequence is obsolete. Please use broadbean.plotting.plotter insted.\n",
      "  warnings.warn(warnstr)\n"
     ]
    }
   ],
   "source": [
    "# First we form the measurement sequence\n",
    "\n",
    "SR = 1e9\n",
    "N = 3  # the number of times we repeat the first part\n",
    "measurement_freqs = [5e4, 1e5, 2e5]\n",
    "\n",
    "meas_bp_ch1 = bb.BluePrint()\n",
    "meas_bp_ch1.insertSegment(0, sine, (1e5, 0.1, 0, 0), dur=200e-6)\n",
    "meas_bp_ch1.insertSegment(-1, ramp, (0, 0), dur=40e-6)\n",
    "meas_bp_ch1.setSR(SR)\n",
    "\n",
    "meas_bp_ch2 = bb.BluePrint()\n",
    "meas_bp_ch2.insertSegment(0, ramp, (0, 0), dur=200e-6)\n",
    "meas_bp_ch2.insertSegment(-1, ramp, (0.1, 0.1), dur=20e-6)\n",
    "meas_bp_ch2.insertSegment(-1, ramp, (0, 0), dur=20e-6)\n",
    "meas_bp_ch2.setSR(SR)\n",
    "\n",
    "meas_elem = bb.Element()\n",
    "meas_elem.addBluePrint('signal_channel', meas_bp_ch1)\n",
    "meas_elem.addBluePrint('trigger_channel', meas_bp_ch2)\n",
    "\n",
    "\n",
    "reset_bp = bb.BluePrint()\n",
    "reset_bp.insertSegment(0, ramp, (0, 0.05), dur=120e-6)\n",
    "reset_bp.insertSegment(1, ramp, (0.05, 0), dur=120e-6)\n",
    "reset_bp.setSR(SR)\n",
    "\n",
    "reset_elem = bb.Element()\n",
    "reset_elem.addBluePrint('signal_channel', reset_bp)\n",
    "reset_elem.addBluePrint('trigger_channel', reset_bp)\n",
    "\n",
    "\n",
    "measureseq = bb.Sequence()\n",
    "measureseq.setSR(SR)\n",
    "measureseq.addElement(1, meas_elem)\n",
    "measureseq.addElement(2, reset_elem)\n",
    "measureseq.setSequencingNumberOfRepetitions(1, N)\n",
    "\n",
    "measureseq.plotSequence()"
   ]
  },
  {
   "cell_type": "code",
   "execution_count": null,
   "metadata": {},
   "outputs": [],
   "source": [
    "# And then we turn that into a master sequence\n",
    "\n",
    "mainseq = bb.Sequence()\n",
    "mainseq.setSR(SR)\n",
    "\n",
    "for pos, freq in enumerate(measurement_freqs):\n",
    "    subseq = measureseq.copy()\n",
    "    subseq.element(1).changeArg('signal_channel', 'sine',\n",
    "                                'freq', freq)\n",
    "    mainseq.addSubSequence(pos+1, subseq)\n",
    "\n",
    "mainseq.plotSequence()\n",
    "\n",
    "# The visualisation is not terribly helpful in this case, but\n",
    "# we see that three subsequences are present"
   ]
  },
  {
   "cell_type": "code",
   "execution_count": null,
   "metadata": {},
   "outputs": [],
   "source": [
    "# Connect\n",
    "\n",
    "awg = AWG5208('awg', 'TCPIP0::192.168.15.118::inst0::INSTR')"
   ]
  },
  {
   "cell_type": "code",
   "execution_count": null,
   "metadata": {},
   "outputs": [],
   "source": [
    "# forge the sequence\n",
    "fs = mainseq.forge()\n",
    "\n",
    "# send it to the instrument\n",
    "seqname = 'mytestseq'\n",
    "amplitudes = [ch.awg_amplitude() for ch in awg.channels][:2]\n",
    "channel_mapping = {'trigger_channel': 2, 'signal_channel': 1}\n",
    "seqx_file = AWG5208.makeSEQXFileFromForgedSequence(fs,\n",
    "                                                   amplitudes=amplitudes,\n",
    "                                                   seqname=seqname,\n",
    "                                                   channel_mapping=channel_mapping)\n",
    "\n",
    "# load it and assign its tracks to the channels\n",
    "filename = 'mainplussub.seqx'\n",
    "\n",
    "awg.clearSequenceList()\n",
    "awg.clearWaveformList()\n",
    "awg.sendSEQXFile(seqx_file, filename=filename)\n",
    "awg.loadSEQXFile(filename)\n",
    "awg.ch1.setSequenceTrack(seqname, 1)\n",
    "awg.ch2.setSequenceTrack(seqname, 2)"
   ]
  }
 ],
 "metadata": {
  "kernelspec": {
   "display_name": "Python 3",
   "language": "python",
   "name": "python3"
  },
  "language_info": {
   "codemirror_mode": {
    "name": "ipython",
    "version": 3
   },
   "file_extension": ".py",
   "mimetype": "text/x-python",
   "name": "python",
   "nbconvert_exporter": "python",
   "pygments_lexer": "ipython3",
   "version": "3.7.1"
  }
 },
 "nbformat": 4,
 "nbformat_minor": 2
}
