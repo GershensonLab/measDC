{
 "cells": [
  {
   "cell_type": "code",
   "execution_count": null,
   "metadata": {},
   "outputs": [],
   "source": [
    "#use SCPI to talk through visa\n",
    "import visa\n",
    "rm = visa.ResourceManager()\n",
    "rm.list_resources()\n",
    "AWG = rm.open_resource('TCPIP::169.254.106.135::INSTR')\n",
    "print(AWG.query(\"*IDN?\"))\n",
    "# AWG.write(\"OUTPUT1:STAT OFF\")\n",
    "\n",
    "# inst=str(rm.list_resources[1])\n",
    "# print (str(inst))\n",
    "##TypeError: 'method' object is not subscriptable"
   ]
  },
  {
   "cell_type": "code",
   "execution_count": null,
   "metadata": {},
   "outputs": [],
   "source": [
    "#plotting in matplot\n",
    "import matplotlib.pyplot as plt\n",
    "import numpy as np\n",
    "\n",
    "t = np.arange(-20.0, 20.0, 0.01)\n",
    "t_off = 10\n",
    "t_scale = 5\n",
    "s0 = np.exp(-t**2)\n",
    "s = np.exp(-(t-t_off)**2/t_scale)\n",
    "plt.plot(t, s0)\n",
    "plt.plot(t, s)\n",
    "\n",
    "plt.xlabel('time (s)')\n",
    "plt.ylabel('voltage (mV)')\n",
    "plt.title('Gaussian')\n",
    "plt.grid(True)\n",
    "plt.show()"
   ]
  },
  {
   "cell_type": "code",
   "execution_count": null,
   "metadata": {},
   "outputs": [],
   "source": [
    "%load_ext autoreload\n",
    "%autoreload 2 #the code reload import model everytime\n",
    "%matplotlib notebook\n",
    "\n",
    "from qcodes.instrument.base import Instrument\n",
    "try:\n",
    "    Instrument.close_all()\n",
    "except KeyError:\n",
    "    pass\n",
    "except NameError:\n",
    "    pass\n",
    "\n",
    "from qcodes.instrument_drivers.tektronix.AWG5208 import AWG5208\n",
    "awg = AWG5208('awg', 'TCPIP::169.254.106.135::INSTR')"
   ]
  }
 ],
 "metadata": {
  "kernelspec": {
   "display_name": "Python 3",
   "language": "python",
   "name": "python3"
  },
  "language_info": {
   "codemirror_mode": {
    "name": "ipython",
    "version": 3
   },
   "file_extension": ".py",
   "mimetype": "text/x-python",
   "name": "python",
   "nbconvert_exporter": "python",
   "pygments_lexer": "ipython3",
   "version": "3.7.1"
  }
 },
 "nbformat": 4,
 "nbformat_minor": 2
}
