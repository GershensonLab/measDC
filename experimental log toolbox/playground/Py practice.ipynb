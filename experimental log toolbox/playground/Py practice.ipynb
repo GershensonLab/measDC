{
 "cells": [
  {
   "cell_type": "code",
   "execution_count": null,
   "metadata": {
    "collapsed": true
   },
   "outputs": [],
   "source": [
    "#use SCPI to talk through visa\n",
    "import visa\n",
    "rm = visa.ResourceManager()\n",
    "rm.list_resources()\n",
    "AWG = rm.open_resource('TCPIP::169.254.106.135::INSTR')\n",
    "print(AWG.query(\"*IDN?\"))\n",
    "# AWG.write(\"OUTPUT1:STAT OFF\")\n",
    "\n",
    "# inst=str(rm.list_resources[1])\n",
    "# print (str(inst))\n",
    "##TypeError: 'method' object is not subscriptable"
   ]
  },
  {
   "cell_type": "code",
   "execution_count": null,
   "metadata": {
    "collapsed": true
   },
   "outputs": [],
   "source": [
    "#plotting in matplot\n",
    "import matplotlib.pyplot as plt\n",
    "import numpy as np\n",
    "\n",
    "t = np.arange(-20.0, 20.0, 0.01)\n",
    "t_off = 10\n",
    "t_scale = 5\n",
    "s0 = np.exp(-t**2)\n",
    "s = np.exp(-(t-t_off)**2/t_scale)\n",
    "plt.plot(t, s0)\n",
    "plt.plot(t, s)\n",
    "\n",
    "plt.xlabel('time (s)')\n",
    "plt.ylabel('voltage (mV)')\n",
    "plt.title('Gaussian')\n",
    "plt.grid(True)\n",
    "plt.show()"
   ]
  },
  {
   "cell_type": "code",
   "execution_count": null,
   "metadata": {
    "collapsed": true
   },
   "outputs": [],
   "source": [
    "%load_ext autoreload\n",
    "%autoreload 2 #the code reload import model everytime\n",
    "%matplotlib notebook\n",
    "\n",
    "from qcodes.instrument.base import Instrument\n",
    "try:\n",
    "    Instrument.close_all()\n",
    "except KeyError:\n",
    "    pass\n",
    "except NameError:\n",
    "    pass\n",
    "\n",
    "from qcodes.instrument_drivers.tektronix.AWG5208 import AWG5208\n",
    "awg = AWG5208('awg', 'TCPIP::169.254.106.135::INSTR')"
   ]
  },
  {
   "cell_type": "code",
   "execution_count": 2,
   "metadata": {},
   "outputs": [
    {
     "data": {
      "text/plain": [
       "0.05"
      ]
     },
     "execution_count": 2,
     "metadata": {},
     "output_type": "execute_result"
    }
   ],
   "source": [
    "ZF =  0.004e-3\n",
    "FF =  0.224e-3\n",
    "dF = 0.250e-3\n",
    "midF = 0.154e-3\n",
    "import pandas as pd\n",
    "pd.set_option(\"display.precision\", 3)\n",
    "\n",
    "key = [                  'ids',    'T',      'B',                                      'Vthr']\n",
    "lst = [[              [8,9,10],     43e-3,    [ZF,midF,FF],                             4e-3],\n",
    "       [                  [13],     43e-3,    [0,0,0,0,0,0,0]                  ,        4e-3],\n",
    "       [range(  22,   42+1)[:],     50e-3,    np.linspace(ZF, ZF + 1.0*dF, 21) ,        4e-3],\n",
    "       [range(  43,   63+1)[:],    100e-3,    np.linspace(ZF, ZF + 1.0*dF, 21) ,        4e-3],\n",
    "       [range(  64,   84+1)[:],    150e-3,    np.linspace(ZF, ZF + 1.0*dF, 21) ,        4e-3],\n",
    "       [range(  85,  105+1)[:],    200e-3,    np.linspace(ZF, ZF + 1.0*dF, 21) ,        4e-3],\n",
    "       [range( 106,  126+1)[:],    250e-3,    np.linspace(ZF, ZF + 1.0*dF, 21) ,        4e-3],\n",
    "       [range( 127,  147+1)[:],    300e-3,    np.linspace(ZF, ZF + 1.0*dF, 21) ,        4e-3],\n",
    "       [range( 148,  168+1)[:],    350e-3,    np.linspace(ZF, ZF + 1.0*dF, 21) ,        4e-3],\n",
    "       [range( 169,  189+1)[:],    400e-3,    np.linspace(ZF, ZF + 1.0*dF, 21) ,        4e-3],\n",
    "       [range( 190,  210+1)[:],    450e-3,    np.linspace(ZF, ZF + 1.0*dF, 21) ,        4e-3],\n",
    "       [range( 211,  231+1)[:],    500e-3,    np.linspace(ZF, ZF + 1.0*dF, 21) ,        4e-3]]  \n",
    "        \n",
    "exps = pd.DataFrame(  data = list(zip(*lst)), \n",
    "                   columns = range(len(lst)),\n",
    "                     index = key )\n",
    "\n",
    "exps[1+2-1]['T']"
   ]
  },
  {
   "cell_type": "code",
   "execution_count": 3,
   "metadata": {},
   "outputs": [
    {
     "name": "stdout",
     "output_type": "stream",
     "text": [
      "   sku  loc   flag\n",
      "0  122   61   True\n",
      "1  123   61   True\n",
      "2  113   62   True\n",
      "3  122   62   True\n",
      "4  123   62  False\n",
      "5  122   63  False\n",
      "6  301   63   True\n",
      "   sku dep\n",
      "0  113   a\n",
      "1  122   b\n",
      "2  123   b\n",
      "3  301   c\n"
     ]
    },
    {
     "data": {
      "text/html": [
       "<div>\n",
       "<style>\n",
       "    .dataframe thead tr:only-child th {\n",
       "        text-align: right;\n",
       "    }\n",
       "\n",
       "    .dataframe thead th {\n",
       "        text-align: left;\n",
       "    }\n",
       "\n",
       "    .dataframe tbody tr th {\n",
       "        vertical-align: top;\n",
       "    }\n",
       "</style>\n",
       "<table border=\"1\" class=\"dataframe\">\n",
       "  <thead>\n",
       "    <tr style=\"text-align: right;\">\n",
       "      <th></th>\n",
       "      <th>sku</th>\n",
       "      <th>dep</th>\n",
       "      <th>loc</th>\n",
       "      <th>flag</th>\n",
       "    </tr>\n",
       "  </thead>\n",
       "  <tbody>\n",
       "    <tr>\n",
       "      <th>0</th>\n",
       "      <td>113</td>\n",
       "      <td>a</td>\n",
       "      <td>62</td>\n",
       "      <td>True</td>\n",
       "    </tr>\n",
       "    <tr>\n",
       "      <th>1</th>\n",
       "      <td>122</td>\n",
       "      <td>b</td>\n",
       "      <td>61</td>\n",
       "      <td>True</td>\n",
       "    </tr>\n",
       "    <tr>\n",
       "      <th>2</th>\n",
       "      <td>122</td>\n",
       "      <td>b</td>\n",
       "      <td>62</td>\n",
       "      <td>True</td>\n",
       "    </tr>\n",
       "    <tr>\n",
       "      <th>3</th>\n",
       "      <td>122</td>\n",
       "      <td>b</td>\n",
       "      <td>63</td>\n",
       "      <td>False</td>\n",
       "    </tr>\n",
       "    <tr>\n",
       "      <th>4</th>\n",
       "      <td>123</td>\n",
       "      <td>b</td>\n",
       "      <td>61</td>\n",
       "      <td>True</td>\n",
       "    </tr>\n",
       "    <tr>\n",
       "      <th>5</th>\n",
       "      <td>123</td>\n",
       "      <td>b</td>\n",
       "      <td>62</td>\n",
       "      <td>False</td>\n",
       "    </tr>\n",
       "    <tr>\n",
       "      <th>6</th>\n",
       "      <td>301</td>\n",
       "      <td>c</td>\n",
       "      <td>63</td>\n",
       "      <td>True</td>\n",
       "    </tr>\n",
       "  </tbody>\n",
       "</table>\n",
       "</div>"
      ],
      "text/plain": [
       "   sku dep  loc   flag\n",
       "0  113   a   62   True\n",
       "1  122   b   61   True\n",
       "2  122   b   62   True\n",
       "3  122   b   63  False\n",
       "4  123   b   61   True\n",
       "5  123   b   62  False\n",
       "6  301   c   63   True"
      ]
     },
     "execution_count": 3,
     "metadata": {},
     "output_type": "execute_result"
    }
   ],
   "source": [
    "sku = [  122,  123,  113,  122,  123,  122,  301]\n",
    "loc = [   61,   61,   62,   62,   62,   63,   63]\n",
    "flag= [ True, True, True, True,False,False, True]\n",
    "lst1= pd.DataFrame(data = list(zip(sku,loc,flag)), columns = ['sku', 'loc', 'flag'])\n",
    "print(lst1)\n",
    "sku = [  113,  122,  123,  301]\n",
    "dep = [  'a',  'b',  'b',  'c']\n",
    "lst2= pd.DataFrame(data = list(zip(sku,dep)), columns = ['sku', 'dep'])\n",
    "print(lst2)\n",
    "\n",
    "lst2.merge(lst1, on = 'sku', how = 'left')"
   ]
  },
  {
   "cell_type": "code",
   "execution_count": 15,
   "metadata": {},
   "outputs": [
    {
     "data": {
      "text/plain": [
       "0     0.043\n",
       "1     0.043\n",
       "2      0.05\n",
       "3       0.1\n",
       "4      0.15\n",
       "5       0.2\n",
       "6      0.25\n",
       "7       0.3\n",
       "8      0.35\n",
       "9       0.4\n",
       "10     0.45\n",
       "11      0.5\n",
       "Name: T, dtype: object"
      ]
     },
     "execution_count": 15,
     "metadata": {},
     "output_type": "execute_result"
    }
   ],
   "source": [
    "exps.transpose()['T']"
   ]
  },
  {
   "cell_type": "code",
   "execution_count": null,
   "metadata": {
    "collapsed": true
   },
   "outputs": [],
   "source": [
    "n_input = 500e-3\n",
    "\n",
    "exps[(exps == n_input).any(1)].stack()[lambda x: x != n_input].unique()"
   ]
  },
  {
   "cell_type": "code",
   "execution_count": 5,
   "metadata": {
    "collapsed": true
   },
   "outputs": [],
   "source": [
    "df = pd.DataFrame({'A': [0, 0, 2, 1], 'B': [1,2,3,4]})"
   ]
  },
  {
   "cell_type": "code",
   "execution_count": 19,
   "metadata": {},
   "outputs": [
    {
     "name": "stdout",
     "output_type": "stream",
     "text": [
      "211\n",
      "212\n",
      "213\n",
      "214\n",
      "215\n",
      "216\n",
      "217\n",
      "218\n",
      "219\n",
      "220\n",
      "221\n",
      "222\n",
      "223\n",
      "224\n",
      "225\n",
      "226\n",
      "227\n",
      "228\n",
      "229\n",
      "230\n",
      "231\n"
     ]
    }
   ],
   "source": [
    "\n",
    "for i in exps.transpose()[exps.transpose()['T'] == 500e-3]['ids']:\n",
    "    for j in i:\n",
    "        print(j)"
   ]
  }
 ],
 "metadata": {
  "kernelspec": {
   "display_name": "Python 3",
   "language": "python",
   "name": "python3"
  },
  "language_info": {
   "codemirror_mode": {
    "name": "ipython",
    "version": 3
   },
   "file_extension": ".py",
   "mimetype": "text/x-python",
   "name": "python",
   "nbconvert_exporter": "python",
   "pygments_lexer": "ipython3",
   "version": "3.6.1"
  },
  "latex_envs": {
   "LaTeX_envs_menu_present": true,
   "autoclose": false,
   "autocomplete": true,
   "bibliofile": "biblio.bib",
   "cite_by": "apalike",
   "current_citInitial": 1,
   "eqLabelWithNumbers": true,
   "eqNumInitial": 1,
   "hotkeys": {
    "equation": "Ctrl-E",
    "itemize": "Ctrl-I"
   },
   "labels_anchors": false,
   "latex_user_defs": false,
   "report_style_numbering": false,
   "user_envs_cfg": false
  },
  "toc": {
   "base_numbering": 1,
   "nav_menu": {},
   "number_sections": true,
   "sideBar": true,
   "skip_h1_title": false,
   "title_cell": "Table of Contents",
   "title_sidebar": "Contents",
   "toc_cell": false,
   "toc_position": {},
   "toc_section_display": true,
   "toc_window_display": false
  },
  "varInspector": {
   "cols": {
    "lenName": 16,
    "lenType": 16,
    "lenVar": 40
   },
   "kernels_config": {
    "python": {
     "delete_cmd_postfix": "",
     "delete_cmd_prefix": "del ",
     "library": "var_list.py",
     "varRefreshCmd": "print(var_dic_list())"
    },
    "r": {
     "delete_cmd_postfix": ") ",
     "delete_cmd_prefix": "rm(",
     "library": "var_list.r",
     "varRefreshCmd": "cat(var_dic_list()) "
    }
   },
   "types_to_exclude": [
    "module",
    "function",
    "builtin_function_or_method",
    "instance",
    "_Feature"
   ],
   "window_display": false
  }
 },
 "nbformat": 4,
 "nbformat_minor": 2
}
