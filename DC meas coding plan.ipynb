{
 "cells": [
  {
   "cell_type": "code",
   "execution_count": 57,
   "metadata": {},
   "outputs": [],
   "source": [
    "%matplotlib notebook\n",
    "%load_ext autoreload\n",
    "%autoreload 2"
   ]
  },
  {
   "cell_type": "markdown",
   "metadata": {},
   "source": [
    "## To Do list\n",
    "- LS370 still crashes after around 7hrs continuous operation\n",
    "- To better sync the T1256 and T8, we should ask py to generate below txt file\n",
    " - filename: CH1 T 18-11-19.txt\n",
    " - lines: 18-11-19,00:01:48,5.618350E+1\n",
    "\n",
    "- Make new cables\n",
    "    - Remake the I, V splitting Fisher probing line\n",
    "    - Remake ISO, COM x2 Fisher-BNC cables\n",
    "- Maintain old sample holder\n",
    "    - Fix pin 5b\n",
    "- Try to see if we can fix the wiring in the fridge. Currently ch 5ab open, ch 10ab short.\n",
    "- Make new sample holder"
   ]
  },
  {
   "cell_type": "code",
   "execution_count": 192,
   "metadata": {},
   "outputs": [],
   "source": [
    "for i in range(10):\n",
    "    with open('Rt.txt','a') as fp:\n",
    "        fp.write(time.strftime(' %d-%m-%y,%H:%M:%S,{}'.format(i*1e5), time.localtime())+'\\n')\n",
    "    fp.close\n",
    "    time.sleep(1*60)\n",
    "time.sleep(5*60)\n",
    "\n",
    "for i in range(15):\n",
    "    with open('Rt.txt','a') as fp:\n",
    "        fp.write(time.strftime(' %d-%m-%y,%H:%M:%S,{}'.format(i*1e4), time.localtime())+'\\n')\n",
    "    fp.close\n",
    "    time.sleep(1*60)"
   ]
  },
  {
   "cell_type": "code",
   "execution_count": 159,
   "metadata": {
    "scrolled": false
   },
   "outputs": [],
   "source": [
    "import time\n",
    "import datetime\n",
    "import matplotlib.pyplot as plt\n",
    "\n",
    "def getTt(rootpath, filedate = '21-11-19', Tch = 8):\n",
    "    filename = r'\\\\'+filedate+'\\CH{} T '.format(Tch)+filedate+'.log'\n",
    "    filepath = rootpath+filename\n",
    "\n",
    "    dateori = datetime.datetime(2019,11,21,0,0,0)\n",
    "    dhrslst = []\n",
    "    dlst = []\n",
    "    Tlst = []\n",
    "    with open(filepath) as fp:\n",
    "        line = fp.readline()\n",
    "        cnt = 1\n",
    "        while line:\n",
    "            l = line.strip()\n",
    "            d = datetime.datetime(int(l.split(',')[0].split('-')[2])+2000,\n",
    "                                  int(l.split(',')[0].split('-')[1]),\n",
    "                                  int(l.split(',')[0].split('-')[0]),\n",
    "                                  int(l.split(',')[1].split(':')[0]),\n",
    "                                  int(l.split(',')[1].split(':')[1]),\n",
    "                                  int(l.split(',')[1].split(':')[2]))\n",
    "            T = float(l.split(',')[2])\n",
    "            dhrslst.append(((d-dateori).days *86400 + (d-dateori).seconds)/60/60)\n",
    "            dlst.append(d)\n",
    "            Tlst.append(T)\n",
    "            line = fp.readline()\n",
    "            cnt += 1\n",
    "    fp.close()\n",
    "    return (dhrslst, dlst, Tlst)\n"
   ]
  },
  {
   "cell_type": "code",
   "execution_count": 185,
   "metadata": {
    "scrolled": false
   },
   "outputs": [
    {
     "data": {
      "image/png": "[encoded data removed]",
      "text/plain": [
       "<Figure size 432x288 with 2 Axes>"
      ]
     },
     "metadata": {
      "needs_background": "light"
     },
     "output_type": "display_data"
    }
   ],
   "source": [
    "rootpath = r'\\\\SERIN135_DR-PC\\BlueFors\\Temperature Log'\n",
    "filedate = '21-11-19'\n",
    "\n",
    "dhrslst1, dlst1, Tlst1 = getTt(rootpath=rootpath, filedate = '21-11-19', Tch = 1)\n",
    "dhrslst8, dlst8, Tlst8 = getTt(rootpath=rootpath, filedate = '21-11-19', Tch = 8)\n",
    "plt.close('all')   \n",
    "f,ax = plt.subplots(1,2)\n",
    "\n",
    "ax[0].plot(dlst1,Tlst1,'.')\n",
    "ax[0].plot(dlst8,Tlst8,'.')\n",
    "ax[0].set_xticklabels(dlst,rotation='vertical')\n",
    "ax[1].plot(dhrslst8,Tlst8,'.')\n",
    "plt.show()\n"
   ]
  },
  {
   "cell_type": "code",
   "execution_count": 132,
   "metadata": {
    "scrolled": false
   },
   "outputs": [
    {
     "data": {
      "image/png": "[encoded data removed]",
      "text/plain": [
       "<Figure size 432x288 with 2 Axes>"
      ]
     },
     "metadata": {
      "needs_background": "light"
     },
     "output_type": "display_data"
    }
   ],
   "source": [
    "import time\n",
    "import datetime\n",
    "import matplotlib.pyplot as plt\n",
    "\n",
    "Tch = 2\n",
    "filedate = '21-11-19'\n",
    "\n",
    "rootpath = r'\\\\SERIN135_DR-PC\\BlueFors\\Temperature Log'\n",
    "filename = r'\\\\'+filedate+'\\CH{} T '.format(Tch)+filedate+'.log'\n",
    "filepath = rootpath+filename\n",
    "\n",
    "dateori = datetime.datetime(2019,11,21,0,0,0)\n",
    "dhrslst = []\n",
    "dlst = []\n",
    "Tlst = []\n",
    "with open(filepath) as fp:\n",
    "    line = fp.readline()\n",
    "    cnt = 1\n",
    "    while line:\n",
    "        l = line.strip()\n",
    "        d = datetime.datetime(int(l.split(',')[0].split('-')[2])+2000,\n",
    "                              int(l.split(',')[0].split('-')[1]),\n",
    "                              int(l.split(',')[0].split('-')[0]),\n",
    "                              int(l.split(',')[1].split(':')[0]),\n",
    "                              int(l.split(',')[1].split(':')[1]),\n",
    "                              int(l.split(',')[1].split(':')[2]))\n",
    "        T = float(l.split(',')[2])\n",
    "        dhrslst.append(((d-dateori).days *86400 + (d-dateori).seconds)/60/60)\n",
    "        dlst.append(d)\n",
    "        Tlst.append(T)\n",
    "        line = fp.readline()\n",
    "        cnt += 1\n",
    "\n",
    "\n",
    "plt.close('all')   \n",
    "f,ax = plt.subplots(1,2)\n",
    "\n",
    "ax[0].plot(dlst,Tlst,'.')\n",
    "ax[0].set_xticklabels(dlst,rotation='vertical')\n",
    "ax[1].plot(dhrslst,Tlst,'.')\n",
    "plt.show()\n"
   ]
  },
  {
   "cell_type": "code",
   "execution_count": 133,
   "metadata": {},
   "outputs": [
    {
     "name": "stderr",
     "output_type": "stream",
     "text": [
      "C:\\Users\\KelvinOX25\\Anaconda3\\lib\\site-packages\\qcodes\\dataset\\database.py:13: UserWarning: The module `qcodes.dataset.database` is deprecated.\n",
      "Public features are available at the import of `qcodes`.\n",
      "Private features are available in `qcodes.dataset.sqlite.*` modules.\n",
      "  warnings.warn('The module `qcodes.dataset.database` is deprecated.\\n'\n"
     ]
    }
   ],
   "source": [
    "import qcodes as qc\n",
    "from qcodes.dataset.database import initialise_database\n",
    "from qcodes.dataset.plotting import plot_by_id, get_data_by_id, plot_dataset\n",
    "import matplotlib.pyplot as plt\n",
    "import numpy as np\n",
    "from scipy import stats\n",
    "from si_prefix import si_format"
   ]
  },
  {
   "cell_type": "code",
   "execution_count": 134,
   "metadata": {},
   "outputs": [
    {
     "data": {
      "image/png": "[encoded data removed]",
      "text/plain": [
       "<Figure size 504x216 with 2 Axes>"
      ]
     },
     "metadata": {
      "needs_background": "light"
     },
     "output_type": "display_data"
    }
   ],
   "source": [
    "SAMPLE = 'O2N4' #1ab,1a2b\n",
    "qc.config[\"core\"][\"db_location\"] = r'\\\\JOSH-PC\\OurData_OneDrive\\Experiments_{}.db'.format(SAMPLE)\n",
    "initialise_database()\n",
    "f,ax=plt.subplots(1,2, figsize=(7,3))\n",
    "\n",
    "devW, devL, devTHK = 3.06e-6, 12.2e-6, 48e-9\n",
    "\n",
    "labelL = ['$1\\mu A$',\n",
    "          '$new$']\n",
    "for i,v in enumerate([8,11]):\n",
    "    data = get_data_by_id(v)\n",
    "    Is = data[0][0]['data']\n",
    "    Vs = data[0][1]['data']\n",
    "    slope, intercept, r_value, p_value, std_err = stats.linregress(Is, Vs)\n",
    "    ax[0].plot(Is, Vs, '.', ls='-',label = labelL[i]+', {}$\\Omega$'.format(si_format(slope)))\n",
    "\n",
    "ax[0].legend()\n",
    "ax[0].set_xlabel('$I (A)$')\n",
    "ax[0].set_ylabel('$V (V)$')\n",
    "ax[0].title.set_text('SiOx002 N4, HB-$2\\mu m$')\n",
    "ax[0].grid()\n",
    "ax[0].ticklabel_format(axis='both', style='sci', scilimits=(0, 2))\n",
    "\n",
    "labelR = [#'from 300K',\n",
    "          'warm up',\n",
    "          'cool down, $T_C = 1.95K$']\n",
    "for i,v in enumerate([14]):\n",
    "    data = get_data_by_id(v)\n",
    "    T = data[0][0]['data']\n",
    "    T = np.linspace(1,len(data[0][0]['data']),len(data[0][0]['data']))\n",
    "    R = data[0][1]['data']\n",
    "    Rs = R*devW/devL\n",
    "    ax[1].plot(T, Rs, '.', label = labelR[i], color = 'C{}'.format(1-i))#ls='-', alpha=1-0.99*i \n",
    "\n",
    "ax[1].legend()\n",
    "ax[1].set_xlabel('$T_8 (K)$')\n",
    "ax[1].set_ylabel('$R_s (\\Omega/sq)$')\n",
    "ax[1].title.set_text('RTc for 6bN8, Hallbar-Dow')\n",
    "ax[1].set_ylim(-25,175)\n",
    "ax[1].grid()\n",
    "ax[1].ticklabel_format(axis='none', style='sci', scilimits=(0, 2))\n",
    "\n",
    "plt.tight_layout()"
   ]
  },
  {
   "cell_type": "code",
   "execution_count": null,
   "metadata": {},
   "outputs": [],
   "source": []
  }
 ],
 "metadata": {
  "anaconda-cloud": {},
  "kernelspec": {
   "display_name": "Python 3",
   "language": "python",
   "name": "python3"
  },
  "language_info": {
   "codemirror_mode": {
    "name": "ipython",
    "version": 3
   },
   "file_extension": ".py",
   "mimetype": "text/x-python",
   "name": "python",
   "nbconvert_exporter": "python",
   "pygments_lexer": "ipython3",
   "version": "3.7.4"
  },
  "nbpresent": {
   "slides": {
    "15d0acb2-e02a-414a-af9f-95592a5c6fdd": {
     "id": "15d0acb2-e02a-414a-af9f-95592a5c6fdd",
     "prev": null,
     "regions": {
      "17e8c7af-d5f0-433e-bf9a-c9786acfb1be": {
       "attrs": {
        "height": 0.8,
        "width": 0.8,
        "x": 0.1,
        "y": 0.1
       },
       "content": {
        "cell": "06f612c4-ad7e-4bd5-8f0b-3decd73e8d8a",
        "part": "whole"
       },
       "id": "17e8c7af-d5f0-433e-bf9a-c9786acfb1be"
      }
     }
    },
    "4f4fa0de-ca1a-44c2-9098-b72d71e2ad1f": {
     "id": "4f4fa0de-ca1a-44c2-9098-b72d71e2ad1f",
     "prev": "50a40ad8-5cb1-42ea-96df-4356394bd002",
     "regions": {
      "973f7095-bbbc-400a-979e-c8fdb0ceb3b9": {
       "attrs": {
        "height": 0.8,
        "width": 0.8,
        "x": 0.1,
        "y": 0.1
       },
       "content": {
        "cell": "28382496-bb67-4ad6-b4c7-24294d96d14f",
        "part": "whole"
       },
       "id": "973f7095-bbbc-400a-979e-c8fdb0ceb3b9"
      }
     }
    },
    "50a40ad8-5cb1-42ea-96df-4356394bd002": {
     "id": "50a40ad8-5cb1-42ea-96df-4356394bd002",
     "prev": "8c1aef96-823b-4abf-86db-3e57f73a099f",
     "regions": {
      "d9702f53-a770-4007-b165-1d3f2f676eb5": {
       "attrs": {
        "height": 0.8,
        "width": 0.8,
        "x": 0.1,
        "y": 0.1
       },
       "content": {
        "cell": "2273abfd-94d1-48b3-81be-e9692a577627",
        "part": "whole"
       },
       "id": "d9702f53-a770-4007-b165-1d3f2f676eb5"
      }
     }
    },
    "8c1aef96-823b-4abf-86db-3e57f73a099f": {
     "id": "8c1aef96-823b-4abf-86db-3e57f73a099f",
     "prev": "15d0acb2-e02a-414a-af9f-95592a5c6fdd",
     "regions": {
      "9c3b8c99-6a2e-4726-9ec6-29163f2affec": {
       "attrs": {
        "height": 0.8,
        "width": 0.8,
        "x": 0.1,
        "y": 0.1
       },
       "content": {
        "cell": "b7b0691e-4105-4a24-b066-f5ff7e73f358",
        "part": "whole"
       },
       "id": "9c3b8c99-6a2e-4726-9ec6-29163f2affec"
      }
     }
    }
   },
   "themes": {}
  }
 },
 "nbformat": 4,
 "nbformat_minor": 1
}
