{
 "cells": [
  {
   "cell_type": "markdown",
   "metadata": {},
   "source": [
    "## Environment setup"
   ]
  },
  {
   "cell_type": "markdown",
   "metadata": {},
   "source": [
    "### Library preparation"
   ]
  },
  {
   "cell_type": "code",
   "execution_count": 8,
   "metadata": {},
   "outputs": [
    {
     "name": "stdout",
     "output_type": "stream",
     "text": [
      "The autoreload extension is already loaded. To reload it, use:\n",
      "  %reload_ext autoreload\n"
     ]
    }
   ],
   "source": [
    "%matplotlib notebook\n",
    "%load_ext autoreload\n",
    "%autoreload 2"
   ]
  },
  {
   "cell_type": "code",
   "execution_count": 9,
   "metadata": {},
   "outputs": [],
   "source": [
    "import time, os, io\n",
    "from PIL import ImageGrab\n",
    "from IPython.display import Image, display\n",
    "import clipboard\n",
    "from scipy import stats\n",
    "from si_prefix import si_format\n",
    "from tqdm import tqdm, tqdm_notebook\n",
    "\n",
    "import pandas as pd\n",
    "import numpy as np\n",
    "from io import StringIO \n",
    "import matplotlib.pyplot as plt\n",
    "from matplotlib.ticker import FormatStrFormatter\n",
    "plt.close('all')\n",
    "\n",
    "import sys \n",
    "sys.path.append('..')\n",
    "from meas_util import *\n",
    "\n",
    "import qcodes as qc\n",
    "from qcodes import Station, load_by_run_spec, load_by_guid\n",
    "from qcodes.instrument.base import Instrument\n",
    "from qcodes.dataset.experiment_container import (Experiment,\n",
    "                                                 load_last_experiment,\n",
    "                                                 new_experiment)\n",
    "from qcodes.dataset.database import initialise_database\n",
    "from qcodes.dataset.measurements import Measurement\n",
    "from qcodes.dataset.plotting import plot_by_id, get_data_by_id, plot_dataset\n",
    "from qcodes.dataset.data_set import load_by_id\n",
    "# from qcodes.dataset.data_export import get_shaped_data_by_runidb"
   ]
  },
  {
   "cell_type": "code",
   "execution_count": 10,
   "metadata": {
    "scrolled": false
   },
   "outputs": [],
   "source": [
    "from qcodes.instrument_drivers.Lakeshore.Model_372 import Model_372\n",
    "from qcodes.instrument_drivers.tektronix.AWG3252_Isrc import AWG3252_Isrc\n",
    "from qcodes.instrument_drivers.HP.HP34401 import HP34401\n",
    "from qcodes.instrument_drivers.HP.HP34401_DL1201 import HP34401_DL1201\n",
    "from qcodes.instrument_drivers.Keithley.Keithley_2600_channels import *\n",
    "from qcodes.instrument_drivers.tektronix.AWG5204_Isrc import AWG5204_Isrc\n",
    "\n",
    "from qcodes.instrument_drivers.Keithley.Keithley_6220 import Keithley_6220"
   ]
  },
  {
   "cell_type": "markdown",
   "metadata": {},
   "source": [
    "### Instrument nicknames and QC database initialization"
   ]
  },
  {
   "cell_type": "code",
   "execution_count": 13,
   "metadata": {},
   "outputs": [
    {
     "name": "stdout",
     "output_type": "stream",
     "text": [
      "Connected to: Keithley Instruments Inc. 2602A (serial:1272049, firmware:2.1.5) in 0.08s\n",
      "Connected to: LSCI 370 (serial:370665, firmware:04102008) in 0.10s\n",
      "initialization \\\\JOSH-PC\\Gersh_Labview\\DC measurement\\LSCI 370 PYTHON_conf.vi\n",
      "Instrument initialization completed.\n"
     ]
    }
   ],
   "source": [
    "try:\n",
    "   Instrument.close_all()\n",
    "except KeyError:\n",
    "   pass    \n",
    "except NameError:\n",
    "   pass \n",
    "\n",
    "K2602 =  Keithley_2600(name = 'K2602', address = \"GPIB::26::INSTR\" )\n",
    "Flux_chA = K2602.smua.curr\n",
    "Flux_chB = K2602.smub.curr\n",
    "Bfield =  Flux_chA\n",
    "Bfield.step = .1e-3\n",
    "Bfield.inter_delay = .1\n",
    "\n",
    "LS370 = Model_372(name = 'LS370 input Ch', address = 'GPIB::12::INSTR', terminator='\\n')\n",
    "T8 = LS370.ch08.temperature\n",
    "\n",
    "htr = LS370htr()\n",
    "htr.Tset(0.030)\n",
    "htr.PIDset(30,5,1)\n",
    "htr.HTRset('off')\n",
    "\n",
    "# Isrc = AWG5204_Isrc('gen', 'TCPIP0::AWG52000-XXXX::inst0::INSTR', ch = 1, R_bias = 1e9, Attn = 1, timeout = 20)\n",
    "# Isrc = Keithley_6220(name = 'K6220', address = \"GPIB::13::INSTR\" )\n",
    "Isrc = AWG3252_Isrc('gen', 'TCPIP0::192.168.13.32::inst0::INSTR',  R_bias = 1e9, Attn = 1)\n",
    "Isrc.init()\n",
    "\n",
    "Vmeter = HP34401_DL1201('meter', 'GPIB0::8::INSTR', Gain = 100)\n",
    "Vmeter.init('fast 6')\n",
    "\n",
    "station = qc.Station(Isrc, Vmeter)\n",
    "\n",
    "print ('Instrument initialization completed.')"
   ]
  },
  {
   "cell_type": "markdown",
   "metadata": {},
   "source": [
    "### Database ini"
   ]
  },
  {
   "cell_type": "code",
   "execution_count": null,
   "metadata": {},
   "outputs": [],
   "source": [
    "SAMPLE = '79N6'\n",
    "qc.config[\"core\"][\"db_location\"] = r'\\\\JOSH-PC\\OurData_OneDrive\\Experiments_{}.db'.format(SAMPLE)"
   ]
  },
  {
   "cell_type": "markdown",
   "metadata": {},
   "source": [
    "## Scripts"
   ]
  },
  {
   "cell_type": "markdown",
   "metadata": {},
   "source": [
    "### Utilities"
   ]
  },
  {
   "cell_type": "code",
   "execution_count": 15,
   "metadata": {},
   "outputs": [],
   "source": [
    "def setup():\n",
    "    Isrc.I.set(0)\n",
    "\n",
    "def cleanup():\n",
    "    Isrc.I.set(0) \n",
    "    Bfield.set(0)"
   ]
  },
  {
   "cell_type": "code",
   "execution_count": 21,
   "metadata": {},
   "outputs": [],
   "source": [
    "def meas_Voffset(i):\n",
    "    V_off = 0\n",
    "    N = 10\n",
    "    Isrc.I.set(i)\n",
    "\n",
    "\n",
    "    for j in range(N):\n",
    "#         time.sleep(.1)\n",
    "        V_off += Vmeter.V.get()\n",
    "    return V_off/N"
   ]
  },
  {
   "cell_type": "code",
   "execution_count": null,
   "metadata": {},
   "outputs": [],
   "source": [
    "def cos_to_B(cos):\n",
    "    FF_ = .232e-3\n",
    "    ZF_ = .004e-3\n",
    "    return np.arccos( cos)*(2* (FF_ - ZF_)/np.pi + ZF_  )"
   ]
  },
  {
   "cell_type": "code",
   "execution_count": null,
   "metadata": {},
   "outputs": [],
   "source": [
    "def T_scan(T_list):\n",
    "\n",
    "    tolerT8 = 0.02\n",
    "    chkrepeat = 20\n",
    "    chkperiod_sec = 2\n",
    "\n",
    "    Tnow_alllst = []\n",
    "    timer_lst = []\n",
    "\n",
    "    htr.HTRset('10mA')\n",
    "\n",
    "    for setT8 in setT8_lst:\n",
    "    #     htr.setpoint(setT8)\n",
    "        htr.Tset(setT8)\n",
    "        print('ramping T8 to {}K...'.format(si_format(setT8)))\n",
    "        if setT8 < 60e-3:\n",
    "            time.sleep(300)\n",
    "        else:\n",
    "            time.sleep(30)\n",
    "        Tnow_lst = []\n",
    "\n",
    "        t0 = time.time()\n",
    "        count_T = 0\n",
    "        while count_T < chkrepeat:\n",
    "            T_now = T8.get()\n",
    "            if (1-tolerT8)*setT8 <= T_now <= (1+tolerT8)*setT8 :\n",
    "                count_T +=1\n",
    "                Tnow_lst.append(T_now)\n",
    "                time.sleep(chkperiod_sec)\n",
    "            elif count_T >= 1 :\n",
    "                count_T -=1\n",
    "        t1 = time.time()\n",
    "\n",
    "        timer_lst.append(t1-t0)\n",
    "        Tnow_alllst.append(Tnow_lst)\n",
    "\n",
    "\n",
    "\n",
    "\n"
   ]
  },
  {
   "cell_type": "markdown",
   "metadata": {},
   "source": [
    "### IVCs"
   ]
  },
  {
   "cell_type": "code",
   "execution_count": 16,
   "metadata": {},
   "outputs": [],
   "source": [
    "def IVC_udu (amp, stp, Gain, R_bias, Attn, tfsstb = 0.1):\n",
    "    \n",
    "    meas = set_meas(Vmeter.V, Isrc.I, setup = setup, cleanup = cleanup)\n",
    "\n",
    "    Vmeter.set_Gain ( Gain )\n",
    "    Isrc.set_R_Attn ( R_bias, Attn )\n",
    "    \n",
    "    i_list = udu_list(amp, stp)\n",
    "    ti_list = tqdm_notebook(i_list)\n",
    "\n",
    "    name_exp(sample = SAMPLE, exp_type = 'IVc @T={}K, B={}A'.format(si_format(T8.get()), si_format(Bfield.get(), precision = 3)))\n",
    "    with meas.run() as datasaver:\n",
    "        for i in ti_list:\n",
    "            \n",
    "            Isrc.I.set(i)\n",
    "            time.sleep(tfsstb)\n",
    "            V = Vmeter.V.get()\n",
    "\n",
    "            res = [( Isrc.I, i - 22.5e-3/R_bias*Attn ), ( Vmeter.V, V  )]\n",
    "            datasaver.add_result(*res) \n",
    "\n",
    "    cleanup()\n",
    "    return datasaver.run_id "
   ]
  },
  {
   "cell_type": "code",
   "execution_count": 18,
   "metadata": {},
   "outputs": [],
   "source": [
    "def Ic_meas (amp, stp, thr, Gain, R_bias, Attn, tfsstb = 0.1):\n",
    "\n",
    "    meas = set_meas(Vmeter.V, Isrc.I, setup = setup, cleanup = cleanup)\n",
    "    Vmeter.set_Gain (Gain) \n",
    "    Isrc.set_R_Attn (R_bias, Attn)\n",
    "    \n",
    "    i_list_u = np.linspace(0,  amp,  round (amp/stp) + 1)\n",
    "    ti_list_u = tqdm_notebook(i_list_u)\n",
    "    i_list_d = np.linspace(0, -amp,  round (amp/stp) + 1)    \n",
    "    ti_list_d = tqdm_notebook(i_list_d)\n",
    "    ti_lists = [ ti_list_u ,  ti_list_d]\n",
    "    \n",
    "    name_exp(sample = SAMPLE, exp_type = 'sc branch @T={}K, B={}A'.format(si_format(T8.get()), si_format(B, precision = 3)))\n",
    "    with meas.run() as datasaver:\n",
    "        for ti_list in ti_lists:\n",
    "            \n",
    "            Isrc.I.set(0)\n",
    "            V_ = Vmeter.V.get()            \n",
    "            time.sleep(1)\n",
    "            \n",
    "            for i in ti_list:\n",
    "            \n",
    "                Isrc.I.set(i)\n",
    "                time.sleep(tfsstb)\n",
    "\n",
    "                V = Vmeter.V.get()\n",
    "                dV = V - V_\n",
    "                V_ = V \n",
    "                \n",
    "                if (abs(dV) > thr)  or (abs(V) > 4e-3 ) : #\n",
    "                    break\n",
    "\n",
    "                res = [( Isrc.I, i - 22.5e-3/R_bias*Attn ), ( Vmeter.V, V  )]\n",
    "                datasaver.add_result(*res) \n",
    "    cleanup()\n",
    "    return datasaver.run_id "
   ]
  },
  {
   "cell_type": "code",
   "execution_count": 19,
   "metadata": {},
   "outputs": [],
   "source": [
    "def IVcB_meas (i_list, B_list, thr=1e-3, Gain=100, R_bias=1e9, Attn=1, tfsstb = 0.1):\n",
    "\n",
    "    Vmeter.set_Gain (Gain = Gain) \n",
    "    Isrc.set_R_Attn (R_bias = R_bias, Attn=Attn)\n",
    "\n",
    "    i_lists = [i_list]\n",
    "    \n",
    "    meas = set_meas(Vmeter.V, Isrc.I,setup = setup, cleanup = cleanup)\n",
    "    tB_list = tqdm_notebook(B_list)\n",
    "    for B in tB_list:\n",
    "\n",
    "        name_exp(sample = SAMPLE, exp_type = 'full IVc(B) @T={}K, B={}A'.format(si_format(T8.get()), si_format(B, precision =3)))\n",
    "        with meas.run() as datasaver:\n",
    "\n",
    "            Bfield.set(B)\n",
    "            for i_list in i_lists:\n",
    "\n",
    "                Isrc.I.set(0)\n",
    "                V_ = Vmeter.V.get()\n",
    "                time.sleep(1)\n",
    "\n",
    "                for i in i_list:\n",
    "\n",
    "                    Isrc.I.set(i)\n",
    "                    time.sleep(tfsstb)\n",
    "\n",
    "                    V = Vmeter.V.get()\n",
    "                    dV = V - V_\n",
    "                    V_ = V\n",
    "\n",
    "                    if  (abs(V) > 6.4e-3) : #(abs(dV) > thr)  or\n",
    "                        break\n",
    "\n",
    "                    res = [( Isrc.I, i - 22.5e-3/R_bias*Attn ), ( Vmeter.V, V  )]\n",
    "                    datasaver.add_result(*res) \n",
    "    cleanup()\n",
    "    return datasaver.run_id "
   ]
  },
  {
   "cell_type": "markdown",
   "metadata": {},
   "source": [
    "### Histograms"
   ]
  },
  {
   "cell_type": "code",
   "execution_count": null,
   "metadata": {},
   "outputs": [],
   "source": [
    "def meas_hist(N, t_offset = 0):\n",
    "\n",
    "    Isws = []\n",
    "\n",
    "    i = 0\n",
    "    istep = .2e-9\n",
    "    i0 = 2e-9\n",
    "\n",
    "    Isrc.I.set(i0)\n",
    "    time.sleep(1)\n",
    "    Isrc.I.set(-i0)\n",
    "    time.sleep(1)\n",
    "    V_off = meas_Voffset(0)\n",
    "\n",
    "    t0 = time.time()    \n",
    "    for n in tqdm_notebook(range(N)):\n",
    "\n",
    "#         print(1e3*(time.time()-t0))\n",
    "        V = V_off\n",
    "\n",
    "        while (V - V_off) < 50e-6:\n",
    "            \n",
    "            i += istep\n",
    "            time.sleep(t_offset)\n",
    "            Isrc.I.set(i)\n",
    "            V = Vmeter.V.get()\n",
    "            \n",
    "        Isws.append(i)\n",
    "#         print(i)\n",
    "\n",
    "        Isrc.I.set(-i0)\n",
    "        time.sleep(1)\n",
    "        i = np.mean(Isws)*-.1\n",
    "#         Isrc.I.set(i)\n",
    "        time.sleep(0.1)\n",
    "\n",
    "    return Isws"
   ]
  },
  {
   "cell_type": "code",
   "execution_count": null,
   "metadata": {},
   "outputs": [],
   "source": []
  },
  {
   "cell_type": "markdown",
   "metadata": {},
   "source": [
    "### Data proc"
   ]
  },
  {
   "cell_type": "code",
   "execution_count": 26,
   "metadata": {},
   "outputs": [],
   "source": [
    "def extract_Isw_by_id (idx):\n",
    "    \n",
    "    alldata = get_data_by_id(idx)\n",
    "    \n",
    "    Is = alldata[0][0]['data']\n",
    "    Vs = alldata[0][1]['data']\n",
    "\n",
    "        \n",
    "    return extract_Isw (Is,Vs)\n",
    "\n",
    "def extract_Isw (Is,Vs):\n",
    "    \n",
    "        if len( Is )== 0 or len( Vs )== 0 :\n",
    "            Isw, R0 = np.nan, np.nan\n",
    "            return Isw, R0\n",
    "        \n",
    "        Isw = abs(np.max(Is)) \n",
    "        \n",
    "\n",
    "        \n",
    "        return Isw"
   ]
  },
  {
   "cell_type": "code",
   "execution_count": 30,
   "metadata": {},
   "outputs": [],
   "source": [
    "def extract_Isw_R0 (Is,Vs):\n",
    "\n",
    "    Isw = (np.max(Is) - np.min(Is) ) /2\n",
    "\n",
    "    order = Is.argsort()        \n",
    "    Is, Vs = Is[order], Vs[order]\n",
    "    n = len(Is)\n",
    "    n_min, n_max = np.int(n/3), np.int(2*n/3)        \n",
    "    n_sl = slice(n_min, n_max)\n",
    "\n",
    "    R0 = np.mean(np.diff(Vs[n_sl])) / np.mean(np.diff(Is[n_sl]))        \n",
    "    return Isw, R0\n",
    "\n",
    "def extract_Isw_R0_by_id (idx):\n",
    "    \n",
    "    alldata = get_data_by_id(idx)\n",
    "    \n",
    "    Is = alldata[0][0]['data']\n",
    "    Vs = alldata[0][1]['data']\n",
    "        \n",
    "    return extract_Isw_R0 (Is,Vs)"
   ]
  },
  {
   "cell_type": "code",
   "execution_count": 31,
   "metadata": {},
   "outputs": [],
   "source": [
    "def xy_by_id(idx):\n",
    "    alldata = get_data_by_id(idx)\n",
    "    \n",
    "    x = alldata[0][0]['data']\n",
    "    y = alldata[0][1]['data']\n",
    "    \n",
    "    return x,y"
   ]
  },
  {
   "cell_type": "code",
   "execution_count": null,
   "metadata": {},
   "outputs": [],
   "source": [
    "def plot_hist_by_id(idx, ax = None):\n",
    "    _, Isws = xy_by_id(idx)\n",
    "    if ax is None:\n",
    "\n",
    "        fig, ax = plt.subplots()\n",
    "\n",
    "    ax.hist(Isws, bins = 201, cumulative = True )\n",
    "    return Isws"
   ]
  },
  {
   "cell_type": "code",
   "execution_count": null,
   "metadata": {},
   "outputs": [],
   "source": [
    "def save_hist(Isws, label = ''):     \n",
    "    N_try = qc.Parameter('try')    \n",
    "\n",
    "    meas = set_meas( Isrc.I, N_try, setup = setup, cleanup = cleanup)\n",
    "    name = '{:} @T ={:2.1f}mK'.format(label, T8.get()/1e-3)\n",
    "    name_exp(sample = SAMPLE, exp_type = name )  \n",
    "    with meas.run() as datasaver: \n",
    "        for j, I in enumerate(Isws):\n",
    "            res = [ ( N_try, j  ) ,( Isrc.I, I ),]\n",
    "\n",
    "            datasaver.add_result(*res)\n",
    "            \n",
    "    print('Run # {:1.0f}, {:} saved'.format(datasaver.run_id, name))"
   ]
  },
  {
   "cell_type": "markdown",
   "metadata": {},
   "source": [
    "## Measurement"
   ]
  },
  {
   "cell_type": "markdown",
   "metadata": {},
   "source": [
    "#### Constants"
   ]
  },
  {
   "cell_type": "code",
   "execution_count": 34,
   "metadata": {},
   "outputs": [],
   "source": [
    "ZF =  0.004e-3\n",
    "FF =  0.224e-3\n",
    "dF = 0.250e-3\n",
    "midF = 0.154e-3\n",
    "\n"
   ]
  },
  {
   "cell_type": "markdown",
   "metadata": {},
   "source": [
    "### IVCs"
   ]
  },
  {
   "cell_type": "code",
   "execution_count": 43,
   "metadata": {},
   "outputs": [
    {
     "data": {
      "application/vnd.jupyter.widget-view+json": {
       "model_id": "847a4e4d366d419eabe925fa50a50b7f",
       "version_major": 2,
       "version_minor": 0
      },
      "text/plain": [
       "HBox(children=(IntProgress(value=0, max=303), HTML(value='')))"
      ]
     },
     "metadata": {},
     "output_type": "display_data"
    },
    {
     "name": "stdout",
     "output_type": "stream",
     "text": [
      "Starting experimental run with id: 1393\n",
      "\n"
     ]
    },
    {
     "data": {
      "text/plain": [
       "1393"
      ]
     },
     "execution_count": 43,
     "metadata": {},
     "output_type": "execute_result"
    }
   ],
   "source": [
    "IVC_udu (amp=300e-9, stp=4e-9, Gain=100, R_bias=11.2e6, Attn=1, tfsstb = 0.1)"
   ]
  },
  {
   "cell_type": "code",
   "execution_count": null,
   "metadata": {},
   "outputs": [],
   "source": [
    "IVcB_ada(npts_B = 51, thr=250e-6, Gain=100, R_bias=11.2e6, Attn=1, tfsstb = 0.1)"
   ]
  },
  {
   "cell_type": "code",
   "execution_count": 1,
   "metadata": {},
   "outputs": [
    {
     "ename": "NameError",
     "evalue": "name 'cos_to_B' is not defined",
     "output_type": "error",
     "traceback": [
      "\u001b[1;31m---------------------------------------------------------------------------\u001b[0m",
      "\u001b[1;31mNameError\u001b[0m                                 Traceback (most recent call last)",
      "\u001b[1;32m<ipython-input-1-6c2f2eb15f8a>\u001b[0m in \u001b[0;36m<module>\u001b[1;34m\u001b[0m\n\u001b[1;32m----> 1\u001b[1;33m \u001b[0mB\u001b[0m \u001b[1;33m=\u001b[0m \u001b[0mcos_to_B\u001b[0m\u001b[1;33m(\u001b[0m\u001b[1;36m.25\u001b[0m\u001b[1;33m)\u001b[0m\u001b[1;33m\u001b[0m\u001b[1;33m\u001b[0m\u001b[0m\n\u001b[0m\u001b[0;32m      2\u001b[0m \u001b[0mBfield\u001b[0m\u001b[1;33m.\u001b[0m\u001b[0mset\u001b[0m\u001b[1;33m(\u001b[0m\u001b[0mB\u001b[0m\u001b[1;33m)\u001b[0m\u001b[1;33m\u001b[0m\u001b[1;33m\u001b[0m\u001b[0m\n\u001b[0;32m      3\u001b[0m \u001b[0mIVC_udu\u001b[0m \u001b[1;33m(\u001b[0m\u001b[0mamp\u001b[0m\u001b[1;33m=\u001b[0m\u001b[1;36m4e-9\u001b[0m\u001b[1;33m,\u001b[0m \u001b[0mstp\u001b[0m\u001b[1;33m=\u001b[0m\u001b[1;36m.02e-9\u001b[0m\u001b[1;33m,\u001b[0m \u001b[0mGain\u001b[0m\u001b[1;33m=\u001b[0m\u001b[1;36m100\u001b[0m\u001b[1;33m,\u001b[0m \u001b[0mR_bias\u001b[0m\u001b[1;33m=\u001b[0m\u001b[1;36m100.2e6\u001b[0m\u001b[1;33m,\u001b[0m \u001b[0mAttn\u001b[0m\u001b[1;33m=\u001b[0m\u001b[1;36m1\u001b[0m\u001b[1;33m,\u001b[0m \u001b[0mtfsstb\u001b[0m \u001b[1;33m=\u001b[0m \u001b[1;36m0.1\u001b[0m\u001b[1;33m)\u001b[0m\u001b[1;33m\u001b[0m\u001b[1;33m\u001b[0m\u001b[0m\n\u001b[0;32m      4\u001b[0m \u001b[0mBfield\u001b[0m\u001b[1;33m.\u001b[0m\u001b[0mset\u001b[0m\u001b[1;33m(\u001b[0m\u001b[1;36m0\u001b[0m\u001b[1;33m)\u001b[0m\u001b[1;33m\u001b[0m\u001b[1;33m\u001b[0m\u001b[0m\n",
      "\u001b[1;31mNameError\u001b[0m: name 'cos_to_B' is not defined"
     ]
    }
   ],
   "source": [
    "B = cos_to_B(.25)\n",
    "Bfield.set(B)\n",
    "IVC_udu (amp=4e-9, stp=.02e-9, Gain=100, R_bias=100.2e6, Attn=1, tfsstb = 0.1)\n",
    "Bfield.set(0)"
   ]
  },
  {
   "cell_type": "markdown",
   "metadata": {},
   "source": [
    "### Histograms"
   ]
  },
  {
   "cell_type": "code",
   "execution_count": null,
   "metadata": {},
   "outputs": [],
   "source": [
    "B = cos_to_B(.25)\n",
    "Bfield.set(B)\n",
    "Isws =  meas_hist(1000)\n",
    "save_hist(Isws)"
   ]
  },
  {
   "cell_type": "code",
   "execution_count": null,
   "metadata": {
    "scrolled": true
   },
   "outputs": [],
   "source": [
    "meas = set_meas(Vmeter.V, Isrc.I, setup = setup, cleanup = cleanup)\n",
    "\n",
    "name_exp(sample = SAMPLE, exp_type = 'IVC for hist @T ={:2.1f}mK'.format(T8.get()/1e-3) )  \n",
    "with meas.run() as datasaver:\n",
    "\n",
    "    Is, Vs = fast_IVc_adaptive(Gain=100, R_bias=10e6, Attn=1, find_istep = istep_coarse, \n",
    "                               keepgoing =  if_Vth, direction = 'p', record = 'u')\n",
    "    \n",
    "print(Is)\n",
    "print(extract_Isw (Is, Vs))\n"
   ]
  },
  {
   "cell_type": "code",
   "execution_count": null,
   "metadata": {
    "scrolled": false
   },
   "outputs": [
    {
     "data": {
      "application/vnd.jupyter.widget-view+json": {
       "model_id": "788837bc6c504265882a634703924395",
       "version_major": 2,
       "version_minor": 0
      },
      "text/plain": [
       "HBox(children=(IntProgress(value=0, max=1000), HTML(value='')))"
      ]
     },
     "metadata": {},
     "output_type": "display_data"
    }
   ],
   "source": [
    "for cos in [.2]:\n",
    "    B = cos_to_B(cos)\n",
    "    Bfield.set(B)\n",
    "#     IVC_udu (amp=20e-9, stp=.2e-9, Gain=100, R_bias=11.2e6, Attn=1, tfsstb = 0.1)\n",
    "#     Bfield.set(B)\n",
    "    Isws =  meas_hist(1000)\n",
    "    save_hist(Isws, 'AWG, cos = {:1.2f}'.format(cos))\n",
    "Bfield.set(0)"
   ]
  },
  {
   "cell_type": "code",
   "execution_count": 89,
   "metadata": {
    "scrolled": true
   },
   "outputs": [
    {
     "name": "stdout",
     "output_type": "stream",
     "text": [
      "ramping T8 to 100.0 mK...\n"
     ]
    },
    {
     "data": {
      "application/vnd.jupyter.widget-view+json": {
       "model_id": "52ae42b7b9df4ab5bf9254448f2b5295",
       "version_major": 2,
       "version_minor": 0
      },
      "text/plain": [
       "HBox(children=(IntProgress(value=0, max=1000), HTML(value='')))"
      ]
     },
     "metadata": {},
     "output_type": "display_data"
    },
    {
     "ename": "ValueError",
     "evalue": "('3.573015668529256e-07 is invalid: must be between -3.5714285714285716e-07 and 3.5714285714285716e-07 inclusive; Parameter: gen.I', 'setting gen_I to 3.573015668529256e-07')",
     "output_type": "error",
     "traceback": [
      "\u001b[1;31m---------------------------------------------------------------------------\u001b[0m",
      "\u001b[1;31mValueError\u001b[0m                                Traceback (most recent call last)",
      "\u001b[1;32m<ipython-input-89-24df82daa632>\u001b[0m in \u001b[0;36m<module>\u001b[1;34m\u001b[0m\n\u001b[0;32m     43\u001b[0m         \u001b[0mB\u001b[0m \u001b[1;33m=\u001b[0m \u001b[0mcos_to_B\u001b[0m\u001b[1;33m(\u001b[0m\u001b[0mcos\u001b[0m\u001b[1;33m)\u001b[0m\u001b[1;33m\u001b[0m\u001b[1;33m\u001b[0m\u001b[0m\n\u001b[0;32m     44\u001b[0m         \u001b[0mBfield\u001b[0m\u001b[1;33m.\u001b[0m\u001b[0mset\u001b[0m\u001b[1;33m(\u001b[0m\u001b[0mB\u001b[0m\u001b[1;33m)\u001b[0m\u001b[1;33m\u001b[0m\u001b[1;33m\u001b[0m\u001b[0m\n\u001b[1;32m---> 45\u001b[1;33m         \u001b[0mIsws\u001b[0m \u001b[1;33m=\u001b[0m  \u001b[0mmeas_hist\u001b[0m\u001b[1;33m(\u001b[0m\u001b[1;36m1000\u001b[0m\u001b[1;33m)\u001b[0m\u001b[1;33m\u001b[0m\u001b[1;33m\u001b[0m\u001b[0m\n\u001b[0m\u001b[0;32m     46\u001b[0m         \u001b[0msave_hist\u001b[0m\u001b[1;33m(\u001b[0m\u001b[0mIsws\u001b[0m\u001b[1;33m,\u001b[0m \u001b[1;34m'AWG cos = {:1.2f}'\u001b[0m\u001b[1;33m.\u001b[0m\u001b[0mformat\u001b[0m\u001b[1;33m(\u001b[0m\u001b[0mcos\u001b[0m\u001b[1;33m)\u001b[0m\u001b[1;33m)\u001b[0m\u001b[1;33m\u001b[0m\u001b[1;33m\u001b[0m\u001b[0m\n\u001b[0;32m     47\u001b[0m \u001b[1;33m\u001b[0m\u001b[0m\n",
      "\u001b[1;32m<ipython-input-63-ff6d15737d53>\u001b[0m in \u001b[0;36mmeas_hist\u001b[1;34m(N)\u001b[0m\n\u001b[0;32m     27\u001b[0m \u001b[1;33m\u001b[0m\u001b[0m\n\u001b[0;32m     28\u001b[0m             \u001b[0mi\u001b[0m \u001b[1;33m+=\u001b[0m \u001b[0mistep\u001b[0m\u001b[1;33m\u001b[0m\u001b[1;33m\u001b[0m\u001b[0m\n\u001b[1;32m---> 29\u001b[1;33m             \u001b[0mIsrc\u001b[0m\u001b[1;33m.\u001b[0m\u001b[0mI\u001b[0m\u001b[1;33m.\u001b[0m\u001b[0mset\u001b[0m\u001b[1;33m(\u001b[0m\u001b[0mi\u001b[0m\u001b[1;33m)\u001b[0m\u001b[1;33m\u001b[0m\u001b[1;33m\u001b[0m\u001b[0m\n\u001b[0m\u001b[0;32m     30\u001b[0m             \u001b[0mV\u001b[0m \u001b[1;33m=\u001b[0m \u001b[0mVmeter\u001b[0m\u001b[1;33m.\u001b[0m\u001b[0mV\u001b[0m\u001b[1;33m.\u001b[0m\u001b[0mget\u001b[0m\u001b[1;33m(\u001b[0m\u001b[1;33m)\u001b[0m\u001b[1;33m\u001b[0m\u001b[1;33m\u001b[0m\u001b[0m\n\u001b[0;32m     31\u001b[0m \u001b[1;33m\u001b[0m\u001b[0m\n",
      "\u001b[1;32m~\\Anaconda3\\lib\\site-packages\\qcodes\\instrument\\parameter.py\u001b[0m in \u001b[0;36mset_wrapper\u001b[1;34m(value, **kwargs)\u001b[0m\n\u001b[0;32m    568\u001b[0m             \u001b[1;32mexcept\u001b[0m \u001b[0mException\u001b[0m \u001b[1;32mas\u001b[0m \u001b[0me\u001b[0m\u001b[1;33m:\u001b[0m\u001b[1;33m\u001b[0m\u001b[1;33m\u001b[0m\u001b[0m\n\u001b[0;32m    569\u001b[0m                 \u001b[0me\u001b[0m\u001b[1;33m.\u001b[0m\u001b[0margs\u001b[0m \u001b[1;33m=\u001b[0m \u001b[0me\u001b[0m\u001b[1;33m.\u001b[0m\u001b[0margs\u001b[0m \u001b[1;33m+\u001b[0m \u001b[1;33m(\u001b[0m\u001b[1;34m'setting {} to {}'\u001b[0m\u001b[1;33m.\u001b[0m\u001b[0mformat\u001b[0m\u001b[1;33m(\u001b[0m\u001b[0mself\u001b[0m\u001b[1;33m,\u001b[0m \u001b[0mvalue\u001b[0m\u001b[1;33m)\u001b[0m\u001b[1;33m,\u001b[0m\u001b[1;33m)\u001b[0m\u001b[1;33m\u001b[0m\u001b[1;33m\u001b[0m\u001b[0m\n\u001b[1;32m--> 570\u001b[1;33m                 \u001b[1;32mraise\u001b[0m \u001b[0me\u001b[0m\u001b[1;33m\u001b[0m\u001b[1;33m\u001b[0m\u001b[0m\n\u001b[0m\u001b[0;32m    571\u001b[0m \u001b[1;33m\u001b[0m\u001b[0m\n\u001b[0;32m    572\u001b[0m         \u001b[1;32mreturn\u001b[0m \u001b[0mset_wrapper\u001b[0m\u001b[1;33m\u001b[0m\u001b[1;33m\u001b[0m\u001b[0m\n",
      "\u001b[1;32m~\\Anaconda3\\lib\\site-packages\\qcodes\\instrument\\parameter.py\u001b[0m in \u001b[0;36mset_wrapper\u001b[1;34m(value, **kwargs)\u001b[0m\n\u001b[0;32m    499\u001b[0m         \u001b[1;32mdef\u001b[0m \u001b[0mset_wrapper\u001b[0m\u001b[1;33m(\u001b[0m\u001b[0mvalue\u001b[0m\u001b[1;33m:\u001b[0m \u001b[0mParamDataType\u001b[0m\u001b[1;33m,\u001b[0m \u001b[1;33m**\u001b[0m\u001b[0mkwargs\u001b[0m\u001b[1;33m:\u001b[0m \u001b[0mAny\u001b[0m\u001b[1;33m)\u001b[0m \u001b[1;33m->\u001b[0m \u001b[1;32mNone\u001b[0m\u001b[1;33m:\u001b[0m\u001b[1;33m\u001b[0m\u001b[1;33m\u001b[0m\u001b[0m\n\u001b[0;32m    500\u001b[0m             \u001b[1;32mtry\u001b[0m\u001b[1;33m:\u001b[0m\u001b[1;33m\u001b[0m\u001b[1;33m\u001b[0m\u001b[0m\n\u001b[1;32m--> 501\u001b[1;33m                 \u001b[0mself\u001b[0m\u001b[1;33m.\u001b[0m\u001b[0mvalidate\u001b[0m\u001b[1;33m(\u001b[0m\u001b[0mvalue\u001b[0m\u001b[1;33m)\u001b[0m\u001b[1;33m\u001b[0m\u001b[1;33m\u001b[0m\u001b[0m\n\u001b[0m\u001b[0;32m    502\u001b[0m \u001b[1;33m\u001b[0m\u001b[0m\n\u001b[0;32m    503\u001b[0m                 \u001b[1;31m# In some cases intermediate sweep values must be used.\u001b[0m\u001b[1;33m\u001b[0m\u001b[1;33m\u001b[0m\u001b[1;33m\u001b[0m\u001b[0m\n",
      "\u001b[1;32m~\\Anaconda3\\lib\\site-packages\\qcodes\\instrument\\parameter.py\u001b[0m in \u001b[0;36mvalidate\u001b[1;34m(self, value)\u001b[0m\n\u001b[0;32m    630\u001b[0m             \u001b[0mcontext\u001b[0m \u001b[1;33m=\u001b[0m \u001b[0mself\u001b[0m\u001b[1;33m.\u001b[0m\u001b[0mname\u001b[0m\u001b[1;33m\u001b[0m\u001b[1;33m\u001b[0m\u001b[0m\n\u001b[0;32m    631\u001b[0m         \u001b[1;32mif\u001b[0m \u001b[0mself\u001b[0m\u001b[1;33m.\u001b[0m\u001b[0mvals\u001b[0m \u001b[1;32mis\u001b[0m \u001b[1;32mnot\u001b[0m \u001b[1;32mNone\u001b[0m\u001b[1;33m:\u001b[0m\u001b[1;33m\u001b[0m\u001b[1;33m\u001b[0m\u001b[0m\n\u001b[1;32m--> 632\u001b[1;33m             \u001b[0mself\u001b[0m\u001b[1;33m.\u001b[0m\u001b[0mvals\u001b[0m\u001b[1;33m.\u001b[0m\u001b[0mvalidate\u001b[0m\u001b[1;33m(\u001b[0m\u001b[0mvalue\u001b[0m\u001b[1;33m,\u001b[0m \u001b[1;34m'Parameter: '\u001b[0m \u001b[1;33m+\u001b[0m \u001b[0mcontext\u001b[0m\u001b[1;33m)\u001b[0m\u001b[1;33m\u001b[0m\u001b[1;33m\u001b[0m\u001b[0m\n\u001b[0m\u001b[0;32m    633\u001b[0m \u001b[1;33m\u001b[0m\u001b[0m\n\u001b[0;32m    634\u001b[0m     \u001b[1;33m@\u001b[0m\u001b[0mproperty\u001b[0m\u001b[1;33m\u001b[0m\u001b[1;33m\u001b[0m\u001b[0m\n",
      "\u001b[1;32m~\\Anaconda3\\lib\\site-packages\\qcodes\\utils\\validators.py\u001b[0m in \u001b[0;36mvalidate\u001b[1;34m(self, value, context)\u001b[0m\n\u001b[0;32m    275\u001b[0m                 \u001b[1;34m'{} is invalid: must be between '\u001b[0m\u001b[1;33m\u001b[0m\u001b[1;33m\u001b[0m\u001b[0m\n\u001b[0;32m    276\u001b[0m                 '{} and {} inclusive; {}'.format(\n\u001b[1;32m--> 277\u001b[1;33m                     repr(value), self._min_value, self._max_value, context))\n\u001b[0m\u001b[0;32m    278\u001b[0m \u001b[1;33m\u001b[0m\u001b[0m\n\u001b[0;32m    279\u001b[0m     \u001b[0mis_numeric\u001b[0m \u001b[1;33m=\u001b[0m \u001b[1;32mTrue\u001b[0m\u001b[1;33m\u001b[0m\u001b[1;33m\u001b[0m\u001b[0m\n",
      "\u001b[1;31mValueError\u001b[0m: ('3.573015668529256e-07 is invalid: must be between -3.5714285714285716e-07 and 3.5714285714285716e-07 inclusive; Parameter: gen.I', 'setting gen_I to 3.573015668529256e-07')"
     ]
    }
   ],
   "source": [
    "# Use this code for T-dependent tasks\n",
    "# Using PID 30,5,1 & htr range 10mA for T8 upto 550mK\n",
    "# The LS370 htr driver was coded in meas_util.py instead of qcode  \n",
    " \n",
    "setT8_lst = [ .100, .150, .200, .300] \n",
    "\n"
   ]
  },
  {
   "cell_type": "code",
   "execution_count": 39,
   "metadata": {
    "scrolled": true
   },
   "outputs": [
    {
     "data": {
      "application/vnd.jupyter.widget-view+json": {
       "model_id": "839aeba8d8ff4535bca772ac85b66547",
       "version_major": 2,
       "version_minor": 0
      },
      "text/plain": [
       "HBox(children=(IntProgress(value=0, max=303), HTML(value='')))"
      ]
     },
     "metadata": {},
     "output_type": "display_data"
    },
    {
     "name": "stdout",
     "output_type": "stream",
     "text": [
      "Starting experimental run with id: 1231\n",
      "\n"
     ]
    },
    {
     "data": {
      "text/plain": [
       "1231"
      ]
     },
     "execution_count": 39,
     "metadata": {},
     "output_type": "execute_result"
    }
   ],
   "source": [
    "Vmeter.init('fast 4')\n",
    "IVC_udu (amp=300e-9, stp=4e-9, Gain=100, R_bias=11.2e6, Attn=1, tfsstb = 0.1)"
   ]
  },
  {
   "cell_type": "code",
   "execution_count": 47,
   "metadata": {},
   "outputs": [],
   "source": []
  }
 ],
 "metadata": {
  "anaconda-cloud": {},
  "kernelspec": {
   "display_name": "Python 3",
   "language": "python",
   "name": "python3"
  },
  "language_info": {
   "codemirror_mode": {
    "name": "ipython",
    "version": 3
   },
   "file_extension": ".py",
   "mimetype": "text/x-python",
   "name": "python",
   "nbconvert_exporter": "python",
   "pygments_lexer": "ipython3",
   "version": "3.7.4"
  },
  "latex_envs": {
   "LaTeX_envs_menu_present": true,
   "autoclose": false,
   "autocomplete": true,
   "bibliofile": "biblio.bib",
   "cite_by": "apalike",
   "current_citInitial": 1,
   "eqLabelWithNumbers": true,
   "eqNumInitial": 1,
   "hotkeys": {
    "equation": "Ctrl-E",
    "itemize": "Ctrl-I"
   },
   "labels_anchors": false,
   "latex_user_defs": false,
   "report_style_numbering": false,
   "user_envs_cfg": false
  },
  "toc": {
   "base_numbering": 1,
   "nav_menu": {},
   "number_sections": true,
   "sideBar": true,
   "skip_h1_title": false,
   "title_cell": "Table of Contents",
   "title_sidebar": "Contents",
   "toc_cell": false,
   "toc_position": {
    "height": "477px",
    "left": "120px",
    "top": "141px",
    "width": "254.313px"
   },
   "toc_section_display": true,
   "toc_window_display": true
  },
  "varInspector": {
   "cols": {
    "lenName": 16,
    "lenType": 16,
    "lenVar": 40
   },
   "kernels_config": {
    "python": {
     "delete_cmd_postfix": "",
     "delete_cmd_prefix": "del ",
     "library": "var_list.py",
     "varRefreshCmd": "print(var_dic_list())"
    },
    "r": {
     "delete_cmd_postfix": ") ",
     "delete_cmd_prefix": "rm(",
     "library": "var_list.r",
     "varRefreshCmd": "cat(var_dic_list()) "
    }
   },
   "types_to_exclude": [
    "module",
    "function",
    "builtin_function_or_method",
    "instance",
    "_Feature"
   ],
   "window_display": false
  }
 },
 "nbformat": 4,
 "nbformat_minor": 1
}
