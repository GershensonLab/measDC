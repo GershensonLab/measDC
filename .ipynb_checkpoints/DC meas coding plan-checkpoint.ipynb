{
 "cells": [
  {
   "cell_type": "markdown",
   "metadata": {},
   "source": [
    "## Library preparation"
   ]
  },
  {
   "cell_type": "code",
   "execution_count": 843,
   "metadata": {},
   "outputs": [
    {
     "name": "stdout",
     "output_type": "stream",
     "text": [
      "The autoreload extension is already loaded. To reload it, use:\n",
      "  %reload_ext autoreload\n"
     ]
    }
   ],
   "source": [
    "%load_ext autoreload\n",
    "%autoreload 2\n",
    "%matplotlib inline #notebook\n",
    "\n",
    "from IPython.display import Image, display\n",
    "from JJcalc import *\n",
    "from si_prefix import si_format\n",
    "from io import StringIO \n",
    "import pandas as pd\n",
    "import numpy as np\n",
    "import matplotlib.pyplot as plt\n",
    "\n",
    "from scipy import stats"
   ]
  },
  {
   "cell_type": "code",
   "execution_count": null,
   "metadata": {},
   "outputs": [],
   "source": [
    "import qcodes as qc\n",
    "from qcodes.dataset.database import initialise_database\n",
    "from qcodes.dataset.plotting import plot_by_id, get_data_by_id, plot_dataset"
   ]
  },
  {
   "cell_type": "markdown",
   "metadata": {},
   "source": [
    "## To Do list\n",
    "1. LS370 still crashes after around 7hrs continuous operation\n",
    "1. Make new cables\n",
    "    - Remake the I, V splitting Fisher probing line\n",
    "    - Remake ISO, COM x2 Fisher-BNC cables\n",
    "1. Maintain old sample holder\n",
    "    - Fix pin 5b\n",
    "1. Try to see if we can fix the wiring in the fridge. Currently ch 5ab open, ch 10ab short.\n",
    "1. Make new sample holder"
   ]
  },
  {
   "cell_type": "markdown",
   "metadata": {},
   "source": [
    "## Realtime data visualization"
   ]
  }
 ],
 "metadata": {
  "anaconda-cloud": {},
  "kernelspec": {
   "display_name": "Python 3",
   "language": "python",
   "name": "python3"
  },
  "language_info": {
   "codemirror_mode": {
    "name": "ipython",
    "version": 3
   },
   "file_extension": ".py",
   "mimetype": "text/x-python",
   "name": "python",
   "nbconvert_exporter": "python",
   "pygments_lexer": "ipython3",
   "version": "3.7.1"
  },
  "latex_envs": {
   "LaTeX_envs_menu_present": true,
   "autoclose": false,
   "autocomplete": true,
   "bibliofile": "biblio.bib",
   "cite_by": "apalike",
   "current_citInitial": 1,
   "eqLabelWithNumbers": true,
   "eqNumInitial": 1,
   "hotkeys": {
    "equation": "Ctrl-E",
    "itemize": "Ctrl-I"
   },
   "labels_anchors": false,
   "latex_user_defs": false,
   "report_style_numbering": false,
   "user_envs_cfg": false
  },
  "nbpresent": {
   "slides": {
    "15d0acb2-e02a-414a-af9f-95592a5c6fdd": {
     "id": "15d0acb2-e02a-414a-af9f-95592a5c6fdd",
     "prev": null,
     "regions": {
      "17e8c7af-d5f0-433e-bf9a-c9786acfb1be": {
       "attrs": {
        "height": 0.8,
        "width": 0.8,
        "x": 0.1,
        "y": 0.1
       },
       "content": {
        "cell": "06f612c4-ad7e-4bd5-8f0b-3decd73e8d8a",
        "part": "whole"
       },
       "id": "17e8c7af-d5f0-433e-bf9a-c9786acfb1be"
      }
     }
    },
    "4f4fa0de-ca1a-44c2-9098-b72d71e2ad1f": {
     "id": "4f4fa0de-ca1a-44c2-9098-b72d71e2ad1f",
     "prev": "50a40ad8-5cb1-42ea-96df-4356394bd002",
     "regions": {
      "973f7095-bbbc-400a-979e-c8fdb0ceb3b9": {
       "attrs": {
        "height": 0.8,
        "width": 0.8,
        "x": 0.1,
        "y": 0.1
       },
       "content": {
        "cell": "28382496-bb67-4ad6-b4c7-24294d96d14f",
        "part": "whole"
       },
       "id": "973f7095-bbbc-400a-979e-c8fdb0ceb3b9"
      }
     }
    },
    "50a40ad8-5cb1-42ea-96df-4356394bd002": {
     "id": "50a40ad8-5cb1-42ea-96df-4356394bd002",
     "prev": "8c1aef96-823b-4abf-86db-3e57f73a099f",
     "regions": {
      "d9702f53-a770-4007-b165-1d3f2f676eb5": {
       "attrs": {
        "height": 0.8,
        "width": 0.8,
        "x": 0.1,
        "y": 0.1
       },
       "content": {
        "cell": "2273abfd-94d1-48b3-81be-e9692a577627",
        "part": "whole"
       },
       "id": "d9702f53-a770-4007-b165-1d3f2f676eb5"
      }
     }
    },
    "8c1aef96-823b-4abf-86db-3e57f73a099f": {
     "id": "8c1aef96-823b-4abf-86db-3e57f73a099f",
     "prev": "15d0acb2-e02a-414a-af9f-95592a5c6fdd",
     "regions": {
      "9c3b8c99-6a2e-4726-9ec6-29163f2affec": {
       "attrs": {
        "height": 0.8,
        "width": 0.8,
        "x": 0.1,
        "y": 0.1
       },
       "content": {
        "cell": "b7b0691e-4105-4a24-b066-f5ff7e73f358",
        "part": "whole"
       },
       "id": "9c3b8c99-6a2e-4726-9ec6-29163f2affec"
      }
     }
    }
   },
   "themes": {}
  },
  "toc": {
   "base_numbering": 1,
   "nav_menu": {},
   "number_sections": true,
   "sideBar": true,
   "skip_h1_title": false,
   "title_cell": "Table of Contents",
   "title_sidebar": "Contents",
   "toc_cell": false,
   "toc_position": {},
   "toc_section_display": true,
   "toc_window_display": false
  },
  "varInspector": {
   "cols": {
    "lenName": 16,
    "lenType": 16,
    "lenVar": 40
   },
   "kernels_config": {
    "python": {
     "delete_cmd_postfix": "",
     "delete_cmd_prefix": "del ",
     "library": "var_list.py",
     "varRefreshCmd": "print(var_dic_list())"
    },
    "r": {
     "delete_cmd_postfix": ") ",
     "delete_cmd_prefix": "rm(",
     "library": "var_list.r",
     "varRefreshCmd": "cat(var_dic_list()) "
    }
   },
   "types_to_exclude": [
    "module",
    "function",
    "builtin_function_or_method",
    "instance",
    "_Feature"
   ],
   "window_display": false
  }
 },
 "nbformat": 4,
 "nbformat_minor": 1
}
