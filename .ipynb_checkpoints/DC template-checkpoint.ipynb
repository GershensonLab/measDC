{
 "cells": [
  {
   "cell_type": "markdown",
   "metadata": {},
   "source": [
    "# Experimental environment setup"
   ]
  },
  {
   "cell_type": "markdown",
   "metadata": {},
   "source": [
    "## Library preparation"
   ]
  },
  {
   "cell_type": "code",
   "execution_count": 4,
   "metadata": {},
   "outputs": [
    {
     "name": "stdout",
     "output_type": "stream",
     "text": [
      "The autoreload extension is already loaded. To reload it, use:\n",
      "  %reload_ext autoreload\n"
     ]
    }
   ],
   "source": [
    "%matplotlib notebook\n",
    "%load_ext autoreload\n",
    "%autoreload 2"
   ]
  },
  {
   "cell_type": "code",
   "execution_count": 5,
   "metadata": {},
   "outputs": [
    {
     "name": "stderr",
     "output_type": "stream",
     "text": [
      "C:\\Users\\KelvinOX25\\Anaconda3\\lib\\site-packages\\qcodes\\dataset\\database.py:13: UserWarning: The module `qcodes.dataset.database` is deprecated.\n",
      "Public features are available at the import of `qcodes`.\n",
      "Private features are available in `qcodes.dataset.sqlite.*` modules.\n",
      "  warnings.warn('The module `qcodes.dataset.database` is deprecated.\\n'\n"
     ]
    }
   ],
   "source": [
    "import time, os, io\n",
    "from PIL import ImageGrab\n",
    "from IPython.display import Image, display\n",
    "import clipboard\n",
    "from scipy import stats\n",
    "from si_prefix import si_format\n",
    "from tqdm import tqdm, tqdm_notebook\n",
    "\n",
    "import pandas as pd\n",
    "import numpy as np\n",
    "from io import StringIO \n",
    "import matplotlib.pyplot as plt\n",
    "from matplotlib.ticker import FormatStrFormatter\n",
    "plt.close('all')\n",
    "\n",
    "import sys \n",
    "sys.path.append('..')\n",
    "from meas_util import *\n",
    "\n",
    "import qcodes as qc\n",
    "from qcodes import Station, load_by_run_spec, load_by_guid\n",
    "from qcodes.instrument.base import Instrument\n",
    "from qcodes.dataset.experiment_container import (Experiment,\n",
    "                                                 load_last_experiment,\n",
    "                                                 new_experiment)\n",
    "from qcodes.dataset.database import initialise_database\n",
    "from qcodes.dataset.measurements import Measurement\n",
    "from qcodes.dataset.plotting import plot_by_id, get_data_by_id, plot_dataset\n",
    "from qcodes.dataset.data_set import load_by_id\n",
    "# from qcodes.dataset.data_export import get_shaped_data_by_runidb"
   ]
  },
  {
   "cell_type": "code",
   "execution_count": 6,
   "metadata": {
    "scrolled": false
   },
   "outputs": [],
   "source": [
    "from qcodes.instrument_drivers.Lakeshore.Model_372 import Model_372\n",
    "from qcodes.instrument_drivers.tektronix.AWG3252_Isrc import AWG3252_Isrc\n",
    "from qcodes.instrument_drivers.HP.HP34401 import HP34401\n",
    "from qcodes.instrument_drivers.HP.HP34401_DL1201 import HP34401_DL1201\n",
    "from qcodes.instrument_drivers.Keithley.Keithley_2600_channels import *\n",
    "from qcodes.instrument_drivers.tektronix.AWG5204_Isrc import AWG5204_Isrc"
   ]
  },
  {
   "cell_type": "code",
   "execution_count": 4,
   "metadata": {
    "scrolled": false
   },
   "outputs": [],
   "source": [
    "# #This code saves the image sources in clipboard into png file and copy a short PY code back into clipboard to display the specific png file. \n",
    "\n",
    "# import time, os\n",
    "# dir_path = os.getcwd()\n",
    "# pngpath = dir_path+\"\\\\img\\\\{}{}{}-{}{}{}.png\".format(time.localtime()[0]%100,time.localtime()[1],time.localtime()[2],time.localtime()[3],time.localtime()[4],time.localtime()[5])\n",
    "\n",
    "# from PIL import ImageGrab\n",
    "# img = ImageGrab.grabclipboard()\n",
    "# img.save(pngpath, 'PNG')\n",
    "\n",
    "# from IPython.display import Image, display\n",
    "# display(Image(filename=pngpath))\n",
    "\n",
    "# import clipboard\n",
    "# clipboard.copy('display(Image(filename=r\\'{}\\'))'.format(pngpath))"
   ]
  },
  {
   "cell_type": "code",
   "execution_count": null,
   "metadata": {},
   "outputs": [],
   "source": [
    "# display(Image(filename=r'C:\\Users\\KelvinOX25\\Documents\\GitHub\\measDC\\55B1_revist 1D chain\\img\\19113-124446.png'))"
   ]
  },
  {
   "cell_type": "markdown",
   "metadata": {},
   "source": [
    "## Instrument nicknames and QC database initialization"
   ]
  },
  {
   "cell_type": "code",
   "execution_count": 10,
   "metadata": {},
   "outputs": [
    {
     "name": "stdout",
     "output_type": "stream",
     "text": [
      "Connected to: Keithley Instruments Inc. 2602A (serial:1272049, firmware:2.1.5) in 0.12s\n",
      "Connected to: LSCI 370 (serial:370665, firmware:04102008) in 0.09s\n",
      "initialization \\\\JOSH-PC\\Gersh_Labview\\DC measurement\\LSCI 370 PYTHON_conf.vi\n",
      "Connected to: TEKTRONIX AWG5204 (serial:B020214, firmware:FV:6.0.0243.0) in 0.15s\n",
      "Instrument initialization completed.\n"
     ]
    }
   ],
   "source": [
    "try:\n",
    "   Instrument.close_all()\n",
    "except KeyError:\n",
    "   pass    \n",
    "except NameError:\n",
    "   pass \n",
    "\n",
    "K2602 =  Keithley_2600(name = 'K2602', address = \"GPIB::26::INSTR\" )\n",
    "Flux_chA = K2602.smua.curr\n",
    "Flux_chB = K2602.smub.curr\n",
    "Bfield =  Flux_chA\n",
    "Bfield.step = .1e-3\n",
    "Bfield.inter_delay = .1\n",
    "\n",
    "LS370 = Model_372(name = 'LS370 input Ch', address = 'GPIB::12::INSTR', terminator='\\n')\n",
    "T8 = LS370.ch08.temperature\n",
    "\n",
    "# htr = LS370.sample_heater\n",
    "htr = LS370htr()\n",
    "htr.Tset(0.030)\n",
    "htr.PIDset(30,5,1)\n",
    "htr.HTRset('off')\n",
    "\n",
    "# Isrc = AWG5204_Isrc('gen', 'TCPIP0::AWG52000-XXXX::inst0::INSTR', ch = 1, R_bias = 1e9, Attn = 1, timeout = 20)\n",
    "Isrc = AWG3252_Isrc('gen', 'TCPIP0::192.168.13.32::inst0::INSTR',  R_bias = 1e9, Attn = 1)\n",
    "Isrc.init()\n",
    "\n",
    "Vmeter = HP34401_DL1201('meter', 'GPIB0::8::INSTR', Gain = 100)\n",
    "Vmeter.init('fast 6')\n",
    "\n",
    "station = qc.Station(Isrc, Vmeter)\n",
    "\n",
    "print ('Instrument initialization completed.')"
   ]
  },
  {
   "cell_type": "code",
   "execution_count": 18,
   "metadata": {
    "scrolled": false
   },
   "outputs": [],
   "source": [
    "SAMPLE = '70B1N7'\n",
    "qc.config[\"core\"][\"db_location\"] = r'\\\\JOSH-PC\\OurData_OneDrive\\Experiments_{}.db'.format(SAMPLE)   \n",
    "initialise_database()"
   ]
  },
  {
   "cell_type": "markdown",
   "metadata": {},
   "source": [
    "## Fridge handling log"
   ]
  },
  {
   "cell_type": "code",
   "execution_count": 12,
   "metadata": {},
   "outputs": [
    {
     "data": {
      "text/plain": [
       "0.0391911"
      ]
     },
     "execution_count": 12,
     "metadata": {},
     "output_type": "execute_result"
    }
   ],
   "source": [
    "# action = 'User: wsLu. Sample: {}. Roughing'.format(SAMPLE)\n",
    "# action = 'ON Turbo @P1 = 6.47E-2'\n",
    "# action = 'ON PT @P1 = 8.26E-4. ON HS-STILL, HS-MC'\n",
    "# action = 'Test Cyro eff., t1hr @P1 = 3.51E-6'\n",
    "# action = 'Add exchange gas thru v3'\n",
    "# action = 'Pump coldtrap to P6 = 1.89E-1'\n",
    "# action = 'Start Pulse_PreCool @T8 = 11.56K'\n",
    "# action = 'Start Condense_wLN2'\n",
    "action = 'base T'\n",
    "# action = 'Warm up to RT'\n",
    "\n",
    "Tlst = [48, 3.7, 0.661, 0.030, 0.80]\n",
    "# Tlst = ['dont care']\n",
    "flow = '0.20'\n",
    "stillOut = '0'\n",
    "\n",
    "tAbrStr = time.asctime()\n",
    "actionStr = '\\n\\t'+action+'\\n'\n",
    "TPstr = '\\tT[1,2,5,6,8]:\\t{}\\n'.format(Tlst)\n",
    "misc = '\\tFlow = {}, \\tStill = {}%\\n\\n'.format(flow, stillOut)\n",
    "clipboard.copy(tAbrStr+actionStr+TPstr+misc)\n",
    "\n",
    "T8.get()"
   ]
  },
  {
   "cell_type": "markdown",
   "metadata": {},
   "source": [
    "Thu Nov  8 19:00:00 2019\n",
    "    warm up until T6 above 10K to collect all mixtures\n",
    "    cool back down at 23:00:00\n",
    "\n",
    "Mon Nov  4 01:28:46 2019\n",
    "\tbase T\n",
    "\tT[1,2,5,6,8]:\t[47, 3.7, 0.735, 0.0238, 0.0343]\n",
    "\tFlow = 0.58, \tStill = 15%\n",
    "\n",
    "Mon Nov  4 01:28:46 2019\n",
    "\tbase T\n",
    "\tT[1,2,5,6,8]:\t[48, 3.7, 0.661, 0.0257, 0.0352]\n",
    "\tFlow = 0.43, \tStill = 10%\n",
    "\n",
    "Mon Nov  4 00:39:03 2019\n",
    "\tChange Still to 10%, flow became 0.45\n",
    "\tT[1,2,5,6,8]:\t[48, 3.7, 0.479, 0.75, 0.75]\n",
    "\tFlow = 0.20, \tStill = 0%\n",
    "\n",
    "Sun Nov  3 22:20:04 2019\n",
    "\tStart Condense_wLN2\n",
    "\tT[1,2,5,6,8]:\t[49.6, 4.2, 5.1, 6.6, 7.75]\n",
    "\tFlow = 0.00, \tStill = 0%\n",
    "\n",
    "Sun Nov  3 19:36:08 2019\n",
    "\tStart Pulse_PreCool @T8 = 11.56K\n",
    "\tT[1,2,5,6,8]:\t[48, 4.6, 6.2, 8.6, 11.5]\n",
    "\tFlow = 0.00, \tStill = 0%\n",
    "\n",
    "Sun Nov  3 19:22:33 2019\n",
    "\tPump coldtrap to P6 = 1.89E-1\n",
    "\tT[1,2,5,6,8]:\t[48, 4.6, 6.2, 8.6, 28]\n",
    "\tFlow = 0.00, \tStill = 0%\n",
    "\n",
    "Sun Nov  3 16:20:00 2019\n",
    "\tT[1,2,5,6,8]:\t[50, 7.4, 13, 18, 28]\n",
    "\tFlow = 0.00, \tStill = 0%\n",
    "\n",
    "Sun Nov  3 12:34:05 2019\n",
    "\tPump coldtrap to P6 = 1.89E-1\n",
    "\tT[1,2,5,6,8]:\t[52, 11, 23, 31, 54]\n",
    "\tFlow = 0.00, \tStill = 0%\n",
    "\n",
    "Sun Nov  3 09:13:20 2019\n",
    "\tTest Cyro eff., t1hr @P1 = 3.51E-6\n",
    "\tT[1,2,5,6,8]:\t[60, 15, 37, 40, 102]\n",
    "\tFlow = 0.00, \tStill = 0%\n",
    "\n",
    "Sun Nov  3 08:00:15 2019\n",
    "\tAdd exchange gas thru v3\n",
    "\tT[1,2,5,6,8]:\t[60, 15, 37, 40, 102]\n",
    "\tFlow = 0.00, \tStill = 0%\n",
    "\n",
    "Sat Nov  2 18:57:35 2019\n",
    "\tON PT @P1 = 8.26E-4. ON HS-STILL, HS-MC\n",
    "\tT[1,2,5,6,8]:\t['dont care']\n",
    "\tFlow = 0.00, \tStill = 0%\n",
    "\n",
    "Sat Nov  2 16:38:01 2019\n",
    "\tON Turbo @P1 = 6.47E-2\n",
    "\tT[1,2,5,6,8]:\t['dont care']\n",
    "\tFlow = 0.00, \tStill = 0%\n",
    "\n",
    "Sat Nov  2 12:30:00 2019\n",
    "\tUser: wsLu. Sample: Q1D070B1. Roughing\n",
    "\tT[1,2,5,6,8]:\t['dont care']\n",
    "\tFlow = 0.00, \tStill = 0%\n",
    "\n"
   ]
  },
  {
   "cell_type": "markdown",
   "metadata": {},
   "source": [
    "## Scripts"
   ]
  },
  {
   "cell_type": "markdown",
   "metadata": {},
   "source": [
    "### Measurement scripts"
   ]
  },
  {
   "cell_type": "code",
   "execution_count": 12,
   "metadata": {},
   "outputs": [],
   "source": [
    "def uduFF_list(amp1=240e-12, amp2=2000e-12, stp1=2e-12, stp2=80e-12):\n",
    "\n",
    "    i_list_uf = np.linspace(0, amp1, round (amp1/stp1) + 1)\n",
    "    i_list_uc = np.linspace(amp1, amp2, round ((amp2-amp1)/stp2) + 1)\n",
    "    i_list = np.append(i_list_uf, i_list_uc)\n",
    "\n",
    "    i_list_d = [np.linspace(amp2, amp1, round ((amp2-amp1)/stp2) + 1),\n",
    "                np.linspace(amp1, 0, round (amp1/stp1) + 1),\n",
    "                np.linspace(0, -1*amp1, round (amp1/stp1) + 1),\n",
    "                np.linspace(-1*amp1, -1*amp2, round ((amp2-amp1)/stp2) + 1)]\n",
    "    for lst in i_list_d:\n",
    "        i_list = np.append(i_list, lst)\n",
    "\n",
    "    i_list_ucn = np.linspace(-1*amp2, -1*amp1, round ((amp2-amp1)/stp2) + 1)\n",
    "    i_list_ufn = np.linspace(-1*amp1, 0, round (amp1/stp1) + 1)\n",
    "    i_list = np.append(i_list, i_list_ucn)\n",
    "    i_list = np.append(i_list, i_list_ufn)\n",
    "\n",
    "    return i_list"
   ]
  },
  {
   "cell_type": "code",
   "execution_count": 4,
   "metadata": {},
   "outputs": [],
   "source": [
    "def setup():\n",
    "    Isrc.I.set(0)\n",
    "\n",
    "def cleanup():\n",
    "    Isrc.I.set(0) \n",
    "    Bfield.set(0)"
   ]
  },
  {
   "cell_type": "code",
   "execution_count": 5,
   "metadata": {},
   "outputs": [],
   "source": [
    "def IVC_udu (amp, stp, Gain, R_bias, Attn, tfsstb = 0.1):\n",
    "    \n",
    "    meas = set_meas(Vmeter.V, Isrc.I, setup = setup, cleanup = cleanup)\n",
    "\n",
    "    Vmeter.set_Gain ( Gain )\n",
    "    Isrc.set_R_Attn ( R_bias, Attn )\n",
    "    \n",
    "    i_list = udu_list(amp, stp)\n",
    "    ti_list = tqdm_notebook(i_list)\n",
    "\n",
    "    name_exp(sample = SAMPLE, exp_type = 'tst IVC 5204 line @T={}K, B={}A'.format(si_format(T8.get()), si_format(Bfield.get(), precision = 3)))\n",
    "    with meas.run() as datasaver:\n",
    "        for i in ti_list:\n",
    "            \n",
    "            Isrc.I.set(i)\n",
    "            time.sleep(tfsstb)\n",
    "            V = Vmeter.V.get()\n",
    "\n",
    "            res = [( Isrc.I, i ), ( Vmeter.V, V )]\n",
    "            datasaver.add_result(*res) \n",
    "\n",
    "    cleanup()\n",
    "    return datasaver.run_id "
   ]
  },
  {
   "cell_type": "code",
   "execution_count": 7,
   "metadata": {},
   "outputs": [],
   "source": [
    "def Bperiod_meas (amp=1e-9, Gain=100, R_bias=1e9, Attn=1, B_list = [0]):\n",
    "\n",
    "    meas = set_meas(Vmeter.V, Bfield, setup = setup, cleanup = cleanup)\n",
    "    Vmeter.set_Gain (Gain = Gain) \n",
    "    Isrc.set_R_Attn (R_bias = R_bias, Attn=Attn)\n",
    "\n",
    "    tB_list = tqdm_notebook(B_list)\n",
    "\n",
    "    name_exp(sample = SAMPLE, exp_type = 'B periodicity @T={}K, Ib={}A'.format(si_format(T8.get()), si_format(amp, precision=0)))\n",
    "    with meas.run() as datasaver:\n",
    "\n",
    "        Isrc.I.set(amp)\n",
    "        for B in tB_list:\n",
    "\n",
    "            Bfield.set(B)\n",
    "            time.sleep(0.5)\n",
    "            V = Vmeter.V.get()\n",
    "            volt = [( Bfield, B ), ( Vmeter.V, V )]\n",
    "\n",
    "            datasaver.add_result(*volt) \n",
    "\n",
    "    cleanup()\n",
    "    return datasaver.run_id "
   ]
  },
  {
   "cell_type": "code",
   "execution_count": 8,
   "metadata": {},
   "outputs": [],
   "source": [
    "def Ic_meas (amp, stp, thr, Gain, R_bias, Attn, tfsstb = 0.1):\n",
    "\n",
    "    meas = set_meas(Vmeter.V, Isrc.I, setup = setup, cleanup = cleanup)\n",
    "    Vmeter.set_Gain (Gain) \n",
    "    Isrc.set_R_Attn (R_bias, Attn)\n",
    "    \n",
    "    i_list_u = np.linspace(0,  amp,  round (amp/stp) + 1)\n",
    "    ti_list_u = tqdm_notebook(i_list_u)\n",
    "    i_list_d = np.linspace(0, -amp,  round (amp/stp) + 1)    \n",
    "    ti_list_d = tqdm_notebook(i_list_d)\n",
    "    ti_lists = [ ti_list_u ,  ti_list_d]\n",
    "    \n",
    "    name_exp(sample = SAMPLE, exp_type = 'sc branch @T={}K, B={}A'.format(si_format(T8.get()), si_format(B, precision = 3)))\n",
    "    with meas.run() as datasaver:\n",
    "        for ti_list in ti_lists:\n",
    "            \n",
    "            Isrc.I.set(0)\n",
    "            V_ = Vmeter.V.get()            \n",
    "            time.sleep(1)\n",
    "            \n",
    "            for i in ti_list:\n",
    "            \n",
    "                Isrc.I.set(i)\n",
    "                time.sleep(tfsstb)\n",
    "\n",
    "                V = Vmeter.V.get()\n",
    "                dV = V - V_\n",
    "                V_ = V \n",
    "                \n",
    "                if (abs(dV) > thr)  or (abs(V) > 4e-3 ) : #\n",
    "                    break\n",
    "\n",
    "                res = [( Isrc.I, i ), ( Vmeter.V, V )]\n",
    "                datasaver.add_result(*res) \n",
    "    cleanup()\n",
    "    return datasaver.run_id "
   ]
  },
  {
   "cell_type": "code",
   "execution_count": 9,
   "metadata": {},
   "outputs": [],
   "source": [
    "def IVcB_meas (i_list, B_list, thr=1e-3, Gain=100, R_bias=1e9, Attn=1, tfsstb = 0.1):\n",
    "\n",
    "    Vmeter.set_Gain (Gain = Gain) \n",
    "    Isrc.set_R_Attn (R_bias = R_bias, Attn=Attn)\n",
    "\n",
    "    i_lists = [i_list]\n",
    "    \n",
    "    meas = set_meas(Vmeter.V, Isrc.I,setup = setup, cleanup = cleanup)\n",
    "    tB_list = tqdm_notebook(B_list)\n",
    "    for B in tB_list:\n",
    "\n",
    "        name_exp(sample = SAMPLE, exp_type = 'full IVc(B) @T={}K, B={}A'.format(si_format(T8.get()), si_format(B, precision =3)))\n",
    "        with meas.run() as datasaver:\n",
    "\n",
    "            Bfield.set(B)\n",
    "            for i_list in i_lists:\n",
    "\n",
    "                Isrc.I.set(0)\n",
    "                V_ = Vmeter.V.get()\n",
    "                time.sleep(1)\n",
    "\n",
    "                for i in i_list:\n",
    "\n",
    "                    Isrc.I.set(i)\n",
    "                    time.sleep(tfsstb)\n",
    "\n",
    "                    V = Vmeter.V.get()\n",
    "                    dV = V - V_\n",
    "                    V_ = V\n",
    "\n",
    "                    if  (abs(V) > 6.4e-3) : #(abs(dV) > thr)  or\n",
    "                        break\n",
    "                            \n",
    "\n",
    "                    res = [( Isrc.I, i ), ( Vmeter.V, V )]\n",
    "                    datasaver.add_result(*res) \n",
    "    cleanup()\n",
    "    return datasaver.run_id "
   ]
  },
  {
   "cell_type": "code",
   "execution_count": 62,
   "metadata": {},
   "outputs": [],
   "source": [
    "# adaptive step size with while loop\n",
    "def IVcB_ada(npts_B = 51, tfsstb = 0.1):\n",
    "    ZF =  0.004e-3\n",
    "    FF =  0.224e-3\n",
    "    dF =  0.250e-3\n",
    "    midF = 0.154e-3\n",
    "\n",
    "    maxI = 3e-9\n",
    "    step_ff = 2e-12\n",
    "    step_f = 10e-12\n",
    "    step_c = 200e-12\n",
    "\n",
    "    thr = 3e-3\n",
    "\n",
    "    B_list = np.linspace(ZF, ZF + 1.0*dF, npts_B)\n",
    "    tB_list = tqdm_notebook(B_list)\n",
    "\n",
    "    Vmeter.set_Gain (Gain = 100) \n",
    "    Isrc.set_R_Attn (R_bias = 1e9, Attn=1)\n",
    "\n",
    "    for B in tB_list:\n",
    "        meas = set_meas(Vmeter.V, Isrc.I, setup = setup, cleanup = cleanup)\n",
    "\n",
    "        name_exp(sample = SAMPLE, exp_type = 'Bscan IVC @T ={:2.1f}mK, B = {}A'.format(T8.get()/1e-3, si_format(B)) )  \n",
    "        with meas.run() as datasaver:\n",
    "\n",
    "                Bfield.set(B)\n",
    "\n",
    "                for pm in [1, -1]:\n",
    "\n",
    "                    i = 22.5e-12\n",
    "\n",
    "                    Isrc.I.set(i)\n",
    "                    time.sleep(1)\n",
    "                    V_off = Vmeter.V.get()\n",
    "                    V_ = V_off\n",
    "                    time.sleep(1)\n",
    "\n",
    "                    if B < midF:\n",
    "                        step = step_f\n",
    "                    else:\n",
    "                        step = step_ff\n",
    "\n",
    "                    while abs(i) < maxI:\n",
    "\n",
    "                        Isrc.I.set(i)\n",
    "                        time.sleep(tfsstb)\n",
    "\n",
    "                        V = Vmeter.V.get()\n",
    "                        dV = V - V_\n",
    "                        V_ = V\n",
    "\n",
    "                        res = [( Isrc.I, i - 22.5e-12 ), ( Vmeter.V, V  )]\n",
    "\n",
    "                        datasaver.add_result(*res) \n",
    "\n",
    "                        if (abs(dV) > thr)  or (abs(V - V_off) > 4e-3 ) : #\n",
    "                            step = step_c\n",
    "\n",
    "                        i += pm*step\n",
    "\n",
    "    cleanup()\n",
    "    return datasaver.run_id "
   ]
  },
  {
   "cell_type": "code",
   "execution_count": null,
   "metadata": {},
   "outputs": [],
   "source": [
    "# Use this code for T-dependent tasks\n",
    "# Using PID 30,5,1 & htr range 10mA for T8 upto 550mK\n",
    "setT8_lst = np.linspace(0.290, 0.550, 1+3*5+1-3) \n",
    "\n",
    "tolerT8 = 0.02\n",
    "chkrepeat = 20\n",
    "chkperiod_sec = 2\n",
    "\n",
    "Tnow_alllst = []\n",
    "timer_lst = []\n",
    "\n",
    "for setT8 in setT8_lst:\n",
    "#     htr.setpoint(setT8)\n",
    "    htr.Tset(setT8)\n",
    "    print('ramping T8 to {}K...'.format(si_format(setT8)))\n",
    "    time.sleep(30)\n",
    "    Tnow_lst = []\n",
    "\n",
    "    t0 = time.time()\n",
    "    count_T = 0\n",
    "    while count_T < chkrepeat:\n",
    "        T_now = T8.get()\n",
    "        if (1-tolerT8)*setT8 <= T_now <= (1+tolerT8)*setT8 :\n",
    "            count_T +=1\n",
    "            Tnow_lst.append(T_now)\n",
    "            time.sleep(chkperiod_sec)\n",
    "        elif count_T >= 1 :\n",
    "            count_T -=1\n",
    "    t1 = time.time()\n",
    "    \n",
    "    timer_lst.append(t1-t0)\n",
    "    Tnow_alllst.append(Tnow_lst)\n",
    "\n",
    "    IVcB_ada(51) # insert here the repeatative work to be done at each T\n",
    "\n",
    "# htr.setpoint(0.030)\n",
    "htr.Tset(0.030)"
   ]
  },
  {
   "cell_type": "markdown",
   "metadata": {},
   "source": [
    "### Data processing scripts"
   ]
  },
  {
   "cell_type": "code",
   "execution_count": 330,
   "metadata": {},
   "outputs": [],
   "source": [
    "def extract_Isw_R0 (Is,Vs):\n",
    "\n",
    "    Isw = (np.max(Is) - np.min(Is) ) /2\n",
    "\n",
    "    order = Is.argsort()        \n",
    "    Is, Vs = Is[order], Vs[order]\n",
    "    n = len(Is)\n",
    "    n_min, n_max = np.int(n/3), np.int(2*n/3)        \n",
    "    n_sl = slice(n_min, n_max)\n",
    "\n",
    "    R0 = np.mean(np.diff(Vs[n_sl])) / np.mean(np.diff(Is[n_sl]))        \n",
    "    return Isw, R0\n",
    "\n",
    "def extract_Isw_R0_by_id (idx):\n",
    "    \n",
    "    alldata = get_data_by_id(idx)\n",
    "    \n",
    "    Is = alldata[0][0]['data']\n",
    "    Vs = alldata[0][1]['data']\n",
    "        \n",
    "    return extract_Isw_R0 (Is,Vs)"
   ]
  },
  {
   "cell_type": "code",
   "execution_count": 13,
   "metadata": {},
   "outputs": [],
   "source": [
    "def databyid (run_id: int, **kwargs):\n",
    "    from qcodes.dataset.data_set import load_by_id\n",
    "\n",
    "    dataset = load_by_id(run_id)\n",
    "    title = f\"#{run_id}, Exp {dataset.exp_name} ({dataset.sample_name})\"\n",
    "    alldata = get_data_by_id(run_id)\n",
    "    \n",
    "    return ({'title':title, 'alldata':alldata})\n",
    "\n",
    "def DFMbyid(run_id: int):\n",
    "    data = databyid(run_id)\n",
    "    DTF = {data['alldata'][0][0]['name'] : pd.Series(data['alldata'][0][0]['data'], index = np.arange(len(data['alldata'][0][0]['data']))), \n",
    "           data['alldata'][0][1]['name'] : pd.Series(data['alldata'][0][1]['data'], index = np.arange(len(data['alldata'][0][0]['data'])))} \n",
    "    DTF = pd.DataFrame(DTF)\n",
    "    return DTF\n",
    "\n",
    "def dataread (filename, splitkw = '!DATASTR!'):\n",
    "    with open(filename,'r') as file:\n",
    "        rawtxt = file.read()\n",
    "        splittxt = rawtxt.split(splitkw)    \n",
    "    return(splittxt)\n",
    "\n",
    "def filetoDFM (filename):\n",
    "    datatxt = dataread(filename = filename)\n",
    "    datastr = io.StringIO(datatxt[1])\n",
    "    DataFM = pd.read_csv(datastr, sep = '\\t')\n",
    "    DataFM = DataFM.drop(DataFM.index[0])\n",
    "    DataFM = DataFM.astype(float)\n",
    "    return(DataFM, datatxt[0])\n",
    "\n",
    "def pltMaxMin(lst, pMF = 1.1):\n",
    "    pMin = lst.mean()-pMF*(lst.max()-lst.min())/2\n",
    "    pMax = lst.mean()+pMF*(lst.max()-lst.min())/2\n",
    "    pPos = (lst.mean()-lst.min())*pMF+lst.min()\n",
    "    return(pMin,pMax,pPos)"
   ]
  },
  {
   "cell_type": "code",
   "execution_count": null,
   "metadata": {},
   "outputs": [],
   "source": [
    "# Quick visualization of the results\n",
    "\n",
    "qc.config[\"core\"][\"db_location\"] = r'\\\\JOSH-PC\\OurData_OneDrive\\Experiments_{}.db'.format('70B1N7')\n",
    "initialise_database()\n",
    "f,ax=plt.subplots()\n",
    "\n",
    "label = ['a',\n",
    "         'b',\n",
    "         'v',\n",
    "         'meas on Nov 11th']\n",
    "\n",
    "for i,v in enumerate([105, 971,1092,1095]):\n",
    "    data = get_data_by_id(v)\n",
    "    Is = data[0][0]['data']\n",
    "    Vs = data[0][1]['data']\n",
    "    ax.plot(Is, Vs, '.', ls='-',label = '{}'.format(label[i]))\n",
    "\n",
    "ax.legend()"
   ]
  },
  {
   "cell_type": "markdown",
   "metadata": {},
   "source": [
    "## Devices"
   ]
  },
  {
   "cell_type": "markdown",
   "metadata": {},
   "source": [
    "### Device detail\n",
    "\n",
    "- ID: Q1D070B1 (aka \"001\" on the chip corner)\n",
    "- Pre-experiment electrical performance\n",
    " - N3: (2ba,1ba), $R_{RT, 4pb} = 165k\\Omega$ This device was connected w/ **$200k\\Omega$ by-passed**.\n",
    " - N5: (8ab,12ba), $R_{RT, 4pb} = 226k\\Omega$, General check for $30k\\Omega/JJ$\n",
    " - N7: (3ba,4ba), $R_{RT, 4pb} = 83k\\Omega$, **This device is for P(E) theory**\n",
    " - N0: (6ab,7ab), $R_{RT, 4pb} = 160k\\Omega$, To compare w/ N3\n",
    "\n",
    "\n",
    " - $R_{G, 2pb}$ = OVFL on all devices\n",
    " - $R_{coil} = 1.24k\\Omega$\n",
    " - $R_{therm} = 1.056k\\Omega$\n",
    "\n",
    "\n",
    "- Device scheme\n",
    " - Type: 1D chain with 16 SQUIDs, pentagon capacitors with larger spacing to accomodate larger junction area design.\n",
    " - Shunting capacitor C0: No Pt yet.\n",
    " - C0 area: \n",
    " - SQUID area: \n",
    " - Junction area:\n",
    " - Oxidation: 169 torr, 10+4min (by Plamen) (A 20x, ox 140x, w>>2.5um x 2.5um)"
   ]
  },
  {
   "cell_type": "markdown",
   "metadata": {},
   "source": [
    "### Biasing scheme"
   ]
  },
  {
   "cell_type": "code",
   "execution_count": 20,
   "metadata": {
    "scrolled": false
   },
   "outputs": [
    {
     "data": {
      "image/png": "[encoded data removed]",
      "text/plain": [
       "<IPython.core.display.Image object>"
      ]
     },
     "metadata": {},
     "output_type": "display_data"
    }
   ],
   "source": [
    "display(Image(filename=r'C:\\Users\\KelvinOX25\\Documents\\GitHub\\DC meas\\img\\191026-183349.png'))"
   ]
  },
  {
   "cell_type": "markdown",
   "metadata": {
    "collapsed": true
   },
   "source": [
    "### Device quick overview"
   ]
  },
  {
   "cell_type": "markdown",
   "metadata": {},
   "source": [
    "N3 **(low Z_env)**\n",
    "RN=165E3/8, JJwidthUM=sqrt(0.2205*.17325), metalTHK=250E-10, Tc=1.34\n",
    "[RN_JJ (kohm), Rs_JJ (kohm-um^2)] = [20.625, 0.98947]\n",
    "[I_AB (nA), EJ (mK)] = [15.51322, 369.78959]\n",
    "[C_JJQP (fF), EC (mK)] = [1.91008, 486.6938]\n",
    "[C0 (fF), EC0 (mK)] = [463.10944, 2.00735]\n",
    "[Freq_plasma (GHz))] = [1.60569]\n",
    "[Q, Beta, EJ/EC] = [96.4, 9286.2, 184.2]\n",
    "\n",
    "RRR(RT/10K) = 0.874"
   ]
  },
  {
   "cell_type": "code",
   "execution_count": 1,
   "metadata": {
    "scrolled": false
   },
   "outputs": [],
   "source": [
    "# display(Image(filename=r'\\\\JOSH-PC\\OurData_OneDrive\\img\\70B1\\N3.jpg'))"
   ]
  },
  {
   "cell_type": "code",
   "execution_count": 59,
   "metadata": {},
   "outputs": [],
   "source": [
    "# N3\n",
    "# qckplt(r'\\\\JOSH-PC\\OurData\\wsLu\\RawData\\DC\\191102-70N3_IV300K-124250.txt')"
   ]
  },
  {
   "cell_type": "markdown",
   "metadata": {},
   "source": [
    "## Measurement"
   ]
  },
  {
   "cell_type": "markdown",
   "metadata": {},
   "source": [
    "### List of run_ids"
   ]
  },
  {
   "cell_type": "markdown",
   "metadata": {},
   "source": [
    "#012-084: fussing around IVcB periodicity\n",
    "#084-104: fussing around IVcB periodicity, part B\n",
    "#105-205: BT = 40mK\n",
    "#208-292: BT = 50mK, Blist = np.linspace(ZF,Zf = dFx1.1,101)[:-20] \n",
    "#296-346:  70mK, Blist = np.linspace(0,2e-3,51)\n",
    "#450-500: 110mK, Blist = np.linspace(0,2e-3,51)\n",
    "#501-551: 130mK, Blist = np.linspace(0,2e-3,51)\n",
    "\n",
    "old\n",
    "#073-173: IVC for T=45mK, Blist = np.linspace(0,2e-3,101), Vthr = 4mV\n",
    "#174-228: IVC for T=45mK, Blist = np.linspace(0,2e-3,51), Vthr = 8mV\n",
    "#229,230: Full IVC for T=80mK, Blist = [ZF,FF]\n",
    "#231,232: Full IVC for T=100mK, Blist = [ZF,FF]\n",
    "#233,234: Full IVC for T=125mK, Blist = [ZF,FF]\n",
    "#236,237: Full IVC for T=150mK, Blist = [ZF,FF]\n",
    "#238,239: Full IVC for T=175mK, Blist = [ZF,FF]\n",
    "#246-297: IVC for T=200mK, Blist = np.linspace(0e-3, 2e-3, 51), Vthr = 4mV\n",
    "#300-305: Full IVC for T=200mK, Blist = np.linspace(1e-3, 2e-3, 6), Vthr = 8mV\n",
    "#306-356: IVC for T=300mK, Blist = np.linspace(0e-3, 2e-3, 51), Vthr = 4mV\n",
    "#357-359: check full frustration periodicity\n",
    "#360-410: IVC for T=350mK, Blist = np.linspace(0e-3, 2e-3, 51), Vthr = 4mV\n",
    "#411-421: Full IVC for T=350mK, Blist = np.linspace(1e-3, 2e-3, 11), Vthr = 8mV\n",
    "#422-432: Full IVC for T=400mK, Blist = np.linspace(1e-3, 2e-3, 11), Vthr = 8mV\n",
    "\n"
   ]
  },
  {
   "cell_type": "code",
   "execution_count": 156,
   "metadata": {},
   "outputs": [],
   "source": [
    "\n",
    "dF = 0.250e-3\n",
    "midF = 0.154e-3\n",
    "\n",
    "\n",
    "keys  = ['ids',                  'T',          'B',                                          'Vthr']\n",
    "valss = [[range(105, 205+1)[:],   45e-3,       np.linspace(ZF, ZF + 1.1*dF, 101)[:],         4e-3],\n",
    "         [range(208, 292+1)[:],   50e-3,       np.linspace(ZF, ZF + 1.1*dF, 101)[:-16],      4e-3]\n",
    "         [range(296, 346+1)[:],   70e-3,       np.linspace(ZF, ZF + 1.0*dF, 51) ,            4e-3],\n",
    "         [range(347, 397+1)[:],   90e-3,       np.linspace(ZF, ZF + 1.0*dF, 51) ,            4e-3],\n",
    "         [range(398, 448+1)[:],  110e-3,       np.linspace(ZF, ZF + 1.0*dF, 51) ,            4e-3],\n",
    "         [range(450, 500+1)[:],  110e-3,       np.linspace(ZF, ZF + 1.0*dF, 51) ,            3e-3],\n",
    "         [range(501, 551+1)[:],  130e-3,       np.linspace(ZF, ZF + 1.0*dF, 51) ,            3e-3],\n",
    "         [range(552, 602+1)[:],  150e-3,       np.linspace(ZF, ZF + 1.0*dF, 51) ,            3e-3],\n",
    "         [range(603, 653+1)[:],  170e-3,       np.linspace(ZF, ZF + 1.0*dF, 51) ,            3e-3],\n",
    "         [range(654, 704+1)[:],  190e-3,       np.linspace(ZF, ZF + 1.0*dF, 51) ,            3e-3],\n",
    "         [range(705, 755+1)[:],  210e-3,       np.linspace(ZF, ZF + 1.0*dF, 51) ,            3e-3],\n",
    "         [range(758, 808+1)[:],  230e-3,       np.linspace(ZF, ZF + 1.0*dF, 51) ,            3e-3],\n",
    "         \n",
    "\n",
    "        ]  \n",
    "        \n",
    "\n",
    "ZF =  0.004e-3\n",
    "FF =  0.224e-3\n",
    "    \n",
    "exps = [{ key : val for key, val in zip(keys, vals)  }  for vals in valss ]"
   ]
  },
  {
   "cell_type": "markdown",
   "metadata": {},
   "source": [
    "### Plans and list of ToDo-es"
   ]
  },
  {
   "cell_type": "markdown",
   "metadata": {},
   "source": [
    "**Plan**\n",
    "- \n",
    "- \n",
    "\n",
    "\n",
    "**Selected meas to be done**\n",
    "- \n",
    "- "
   ]
  },
  {
   "cell_type": "markdown",
   "metadata": {},
   "source": [
    "## Key observations"
   ]
  },
  {
   "cell_type": "markdown",
   "metadata": {},
   "source": [
    "## Brief summary"
   ]
  }
 ],
 "metadata": {
  "anaconda-cloud": {},
  "kernelspec": {
   "display_name": "Python 3",
   "language": "python",
   "name": "python3"
  },
  "language_info": {
   "codemirror_mode": {
    "name": "ipython",
    "version": 3
   },
   "file_extension": ".py",
   "mimetype": "text/x-python",
   "name": "python",
   "nbconvert_exporter": "python",
   "pygments_lexer": "ipython3",
   "version": "3.7.4"
  }
 },
 "nbformat": 4,
 "nbformat_minor": 1
}
