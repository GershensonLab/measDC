{
 "cells": [
  {
   "cell_type": "code",
   "execution_count": 3,
   "metadata": {},
   "outputs": [],
   "source": [
    "from datetime import datetime\n",
    "import clipboard"
   ]
  },
  {
   "cell_type": "code",
   "execution_count": 11,
   "metadata": {},
   "outputs": [
    {
     "name": "stdout",
     "output_type": "stream",
     "text": [
      "select strings to copy:\n",
      "1: ON turbo @ P1 = E-1\n",
      "   Start roughing\n",
      "   sample  mounted\n",
      "   user WSLU start the log\n",
      "2: ON turbo @ P1 = E-1\n",
      "3: ON PT @P1 = E-3\n",
      "   ON HS-STILL, HS-MC\n",
      "4: Add exchange gas through V3\n",
      "5: Test cryo eff: t0 @P1=E-6, t10min @P1=e-6\n",
      "   OFF turbo\n",
      "6: Pump cold trap to P6 = E-1\n",
      "7: Open manual valve\n",
      "8: start Pulse_PreCool\n",
      "9: start Condense_wLN2\n",
      "0: T1=K, T2=K, T5=K, T6=K, T8=K, FLOW=mmol/s.\n",
      "1\n"
     ]
    }
   ],
   "source": [
    "print('select strings to copy:')\n",
    "print('1: ON turbo @ P1 = E-1\\n   Start roughing\\n   sample  mounted\\n   user WSLU start the log')\n",
    "print('2: ON turbo @ P1 = E-1')\n",
    "print('3: ON PT @P1 = E-3\\n   ON HS-STILL, HS-MC')\n",
    "print('4: Add exchange gas through V3')\n",
    "print('5: Test cryo eff: t0 @P1=E-6, t10min @P1=e-6\\n   OFF turbo')\n",
    "print('6: Pump cold trap to P6 = E-1')\n",
    "print('7: Open manual valve')\n",
    "print('8: start Pulse_PreCool')\n",
    "print('9: start Condense_wLN2')\n",
    "print('0: T1=K, T2=K, T5=K, T6=K, T8=K, FLOW=mmol/s.')\n",
    "act = input()\n",
    "if act == '1':\n",
    "    copystr = 'Start roughing\\n- sample  mounted\\n- user WSLU start the log'\n",
    "elif act == '2':\n",
    "    copystr = 'ON turbo @ P1 = E-1'\n",
    "elif act == '3':\n",
    "    copystr = 'ON PT @P1 = E-3\\n- ON HS-STILL, HS-MC'\n",
    "elif act == '4':\n",
    "    copystr = 'Add exchange gas through V3'\n",
    "elif act == '5':\n",
    "    copystr = 'Test cryo eff: t0 @P1=E-6, t10min @P1=e-6\\n- OFF turbo'\n",
    "elif act == '6':\n",
    "    copystr = 'Pump cold trap to P6 =E-1'\n",
    "elif act == '7':\n",
    "    copystr = 'Open manual valve'\n",
    "elif act == '8':\n",
    "    copystr = 'start Pulse_PreCool'\n",
    "elif act == '9':\n",
    "    copystr = 'start Condense_wLN2'\n",
    "elif act == '0':\n",
    "    copystr = 'T1= K, T2= K, T5= K, T6= K, T8= K, FLOW= mmol/s, still= %'\n",
    "else:\n",
    "    copystr = act\n",
    "    \n",
    "clipboard.copy(datetime.now().strftime(\"%H:%M %m/%d/%Y\\n- \" + copystr))"
   ]
  },
  {
   "cell_type": "markdown",
   "metadata": {},
   "source": [
    "# 2020/01/23"
   ]
  },
  {
   "cell_type": "markdown",
   "metadata": {},
   "source": [
    "## Purpose of cooldown"
   ]
  },
  {
   "cell_type": "markdown",
   "metadata": {},
   "source": [
    "- Check meander and coupler for qubits\n",
    "- check our ultimate large area low transparency 1D chain device for MBL"
   ]
  },
  {
   "cell_type": "markdown",
   "metadata": {},
   "source": [
    "## Device lists, pin assignment, and electrical checks at room T"
   ]
  },
  {
   "cell_type": "markdown",
   "metadata": {},
   "source": [
    "- Q097MD: 1ab,2ba. 590kohm, 1.46Mohm.\n",
    "- Q097HB: 3ab,4ab. 6kohm, 7kohm.\n",
    "- D078N5: 6ab,9ba. 16kohm, 16kohm.\n",
    "- D078N6: 7ab,8ab. 244kohm, 244kohm.\n",
    "- D078N0: 11ab,12ab. 237kohm, 238kohm.\n",
    "- Magnet: 1.23kohm\n",
    "- Thermometer: 1.02kohm"
   ]
  },
  {
   "cell_type": "markdown",
   "metadata": {},
   "source": [
    "## Fridge handling log"
   ]
  },
  {
   "cell_type": "markdown",
   "metadata": {},
   "source": [
    "10:20 01/25/2020\n",
    "- T1=49.1K, T2=3.66K, T5=549mK, T6=32.8K, T8=38.2mK, FLOW= 0.16mmol/s, still= 0%"
   ]
  },
  {
   "cell_type": "markdown",
   "metadata": {},
   "source": [
    "08:12 01/25/2020\n",
    "- T1= 49K, T2= 3.68K, T5= 549mK, T6= 35.8mK, T8= K, FLOW= 0.16mmol/s, still= 0%"
   ]
  },
  {
   "cell_type": "markdown",
   "metadata": {},
   "source": [
    "23:13 01/24/2020\n",
    "- start Condense_wLN2\n",
    "\n",
    "20:00 01/24/2020\n",
    "- start Pulse_PreCool"
   ]
  },
  {
   "cell_type": "markdown",
   "metadata": {},
   "source": [
    "10:55 01/24/2020\n",
    "- T1=65K, T2=15.2K, T5=36, T6=39K, T8=84K, FLOW=0.00mmol/s.\n",
    "\n",
    "10:52 01/24/2020\n",
    "- Test cryo eff: t0 @P1=1.81E-6, t10min @P1=e-6\n",
    "- OFF turbo"
   ]
  },
  {
   "cell_type": "markdown",
   "metadata": {},
   "source": [
    "10:52 01/24/2020\n",
    "- Add exchange gas through V3"
   ]
  },
  {
   "cell_type": "markdown",
   "metadata": {},
   "source": [
    "21:03 01/23/2020\n",
    "- ON PT @P1 = 1.99E-3\n",
    "- ON HS-STILL, HS-MC"
   ]
  },
  {
   "cell_type": "markdown",
   "metadata": {},
   "source": [
    "19:30 01/23/2020\n",
    "- ON turbo @ P1 = 1.7E-1"
   ]
  },
  {
   "cell_type": "markdown",
   "metadata": {},
   "source": [
    "17:30 01/23/2020\n",
    "- Start roughing\n",
    "- sample Q097, D078 mounted\n",
    "- user WSLU start the log"
   ]
  }
 ],
 "metadata": {
  "kernelspec": {
   "display_name": "Python 3",
   "language": "python",
   "name": "python3"
  },
  "language_info": {
   "codemirror_mode": {
    "name": "ipython",
    "version": 3
   },
   "file_extension": ".py",
   "mimetype": "text/x-python",
   "name": "python",
   "nbconvert_exporter": "python",
   "pygments_lexer": "ipython3",
   "version": "3.7.4"
  },
  "toc": {
   "base_numbering": 1,
   "nav_menu": {},
   "number_sections": true,
   "sideBar": true,
   "skip_h1_title": false,
   "title_cell": "Table of Contents",
   "title_sidebar": "Contents",
   "toc_cell": false,
   "toc_position": {},
   "toc_section_display": true,
   "toc_window_display": false
  }
 },
 "nbformat": 4,
 "nbformat_minor": 2
}
